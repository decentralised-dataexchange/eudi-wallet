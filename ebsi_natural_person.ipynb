{
 "cells": [
  {
   "cell_type": "markdown",
   "metadata": {},
   "source": [
    "# EBSI Wallet Conformance (Natural Person)"
   ]
  },
  {
   "cell_type": "markdown",
   "metadata": {},
   "source": [
    "> EBSI v2 DID for Natural Person(s) is introduced. "
   ]
  },
  {
   "cell_type": "markdown",
   "metadata": {},
   "source": [
    "## Setup conformance headers"
   ]
  },
  {
   "cell_type": "code",
   "execution_count": 1,
   "metadata": {},
   "outputs": [],
   "source": [
    "import uuid\n",
    "import asyncio\n",
    "from rich.console import Console\n",
    "\n",
    "console = Console()\n",
    "\n",
    "loop = asyncio.get_event_loop()\n",
    "\n",
    "headers = {\n",
    "    \"Conformance\": str(uuid.uuid4()),\n",
    "}"
   ]
  },
  {
   "cell_type": "markdown",
   "metadata": {},
   "source": [
    "## Setup wallet"
   ]
  },
  {
   "cell_type": "code",
   "execution_count": 2,
   "metadata": {},
   "outputs": [],
   "source": [
    "from ebsi_wallet.main import wallet\n",
    "\n",
    "# Setup wallet\n",
    "client = await wallet(\"init_v2\")\n"
   ]
  },
  {
   "cell_type": "markdown",
   "metadata": {},
   "source": [
    "## ISSUE_011"
   ]
  },
  {
   "cell_type": "code",
   "execution_count": 3,
   "metadata": {},
   "outputs": [
    {
     "data": {
      "text/html": [
       "<pre style=\"white-space:pre;overflow-x:auto;line-height:normal;font-family:Menlo,'DejaVu Sans Mono',consolas,'Courier New',monospace\"><span style=\"color: #7fbfbf; text-decoration-color: #7fbfbf\">[15:57:45] </span>issuerInitiate                                                                           <a href=\"file:///var/folders/z6/z5bp3zsx3g37nkmnvk3mp8880000gn/T/ipykernel_22288/4201365539.py\" target=\"_blank\"><span style=\"color: #7f7f7f; text-decoration-color: #7f7f7f\">4201365539.py</span></a><span style=\"color: #7f7f7f; text-decoration-color: #7f7f7f\">:</span><a href=\"file:///var/folders/z6/z5bp3zsx3g37nkmnvk3mp8880000gn/T/ipykernel_22288/4201365539.py#6\" target=\"_blank\"><span style=\"color: #7f7f7f; text-decoration-color: #7f7f7f\">6</span></a>\n",
       "<span style=\"color: #7fbfbf; text-decoration-color: #7fbfbf\">           </span>openid:<span style=\"color: #800080; text-decoration-color: #800080\">//</span><span style=\"color: #ff00ff; text-decoration-color: #ff00ff\">initiate_issuance</span>?<span style=\"color: #808000; text-decoration-color: #808000\">issuer</span>=<span style=\"color: #800080; text-decoration-color: #800080\">https</span>%3A%2F%2Fapi.conformance.intebsi.xyz%2Fconformanc <span style=\"color: #7f7f7f; text-decoration-color: #7f7f7f\">               </span>\n",
       "<span style=\"color: #7fbfbf; text-decoration-color: #7fbfbf\">           </span>e%2Fv2&amp;<span style=\"color: #808000; text-decoration-color: #808000\">credential_type</span>=<span style=\"color: #800080; text-decoration-color: #800080\">https</span>%3A%2F%2Fapi.conformance.intebsi.xyz%2Ftrusted-schemas-regis <span style=\"color: #7f7f7f; text-decoration-color: #7f7f7f\">               </span>\n",
       "<span style=\"color: #7fbfbf; text-decoration-color: #7fbfbf\">           </span>try%2Fv2%2Fschemas%2FzCfNxx5dMBdf4yVcsWzj1anWRuXcxrXj1aogyfN1xSu8t&amp;<span style=\"color: #808000; text-decoration-color: #808000\">conformance</span>=<span style=\"color: #ffff00; text-decoration-color: #ffff00\">788d791d</span><span style=\"color: #ffff00; text-decoration-color: #ffff00\">-</span> <span style=\"color: #7f7f7f; text-decoration-color: #7f7f7f\">               </span>\n",
       "<span style=\"color: #7fbfbf; text-decoration-color: #7fbfbf\">           </span><span style=\"color: #ffff00; text-decoration-color: #ffff00\">651b-49ca-827d-e984f0875382</span>                                                              <span style=\"color: #7f7f7f; text-decoration-color: #7f7f7f\">               </span>\n",
       "</pre>\n"
      ],
      "text/plain": [
       "\u001b[2;36m[15:57:45]\u001b[0m\u001b[2;36m \u001b[0missuerInitiate                                                                           \u001b]8;id=297506;file:///var/folders/z6/z5bp3zsx3g37nkmnvk3mp8880000gn/T/ipykernel_22288/4201365539.py\u001b\\\u001b[2m4201365539.py\u001b[0m\u001b]8;;\u001b\\\u001b[2m:\u001b[0m\u001b]8;id=452484;file:///var/folders/z6/z5bp3zsx3g37nkmnvk3mp8880000gn/T/ipykernel_22288/4201365539.py#6\u001b\\\u001b[2m6\u001b[0m\u001b]8;;\u001b\\\n",
       "\u001b[2;36m           \u001b[0mopenid:\u001b[35m/\u001b[0m\u001b[35m/\u001b[0m\u001b[95minitiate_issuance\u001b[0m?\u001b[33missuer\u001b[0m=\u001b[35mhttps\u001b[0m%3A%2F%2Fapi.conformance.intebsi.xyz%2Fconformanc \u001b[2m               \u001b[0m\n",
       "\u001b[2;36m           \u001b[0me%2Fv2&\u001b[33mcredential_type\u001b[0m=\u001b[35mhttps\u001b[0m%3A%2F%2Fapi.conformance.intebsi.xyz%2Ftrusted-schemas-regis \u001b[2m               \u001b[0m\n",
       "\u001b[2;36m           \u001b[0mtry%2Fv2%2Fschemas%2FzCfNxx5dMBdf4yVcsWzj1anWRuXcxrXj1aogyfN1xSu8t&\u001b[33mconformance\u001b[0m=\u001b[93m788d791d\u001b[0m\u001b[93m-\u001b[0m \u001b[2m               \u001b[0m\n",
       "\u001b[2;36m           \u001b[0m\u001b[93m651b-49ca-827d-e984f0875382\u001b[0m                                                              \u001b[2m               \u001b[0m\n"
      ]
     },
     "metadata": {},
     "output_type": "display_data"
    },
    {
     "data": {
      "text/html": [
       "<pre style=\"white-space:pre;overflow-x:auto;line-height:normal;font-family:Menlo,'DejaVu Sans Mono',consolas,'Courier New',monospace\"><span style=\"color: #7fbfbf; text-decoration-color: #7fbfbf\">           </span>credential_type                                                                         <a href=\"file:///var/folders/z6/z5bp3zsx3g37nkmnvk3mp8880000gn/T/ipykernel_22288/4201365539.py\" target=\"_blank\"><span style=\"color: #7f7f7f; text-decoration-color: #7f7f7f\">4201365539.py</span></a><span style=\"color: #7f7f7f; text-decoration-color: #7f7f7f\">:</span><a href=\"file:///var/folders/z6/z5bp3zsx3g37nkmnvk3mp8880000gn/T/ipykernel_22288/4201365539.py#14\" target=\"_blank\"><span style=\"color: #7f7f7f; text-decoration-color: #7f7f7f\">14</span></a>\n",
       "<span style=\"color: #7fbfbf; text-decoration-color: #7fbfbf\">           </span><span style=\"color: #0000ff; text-decoration-color: #0000ff; text-decoration: underline\">https://api.conformance.intebsi.xyz/trusted-schemas-registry/v2/schemas/zCfNxx5dMBdf4yV</span> <span style=\"color: #7f7f7f; text-decoration-color: #7f7f7f\">                </span>\n",
       "<span style=\"color: #7fbfbf; text-decoration-color: #7fbfbf\">           </span><span style=\"color: #0000ff; text-decoration-color: #0000ff; text-decoration: underline\">csWzj1anWRuXcxrXj1aogyfN1xSu8t</span>                                                          <span style=\"color: #7f7f7f; text-decoration-color: #7f7f7f\">                </span>\n",
       "</pre>\n"
      ],
      "text/plain": [
       "\u001b[2;36m          \u001b[0m\u001b[2;36m \u001b[0mcredential_type                                                                         \u001b]8;id=514967;file:///var/folders/z6/z5bp3zsx3g37nkmnvk3mp8880000gn/T/ipykernel_22288/4201365539.py\u001b\\\u001b[2m4201365539.py\u001b[0m\u001b]8;;\u001b\\\u001b[2m:\u001b[0m\u001b]8;id=887102;file:///var/folders/z6/z5bp3zsx3g37nkmnvk3mp8880000gn/T/ipykernel_22288/4201365539.py#14\u001b\\\u001b[2m14\u001b[0m\u001b]8;;\u001b\\\n",
       "\u001b[2;36m           \u001b[0m\u001b[4;94mhttps://api.conformance.intebsi.xyz/trusted-schemas-registry/v2/schemas/zCfNxx5dMBdf4yV\u001b[0m \u001b[2m                \u001b[0m\n",
       "\u001b[2;36m           \u001b[0m\u001b[4;94mcsWzj1anWRuXcxrXj1aogyfN1xSu8t\u001b[0m                                                          \u001b[2m                \u001b[0m\n"
      ]
     },
     "metadata": {},
     "output_type": "display_data"
    },
    {
     "data": {
      "text/html": [
       "<pre style=\"white-space:pre;overflow-x:auto;line-height:normal;font-family:Menlo,'DejaVu Sans Mono',consolas,'Courier New',monospace\"><span style=\"color: #7fbfbf; text-decoration-color: #7fbfbf\">           </span>issuerAuthorize                                                                         <a href=\"file:///var/folders/z6/z5bp3zsx3g37nkmnvk3mp8880000gn/T/ipykernel_22288/4201365539.py\" target=\"_blank\"><span style=\"color: #7f7f7f; text-decoration-color: #7f7f7f\">4201365539.py</span></a><span style=\"color: #7f7f7f; text-decoration-color: #7f7f7f\">:</span><a href=\"file:///var/folders/z6/z5bp3zsx3g37nkmnvk3mp8880000gn/T/ipykernel_22288/4201365539.py#22\" target=\"_blank\"><span style=\"color: #7f7f7f; text-decoration-color: #7f7f7f\">22</span></a>\n",
       "<span style=\"color: #7fbfbf; text-decoration-color: #7fbfbf\">           </span><span style=\"font-weight: bold\">{</span><span style=\"color: #008000; text-decoration-color: #008000\">'state'</span>: <span style=\"color: #008000; text-decoration-color: #008000\">'98a4a4a0a0ba'</span>, <span style=\"color: #008000; text-decoration-color: #008000\">'code'</span>: <span style=\"color: #008000; text-decoration-color: #008000\">'fb67fe00cca562b65e60'</span><span style=\"font-weight: bold\">}</span>                               <span style=\"color: #7f7f7f; text-decoration-color: #7f7f7f\">                </span>\n",
       "</pre>\n"
      ],
      "text/plain": [
       "\u001b[2;36m          \u001b[0m\u001b[2;36m \u001b[0missuerAuthorize                                                                         \u001b]8;id=362090;file:///var/folders/z6/z5bp3zsx3g37nkmnvk3mp8880000gn/T/ipykernel_22288/4201365539.py\u001b\\\u001b[2m4201365539.py\u001b[0m\u001b]8;;\u001b\\\u001b[2m:\u001b[0m\u001b]8;id=411706;file:///var/folders/z6/z5bp3zsx3g37nkmnvk3mp8880000gn/T/ipykernel_22288/4201365539.py#22\u001b\\\u001b[2m22\u001b[0m\u001b]8;;\u001b\\\n",
       "\u001b[2;36m           \u001b[0m\u001b[1m{\u001b[0m\u001b[32m'state'\u001b[0m: \u001b[32m'98a4a4a0a0ba'\u001b[0m, \u001b[32m'code'\u001b[0m: \u001b[32m'fb67fe00cca562b65e60'\u001b[0m\u001b[1m}\u001b[0m                               \u001b[2m                \u001b[0m\n"
      ]
     },
     "metadata": {},
     "output_type": "display_data"
    }
   ],
   "source": [
    "from ebsi_wallet.main import conformance\n",
    "from ebsi_wallet.util import parse_query_string_parameters_from_url\n",
    "\n",
    "result = await conformance(\"issuerInitiate\", headers=headers)\n",
    "\n",
    "console.log(\"issuerInitiate\", result)\n",
    "\n",
    "session_token = result.replace(\"openid://\", \"\")\n",
    "credential_type = parse_query_string_parameters_from_url(\n",
    "    session_token).get(\"credential_type\")[0]\n",
    "issuer_url = parse_query_string_parameters_from_url(\n",
    "    session_token).get(\"issuer\")[0]\n",
    "\n",
    "console.log(\"credential_type\", credential_type)\n",
    "\n",
    "options = {\n",
    "    \"client\": client,\n",
    "    \"credential_type\" : credential_type\n",
    "}\n",
    "\n",
    "result = await conformance(\"issuerAuthorize\", options=options)\n",
    "console.log(\"issuerAuthorize\", result)\n"
   ]
  },
  {
   "cell_type": "markdown",
   "metadata": {},
   "source": [
    "## ISSUE_021"
   ]
  },
  {
   "cell_type": "code",
   "execution_count": 4,
   "metadata": {},
   "outputs": [
    {
     "data": {
      "text/html": [
       "<pre style=\"white-space:pre;overflow-x:auto;line-height:normal;font-family:Menlo,'DejaVu Sans Mono',consolas,'Courier New',monospace\"><span style=\"color: #7fbfbf; text-decoration-color: #7fbfbf\">[15:57:46] </span>issuerToken                                                                              <a href=\"file:///var/folders/z6/z5bp3zsx3g37nkmnvk3mp8880000gn/T/ipykernel_22288/1256846934.py\" target=\"_blank\"><span style=\"color: #7f7f7f; text-decoration-color: #7f7f7f\">1256846934.py</span></a><span style=\"color: #7f7f7f; text-decoration-color: #7f7f7f\">:</span><a href=\"file:///var/folders/z6/z5bp3zsx3g37nkmnvk3mp8880000gn/T/ipykernel_22288/1256846934.py#7\" target=\"_blank\"><span style=\"color: #7f7f7f; text-decoration-color: #7f7f7f\">7</span></a>\n",
       "<span style=\"color: #7fbfbf; text-decoration-color: #7fbfbf\">           </span><span style=\"font-weight: bold\">{</span>                                                                                        <span style=\"color: #7f7f7f; text-decoration-color: #7f7f7f\">               </span>\n",
       "<span style=\"color: #7fbfbf; text-decoration-color: #7fbfbf\">           </span>    <span style=\"color: #008000; text-decoration-color: #008000\">'token_type'</span>: <span style=\"color: #008000; text-decoration-color: #008000\">'Bearer'</span>,                                                              <span style=\"color: #7f7f7f; text-decoration-color: #7f7f7f\">               </span>\n",
       "<span style=\"color: #7fbfbf; text-decoration-color: #7fbfbf\">           </span>    <span style=\"color: #008000; text-decoration-color: #008000\">'access_token'</span>: <span style=\"color: #008000; text-decoration-color: #008000\">'da019bfbd503df0c9881'</span>,                                              <span style=\"color: #7f7f7f; text-decoration-color: #7f7f7f\">               </span>\n",
       "<span style=\"color: #7fbfbf; text-decoration-color: #7fbfbf\">           </span>    <span style=\"color: #008000; text-decoration-color: #008000\">'expires_in'</span>: <span style=\"color: #008080; text-decoration-color: #008080; font-weight: bold\">3600</span>,                                                                  <span style=\"color: #7f7f7f; text-decoration-color: #7f7f7f\">               </span>\n",
       "<span style=\"color: #7fbfbf; text-decoration-color: #7fbfbf\">           </span>    <span style=\"color: #008000; text-decoration-color: #008000\">'c_nonce'</span>: <span style=\"color: #008000; text-decoration-color: #008000\">'eb106aa8966de772e000'</span>,                                                   <span style=\"color: #7f7f7f; text-decoration-color: #7f7f7f\">               </span>\n",
       "<span style=\"color: #7fbfbf; text-decoration-color: #7fbfbf\">           </span>    <span style=\"color: #008000; text-decoration-color: #008000\">'id_token'</span>:                                                                          <span style=\"color: #7f7f7f; text-decoration-color: #7f7f7f\">               </span>\n",
       "<span style=\"color: #7fbfbf; text-decoration-color: #7fbfbf\">           </span><span style=\"color: #008000; text-decoration-color: #008000\">'eyJ0eXAiOiJKV1QiLCJhbGciOiJFUzI1NksifQ.eyJpYXQiOjE2NjYzNDgwNjYsInN1YiI6Imh0dHBzOi8vbG9j</span> <span style=\"color: #7f7f7f; text-decoration-color: #7f7f7f\">               </span>\n",
       "<span style=\"color: #7fbfbf; text-decoration-color: #7fbfbf\">           </span><span style=\"color: #008000; text-decoration-color: #008000\">YWxob3N0OjMwMDAiLCJhdWQiOiJodHRwczovL2xvY2FsaG9zdDozMDAwIiwiaXNzIjoiZGlkOmVic2k6emNmY3dH</span> <span style=\"color: #7f7f7f; text-decoration-color: #7f7f7f\">               </span>\n",
       "<span style=\"color: #7fbfbf; text-decoration-color: #7fbfbf\">           </span><span style=\"color: #008000; text-decoration-color: #008000\">akxCb2pjenc5eWhtVUZFM1oifQ.K4ojf5jGIaiku0KKnXmF1-5t2Wt0CCzI0OjmXI4Dc-GzRmyN2nGg_UoZqE52P</span> <span style=\"color: #7f7f7f; text-decoration-color: #7f7f7f\">               </span>\n",
       "<span style=\"color: #7fbfbf; text-decoration-color: #7fbfbf\">           </span><span style=\"color: #008000; text-decoration-color: #008000\">atfTbSmtXVrEjeZRLXnW3XQJA'</span>                                                               <span style=\"color: #7f7f7f; text-decoration-color: #7f7f7f\">               </span>\n",
       "<span style=\"color: #7fbfbf; text-decoration-color: #7fbfbf\">           </span><span style=\"font-weight: bold\">}</span>                                                                                        <span style=\"color: #7f7f7f; text-decoration-color: #7f7f7f\">               </span>\n",
       "</pre>\n"
      ],
      "text/plain": [
       "\u001b[2;36m[15:57:46]\u001b[0m\u001b[2;36m \u001b[0missuerToken                                                                              \u001b]8;id=870236;file:///var/folders/z6/z5bp3zsx3g37nkmnvk3mp8880000gn/T/ipykernel_22288/1256846934.py\u001b\\\u001b[2m1256846934.py\u001b[0m\u001b]8;;\u001b\\\u001b[2m:\u001b[0m\u001b]8;id=324859;file:///var/folders/z6/z5bp3zsx3g37nkmnvk3mp8880000gn/T/ipykernel_22288/1256846934.py#7\u001b\\\u001b[2m7\u001b[0m\u001b]8;;\u001b\\\n",
       "\u001b[2;36m           \u001b[0m\u001b[1m{\u001b[0m                                                                                        \u001b[2m               \u001b[0m\n",
       "\u001b[2;36m           \u001b[0m    \u001b[32m'token_type'\u001b[0m: \u001b[32m'Bearer'\u001b[0m,                                                              \u001b[2m               \u001b[0m\n",
       "\u001b[2;36m           \u001b[0m    \u001b[32m'access_token'\u001b[0m: \u001b[32m'da019bfbd503df0c9881'\u001b[0m,                                              \u001b[2m               \u001b[0m\n",
       "\u001b[2;36m           \u001b[0m    \u001b[32m'expires_in'\u001b[0m: \u001b[1;36m3600\u001b[0m,                                                                  \u001b[2m               \u001b[0m\n",
       "\u001b[2;36m           \u001b[0m    \u001b[32m'c_nonce'\u001b[0m: \u001b[32m'eb106aa8966de772e000'\u001b[0m,                                                   \u001b[2m               \u001b[0m\n",
       "\u001b[2;36m           \u001b[0m    \u001b[32m'id_token'\u001b[0m:                                                                          \u001b[2m               \u001b[0m\n",
       "\u001b[2;36m           \u001b[0m\u001b[32m'eyJ0eXAiOiJKV1QiLCJhbGciOiJFUzI1NksifQ.eyJpYXQiOjE2NjYzNDgwNjYsInN1YiI6Imh0dHBzOi8vbG9j\u001b[0m \u001b[2m               \u001b[0m\n",
       "\u001b[2;36m           \u001b[0m\u001b[32mYWxob3N0OjMwMDAiLCJhdWQiOiJodHRwczovL2xvY2FsaG9zdDozMDAwIiwiaXNzIjoiZGlkOmVic2k6emNmY3dH\u001b[0m \u001b[2m               \u001b[0m\n",
       "\u001b[2;36m           \u001b[0m\u001b[32makxCb2pjenc5eWhtVUZFM1oifQ.K4ojf5jGIaiku0KKnXmF1-5t2Wt0CCzI0OjmXI4Dc-GzRmyN2nGg_UoZqE52P\u001b[0m \u001b[2m               \u001b[0m\n",
       "\u001b[2;36m           \u001b[0m\u001b[32matfTbSmtXVrEjeZRLXnW3XQJA'\u001b[0m                                                               \u001b[2m               \u001b[0m\n",
       "\u001b[2;36m           \u001b[0m\u001b[1m}\u001b[0m                                                                                        \u001b[2m               \u001b[0m\n"
      ]
     },
     "metadata": {},
     "output_type": "display_data"
    }
   ],
   "source": [
    "options = {\n",
    "    \"did_version\": client.did_version,\n",
    "    \"code\": result[\"code\"]\n",
    "}\n",
    "\n",
    "result = await conformance(\"issuerToken\", options=options, headers=headers)\n",
    "console.log(\"issuerToken\", result)\n"
   ]
  },
  {
   "cell_type": "markdown",
   "metadata": {},
   "source": [
    "## ISSUE_031"
   ]
  },
  {
   "cell_type": "code",
   "execution_count": 5,
   "metadata": {},
   "outputs": [
    {
     "data": {
      "text/html": [
       "<pre style=\"white-space:pre;overflow-x:auto;line-height:normal;font-family:Menlo,'DejaVu Sans Mono',consolas,'Courier New',monospace\"><span style=\"color: #7fbfbf; text-decoration-color: #7fbfbf\">[15:57:47] </span>issuerCredential                                                                         <a href=\"file:///var/folders/z6/z5bp3zsx3g37nkmnvk3mp8880000gn/T/ipykernel_22288/608560569.py\" target=\"_blank\"><span style=\"color: #7f7f7f; text-decoration-color: #7f7f7f\">608560569.py</span></a><span style=\"color: #7f7f7f; text-decoration-color: #7f7f7f\">:</span><a href=\"file:///var/folders/z6/z5bp3zsx3g37nkmnvk3mp8880000gn/T/ipykernel_22288/608560569.py#18\" target=\"_blank\"><span style=\"color: #7f7f7f; text-decoration-color: #7f7f7f\">18</span></a>\n",
       "<span style=\"color: #7fbfbf; text-decoration-color: #7fbfbf\">           </span><span style=\"font-weight: bold\">{</span>                                                                                        <span style=\"color: #7f7f7f; text-decoration-color: #7f7f7f\">               </span>\n",
       "<span style=\"color: #7fbfbf; text-decoration-color: #7fbfbf\">           </span>    <span style=\"color: #008000; text-decoration-color: #008000\">'format'</span>: <span style=\"color: #008000; text-decoration-color: #008000\">'jwt_vc'</span>,                                                                  <span style=\"color: #7f7f7f; text-decoration-color: #7f7f7f\">               </span>\n",
       "<span style=\"color: #7fbfbf; text-decoration-color: #7fbfbf\">           </span>    <span style=\"color: #008000; text-decoration-color: #008000\">'credential'</span>:                                                                        <span style=\"color: #7f7f7f; text-decoration-color: #7f7f7f\">               </span>\n",
       "<span style=\"color: #7fbfbf; text-decoration-color: #7fbfbf\">           </span><span style=\"color: #008000; text-decoration-color: #008000\">'eyJhbGciOiJFUzI1NksiLCJ0eXAiOiJKV1QiLCJraWQiOiJkaWQ6ZWJzaTp6Y2Zjd0dqTEJvamN6dzl5aG1VRkU</span> <span style=\"color: #7f7f7f; text-decoration-color: #7f7f7f\">               </span>\n",
       "<span style=\"color: #7fbfbf; text-decoration-color: #7fbfbf\">           </span><span style=\"color: #008000; text-decoration-color: #008000\">zWiNrZXlzLTEifQ.eyJqdGkiOiJ1cm46ZGlkOmQyNzQwYmYzLWU1MGYtNDNjZi1hOGU4LTY5MmUxOWY1Mzc1NyIs</span> <span style=\"color: #7f7f7f; text-decoration-color: #7f7f7f\">               </span>\n",
       "<span style=\"color: #7fbfbf; text-decoration-color: #7fbfbf\">           </span><span style=\"color: #008000; text-decoration-color: #008000\">InN1YiI6ImRpZDplYnNpOnpyRmRZQlMzS3g1WFFFcGFGMjE0aWM3Wlgza1FRNFRwZXVKa0xZV2VNdVU1WiIsImlz</span> <span style=\"color: #7f7f7f; text-decoration-color: #7f7f7f\">               </span>\n",
       "<span style=\"color: #7fbfbf; text-decoration-color: #7fbfbf\">           </span><span style=\"color: #008000; text-decoration-color: #008000\">cyI6ImRpZDplYnNpOnpjZmN3R2pMQm9qY3p3OXlobVVGRTNaIiwibmJmIjoxNjY2MzQ4MDY3LCJpYXQiOjE2NjYz</span> <span style=\"color: #7f7f7f; text-decoration-color: #7f7f7f\">               </span>\n",
       "<span style=\"color: #7fbfbf; text-decoration-color: #7fbfbf\">           </span><span style=\"color: #008000; text-decoration-color: #008000\">NDgwNjcsInZjIjp7IkBjb250ZXh0IjpbImh0dHBzOi8vd3d3LnczLm9yZy8yMDE4L2NyZWRlbnRpYWxzL3YxIl0s</span> <span style=\"color: #7f7f7f; text-decoration-color: #7f7f7f\">               </span>\n",
       "<span style=\"color: #7fbfbf; text-decoration-color: #7fbfbf\">           </span><span style=\"color: #008000; text-decoration-color: #008000\">ImlkIjoidXJuOmRpZDpkMjc0MGJmMy1lNTBmLTQzY2YtYThlOC02OTJlMTlmNTM3NTciLCJ0eXBlIjpbIlZlcmlm</span> <span style=\"color: #7f7f7f; text-decoration-color: #7f7f7f\">               </span>\n",
       "<span style=\"color: #7fbfbf; text-decoration-color: #7fbfbf\">           </span><span style=\"color: #008000; text-decoration-color: #008000\">aWFibGVDcmVkZW50aWFsIiwiVmVyaWZpYWJsZUF0dGVzdGF0aW9uIiwiVmVyaWZpYWJsZUlkIl0sImlzc3VlciI6</span> <span style=\"color: #7f7f7f; text-decoration-color: #7f7f7f\">               </span>\n",
       "<span style=\"color: #7fbfbf; text-decoration-color: #7fbfbf\">           </span><span style=\"color: #008000; text-decoration-color: #008000\">ImRpZDplYnNpOnpjZmN3R2pMQm9qY3p3OXlobVVGRTNaIiwiaXNzdWFuY2VEYXRlIjoiMjAyMi0xMC0yMVQxMDoy</span> <span style=\"color: #7f7f7f; text-decoration-color: #7f7f7f\">               </span>\n",
       "<span style=\"color: #7fbfbf; text-decoration-color: #7fbfbf\">           </span><span style=\"color: #008000; text-decoration-color: #008000\">Nzo0N1oiLCJ2YWxpZEZyb20iOiIyMDIyLTEwLTIxVDEwOjI3OjQ3WiIsImlzc3VlZCI6IjIwMjItMTAtMjFUMTA6</span> <span style=\"color: #7f7f7f; text-decoration-color: #7f7f7f\">               </span>\n",
       "<span style=\"color: #7fbfbf; text-decoration-color: #7fbfbf\">           </span><span style=\"color: #008000; text-decoration-color: #008000\">Mjc6NDdaIiwiY3JlZGVudGlhbFN1YmplY3QiOnsiaWQiOiJkaWQ6ZWJzaTp6ckZkWUJTM0t4NVhRRXBhRjIxNGlj</span> <span style=\"color: #7f7f7f; text-decoration-color: #7f7f7f\">               </span>\n",
       "<span style=\"color: #7fbfbf; text-decoration-color: #7fbfbf\">           </span><span style=\"color: #008000; text-decoration-color: #008000\">N1pYM2tRUTRUcGV1SmtMWVdlTXVVNVoiLCJwZXJzb25hbElkZW50aWZpZXIiOiJJVC9ERS8xMjM0IiwiZmFtaWx5</span> <span style=\"color: #7f7f7f; text-decoration-color: #7f7f7f\">               </span>\n",
       "<span style=\"color: #7fbfbf; text-decoration-color: #7fbfbf\">           </span><span style=\"color: #008000; text-decoration-color: #008000\">TmFtZSI6IkNhc3RhZmlvcmkiLCJmaXJzdE5hbWUiOiJCaWFuY2EiLCJkYXRlT2ZCaXJ0aCI6IjE5MzAtMTAtMDEi</span> <span style=\"color: #7f7f7f; text-decoration-color: #7f7f7f\">               </span>\n",
       "<span style=\"color: #7fbfbf; text-decoration-color: #7fbfbf\">           </span><span style=\"color: #008000; text-decoration-color: #008000\">fSwiY3JlZGVudGlhbFNjaGVtYSI6eyJpZCI6Imh0dHBzOi8vYXBpLmNvbmZvcm1hbmNlLmludGVic2kueHl6L3Ry</span> <span style=\"color: #7f7f7f; text-decoration-color: #7f7f7f\">               </span>\n",
       "<span style=\"color: #7fbfbf; text-decoration-color: #7fbfbf\">           </span><span style=\"color: #008000; text-decoration-color: #008000\">dXN0ZWQtc2NoZW1hcy1yZWdpc3RyeS92Mi9zY2hlbWFzL3pDZk54eDVkTUJkZjR5VmNzV3pqMWFuV1J1WGN4clhq</span> <span style=\"color: #7f7f7f; text-decoration-color: #7f7f7f\">               </span>\n",
       "<span style=\"color: #7fbfbf; text-decoration-color: #7fbfbf\">           </span><span style=\"color: #008000; text-decoration-color: #008000\">MWFvZ3lmTjF4U3U4dCIsInR5cGUiOiJGdWxsSnNvblNjaGVtYVZhbGlkYXRvcjIwMjEifX19.BIOSSRrGb5IO0yY</span> <span style=\"color: #7f7f7f; text-decoration-color: #7f7f7f\">               </span>\n",
       "<span style=\"color: #7fbfbf; text-decoration-color: #7fbfbf\">           </span><span style=\"color: #008000; text-decoration-color: #008000\">G3aqHrrBWupXFa-vFheccP9PQ5JQ7j5gvTfgbm47P3w5gh2ml033DGMeLGO-5pVU3MYndTg'</span>,                <span style=\"color: #7f7f7f; text-decoration-color: #7f7f7f\">               </span>\n",
       "<span style=\"color: #7fbfbf; text-decoration-color: #7fbfbf\">           </span>    <span style=\"color: #008000; text-decoration-color: #008000\">'c_nonce'</span>: <span style=\"color: #008000; text-decoration-color: #008000\">'6113cdd474615c862a3c'</span>,                                                   <span style=\"color: #7f7f7f; text-decoration-color: #7f7f7f\">               </span>\n",
       "<span style=\"color: #7fbfbf; text-decoration-color: #7fbfbf\">           </span>    <span style=\"color: #008000; text-decoration-color: #008000\">'c_nonce_expires_in'</span>: <span style=\"color: #008080; text-decoration-color: #008080; font-weight: bold\">900</span>                                                            <span style=\"color: #7f7f7f; text-decoration-color: #7f7f7f\">               </span>\n",
       "<span style=\"color: #7fbfbf; text-decoration-color: #7fbfbf\">           </span><span style=\"font-weight: bold\">}</span>                                                                                        <span style=\"color: #7f7f7f; text-decoration-color: #7f7f7f\">               </span>\n",
       "</pre>\n"
      ],
      "text/plain": [
       "\u001b[2;36m[15:57:47]\u001b[0m\u001b[2;36m \u001b[0missuerCredential                                                                         \u001b]8;id=499058;file:///var/folders/z6/z5bp3zsx3g37nkmnvk3mp8880000gn/T/ipykernel_22288/608560569.py\u001b\\\u001b[2m608560569.py\u001b[0m\u001b]8;;\u001b\\\u001b[2m:\u001b[0m\u001b]8;id=404486;file:///var/folders/z6/z5bp3zsx3g37nkmnvk3mp8880000gn/T/ipykernel_22288/608560569.py#18\u001b\\\u001b[2m18\u001b[0m\u001b]8;;\u001b\\\n",
       "\u001b[2;36m           \u001b[0m\u001b[1m{\u001b[0m                                                                                        \u001b[2m               \u001b[0m\n",
       "\u001b[2;36m           \u001b[0m    \u001b[32m'format'\u001b[0m: \u001b[32m'jwt_vc'\u001b[0m,                                                                  \u001b[2m               \u001b[0m\n",
       "\u001b[2;36m           \u001b[0m    \u001b[32m'credential'\u001b[0m:                                                                        \u001b[2m               \u001b[0m\n",
       "\u001b[2;36m           \u001b[0m\u001b[32m'eyJhbGciOiJFUzI1NksiLCJ0eXAiOiJKV1QiLCJraWQiOiJkaWQ6ZWJzaTp6Y2Zjd0dqTEJvamN6dzl5aG1VRkU\u001b[0m \u001b[2m               \u001b[0m\n",
       "\u001b[2;36m           \u001b[0m\u001b[32mzWiNrZXlzLTEifQ.eyJqdGkiOiJ1cm46ZGlkOmQyNzQwYmYzLWU1MGYtNDNjZi1hOGU4LTY5MmUxOWY1Mzc1NyIs\u001b[0m \u001b[2m               \u001b[0m\n",
       "\u001b[2;36m           \u001b[0m\u001b[32mInN1YiI6ImRpZDplYnNpOnpyRmRZQlMzS3g1WFFFcGFGMjE0aWM3Wlgza1FRNFRwZXVKa0xZV2VNdVU1WiIsImlz\u001b[0m \u001b[2m               \u001b[0m\n",
       "\u001b[2;36m           \u001b[0m\u001b[32mcyI6ImRpZDplYnNpOnpjZmN3R2pMQm9qY3p3OXlobVVGRTNaIiwibmJmIjoxNjY2MzQ4MDY3LCJpYXQiOjE2NjYz\u001b[0m \u001b[2m               \u001b[0m\n",
       "\u001b[2;36m           \u001b[0m\u001b[32mNDgwNjcsInZjIjp7IkBjb250ZXh0IjpbImh0dHBzOi8vd3d3LnczLm9yZy8yMDE4L2NyZWRlbnRpYWxzL3YxIl0s\u001b[0m \u001b[2m               \u001b[0m\n",
       "\u001b[2;36m           \u001b[0m\u001b[32mImlkIjoidXJuOmRpZDpkMjc0MGJmMy1lNTBmLTQzY2YtYThlOC02OTJlMTlmNTM3NTciLCJ0eXBlIjpbIlZlcmlm\u001b[0m \u001b[2m               \u001b[0m\n",
       "\u001b[2;36m           \u001b[0m\u001b[32maWFibGVDcmVkZW50aWFsIiwiVmVyaWZpYWJsZUF0dGVzdGF0aW9uIiwiVmVyaWZpYWJsZUlkIl0sImlzc3VlciI6\u001b[0m \u001b[2m               \u001b[0m\n",
       "\u001b[2;36m           \u001b[0m\u001b[32mImRpZDplYnNpOnpjZmN3R2pMQm9qY3p3OXlobVVGRTNaIiwiaXNzdWFuY2VEYXRlIjoiMjAyMi0xMC0yMVQxMDoy\u001b[0m \u001b[2m               \u001b[0m\n",
       "\u001b[2;36m           \u001b[0m\u001b[32mNzo0N1oiLCJ2YWxpZEZyb20iOiIyMDIyLTEwLTIxVDEwOjI3OjQ3WiIsImlzc3VlZCI6IjIwMjItMTAtMjFUMTA6\u001b[0m \u001b[2m               \u001b[0m\n",
       "\u001b[2;36m           \u001b[0m\u001b[32mMjc6NDdaIiwiY3JlZGVudGlhbFN1YmplY3QiOnsiaWQiOiJkaWQ6ZWJzaTp6ckZkWUJTM0t4NVhRRXBhRjIxNGlj\u001b[0m \u001b[2m               \u001b[0m\n",
       "\u001b[2;36m           \u001b[0m\u001b[32mN1pYM2tRUTRUcGV1SmtMWVdlTXVVNVoiLCJwZXJzb25hbElkZW50aWZpZXIiOiJJVC9ERS8xMjM0IiwiZmFtaWx5\u001b[0m \u001b[2m               \u001b[0m\n",
       "\u001b[2;36m           \u001b[0m\u001b[32mTmFtZSI6IkNhc3RhZmlvcmkiLCJmaXJzdE5hbWUiOiJCaWFuY2EiLCJkYXRlT2ZCaXJ0aCI6IjE5MzAtMTAtMDEi\u001b[0m \u001b[2m               \u001b[0m\n",
       "\u001b[2;36m           \u001b[0m\u001b[32mfSwiY3JlZGVudGlhbFNjaGVtYSI6eyJpZCI6Imh0dHBzOi8vYXBpLmNvbmZvcm1hbmNlLmludGVic2kueHl6L3Ry\u001b[0m \u001b[2m               \u001b[0m\n",
       "\u001b[2;36m           \u001b[0m\u001b[32mdXN0ZWQtc2NoZW1hcy1yZWdpc3RyeS92Mi9zY2hlbWFzL3pDZk54eDVkTUJkZjR5VmNzV3pqMWFuV1J1WGN4clhq\u001b[0m \u001b[2m               \u001b[0m\n",
       "\u001b[2;36m           \u001b[0m\u001b[32mMWFvZ3lmTjF4U3U4dCIsInR5cGUiOiJGdWxsSnNvblNjaGVtYVZhbGlkYXRvcjIwMjEifX19.BIOSSRrGb5IO0yY\u001b[0m \u001b[2m               \u001b[0m\n",
       "\u001b[2;36m           \u001b[0m\u001b[32mG3aqHrrBWupXFa-vFheccP9PQ5JQ7j5gvTfgbm47P3w5gh2ml033DGMeLGO-5pVU3MYndTg'\u001b[0m,                \u001b[2m               \u001b[0m\n",
       "\u001b[2;36m           \u001b[0m    \u001b[32m'c_nonce'\u001b[0m: \u001b[32m'6113cdd474615c862a3c'\u001b[0m,                                                   \u001b[2m               \u001b[0m\n",
       "\u001b[2;36m           \u001b[0m    \u001b[32m'c_nonce_expires_in'\u001b[0m: \u001b[1;36m900\u001b[0m                                                            \u001b[2m               \u001b[0m\n",
       "\u001b[2;36m           \u001b[0m\u001b[1m}\u001b[0m                                                                                        \u001b[2m               \u001b[0m\n"
      ]
     },
     "metadata": {},
     "output_type": "display_data"
    },
    {
     "data": {
      "text/html": [
       "<pre style=\"white-space:pre;overflow-x:auto;line-height:normal;font-family:Menlo,'DejaVu Sans Mono',consolas,'Courier New',monospace\"><span style=\"color: #7fbfbf; text-decoration-color: #7fbfbf\">           </span>Received credential                                                                      <a href=\"file:///var/folders/z6/z5bp3zsx3g37nkmnvk3mp8880000gn/T/ipykernel_22288/608560569.py\" target=\"_blank\"><span style=\"color: #7f7f7f; text-decoration-color: #7f7f7f\">608560569.py</span></a><span style=\"color: #7f7f7f; text-decoration-color: #7f7f7f\">:</span><a href=\"file:///var/folders/z6/z5bp3zsx3g37nkmnvk3mp8880000gn/T/ipykernel_22288/608560569.py#24\" target=\"_blank\"><span style=\"color: #7f7f7f; text-decoration-color: #7f7f7f\">24</span></a>\n",
       "<span style=\"color: #7fbfbf; text-decoration-color: #7fbfbf\">           </span><span style=\"font-weight: bold\">{</span>                                                                                        <span style=\"color: #7f7f7f; text-decoration-color: #7f7f7f\">               </span>\n",
       "<span style=\"color: #7fbfbf; text-decoration-color: #7fbfbf\">           </span>    <span style=\"color: #008000; text-decoration-color: #008000\">'header'</span>: <span style=\"font-weight: bold\">{</span>                                                                          <span style=\"color: #7f7f7f; text-decoration-color: #7f7f7f\">               </span>\n",
       "<span style=\"color: #7fbfbf; text-decoration-color: #7fbfbf\">           </span>        <span style=\"color: #008000; text-decoration-color: #008000\">'alg'</span>: <span style=\"color: #008000; text-decoration-color: #008000\">'ES256K'</span>,                                                                 <span style=\"color: #7f7f7f; text-decoration-color: #7f7f7f\">               </span>\n",
       "<span style=\"color: #7fbfbf; text-decoration-color: #7fbfbf\">           </span>        <span style=\"color: #008000; text-decoration-color: #008000\">'typ'</span>: <span style=\"color: #008000; text-decoration-color: #008000\">'JWT'</span>,                                                                    <span style=\"color: #7f7f7f; text-decoration-color: #7f7f7f\">               </span>\n",
       "<span style=\"color: #7fbfbf; text-decoration-color: #7fbfbf\">           </span>        <span style=\"color: #008000; text-decoration-color: #008000\">'kid'</span>: <span style=\"color: #008000; text-decoration-color: #008000\">'did:ebsi:zcfcwGjLBojczw9yhmUFE3Z#keys-1'</span>                                 <span style=\"color: #7f7f7f; text-decoration-color: #7f7f7f\">               </span>\n",
       "<span style=\"color: #7fbfbf; text-decoration-color: #7fbfbf\">           </span>    <span style=\"font-weight: bold\">}</span>,                                                                                   <span style=\"color: #7f7f7f; text-decoration-color: #7f7f7f\">               </span>\n",
       "<span style=\"color: #7fbfbf; text-decoration-color: #7fbfbf\">           </span>    <span style=\"color: #008000; text-decoration-color: #008000\">'payload'</span>: <span style=\"font-weight: bold\">{</span>                                                                         <span style=\"color: #7f7f7f; text-decoration-color: #7f7f7f\">               </span>\n",
       "<span style=\"color: #7fbfbf; text-decoration-color: #7fbfbf\">           </span>        <span style=\"color: #008000; text-decoration-color: #008000\">'jti'</span>: <span style=\"color: #008000; text-decoration-color: #008000\">'urn:did:d2740bf3-e50f-43cf-a8e8-692e19f53757'</span>,                           <span style=\"color: #7f7f7f; text-decoration-color: #7f7f7f\">               </span>\n",
       "<span style=\"color: #7fbfbf; text-decoration-color: #7fbfbf\">           </span>        <span style=\"color: #008000; text-decoration-color: #008000\">'sub'</span>: <span style=\"color: #008000; text-decoration-color: #008000\">'did:ebsi:zrFdYBS3Kx5XQEpaF214ic7ZX3kQQ4TpeuJkLYWeMuU5Z'</span>,                 <span style=\"color: #7f7f7f; text-decoration-color: #7f7f7f\">               </span>\n",
       "<span style=\"color: #7fbfbf; text-decoration-color: #7fbfbf\">           </span>        <span style=\"color: #008000; text-decoration-color: #008000\">'iss'</span>: <span style=\"color: #008000; text-decoration-color: #008000\">'did:ebsi:zcfcwGjLBojczw9yhmUFE3Z'</span>,                                       <span style=\"color: #7f7f7f; text-decoration-color: #7f7f7f\">               </span>\n",
       "<span style=\"color: #7fbfbf; text-decoration-color: #7fbfbf\">           </span>        <span style=\"color: #008000; text-decoration-color: #008000\">'nbf'</span>: <span style=\"color: #008080; text-decoration-color: #008080; font-weight: bold\">1666348067</span>,                                                               <span style=\"color: #7f7f7f; text-decoration-color: #7f7f7f\">               </span>\n",
       "<span style=\"color: #7fbfbf; text-decoration-color: #7fbfbf\">           </span>        <span style=\"color: #008000; text-decoration-color: #008000\">'iat'</span>: <span style=\"color: #008080; text-decoration-color: #008080; font-weight: bold\">1666348067</span>,                                                               <span style=\"color: #7f7f7f; text-decoration-color: #7f7f7f\">               </span>\n",
       "<span style=\"color: #7fbfbf; text-decoration-color: #7fbfbf\">           </span>        <span style=\"color: #008000; text-decoration-color: #008000\">'vc'</span>: <span style=\"font-weight: bold\">{</span>                                                                          <span style=\"color: #7f7f7f; text-decoration-color: #7f7f7f\">               </span>\n",
       "<span style=\"color: #7fbfbf; text-decoration-color: #7fbfbf\">           </span>            <span style=\"color: #008000; text-decoration-color: #008000\">'@context'</span>: <span style=\"font-weight: bold\">[</span><span style=\"color: #008000; text-decoration-color: #008000\">'https://www.w3.org/2018/credentials/v1'</span><span style=\"font-weight: bold\">]</span>,                      <span style=\"color: #7f7f7f; text-decoration-color: #7f7f7f\">               </span>\n",
       "<span style=\"color: #7fbfbf; text-decoration-color: #7fbfbf\">           </span>            <span style=\"color: #008000; text-decoration-color: #008000\">'id'</span>: <span style=\"color: #008000; text-decoration-color: #008000\">'urn:did:d2740bf3-e50f-43cf-a8e8-692e19f53757'</span>,                        <span style=\"color: #7f7f7f; text-decoration-color: #7f7f7f\">               </span>\n",
       "<span style=\"color: #7fbfbf; text-decoration-color: #7fbfbf\">           </span>            <span style=\"color: #008000; text-decoration-color: #008000\">'type'</span>: <span style=\"font-weight: bold\">[</span><span style=\"color: #008000; text-decoration-color: #008000\">'VerifiableCredential'</span>, <span style=\"color: #008000; text-decoration-color: #008000\">'VerifiableAttestation'</span>, <span style=\"color: #008000; text-decoration-color: #008000\">'VerifiableId'</span><span style=\"font-weight: bold\">]</span>,   <span style=\"color: #7f7f7f; text-decoration-color: #7f7f7f\">               </span>\n",
       "<span style=\"color: #7fbfbf; text-decoration-color: #7fbfbf\">           </span>            <span style=\"color: #008000; text-decoration-color: #008000\">'issuer'</span>: <span style=\"color: #008000; text-decoration-color: #008000\">'did:ebsi:zcfcwGjLBojczw9yhmUFE3Z'</span>,                                <span style=\"color: #7f7f7f; text-decoration-color: #7f7f7f\">               </span>\n",
       "<span style=\"color: #7fbfbf; text-decoration-color: #7fbfbf\">           </span>            <span style=\"color: #008000; text-decoration-color: #008000\">'issuanceDate'</span>: <span style=\"color: #008000; text-decoration-color: #008000\">'2022-10-21T10:27:47Z'</span>,                                      <span style=\"color: #7f7f7f; text-decoration-color: #7f7f7f\">               </span>\n",
       "<span style=\"color: #7fbfbf; text-decoration-color: #7fbfbf\">           </span>            <span style=\"color: #008000; text-decoration-color: #008000\">'validFrom'</span>: <span style=\"color: #008000; text-decoration-color: #008000\">'2022-10-21T10:27:47Z'</span>,                                         <span style=\"color: #7f7f7f; text-decoration-color: #7f7f7f\">               </span>\n",
       "<span style=\"color: #7fbfbf; text-decoration-color: #7fbfbf\">           </span>            <span style=\"color: #008000; text-decoration-color: #008000\">'issued'</span>: <span style=\"color: #008000; text-decoration-color: #008000\">'2022-10-21T10:27:47Z'</span>,                                            <span style=\"color: #7f7f7f; text-decoration-color: #7f7f7f\">               </span>\n",
       "<span style=\"color: #7fbfbf; text-decoration-color: #7fbfbf\">           </span>            <span style=\"color: #008000; text-decoration-color: #008000\">'credentialSubject'</span>: <span style=\"font-weight: bold\">{</span>                                                       <span style=\"color: #7f7f7f; text-decoration-color: #7f7f7f\">               </span>\n",
       "<span style=\"color: #7fbfbf; text-decoration-color: #7fbfbf\">           </span>                <span style=\"color: #008000; text-decoration-color: #008000\">'id'</span>: <span style=\"color: #008000; text-decoration-color: #008000\">'did:ebsi:zrFdYBS3Kx5XQEpaF214ic7ZX3kQQ4TpeuJkLYWeMuU5Z'</span>,          <span style=\"color: #7f7f7f; text-decoration-color: #7f7f7f\">               </span>\n",
       "<span style=\"color: #7fbfbf; text-decoration-color: #7fbfbf\">           </span>                <span style=\"color: #008000; text-decoration-color: #008000\">'personalIdentifier'</span>: <span style=\"color: #008000; text-decoration-color: #008000\">'IT/DE/1234'</span>,                                      <span style=\"color: #7f7f7f; text-decoration-color: #7f7f7f\">               </span>\n",
       "<span style=\"color: #7fbfbf; text-decoration-color: #7fbfbf\">           </span>                <span style=\"color: #008000; text-decoration-color: #008000\">'familyName'</span>: <span style=\"color: #008000; text-decoration-color: #008000\">'Castafiori'</span>,                                              <span style=\"color: #7f7f7f; text-decoration-color: #7f7f7f\">               </span>\n",
       "<span style=\"color: #7fbfbf; text-decoration-color: #7fbfbf\">           </span>                <span style=\"color: #008000; text-decoration-color: #008000\">'firstName'</span>: <span style=\"color: #008000; text-decoration-color: #008000\">'Bianca'</span>,                                                   <span style=\"color: #7f7f7f; text-decoration-color: #7f7f7f\">               </span>\n",
       "<span style=\"color: #7fbfbf; text-decoration-color: #7fbfbf\">           </span>                <span style=\"color: #008000; text-decoration-color: #008000\">'dateOfBirth'</span>: <span style=\"color: #008000; text-decoration-color: #008000\">'1930-10-01'</span>                                              <span style=\"color: #7f7f7f; text-decoration-color: #7f7f7f\">               </span>\n",
       "<span style=\"color: #7fbfbf; text-decoration-color: #7fbfbf\">           </span>            <span style=\"font-weight: bold\">}</span>,                                                                           <span style=\"color: #7f7f7f; text-decoration-color: #7f7f7f\">               </span>\n",
       "<span style=\"color: #7fbfbf; text-decoration-color: #7fbfbf\">           </span>            <span style=\"color: #008000; text-decoration-color: #008000\">'credentialSchema'</span>: <span style=\"font-weight: bold\">{</span>                                                        <span style=\"color: #7f7f7f; text-decoration-color: #7f7f7f\">               </span>\n",
       "<span style=\"color: #7fbfbf; text-decoration-color: #7fbfbf\">           </span>                <span style=\"color: #008000; text-decoration-color: #008000\">'id'</span>:                                                                    <span style=\"color: #7f7f7f; text-decoration-color: #7f7f7f\">               </span>\n",
       "<span style=\"color: #7fbfbf; text-decoration-color: #7fbfbf\">           </span><span style=\"color: #008000; text-decoration-color: #008000\">'https://api.conformance.intebsi.xyz/trusted-schemas-registry/v2/schemas/zCfNxx5dMBdf4yV</span> <span style=\"color: #7f7f7f; text-decoration-color: #7f7f7f\">               </span>\n",
       "<span style=\"color: #7fbfbf; text-decoration-color: #7fbfbf\">           </span><span style=\"color: #008000; text-decoration-color: #008000\">csWzj1anWRuXcxrXj1aogyfN1xSu8t'</span>,                                                         <span style=\"color: #7f7f7f; text-decoration-color: #7f7f7f\">               </span>\n",
       "<span style=\"color: #7fbfbf; text-decoration-color: #7fbfbf\">           </span>                <span style=\"color: #008000; text-decoration-color: #008000\">'type'</span>: <span style=\"color: #008000; text-decoration-color: #008000\">'FullJsonSchemaValidator2021'</span>                                    <span style=\"color: #7f7f7f; text-decoration-color: #7f7f7f\">               </span>\n",
       "<span style=\"color: #7fbfbf; text-decoration-color: #7fbfbf\">           </span>            <span style=\"font-weight: bold\">}</span>                                                                            <span style=\"color: #7f7f7f; text-decoration-color: #7f7f7f\">               </span>\n",
       "<span style=\"color: #7fbfbf; text-decoration-color: #7fbfbf\">           </span>        <span style=\"font-weight: bold\">}</span>                                                                                <span style=\"color: #7f7f7f; text-decoration-color: #7f7f7f\">               </span>\n",
       "<span style=\"color: #7fbfbf; text-decoration-color: #7fbfbf\">           </span>    <span style=\"font-weight: bold\">}</span>,                                                                                   <span style=\"color: #7f7f7f; text-decoration-color: #7f7f7f\">               </span>\n",
       "<span style=\"color: #7fbfbf; text-decoration-color: #7fbfbf\">           </span>    <span style=\"color: #008000; text-decoration-color: #008000\">'signature'</span>:                                                                         <span style=\"color: #7f7f7f; text-decoration-color: #7f7f7f\">               </span>\n",
       "<span style=\"color: #7fbfbf; text-decoration-color: #7fbfbf\">           </span><span style=\"color: #008000; text-decoration-color: #008000\">'BIOSSRrGb5IO0yYG3aqHrrBWupXFa-vFheccP9PQ5JQ7j5gvTfgbm47P3w5gh2ml033DGMeLGO-5pVU3MYndTg'</span> <span style=\"color: #7f7f7f; text-decoration-color: #7f7f7f\">               </span>\n",
       "<span style=\"color: #7fbfbf; text-decoration-color: #7fbfbf\">           </span>,                                                                                        <span style=\"color: #7f7f7f; text-decoration-color: #7f7f7f\">               </span>\n",
       "<span style=\"color: #7fbfbf; text-decoration-color: #7fbfbf\">           </span>    <span style=\"color: #008000; text-decoration-color: #008000\">'data'</span>:                                                                              <span style=\"color: #7f7f7f; text-decoration-color: #7f7f7f\">               </span>\n",
       "<span style=\"color: #7fbfbf; text-decoration-color: #7fbfbf\">           </span><span style=\"color: #008000; text-decoration-color: #008000\">'eyJhbGciOiJFUzI1NksiLCJ0eXAiOiJKV1QiLCJraWQiOiJkaWQ6ZWJzaTp6Y2Zjd0dqTEJvamN6dzl5aG1VRkU</span> <span style=\"color: #7f7f7f; text-decoration-color: #7f7f7f\">               </span>\n",
       "<span style=\"color: #7fbfbf; text-decoration-color: #7fbfbf\">           </span><span style=\"color: #008000; text-decoration-color: #008000\">zWiNrZXlzLTEifQ.eyJqdGkiOiJ1cm46ZGlkOmQyNzQwYmYzLWU1MGYtNDNjZi1hOGU4LTY5MmUxOWY1Mzc1NyIs</span> <span style=\"color: #7f7f7f; text-decoration-color: #7f7f7f\">               </span>\n",
       "<span style=\"color: #7fbfbf; text-decoration-color: #7fbfbf\">           </span><span style=\"color: #008000; text-decoration-color: #008000\">InN1YiI6ImRpZDplYnNpOnpyRmRZQlMzS3g1WFFFcGFGMjE0aWM3Wlgza1FRNFRwZXVKa0xZV2VNdVU1WiIsImlz</span> <span style=\"color: #7f7f7f; text-decoration-color: #7f7f7f\">               </span>\n",
       "<span style=\"color: #7fbfbf; text-decoration-color: #7fbfbf\">           </span><span style=\"color: #008000; text-decoration-color: #008000\">cyI6ImRpZDplYnNpOnpjZmN3R2pMQm9qY3p3OXlobVVGRTNaIiwibmJmIjoxNjY2MzQ4MDY3LCJpYXQiOjE2NjYz</span> <span style=\"color: #7f7f7f; text-decoration-color: #7f7f7f\">               </span>\n",
       "<span style=\"color: #7fbfbf; text-decoration-color: #7fbfbf\">           </span><span style=\"color: #008000; text-decoration-color: #008000\">NDgwNjcsInZjIjp7IkBjb250ZXh0IjpbImh0dHBzOi8vd3d3LnczLm9yZy8yMDE4L2NyZWRlbnRpYWxzL3YxIl0s</span> <span style=\"color: #7f7f7f; text-decoration-color: #7f7f7f\">               </span>\n",
       "<span style=\"color: #7fbfbf; text-decoration-color: #7fbfbf\">           </span><span style=\"color: #008000; text-decoration-color: #008000\">ImlkIjoidXJuOmRpZDpkMjc0MGJmMy1lNTBmLTQzY2YtYThlOC02OTJlMTlmNTM3NTciLCJ0eXBlIjpbIlZlcmlm</span> <span style=\"color: #7f7f7f; text-decoration-color: #7f7f7f\">               </span>\n",
       "<span style=\"color: #7fbfbf; text-decoration-color: #7fbfbf\">           </span><span style=\"color: #008000; text-decoration-color: #008000\">aWFibGVDcmVkZW50aWFsIiwiVmVyaWZpYWJsZUF0dGVzdGF0aW9uIiwiVmVyaWZpYWJsZUlkIl0sImlzc3VlciI6</span> <span style=\"color: #7f7f7f; text-decoration-color: #7f7f7f\">               </span>\n",
       "<span style=\"color: #7fbfbf; text-decoration-color: #7fbfbf\">           </span><span style=\"color: #008000; text-decoration-color: #008000\">ImRpZDplYnNpOnpjZmN3R2pMQm9qY3p3OXlobVVGRTNaIiwiaXNzdWFuY2VEYXRlIjoiMjAyMi0xMC0yMVQxMDoy</span> <span style=\"color: #7f7f7f; text-decoration-color: #7f7f7f\">               </span>\n",
       "<span style=\"color: #7fbfbf; text-decoration-color: #7fbfbf\">           </span><span style=\"color: #008000; text-decoration-color: #008000\">Nzo0N1oiLCJ2YWxpZEZyb20iOiIyMDIyLTEwLTIxVDEwOjI3OjQ3WiIsImlzc3VlZCI6IjIwMjItMTAtMjFUMTA6</span> <span style=\"color: #7f7f7f; text-decoration-color: #7f7f7f\">               </span>\n",
       "<span style=\"color: #7fbfbf; text-decoration-color: #7fbfbf\">           </span><span style=\"color: #008000; text-decoration-color: #008000\">Mjc6NDdaIiwiY3JlZGVudGlhbFN1YmplY3QiOnsiaWQiOiJkaWQ6ZWJzaTp6ckZkWUJTM0t4NVhRRXBhRjIxNGlj</span> <span style=\"color: #7f7f7f; text-decoration-color: #7f7f7f\">               </span>\n",
       "<span style=\"color: #7fbfbf; text-decoration-color: #7fbfbf\">           </span><span style=\"color: #008000; text-decoration-color: #008000\">N1pYM2tRUTRUcGV1SmtMWVdlTXVVNVoiLCJwZXJzb25hbElkZW50aWZpZXIiOiJJVC9ERS8xMjM0IiwiZmFtaWx5</span> <span style=\"color: #7f7f7f; text-decoration-color: #7f7f7f\">               </span>\n",
       "<span style=\"color: #7fbfbf; text-decoration-color: #7fbfbf\">           </span><span style=\"color: #008000; text-decoration-color: #008000\">TmFtZSI6IkNhc3RhZmlvcmkiLCJmaXJzdE5hbWUiOiJCaWFuY2EiLCJkYXRlT2ZCaXJ0aCI6IjE5MzAtMTAtMDEi</span> <span style=\"color: #7f7f7f; text-decoration-color: #7f7f7f\">               </span>\n",
       "<span style=\"color: #7fbfbf; text-decoration-color: #7fbfbf\">           </span><span style=\"color: #008000; text-decoration-color: #008000\">fSwiY3JlZGVudGlhbFNjaGVtYSI6eyJpZCI6Imh0dHBzOi8vYXBpLmNvbmZvcm1hbmNlLmludGVic2kueHl6L3Ry</span> <span style=\"color: #7f7f7f; text-decoration-color: #7f7f7f\">               </span>\n",
       "<span style=\"color: #7fbfbf; text-decoration-color: #7fbfbf\">           </span><span style=\"color: #008000; text-decoration-color: #008000\">dXN0ZWQtc2NoZW1hcy1yZWdpc3RyeS92Mi9zY2hlbWFzL3pDZk54eDVkTUJkZjR5VmNzV3pqMWFuV1J1WGN4clhq</span> <span style=\"color: #7f7f7f; text-decoration-color: #7f7f7f\">               </span>\n",
       "<span style=\"color: #7fbfbf; text-decoration-color: #7fbfbf\">           </span><span style=\"color: #008000; text-decoration-color: #008000\">MWFvZ3lmTjF4U3U4dCIsInR5cGUiOiJGdWxsSnNvblNjaGVtYVZhbGlkYXRvcjIwMjEifX19'</span>                <span style=\"color: #7f7f7f; text-decoration-color: #7f7f7f\">               </span>\n",
       "<span style=\"color: #7fbfbf; text-decoration-color: #7fbfbf\">           </span><span style=\"font-weight: bold\">}</span>                                                                                        <span style=\"color: #7f7f7f; text-decoration-color: #7f7f7f\">               </span>\n",
       "</pre>\n"
      ],
      "text/plain": [
       "\u001b[2;36m          \u001b[0m\u001b[2;36m \u001b[0mReceived credential                                                                      \u001b]8;id=7661;file:///var/folders/z6/z5bp3zsx3g37nkmnvk3mp8880000gn/T/ipykernel_22288/608560569.py\u001b\\\u001b[2m608560569.py\u001b[0m\u001b]8;;\u001b\\\u001b[2m:\u001b[0m\u001b]8;id=329587;file:///var/folders/z6/z5bp3zsx3g37nkmnvk3mp8880000gn/T/ipykernel_22288/608560569.py#24\u001b\\\u001b[2m24\u001b[0m\u001b]8;;\u001b\\\n",
       "\u001b[2;36m           \u001b[0m\u001b[1m{\u001b[0m                                                                                        \u001b[2m               \u001b[0m\n",
       "\u001b[2;36m           \u001b[0m    \u001b[32m'header'\u001b[0m: \u001b[1m{\u001b[0m                                                                          \u001b[2m               \u001b[0m\n",
       "\u001b[2;36m           \u001b[0m        \u001b[32m'alg'\u001b[0m: \u001b[32m'ES256K'\u001b[0m,                                                                 \u001b[2m               \u001b[0m\n",
       "\u001b[2;36m           \u001b[0m        \u001b[32m'typ'\u001b[0m: \u001b[32m'JWT'\u001b[0m,                                                                    \u001b[2m               \u001b[0m\n",
       "\u001b[2;36m           \u001b[0m        \u001b[32m'kid'\u001b[0m: \u001b[32m'did:ebsi:zcfcwGjLBojczw9yhmUFE3Z#keys-1'\u001b[0m                                 \u001b[2m               \u001b[0m\n",
       "\u001b[2;36m           \u001b[0m    \u001b[1m}\u001b[0m,                                                                                   \u001b[2m               \u001b[0m\n",
       "\u001b[2;36m           \u001b[0m    \u001b[32m'payload'\u001b[0m: \u001b[1m{\u001b[0m                                                                         \u001b[2m               \u001b[0m\n",
       "\u001b[2;36m           \u001b[0m        \u001b[32m'jti'\u001b[0m: \u001b[32m'urn:did:d2740bf3-e50f-43cf-a8e8-692e19f53757'\u001b[0m,                           \u001b[2m               \u001b[0m\n",
       "\u001b[2;36m           \u001b[0m        \u001b[32m'sub'\u001b[0m: \u001b[32m'did:ebsi:zrFdYBS3Kx5XQEpaF214ic7ZX3kQQ4TpeuJkLYWeMuU5Z'\u001b[0m,                 \u001b[2m               \u001b[0m\n",
       "\u001b[2;36m           \u001b[0m        \u001b[32m'iss'\u001b[0m: \u001b[32m'did:ebsi:zcfcwGjLBojczw9yhmUFE3Z'\u001b[0m,                                       \u001b[2m               \u001b[0m\n",
       "\u001b[2;36m           \u001b[0m        \u001b[32m'nbf'\u001b[0m: \u001b[1;36m1666348067\u001b[0m,                                                               \u001b[2m               \u001b[0m\n",
       "\u001b[2;36m           \u001b[0m        \u001b[32m'iat'\u001b[0m: \u001b[1;36m1666348067\u001b[0m,                                                               \u001b[2m               \u001b[0m\n",
       "\u001b[2;36m           \u001b[0m        \u001b[32m'vc'\u001b[0m: \u001b[1m{\u001b[0m                                                                          \u001b[2m               \u001b[0m\n",
       "\u001b[2;36m           \u001b[0m            \u001b[32m'@context'\u001b[0m: \u001b[1m[\u001b[0m\u001b[32m'https://www.w3.org/2018/credentials/v1'\u001b[0m\u001b[1m]\u001b[0m,                      \u001b[2m               \u001b[0m\n",
       "\u001b[2;36m           \u001b[0m            \u001b[32m'id'\u001b[0m: \u001b[32m'urn:did:d2740bf3-e50f-43cf-a8e8-692e19f53757'\u001b[0m,                        \u001b[2m               \u001b[0m\n",
       "\u001b[2;36m           \u001b[0m            \u001b[32m'type'\u001b[0m: \u001b[1m[\u001b[0m\u001b[32m'VerifiableCredential'\u001b[0m, \u001b[32m'VerifiableAttestation'\u001b[0m, \u001b[32m'VerifiableId'\u001b[0m\u001b[1m]\u001b[0m,   \u001b[2m               \u001b[0m\n",
       "\u001b[2;36m           \u001b[0m            \u001b[32m'issuer'\u001b[0m: \u001b[32m'did:ebsi:zcfcwGjLBojczw9yhmUFE3Z'\u001b[0m,                                \u001b[2m               \u001b[0m\n",
       "\u001b[2;36m           \u001b[0m            \u001b[32m'issuanceDate'\u001b[0m: \u001b[32m'2022-10-21T10:27:47Z'\u001b[0m,                                      \u001b[2m               \u001b[0m\n",
       "\u001b[2;36m           \u001b[0m            \u001b[32m'validFrom'\u001b[0m: \u001b[32m'2022-10-21T10:27:47Z'\u001b[0m,                                         \u001b[2m               \u001b[0m\n",
       "\u001b[2;36m           \u001b[0m            \u001b[32m'issued'\u001b[0m: \u001b[32m'2022-10-21T10:27:47Z'\u001b[0m,                                            \u001b[2m               \u001b[0m\n",
       "\u001b[2;36m           \u001b[0m            \u001b[32m'credentialSubject'\u001b[0m: \u001b[1m{\u001b[0m                                                       \u001b[2m               \u001b[0m\n",
       "\u001b[2;36m           \u001b[0m                \u001b[32m'id'\u001b[0m: \u001b[32m'did:ebsi:zrFdYBS3Kx5XQEpaF214ic7ZX3kQQ4TpeuJkLYWeMuU5Z'\u001b[0m,          \u001b[2m               \u001b[0m\n",
       "\u001b[2;36m           \u001b[0m                \u001b[32m'personalIdentifier'\u001b[0m: \u001b[32m'IT/DE/1234'\u001b[0m,                                      \u001b[2m               \u001b[0m\n",
       "\u001b[2;36m           \u001b[0m                \u001b[32m'familyName'\u001b[0m: \u001b[32m'Castafiori'\u001b[0m,                                              \u001b[2m               \u001b[0m\n",
       "\u001b[2;36m           \u001b[0m                \u001b[32m'firstName'\u001b[0m: \u001b[32m'Bianca'\u001b[0m,                                                   \u001b[2m               \u001b[0m\n",
       "\u001b[2;36m           \u001b[0m                \u001b[32m'dateOfBirth'\u001b[0m: \u001b[32m'1930-10-01'\u001b[0m                                              \u001b[2m               \u001b[0m\n",
       "\u001b[2;36m           \u001b[0m            \u001b[1m}\u001b[0m,                                                                           \u001b[2m               \u001b[0m\n",
       "\u001b[2;36m           \u001b[0m            \u001b[32m'credentialSchema'\u001b[0m: \u001b[1m{\u001b[0m                                                        \u001b[2m               \u001b[0m\n",
       "\u001b[2;36m           \u001b[0m                \u001b[32m'id'\u001b[0m:                                                                    \u001b[2m               \u001b[0m\n",
       "\u001b[2;36m           \u001b[0m\u001b[32m'https://api.conformance.intebsi.xyz/trusted-schemas-registry/v2/schemas/zCfNxx5dMBdf4yV\u001b[0m \u001b[2m               \u001b[0m\n",
       "\u001b[2;36m           \u001b[0m\u001b[32mcsWzj1anWRuXcxrXj1aogyfN1xSu8t'\u001b[0m,                                                         \u001b[2m               \u001b[0m\n",
       "\u001b[2;36m           \u001b[0m                \u001b[32m'type'\u001b[0m: \u001b[32m'FullJsonSchemaValidator2021'\u001b[0m                                    \u001b[2m               \u001b[0m\n",
       "\u001b[2;36m           \u001b[0m            \u001b[1m}\u001b[0m                                                                            \u001b[2m               \u001b[0m\n",
       "\u001b[2;36m           \u001b[0m        \u001b[1m}\u001b[0m                                                                                \u001b[2m               \u001b[0m\n",
       "\u001b[2;36m           \u001b[0m    \u001b[1m}\u001b[0m,                                                                                   \u001b[2m               \u001b[0m\n",
       "\u001b[2;36m           \u001b[0m    \u001b[32m'signature'\u001b[0m:                                                                         \u001b[2m               \u001b[0m\n",
       "\u001b[2;36m           \u001b[0m\u001b[32m'BIOSSRrGb5IO0yYG3aqHrrBWupXFa-vFheccP9PQ5JQ7j5gvTfgbm47P3w5gh2ml033DGMeLGO-5pVU3MYndTg'\u001b[0m \u001b[2m               \u001b[0m\n",
       "\u001b[2;36m           \u001b[0m,                                                                                        \u001b[2m               \u001b[0m\n",
       "\u001b[2;36m           \u001b[0m    \u001b[32m'data'\u001b[0m:                                                                              \u001b[2m               \u001b[0m\n",
       "\u001b[2;36m           \u001b[0m\u001b[32m'eyJhbGciOiJFUzI1NksiLCJ0eXAiOiJKV1QiLCJraWQiOiJkaWQ6ZWJzaTp6Y2Zjd0dqTEJvamN6dzl5aG1VRkU\u001b[0m \u001b[2m               \u001b[0m\n",
       "\u001b[2;36m           \u001b[0m\u001b[32mzWiNrZXlzLTEifQ.eyJqdGkiOiJ1cm46ZGlkOmQyNzQwYmYzLWU1MGYtNDNjZi1hOGU4LTY5MmUxOWY1Mzc1NyIs\u001b[0m \u001b[2m               \u001b[0m\n",
       "\u001b[2;36m           \u001b[0m\u001b[32mInN1YiI6ImRpZDplYnNpOnpyRmRZQlMzS3g1WFFFcGFGMjE0aWM3Wlgza1FRNFRwZXVKa0xZV2VNdVU1WiIsImlz\u001b[0m \u001b[2m               \u001b[0m\n",
       "\u001b[2;36m           \u001b[0m\u001b[32mcyI6ImRpZDplYnNpOnpjZmN3R2pMQm9qY3p3OXlobVVGRTNaIiwibmJmIjoxNjY2MzQ4MDY3LCJpYXQiOjE2NjYz\u001b[0m \u001b[2m               \u001b[0m\n",
       "\u001b[2;36m           \u001b[0m\u001b[32mNDgwNjcsInZjIjp7IkBjb250ZXh0IjpbImh0dHBzOi8vd3d3LnczLm9yZy8yMDE4L2NyZWRlbnRpYWxzL3YxIl0s\u001b[0m \u001b[2m               \u001b[0m\n",
       "\u001b[2;36m           \u001b[0m\u001b[32mImlkIjoidXJuOmRpZDpkMjc0MGJmMy1lNTBmLTQzY2YtYThlOC02OTJlMTlmNTM3NTciLCJ0eXBlIjpbIlZlcmlm\u001b[0m \u001b[2m               \u001b[0m\n",
       "\u001b[2;36m           \u001b[0m\u001b[32maWFibGVDcmVkZW50aWFsIiwiVmVyaWZpYWJsZUF0dGVzdGF0aW9uIiwiVmVyaWZpYWJsZUlkIl0sImlzc3VlciI6\u001b[0m \u001b[2m               \u001b[0m\n",
       "\u001b[2;36m           \u001b[0m\u001b[32mImRpZDplYnNpOnpjZmN3R2pMQm9qY3p3OXlobVVGRTNaIiwiaXNzdWFuY2VEYXRlIjoiMjAyMi0xMC0yMVQxMDoy\u001b[0m \u001b[2m               \u001b[0m\n",
       "\u001b[2;36m           \u001b[0m\u001b[32mNzo0N1oiLCJ2YWxpZEZyb20iOiIyMDIyLTEwLTIxVDEwOjI3OjQ3WiIsImlzc3VlZCI6IjIwMjItMTAtMjFUMTA6\u001b[0m \u001b[2m               \u001b[0m\n",
       "\u001b[2;36m           \u001b[0m\u001b[32mMjc6NDdaIiwiY3JlZGVudGlhbFN1YmplY3QiOnsiaWQiOiJkaWQ6ZWJzaTp6ckZkWUJTM0t4NVhRRXBhRjIxNGlj\u001b[0m \u001b[2m               \u001b[0m\n",
       "\u001b[2;36m           \u001b[0m\u001b[32mN1pYM2tRUTRUcGV1SmtMWVdlTXVVNVoiLCJwZXJzb25hbElkZW50aWZpZXIiOiJJVC9ERS8xMjM0IiwiZmFtaWx5\u001b[0m \u001b[2m               \u001b[0m\n",
       "\u001b[2;36m           \u001b[0m\u001b[32mTmFtZSI6IkNhc3RhZmlvcmkiLCJmaXJzdE5hbWUiOiJCaWFuY2EiLCJkYXRlT2ZCaXJ0aCI6IjE5MzAtMTAtMDEi\u001b[0m \u001b[2m               \u001b[0m\n",
       "\u001b[2;36m           \u001b[0m\u001b[32mfSwiY3JlZGVudGlhbFNjaGVtYSI6eyJpZCI6Imh0dHBzOi8vYXBpLmNvbmZvcm1hbmNlLmludGVic2kueHl6L3Ry\u001b[0m \u001b[2m               \u001b[0m\n",
       "\u001b[2;36m           \u001b[0m\u001b[32mdXN0ZWQtc2NoZW1hcy1yZWdpc3RyeS92Mi9zY2hlbWFzL3pDZk54eDVkTUJkZjR5VmNzV3pqMWFuV1J1WGN4clhq\u001b[0m \u001b[2m               \u001b[0m\n",
       "\u001b[2;36m           \u001b[0m\u001b[32mMWFvZ3lmTjF4U3U4dCIsInR5cGUiOiJGdWxsSnNvblNjaGVtYVZhbGlkYXRvcjIwMjEifX19'\u001b[0m                \u001b[2m               \u001b[0m\n",
       "\u001b[2;36m           \u001b[0m\u001b[1m}\u001b[0m                                                                                        \u001b[2m               \u001b[0m\n"
      ]
     },
     "metadata": {},
     "output_type": "display_data"
    }
   ],
   "source": [
    "from ebsi_wallet.did_jwt import decode_jwt\n",
    "\n",
    "options = {\n",
    "    \"c_nonce\": result[\"c_nonce\"],\n",
    "    \"client\": client,\n",
    "    \"issuer_url\": issuer_url,\n",
    "    \"credential_type\": credential_type,\n",
    "}\n",
    "\n",
    "access_token = result[\"access_token\"]\n",
    "\n",
    "headers = {\n",
    "    \"Authorization\": f\"Bearer {access_token}\",\n",
    "    \"Conformance\": headers[\"Conformance\"]\n",
    "}\n",
    "\n",
    "result = await conformance(\"issuerCredential\", options=options, headers=headers)\n",
    "console.log(\"issuerCredential\", result)\n",
    "\n",
    "issue_031_credential = result[\"credential\"]\n",
    "\n",
    "credential = decode_jwt(result[\"credential\"])\n",
    "\n",
    "console.log(\"Received credential\", credential)"
   ]
  },
  {
   "cell_type": "markdown",
   "metadata": {},
   "source": [
    "## VERIFY_011"
   ]
  },
  {
   "cell_type": "code",
   "execution_count": 6,
   "metadata": {},
   "outputs": [
    {
     "data": {
      "text/html": [
       "<pre style=\"white-space:pre;overflow-x:auto;line-height:normal;font-family:Menlo,'DejaVu Sans Mono',consolas,'Courier New',monospace\"><span style=\"color: #7fbfbf; text-decoration-color: #7fbfbf\">[15:57:48] </span>verifierAuthRequest                                                                      <a href=\"file:///var/folders/z6/z5bp3zsx3g37nkmnvk3mp8880000gn/T/ipykernel_22288/3364399777.py\" target=\"_blank\"><span style=\"color: #7f7f7f; text-decoration-color: #7f7f7f\">3364399777.py</span></a><span style=\"color: #7f7f7f; text-decoration-color: #7f7f7f\">:</span><a href=\"file:///var/folders/z6/z5bp3zsx3g37nkmnvk3mp8880000gn/T/ipykernel_22288/3364399777.py#9\" target=\"_blank\"><span style=\"color: #7f7f7f; text-decoration-color: #7f7f7f\">9</span></a>\n",
       "<span style=\"color: #7fbfbf; text-decoration-color: #7fbfbf\">           </span><span style=\"font-weight: bold\">{</span>                                                                                        <span style=\"color: #7f7f7f; text-decoration-color: #7f7f7f\">               </span>\n",
       "<span style=\"color: #7fbfbf; text-decoration-color: #7fbfbf\">           </span>    <span style=\"color: #008000; text-decoration-color: #008000\">'client_id'</span>:                                                                         <span style=\"color: #7f7f7f; text-decoration-color: #7f7f7f\">               </span>\n",
       "<span style=\"color: #7fbfbf; text-decoration-color: #7fbfbf\">           </span><span style=\"color: #008000; text-decoration-color: #008000\">'https://api.conformance.intebsi.xyz/conformance/v2/verifier-mock/authentication-respons</span> <span style=\"color: #7f7f7f; text-decoration-color: #7f7f7f\">               </span>\n",
       "<span style=\"color: #7fbfbf; text-decoration-color: #7fbfbf\">           </span><span style=\"color: #008000; text-decoration-color: #008000\">es'</span>,                                                                                     <span style=\"color: #7f7f7f; text-decoration-color: #7f7f7f\">               </span>\n",
       "<span style=\"color: #7fbfbf; text-decoration-color: #7fbfbf\">           </span>    <span style=\"color: #008000; text-decoration-color: #008000\">'response_type'</span>: <span style=\"color: #008000; text-decoration-color: #008000\">'id_token'</span>,                                                         <span style=\"color: #7f7f7f; text-decoration-color: #7f7f7f\">               </span>\n",
       "<span style=\"color: #7fbfbf; text-decoration-color: #7fbfbf\">           </span>    <span style=\"color: #008000; text-decoration-color: #008000\">'scope'</span>: <span style=\"color: #008000; text-decoration-color: #008000\">'openid'</span>,                                                                   <span style=\"color: #7f7f7f; text-decoration-color: #7f7f7f\">               </span>\n",
       "<span style=\"color: #7fbfbf; text-decoration-color: #7fbfbf\">           </span>    <span style=\"color: #008000; text-decoration-color: #008000\">'claims'</span>:                                                                            <span style=\"color: #7f7f7f; text-decoration-color: #7f7f7f\">               </span>\n",
       "<span style=\"color: #7fbfbf; text-decoration-color: #7fbfbf\">           </span><span style=\"color: #008000; text-decoration-color: #008000\">'{\"id_token\":{\"email\":null},\"vp_token\":{\"presentation_definition\":{\"id\":\"conformance_moc</span> <span style=\"color: #7f7f7f; text-decoration-color: #7f7f7f\">               </span>\n",
       "<span style=\"color: #7fbfbf; text-decoration-color: #7fbfbf\">           </span><span style=\"color: #008000; text-decoration-color: #008000\">k_vp_request\",\"input_descriptors\":[{\"id\":\"conformance_mock_vp\",\"name\":\"Conformance Mock </span> <span style=\"color: #7f7f7f; text-decoration-color: #7f7f7f\">               </span>\n",
       "<span style=\"color: #7fbfbf; text-decoration-color: #7fbfbf\">           </span><span style=\"color: #008000; text-decoration-color: #008000\">VP\",\"purpose\":\"Only accept a VP containing a Conformance Mock </span>                           <span style=\"color: #7f7f7f; text-decoration-color: #7f7f7f\">               </span>\n",
       "<span style=\"color: #7fbfbf; text-decoration-color: #7fbfbf\">           </span><span style=\"color: #008000; text-decoration-color: #008000\">VA\",\"constraints\":{\"fields\":[{\"path\":[\"$.vc.credentialSchema\"],\"filter\":{\"allOf\":[{\"type</span> <span style=\"color: #7f7f7f; text-decoration-color: #7f7f7f\">               </span>\n",
       "<span style=\"color: #7fbfbf; text-decoration-color: #7fbfbf\">           </span><span style=\"color: #008000; text-decoration-color: #008000\">\":\"array\",\"contains\":{\"type\":\"object\",\"properties\":{\"id\":{\"type\":\"string\",\"pattern\":\"htt</span> <span style=\"color: #7f7f7f; text-decoration-color: #7f7f7f\">               </span>\n",
       "<span style=\"color: #7fbfbf; text-decoration-color: #7fbfbf\">           </span><span style=\"color: #008000; text-decoration-color: #008000\">ps://api.conformance.intebsi.xyz/trusted-schemas-registry/v2/schemas/z3kRpVjUFj4Bq8qHREN</span> <span style=\"color: #7f7f7f; text-decoration-color: #7f7f7f\">               </span>\n",
       "<span style=\"color: #7fbfbf; text-decoration-color: #7fbfbf\">           </span><span style=\"color: #008000; text-decoration-color: #008000\">UHiZrVF5VgMBUe7biEafp1wf2J\"}},\"required\":[\"id\"]}}]}}]}}],\"format\":{\"jwt_vp\":{\"alg\":[\"ES2</span> <span style=\"color: #7f7f7f; text-decoration-color: #7f7f7f\">               </span>\n",
       "<span style=\"color: #7fbfbf; text-decoration-color: #7fbfbf\">           </span><span style=\"color: #008000; text-decoration-color: #008000\">56K\"]}}}}}'</span>,                                                                             <span style=\"color: #7f7f7f; text-decoration-color: #7f7f7f\">               </span>\n",
       "<span style=\"color: #7fbfbf; text-decoration-color: #7fbfbf\">           </span>    <span style=\"color: #008000; text-decoration-color: #008000\">'redirect_uri'</span>:                                                                      <span style=\"color: #7f7f7f; text-decoration-color: #7f7f7f\">               </span>\n",
       "<span style=\"color: #7fbfbf; text-decoration-color: #7fbfbf\">           </span><span style=\"color: #008000; text-decoration-color: #008000\">'https://api.conformance.intebsi.xyz/conformance/v2/verifier-mock/authentication-respons</span> <span style=\"color: #7f7f7f; text-decoration-color: #7f7f7f\">               </span>\n",
       "<span style=\"color: #7fbfbf; text-decoration-color: #7fbfbf\">           </span><span style=\"color: #008000; text-decoration-color: #008000\">es'</span>,                                                                                     <span style=\"color: #7f7f7f; text-decoration-color: #7f7f7f\">               </span>\n",
       "<span style=\"color: #7fbfbf; text-decoration-color: #7fbfbf\">           </span>    <span style=\"color: #008000; text-decoration-color: #008000\">'nonce'</span>: <span style=\"color: #008000; text-decoration-color: #008000\">'aa83ea6f-3c67-46bd-8c95-74feff581797'</span>                                      <span style=\"color: #7f7f7f; text-decoration-color: #7f7f7f\">               </span>\n",
       "<span style=\"color: #7fbfbf; text-decoration-color: #7fbfbf\">           </span><span style=\"font-weight: bold\">}</span>                                                                                        <span style=\"color: #7f7f7f; text-decoration-color: #7f7f7f\">               </span>\n",
       "</pre>\n"
      ],
      "text/plain": [
       "\u001b[2;36m[15:57:48]\u001b[0m\u001b[2;36m \u001b[0mverifierAuthRequest                                                                      \u001b]8;id=542783;file:///var/folders/z6/z5bp3zsx3g37nkmnvk3mp8880000gn/T/ipykernel_22288/3364399777.py\u001b\\\u001b[2m3364399777.py\u001b[0m\u001b]8;;\u001b\\\u001b[2m:\u001b[0m\u001b]8;id=226134;file:///var/folders/z6/z5bp3zsx3g37nkmnvk3mp8880000gn/T/ipykernel_22288/3364399777.py#9\u001b\\\u001b[2m9\u001b[0m\u001b]8;;\u001b\\\n",
       "\u001b[2;36m           \u001b[0m\u001b[1m{\u001b[0m                                                                                        \u001b[2m               \u001b[0m\n",
       "\u001b[2;36m           \u001b[0m    \u001b[32m'client_id'\u001b[0m:                                                                         \u001b[2m               \u001b[0m\n",
       "\u001b[2;36m           \u001b[0m\u001b[32m'https://api.conformance.intebsi.xyz/conformance/v2/verifier-mock/authentication-respons\u001b[0m \u001b[2m               \u001b[0m\n",
       "\u001b[2;36m           \u001b[0m\u001b[32mes'\u001b[0m,                                                                                     \u001b[2m               \u001b[0m\n",
       "\u001b[2;36m           \u001b[0m    \u001b[32m'response_type'\u001b[0m: \u001b[32m'id_token'\u001b[0m,                                                         \u001b[2m               \u001b[0m\n",
       "\u001b[2;36m           \u001b[0m    \u001b[32m'scope'\u001b[0m: \u001b[32m'openid'\u001b[0m,                                                                   \u001b[2m               \u001b[0m\n",
       "\u001b[2;36m           \u001b[0m    \u001b[32m'claims'\u001b[0m:                                                                            \u001b[2m               \u001b[0m\n",
       "\u001b[2;36m           \u001b[0m\u001b[32m'\u001b[0m\u001b[32m{\u001b[0m\u001b[32m\"id_token\":\u001b[0m\u001b[32m{\u001b[0m\u001b[32m\"email\":null\u001b[0m\u001b[32m}\u001b[0m\u001b[32m,\"vp_token\":\u001b[0m\u001b[32m{\u001b[0m\u001b[32m\"presentation_definition\":\u001b[0m\u001b[32m{\u001b[0m\u001b[32m\"id\":\"conformance_moc\u001b[0m \u001b[2m               \u001b[0m\n",
       "\u001b[2;36m           \u001b[0m\u001b[32mk_vp_request\",\"input_descriptors\":\u001b[0m\u001b[32m[\u001b[0m\u001b[32m{\u001b[0m\u001b[32m\"id\":\"conformance_mock_vp\",\"name\":\"Conformance Mock \u001b[0m \u001b[2m               \u001b[0m\n",
       "\u001b[2;36m           \u001b[0m\u001b[32mVP\",\"purpose\":\"Only accept a VP containing a Conformance Mock \u001b[0m                           \u001b[2m               \u001b[0m\n",
       "\u001b[2;36m           \u001b[0m\u001b[32mVA\",\"constraints\":\u001b[0m\u001b[32m{\u001b[0m\u001b[32m\"fields\":\u001b[0m\u001b[32m[\u001b[0m\u001b[32m{\u001b[0m\u001b[32m\"path\":\u001b[0m\u001b[32m[\u001b[0m\u001b[32m\"$.vc.credentialSchema\"\u001b[0m\u001b[32m]\u001b[0m\u001b[32m,\"filter\":\u001b[0m\u001b[32m{\u001b[0m\u001b[32m\"allOf\":\u001b[0m\u001b[32m[\u001b[0m\u001b[32m{\u001b[0m\u001b[32m\"type\u001b[0m \u001b[2m               \u001b[0m\n",
       "\u001b[2;36m           \u001b[0m\u001b[32m\":\"array\",\"contains\":\u001b[0m\u001b[32m{\u001b[0m\u001b[32m\"type\":\"object\",\"properties\":\u001b[0m\u001b[32m{\u001b[0m\u001b[32m\"id\":\u001b[0m\u001b[32m{\u001b[0m\u001b[32m\"type\":\"string\",\"pattern\":\"htt\u001b[0m \u001b[2m               \u001b[0m\n",
       "\u001b[2;36m           \u001b[0m\u001b[32mps://api.conformance.intebsi.xyz/trusted-schemas-registry/v2/schemas/z3kRpVjUFj4Bq8qHREN\u001b[0m \u001b[2m               \u001b[0m\n",
       "\u001b[2;36m           \u001b[0m\u001b[32mUHiZrVF5VgMBUe7biEafp1wf2J\"\u001b[0m\u001b[32m}\u001b[0m\u001b[32m}\u001b[0m\u001b[32m,\"required\":\u001b[0m\u001b[32m[\u001b[0m\u001b[32m\"id\"\u001b[0m\u001b[32m]\u001b[0m\u001b[32m}\u001b[0m\u001b[32m}\u001b[0m\u001b[32m]\u001b[0m\u001b[32m}\u001b[0m\u001b[32m}\u001b[0m\u001b[32m]\u001b[0m\u001b[32m}\u001b[0m\u001b[32m}\u001b[0m\u001b[32m]\u001b[0m\u001b[32m,\"format\":\u001b[0m\u001b[32m{\u001b[0m\u001b[32m\"jwt_vp\":\u001b[0m\u001b[32m{\u001b[0m\u001b[32m\"alg\":\u001b[0m\u001b[32m[\u001b[0m\u001b[32m\"ES2\u001b[0m \u001b[2m               \u001b[0m\n",
       "\u001b[2;36m           \u001b[0m\u001b[32m56K\"\u001b[0m\u001b[32m]\u001b[0m\u001b[32m}\u001b[0m\u001b[32m}\u001b[0m\u001b[32m}\u001b[0m\u001b[32m}\u001b[0m\u001b[32m}\u001b[0m\u001b[32m'\u001b[0m,                                                                             \u001b[2m               \u001b[0m\n",
       "\u001b[2;36m           \u001b[0m    \u001b[32m'redirect_uri'\u001b[0m:                                                                      \u001b[2m               \u001b[0m\n",
       "\u001b[2;36m           \u001b[0m\u001b[32m'https://api.conformance.intebsi.xyz/conformance/v2/verifier-mock/authentication-respons\u001b[0m \u001b[2m               \u001b[0m\n",
       "\u001b[2;36m           \u001b[0m\u001b[32mes'\u001b[0m,                                                                                     \u001b[2m               \u001b[0m\n",
       "\u001b[2;36m           \u001b[0m    \u001b[32m'nonce'\u001b[0m: \u001b[32m'aa83ea6f-3c67-46bd-8c95-74feff581797'\u001b[0m                                      \u001b[2m               \u001b[0m\n",
       "\u001b[2;36m           \u001b[0m\u001b[1m}\u001b[0m                                                                                        \u001b[2m               \u001b[0m\n"
      ]
     },
     "metadata": {},
     "output_type": "display_data"
    }
   ],
   "source": [
    "headers = {\n",
    "    \"Conformance\": headers.get(\"Conformance\")\n",
    "}\n",
    "options = {\n",
    "    \"did_version\": \"v2\"\n",
    "}\n",
    "\n",
    "result = await conformance(\"verifierAuthRequest\", options=options, headers=headers)\n",
    "console.log(\"verifierAuthRequest\", result)"
   ]
  },
  {
   "cell_type": "markdown",
   "metadata": {},
   "source": [
    "### Create Verifiable Presentation JWT"
   ]
  },
  {
   "cell_type": "code",
   "execution_count": 11,
   "metadata": {},
   "outputs": [
    {
     "data": {
      "text/html": [
       "<pre style=\"white-space:pre;overflow-x:auto;line-height:normal;font-family:Menlo,'DejaVu Sans Mono',consolas,'Courier New',monospace\"><span style=\"color: #7fbfbf; text-decoration-color: #7fbfbf\">[15:57:57] </span>createPresentationJwt                                                                   <a href=\"file:///var/folders/z6/z5bp3zsx3g37nkmnvk3mp8880000gn/T/ipykernel_22288/2803278071.py\" target=\"_blank\"><span style=\"color: #7f7f7f; text-decoration-color: #7f7f7f\">2803278071.py</span></a><span style=\"color: #7f7f7f; text-decoration-color: #7f7f7f\">:</span><a href=\"file:///var/folders/z6/z5bp3zsx3g37nkmnvk3mp8880000gn/T/ipykernel_22288/2803278071.py#14\" target=\"_blank\"><span style=\"color: #7f7f7f; text-decoration-color: #7f7f7f\">14</span></a>\n",
       "<span style=\"color: #7fbfbf; text-decoration-color: #7fbfbf\">           </span><span style=\"font-weight: bold\">{</span>                                                                                       <span style=\"color: #7f7f7f; text-decoration-color: #7f7f7f\">                </span>\n",
       "<span style=\"color: #7fbfbf; text-decoration-color: #7fbfbf\">           </span>    <span style=\"color: #008000; text-decoration-color: #008000\">'jwtVp'</span>:                                                                            <span style=\"color: #7f7f7f; text-decoration-color: #7f7f7f\">                </span>\n",
       "<span style=\"color: #7fbfbf; text-decoration-color: #7fbfbf\">           </span><span style=\"color: #008000; text-decoration-color: #008000\">'eyJhbGciOiAiRVMyNTZLIiwgInR5cCI6ICJKV1QiLCAia2lkIjogImRpZDplYnNpOnpyRmRZQlMzS3g1WFFFcG</span> <span style=\"color: #7f7f7f; text-decoration-color: #7f7f7f\">                </span>\n",
       "<span style=\"color: #7fbfbf; text-decoration-color: #7fbfbf\">           </span><span style=\"color: #008000; text-decoration-color: #008000\">FGMjE0aWM3Wlgza1FRNFRwZXVKa0xZV2VNdVU1WiMyOHdhbU8wYnhyc0tmRkJ5YTRzWnFELUpVVVJ5Vkd1SDNwc</span> <span style=\"color: #7f7f7f; text-decoration-color: #7f7f7f\">                </span>\n",
       "<span style=\"color: #7fbfbf; text-decoration-color: #7fbfbf\">           </span><span style=\"color: #008000; text-decoration-color: #008000\">U5Zdm84bVJRIiwgImp3ayI6IHsia3R5IjogIkVDIiwgImNydiI6ICJzZWNwMjU2azEiLCAieCI6ICJtVVR5RnFw</span> <span style=\"color: #7f7f7f; text-decoration-color: #7f7f7f\">                </span>\n",
       "<span style=\"color: #7fbfbf; text-decoration-color: #7fbfbf\">           </span><span style=\"color: #008000; text-decoration-color: #008000\">bWZIMlcyQ2dxNTNOY2lWaDhGVENWdUQ3bzZlbkFEV0F5bEdzIiwgInkiOiAiamg4M19ITUNLaDJ3S1dWdkl0TnB</span> <span style=\"color: #7f7f7f; text-decoration-color: #7f7f7f\">                </span>\n",
       "<span style=\"color: #7fbfbf; text-decoration-color: #7fbfbf\">           </span><span style=\"color: #008000; text-decoration-color: #008000\">3ZHktS0tYZGUwdVF4eWpyUG0xem9OQSJ9fQ.eyJqdGkiOiAidXJuOmRpZDo3Y2U0ZDFkNi03MWNjLTRhNjctYjd</span> <span style=\"color: #7f7f7f; text-decoration-color: #7f7f7f\">                </span>\n",
       "<span style=\"color: #7fbfbf; text-decoration-color: #7fbfbf\">           </span><span style=\"color: #008000; text-decoration-color: #008000\">mYy05YTBjMDM5N2I3N2UiLCAic3ViIjogImRpZDplYnNpOnpyRmRZQlMzS3g1WFFFcGFGMjE0aWM3Wlgza1FRNF</span> <span style=\"color: #7f7f7f; text-decoration-color: #7f7f7f\">                </span>\n",
       "<span style=\"color: #7fbfbf; text-decoration-color: #7fbfbf\">           </span><span style=\"color: #008000; text-decoration-color: #008000\">RwZXVKa0xZV2VNdVU1WiIsICJpc3MiOiAiZGlkOmVic2k6enJGZFlCUzNLeDVYUUVwYUYyMTRpYzdaWDNrUVE0V</span> <span style=\"color: #7f7f7f; text-decoration-color: #7f7f7f\">                </span>\n",
       "<span style=\"color: #7fbfbf; text-decoration-color: #7fbfbf\">           </span><span style=\"color: #008000; text-decoration-color: #008000\">HBldUprTFlXZU11VTVaIiwgIm5iZiI6IDE2NjYzNDgwNzAsICJleHAiOiAxNjY2MzQ4OTc3LCAiaWF0IjogMTY2</span> <span style=\"color: #7f7f7f; text-decoration-color: #7f7f7f\">                </span>\n",
       "<span style=\"color: #7fbfbf; text-decoration-color: #7fbfbf\">           </span><span style=\"color: #008000; text-decoration-color: #008000\">NjM0ODA3NywgImF1ZCI6ICJkaWQ6ZWJzaTp6Y2Zjd0dqTEJvamN6dzl5aG1VRkUzWiIsICJ2cCI6IHsiaWQiOiA</span> <span style=\"color: #7f7f7f; text-decoration-color: #7f7f7f\">                </span>\n",
       "<span style=\"color: #7fbfbf; text-decoration-color: #7fbfbf\">           </span><span style=\"color: #008000; text-decoration-color: #008000\">idXJuOmRpZDo3Y2U0ZDFkNi03MWNjLTRhNjctYjdmYy05YTBjMDM5N2I3N2UiLCAiQGNvbnRleHQiOiBbImh0dH</span> <span style=\"color: #7f7f7f; text-decoration-color: #7f7f7f\">                </span>\n",
       "<span style=\"color: #7fbfbf; text-decoration-color: #7fbfbf\">           </span><span style=\"color: #008000; text-decoration-color: #008000\">BzOi8vd3d3LnczLm9yZy8yMDE4L2NyZWRlbnRpYWxzL3YxIl0sICJ0eXBlIjogWyJWZXJpZmlhYmxlUHJlc2Vud</span> <span style=\"color: #7f7f7f; text-decoration-color: #7f7f7f\">                </span>\n",
       "<span style=\"color: #7fbfbf; text-decoration-color: #7fbfbf\">           </span><span style=\"color: #008000; text-decoration-color: #008000\">GF0aW9uIl0sICJob2xkZXIiOiAiZGlkOmVic2k6enJGZFlCUzNLeDVYUUVwYUYyMTRpYzdaWDNrUVE0VHBldUpr</span> <span style=\"color: #7f7f7f; text-decoration-color: #7f7f7f\">                </span>\n",
       "<span style=\"color: #7fbfbf; text-decoration-color: #7fbfbf\">           </span><span style=\"color: #008000; text-decoration-color: #008000\">TFlXZU11VTVaIiwgInZlcmlmaWFibGVDcmVkZW50aWFsIjogWyJleUpoYkdjaU9pSkZVekkxTmtzaUxDSjBlWEF</span> <span style=\"color: #7f7f7f; text-decoration-color: #7f7f7f\">                </span>\n",
       "<span style=\"color: #7fbfbf; text-decoration-color: #7fbfbf\">           </span><span style=\"color: #008000; text-decoration-color: #008000\">pT2lKS1YxUWlMQ0pyYVdRaU9pSmthV1E2WldKemFUcDZZMlpqZDBkcVRFSnZhbU42ZHpsNWFHMVZSa1V6V2lOcl</span> <span style=\"color: #7f7f7f; text-decoration-color: #7f7f7f\">                </span>\n",
       "<span style=\"color: #7fbfbf; text-decoration-color: #7fbfbf\">           </span><span style=\"color: #008000; text-decoration-color: #008000\">pYbHpMVEVpZlEuZXlKcWRHa2lPaUoxY200NlpHbGtPbVF5TnpRd1ltWXpMV1UxTUdZdE5ETmpaaTFoT0dVNExUW</span> <span style=\"color: #7f7f7f; text-decoration-color: #7f7f7f\">                </span>\n",
       "<span style=\"color: #7fbfbf; text-decoration-color: #7fbfbf\">           </span><span style=\"color: #008000; text-decoration-color: #008000\">TVNbVV4T1dZMU16YzFOeUlzSW5OMVlpSTZJbVJwWkRwbFluTnBPbnB5Um1SWlFsTXpTM2cxV0ZGRmNHRkdNakUw</span> <span style=\"color: #7f7f7f; text-decoration-color: #7f7f7f\">                </span>\n",
       "<span style=\"color: #7fbfbf; text-decoration-color: #7fbfbf\">           </span><span style=\"color: #008000; text-decoration-color: #008000\">YVdNM1dsZ3phMUZSTkZSd1pYVkthMHhaVjJWTmRWVTFXaUlzSW1semN5STZJbVJwWkRwbFluTnBPbnBqWm1OM1I</span> <span style=\"color: #7f7f7f; text-decoration-color: #7f7f7f\">                </span>\n",
       "<span style=\"color: #7fbfbf; text-decoration-color: #7fbfbf\">           </span><span style=\"color: #008000; text-decoration-color: #008000\">ycE1RbTlxWTNwM09YbG9iVlZHUlROYUlpd2libUptSWpveE5qWTJNelE0TURZM0xDSnBZWFFpT2pFMk5qWXpORG</span> <span style=\"color: #7f7f7f; text-decoration-color: #7f7f7f\">                </span>\n",
       "<span style=\"color: #7fbfbf; text-decoration-color: #7fbfbf\">           </span><span style=\"color: #008000; text-decoration-color: #008000\">d3Tmpjc0luWmpJanA3SWtCamIyNTBaWGgwSWpwYkltaDBkSEJ6T2k4dmQzZDNMbmN6TG05eVp5OHlNREU0TDJOe</span> <span style=\"color: #7f7f7f; text-decoration-color: #7f7f7f\">                </span>\n",
       "<span style=\"color: #7fbfbf; text-decoration-color: #7fbfbf\">           </span><span style=\"color: #008000; text-decoration-color: #008000\">VpXUmxiblJwWVd4ekwzWXhJbDBzSW1sa0lqb2lkWEp1T21ScFpEcGtNamMwTUdKbU15MWxOVEJtTFRRelkyWXRZ</span> <span style=\"color: #7f7f7f; text-decoration-color: #7f7f7f\">                </span>\n",
       "<span style=\"color: #7fbfbf; text-decoration-color: #7fbfbf\">           </span><span style=\"color: #008000; text-decoration-color: #008000\">VGhsT0MwMk9USmxNVGxtTlRNM05UY2lMQ0owZVhCbElqcGJJbFpsY21sbWFXRmliR1ZEY21Wa1pXNTBhV0ZzSWl</span> <span style=\"color: #7f7f7f; text-decoration-color: #7f7f7f\">                </span>\n",
       "<span style=\"color: #7fbfbf; text-decoration-color: #7fbfbf\">           </span><span style=\"color: #008000; text-decoration-color: #008000\">3aVZtVnlhV1pwWVdKc1pVRjBkR1Z6ZEdGMGFXOXVJaXdpVm1WeWFXWnBZV0pzWlVsa0lsMHNJbWx6YzNWbGNpST</span> <span style=\"color: #7f7f7f; text-decoration-color: #7f7f7f\">                </span>\n",
       "<span style=\"color: #7fbfbf; text-decoration-color: #7fbfbf\">           </span><span style=\"color: #008000; text-decoration-color: #008000\">ZJbVJwWkRwbFluTnBPbnBqWm1OM1IycE1RbTlxWTNwM09YbG9iVlZHUlROYUlpd2lhWE56ZFdGdVkyVkVZWFJsS</span> <span style=\"color: #7f7f7f; text-decoration-color: #7f7f7f\">                </span>\n",
       "<span style=\"color: #7fbfbf; text-decoration-color: #7fbfbf\">           </span><span style=\"color: #008000; text-decoration-color: #008000\">WpvaU1qQXlNaTB4TUMweU1WUXhNRG95TnpvME4xb2lMQ0oyWVd4cFpFWnliMjBpT2lJeU1ESXlMVEV3TFRJeFZE</span> <span style=\"color: #7f7f7f; text-decoration-color: #7f7f7f\">                </span>\n",
       "<span style=\"color: #7fbfbf; text-decoration-color: #7fbfbf\">           </span><span style=\"color: #008000; text-decoration-color: #008000\">RXdPakkzT2pRM1dpSXNJbWx6YzNWbFpDSTZJakl3TWpJdE1UQXRNakZVTVRBNk1qYzZORGRhSWl3aVkzSmxaR1Z</span> <span style=\"color: #7f7f7f; text-decoration-color: #7f7f7f\">                </span>\n",
       "<span style=\"color: #7fbfbf; text-decoration-color: #7fbfbf\">           </span><span style=\"color: #008000; text-decoration-color: #008000\">1ZEdsaGJGTjFZbXBsWTNRaU9uc2lhV1FpT2lKa2FXUTZaV0p6YVRwNmNrWmtXVUpUTTB0NE5WaFJSWEJoUmpJeE</span> <span style=\"color: #7f7f7f; text-decoration-color: #7f7f7f\">                </span>\n",
       "<span style=\"color: #7fbfbf; text-decoration-color: #7fbfbf\">           </span><span style=\"color: #008000; text-decoration-color: #008000\">5HbGpOMXBZTTJ0UlVUUlVjR1YxU210TVdWZGxUWFZWTlZvaUxDSndaWEp6YjI1aGJFbGtaVzUwYVdacFpYSWlPa</span> <span style=\"color: #7f7f7f; text-decoration-color: #7f7f7f\">                </span>\n",
       "<span style=\"color: #7fbfbf; text-decoration-color: #7fbfbf\">           </span><span style=\"color: #008000; text-decoration-color: #008000\">UpKVkM5RVJTOHhNak0wSWl3aVptRnRhV3g1VG1GdFpTSTZJa05oYzNSaFptbHZjbWtpTENKbWFYSnpkRTVoYldV</span> <span style=\"color: #7f7f7f; text-decoration-color: #7f7f7f\">                </span>\n",
       "<span style=\"color: #7fbfbf; text-decoration-color: #7fbfbf\">           </span><span style=\"color: #008000; text-decoration-color: #008000\">aU9pSkNhV0Z1WTJFaUxDSmtZWFJsVDJaQ2FYSjBhQ0k2SWpFNU16QXRNVEF0TURFaWZTd2lZM0psWkdWdWRHbGh</span> <span style=\"color: #7f7f7f; text-decoration-color: #7f7f7f\">                </span>\n",
       "<span style=\"color: #7fbfbf; text-decoration-color: #7fbfbf\">           </span><span style=\"color: #008000; text-decoration-color: #008000\">iRk5qYUdWdFlTSTZleUpwWkNJNkltaDBkSEJ6T2k4dllYQnBMbU52Ym1admNtMWhibU5sTG1sdWRHVmljMmt1ZU</span> <span style=\"color: #7f7f7f; text-decoration-color: #7f7f7f\">                </span>\n",
       "<span style=\"color: #7fbfbf; text-decoration-color: #7fbfbf\">           </span><span style=\"color: #008000; text-decoration-color: #008000\">hsNkwzUnlkWE4wWldRdGMyTm9aVzFoY3kxeVpXZHBjM1J5ZVM5Mk1pOXpZMmhsYldGekwzcERaazU0ZURWa1RVS</span> <span style=\"color: #7f7f7f; text-decoration-color: #7f7f7f\">                </span>\n",
       "<span style=\"color: #7fbfbf; text-decoration-color: #7fbfbf\">           </span><span style=\"color: #008000; text-decoration-color: #008000\">mtaalI1Vm1OelYzcHFNV0Z1VjFKMVdHTjRjbGhxTVdGdlozbG1UakY0VTNVNGRDSXNJblI1Y0dVaU9pSkdkV3hz</span> <span style=\"color: #7f7f7f; text-decoration-color: #7f7f7f\">                </span>\n",
       "<span style=\"color: #7fbfbf; text-decoration-color: #7fbfbf\">           </span><span style=\"color: #008000; text-decoration-color: #008000\">U25OdmJsTmphR1Z0WVZaaGJHbGtZWFJ2Y2pJd01qRWlmWDE5LkJJT1NTUnJHYjVJTzB5WUczYXFIcnJCV3VwWEZ</span> <span style=\"color: #7f7f7f; text-decoration-color: #7f7f7f\">                </span>\n",
       "<span style=\"color: #7fbfbf; text-decoration-color: #7fbfbf\">           </span><span style=\"color: #008000; text-decoration-color: #008000\">hLXZGaGVjY1A5UFE1SlE3ajVndlRmZ2JtNDdQM3c1Z2gybWwwMzNER01lTEdPLTVwVlUzTVluZFRnIl19fQ.4O9</span> <span style=\"color: #7f7f7f; text-decoration-color: #7f7f7f\">                </span>\n",
       "<span style=\"color: #7fbfbf; text-decoration-color: #7fbfbf\">           </span><span style=\"color: #008000; text-decoration-color: #008000\">YiCP5Lgumf2BNgcVWsdbGOY1BG0OjowdUPKhGk2AybMSO6kfafXNZF6UErC1pY1IwWnTcD3wUN-WexY5aQQ'</span>,   <span style=\"color: #7f7f7f; text-decoration-color: #7f7f7f\">                </span>\n",
       "<span style=\"color: #7fbfbf; text-decoration-color: #7fbfbf\">           </span>    <span style=\"color: #008000; text-decoration-color: #008000\">'payload'</span>: <span style=\"font-weight: bold\">{</span>                                                                        <span style=\"color: #7f7f7f; text-decoration-color: #7f7f7f\">                </span>\n",
       "<span style=\"color: #7fbfbf; text-decoration-color: #7fbfbf\">           </span>        <span style=\"color: #008000; text-decoration-color: #008000\">'id'</span>: <span style=\"color: #008000; text-decoration-color: #008000\">'urn:did:7ce4d1d6-71cc-4a67-b7fc-9a0c0397b77e'</span>,                           <span style=\"color: #7f7f7f; text-decoration-color: #7f7f7f\">                </span>\n",
       "<span style=\"color: #7fbfbf; text-decoration-color: #7fbfbf\">           </span>        <span style=\"color: #008000; text-decoration-color: #008000\">'@context'</span>: <span style=\"font-weight: bold\">[</span><span style=\"color: #008000; text-decoration-color: #008000\">'https://www.w3.org/2018/credentials/v1'</span><span style=\"font-weight: bold\">]</span>,                         <span style=\"color: #7f7f7f; text-decoration-color: #7f7f7f\">                </span>\n",
       "<span style=\"color: #7fbfbf; text-decoration-color: #7fbfbf\">           </span>        <span style=\"color: #008000; text-decoration-color: #008000\">'type'</span>: <span style=\"font-weight: bold\">[</span><span style=\"color: #008000; text-decoration-color: #008000\">'VerifiablePresentation'</span><span style=\"font-weight: bold\">]</span>,                                             <span style=\"color: #7f7f7f; text-decoration-color: #7f7f7f\">                </span>\n",
       "<span style=\"color: #7fbfbf; text-decoration-color: #7fbfbf\">           </span>        <span style=\"color: #008000; text-decoration-color: #008000\">'holder'</span>: <span style=\"color: #008000; text-decoration-color: #008000\">'did:ebsi:zrFdYBS3Kx5XQEpaF214ic7ZX3kQQ4TpeuJkLYWeMuU5Z'</span>,             <span style=\"color: #7f7f7f; text-decoration-color: #7f7f7f\">                </span>\n",
       "<span style=\"color: #7fbfbf; text-decoration-color: #7fbfbf\">           </span>        <span style=\"color: #008000; text-decoration-color: #008000\">'verifiableCredential'</span>: <span style=\"font-weight: bold\">[</span>                                                       <span style=\"color: #7f7f7f; text-decoration-color: #7f7f7f\">                </span>\n",
       "<span style=\"color: #7fbfbf; text-decoration-color: #7fbfbf\">           </span>            <span style=\"color: #008000; text-decoration-color: #008000\">'eyJhbGciOiJFUzI1NksiLCJ0eXAiOiJKV1QiLCJraWQiOiJkaWQ6ZWJzaTp6Y2Zjd0dqTEJvam</span> <span style=\"color: #7f7f7f; text-decoration-color: #7f7f7f\">                </span>\n",
       "<span style=\"color: #7fbfbf; text-decoration-color: #7fbfbf\">           </span><span style=\"color: #008000; text-decoration-color: #008000\">N6dzl5aG1VRkUzWiNrZXlzLTEifQ.eyJqdGkiOiJ1cm46ZGlkOmQyNzQwYmYzLWU1MGYtNDNjZi1hOGU4LTY5Mm</span> <span style=\"color: #7f7f7f; text-decoration-color: #7f7f7f\">                </span>\n",
       "<span style=\"color: #7fbfbf; text-decoration-color: #7fbfbf\">           </span><span style=\"color: #008000; text-decoration-color: #008000\">UxOWY1Mzc1NyIsInN1YiI6ImRpZDplYnNpOnpyRmRZQlMzS3g1WFFFcGFGMjE0aWM3Wlgza1FRNFRwZXVKa0xZV</span> <span style=\"color: #7f7f7f; text-decoration-color: #7f7f7f\">                </span>\n",
       "<span style=\"color: #7fbfbf; text-decoration-color: #7fbfbf\">           </span><span style=\"color: #008000; text-decoration-color: #008000\">2VNdVU1WiIsImlzcyI6ImRpZDplYnNpOnpjZmN3R2pMQm9qY3p3OXlobVVGRTNaIiwibmJmIjoxNjY2MzQ4MDY3</span> <span style=\"color: #7f7f7f; text-decoration-color: #7f7f7f\">                </span>\n",
       "<span style=\"color: #7fbfbf; text-decoration-color: #7fbfbf\">           </span><span style=\"color: #008000; text-decoration-color: #008000\">LCJpYXQiOjE2NjYzNDgwNjcsInZjIjp7IkBjb250ZXh0IjpbImh0dHBzOi8vd3d3LnczLm9yZy8yMDE4L2NyZWR</span> <span style=\"color: #7f7f7f; text-decoration-color: #7f7f7f\">                </span>\n",
       "<span style=\"color: #7fbfbf; text-decoration-color: #7fbfbf\">           </span><span style=\"color: #008000; text-decoration-color: #008000\">lbnRpYWxzL3YxIl0sImlkIjoidXJuOmRpZDpkMjc0MGJmMy1lNTBmLTQzY2YtYThlOC02OTJlMTlmNTM3NTciLC</span> <span style=\"color: #7f7f7f; text-decoration-color: #7f7f7f\">                </span>\n",
       "<span style=\"color: #7fbfbf; text-decoration-color: #7fbfbf\">           </span><span style=\"color: #008000; text-decoration-color: #008000\">J0eXBlIjpbIlZlcmlmaWFibGVDcmVkZW50aWFsIiwiVmVyaWZpYWJsZUF0dGVzdGF0aW9uIiwiVmVyaWZpYWJsZ</span> <span style=\"color: #7f7f7f; text-decoration-color: #7f7f7f\">                </span>\n",
       "<span style=\"color: #7fbfbf; text-decoration-color: #7fbfbf\">           </span><span style=\"color: #008000; text-decoration-color: #008000\">UlkIl0sImlzc3VlciI6ImRpZDplYnNpOnpjZmN3R2pMQm9qY3p3OXlobVVGRTNaIiwiaXNzdWFuY2VEYXRlIjoi</span> <span style=\"color: #7f7f7f; text-decoration-color: #7f7f7f\">                </span>\n",
       "<span style=\"color: #7fbfbf; text-decoration-color: #7fbfbf\">           </span><span style=\"color: #008000; text-decoration-color: #008000\">MjAyMi0xMC0yMVQxMDoyNzo0N1oiLCJ2YWxpZEZyb20iOiIyMDIyLTEwLTIxVDEwOjI3OjQ3WiIsImlzc3VlZCI</span> <span style=\"color: #7f7f7f; text-decoration-color: #7f7f7f\">                </span>\n",
       "<span style=\"color: #7fbfbf; text-decoration-color: #7fbfbf\">           </span><span style=\"color: #008000; text-decoration-color: #008000\">6IjIwMjItMTAtMjFUMTA6Mjc6NDdaIiwiY3JlZGVudGlhbFN1YmplY3QiOnsiaWQiOiJkaWQ6ZWJzaTp6ckZkWU</span> <span style=\"color: #7f7f7f; text-decoration-color: #7f7f7f\">                </span>\n",
       "<span style=\"color: #7fbfbf; text-decoration-color: #7fbfbf\">           </span><span style=\"color: #008000; text-decoration-color: #008000\">JTM0t4NVhRRXBhRjIxNGljN1pYM2tRUTRUcGV1SmtMWVdlTXVVNVoiLCJwZXJzb25hbElkZW50aWZpZXIiOiJJV</span> <span style=\"color: #7f7f7f; text-decoration-color: #7f7f7f\">                </span>\n",
       "<span style=\"color: #7fbfbf; text-decoration-color: #7fbfbf\">           </span><span style=\"color: #008000; text-decoration-color: #008000\">C9ERS8xMjM0IiwiZmFtaWx5TmFtZSI6IkNhc3RhZmlvcmkiLCJmaXJzdE5hbWUiOiJCaWFuY2EiLCJkYXRlT2ZC</span> <span style=\"color: #7f7f7f; text-decoration-color: #7f7f7f\">                </span>\n",
       "<span style=\"color: #7fbfbf; text-decoration-color: #7fbfbf\">           </span><span style=\"color: #008000; text-decoration-color: #008000\">aXJ0aCI6IjE5MzAtMTAtMDEifSwiY3JlZGVudGlhbFNjaGVtYSI6eyJpZCI6Imh0dHBzOi8vYXBpLmNvbmZvcm1</span> <span style=\"color: #7f7f7f; text-decoration-color: #7f7f7f\">                </span>\n",
       "<span style=\"color: #7fbfbf; text-decoration-color: #7fbfbf\">           </span><span style=\"color: #008000; text-decoration-color: #008000\">hbmNlLmludGVic2kueHl6L3RydXN0ZWQtc2NoZW1hcy1yZWdpc3RyeS92Mi9zY2hlbWFzL3pDZk54eDVkTUJkZj</span> <span style=\"color: #7f7f7f; text-decoration-color: #7f7f7f\">                </span>\n",
       "<span style=\"color: #7fbfbf; text-decoration-color: #7fbfbf\">           </span><span style=\"color: #008000; text-decoration-color: #008000\">R5VmNzV3pqMWFuV1J1WGN4clhqMWFvZ3lmTjF4U3U4dCIsInR5cGUiOiJGdWxsSnNvblNjaGVtYVZhbGlkYXRvc</span> <span style=\"color: #7f7f7f; text-decoration-color: #7f7f7f\">                </span>\n",
       "<span style=\"color: #7fbfbf; text-decoration-color: #7fbfbf\">           </span><span style=\"color: #008000; text-decoration-color: #008000\">jIwMjEifX19.BIOSSRrGb5IO0yYG3aqHrrBWupXFa-vFheccP9PQ5JQ7j5gvTfgbm47P3w5gh2ml033DGMeLGO-</span> <span style=\"color: #7f7f7f; text-decoration-color: #7f7f7f\">                </span>\n",
       "<span style=\"color: #7fbfbf; text-decoration-color: #7fbfbf\">           </span><span style=\"color: #008000; text-decoration-color: #008000\">5pVU3MYndTg'</span>                                                                            <span style=\"color: #7f7f7f; text-decoration-color: #7f7f7f\">                </span>\n",
       "<span style=\"color: #7fbfbf; text-decoration-color: #7fbfbf\">           </span>        <span style=\"font-weight: bold\">]</span>                                                                               <span style=\"color: #7f7f7f; text-decoration-color: #7f7f7f\">                </span>\n",
       "<span style=\"color: #7fbfbf; text-decoration-color: #7fbfbf\">           </span>    <span style=\"font-weight: bold\">}</span>                                                                                   <span style=\"color: #7f7f7f; text-decoration-color: #7f7f7f\">                </span>\n",
       "<span style=\"color: #7fbfbf; text-decoration-color: #7fbfbf\">           </span><span style=\"font-weight: bold\">}</span>                                                                                       <span style=\"color: #7f7f7f; text-decoration-color: #7f7f7f\">                </span>\n",
       "</pre>\n"
      ],
      "text/plain": [
       "\u001b[2;36m[15:57:57]\u001b[0m\u001b[2;36m \u001b[0mcreatePresentationJwt                                                                   \u001b]8;id=148526;file:///var/folders/z6/z5bp3zsx3g37nkmnvk3mp8880000gn/T/ipykernel_22288/2803278071.py\u001b\\\u001b[2m2803278071.py\u001b[0m\u001b]8;;\u001b\\\u001b[2m:\u001b[0m\u001b]8;id=278897;file:///var/folders/z6/z5bp3zsx3g37nkmnvk3mp8880000gn/T/ipykernel_22288/2803278071.py#14\u001b\\\u001b[2m14\u001b[0m\u001b]8;;\u001b\\\n",
       "\u001b[2;36m           \u001b[0m\u001b[1m{\u001b[0m                                                                                       \u001b[2m                \u001b[0m\n",
       "\u001b[2;36m           \u001b[0m    \u001b[32m'jwtVp'\u001b[0m:                                                                            \u001b[2m                \u001b[0m\n",
       "\u001b[2;36m           \u001b[0m\u001b[32m'eyJhbGciOiAiRVMyNTZLIiwgInR5cCI6ICJKV1QiLCAia2lkIjogImRpZDplYnNpOnpyRmRZQlMzS3g1WFFFcG\u001b[0m \u001b[2m                \u001b[0m\n",
       "\u001b[2;36m           \u001b[0m\u001b[32mFGMjE0aWM3Wlgza1FRNFRwZXVKa0xZV2VNdVU1WiMyOHdhbU8wYnhyc0tmRkJ5YTRzWnFELUpVVVJ5Vkd1SDNwc\u001b[0m \u001b[2m                \u001b[0m\n",
       "\u001b[2;36m           \u001b[0m\u001b[32mU5Zdm84bVJRIiwgImp3ayI6IHsia3R5IjogIkVDIiwgImNydiI6ICJzZWNwMjU2azEiLCAieCI6ICJtVVR5RnFw\u001b[0m \u001b[2m                \u001b[0m\n",
       "\u001b[2;36m           \u001b[0m\u001b[32mbWZIMlcyQ2dxNTNOY2lWaDhGVENWdUQ3bzZlbkFEV0F5bEdzIiwgInkiOiAiamg4M19ITUNLaDJ3S1dWdkl0TnB\u001b[0m \u001b[2m                \u001b[0m\n",
       "\u001b[2;36m           \u001b[0m\u001b[32m3ZHktS0tYZGUwdVF4eWpyUG0xem9OQSJ9fQ.eyJqdGkiOiAidXJuOmRpZDo3Y2U0ZDFkNi03MWNjLTRhNjctYjd\u001b[0m \u001b[2m                \u001b[0m\n",
       "\u001b[2;36m           \u001b[0m\u001b[32mmYy05YTBjMDM5N2I3N2UiLCAic3ViIjogImRpZDplYnNpOnpyRmRZQlMzS3g1WFFFcGFGMjE0aWM3Wlgza1FRNF\u001b[0m \u001b[2m                \u001b[0m\n",
       "\u001b[2;36m           \u001b[0m\u001b[32mRwZXVKa0xZV2VNdVU1WiIsICJpc3MiOiAiZGlkOmVic2k6enJGZFlCUzNLeDVYUUVwYUYyMTRpYzdaWDNrUVE0V\u001b[0m \u001b[2m                \u001b[0m\n",
       "\u001b[2;36m           \u001b[0m\u001b[32mHBldUprTFlXZU11VTVaIiwgIm5iZiI6IDE2NjYzNDgwNzAsICJleHAiOiAxNjY2MzQ4OTc3LCAiaWF0IjogMTY2\u001b[0m \u001b[2m                \u001b[0m\n",
       "\u001b[2;36m           \u001b[0m\u001b[32mNjM0ODA3NywgImF1ZCI6ICJkaWQ6ZWJzaTp6Y2Zjd0dqTEJvamN6dzl5aG1VRkUzWiIsICJ2cCI6IHsiaWQiOiA\u001b[0m \u001b[2m                \u001b[0m\n",
       "\u001b[2;36m           \u001b[0m\u001b[32midXJuOmRpZDo3Y2U0ZDFkNi03MWNjLTRhNjctYjdmYy05YTBjMDM5N2I3N2UiLCAiQGNvbnRleHQiOiBbImh0dH\u001b[0m \u001b[2m                \u001b[0m\n",
       "\u001b[2;36m           \u001b[0m\u001b[32mBzOi8vd3d3LnczLm9yZy8yMDE4L2NyZWRlbnRpYWxzL3YxIl0sICJ0eXBlIjogWyJWZXJpZmlhYmxlUHJlc2Vud\u001b[0m \u001b[2m                \u001b[0m\n",
       "\u001b[2;36m           \u001b[0m\u001b[32mGF0aW9uIl0sICJob2xkZXIiOiAiZGlkOmVic2k6enJGZFlCUzNLeDVYUUVwYUYyMTRpYzdaWDNrUVE0VHBldUpr\u001b[0m \u001b[2m                \u001b[0m\n",
       "\u001b[2;36m           \u001b[0m\u001b[32mTFlXZU11VTVaIiwgInZlcmlmaWFibGVDcmVkZW50aWFsIjogWyJleUpoYkdjaU9pSkZVekkxTmtzaUxDSjBlWEF\u001b[0m \u001b[2m                \u001b[0m\n",
       "\u001b[2;36m           \u001b[0m\u001b[32mpT2lKS1YxUWlMQ0pyYVdRaU9pSmthV1E2WldKemFUcDZZMlpqZDBkcVRFSnZhbU42ZHpsNWFHMVZSa1V6V2lOcl\u001b[0m \u001b[2m                \u001b[0m\n",
       "\u001b[2;36m           \u001b[0m\u001b[32mpYbHpMVEVpZlEuZXlKcWRHa2lPaUoxY200NlpHbGtPbVF5TnpRd1ltWXpMV1UxTUdZdE5ETmpaaTFoT0dVNExUW\u001b[0m \u001b[2m                \u001b[0m\n",
       "\u001b[2;36m           \u001b[0m\u001b[32mTVNbVV4T1dZMU16YzFOeUlzSW5OMVlpSTZJbVJwWkRwbFluTnBPbnB5Um1SWlFsTXpTM2cxV0ZGRmNHRkdNakUw\u001b[0m \u001b[2m                \u001b[0m\n",
       "\u001b[2;36m           \u001b[0m\u001b[32mYVdNM1dsZ3phMUZSTkZSd1pYVkthMHhaVjJWTmRWVTFXaUlzSW1semN5STZJbVJwWkRwbFluTnBPbnBqWm1OM1I\u001b[0m \u001b[2m                \u001b[0m\n",
       "\u001b[2;36m           \u001b[0m\u001b[32mycE1RbTlxWTNwM09YbG9iVlZHUlROYUlpd2libUptSWpveE5qWTJNelE0TURZM0xDSnBZWFFpT2pFMk5qWXpORG\u001b[0m \u001b[2m                \u001b[0m\n",
       "\u001b[2;36m           \u001b[0m\u001b[32md3Tmpjc0luWmpJanA3SWtCamIyNTBaWGgwSWpwYkltaDBkSEJ6T2k4dmQzZDNMbmN6TG05eVp5OHlNREU0TDJOe\u001b[0m \u001b[2m                \u001b[0m\n",
       "\u001b[2;36m           \u001b[0m\u001b[32mVpXUmxiblJwWVd4ekwzWXhJbDBzSW1sa0lqb2lkWEp1T21ScFpEcGtNamMwTUdKbU15MWxOVEJtTFRRelkyWXRZ\u001b[0m \u001b[2m                \u001b[0m\n",
       "\u001b[2;36m           \u001b[0m\u001b[32mVGhsT0MwMk9USmxNVGxtTlRNM05UY2lMQ0owZVhCbElqcGJJbFpsY21sbWFXRmliR1ZEY21Wa1pXNTBhV0ZzSWl\u001b[0m \u001b[2m                \u001b[0m\n",
       "\u001b[2;36m           \u001b[0m\u001b[32m3aVZtVnlhV1pwWVdKc1pVRjBkR1Z6ZEdGMGFXOXVJaXdpVm1WeWFXWnBZV0pzWlVsa0lsMHNJbWx6YzNWbGNpST\u001b[0m \u001b[2m                \u001b[0m\n",
       "\u001b[2;36m           \u001b[0m\u001b[32mZJbVJwWkRwbFluTnBPbnBqWm1OM1IycE1RbTlxWTNwM09YbG9iVlZHUlROYUlpd2lhWE56ZFdGdVkyVkVZWFJsS\u001b[0m \u001b[2m                \u001b[0m\n",
       "\u001b[2;36m           \u001b[0m\u001b[32mWpvaU1qQXlNaTB4TUMweU1WUXhNRG95TnpvME4xb2lMQ0oyWVd4cFpFWnliMjBpT2lJeU1ESXlMVEV3TFRJeFZE\u001b[0m \u001b[2m                \u001b[0m\n",
       "\u001b[2;36m           \u001b[0m\u001b[32mRXdPakkzT2pRM1dpSXNJbWx6YzNWbFpDSTZJakl3TWpJdE1UQXRNakZVTVRBNk1qYzZORGRhSWl3aVkzSmxaR1Z\u001b[0m \u001b[2m                \u001b[0m\n",
       "\u001b[2;36m           \u001b[0m\u001b[32m1ZEdsaGJGTjFZbXBsWTNRaU9uc2lhV1FpT2lKa2FXUTZaV0p6YVRwNmNrWmtXVUpUTTB0NE5WaFJSWEJoUmpJeE\u001b[0m \u001b[2m                \u001b[0m\n",
       "\u001b[2;36m           \u001b[0m\u001b[32m5HbGpOMXBZTTJ0UlVUUlVjR1YxU210TVdWZGxUWFZWTlZvaUxDSndaWEp6YjI1aGJFbGtaVzUwYVdacFpYSWlPa\u001b[0m \u001b[2m                \u001b[0m\n",
       "\u001b[2;36m           \u001b[0m\u001b[32mUpKVkM5RVJTOHhNak0wSWl3aVptRnRhV3g1VG1GdFpTSTZJa05oYzNSaFptbHZjbWtpTENKbWFYSnpkRTVoYldV\u001b[0m \u001b[2m                \u001b[0m\n",
       "\u001b[2;36m           \u001b[0m\u001b[32maU9pSkNhV0Z1WTJFaUxDSmtZWFJsVDJaQ2FYSjBhQ0k2SWpFNU16QXRNVEF0TURFaWZTd2lZM0psWkdWdWRHbGh\u001b[0m \u001b[2m                \u001b[0m\n",
       "\u001b[2;36m           \u001b[0m\u001b[32miRk5qYUdWdFlTSTZleUpwWkNJNkltaDBkSEJ6T2k4dllYQnBMbU52Ym1admNtMWhibU5sTG1sdWRHVmljMmt1ZU\u001b[0m \u001b[2m                \u001b[0m\n",
       "\u001b[2;36m           \u001b[0m\u001b[32mhsNkwzUnlkWE4wWldRdGMyTm9aVzFoY3kxeVpXZHBjM1J5ZVM5Mk1pOXpZMmhsYldGekwzcERaazU0ZURWa1RVS\u001b[0m \u001b[2m                \u001b[0m\n",
       "\u001b[2;36m           \u001b[0m\u001b[32mmtaalI1Vm1OelYzcHFNV0Z1VjFKMVdHTjRjbGhxTVdGdlozbG1UakY0VTNVNGRDSXNJblI1Y0dVaU9pSkdkV3hz\u001b[0m \u001b[2m                \u001b[0m\n",
       "\u001b[2;36m           \u001b[0m\u001b[32mU25OdmJsTmphR1Z0WVZaaGJHbGtZWFJ2Y2pJd01qRWlmWDE5LkJJT1NTUnJHYjVJTzB5WUczYXFIcnJCV3VwWEZ\u001b[0m \u001b[2m                \u001b[0m\n",
       "\u001b[2;36m           \u001b[0m\u001b[32mhLXZGaGVjY1A5UFE1SlE3ajVndlRmZ2JtNDdQM3c1Z2gybWwwMzNER01lTEdPLTVwVlUzTVluZFRnIl19fQ.4O9\u001b[0m \u001b[2m                \u001b[0m\n",
       "\u001b[2;36m           \u001b[0m\u001b[32mYiCP5Lgumf2BNgcVWsdbGOY1BG0OjowdUPKhGk2AybMSO6kfafXNZF6UErC1pY1IwWnTcD3wUN-WexY5aQQ'\u001b[0m,   \u001b[2m                \u001b[0m\n",
       "\u001b[2;36m           \u001b[0m    \u001b[32m'payload'\u001b[0m: \u001b[1m{\u001b[0m                                                                        \u001b[2m                \u001b[0m\n",
       "\u001b[2;36m           \u001b[0m        \u001b[32m'id'\u001b[0m: \u001b[32m'urn:did:7ce4d1d6-71cc-4a67-b7fc-9a0c0397b77e'\u001b[0m,                           \u001b[2m                \u001b[0m\n",
       "\u001b[2;36m           \u001b[0m        \u001b[32m'@context'\u001b[0m: \u001b[1m[\u001b[0m\u001b[32m'https://www.w3.org/2018/credentials/v1'\u001b[0m\u001b[1m]\u001b[0m,                         \u001b[2m                \u001b[0m\n",
       "\u001b[2;36m           \u001b[0m        \u001b[32m'type'\u001b[0m: \u001b[1m[\u001b[0m\u001b[32m'VerifiablePresentation'\u001b[0m\u001b[1m]\u001b[0m,                                             \u001b[2m                \u001b[0m\n",
       "\u001b[2;36m           \u001b[0m        \u001b[32m'holder'\u001b[0m: \u001b[32m'did:ebsi:zrFdYBS3Kx5XQEpaF214ic7ZX3kQQ4TpeuJkLYWeMuU5Z'\u001b[0m,             \u001b[2m                \u001b[0m\n",
       "\u001b[2;36m           \u001b[0m        \u001b[32m'verifiableCredential'\u001b[0m: \u001b[1m[\u001b[0m                                                       \u001b[2m                \u001b[0m\n",
       "\u001b[2;36m           \u001b[0m            \u001b[32m'eyJhbGciOiJFUzI1NksiLCJ0eXAiOiJKV1QiLCJraWQiOiJkaWQ6ZWJzaTp6Y2Zjd0dqTEJvam\u001b[0m \u001b[2m                \u001b[0m\n",
       "\u001b[2;36m           \u001b[0m\u001b[32mN6dzl5aG1VRkUzWiNrZXlzLTEifQ.eyJqdGkiOiJ1cm46ZGlkOmQyNzQwYmYzLWU1MGYtNDNjZi1hOGU4LTY5Mm\u001b[0m \u001b[2m                \u001b[0m\n",
       "\u001b[2;36m           \u001b[0m\u001b[32mUxOWY1Mzc1NyIsInN1YiI6ImRpZDplYnNpOnpyRmRZQlMzS3g1WFFFcGFGMjE0aWM3Wlgza1FRNFRwZXVKa0xZV\u001b[0m \u001b[2m                \u001b[0m\n",
       "\u001b[2;36m           \u001b[0m\u001b[32m2VNdVU1WiIsImlzcyI6ImRpZDplYnNpOnpjZmN3R2pMQm9qY3p3OXlobVVGRTNaIiwibmJmIjoxNjY2MzQ4MDY3\u001b[0m \u001b[2m                \u001b[0m\n",
       "\u001b[2;36m           \u001b[0m\u001b[32mLCJpYXQiOjE2NjYzNDgwNjcsInZjIjp7IkBjb250ZXh0IjpbImh0dHBzOi8vd3d3LnczLm9yZy8yMDE4L2NyZWR\u001b[0m \u001b[2m                \u001b[0m\n",
       "\u001b[2;36m           \u001b[0m\u001b[32mlbnRpYWxzL3YxIl0sImlkIjoidXJuOmRpZDpkMjc0MGJmMy1lNTBmLTQzY2YtYThlOC02OTJlMTlmNTM3NTciLC\u001b[0m \u001b[2m                \u001b[0m\n",
       "\u001b[2;36m           \u001b[0m\u001b[32mJ0eXBlIjpbIlZlcmlmaWFibGVDcmVkZW50aWFsIiwiVmVyaWZpYWJsZUF0dGVzdGF0aW9uIiwiVmVyaWZpYWJsZ\u001b[0m \u001b[2m                \u001b[0m\n",
       "\u001b[2;36m           \u001b[0m\u001b[32mUlkIl0sImlzc3VlciI6ImRpZDplYnNpOnpjZmN3R2pMQm9qY3p3OXlobVVGRTNaIiwiaXNzdWFuY2VEYXRlIjoi\u001b[0m \u001b[2m                \u001b[0m\n",
       "\u001b[2;36m           \u001b[0m\u001b[32mMjAyMi0xMC0yMVQxMDoyNzo0N1oiLCJ2YWxpZEZyb20iOiIyMDIyLTEwLTIxVDEwOjI3OjQ3WiIsImlzc3VlZCI\u001b[0m \u001b[2m                \u001b[0m\n",
       "\u001b[2;36m           \u001b[0m\u001b[32m6IjIwMjItMTAtMjFUMTA6Mjc6NDdaIiwiY3JlZGVudGlhbFN1YmplY3QiOnsiaWQiOiJkaWQ6ZWJzaTp6ckZkWU\u001b[0m \u001b[2m                \u001b[0m\n",
       "\u001b[2;36m           \u001b[0m\u001b[32mJTM0t4NVhRRXBhRjIxNGljN1pYM2tRUTRUcGV1SmtMWVdlTXVVNVoiLCJwZXJzb25hbElkZW50aWZpZXIiOiJJV\u001b[0m \u001b[2m                \u001b[0m\n",
       "\u001b[2;36m           \u001b[0m\u001b[32mC9ERS8xMjM0IiwiZmFtaWx5TmFtZSI6IkNhc3RhZmlvcmkiLCJmaXJzdE5hbWUiOiJCaWFuY2EiLCJkYXRlT2ZC\u001b[0m \u001b[2m                \u001b[0m\n",
       "\u001b[2;36m           \u001b[0m\u001b[32maXJ0aCI6IjE5MzAtMTAtMDEifSwiY3JlZGVudGlhbFNjaGVtYSI6eyJpZCI6Imh0dHBzOi8vYXBpLmNvbmZvcm1\u001b[0m \u001b[2m                \u001b[0m\n",
       "\u001b[2;36m           \u001b[0m\u001b[32mhbmNlLmludGVic2kueHl6L3RydXN0ZWQtc2NoZW1hcy1yZWdpc3RyeS92Mi9zY2hlbWFzL3pDZk54eDVkTUJkZj\u001b[0m \u001b[2m                \u001b[0m\n",
       "\u001b[2;36m           \u001b[0m\u001b[32mR5VmNzV3pqMWFuV1J1WGN4clhqMWFvZ3lmTjF4U3U4dCIsInR5cGUiOiJGdWxsSnNvblNjaGVtYVZhbGlkYXRvc\u001b[0m \u001b[2m                \u001b[0m\n",
       "\u001b[2;36m           \u001b[0m\u001b[32mjIwMjEifX19.BIOSSRrGb5IO0yYG3aqHrrBWupXFa-vFheccP9PQ5JQ7j5gvTfgbm47P3w5gh2ml033DGMeLGO-\u001b[0m \u001b[2m                \u001b[0m\n",
       "\u001b[2;36m           \u001b[0m\u001b[32m5pVU3MYndTg'\u001b[0m                                                                            \u001b[2m                \u001b[0m\n",
       "\u001b[2;36m           \u001b[0m        \u001b[1m]\u001b[0m                                                                               \u001b[2m                \u001b[0m\n",
       "\u001b[2;36m           \u001b[0m    \u001b[1m}\u001b[0m                                                                                   \u001b[2m                \u001b[0m\n",
       "\u001b[2;36m           \u001b[0m\u001b[1m}\u001b[0m                                                                                       \u001b[2m                \u001b[0m\n"
      ]
     },
     "metadata": {},
     "output_type": "display_data"
    }
   ],
   "source": [
    "from ebsi_wallet.main import compute\n",
    "\n",
    "encoded_credential = issue_031_credential\n",
    "credential_issuer = credential['payload']['iss']\n",
    "\n",
    "options = {\n",
    "    \"credential\": encoded_credential,\n",
    "    \"client\": client,\n",
    "    \"issuer\": credential_issuer,\n",
    "    \"audience\": credential_issuer\n",
    "}\n",
    "\n",
    "jwt_vp = await compute(\"createPresentationJwt\", options=options)\n",
    "console.log(\"createPresentationJwt\", jwt_vp)"
   ]
  },
  {
   "cell_type": "markdown",
   "metadata": {},
   "source": [
    "## VERIFY_031"
   ]
  },
  {
   "cell_type": "code",
   "execution_count": 12,
   "metadata": {},
   "outputs": [
    {
     "data": {
      "text/html": [
       "<pre style=\"white-space:pre;overflow-x:auto;line-height:normal;font-family:Menlo,'DejaVu Sans Mono',consolas,'Courier New',monospace\"><span style=\"color: #7fbfbf; text-decoration-color: #7fbfbf\">[15:57:59] </span>Verifiable presentation status                                                           <a href=\"file:///var/folders/z6/z5bp3zsx3g37nkmnvk3mp8880000gn/T/ipykernel_22288/3868489859.py\" target=\"_blank\"><span style=\"color: #7f7f7f; text-decoration-color: #7f7f7f\">3868489859.py</span></a><span style=\"color: #7f7f7f; text-decoration-color: #7f7f7f\">:</span><a href=\"file:///var/folders/z6/z5bp3zsx3g37nkmnvk3mp8880000gn/T/ipykernel_22288/3868489859.py#8\" target=\"_blank\"><span style=\"color: #7f7f7f; text-decoration-color: #7f7f7f\">8</span></a>\n",
       "<span style=\"color: #7fbfbf; text-decoration-color: #7fbfbf\">           </span><span style=\"font-weight: bold\">{</span>                                                                                        <span style=\"color: #7f7f7f; text-decoration-color: #7f7f7f\">               </span>\n",
       "<span style=\"color: #7fbfbf; text-decoration-color: #7fbfbf\">           </span>    <span style=\"color: #008000; text-decoration-color: #008000\">'result'</span>: <span style=\"color: #00ff00; text-decoration-color: #00ff00; font-style: italic\">True</span>,                                                                      <span style=\"color: #7f7f7f; text-decoration-color: #7f7f7f\">               </span>\n",
       "<span style=\"color: #7fbfbf; text-decoration-color: #7fbfbf\">           </span>    <span style=\"color: #008000; text-decoration-color: #008000\">'validations'</span>: <span style=\"font-weight: bold\">{</span>                                                                     <span style=\"color: #7f7f7f; text-decoration-color: #7f7f7f\">               </span>\n",
       "<span style=\"color: #7fbfbf; text-decoration-color: #7fbfbf\">           </span>        <span style=\"color: #008000; text-decoration-color: #008000\">'vpFormat'</span>: <span style=\"font-weight: bold\">{</span><span style=\"color: #008000; text-decoration-color: #008000\">'status'</span>: <span style=\"color: #00ff00; text-decoration-color: #00ff00; font-style: italic\">True</span><span style=\"font-weight: bold\">}</span>,                                                    <span style=\"color: #7f7f7f; text-decoration-color: #7f7f7f\">               </span>\n",
       "<span style=\"color: #7fbfbf; text-decoration-color: #7fbfbf\">           </span>        <span style=\"color: #008000; text-decoration-color: #008000\">'presentation'</span>: <span style=\"font-weight: bold\">{</span><span style=\"color: #008000; text-decoration-color: #008000\">'status'</span>: <span style=\"color: #00ff00; text-decoration-color: #00ff00; font-style: italic\">True</span><span style=\"font-weight: bold\">}</span>,                                                <span style=\"color: #7f7f7f; text-decoration-color: #7f7f7f\">               </span>\n",
       "<span style=\"color: #7fbfbf; text-decoration-color: #7fbfbf\">           </span>        <span style=\"color: #008000; text-decoration-color: #008000\">'credential'</span>: <span style=\"font-weight: bold\">{</span><span style=\"color: #008000; text-decoration-color: #008000\">'status'</span>: <span style=\"color: #00ff00; text-decoration-color: #00ff00; font-style: italic\">True</span><span style=\"font-weight: bold\">}</span>                                                   <span style=\"color: #7f7f7f; text-decoration-color: #7f7f7f\">               </span>\n",
       "<span style=\"color: #7fbfbf; text-decoration-color: #7fbfbf\">           </span>    <span style=\"font-weight: bold\">}</span>                                                                                    <span style=\"color: #7f7f7f; text-decoration-color: #7f7f7f\">               </span>\n",
       "<span style=\"color: #7fbfbf; text-decoration-color: #7fbfbf\">           </span><span style=\"font-weight: bold\">}</span>                                                                                        <span style=\"color: #7f7f7f; text-decoration-color: #7f7f7f\">               </span>\n",
       "</pre>\n"
      ],
      "text/plain": [
       "\u001b[2;36m[15:57:59]\u001b[0m\u001b[2;36m \u001b[0mVerifiable presentation status                                                           \u001b]8;id=993210;file:///var/folders/z6/z5bp3zsx3g37nkmnvk3mp8880000gn/T/ipykernel_22288/3868489859.py\u001b\\\u001b[2m3868489859.py\u001b[0m\u001b]8;;\u001b\\\u001b[2m:\u001b[0m\u001b]8;id=617392;file:///var/folders/z6/z5bp3zsx3g37nkmnvk3mp8880000gn/T/ipykernel_22288/3868489859.py#8\u001b\\\u001b[2m8\u001b[0m\u001b]8;;\u001b\\\n",
       "\u001b[2;36m           \u001b[0m\u001b[1m{\u001b[0m                                                                                        \u001b[2m               \u001b[0m\n",
       "\u001b[2;36m           \u001b[0m    \u001b[32m'result'\u001b[0m: \u001b[3;92mTrue\u001b[0m,                                                                      \u001b[2m               \u001b[0m\n",
       "\u001b[2;36m           \u001b[0m    \u001b[32m'validations'\u001b[0m: \u001b[1m{\u001b[0m                                                                     \u001b[2m               \u001b[0m\n",
       "\u001b[2;36m           \u001b[0m        \u001b[32m'vpFormat'\u001b[0m: \u001b[1m{\u001b[0m\u001b[32m'status'\u001b[0m: \u001b[3;92mTrue\u001b[0m\u001b[1m}\u001b[0m,                                                    \u001b[2m               \u001b[0m\n",
       "\u001b[2;36m           \u001b[0m        \u001b[32m'presentation'\u001b[0m: \u001b[1m{\u001b[0m\u001b[32m'status'\u001b[0m: \u001b[3;92mTrue\u001b[0m\u001b[1m}\u001b[0m,                                                \u001b[2m               \u001b[0m\n",
       "\u001b[2;36m           \u001b[0m        \u001b[32m'credential'\u001b[0m: \u001b[1m{\u001b[0m\u001b[32m'status'\u001b[0m: \u001b[3;92mTrue\u001b[0m\u001b[1m}\u001b[0m                                                   \u001b[2m               \u001b[0m\n",
       "\u001b[2;36m           \u001b[0m    \u001b[1m}\u001b[0m                                                                                    \u001b[2m               \u001b[0m\n",
       "\u001b[2;36m           \u001b[0m\u001b[1m}\u001b[0m                                                                                        \u001b[2m               \u001b[0m\n"
      ]
     },
     "metadata": {},
     "output_type": "display_data"
    }
   ],
   "source": [
    "options = {\n",
    "    \"credential\": encoded_credential,\n",
    "    \"jwtVp\": jwt_vp[\"jwtVp\"],\n",
    "    \"client\": client\n",
    "}\n",
    "\n",
    "vp_status = await conformance(\"verifierAuthResponse\", options=options, headers={})\n",
    "console.log(\"Verifiable presentation status\", vp_status)"
   ]
  }
 ],
 "metadata": {
  "kernelspec": {
   "display_name": "Python 3 (ipykernel)",
   "language": "python",
   "name": "python3"
  },
  "language_info": {
   "codemirror_mode": {
    "name": "ipython",
    "version": 3
   },
   "file_extension": ".py",
   "mimetype": "text/x-python",
   "name": "python",
   "nbconvert_exporter": "python",
   "pygments_lexer": "ipython3",
   "version": "3.8.9"
  },
  "vscode": {
   "interpreter": {
    "hash": "3b4c306616ac518cda10396dc5e33ec841be65507032dce171859f2c0f4d5a7f"
   }
  }
 },
 "nbformat": 4,
 "nbformat_minor": 2
}
