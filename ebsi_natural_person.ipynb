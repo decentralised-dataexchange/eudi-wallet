{
 "cells": [
  {
   "cell_type": "markdown",
   "metadata": {},
   "source": [
    "# EBSI Wallet Conformance (Natural Person)"
   ]
  },
  {
   "cell_type": "markdown",
   "metadata": {},
   "source": [
    "> EBSI v2 DID for Natural Person(s) is introduced. "
   ]
  },
  {
   "cell_type": "markdown",
   "metadata": {},
   "source": [
    "## Setup conformance headers"
   ]
  },
  {
   "cell_type": "code",
   "execution_count": 1,
   "metadata": {},
   "outputs": [],
   "source": [
    "import uuid\n",
    "import asyncio\n",
    "from rich.console import Console\n",
    "\n",
    "console = Console()\n",
    "\n",
    "loop = asyncio.get_event_loop()\n",
    "\n",
    "headers = {\n",
    "    \"Conformance\": str(uuid.uuid4()),\n",
    "}"
   ]
  },
  {
   "cell_type": "markdown",
   "metadata": {},
   "source": [
    "## Setup wallet"
   ]
  },
  {
   "cell_type": "code",
   "execution_count": 2,
   "metadata": {},
   "outputs": [],
   "source": [
    "from ebsi_wallet.main import wallet\n",
    "\n",
    "# Setup wallet\n",
    "client = await wallet(\"init_v2\")\n"
   ]
  },
  {
   "cell_type": "markdown",
   "metadata": {},
   "source": [
    "## ISSUE_011"
   ]
  },
  {
   "cell_type": "code",
   "execution_count": 3,
   "metadata": {},
   "outputs": [
    {
     "data": {
      "text/html": [
       "<pre style=\"white-space:pre;overflow-x:auto;line-height:normal;font-family:Menlo,'DejaVu Sans Mono',consolas,'Courier New',monospace\"><span style=\"color: #7fbfbf; text-decoration-color: #7fbfbf\">[14:05:26] </span>issuerInitiate                                                                           <a href=\"file:///var/folders/z6/z5bp3zsx3g37nkmnvk3mp8880000gn/T/ipykernel_55082/4201365539.py\" target=\"_blank\"><span style=\"color: #7f7f7f; text-decoration-color: #7f7f7f\">4201365539.py</span></a><span style=\"color: #7f7f7f; text-decoration-color: #7f7f7f\">:</span><a href=\"file:///var/folders/z6/z5bp3zsx3g37nkmnvk3mp8880000gn/T/ipykernel_55082/4201365539.py#6\" target=\"_blank\"><span style=\"color: #7f7f7f; text-decoration-color: #7f7f7f\">6</span></a>\n",
       "<span style=\"color: #7fbfbf; text-decoration-color: #7fbfbf\">           </span>openid:<span style=\"color: #800080; text-decoration-color: #800080\">//</span><span style=\"color: #ff00ff; text-decoration-color: #ff00ff\">initiate_issuance</span>?<span style=\"color: #808000; text-decoration-color: #808000\">issuer</span>=<span style=\"color: #800080; text-decoration-color: #800080\">https</span>%3A%2F%2Fapi.conformance.intebsi.xyz%2Fconformanc <span style=\"color: #7f7f7f; text-decoration-color: #7f7f7f\">               </span>\n",
       "<span style=\"color: #7fbfbf; text-decoration-color: #7fbfbf\">           </span>e%2Fv2&amp;<span style=\"color: #808000; text-decoration-color: #808000\">credential_type</span>=<span style=\"color: #800080; text-decoration-color: #800080\">https</span>%3A%2F%2Fapi.conformance.intebsi.xyz%2Ftrusted-schemas-regis <span style=\"color: #7f7f7f; text-decoration-color: #7f7f7f\">               </span>\n",
       "<span style=\"color: #7fbfbf; text-decoration-color: #7fbfbf\">           </span>try%2Fv2%2Fschemas%2FzCfNxx5dMBdf4yVcsWzj1anWRuXcxrXj1aogyfN1xSu8t&amp;<span style=\"color: #808000; text-decoration-color: #808000\">conformance</span>=<span style=\"color: #ffff00; text-decoration-color: #ffff00\">ae8c9b2c</span><span style=\"color: #ffff00; text-decoration-color: #ffff00\">-</span> <span style=\"color: #7f7f7f; text-decoration-color: #7f7f7f\">               </span>\n",
       "<span style=\"color: #7fbfbf; text-decoration-color: #7fbfbf\">           </span><span style=\"color: #ffff00; text-decoration-color: #ffff00\">5c12-4d83-a438-0ef446ae7109</span>                                                              <span style=\"color: #7f7f7f; text-decoration-color: #7f7f7f\">               </span>\n",
       "</pre>\n"
      ],
      "text/plain": [
       "\u001b[2;36m[14:05:26]\u001b[0m\u001b[2;36m \u001b[0missuerInitiate                                                                           \u001b]8;id=653675;file:///var/folders/z6/z5bp3zsx3g37nkmnvk3mp8880000gn/T/ipykernel_55082/4201365539.py\u001b\\\u001b[2m4201365539.py\u001b[0m\u001b]8;;\u001b\\\u001b[2m:\u001b[0m\u001b]8;id=880479;file:///var/folders/z6/z5bp3zsx3g37nkmnvk3mp8880000gn/T/ipykernel_55082/4201365539.py#6\u001b\\\u001b[2m6\u001b[0m\u001b]8;;\u001b\\\n",
       "\u001b[2;36m           \u001b[0mopenid:\u001b[35m/\u001b[0m\u001b[35m/\u001b[0m\u001b[95minitiate_issuance\u001b[0m?\u001b[33missuer\u001b[0m=\u001b[35mhttps\u001b[0m%3A%2F%2Fapi.conformance.intebsi.xyz%2Fconformanc \u001b[2m               \u001b[0m\n",
       "\u001b[2;36m           \u001b[0me%2Fv2&\u001b[33mcredential_type\u001b[0m=\u001b[35mhttps\u001b[0m%3A%2F%2Fapi.conformance.intebsi.xyz%2Ftrusted-schemas-regis \u001b[2m               \u001b[0m\n",
       "\u001b[2;36m           \u001b[0mtry%2Fv2%2Fschemas%2FzCfNxx5dMBdf4yVcsWzj1anWRuXcxrXj1aogyfN1xSu8t&\u001b[33mconformance\u001b[0m=\u001b[93mae8c9b2c\u001b[0m\u001b[93m-\u001b[0m \u001b[2m               \u001b[0m\n",
       "\u001b[2;36m           \u001b[0m\u001b[93m5c12-4d83-a438-0ef446ae7109\u001b[0m                                                              \u001b[2m               \u001b[0m\n"
      ]
     },
     "metadata": {},
     "output_type": "display_data"
    },
    {
     "data": {
      "text/html": [
       "<pre style=\"white-space:pre;overflow-x:auto;line-height:normal;font-family:Menlo,'DejaVu Sans Mono',consolas,'Courier New',monospace\"><span style=\"color: #7fbfbf; text-decoration-color: #7fbfbf\">           </span>credential_type                                                                         <a href=\"file:///var/folders/z6/z5bp3zsx3g37nkmnvk3mp8880000gn/T/ipykernel_55082/4201365539.py\" target=\"_blank\"><span style=\"color: #7f7f7f; text-decoration-color: #7f7f7f\">4201365539.py</span></a><span style=\"color: #7f7f7f; text-decoration-color: #7f7f7f\">:</span><a href=\"file:///var/folders/z6/z5bp3zsx3g37nkmnvk3mp8880000gn/T/ipykernel_55082/4201365539.py#14\" target=\"_blank\"><span style=\"color: #7f7f7f; text-decoration-color: #7f7f7f\">14</span></a>\n",
       "<span style=\"color: #7fbfbf; text-decoration-color: #7fbfbf\">           </span><span style=\"color: #0000ff; text-decoration-color: #0000ff; text-decoration: underline\">https://api.conformance.intebsi.xyz/trusted-schemas-registry/v2/schemas/zCfNxx5dMBdf4yV</span> <span style=\"color: #7f7f7f; text-decoration-color: #7f7f7f\">                </span>\n",
       "<span style=\"color: #7fbfbf; text-decoration-color: #7fbfbf\">           </span><span style=\"color: #0000ff; text-decoration-color: #0000ff; text-decoration: underline\">csWzj1anWRuXcxrXj1aogyfN1xSu8t</span>                                                          <span style=\"color: #7f7f7f; text-decoration-color: #7f7f7f\">                </span>\n",
       "</pre>\n"
      ],
      "text/plain": [
       "\u001b[2;36m          \u001b[0m\u001b[2;36m \u001b[0mcredential_type                                                                         \u001b]8;id=31848;file:///var/folders/z6/z5bp3zsx3g37nkmnvk3mp8880000gn/T/ipykernel_55082/4201365539.py\u001b\\\u001b[2m4201365539.py\u001b[0m\u001b]8;;\u001b\\\u001b[2m:\u001b[0m\u001b]8;id=85425;file:///var/folders/z6/z5bp3zsx3g37nkmnvk3mp8880000gn/T/ipykernel_55082/4201365539.py#14\u001b\\\u001b[2m14\u001b[0m\u001b]8;;\u001b\\\n",
       "\u001b[2;36m           \u001b[0m\u001b[4;94mhttps://api.conformance.intebsi.xyz/trusted-schemas-registry/v2/schemas/zCfNxx5dMBdf4yV\u001b[0m \u001b[2m                \u001b[0m\n",
       "\u001b[2;36m           \u001b[0m\u001b[4;94mcsWzj1anWRuXcxrXj1aogyfN1xSu8t\u001b[0m                                                          \u001b[2m                \u001b[0m\n"
      ]
     },
     "metadata": {},
     "output_type": "display_data"
    },
    {
     "data": {
      "text/html": [
       "<pre style=\"white-space:pre;overflow-x:auto;line-height:normal;font-family:Menlo,'DejaVu Sans Mono',consolas,'Courier New',monospace\"><span style=\"color: #7fbfbf; text-decoration-color: #7fbfbf\">[14:05:27] </span>issuerAuthorize                                                                         <a href=\"file:///var/folders/z6/z5bp3zsx3g37nkmnvk3mp8880000gn/T/ipykernel_55082/4201365539.py\" target=\"_blank\"><span style=\"color: #7f7f7f; text-decoration-color: #7f7f7f\">4201365539.py</span></a><span style=\"color: #7f7f7f; text-decoration-color: #7f7f7f\">:</span><a href=\"file:///var/folders/z6/z5bp3zsx3g37nkmnvk3mp8880000gn/T/ipykernel_55082/4201365539.py#22\" target=\"_blank\"><span style=\"color: #7f7f7f; text-decoration-color: #7f7f7f\">22</span></a>\n",
       "<span style=\"color: #7fbfbf; text-decoration-color: #7fbfbf\">           </span><span style=\"font-weight: bold\">{</span><span style=\"color: #008000; text-decoration-color: #008000\">'state'</span>: <span style=\"color: #008000; text-decoration-color: #008000\">'7c2864adc72f'</span>, <span style=\"color: #008000; text-decoration-color: #008000\">'code'</span>: <span style=\"color: #008000; text-decoration-color: #008000\">'23e8897203f1f64bc2bc'</span><span style=\"font-weight: bold\">}</span>                               <span style=\"color: #7f7f7f; text-decoration-color: #7f7f7f\">                </span>\n",
       "</pre>\n"
      ],
      "text/plain": [
       "\u001b[2;36m[14:05:27]\u001b[0m\u001b[2;36m \u001b[0missuerAuthorize                                                                         \u001b]8;id=771645;file:///var/folders/z6/z5bp3zsx3g37nkmnvk3mp8880000gn/T/ipykernel_55082/4201365539.py\u001b\\\u001b[2m4201365539.py\u001b[0m\u001b]8;;\u001b\\\u001b[2m:\u001b[0m\u001b]8;id=445235;file:///var/folders/z6/z5bp3zsx3g37nkmnvk3mp8880000gn/T/ipykernel_55082/4201365539.py#22\u001b\\\u001b[2m22\u001b[0m\u001b]8;;\u001b\\\n",
       "\u001b[2;36m           \u001b[0m\u001b[1m{\u001b[0m\u001b[32m'state'\u001b[0m: \u001b[32m'7c2864adc72f'\u001b[0m, \u001b[32m'code'\u001b[0m: \u001b[32m'23e8897203f1f64bc2bc'\u001b[0m\u001b[1m}\u001b[0m                               \u001b[2m                \u001b[0m\n"
      ]
     },
     "metadata": {},
     "output_type": "display_data"
    }
   ],
   "source": [
    "from ebsi_wallet.main import conformance\n",
    "from ebsi_wallet.util import parse_query_string_parameters_from_url\n",
    "\n",
    "result = await conformance(\"issuerInitiate\", headers=headers)\n",
    "\n",
    "console.log(\"issuerInitiate\", result)\n",
    "\n",
    "session_token = result.replace(\"openid://\", \"\")\n",
    "credential_type = parse_query_string_parameters_from_url(\n",
    "    session_token).get(\"credential_type\")[0]\n",
    "issuer_url = parse_query_string_parameters_from_url(\n",
    "    session_token).get(\"issuer\")[0]\n",
    "\n",
    "console.log(\"credential_type\", credential_type)\n",
    "\n",
    "options = {\n",
    "    \"client\": client,\n",
    "    \"credential_type\" : credential_type\n",
    "}\n",
    "\n",
    "result = await conformance(\"issuerAuthorize\", options=options)\n",
    "console.log(\"issuerAuthorize\", result)\n"
   ]
  },
  {
   "cell_type": "markdown",
   "metadata": {},
   "source": [
    "## ISSUE_021"
   ]
  },
  {
   "cell_type": "code",
   "execution_count": 4,
   "metadata": {},
   "outputs": [
    {
     "data": {
      "text/html": [
       "<pre style=\"white-space:pre;overflow-x:auto;line-height:normal;font-family:Menlo,'DejaVu Sans Mono',consolas,'Courier New',monospace\"><span style=\"color: #7fbfbf; text-decoration-color: #7fbfbf\">           </span>issuerToken                                                                              <a href=\"file:///var/folders/z6/z5bp3zsx3g37nkmnvk3mp8880000gn/T/ipykernel_55082/1256846934.py\" target=\"_blank\"><span style=\"color: #7f7f7f; text-decoration-color: #7f7f7f\">1256846934.py</span></a><span style=\"color: #7f7f7f; text-decoration-color: #7f7f7f\">:</span><a href=\"file:///var/folders/z6/z5bp3zsx3g37nkmnvk3mp8880000gn/T/ipykernel_55082/1256846934.py#7\" target=\"_blank\"><span style=\"color: #7f7f7f; text-decoration-color: #7f7f7f\">7</span></a>\n",
       "<span style=\"color: #7fbfbf; text-decoration-color: #7fbfbf\">           </span><span style=\"font-weight: bold\">{</span>                                                                                        <span style=\"color: #7f7f7f; text-decoration-color: #7f7f7f\">               </span>\n",
       "<span style=\"color: #7fbfbf; text-decoration-color: #7fbfbf\">           </span>    <span style=\"color: #008000; text-decoration-color: #008000\">'token_type'</span>: <span style=\"color: #008000; text-decoration-color: #008000\">'Bearer'</span>,                                                              <span style=\"color: #7f7f7f; text-decoration-color: #7f7f7f\">               </span>\n",
       "<span style=\"color: #7fbfbf; text-decoration-color: #7fbfbf\">           </span>    <span style=\"color: #008000; text-decoration-color: #008000\">'access_token'</span>: <span style=\"color: #008000; text-decoration-color: #008000\">'c879cdbce855138c9448'</span>,                                              <span style=\"color: #7f7f7f; text-decoration-color: #7f7f7f\">               </span>\n",
       "<span style=\"color: #7fbfbf; text-decoration-color: #7fbfbf\">           </span>    <span style=\"color: #008000; text-decoration-color: #008000\">'expires_in'</span>: <span style=\"color: #008080; text-decoration-color: #008080; font-weight: bold\">3600</span>,                                                                  <span style=\"color: #7f7f7f; text-decoration-color: #7f7f7f\">               </span>\n",
       "<span style=\"color: #7fbfbf; text-decoration-color: #7fbfbf\">           </span>    <span style=\"color: #008000; text-decoration-color: #008000\">'c_nonce'</span>: <span style=\"color: #008000; text-decoration-color: #008000\">'73e732a6882ec6755da6'</span>,                                                   <span style=\"color: #7f7f7f; text-decoration-color: #7f7f7f\">               </span>\n",
       "<span style=\"color: #7fbfbf; text-decoration-color: #7fbfbf\">           </span>    <span style=\"color: #008000; text-decoration-color: #008000\">'id_token'</span>:                                                                          <span style=\"color: #7f7f7f; text-decoration-color: #7f7f7f\">               </span>\n",
       "<span style=\"color: #7fbfbf; text-decoration-color: #7fbfbf\">           </span><span style=\"color: #008000; text-decoration-color: #008000\">'eyJ0eXAiOiJKV1QiLCJhbGciOiJFUzI1NksifQ.eyJpYXQiOjE2NjE4NDg1MjcsInN1YiI6Imh0dHBzOi8vbG9j</span> <span style=\"color: #7f7f7f; text-decoration-color: #7f7f7f\">               </span>\n",
       "<span style=\"color: #7fbfbf; text-decoration-color: #7fbfbf\">           </span><span style=\"color: #008000; text-decoration-color: #008000\">YWxob3N0OjMwMDAiLCJhdWQiOiJodHRwczovL2xvY2FsaG9zdDozMDAwIiwiaXNzIjoiZGlkOmVic2k6emNmY3dH</span> <span style=\"color: #7f7f7f; text-decoration-color: #7f7f7f\">               </span>\n",
       "<span style=\"color: #7fbfbf; text-decoration-color: #7fbfbf\">           </span><span style=\"color: #008000; text-decoration-color: #008000\">akxCb2pjenc5eWhtVUZFM1oifQ.MBN1nxt0V8MRilJpxo4iArWEkDjeojp6kip5kkMMweLVXvEUGWArs9u29b5LE</span> <span style=\"color: #7f7f7f; text-decoration-color: #7f7f7f\">               </span>\n",
       "<span style=\"color: #7fbfbf; text-decoration-color: #7fbfbf\">           </span><span style=\"color: #008000; text-decoration-color: #008000\">ze7x6tWF9AwToqASd01p9K8_w'</span>                                                               <span style=\"color: #7f7f7f; text-decoration-color: #7f7f7f\">               </span>\n",
       "<span style=\"color: #7fbfbf; text-decoration-color: #7fbfbf\">           </span><span style=\"font-weight: bold\">}</span>                                                                                        <span style=\"color: #7f7f7f; text-decoration-color: #7f7f7f\">               </span>\n",
       "</pre>\n"
      ],
      "text/plain": [
       "\u001b[2;36m          \u001b[0m\u001b[2;36m \u001b[0missuerToken                                                                              \u001b]8;id=489931;file:///var/folders/z6/z5bp3zsx3g37nkmnvk3mp8880000gn/T/ipykernel_55082/1256846934.py\u001b\\\u001b[2m1256846934.py\u001b[0m\u001b]8;;\u001b\\\u001b[2m:\u001b[0m\u001b]8;id=158373;file:///var/folders/z6/z5bp3zsx3g37nkmnvk3mp8880000gn/T/ipykernel_55082/1256846934.py#7\u001b\\\u001b[2m7\u001b[0m\u001b]8;;\u001b\\\n",
       "\u001b[2;36m           \u001b[0m\u001b[1m{\u001b[0m                                                                                        \u001b[2m               \u001b[0m\n",
       "\u001b[2;36m           \u001b[0m    \u001b[32m'token_type'\u001b[0m: \u001b[32m'Bearer'\u001b[0m,                                                              \u001b[2m               \u001b[0m\n",
       "\u001b[2;36m           \u001b[0m    \u001b[32m'access_token'\u001b[0m: \u001b[32m'c879cdbce855138c9448'\u001b[0m,                                              \u001b[2m               \u001b[0m\n",
       "\u001b[2;36m           \u001b[0m    \u001b[32m'expires_in'\u001b[0m: \u001b[1;36m3600\u001b[0m,                                                                  \u001b[2m               \u001b[0m\n",
       "\u001b[2;36m           \u001b[0m    \u001b[32m'c_nonce'\u001b[0m: \u001b[32m'73e732a6882ec6755da6'\u001b[0m,                                                   \u001b[2m               \u001b[0m\n",
       "\u001b[2;36m           \u001b[0m    \u001b[32m'id_token'\u001b[0m:                                                                          \u001b[2m               \u001b[0m\n",
       "\u001b[2;36m           \u001b[0m\u001b[32m'eyJ0eXAiOiJKV1QiLCJhbGciOiJFUzI1NksifQ.eyJpYXQiOjE2NjE4NDg1MjcsInN1YiI6Imh0dHBzOi8vbG9j\u001b[0m \u001b[2m               \u001b[0m\n",
       "\u001b[2;36m           \u001b[0m\u001b[32mYWxob3N0OjMwMDAiLCJhdWQiOiJodHRwczovL2xvY2FsaG9zdDozMDAwIiwiaXNzIjoiZGlkOmVic2k6emNmY3dH\u001b[0m \u001b[2m               \u001b[0m\n",
       "\u001b[2;36m           \u001b[0m\u001b[32makxCb2pjenc5eWhtVUZFM1oifQ.MBN1nxt0V8MRilJpxo4iArWEkDjeojp6kip5kkMMweLVXvEUGWArs9u29b5LE\u001b[0m \u001b[2m               \u001b[0m\n",
       "\u001b[2;36m           \u001b[0m\u001b[32mze7x6tWF9AwToqASd01p9K8_w'\u001b[0m                                                               \u001b[2m               \u001b[0m\n",
       "\u001b[2;36m           \u001b[0m\u001b[1m}\u001b[0m                                                                                        \u001b[2m               \u001b[0m\n"
      ]
     },
     "metadata": {},
     "output_type": "display_data"
    }
   ],
   "source": [
    "options = {\n",
    "    \"did_version\": client.did_version,\n",
    "    \"code\": result[\"code\"]\n",
    "}\n",
    "\n",
    "result = await conformance(\"issuerToken\", options=options, headers=headers)\n",
    "console.log(\"issuerToken\", result)\n"
   ]
  },
  {
   "cell_type": "markdown",
   "metadata": {},
   "source": [
    "## ISSUE_031"
   ]
  },
  {
   "cell_type": "code",
   "execution_count": 5,
   "metadata": {},
   "outputs": [
    {
     "data": {
      "text/html": [
       "<pre style=\"white-space:pre;overflow-x:auto;line-height:normal;font-family:Menlo,'DejaVu Sans Mono',consolas,'Courier New',monospace\"><span style=\"color: #7fbfbf; text-decoration-color: #7fbfbf\">[14:05:29] </span>issuerCredential                                                                         <a href=\"file:///var/folders/z6/z5bp3zsx3g37nkmnvk3mp8880000gn/T/ipykernel_55082/608560569.py\" target=\"_blank\"><span style=\"color: #7f7f7f; text-decoration-color: #7f7f7f\">608560569.py</span></a><span style=\"color: #7f7f7f; text-decoration-color: #7f7f7f\">:</span><a href=\"file:///var/folders/z6/z5bp3zsx3g37nkmnvk3mp8880000gn/T/ipykernel_55082/608560569.py#18\" target=\"_blank\"><span style=\"color: #7f7f7f; text-decoration-color: #7f7f7f\">18</span></a>\n",
       "<span style=\"color: #7fbfbf; text-decoration-color: #7fbfbf\">           </span><span style=\"font-weight: bold\">{</span>                                                                                        <span style=\"color: #7f7f7f; text-decoration-color: #7f7f7f\">               </span>\n",
       "<span style=\"color: #7fbfbf; text-decoration-color: #7fbfbf\">           </span>    <span style=\"color: #008000; text-decoration-color: #008000\">'format'</span>: <span style=\"color: #008000; text-decoration-color: #008000\">'jwt_vc'</span>,                                                                  <span style=\"color: #7f7f7f; text-decoration-color: #7f7f7f\">               </span>\n",
       "<span style=\"color: #7fbfbf; text-decoration-color: #7fbfbf\">           </span>    <span style=\"color: #008000; text-decoration-color: #008000\">'credential'</span>:                                                                        <span style=\"color: #7f7f7f; text-decoration-color: #7f7f7f\">               </span>\n",
       "<span style=\"color: #7fbfbf; text-decoration-color: #7fbfbf\">           </span><span style=\"color: #008000; text-decoration-color: #008000\">'eyJhbGciOiJFUzI1NksiLCJ0eXAiOiJKV1QiLCJraWQiOiJkaWQ6ZWJzaTp6Y2Zjd0dqTEJvamN6dzl5aG1VRkU</span> <span style=\"color: #7f7f7f; text-decoration-color: #7f7f7f\">               </span>\n",
       "<span style=\"color: #7fbfbf; text-decoration-color: #7fbfbf\">           </span><span style=\"color: #008000; text-decoration-color: #008000\">zWiNrZXlzLTEifQ.eyJqdGkiOiJ1cm46ZGlkOjMxN2U2MTRkLWQ1MTctNDgzMy1hZjA1LWQxMGE3YTY4MWU0YSIs</span> <span style=\"color: #7f7f7f; text-decoration-color: #7f7f7f\">               </span>\n",
       "<span style=\"color: #7fbfbf; text-decoration-color: #7fbfbf\">           </span><span style=\"color: #008000; text-decoration-color: #008000\">InN1YiI6ImRpZDplYnNpOnpnUGJMNjdrVzl0NDNYNDZTak1HZHROVlNMUkxVUGt4ZU1IREExRndHd3V3biIsImlz</span> <span style=\"color: #7f7f7f; text-decoration-color: #7f7f7f\">               </span>\n",
       "<span style=\"color: #7fbfbf; text-decoration-color: #7fbfbf\">           </span><span style=\"color: #008000; text-decoration-color: #008000\">cyI6ImRpZDplYnNpOnpjZmN3R2pMQm9qY3p3OXlobVVGRTNaIiwibmJmIjoxNjYxODQ4NTI4LCJpYXQiOjE2NjE4</span> <span style=\"color: #7f7f7f; text-decoration-color: #7f7f7f\">               </span>\n",
       "<span style=\"color: #7fbfbf; text-decoration-color: #7fbfbf\">           </span><span style=\"color: #008000; text-decoration-color: #008000\">NDg1MjgsInZjIjp7IkBjb250ZXh0IjpbImh0dHBzOi8vd3d3LnczLm9yZy8yMDE4L2NyZWRlbnRpYWxzL3YxIl0s</span> <span style=\"color: #7f7f7f; text-decoration-color: #7f7f7f\">               </span>\n",
       "<span style=\"color: #7fbfbf; text-decoration-color: #7fbfbf\">           </span><span style=\"color: #008000; text-decoration-color: #008000\">ImlkIjoidXJuOmRpZDozMTdlNjE0ZC1kNTE3LTQ4MzMtYWYwNS1kMTBhN2E2ODFlNGEiLCJ0eXBlIjpbIlZlcmlm</span> <span style=\"color: #7f7f7f; text-decoration-color: #7f7f7f\">               </span>\n",
       "<span style=\"color: #7fbfbf; text-decoration-color: #7fbfbf\">           </span><span style=\"color: #008000; text-decoration-color: #008000\">aWFibGVDcmVkZW50aWFsIiwiVmVyaWZpYWJsZUF0dGVzdGF0aW9uIiwiVmVyaWZpYWJsZUlkIl0sImlzc3VlciI6</span> <span style=\"color: #7f7f7f; text-decoration-color: #7f7f7f\">               </span>\n",
       "<span style=\"color: #7fbfbf; text-decoration-color: #7fbfbf\">           </span><span style=\"color: #008000; text-decoration-color: #008000\">ImRpZDplYnNpOnpjZmN3R2pMQm9qY3p3OXlobVVGRTNaIiwiaXNzdWFuY2VEYXRlIjoiMjAyMi0wOC0zMFQwODoz</span> <span style=\"color: #7f7f7f; text-decoration-color: #7f7f7f\">               </span>\n",
       "<span style=\"color: #7fbfbf; text-decoration-color: #7fbfbf\">           </span><span style=\"color: #008000; text-decoration-color: #008000\">NToyOFoiLCJ2YWxpZEZyb20iOiIyMDIyLTA4LTMwVDA4OjM1OjI4WiIsImlzc3VlZCI6IjIwMjItMDgtMzBUMDg6</span> <span style=\"color: #7f7f7f; text-decoration-color: #7f7f7f\">               </span>\n",
       "<span style=\"color: #7fbfbf; text-decoration-color: #7fbfbf\">           </span><span style=\"color: #008000; text-decoration-color: #008000\">MzU6MjhaIiwiY3JlZGVudGlhbFN1YmplY3QiOnsiaWQiOiJkaWQ6ZWJzaTp6Z1BiTDY3a1c5dDQzWDQ2U2pNR2R0</span> <span style=\"color: #7f7f7f; text-decoration-color: #7f7f7f\">               </span>\n",
       "<span style=\"color: #7fbfbf; text-decoration-color: #7fbfbf\">           </span><span style=\"color: #008000; text-decoration-color: #008000\">TlZTTFJMVVBreGVNSERBMUZ3R3d1d24iLCJwZXJzb25hbElkZW50aWZpZXIiOiJJVC9ERS8xMjM0IiwiZmFtaWx5</span> <span style=\"color: #7f7f7f; text-decoration-color: #7f7f7f\">               </span>\n",
       "<span style=\"color: #7fbfbf; text-decoration-color: #7fbfbf\">           </span><span style=\"color: #008000; text-decoration-color: #008000\">TmFtZSI6IkNhc3RhZmlvcmkiLCJmaXJzdE5hbWUiOiJCaWFuY2EiLCJkYXRlT2ZCaXJ0aCI6IjE5MzAtMTAtMDEi</span> <span style=\"color: #7f7f7f; text-decoration-color: #7f7f7f\">               </span>\n",
       "<span style=\"color: #7fbfbf; text-decoration-color: #7fbfbf\">           </span><span style=\"color: #008000; text-decoration-color: #008000\">fSwiY3JlZGVudGlhbFNjaGVtYSI6eyJpZCI6Imh0dHBzOi8vYXBpLmNvbmZvcm1hbmNlLmludGVic2kueHl6L3Ry</span> <span style=\"color: #7f7f7f; text-decoration-color: #7f7f7f\">               </span>\n",
       "<span style=\"color: #7fbfbf; text-decoration-color: #7fbfbf\">           </span><span style=\"color: #008000; text-decoration-color: #008000\">dXN0ZWQtc2NoZW1hcy1yZWdpc3RyeS92Mi9zY2hlbWFzL3pDZk54eDVkTUJkZjR5VmNzV3pqMWFuV1J1WGN4clhq</span> <span style=\"color: #7f7f7f; text-decoration-color: #7f7f7f\">               </span>\n",
       "<span style=\"color: #7fbfbf; text-decoration-color: #7fbfbf\">           </span><span style=\"color: #008000; text-decoration-color: #008000\">MWFvZ3lmTjF4U3U4dCIsInR5cGUiOiJGdWxsSnNvblNjaGVtYVZhbGlkYXRvcjIwMjEifX19.DPJV_LwaNo1PQ21</span> <span style=\"color: #7f7f7f; text-decoration-color: #7f7f7f\">               </span>\n",
       "<span style=\"color: #7fbfbf; text-decoration-color: #7fbfbf\">           </span><span style=\"color: #008000; text-decoration-color: #008000\">bbipBGKqogFaoQmYtY9dJrlSThRAVF8HobESrsPRAmxj78tryuyZ5_pcaGqPCS_IFTJYuVA'</span>,                <span style=\"color: #7f7f7f; text-decoration-color: #7f7f7f\">               </span>\n",
       "<span style=\"color: #7fbfbf; text-decoration-color: #7fbfbf\">           </span>    <span style=\"color: #008000; text-decoration-color: #008000\">'c_nonce'</span>: <span style=\"color: #008000; text-decoration-color: #008000\">'85c09aa950870a2d0136'</span>,                                                   <span style=\"color: #7f7f7f; text-decoration-color: #7f7f7f\">               </span>\n",
       "<span style=\"color: #7fbfbf; text-decoration-color: #7fbfbf\">           </span>    <span style=\"color: #008000; text-decoration-color: #008000\">'c_nonce_expires_in'</span>: <span style=\"color: #008080; text-decoration-color: #008080; font-weight: bold\">900</span>                                                            <span style=\"color: #7f7f7f; text-decoration-color: #7f7f7f\">               </span>\n",
       "<span style=\"color: #7fbfbf; text-decoration-color: #7fbfbf\">           </span><span style=\"font-weight: bold\">}</span>                                                                                        <span style=\"color: #7f7f7f; text-decoration-color: #7f7f7f\">               </span>\n",
       "</pre>\n"
      ],
      "text/plain": [
       "\u001b[2;36m[14:05:29]\u001b[0m\u001b[2;36m \u001b[0missuerCredential                                                                         \u001b]8;id=499677;file:///var/folders/z6/z5bp3zsx3g37nkmnvk3mp8880000gn/T/ipykernel_55082/608560569.py\u001b\\\u001b[2m608560569.py\u001b[0m\u001b]8;;\u001b\\\u001b[2m:\u001b[0m\u001b]8;id=146497;file:///var/folders/z6/z5bp3zsx3g37nkmnvk3mp8880000gn/T/ipykernel_55082/608560569.py#18\u001b\\\u001b[2m18\u001b[0m\u001b]8;;\u001b\\\n",
       "\u001b[2;36m           \u001b[0m\u001b[1m{\u001b[0m                                                                                        \u001b[2m               \u001b[0m\n",
       "\u001b[2;36m           \u001b[0m    \u001b[32m'format'\u001b[0m: \u001b[32m'jwt_vc'\u001b[0m,                                                                  \u001b[2m               \u001b[0m\n",
       "\u001b[2;36m           \u001b[0m    \u001b[32m'credential'\u001b[0m:                                                                        \u001b[2m               \u001b[0m\n",
       "\u001b[2;36m           \u001b[0m\u001b[32m'eyJhbGciOiJFUzI1NksiLCJ0eXAiOiJKV1QiLCJraWQiOiJkaWQ6ZWJzaTp6Y2Zjd0dqTEJvamN6dzl5aG1VRkU\u001b[0m \u001b[2m               \u001b[0m\n",
       "\u001b[2;36m           \u001b[0m\u001b[32mzWiNrZXlzLTEifQ.eyJqdGkiOiJ1cm46ZGlkOjMxN2U2MTRkLWQ1MTctNDgzMy1hZjA1LWQxMGE3YTY4MWU0YSIs\u001b[0m \u001b[2m               \u001b[0m\n",
       "\u001b[2;36m           \u001b[0m\u001b[32mInN1YiI6ImRpZDplYnNpOnpnUGJMNjdrVzl0NDNYNDZTak1HZHROVlNMUkxVUGt4ZU1IREExRndHd3V3biIsImlz\u001b[0m \u001b[2m               \u001b[0m\n",
       "\u001b[2;36m           \u001b[0m\u001b[32mcyI6ImRpZDplYnNpOnpjZmN3R2pMQm9qY3p3OXlobVVGRTNaIiwibmJmIjoxNjYxODQ4NTI4LCJpYXQiOjE2NjE4\u001b[0m \u001b[2m               \u001b[0m\n",
       "\u001b[2;36m           \u001b[0m\u001b[32mNDg1MjgsInZjIjp7IkBjb250ZXh0IjpbImh0dHBzOi8vd3d3LnczLm9yZy8yMDE4L2NyZWRlbnRpYWxzL3YxIl0s\u001b[0m \u001b[2m               \u001b[0m\n",
       "\u001b[2;36m           \u001b[0m\u001b[32mImlkIjoidXJuOmRpZDozMTdlNjE0ZC1kNTE3LTQ4MzMtYWYwNS1kMTBhN2E2ODFlNGEiLCJ0eXBlIjpbIlZlcmlm\u001b[0m \u001b[2m               \u001b[0m\n",
       "\u001b[2;36m           \u001b[0m\u001b[32maWFibGVDcmVkZW50aWFsIiwiVmVyaWZpYWJsZUF0dGVzdGF0aW9uIiwiVmVyaWZpYWJsZUlkIl0sImlzc3VlciI6\u001b[0m \u001b[2m               \u001b[0m\n",
       "\u001b[2;36m           \u001b[0m\u001b[32mImRpZDplYnNpOnpjZmN3R2pMQm9qY3p3OXlobVVGRTNaIiwiaXNzdWFuY2VEYXRlIjoiMjAyMi0wOC0zMFQwODoz\u001b[0m \u001b[2m               \u001b[0m\n",
       "\u001b[2;36m           \u001b[0m\u001b[32mNToyOFoiLCJ2YWxpZEZyb20iOiIyMDIyLTA4LTMwVDA4OjM1OjI4WiIsImlzc3VlZCI6IjIwMjItMDgtMzBUMDg6\u001b[0m \u001b[2m               \u001b[0m\n",
       "\u001b[2;36m           \u001b[0m\u001b[32mMzU6MjhaIiwiY3JlZGVudGlhbFN1YmplY3QiOnsiaWQiOiJkaWQ6ZWJzaTp6Z1BiTDY3a1c5dDQzWDQ2U2pNR2R0\u001b[0m \u001b[2m               \u001b[0m\n",
       "\u001b[2;36m           \u001b[0m\u001b[32mTlZTTFJMVVBreGVNSERBMUZ3R3d1d24iLCJwZXJzb25hbElkZW50aWZpZXIiOiJJVC9ERS8xMjM0IiwiZmFtaWx5\u001b[0m \u001b[2m               \u001b[0m\n",
       "\u001b[2;36m           \u001b[0m\u001b[32mTmFtZSI6IkNhc3RhZmlvcmkiLCJmaXJzdE5hbWUiOiJCaWFuY2EiLCJkYXRlT2ZCaXJ0aCI6IjE5MzAtMTAtMDEi\u001b[0m \u001b[2m               \u001b[0m\n",
       "\u001b[2;36m           \u001b[0m\u001b[32mfSwiY3JlZGVudGlhbFNjaGVtYSI6eyJpZCI6Imh0dHBzOi8vYXBpLmNvbmZvcm1hbmNlLmludGVic2kueHl6L3Ry\u001b[0m \u001b[2m               \u001b[0m\n",
       "\u001b[2;36m           \u001b[0m\u001b[32mdXN0ZWQtc2NoZW1hcy1yZWdpc3RyeS92Mi9zY2hlbWFzL3pDZk54eDVkTUJkZjR5VmNzV3pqMWFuV1J1WGN4clhq\u001b[0m \u001b[2m               \u001b[0m\n",
       "\u001b[2;36m           \u001b[0m\u001b[32mMWFvZ3lmTjF4U3U4dCIsInR5cGUiOiJGdWxsSnNvblNjaGVtYVZhbGlkYXRvcjIwMjEifX19.DPJV_LwaNo1PQ21\u001b[0m \u001b[2m               \u001b[0m\n",
       "\u001b[2;36m           \u001b[0m\u001b[32mbbipBGKqogFaoQmYtY9dJrlSThRAVF8HobESrsPRAmxj78tryuyZ5_pcaGqPCS_IFTJYuVA'\u001b[0m,                \u001b[2m               \u001b[0m\n",
       "\u001b[2;36m           \u001b[0m    \u001b[32m'c_nonce'\u001b[0m: \u001b[32m'85c09aa950870a2d0136'\u001b[0m,                                                   \u001b[2m               \u001b[0m\n",
       "\u001b[2;36m           \u001b[0m    \u001b[32m'c_nonce_expires_in'\u001b[0m: \u001b[1;36m900\u001b[0m                                                            \u001b[2m               \u001b[0m\n",
       "\u001b[2;36m           \u001b[0m\u001b[1m}\u001b[0m                                                                                        \u001b[2m               \u001b[0m\n"
      ]
     },
     "metadata": {},
     "output_type": "display_data"
    },
    {
     "data": {
      "text/html": [
       "<pre style=\"white-space:pre;overflow-x:auto;line-height:normal;font-family:Menlo,'DejaVu Sans Mono',consolas,'Courier New',monospace\"><span style=\"color: #7fbfbf; text-decoration-color: #7fbfbf\">           </span>Received credential                                                                      <a href=\"file:///var/folders/z6/z5bp3zsx3g37nkmnvk3mp8880000gn/T/ipykernel_55082/608560569.py\" target=\"_blank\"><span style=\"color: #7f7f7f; text-decoration-color: #7f7f7f\">608560569.py</span></a><span style=\"color: #7f7f7f; text-decoration-color: #7f7f7f\">:</span><a href=\"file:///var/folders/z6/z5bp3zsx3g37nkmnvk3mp8880000gn/T/ipykernel_55082/608560569.py#24\" target=\"_blank\"><span style=\"color: #7f7f7f; text-decoration-color: #7f7f7f\">24</span></a>\n",
       "<span style=\"color: #7fbfbf; text-decoration-color: #7fbfbf\">           </span><span style=\"font-weight: bold\">{</span>                                                                                        <span style=\"color: #7f7f7f; text-decoration-color: #7f7f7f\">               </span>\n",
       "<span style=\"color: #7fbfbf; text-decoration-color: #7fbfbf\">           </span>    <span style=\"color: #008000; text-decoration-color: #008000\">'header'</span>: <span style=\"font-weight: bold\">{</span>                                                                          <span style=\"color: #7f7f7f; text-decoration-color: #7f7f7f\">               </span>\n",
       "<span style=\"color: #7fbfbf; text-decoration-color: #7fbfbf\">           </span>        <span style=\"color: #008000; text-decoration-color: #008000\">'alg'</span>: <span style=\"color: #008000; text-decoration-color: #008000\">'ES256K'</span>,                                                                 <span style=\"color: #7f7f7f; text-decoration-color: #7f7f7f\">               </span>\n",
       "<span style=\"color: #7fbfbf; text-decoration-color: #7fbfbf\">           </span>        <span style=\"color: #008000; text-decoration-color: #008000\">'typ'</span>: <span style=\"color: #008000; text-decoration-color: #008000\">'JWT'</span>,                                                                    <span style=\"color: #7f7f7f; text-decoration-color: #7f7f7f\">               </span>\n",
       "<span style=\"color: #7fbfbf; text-decoration-color: #7fbfbf\">           </span>        <span style=\"color: #008000; text-decoration-color: #008000\">'kid'</span>: <span style=\"color: #008000; text-decoration-color: #008000\">'did:ebsi:zcfcwGjLBojczw9yhmUFE3Z#keys-1'</span>                                 <span style=\"color: #7f7f7f; text-decoration-color: #7f7f7f\">               </span>\n",
       "<span style=\"color: #7fbfbf; text-decoration-color: #7fbfbf\">           </span>    <span style=\"font-weight: bold\">}</span>,                                                                                   <span style=\"color: #7f7f7f; text-decoration-color: #7f7f7f\">               </span>\n",
       "<span style=\"color: #7fbfbf; text-decoration-color: #7fbfbf\">           </span>    <span style=\"color: #008000; text-decoration-color: #008000\">'payload'</span>: <span style=\"font-weight: bold\">{</span>                                                                         <span style=\"color: #7f7f7f; text-decoration-color: #7f7f7f\">               </span>\n",
       "<span style=\"color: #7fbfbf; text-decoration-color: #7fbfbf\">           </span>        <span style=\"color: #008000; text-decoration-color: #008000\">'jti'</span>: <span style=\"color: #008000; text-decoration-color: #008000\">'urn:did:317e614d-d517-4833-af05-d10a7a681e4a'</span>,                           <span style=\"color: #7f7f7f; text-decoration-color: #7f7f7f\">               </span>\n",
       "<span style=\"color: #7fbfbf; text-decoration-color: #7fbfbf\">           </span>        <span style=\"color: #008000; text-decoration-color: #008000\">'sub'</span>: <span style=\"color: #008000; text-decoration-color: #008000\">'did:ebsi:zgPbL67kW9t43X46SjMGdtNVSLRLUPkxeMHDA1FwGwuwn'</span>,                 <span style=\"color: #7f7f7f; text-decoration-color: #7f7f7f\">               </span>\n",
       "<span style=\"color: #7fbfbf; text-decoration-color: #7fbfbf\">           </span>        <span style=\"color: #008000; text-decoration-color: #008000\">'iss'</span>: <span style=\"color: #008000; text-decoration-color: #008000\">'did:ebsi:zcfcwGjLBojczw9yhmUFE3Z'</span>,                                       <span style=\"color: #7f7f7f; text-decoration-color: #7f7f7f\">               </span>\n",
       "<span style=\"color: #7fbfbf; text-decoration-color: #7fbfbf\">           </span>        <span style=\"color: #008000; text-decoration-color: #008000\">'nbf'</span>: <span style=\"color: #008080; text-decoration-color: #008080; font-weight: bold\">1661848528</span>,                                                               <span style=\"color: #7f7f7f; text-decoration-color: #7f7f7f\">               </span>\n",
       "<span style=\"color: #7fbfbf; text-decoration-color: #7fbfbf\">           </span>        <span style=\"color: #008000; text-decoration-color: #008000\">'iat'</span>: <span style=\"color: #008080; text-decoration-color: #008080; font-weight: bold\">1661848528</span>,                                                               <span style=\"color: #7f7f7f; text-decoration-color: #7f7f7f\">               </span>\n",
       "<span style=\"color: #7fbfbf; text-decoration-color: #7fbfbf\">           </span>        <span style=\"color: #008000; text-decoration-color: #008000\">'vc'</span>: <span style=\"font-weight: bold\">{</span>                                                                          <span style=\"color: #7f7f7f; text-decoration-color: #7f7f7f\">               </span>\n",
       "<span style=\"color: #7fbfbf; text-decoration-color: #7fbfbf\">           </span>            <span style=\"color: #008000; text-decoration-color: #008000\">'@context'</span>: <span style=\"font-weight: bold\">[</span><span style=\"color: #008000; text-decoration-color: #008000\">'https://www.w3.org/2018/credentials/v1'</span><span style=\"font-weight: bold\">]</span>,                      <span style=\"color: #7f7f7f; text-decoration-color: #7f7f7f\">               </span>\n",
       "<span style=\"color: #7fbfbf; text-decoration-color: #7fbfbf\">           </span>            <span style=\"color: #008000; text-decoration-color: #008000\">'id'</span>: <span style=\"color: #008000; text-decoration-color: #008000\">'urn:did:317e614d-d517-4833-af05-d10a7a681e4a'</span>,                        <span style=\"color: #7f7f7f; text-decoration-color: #7f7f7f\">               </span>\n",
       "<span style=\"color: #7fbfbf; text-decoration-color: #7fbfbf\">           </span>            <span style=\"color: #008000; text-decoration-color: #008000\">'type'</span>: <span style=\"font-weight: bold\">[</span><span style=\"color: #008000; text-decoration-color: #008000\">'VerifiableCredential'</span>, <span style=\"color: #008000; text-decoration-color: #008000\">'VerifiableAttestation'</span>, <span style=\"color: #008000; text-decoration-color: #008000\">'VerifiableId'</span><span style=\"font-weight: bold\">]</span>,   <span style=\"color: #7f7f7f; text-decoration-color: #7f7f7f\">               </span>\n",
       "<span style=\"color: #7fbfbf; text-decoration-color: #7fbfbf\">           </span>            <span style=\"color: #008000; text-decoration-color: #008000\">'issuer'</span>: <span style=\"color: #008000; text-decoration-color: #008000\">'did:ebsi:zcfcwGjLBojczw9yhmUFE3Z'</span>,                                <span style=\"color: #7f7f7f; text-decoration-color: #7f7f7f\">               </span>\n",
       "<span style=\"color: #7fbfbf; text-decoration-color: #7fbfbf\">           </span>            <span style=\"color: #008000; text-decoration-color: #008000\">'issuanceDate'</span>: <span style=\"color: #008000; text-decoration-color: #008000\">'2022-08-30T08:35:28Z'</span>,                                      <span style=\"color: #7f7f7f; text-decoration-color: #7f7f7f\">               </span>\n",
       "<span style=\"color: #7fbfbf; text-decoration-color: #7fbfbf\">           </span>            <span style=\"color: #008000; text-decoration-color: #008000\">'validFrom'</span>: <span style=\"color: #008000; text-decoration-color: #008000\">'2022-08-30T08:35:28Z'</span>,                                         <span style=\"color: #7f7f7f; text-decoration-color: #7f7f7f\">               </span>\n",
       "<span style=\"color: #7fbfbf; text-decoration-color: #7fbfbf\">           </span>            <span style=\"color: #008000; text-decoration-color: #008000\">'issued'</span>: <span style=\"color: #008000; text-decoration-color: #008000\">'2022-08-30T08:35:28Z'</span>,                                            <span style=\"color: #7f7f7f; text-decoration-color: #7f7f7f\">               </span>\n",
       "<span style=\"color: #7fbfbf; text-decoration-color: #7fbfbf\">           </span>            <span style=\"color: #008000; text-decoration-color: #008000\">'credentialSubject'</span>: <span style=\"font-weight: bold\">{</span>                                                       <span style=\"color: #7f7f7f; text-decoration-color: #7f7f7f\">               </span>\n",
       "<span style=\"color: #7fbfbf; text-decoration-color: #7fbfbf\">           </span>                <span style=\"color: #008000; text-decoration-color: #008000\">'id'</span>: <span style=\"color: #008000; text-decoration-color: #008000\">'did:ebsi:zgPbL67kW9t43X46SjMGdtNVSLRLUPkxeMHDA1FwGwuwn'</span>,          <span style=\"color: #7f7f7f; text-decoration-color: #7f7f7f\">               </span>\n",
       "<span style=\"color: #7fbfbf; text-decoration-color: #7fbfbf\">           </span>                <span style=\"color: #008000; text-decoration-color: #008000\">'personalIdentifier'</span>: <span style=\"color: #008000; text-decoration-color: #008000\">'IT/DE/1234'</span>,                                      <span style=\"color: #7f7f7f; text-decoration-color: #7f7f7f\">               </span>\n",
       "<span style=\"color: #7fbfbf; text-decoration-color: #7fbfbf\">           </span>                <span style=\"color: #008000; text-decoration-color: #008000\">'familyName'</span>: <span style=\"color: #008000; text-decoration-color: #008000\">'Castafiori'</span>,                                              <span style=\"color: #7f7f7f; text-decoration-color: #7f7f7f\">               </span>\n",
       "<span style=\"color: #7fbfbf; text-decoration-color: #7fbfbf\">           </span>                <span style=\"color: #008000; text-decoration-color: #008000\">'firstName'</span>: <span style=\"color: #008000; text-decoration-color: #008000\">'Bianca'</span>,                                                   <span style=\"color: #7f7f7f; text-decoration-color: #7f7f7f\">               </span>\n",
       "<span style=\"color: #7fbfbf; text-decoration-color: #7fbfbf\">           </span>                <span style=\"color: #008000; text-decoration-color: #008000\">'dateOfBirth'</span>: <span style=\"color: #008000; text-decoration-color: #008000\">'1930-10-01'</span>                                              <span style=\"color: #7f7f7f; text-decoration-color: #7f7f7f\">               </span>\n",
       "<span style=\"color: #7fbfbf; text-decoration-color: #7fbfbf\">           </span>            <span style=\"font-weight: bold\">}</span>,                                                                           <span style=\"color: #7f7f7f; text-decoration-color: #7f7f7f\">               </span>\n",
       "<span style=\"color: #7fbfbf; text-decoration-color: #7fbfbf\">           </span>            <span style=\"color: #008000; text-decoration-color: #008000\">'credentialSchema'</span>: <span style=\"font-weight: bold\">{</span>                                                        <span style=\"color: #7f7f7f; text-decoration-color: #7f7f7f\">               </span>\n",
       "<span style=\"color: #7fbfbf; text-decoration-color: #7fbfbf\">           </span>                <span style=\"color: #008000; text-decoration-color: #008000\">'id'</span>:                                                                    <span style=\"color: #7f7f7f; text-decoration-color: #7f7f7f\">               </span>\n",
       "<span style=\"color: #7fbfbf; text-decoration-color: #7fbfbf\">           </span><span style=\"color: #008000; text-decoration-color: #008000\">'https://api.conformance.intebsi.xyz/trusted-schemas-registry/v2/schemas/zCfNxx5dMBdf4yV</span> <span style=\"color: #7f7f7f; text-decoration-color: #7f7f7f\">               </span>\n",
       "<span style=\"color: #7fbfbf; text-decoration-color: #7fbfbf\">           </span><span style=\"color: #008000; text-decoration-color: #008000\">csWzj1anWRuXcxrXj1aogyfN1xSu8t'</span>,                                                         <span style=\"color: #7f7f7f; text-decoration-color: #7f7f7f\">               </span>\n",
       "<span style=\"color: #7fbfbf; text-decoration-color: #7fbfbf\">           </span>                <span style=\"color: #008000; text-decoration-color: #008000\">'type'</span>: <span style=\"color: #008000; text-decoration-color: #008000\">'FullJsonSchemaValidator2021'</span>                                    <span style=\"color: #7f7f7f; text-decoration-color: #7f7f7f\">               </span>\n",
       "<span style=\"color: #7fbfbf; text-decoration-color: #7fbfbf\">           </span>            <span style=\"font-weight: bold\">}</span>                                                                            <span style=\"color: #7f7f7f; text-decoration-color: #7f7f7f\">               </span>\n",
       "<span style=\"color: #7fbfbf; text-decoration-color: #7fbfbf\">           </span>        <span style=\"font-weight: bold\">}</span>                                                                                <span style=\"color: #7f7f7f; text-decoration-color: #7f7f7f\">               </span>\n",
       "<span style=\"color: #7fbfbf; text-decoration-color: #7fbfbf\">           </span>    <span style=\"font-weight: bold\">}</span>,                                                                                   <span style=\"color: #7f7f7f; text-decoration-color: #7f7f7f\">               </span>\n",
       "<span style=\"color: #7fbfbf; text-decoration-color: #7fbfbf\">           </span>    <span style=\"color: #008000; text-decoration-color: #008000\">'signature'</span>:                                                                         <span style=\"color: #7f7f7f; text-decoration-color: #7f7f7f\">               </span>\n",
       "<span style=\"color: #7fbfbf; text-decoration-color: #7fbfbf\">           </span><span style=\"color: #008000; text-decoration-color: #008000\">'DPJV_LwaNo1PQ21bbipBGKqogFaoQmYtY9dJrlSThRAVF8HobESrsPRAmxj78tryuyZ5_pcaGqPCS_IFTJYuVA'</span> <span style=\"color: #7f7f7f; text-decoration-color: #7f7f7f\">               </span>\n",
       "<span style=\"color: #7fbfbf; text-decoration-color: #7fbfbf\">           </span>,                                                                                        <span style=\"color: #7f7f7f; text-decoration-color: #7f7f7f\">               </span>\n",
       "<span style=\"color: #7fbfbf; text-decoration-color: #7fbfbf\">           </span>    <span style=\"color: #008000; text-decoration-color: #008000\">'data'</span>:                                                                              <span style=\"color: #7f7f7f; text-decoration-color: #7f7f7f\">               </span>\n",
       "<span style=\"color: #7fbfbf; text-decoration-color: #7fbfbf\">           </span><span style=\"color: #008000; text-decoration-color: #008000\">'eyJhbGciOiJFUzI1NksiLCJ0eXAiOiJKV1QiLCJraWQiOiJkaWQ6ZWJzaTp6Y2Zjd0dqTEJvamN6dzl5aG1VRkU</span> <span style=\"color: #7f7f7f; text-decoration-color: #7f7f7f\">               </span>\n",
       "<span style=\"color: #7fbfbf; text-decoration-color: #7fbfbf\">           </span><span style=\"color: #008000; text-decoration-color: #008000\">zWiNrZXlzLTEifQ.eyJqdGkiOiJ1cm46ZGlkOjMxN2U2MTRkLWQ1MTctNDgzMy1hZjA1LWQxMGE3YTY4MWU0YSIs</span> <span style=\"color: #7f7f7f; text-decoration-color: #7f7f7f\">               </span>\n",
       "<span style=\"color: #7fbfbf; text-decoration-color: #7fbfbf\">           </span><span style=\"color: #008000; text-decoration-color: #008000\">InN1YiI6ImRpZDplYnNpOnpnUGJMNjdrVzl0NDNYNDZTak1HZHROVlNMUkxVUGt4ZU1IREExRndHd3V3biIsImlz</span> <span style=\"color: #7f7f7f; text-decoration-color: #7f7f7f\">               </span>\n",
       "<span style=\"color: #7fbfbf; text-decoration-color: #7fbfbf\">           </span><span style=\"color: #008000; text-decoration-color: #008000\">cyI6ImRpZDplYnNpOnpjZmN3R2pMQm9qY3p3OXlobVVGRTNaIiwibmJmIjoxNjYxODQ4NTI4LCJpYXQiOjE2NjE4</span> <span style=\"color: #7f7f7f; text-decoration-color: #7f7f7f\">               </span>\n",
       "<span style=\"color: #7fbfbf; text-decoration-color: #7fbfbf\">           </span><span style=\"color: #008000; text-decoration-color: #008000\">NDg1MjgsInZjIjp7IkBjb250ZXh0IjpbImh0dHBzOi8vd3d3LnczLm9yZy8yMDE4L2NyZWRlbnRpYWxzL3YxIl0s</span> <span style=\"color: #7f7f7f; text-decoration-color: #7f7f7f\">               </span>\n",
       "<span style=\"color: #7fbfbf; text-decoration-color: #7fbfbf\">           </span><span style=\"color: #008000; text-decoration-color: #008000\">ImlkIjoidXJuOmRpZDozMTdlNjE0ZC1kNTE3LTQ4MzMtYWYwNS1kMTBhN2E2ODFlNGEiLCJ0eXBlIjpbIlZlcmlm</span> <span style=\"color: #7f7f7f; text-decoration-color: #7f7f7f\">               </span>\n",
       "<span style=\"color: #7fbfbf; text-decoration-color: #7fbfbf\">           </span><span style=\"color: #008000; text-decoration-color: #008000\">aWFibGVDcmVkZW50aWFsIiwiVmVyaWZpYWJsZUF0dGVzdGF0aW9uIiwiVmVyaWZpYWJsZUlkIl0sImlzc3VlciI6</span> <span style=\"color: #7f7f7f; text-decoration-color: #7f7f7f\">               </span>\n",
       "<span style=\"color: #7fbfbf; text-decoration-color: #7fbfbf\">           </span><span style=\"color: #008000; text-decoration-color: #008000\">ImRpZDplYnNpOnpjZmN3R2pMQm9qY3p3OXlobVVGRTNaIiwiaXNzdWFuY2VEYXRlIjoiMjAyMi0wOC0zMFQwODoz</span> <span style=\"color: #7f7f7f; text-decoration-color: #7f7f7f\">               </span>\n",
       "<span style=\"color: #7fbfbf; text-decoration-color: #7fbfbf\">           </span><span style=\"color: #008000; text-decoration-color: #008000\">NToyOFoiLCJ2YWxpZEZyb20iOiIyMDIyLTA4LTMwVDA4OjM1OjI4WiIsImlzc3VlZCI6IjIwMjItMDgtMzBUMDg6</span> <span style=\"color: #7f7f7f; text-decoration-color: #7f7f7f\">               </span>\n",
       "<span style=\"color: #7fbfbf; text-decoration-color: #7fbfbf\">           </span><span style=\"color: #008000; text-decoration-color: #008000\">MzU6MjhaIiwiY3JlZGVudGlhbFN1YmplY3QiOnsiaWQiOiJkaWQ6ZWJzaTp6Z1BiTDY3a1c5dDQzWDQ2U2pNR2R0</span> <span style=\"color: #7f7f7f; text-decoration-color: #7f7f7f\">               </span>\n",
       "<span style=\"color: #7fbfbf; text-decoration-color: #7fbfbf\">           </span><span style=\"color: #008000; text-decoration-color: #008000\">TlZTTFJMVVBreGVNSERBMUZ3R3d1d24iLCJwZXJzb25hbElkZW50aWZpZXIiOiJJVC9ERS8xMjM0IiwiZmFtaWx5</span> <span style=\"color: #7f7f7f; text-decoration-color: #7f7f7f\">               </span>\n",
       "<span style=\"color: #7fbfbf; text-decoration-color: #7fbfbf\">           </span><span style=\"color: #008000; text-decoration-color: #008000\">TmFtZSI6IkNhc3RhZmlvcmkiLCJmaXJzdE5hbWUiOiJCaWFuY2EiLCJkYXRlT2ZCaXJ0aCI6IjE5MzAtMTAtMDEi</span> <span style=\"color: #7f7f7f; text-decoration-color: #7f7f7f\">               </span>\n",
       "<span style=\"color: #7fbfbf; text-decoration-color: #7fbfbf\">           </span><span style=\"color: #008000; text-decoration-color: #008000\">fSwiY3JlZGVudGlhbFNjaGVtYSI6eyJpZCI6Imh0dHBzOi8vYXBpLmNvbmZvcm1hbmNlLmludGVic2kueHl6L3Ry</span> <span style=\"color: #7f7f7f; text-decoration-color: #7f7f7f\">               </span>\n",
       "<span style=\"color: #7fbfbf; text-decoration-color: #7fbfbf\">           </span><span style=\"color: #008000; text-decoration-color: #008000\">dXN0ZWQtc2NoZW1hcy1yZWdpc3RyeS92Mi9zY2hlbWFzL3pDZk54eDVkTUJkZjR5VmNzV3pqMWFuV1J1WGN4clhq</span> <span style=\"color: #7f7f7f; text-decoration-color: #7f7f7f\">               </span>\n",
       "<span style=\"color: #7fbfbf; text-decoration-color: #7fbfbf\">           </span><span style=\"color: #008000; text-decoration-color: #008000\">MWFvZ3lmTjF4U3U4dCIsInR5cGUiOiJGdWxsSnNvblNjaGVtYVZhbGlkYXRvcjIwMjEifX19'</span>                <span style=\"color: #7f7f7f; text-decoration-color: #7f7f7f\">               </span>\n",
       "<span style=\"color: #7fbfbf; text-decoration-color: #7fbfbf\">           </span><span style=\"font-weight: bold\">}</span>                                                                                        <span style=\"color: #7f7f7f; text-decoration-color: #7f7f7f\">               </span>\n",
       "</pre>\n"
      ],
      "text/plain": [
       "\u001b[2;36m          \u001b[0m\u001b[2;36m \u001b[0mReceived credential                                                                      \u001b]8;id=462866;file:///var/folders/z6/z5bp3zsx3g37nkmnvk3mp8880000gn/T/ipykernel_55082/608560569.py\u001b\\\u001b[2m608560569.py\u001b[0m\u001b]8;;\u001b\\\u001b[2m:\u001b[0m\u001b]8;id=720969;file:///var/folders/z6/z5bp3zsx3g37nkmnvk3mp8880000gn/T/ipykernel_55082/608560569.py#24\u001b\\\u001b[2m24\u001b[0m\u001b]8;;\u001b\\\n",
       "\u001b[2;36m           \u001b[0m\u001b[1m{\u001b[0m                                                                                        \u001b[2m               \u001b[0m\n",
       "\u001b[2;36m           \u001b[0m    \u001b[32m'header'\u001b[0m: \u001b[1m{\u001b[0m                                                                          \u001b[2m               \u001b[0m\n",
       "\u001b[2;36m           \u001b[0m        \u001b[32m'alg'\u001b[0m: \u001b[32m'ES256K'\u001b[0m,                                                                 \u001b[2m               \u001b[0m\n",
       "\u001b[2;36m           \u001b[0m        \u001b[32m'typ'\u001b[0m: \u001b[32m'JWT'\u001b[0m,                                                                    \u001b[2m               \u001b[0m\n",
       "\u001b[2;36m           \u001b[0m        \u001b[32m'kid'\u001b[0m: \u001b[32m'did:ebsi:zcfcwGjLBojczw9yhmUFE3Z#keys-1'\u001b[0m                                 \u001b[2m               \u001b[0m\n",
       "\u001b[2;36m           \u001b[0m    \u001b[1m}\u001b[0m,                                                                                   \u001b[2m               \u001b[0m\n",
       "\u001b[2;36m           \u001b[0m    \u001b[32m'payload'\u001b[0m: \u001b[1m{\u001b[0m                                                                         \u001b[2m               \u001b[0m\n",
       "\u001b[2;36m           \u001b[0m        \u001b[32m'jti'\u001b[0m: \u001b[32m'urn:did:317e614d-d517-4833-af05-d10a7a681e4a'\u001b[0m,                           \u001b[2m               \u001b[0m\n",
       "\u001b[2;36m           \u001b[0m        \u001b[32m'sub'\u001b[0m: \u001b[32m'did:ebsi:zgPbL67kW9t43X46SjMGdtNVSLRLUPkxeMHDA1FwGwuwn'\u001b[0m,                 \u001b[2m               \u001b[0m\n",
       "\u001b[2;36m           \u001b[0m        \u001b[32m'iss'\u001b[0m: \u001b[32m'did:ebsi:zcfcwGjLBojczw9yhmUFE3Z'\u001b[0m,                                       \u001b[2m               \u001b[0m\n",
       "\u001b[2;36m           \u001b[0m        \u001b[32m'nbf'\u001b[0m: \u001b[1;36m1661848528\u001b[0m,                                                               \u001b[2m               \u001b[0m\n",
       "\u001b[2;36m           \u001b[0m        \u001b[32m'iat'\u001b[0m: \u001b[1;36m1661848528\u001b[0m,                                                               \u001b[2m               \u001b[0m\n",
       "\u001b[2;36m           \u001b[0m        \u001b[32m'vc'\u001b[0m: \u001b[1m{\u001b[0m                                                                          \u001b[2m               \u001b[0m\n",
       "\u001b[2;36m           \u001b[0m            \u001b[32m'@context'\u001b[0m: \u001b[1m[\u001b[0m\u001b[32m'https://www.w3.org/2018/credentials/v1'\u001b[0m\u001b[1m]\u001b[0m,                      \u001b[2m               \u001b[0m\n",
       "\u001b[2;36m           \u001b[0m            \u001b[32m'id'\u001b[0m: \u001b[32m'urn:did:317e614d-d517-4833-af05-d10a7a681e4a'\u001b[0m,                        \u001b[2m               \u001b[0m\n",
       "\u001b[2;36m           \u001b[0m            \u001b[32m'type'\u001b[0m: \u001b[1m[\u001b[0m\u001b[32m'VerifiableCredential'\u001b[0m, \u001b[32m'VerifiableAttestation'\u001b[0m, \u001b[32m'VerifiableId'\u001b[0m\u001b[1m]\u001b[0m,   \u001b[2m               \u001b[0m\n",
       "\u001b[2;36m           \u001b[0m            \u001b[32m'issuer'\u001b[0m: \u001b[32m'did:ebsi:zcfcwGjLBojczw9yhmUFE3Z'\u001b[0m,                                \u001b[2m               \u001b[0m\n",
       "\u001b[2;36m           \u001b[0m            \u001b[32m'issuanceDate'\u001b[0m: \u001b[32m'2022-08-30T08:35:28Z'\u001b[0m,                                      \u001b[2m               \u001b[0m\n",
       "\u001b[2;36m           \u001b[0m            \u001b[32m'validFrom'\u001b[0m: \u001b[32m'2022-08-30T08:35:28Z'\u001b[0m,                                         \u001b[2m               \u001b[0m\n",
       "\u001b[2;36m           \u001b[0m            \u001b[32m'issued'\u001b[0m: \u001b[32m'2022-08-30T08:35:28Z'\u001b[0m,                                            \u001b[2m               \u001b[0m\n",
       "\u001b[2;36m           \u001b[0m            \u001b[32m'credentialSubject'\u001b[0m: \u001b[1m{\u001b[0m                                                       \u001b[2m               \u001b[0m\n",
       "\u001b[2;36m           \u001b[0m                \u001b[32m'id'\u001b[0m: \u001b[32m'did:ebsi:zgPbL67kW9t43X46SjMGdtNVSLRLUPkxeMHDA1FwGwuwn'\u001b[0m,          \u001b[2m               \u001b[0m\n",
       "\u001b[2;36m           \u001b[0m                \u001b[32m'personalIdentifier'\u001b[0m: \u001b[32m'IT/DE/1234'\u001b[0m,                                      \u001b[2m               \u001b[0m\n",
       "\u001b[2;36m           \u001b[0m                \u001b[32m'familyName'\u001b[0m: \u001b[32m'Castafiori'\u001b[0m,                                              \u001b[2m               \u001b[0m\n",
       "\u001b[2;36m           \u001b[0m                \u001b[32m'firstName'\u001b[0m: \u001b[32m'Bianca'\u001b[0m,                                                   \u001b[2m               \u001b[0m\n",
       "\u001b[2;36m           \u001b[0m                \u001b[32m'dateOfBirth'\u001b[0m: \u001b[32m'1930-10-01'\u001b[0m                                              \u001b[2m               \u001b[0m\n",
       "\u001b[2;36m           \u001b[0m            \u001b[1m}\u001b[0m,                                                                           \u001b[2m               \u001b[0m\n",
       "\u001b[2;36m           \u001b[0m            \u001b[32m'credentialSchema'\u001b[0m: \u001b[1m{\u001b[0m                                                        \u001b[2m               \u001b[0m\n",
       "\u001b[2;36m           \u001b[0m                \u001b[32m'id'\u001b[0m:                                                                    \u001b[2m               \u001b[0m\n",
       "\u001b[2;36m           \u001b[0m\u001b[32m'https://api.conformance.intebsi.xyz/trusted-schemas-registry/v2/schemas/zCfNxx5dMBdf4yV\u001b[0m \u001b[2m               \u001b[0m\n",
       "\u001b[2;36m           \u001b[0m\u001b[32mcsWzj1anWRuXcxrXj1aogyfN1xSu8t'\u001b[0m,                                                         \u001b[2m               \u001b[0m\n",
       "\u001b[2;36m           \u001b[0m                \u001b[32m'type'\u001b[0m: \u001b[32m'FullJsonSchemaValidator2021'\u001b[0m                                    \u001b[2m               \u001b[0m\n",
       "\u001b[2;36m           \u001b[0m            \u001b[1m}\u001b[0m                                                                            \u001b[2m               \u001b[0m\n",
       "\u001b[2;36m           \u001b[0m        \u001b[1m}\u001b[0m                                                                                \u001b[2m               \u001b[0m\n",
       "\u001b[2;36m           \u001b[0m    \u001b[1m}\u001b[0m,                                                                                   \u001b[2m               \u001b[0m\n",
       "\u001b[2;36m           \u001b[0m    \u001b[32m'signature'\u001b[0m:                                                                         \u001b[2m               \u001b[0m\n",
       "\u001b[2;36m           \u001b[0m\u001b[32m'DPJV_LwaNo1PQ21bbipBGKqogFaoQmYtY9dJrlSThRAVF8HobESrsPRAmxj78tryuyZ5_pcaGqPCS_IFTJYuVA'\u001b[0m \u001b[2m               \u001b[0m\n",
       "\u001b[2;36m           \u001b[0m,                                                                                        \u001b[2m               \u001b[0m\n",
       "\u001b[2;36m           \u001b[0m    \u001b[32m'data'\u001b[0m:                                                                              \u001b[2m               \u001b[0m\n",
       "\u001b[2;36m           \u001b[0m\u001b[32m'eyJhbGciOiJFUzI1NksiLCJ0eXAiOiJKV1QiLCJraWQiOiJkaWQ6ZWJzaTp6Y2Zjd0dqTEJvamN6dzl5aG1VRkU\u001b[0m \u001b[2m               \u001b[0m\n",
       "\u001b[2;36m           \u001b[0m\u001b[32mzWiNrZXlzLTEifQ.eyJqdGkiOiJ1cm46ZGlkOjMxN2U2MTRkLWQ1MTctNDgzMy1hZjA1LWQxMGE3YTY4MWU0YSIs\u001b[0m \u001b[2m               \u001b[0m\n",
       "\u001b[2;36m           \u001b[0m\u001b[32mInN1YiI6ImRpZDplYnNpOnpnUGJMNjdrVzl0NDNYNDZTak1HZHROVlNMUkxVUGt4ZU1IREExRndHd3V3biIsImlz\u001b[0m \u001b[2m               \u001b[0m\n",
       "\u001b[2;36m           \u001b[0m\u001b[32mcyI6ImRpZDplYnNpOnpjZmN3R2pMQm9qY3p3OXlobVVGRTNaIiwibmJmIjoxNjYxODQ4NTI4LCJpYXQiOjE2NjE4\u001b[0m \u001b[2m               \u001b[0m\n",
       "\u001b[2;36m           \u001b[0m\u001b[32mNDg1MjgsInZjIjp7IkBjb250ZXh0IjpbImh0dHBzOi8vd3d3LnczLm9yZy8yMDE4L2NyZWRlbnRpYWxzL3YxIl0s\u001b[0m \u001b[2m               \u001b[0m\n",
       "\u001b[2;36m           \u001b[0m\u001b[32mImlkIjoidXJuOmRpZDozMTdlNjE0ZC1kNTE3LTQ4MzMtYWYwNS1kMTBhN2E2ODFlNGEiLCJ0eXBlIjpbIlZlcmlm\u001b[0m \u001b[2m               \u001b[0m\n",
       "\u001b[2;36m           \u001b[0m\u001b[32maWFibGVDcmVkZW50aWFsIiwiVmVyaWZpYWJsZUF0dGVzdGF0aW9uIiwiVmVyaWZpYWJsZUlkIl0sImlzc3VlciI6\u001b[0m \u001b[2m               \u001b[0m\n",
       "\u001b[2;36m           \u001b[0m\u001b[32mImRpZDplYnNpOnpjZmN3R2pMQm9qY3p3OXlobVVGRTNaIiwiaXNzdWFuY2VEYXRlIjoiMjAyMi0wOC0zMFQwODoz\u001b[0m \u001b[2m               \u001b[0m\n",
       "\u001b[2;36m           \u001b[0m\u001b[32mNToyOFoiLCJ2YWxpZEZyb20iOiIyMDIyLTA4LTMwVDA4OjM1OjI4WiIsImlzc3VlZCI6IjIwMjItMDgtMzBUMDg6\u001b[0m \u001b[2m               \u001b[0m\n",
       "\u001b[2;36m           \u001b[0m\u001b[32mMzU6MjhaIiwiY3JlZGVudGlhbFN1YmplY3QiOnsiaWQiOiJkaWQ6ZWJzaTp6Z1BiTDY3a1c5dDQzWDQ2U2pNR2R0\u001b[0m \u001b[2m               \u001b[0m\n",
       "\u001b[2;36m           \u001b[0m\u001b[32mTlZTTFJMVVBreGVNSERBMUZ3R3d1d24iLCJwZXJzb25hbElkZW50aWZpZXIiOiJJVC9ERS8xMjM0IiwiZmFtaWx5\u001b[0m \u001b[2m               \u001b[0m\n",
       "\u001b[2;36m           \u001b[0m\u001b[32mTmFtZSI6IkNhc3RhZmlvcmkiLCJmaXJzdE5hbWUiOiJCaWFuY2EiLCJkYXRlT2ZCaXJ0aCI6IjE5MzAtMTAtMDEi\u001b[0m \u001b[2m               \u001b[0m\n",
       "\u001b[2;36m           \u001b[0m\u001b[32mfSwiY3JlZGVudGlhbFNjaGVtYSI6eyJpZCI6Imh0dHBzOi8vYXBpLmNvbmZvcm1hbmNlLmludGVic2kueHl6L3Ry\u001b[0m \u001b[2m               \u001b[0m\n",
       "\u001b[2;36m           \u001b[0m\u001b[32mdXN0ZWQtc2NoZW1hcy1yZWdpc3RyeS92Mi9zY2hlbWFzL3pDZk54eDVkTUJkZjR5VmNzV3pqMWFuV1J1WGN4clhq\u001b[0m \u001b[2m               \u001b[0m\n",
       "\u001b[2;36m           \u001b[0m\u001b[32mMWFvZ3lmTjF4U3U4dCIsInR5cGUiOiJGdWxsSnNvblNjaGVtYVZhbGlkYXRvcjIwMjEifX19'\u001b[0m                \u001b[2m               \u001b[0m\n",
       "\u001b[2;36m           \u001b[0m\u001b[1m}\u001b[0m                                                                                        \u001b[2m               \u001b[0m\n"
      ]
     },
     "metadata": {},
     "output_type": "display_data"
    }
   ],
   "source": [
    "from ebsi_wallet.did_jwt import decode_jwt\n",
    "\n",
    "options = {\n",
    "    \"c_nonce\": result[\"c_nonce\"],\n",
    "    \"client\": client,\n",
    "    \"issuer_url\": issuer_url,\n",
    "    \"credential_type\": credential_type,\n",
    "}\n",
    "\n",
    "access_token = result[\"access_token\"]\n",
    "\n",
    "headers = {\n",
    "    \"Authorization\": f\"Bearer {access_token}\",\n",
    "    \"Conformance\": headers[\"Conformance\"]\n",
    "}\n",
    "\n",
    "result = await conformance(\"issuerCredential\", options=options, headers=headers)\n",
    "console.log(\"issuerCredential\", result)\n",
    "\n",
    "issue_031_credential = result[\"credential\"]\n",
    "\n",
    "credential = decode_jwt(result[\"credential\"])\n",
    "\n",
    "console.log(\"Received credential\", credential)"
   ]
  },
  {
   "cell_type": "markdown",
   "metadata": {},
   "source": [
    "## VERIFY_011"
   ]
  },
  {
   "cell_type": "code",
   "execution_count": 6,
   "metadata": {},
   "outputs": [
    {
     "data": {
      "text/html": [
       "<pre style=\"white-space:pre;overflow-x:auto;line-height:normal;font-family:Menlo,'DejaVu Sans Mono',consolas,'Courier New',monospace\"><span style=\"color: #7fbfbf; text-decoration-color: #7fbfbf\">[14:05:30] </span>verifierAuthRequest                                                                      <a href=\"file:///var/folders/z6/z5bp3zsx3g37nkmnvk3mp8880000gn/T/ipykernel_55082/3364399777.py\" target=\"_blank\"><span style=\"color: #7f7f7f; text-decoration-color: #7f7f7f\">3364399777.py</span></a><span style=\"color: #7f7f7f; text-decoration-color: #7f7f7f\">:</span><a href=\"file:///var/folders/z6/z5bp3zsx3g37nkmnvk3mp8880000gn/T/ipykernel_55082/3364399777.py#9\" target=\"_blank\"><span style=\"color: #7f7f7f; text-decoration-color: #7f7f7f\">9</span></a>\n",
       "<span style=\"color: #7fbfbf; text-decoration-color: #7fbfbf\">           </span><span style=\"font-weight: bold\">{</span>                                                                                        <span style=\"color: #7f7f7f; text-decoration-color: #7f7f7f\">               </span>\n",
       "<span style=\"color: #7fbfbf; text-decoration-color: #7fbfbf\">           </span>    <span style=\"color: #008000; text-decoration-color: #008000\">'client_id'</span>:                                                                         <span style=\"color: #7f7f7f; text-decoration-color: #7f7f7f\">               </span>\n",
       "<span style=\"color: #7fbfbf; text-decoration-color: #7fbfbf\">           </span><span style=\"color: #008000; text-decoration-color: #008000\">'https://api.conformance.intebsi.xyz/conformance/v2/verifier-mock/authentication-respons</span> <span style=\"color: #7f7f7f; text-decoration-color: #7f7f7f\">               </span>\n",
       "<span style=\"color: #7fbfbf; text-decoration-color: #7fbfbf\">           </span><span style=\"color: #008000; text-decoration-color: #008000\">es'</span>,                                                                                     <span style=\"color: #7f7f7f; text-decoration-color: #7f7f7f\">               </span>\n",
       "<span style=\"color: #7fbfbf; text-decoration-color: #7fbfbf\">           </span>    <span style=\"color: #008000; text-decoration-color: #008000\">'response_type'</span>: <span style=\"color: #008000; text-decoration-color: #008000\">'id_token'</span>,                                                         <span style=\"color: #7f7f7f; text-decoration-color: #7f7f7f\">               </span>\n",
       "<span style=\"color: #7fbfbf; text-decoration-color: #7fbfbf\">           </span>    <span style=\"color: #008000; text-decoration-color: #008000\">'scope'</span>: <span style=\"color: #008000; text-decoration-color: #008000\">'openid'</span>,                                                                   <span style=\"color: #7f7f7f; text-decoration-color: #7f7f7f\">               </span>\n",
       "<span style=\"color: #7fbfbf; text-decoration-color: #7fbfbf\">           </span>    <span style=\"color: #008000; text-decoration-color: #008000\">'claims'</span>:                                                                            <span style=\"color: #7f7f7f; text-decoration-color: #7f7f7f\">               </span>\n",
       "<span style=\"color: #7fbfbf; text-decoration-color: #7fbfbf\">           </span><span style=\"color: #008000; text-decoration-color: #008000\">'{\"id_token\":{\"email\":null},\"vp_token\":{\"presentation_definition\":{\"id\":\"conformance_moc</span> <span style=\"color: #7f7f7f; text-decoration-color: #7f7f7f\">               </span>\n",
       "<span style=\"color: #7fbfbf; text-decoration-color: #7fbfbf\">           </span><span style=\"color: #008000; text-decoration-color: #008000\">k_vp_request\",\"input_descriptors\":[{\"id\":\"conformance_mock_vp\",\"name\":\"Conformance Mock </span> <span style=\"color: #7f7f7f; text-decoration-color: #7f7f7f\">               </span>\n",
       "<span style=\"color: #7fbfbf; text-decoration-color: #7fbfbf\">           </span><span style=\"color: #008000; text-decoration-color: #008000\">VP\",\"purpose\":\"Only accept a VP containing a Conformance Mock </span>                           <span style=\"color: #7f7f7f; text-decoration-color: #7f7f7f\">               </span>\n",
       "<span style=\"color: #7fbfbf; text-decoration-color: #7fbfbf\">           </span><span style=\"color: #008000; text-decoration-color: #008000\">VA\",\"constraints\":{\"fields\":[{\"path\":[\"$.vc.credentialSchema\"],\"filter\":{\"allOf\":[{\"type</span> <span style=\"color: #7f7f7f; text-decoration-color: #7f7f7f\">               </span>\n",
       "<span style=\"color: #7fbfbf; text-decoration-color: #7fbfbf\">           </span><span style=\"color: #008000; text-decoration-color: #008000\">\":\"array\",\"contains\":{\"type\":\"object\",\"properties\":{\"id\":{\"type\":\"string\",\"pattern\":\"htt</span> <span style=\"color: #7f7f7f; text-decoration-color: #7f7f7f\">               </span>\n",
       "<span style=\"color: #7fbfbf; text-decoration-color: #7fbfbf\">           </span><span style=\"color: #008000; text-decoration-color: #008000\">ps://api.preprod.ebsi.eu/trusted-schemas-registry/v2/schemas/z3kRpVjUFj4Bq8qHRENUHiZrVF5</span> <span style=\"color: #7f7f7f; text-decoration-color: #7f7f7f\">               </span>\n",
       "<span style=\"color: #7fbfbf; text-decoration-color: #7fbfbf\">           </span><span style=\"color: #008000; text-decoration-color: #008000\">VgMBUe7biEafp1wf2J\"}},\"required\":[\"id\"]}}]}}]}}],\"format\":{\"jwt_vp\":{\"alg\":[\"ES256K\"]}}}</span> <span style=\"color: #7f7f7f; text-decoration-color: #7f7f7f\">               </span>\n",
       "<span style=\"color: #7fbfbf; text-decoration-color: #7fbfbf\">           </span><span style=\"color: #008000; text-decoration-color: #008000\">}}'</span>,                                                                                     <span style=\"color: #7f7f7f; text-decoration-color: #7f7f7f\">               </span>\n",
       "<span style=\"color: #7fbfbf; text-decoration-color: #7fbfbf\">           </span>    <span style=\"color: #008000; text-decoration-color: #008000\">'redirect_uri'</span>:                                                                      <span style=\"color: #7f7f7f; text-decoration-color: #7f7f7f\">               </span>\n",
       "<span style=\"color: #7fbfbf; text-decoration-color: #7fbfbf\">           </span><span style=\"color: #008000; text-decoration-color: #008000\">'https://api.conformance.intebsi.xyz/conformance/v2/verifier-mock/authentication-respons</span> <span style=\"color: #7f7f7f; text-decoration-color: #7f7f7f\">               </span>\n",
       "<span style=\"color: #7fbfbf; text-decoration-color: #7fbfbf\">           </span><span style=\"color: #008000; text-decoration-color: #008000\">es'</span>,                                                                                     <span style=\"color: #7f7f7f; text-decoration-color: #7f7f7f\">               </span>\n",
       "<span style=\"color: #7fbfbf; text-decoration-color: #7fbfbf\">           </span>    <span style=\"color: #008000; text-decoration-color: #008000\">'nonce'</span>: <span style=\"color: #008000; text-decoration-color: #008000\">'74bd48f9-38cb-4913-b723-a55a34834103'</span>                                      <span style=\"color: #7f7f7f; text-decoration-color: #7f7f7f\">               </span>\n",
       "<span style=\"color: #7fbfbf; text-decoration-color: #7fbfbf\">           </span><span style=\"font-weight: bold\">}</span>                                                                                        <span style=\"color: #7f7f7f; text-decoration-color: #7f7f7f\">               </span>\n",
       "</pre>\n"
      ],
      "text/plain": [
       "\u001b[2;36m[14:05:30]\u001b[0m\u001b[2;36m \u001b[0mverifierAuthRequest                                                                      \u001b]8;id=273349;file:///var/folders/z6/z5bp3zsx3g37nkmnvk3mp8880000gn/T/ipykernel_55082/3364399777.py\u001b\\\u001b[2m3364399777.py\u001b[0m\u001b]8;;\u001b\\\u001b[2m:\u001b[0m\u001b]8;id=401485;file:///var/folders/z6/z5bp3zsx3g37nkmnvk3mp8880000gn/T/ipykernel_55082/3364399777.py#9\u001b\\\u001b[2m9\u001b[0m\u001b]8;;\u001b\\\n",
       "\u001b[2;36m           \u001b[0m\u001b[1m{\u001b[0m                                                                                        \u001b[2m               \u001b[0m\n",
       "\u001b[2;36m           \u001b[0m    \u001b[32m'client_id'\u001b[0m:                                                                         \u001b[2m               \u001b[0m\n",
       "\u001b[2;36m           \u001b[0m\u001b[32m'https://api.conformance.intebsi.xyz/conformance/v2/verifier-mock/authentication-respons\u001b[0m \u001b[2m               \u001b[0m\n",
       "\u001b[2;36m           \u001b[0m\u001b[32mes'\u001b[0m,                                                                                     \u001b[2m               \u001b[0m\n",
       "\u001b[2;36m           \u001b[0m    \u001b[32m'response_type'\u001b[0m: \u001b[32m'id_token'\u001b[0m,                                                         \u001b[2m               \u001b[0m\n",
       "\u001b[2;36m           \u001b[0m    \u001b[32m'scope'\u001b[0m: \u001b[32m'openid'\u001b[0m,                                                                   \u001b[2m               \u001b[0m\n",
       "\u001b[2;36m           \u001b[0m    \u001b[32m'claims'\u001b[0m:                                                                            \u001b[2m               \u001b[0m\n",
       "\u001b[2;36m           \u001b[0m\u001b[32m'\u001b[0m\u001b[32m{\u001b[0m\u001b[32m\"id_token\":\u001b[0m\u001b[32m{\u001b[0m\u001b[32m\"email\":null\u001b[0m\u001b[32m}\u001b[0m\u001b[32m,\"vp_token\":\u001b[0m\u001b[32m{\u001b[0m\u001b[32m\"presentation_definition\":\u001b[0m\u001b[32m{\u001b[0m\u001b[32m\"id\":\"conformance_moc\u001b[0m \u001b[2m               \u001b[0m\n",
       "\u001b[2;36m           \u001b[0m\u001b[32mk_vp_request\",\"input_descriptors\":\u001b[0m\u001b[32m[\u001b[0m\u001b[32m{\u001b[0m\u001b[32m\"id\":\"conformance_mock_vp\",\"name\":\"Conformance Mock \u001b[0m \u001b[2m               \u001b[0m\n",
       "\u001b[2;36m           \u001b[0m\u001b[32mVP\",\"purpose\":\"Only accept a VP containing a Conformance Mock \u001b[0m                           \u001b[2m               \u001b[0m\n",
       "\u001b[2;36m           \u001b[0m\u001b[32mVA\",\"constraints\":\u001b[0m\u001b[32m{\u001b[0m\u001b[32m\"fields\":\u001b[0m\u001b[32m[\u001b[0m\u001b[32m{\u001b[0m\u001b[32m\"path\":\u001b[0m\u001b[32m[\u001b[0m\u001b[32m\"$.vc.credentialSchema\"\u001b[0m\u001b[32m]\u001b[0m\u001b[32m,\"filter\":\u001b[0m\u001b[32m{\u001b[0m\u001b[32m\"allOf\":\u001b[0m\u001b[32m[\u001b[0m\u001b[32m{\u001b[0m\u001b[32m\"type\u001b[0m \u001b[2m               \u001b[0m\n",
       "\u001b[2;36m           \u001b[0m\u001b[32m\":\"array\",\"contains\":\u001b[0m\u001b[32m{\u001b[0m\u001b[32m\"type\":\"object\",\"properties\":\u001b[0m\u001b[32m{\u001b[0m\u001b[32m\"id\":\u001b[0m\u001b[32m{\u001b[0m\u001b[32m\"type\":\"string\",\"pattern\":\"htt\u001b[0m \u001b[2m               \u001b[0m\n",
       "\u001b[2;36m           \u001b[0m\u001b[32mps://api.preprod.ebsi.eu/trusted-schemas-registry/v2/schemas/z3kRpVjUFj4Bq8qHRENUHiZrVF5\u001b[0m \u001b[2m               \u001b[0m\n",
       "\u001b[2;36m           \u001b[0m\u001b[32mVgMBUe7biEafp1wf2J\"\u001b[0m\u001b[32m}\u001b[0m\u001b[32m}\u001b[0m\u001b[32m,\"required\":\u001b[0m\u001b[32m[\u001b[0m\u001b[32m\"id\"\u001b[0m\u001b[32m]\u001b[0m\u001b[32m}\u001b[0m\u001b[32m}\u001b[0m\u001b[32m]\u001b[0m\u001b[32m}\u001b[0m\u001b[32m}\u001b[0m\u001b[32m]\u001b[0m\u001b[32m}\u001b[0m\u001b[32m}\u001b[0m\u001b[32m]\u001b[0m\u001b[32m,\"format\":\u001b[0m\u001b[32m{\u001b[0m\u001b[32m\"jwt_vp\":\u001b[0m\u001b[32m{\u001b[0m\u001b[32m\"alg\":\u001b[0m\u001b[32m[\u001b[0m\u001b[32m\"ES256K\"\u001b[0m\u001b[32m]\u001b[0m\u001b[32m}\u001b[0m\u001b[32m}\u001b[0m\u001b[32m}\u001b[0m \u001b[2m               \u001b[0m\n",
       "\u001b[2;36m           \u001b[0m\u001b[32m}\u001b[0m\u001b[32m}\u001b[0m\u001b[32m'\u001b[0m,                                                                                     \u001b[2m               \u001b[0m\n",
       "\u001b[2;36m           \u001b[0m    \u001b[32m'redirect_uri'\u001b[0m:                                                                      \u001b[2m               \u001b[0m\n",
       "\u001b[2;36m           \u001b[0m\u001b[32m'https://api.conformance.intebsi.xyz/conformance/v2/verifier-mock/authentication-respons\u001b[0m \u001b[2m               \u001b[0m\n",
       "\u001b[2;36m           \u001b[0m\u001b[32mes'\u001b[0m,                                                                                     \u001b[2m               \u001b[0m\n",
       "\u001b[2;36m           \u001b[0m    \u001b[32m'nonce'\u001b[0m: \u001b[32m'74bd48f9-38cb-4913-b723-a55a34834103'\u001b[0m                                      \u001b[2m               \u001b[0m\n",
       "\u001b[2;36m           \u001b[0m\u001b[1m}\u001b[0m                                                                                        \u001b[2m               \u001b[0m\n"
      ]
     },
     "metadata": {},
     "output_type": "display_data"
    }
   ],
   "source": [
    "headers = {\n",
    "    \"Conformance\": headers.get(\"Conformance\")\n",
    "}\n",
    "options = {\n",
    "    \"did_version\": \"v2\"\n",
    "}\n",
    "\n",
    "result = await conformance(\"verifierAuthRequest\", options=options, headers=headers)\n",
    "console.log(\"verifierAuthRequest\", result)"
   ]
  },
  {
   "cell_type": "markdown",
   "metadata": {},
   "source": [
    "### Create Verifiable Presentation JWT"
   ]
  },
  {
   "cell_type": "code",
   "execution_count": 7,
   "metadata": {},
   "outputs": [
    {
     "data": {
      "text/html": [
       "<pre style=\"white-space:pre;overflow-x:auto;line-height:normal;font-family:Menlo,'DejaVu Sans Mono',consolas,'Courier New',monospace\"><span style=\"color: #7fbfbf; text-decoration-color: #7fbfbf\">           </span>createPresentationJwt                                                                   <a href=\"file:///var/folders/z6/z5bp3zsx3g37nkmnvk3mp8880000gn/T/ipykernel_55082/2803278071.py\" target=\"_blank\"><span style=\"color: #7f7f7f; text-decoration-color: #7f7f7f\">2803278071.py</span></a><span style=\"color: #7f7f7f; text-decoration-color: #7f7f7f\">:</span><a href=\"file:///var/folders/z6/z5bp3zsx3g37nkmnvk3mp8880000gn/T/ipykernel_55082/2803278071.py#14\" target=\"_blank\"><span style=\"color: #7f7f7f; text-decoration-color: #7f7f7f\">14</span></a>\n",
       "<span style=\"color: #7fbfbf; text-decoration-color: #7fbfbf\">           </span><span style=\"font-weight: bold\">{</span>                                                                                       <span style=\"color: #7f7f7f; text-decoration-color: #7f7f7f\">                </span>\n",
       "<span style=\"color: #7fbfbf; text-decoration-color: #7fbfbf\">           </span>    <span style=\"color: #008000; text-decoration-color: #008000\">'jwtVp'</span>:                                                                            <span style=\"color: #7f7f7f; text-decoration-color: #7f7f7f\">                </span>\n",
       "<span style=\"color: #7fbfbf; text-decoration-color: #7fbfbf\">           </span><span style=\"color: #008000; text-decoration-color: #008000\">'eyJhbGciOiAiRVMyNTZLIiwgInR5cCI6ICJKV1QiLCAia2lkIjogImRpZDplYnNpOnpnUGJMNjdrVzl0NDNYND</span> <span style=\"color: #7f7f7f; text-decoration-color: #7f7f7f\">                </span>\n",
       "<span style=\"color: #7fbfbf; text-decoration-color: #7fbfbf\">           </span><span style=\"color: #008000; text-decoration-color: #008000\">ZTak1HZHROVlNMUkxVUGt4ZU1IREExRndHd3V3biNTVUZpVEFiRUw2Y3ExcENiRS1lR2VCNVZmUzkwMDAwci11O</span> <span style=\"color: #7f7f7f; text-decoration-color: #7f7f7f\">                </span>\n",
       "<span style=\"color: #7fbfbf; text-decoration-color: #7fbfbf\">           </span><span style=\"color: #008000; text-decoration-color: #008000\">EJOX2xiT0ZrIiwgImp3ayI6IHsia3R5IjogIkVDIiwgImNydiI6ICJzZWNwMjU2azEiLCAieCI6ICJXZHBUODRH</span> <span style=\"color: #7f7f7f; text-decoration-color: #7f7f7f\">                </span>\n",
       "<span style=\"color: #7fbfbf; text-decoration-color: #7fbfbf\">           </span><span style=\"color: #008000; text-decoration-color: #008000\">cGlkZC03eUJPelVKUlQxaUdpMVhRcmIweEFxSnEycHNXdVJzIiwgInkiOiAiNzdVZ25tUHVRbGxGLXZiMnpUMHl</span> <span style=\"color: #7f7f7f; text-decoration-color: #7f7f7f\">                </span>\n",
       "<span style=\"color: #7fbfbf; text-decoration-color: #7fbfbf\">           </span><span style=\"color: #008000; text-decoration-color: #008000\">jTnpLS3I4eFRSdkc3cC1OTlpCZkNnMCJ9fQ.eyJqdGkiOiAidXJuOmRpZDoyZjc2OTUyMy03YmIzLTQwMjAtOWU</span> <span style=\"color: #7f7f7f; text-decoration-color: #7f7f7f\">                </span>\n",
       "<span style=\"color: #7fbfbf; text-decoration-color: #7fbfbf\">           </span><span style=\"color: #008000; text-decoration-color: #008000\">1YS02NTc0NzY4MTNiZGYiLCAic3ViIjogImRpZDplYnNpOnpnUGJMNjdrVzl0NDNYNDZTak1HZHROVlNMUkxVUG</span> <span style=\"color: #7f7f7f; text-decoration-color: #7f7f7f\">                </span>\n",
       "<span style=\"color: #7fbfbf; text-decoration-color: #7fbfbf\">           </span><span style=\"color: #008000; text-decoration-color: #008000\">t4ZU1IREExRndHd3V3biIsICJpc3MiOiAiZGlkOmVic2k6emdQYkw2N2tXOXQ0M1g0NlNqTUdkdE5WU0xSTFVQa</span> <span style=\"color: #7f7f7f; text-decoration-color: #7f7f7f\">                </span>\n",
       "<span style=\"color: #7fbfbf; text-decoration-color: #7fbfbf\">           </span><span style=\"color: #008000; text-decoration-color: #008000\">3hlTUhEQTFGd0d3dXduIiwgIm5iZiI6IDE2NjE4NDg1MjMsICJleHAiOiAxNjYxODQ5NDMwLCAiaWF0IjogMTY2</span> <span style=\"color: #7f7f7f; text-decoration-color: #7f7f7f\">                </span>\n",
       "<span style=\"color: #7fbfbf; text-decoration-color: #7fbfbf\">           </span><span style=\"color: #008000; text-decoration-color: #008000\">MTg0ODUzMCwgImF1ZCI6ICJkaWQ6ZWJzaTp6Y2Zjd0dqTEJvamN6dzl5aG1VRkUzWiIsICJ2cCI6IHsiaWQiOiA</span> <span style=\"color: #7f7f7f; text-decoration-color: #7f7f7f\">                </span>\n",
       "<span style=\"color: #7fbfbf; text-decoration-color: #7fbfbf\">           </span><span style=\"color: #008000; text-decoration-color: #008000\">idXJuOmRpZDoyZjc2OTUyMy03YmIzLTQwMjAtOWU1YS02NTc0NzY4MTNiZGYiLCAiQGNvbnRleHQiOiBbImh0dH</span> <span style=\"color: #7f7f7f; text-decoration-color: #7f7f7f\">                </span>\n",
       "<span style=\"color: #7fbfbf; text-decoration-color: #7fbfbf\">           </span><span style=\"color: #008000; text-decoration-color: #008000\">BzOi8vd3d3LnczLm9yZy8yMDE4L2NyZWRlbnRpYWxzL3YxIl0sICJ0eXBlIjogWyJWZXJpZmlhYmxlUHJlc2Vud</span> <span style=\"color: #7f7f7f; text-decoration-color: #7f7f7f\">                </span>\n",
       "<span style=\"color: #7fbfbf; text-decoration-color: #7fbfbf\">           </span><span style=\"color: #008000; text-decoration-color: #008000\">GF0aW9uIl0sICJob2xkZXIiOiAiZGlkOmVic2k6emdQYkw2N2tXOXQ0M1g0NlNqTUdkdE5WU0xSTFVQa3hlTUhE</span> <span style=\"color: #7f7f7f; text-decoration-color: #7f7f7f\">                </span>\n",
       "<span style=\"color: #7fbfbf; text-decoration-color: #7fbfbf\">           </span><span style=\"color: #008000; text-decoration-color: #008000\">QTFGd0d3dXduIiwgInZlcmlmaWFibGVDcmVkZW50aWFsIjogWyJleUpoYkdjaU9pSkZVekkxTmtzaUxDSjBlWEF</span> <span style=\"color: #7f7f7f; text-decoration-color: #7f7f7f\">                </span>\n",
       "<span style=\"color: #7fbfbf; text-decoration-color: #7fbfbf\">           </span><span style=\"color: #008000; text-decoration-color: #008000\">pT2lKS1YxUWlMQ0pyYVdRaU9pSmthV1E2WldKemFUcDZZMlpqZDBkcVRFSnZhbU42ZHpsNWFHMVZSa1V6V2lOcl</span> <span style=\"color: #7f7f7f; text-decoration-color: #7f7f7f\">                </span>\n",
       "<span style=\"color: #7fbfbf; text-decoration-color: #7fbfbf\">           </span><span style=\"color: #008000; text-decoration-color: #008000\">pYbHpMVEVpZlEuZXlKcWRHa2lPaUoxY200NlpHbGtPak14TjJVMk1UUmtMV1ExTVRjdE5EZ3pNeTFoWmpBMUxXU</span> <span style=\"color: #7f7f7f; text-decoration-color: #7f7f7f\">                </span>\n",
       "<span style=\"color: #7fbfbf; text-decoration-color: #7fbfbf\">           </span><span style=\"color: #008000; text-decoration-color: #008000\">XhNR0UzWVRZNE1XVTBZU0lzSW5OMVlpSTZJbVJwWkRwbFluTnBPbnBuVUdKTU5qZHJWemwwTkROWU5EWlRhazFI</span> <span style=\"color: #7f7f7f; text-decoration-color: #7f7f7f\">                </span>\n",
       "<span style=\"color: #7fbfbf; text-decoration-color: #7fbfbf\">           </span><span style=\"color: #008000; text-decoration-color: #008000\">WkhST1ZsTk1Va3hWVUd0NFpVMUlSRUV4Um5kSGQzVjNiaUlzSW1semN5STZJbVJwWkRwbFluTnBPbnBqWm1OM1I</span> <span style=\"color: #7f7f7f; text-decoration-color: #7f7f7f\">                </span>\n",
       "<span style=\"color: #7fbfbf; text-decoration-color: #7fbfbf\">           </span><span style=\"color: #008000; text-decoration-color: #008000\">ycE1RbTlxWTNwM09YbG9iVlZHUlROYUlpd2libUptSWpveE5qWXhPRFE0TlRJNExDSnBZWFFpT2pFMk5qRTRORG</span> <span style=\"color: #7f7f7f; text-decoration-color: #7f7f7f\">                </span>\n",
       "<span style=\"color: #7fbfbf; text-decoration-color: #7fbfbf\">           </span><span style=\"color: #008000; text-decoration-color: #008000\">cxTWpnc0luWmpJanA3SWtCamIyNTBaWGgwSWpwYkltaDBkSEJ6T2k4dmQzZDNMbmN6TG05eVp5OHlNREU0TDJOe</span> <span style=\"color: #7f7f7f; text-decoration-color: #7f7f7f\">                </span>\n",
       "<span style=\"color: #7fbfbf; text-decoration-color: #7fbfbf\">           </span><span style=\"color: #008000; text-decoration-color: #008000\">VpXUmxiblJwWVd4ekwzWXhJbDBzSW1sa0lqb2lkWEp1T21ScFpEb3pNVGRsTmpFMFpDMWtOVEUzTFRRNE16TXRZ</span> <span style=\"color: #7f7f7f; text-decoration-color: #7f7f7f\">                </span>\n",
       "<span style=\"color: #7fbfbf; text-decoration-color: #7fbfbf\">           </span><span style=\"color: #008000; text-decoration-color: #008000\">V1l3TlMxa01UQmhOMkUyT0RGbE5HRWlMQ0owZVhCbElqcGJJbFpsY21sbWFXRmliR1ZEY21Wa1pXNTBhV0ZzSWl</span> <span style=\"color: #7f7f7f; text-decoration-color: #7f7f7f\">                </span>\n",
       "<span style=\"color: #7fbfbf; text-decoration-color: #7fbfbf\">           </span><span style=\"color: #008000; text-decoration-color: #008000\">3aVZtVnlhV1pwWVdKc1pVRjBkR1Z6ZEdGMGFXOXVJaXdpVm1WeWFXWnBZV0pzWlVsa0lsMHNJbWx6YzNWbGNpST</span> <span style=\"color: #7f7f7f; text-decoration-color: #7f7f7f\">                </span>\n",
       "<span style=\"color: #7fbfbf; text-decoration-color: #7fbfbf\">           </span><span style=\"color: #008000; text-decoration-color: #008000\">ZJbVJwWkRwbFluTnBPbnBqWm1OM1IycE1RbTlxWTNwM09YbG9iVlZHUlROYUlpd2lhWE56ZFdGdVkyVkVZWFJsS</span> <span style=\"color: #7f7f7f; text-decoration-color: #7f7f7f\">                </span>\n",
       "<span style=\"color: #7fbfbf; text-decoration-color: #7fbfbf\">           </span><span style=\"color: #008000; text-decoration-color: #008000\">WpvaU1qQXlNaTB3T0Mwek1GUXdPRG96TlRveU9Gb2lMQ0oyWVd4cFpFWnliMjBpT2lJeU1ESXlMVEE0TFRNd1ZE</span> <span style=\"color: #7f7f7f; text-decoration-color: #7f7f7f\">                </span>\n",
       "<span style=\"color: #7fbfbf; text-decoration-color: #7fbfbf\">           </span><span style=\"color: #008000; text-decoration-color: #008000\">QTRPak0xT2pJNFdpSXNJbWx6YzNWbFpDSTZJakl3TWpJdE1EZ3RNekJVTURnNk16VTZNamhhSWl3aVkzSmxaR1Z</span> <span style=\"color: #7f7f7f; text-decoration-color: #7f7f7f\">                </span>\n",
       "<span style=\"color: #7fbfbf; text-decoration-color: #7fbfbf\">           </span><span style=\"color: #008000; text-decoration-color: #008000\">1ZEdsaGJGTjFZbXBsWTNRaU9uc2lhV1FpT2lKa2FXUTZaV0p6YVRwNloxQmlURFkzYTFjNWREUXpXRFEyVTJwTl</span> <span style=\"color: #7f7f7f; text-decoration-color: #7f7f7f\">                </span>\n",
       "<span style=\"color: #7fbfbf; text-decoration-color: #7fbfbf\">           </span><span style=\"color: #008000; text-decoration-color: #008000\">IyUjBUbFpUVEZKTVZWQnJlR1ZOU0VSQk1VWjNSM2QxZDI0aUxDSndaWEp6YjI1aGJFbGtaVzUwYVdacFpYSWlPa</span> <span style=\"color: #7f7f7f; text-decoration-color: #7f7f7f\">                </span>\n",
       "<span style=\"color: #7fbfbf; text-decoration-color: #7fbfbf\">           </span><span style=\"color: #008000; text-decoration-color: #008000\">UpKVkM5RVJTOHhNak0wSWl3aVptRnRhV3g1VG1GdFpTSTZJa05oYzNSaFptbHZjbWtpTENKbWFYSnpkRTVoYldV</span> <span style=\"color: #7f7f7f; text-decoration-color: #7f7f7f\">                </span>\n",
       "<span style=\"color: #7fbfbf; text-decoration-color: #7fbfbf\">           </span><span style=\"color: #008000; text-decoration-color: #008000\">aU9pSkNhV0Z1WTJFaUxDSmtZWFJsVDJaQ2FYSjBhQ0k2SWpFNU16QXRNVEF0TURFaWZTd2lZM0psWkdWdWRHbGh</span> <span style=\"color: #7f7f7f; text-decoration-color: #7f7f7f\">                </span>\n",
       "<span style=\"color: #7fbfbf; text-decoration-color: #7fbfbf\">           </span><span style=\"color: #008000; text-decoration-color: #008000\">iRk5qYUdWdFlTSTZleUpwWkNJNkltaDBkSEJ6T2k4dllYQnBMbU52Ym1admNtMWhibU5sTG1sdWRHVmljMmt1ZU</span> <span style=\"color: #7f7f7f; text-decoration-color: #7f7f7f\">                </span>\n",
       "<span style=\"color: #7fbfbf; text-decoration-color: #7fbfbf\">           </span><span style=\"color: #008000; text-decoration-color: #008000\">hsNkwzUnlkWE4wWldRdGMyTm9aVzFoY3kxeVpXZHBjM1J5ZVM5Mk1pOXpZMmhsYldGekwzcERaazU0ZURWa1RVS</span> <span style=\"color: #7f7f7f; text-decoration-color: #7f7f7f\">                </span>\n",
       "<span style=\"color: #7fbfbf; text-decoration-color: #7fbfbf\">           </span><span style=\"color: #008000; text-decoration-color: #008000\">mtaalI1Vm1OelYzcHFNV0Z1VjFKMVdHTjRjbGhxTVdGdlozbG1UakY0VTNVNGRDSXNJblI1Y0dVaU9pSkdkV3hz</span> <span style=\"color: #7f7f7f; text-decoration-color: #7f7f7f\">                </span>\n",
       "<span style=\"color: #7fbfbf; text-decoration-color: #7fbfbf\">           </span><span style=\"color: #008000; text-decoration-color: #008000\">U25OdmJsTmphR1Z0WVZaaGJHbGtZWFJ2Y2pJd01qRWlmWDE5LkRQSlZfTHdhTm8xUFEyMWJiaXBCR0txb2dGYW9</span> <span style=\"color: #7f7f7f; text-decoration-color: #7f7f7f\">                </span>\n",
       "<span style=\"color: #7fbfbf; text-decoration-color: #7fbfbf\">           </span><span style=\"color: #008000; text-decoration-color: #008000\">RbVl0WTlkSnJsU1RoUkFWRjhIb2JFU3JzUFJBbXhqNzh0cnl1eVo1X3BjYUdxUENTX0lGVEpZdVZBIl19fQ.b0v</span> <span style=\"color: #7f7f7f; text-decoration-color: #7f7f7f\">                </span>\n",
       "<span style=\"color: #7fbfbf; text-decoration-color: #7fbfbf\">           </span><span style=\"color: #008000; text-decoration-color: #008000\">qI4AFB5NPKYeRREKC2x9TY7G12CN0wDhPL0f6TeR6LKJg0Fuj-MChR-Rzg15FWgiRF660_c4NUU60upqq-g'</span>,   <span style=\"color: #7f7f7f; text-decoration-color: #7f7f7f\">                </span>\n",
       "<span style=\"color: #7fbfbf; text-decoration-color: #7fbfbf\">           </span>    <span style=\"color: #008000; text-decoration-color: #008000\">'payload'</span>: <span style=\"font-weight: bold\">{</span>                                                                        <span style=\"color: #7f7f7f; text-decoration-color: #7f7f7f\">                </span>\n",
       "<span style=\"color: #7fbfbf; text-decoration-color: #7fbfbf\">           </span>        <span style=\"color: #008000; text-decoration-color: #008000\">'id'</span>: <span style=\"color: #008000; text-decoration-color: #008000\">'urn:did:2f769523-7bb3-4020-9e5a-657476813bdf'</span>,                           <span style=\"color: #7f7f7f; text-decoration-color: #7f7f7f\">                </span>\n",
       "<span style=\"color: #7fbfbf; text-decoration-color: #7fbfbf\">           </span>        <span style=\"color: #008000; text-decoration-color: #008000\">'@context'</span>: <span style=\"font-weight: bold\">[</span><span style=\"color: #008000; text-decoration-color: #008000\">'https://www.w3.org/2018/credentials/v1'</span><span style=\"font-weight: bold\">]</span>,                         <span style=\"color: #7f7f7f; text-decoration-color: #7f7f7f\">                </span>\n",
       "<span style=\"color: #7fbfbf; text-decoration-color: #7fbfbf\">           </span>        <span style=\"color: #008000; text-decoration-color: #008000\">'type'</span>: <span style=\"font-weight: bold\">[</span><span style=\"color: #008000; text-decoration-color: #008000\">'VerifiablePresentation'</span><span style=\"font-weight: bold\">]</span>,                                             <span style=\"color: #7f7f7f; text-decoration-color: #7f7f7f\">                </span>\n",
       "<span style=\"color: #7fbfbf; text-decoration-color: #7fbfbf\">           </span>        <span style=\"color: #008000; text-decoration-color: #008000\">'holder'</span>: <span style=\"color: #008000; text-decoration-color: #008000\">'did:ebsi:zgPbL67kW9t43X46SjMGdtNVSLRLUPkxeMHDA1FwGwuwn'</span>,             <span style=\"color: #7f7f7f; text-decoration-color: #7f7f7f\">                </span>\n",
       "<span style=\"color: #7fbfbf; text-decoration-color: #7fbfbf\">           </span>        <span style=\"color: #008000; text-decoration-color: #008000\">'verifiableCredential'</span>: <span style=\"font-weight: bold\">[</span>                                                       <span style=\"color: #7f7f7f; text-decoration-color: #7f7f7f\">                </span>\n",
       "<span style=\"color: #7fbfbf; text-decoration-color: #7fbfbf\">           </span>            <span style=\"color: #008000; text-decoration-color: #008000\">'eyJhbGciOiJFUzI1NksiLCJ0eXAiOiJKV1QiLCJraWQiOiJkaWQ6ZWJzaTp6Y2Zjd0dqTEJvam</span> <span style=\"color: #7f7f7f; text-decoration-color: #7f7f7f\">                </span>\n",
       "<span style=\"color: #7fbfbf; text-decoration-color: #7fbfbf\">           </span><span style=\"color: #008000; text-decoration-color: #008000\">N6dzl5aG1VRkUzWiNrZXlzLTEifQ.eyJqdGkiOiJ1cm46ZGlkOjMxN2U2MTRkLWQ1MTctNDgzMy1hZjA1LWQxMG</span> <span style=\"color: #7f7f7f; text-decoration-color: #7f7f7f\">                </span>\n",
       "<span style=\"color: #7fbfbf; text-decoration-color: #7fbfbf\">           </span><span style=\"color: #008000; text-decoration-color: #008000\">E3YTY4MWU0YSIsInN1YiI6ImRpZDplYnNpOnpnUGJMNjdrVzl0NDNYNDZTak1HZHROVlNMUkxVUGt4ZU1IREExR</span> <span style=\"color: #7f7f7f; text-decoration-color: #7f7f7f\">                </span>\n",
       "<span style=\"color: #7fbfbf; text-decoration-color: #7fbfbf\">           </span><span style=\"color: #008000; text-decoration-color: #008000\">ndHd3V3biIsImlzcyI6ImRpZDplYnNpOnpjZmN3R2pMQm9qY3p3OXlobVVGRTNaIiwibmJmIjoxNjYxODQ4NTI4</span> <span style=\"color: #7f7f7f; text-decoration-color: #7f7f7f\">                </span>\n",
       "<span style=\"color: #7fbfbf; text-decoration-color: #7fbfbf\">           </span><span style=\"color: #008000; text-decoration-color: #008000\">LCJpYXQiOjE2NjE4NDg1MjgsInZjIjp7IkBjb250ZXh0IjpbImh0dHBzOi8vd3d3LnczLm9yZy8yMDE4L2NyZWR</span> <span style=\"color: #7f7f7f; text-decoration-color: #7f7f7f\">                </span>\n",
       "<span style=\"color: #7fbfbf; text-decoration-color: #7fbfbf\">           </span><span style=\"color: #008000; text-decoration-color: #008000\">lbnRpYWxzL3YxIl0sImlkIjoidXJuOmRpZDozMTdlNjE0ZC1kNTE3LTQ4MzMtYWYwNS1kMTBhN2E2ODFlNGEiLC</span> <span style=\"color: #7f7f7f; text-decoration-color: #7f7f7f\">                </span>\n",
       "<span style=\"color: #7fbfbf; text-decoration-color: #7fbfbf\">           </span><span style=\"color: #008000; text-decoration-color: #008000\">J0eXBlIjpbIlZlcmlmaWFibGVDcmVkZW50aWFsIiwiVmVyaWZpYWJsZUF0dGVzdGF0aW9uIiwiVmVyaWZpYWJsZ</span> <span style=\"color: #7f7f7f; text-decoration-color: #7f7f7f\">                </span>\n",
       "<span style=\"color: #7fbfbf; text-decoration-color: #7fbfbf\">           </span><span style=\"color: #008000; text-decoration-color: #008000\">UlkIl0sImlzc3VlciI6ImRpZDplYnNpOnpjZmN3R2pMQm9qY3p3OXlobVVGRTNaIiwiaXNzdWFuY2VEYXRlIjoi</span> <span style=\"color: #7f7f7f; text-decoration-color: #7f7f7f\">                </span>\n",
       "<span style=\"color: #7fbfbf; text-decoration-color: #7fbfbf\">           </span><span style=\"color: #008000; text-decoration-color: #008000\">MjAyMi0wOC0zMFQwODozNToyOFoiLCJ2YWxpZEZyb20iOiIyMDIyLTA4LTMwVDA4OjM1OjI4WiIsImlzc3VlZCI</span> <span style=\"color: #7f7f7f; text-decoration-color: #7f7f7f\">                </span>\n",
       "<span style=\"color: #7fbfbf; text-decoration-color: #7fbfbf\">           </span><span style=\"color: #008000; text-decoration-color: #008000\">6IjIwMjItMDgtMzBUMDg6MzU6MjhaIiwiY3JlZGVudGlhbFN1YmplY3QiOnsiaWQiOiJkaWQ6ZWJzaTp6Z1BiTD</span> <span style=\"color: #7f7f7f; text-decoration-color: #7f7f7f\">                </span>\n",
       "<span style=\"color: #7fbfbf; text-decoration-color: #7fbfbf\">           </span><span style=\"color: #008000; text-decoration-color: #008000\">Y3a1c5dDQzWDQ2U2pNR2R0TlZTTFJMVVBreGVNSERBMUZ3R3d1d24iLCJwZXJzb25hbElkZW50aWZpZXIiOiJJV</span> <span style=\"color: #7f7f7f; text-decoration-color: #7f7f7f\">                </span>\n",
       "<span style=\"color: #7fbfbf; text-decoration-color: #7fbfbf\">           </span><span style=\"color: #008000; text-decoration-color: #008000\">C9ERS8xMjM0IiwiZmFtaWx5TmFtZSI6IkNhc3RhZmlvcmkiLCJmaXJzdE5hbWUiOiJCaWFuY2EiLCJkYXRlT2ZC</span> <span style=\"color: #7f7f7f; text-decoration-color: #7f7f7f\">                </span>\n",
       "<span style=\"color: #7fbfbf; text-decoration-color: #7fbfbf\">           </span><span style=\"color: #008000; text-decoration-color: #008000\">aXJ0aCI6IjE5MzAtMTAtMDEifSwiY3JlZGVudGlhbFNjaGVtYSI6eyJpZCI6Imh0dHBzOi8vYXBpLmNvbmZvcm1</span> <span style=\"color: #7f7f7f; text-decoration-color: #7f7f7f\">                </span>\n",
       "<span style=\"color: #7fbfbf; text-decoration-color: #7fbfbf\">           </span><span style=\"color: #008000; text-decoration-color: #008000\">hbmNlLmludGVic2kueHl6L3RydXN0ZWQtc2NoZW1hcy1yZWdpc3RyeS92Mi9zY2hlbWFzL3pDZk54eDVkTUJkZj</span> <span style=\"color: #7f7f7f; text-decoration-color: #7f7f7f\">                </span>\n",
       "<span style=\"color: #7fbfbf; text-decoration-color: #7fbfbf\">           </span><span style=\"color: #008000; text-decoration-color: #008000\">R5VmNzV3pqMWFuV1J1WGN4clhqMWFvZ3lmTjF4U3U4dCIsInR5cGUiOiJGdWxsSnNvblNjaGVtYVZhbGlkYXRvc</span> <span style=\"color: #7f7f7f; text-decoration-color: #7f7f7f\">                </span>\n",
       "<span style=\"color: #7fbfbf; text-decoration-color: #7fbfbf\">           </span><span style=\"color: #008000; text-decoration-color: #008000\">jIwMjEifX19.DPJV_LwaNo1PQ21bbipBGKqogFaoQmYtY9dJrlSThRAVF8HobESrsPRAmxj78tryuyZ5_pcaGqP</span> <span style=\"color: #7f7f7f; text-decoration-color: #7f7f7f\">                </span>\n",
       "<span style=\"color: #7fbfbf; text-decoration-color: #7fbfbf\">           </span><span style=\"color: #008000; text-decoration-color: #008000\">CS_IFTJYuVA'</span>                                                                            <span style=\"color: #7f7f7f; text-decoration-color: #7f7f7f\">                </span>\n",
       "<span style=\"color: #7fbfbf; text-decoration-color: #7fbfbf\">           </span>        <span style=\"font-weight: bold\">]</span>                                                                               <span style=\"color: #7f7f7f; text-decoration-color: #7f7f7f\">                </span>\n",
       "<span style=\"color: #7fbfbf; text-decoration-color: #7fbfbf\">           </span>    <span style=\"font-weight: bold\">}</span>                                                                                   <span style=\"color: #7f7f7f; text-decoration-color: #7f7f7f\">                </span>\n",
       "<span style=\"color: #7fbfbf; text-decoration-color: #7fbfbf\">           </span><span style=\"font-weight: bold\">}</span>                                                                                       <span style=\"color: #7f7f7f; text-decoration-color: #7f7f7f\">                </span>\n",
       "</pre>\n"
      ],
      "text/plain": [
       "\u001b[2;36m          \u001b[0m\u001b[2;36m \u001b[0mcreatePresentationJwt                                                                   \u001b]8;id=609990;file:///var/folders/z6/z5bp3zsx3g37nkmnvk3mp8880000gn/T/ipykernel_55082/2803278071.py\u001b\\\u001b[2m2803278071.py\u001b[0m\u001b]8;;\u001b\\\u001b[2m:\u001b[0m\u001b]8;id=616078;file:///var/folders/z6/z5bp3zsx3g37nkmnvk3mp8880000gn/T/ipykernel_55082/2803278071.py#14\u001b\\\u001b[2m14\u001b[0m\u001b]8;;\u001b\\\n",
       "\u001b[2;36m           \u001b[0m\u001b[1m{\u001b[0m                                                                                       \u001b[2m                \u001b[0m\n",
       "\u001b[2;36m           \u001b[0m    \u001b[32m'jwtVp'\u001b[0m:                                                                            \u001b[2m                \u001b[0m\n",
       "\u001b[2;36m           \u001b[0m\u001b[32m'eyJhbGciOiAiRVMyNTZLIiwgInR5cCI6ICJKV1QiLCAia2lkIjogImRpZDplYnNpOnpnUGJMNjdrVzl0NDNYND\u001b[0m \u001b[2m                \u001b[0m\n",
       "\u001b[2;36m           \u001b[0m\u001b[32mZTak1HZHROVlNMUkxVUGt4ZU1IREExRndHd3V3biNTVUZpVEFiRUw2Y3ExcENiRS1lR2VCNVZmUzkwMDAwci11O\u001b[0m \u001b[2m                \u001b[0m\n",
       "\u001b[2;36m           \u001b[0m\u001b[32mEJOX2xiT0ZrIiwgImp3ayI6IHsia3R5IjogIkVDIiwgImNydiI6ICJzZWNwMjU2azEiLCAieCI6ICJXZHBUODRH\u001b[0m \u001b[2m                \u001b[0m\n",
       "\u001b[2;36m           \u001b[0m\u001b[32mcGlkZC03eUJPelVKUlQxaUdpMVhRcmIweEFxSnEycHNXdVJzIiwgInkiOiAiNzdVZ25tUHVRbGxGLXZiMnpUMHl\u001b[0m \u001b[2m                \u001b[0m\n",
       "\u001b[2;36m           \u001b[0m\u001b[32mjTnpLS3I4eFRSdkc3cC1OTlpCZkNnMCJ9fQ.eyJqdGkiOiAidXJuOmRpZDoyZjc2OTUyMy03YmIzLTQwMjAtOWU\u001b[0m \u001b[2m                \u001b[0m\n",
       "\u001b[2;36m           \u001b[0m\u001b[32m1YS02NTc0NzY4MTNiZGYiLCAic3ViIjogImRpZDplYnNpOnpnUGJMNjdrVzl0NDNYNDZTak1HZHROVlNMUkxVUG\u001b[0m \u001b[2m                \u001b[0m\n",
       "\u001b[2;36m           \u001b[0m\u001b[32mt4ZU1IREExRndHd3V3biIsICJpc3MiOiAiZGlkOmVic2k6emdQYkw2N2tXOXQ0M1g0NlNqTUdkdE5WU0xSTFVQa\u001b[0m \u001b[2m                \u001b[0m\n",
       "\u001b[2;36m           \u001b[0m\u001b[32m3hlTUhEQTFGd0d3dXduIiwgIm5iZiI6IDE2NjE4NDg1MjMsICJleHAiOiAxNjYxODQ5NDMwLCAiaWF0IjogMTY2\u001b[0m \u001b[2m                \u001b[0m\n",
       "\u001b[2;36m           \u001b[0m\u001b[32mMTg0ODUzMCwgImF1ZCI6ICJkaWQ6ZWJzaTp6Y2Zjd0dqTEJvamN6dzl5aG1VRkUzWiIsICJ2cCI6IHsiaWQiOiA\u001b[0m \u001b[2m                \u001b[0m\n",
       "\u001b[2;36m           \u001b[0m\u001b[32midXJuOmRpZDoyZjc2OTUyMy03YmIzLTQwMjAtOWU1YS02NTc0NzY4MTNiZGYiLCAiQGNvbnRleHQiOiBbImh0dH\u001b[0m \u001b[2m                \u001b[0m\n",
       "\u001b[2;36m           \u001b[0m\u001b[32mBzOi8vd3d3LnczLm9yZy8yMDE4L2NyZWRlbnRpYWxzL3YxIl0sICJ0eXBlIjogWyJWZXJpZmlhYmxlUHJlc2Vud\u001b[0m \u001b[2m                \u001b[0m\n",
       "\u001b[2;36m           \u001b[0m\u001b[32mGF0aW9uIl0sICJob2xkZXIiOiAiZGlkOmVic2k6emdQYkw2N2tXOXQ0M1g0NlNqTUdkdE5WU0xSTFVQa3hlTUhE\u001b[0m \u001b[2m                \u001b[0m\n",
       "\u001b[2;36m           \u001b[0m\u001b[32mQTFGd0d3dXduIiwgInZlcmlmaWFibGVDcmVkZW50aWFsIjogWyJleUpoYkdjaU9pSkZVekkxTmtzaUxDSjBlWEF\u001b[0m \u001b[2m                \u001b[0m\n",
       "\u001b[2;36m           \u001b[0m\u001b[32mpT2lKS1YxUWlMQ0pyYVdRaU9pSmthV1E2WldKemFUcDZZMlpqZDBkcVRFSnZhbU42ZHpsNWFHMVZSa1V6V2lOcl\u001b[0m \u001b[2m                \u001b[0m\n",
       "\u001b[2;36m           \u001b[0m\u001b[32mpYbHpMVEVpZlEuZXlKcWRHa2lPaUoxY200NlpHbGtPak14TjJVMk1UUmtMV1ExTVRjdE5EZ3pNeTFoWmpBMUxXU\u001b[0m \u001b[2m                \u001b[0m\n",
       "\u001b[2;36m           \u001b[0m\u001b[32mXhNR0UzWVRZNE1XVTBZU0lzSW5OMVlpSTZJbVJwWkRwbFluTnBPbnBuVUdKTU5qZHJWemwwTkROWU5EWlRhazFI\u001b[0m \u001b[2m                \u001b[0m\n",
       "\u001b[2;36m           \u001b[0m\u001b[32mWkhST1ZsTk1Va3hWVUd0NFpVMUlSRUV4Um5kSGQzVjNiaUlzSW1semN5STZJbVJwWkRwbFluTnBPbnBqWm1OM1I\u001b[0m \u001b[2m                \u001b[0m\n",
       "\u001b[2;36m           \u001b[0m\u001b[32mycE1RbTlxWTNwM09YbG9iVlZHUlROYUlpd2libUptSWpveE5qWXhPRFE0TlRJNExDSnBZWFFpT2pFMk5qRTRORG\u001b[0m \u001b[2m                \u001b[0m\n",
       "\u001b[2;36m           \u001b[0m\u001b[32mcxTWpnc0luWmpJanA3SWtCamIyNTBaWGgwSWpwYkltaDBkSEJ6T2k4dmQzZDNMbmN6TG05eVp5OHlNREU0TDJOe\u001b[0m \u001b[2m                \u001b[0m\n",
       "\u001b[2;36m           \u001b[0m\u001b[32mVpXUmxiblJwWVd4ekwzWXhJbDBzSW1sa0lqb2lkWEp1T21ScFpEb3pNVGRsTmpFMFpDMWtOVEUzTFRRNE16TXRZ\u001b[0m \u001b[2m                \u001b[0m\n",
       "\u001b[2;36m           \u001b[0m\u001b[32mV1l3TlMxa01UQmhOMkUyT0RGbE5HRWlMQ0owZVhCbElqcGJJbFpsY21sbWFXRmliR1ZEY21Wa1pXNTBhV0ZzSWl\u001b[0m \u001b[2m                \u001b[0m\n",
       "\u001b[2;36m           \u001b[0m\u001b[32m3aVZtVnlhV1pwWVdKc1pVRjBkR1Z6ZEdGMGFXOXVJaXdpVm1WeWFXWnBZV0pzWlVsa0lsMHNJbWx6YzNWbGNpST\u001b[0m \u001b[2m                \u001b[0m\n",
       "\u001b[2;36m           \u001b[0m\u001b[32mZJbVJwWkRwbFluTnBPbnBqWm1OM1IycE1RbTlxWTNwM09YbG9iVlZHUlROYUlpd2lhWE56ZFdGdVkyVkVZWFJsS\u001b[0m \u001b[2m                \u001b[0m\n",
       "\u001b[2;36m           \u001b[0m\u001b[32mWpvaU1qQXlNaTB3T0Mwek1GUXdPRG96TlRveU9Gb2lMQ0oyWVd4cFpFWnliMjBpT2lJeU1ESXlMVEE0TFRNd1ZE\u001b[0m \u001b[2m                \u001b[0m\n",
       "\u001b[2;36m           \u001b[0m\u001b[32mQTRPak0xT2pJNFdpSXNJbWx6YzNWbFpDSTZJakl3TWpJdE1EZ3RNekJVTURnNk16VTZNamhhSWl3aVkzSmxaR1Z\u001b[0m \u001b[2m                \u001b[0m\n",
       "\u001b[2;36m           \u001b[0m\u001b[32m1ZEdsaGJGTjFZbXBsWTNRaU9uc2lhV1FpT2lKa2FXUTZaV0p6YVRwNloxQmlURFkzYTFjNWREUXpXRFEyVTJwTl\u001b[0m \u001b[2m                \u001b[0m\n",
       "\u001b[2;36m           \u001b[0m\u001b[32mIyUjBUbFpUVEZKTVZWQnJlR1ZOU0VSQk1VWjNSM2QxZDI0aUxDSndaWEp6YjI1aGJFbGtaVzUwYVdacFpYSWlPa\u001b[0m \u001b[2m                \u001b[0m\n",
       "\u001b[2;36m           \u001b[0m\u001b[32mUpKVkM5RVJTOHhNak0wSWl3aVptRnRhV3g1VG1GdFpTSTZJa05oYzNSaFptbHZjbWtpTENKbWFYSnpkRTVoYldV\u001b[0m \u001b[2m                \u001b[0m\n",
       "\u001b[2;36m           \u001b[0m\u001b[32maU9pSkNhV0Z1WTJFaUxDSmtZWFJsVDJaQ2FYSjBhQ0k2SWpFNU16QXRNVEF0TURFaWZTd2lZM0psWkdWdWRHbGh\u001b[0m \u001b[2m                \u001b[0m\n",
       "\u001b[2;36m           \u001b[0m\u001b[32miRk5qYUdWdFlTSTZleUpwWkNJNkltaDBkSEJ6T2k4dllYQnBMbU52Ym1admNtMWhibU5sTG1sdWRHVmljMmt1ZU\u001b[0m \u001b[2m                \u001b[0m\n",
       "\u001b[2;36m           \u001b[0m\u001b[32mhsNkwzUnlkWE4wWldRdGMyTm9aVzFoY3kxeVpXZHBjM1J5ZVM5Mk1pOXpZMmhsYldGekwzcERaazU0ZURWa1RVS\u001b[0m \u001b[2m                \u001b[0m\n",
       "\u001b[2;36m           \u001b[0m\u001b[32mmtaalI1Vm1OelYzcHFNV0Z1VjFKMVdHTjRjbGhxTVdGdlozbG1UakY0VTNVNGRDSXNJblI1Y0dVaU9pSkdkV3hz\u001b[0m \u001b[2m                \u001b[0m\n",
       "\u001b[2;36m           \u001b[0m\u001b[32mU25OdmJsTmphR1Z0WVZaaGJHbGtZWFJ2Y2pJd01qRWlmWDE5LkRQSlZfTHdhTm8xUFEyMWJiaXBCR0txb2dGYW9\u001b[0m \u001b[2m                \u001b[0m\n",
       "\u001b[2;36m           \u001b[0m\u001b[32mRbVl0WTlkSnJsU1RoUkFWRjhIb2JFU3JzUFJBbXhqNzh0cnl1eVo1X3BjYUdxUENTX0lGVEpZdVZBIl19fQ.b0v\u001b[0m \u001b[2m                \u001b[0m\n",
       "\u001b[2;36m           \u001b[0m\u001b[32mqI4AFB5NPKYeRREKC2x9TY7G12CN0wDhPL0f6TeR6LKJg0Fuj-MChR-Rzg15FWgiRF660_c4NUU60upqq-g'\u001b[0m,   \u001b[2m                \u001b[0m\n",
       "\u001b[2;36m           \u001b[0m    \u001b[32m'payload'\u001b[0m: \u001b[1m{\u001b[0m                                                                        \u001b[2m                \u001b[0m\n",
       "\u001b[2;36m           \u001b[0m        \u001b[32m'id'\u001b[0m: \u001b[32m'urn:did:2f769523-7bb3-4020-9e5a-657476813bdf'\u001b[0m,                           \u001b[2m                \u001b[0m\n",
       "\u001b[2;36m           \u001b[0m        \u001b[32m'@context'\u001b[0m: \u001b[1m[\u001b[0m\u001b[32m'https://www.w3.org/2018/credentials/v1'\u001b[0m\u001b[1m]\u001b[0m,                         \u001b[2m                \u001b[0m\n",
       "\u001b[2;36m           \u001b[0m        \u001b[32m'type'\u001b[0m: \u001b[1m[\u001b[0m\u001b[32m'VerifiablePresentation'\u001b[0m\u001b[1m]\u001b[0m,                                             \u001b[2m                \u001b[0m\n",
       "\u001b[2;36m           \u001b[0m        \u001b[32m'holder'\u001b[0m: \u001b[32m'did:ebsi:zgPbL67kW9t43X46SjMGdtNVSLRLUPkxeMHDA1FwGwuwn'\u001b[0m,             \u001b[2m                \u001b[0m\n",
       "\u001b[2;36m           \u001b[0m        \u001b[32m'verifiableCredential'\u001b[0m: \u001b[1m[\u001b[0m                                                       \u001b[2m                \u001b[0m\n",
       "\u001b[2;36m           \u001b[0m            \u001b[32m'eyJhbGciOiJFUzI1NksiLCJ0eXAiOiJKV1QiLCJraWQiOiJkaWQ6ZWJzaTp6Y2Zjd0dqTEJvam\u001b[0m \u001b[2m                \u001b[0m\n",
       "\u001b[2;36m           \u001b[0m\u001b[32mN6dzl5aG1VRkUzWiNrZXlzLTEifQ.eyJqdGkiOiJ1cm46ZGlkOjMxN2U2MTRkLWQ1MTctNDgzMy1hZjA1LWQxMG\u001b[0m \u001b[2m                \u001b[0m\n",
       "\u001b[2;36m           \u001b[0m\u001b[32mE3YTY4MWU0YSIsInN1YiI6ImRpZDplYnNpOnpnUGJMNjdrVzl0NDNYNDZTak1HZHROVlNMUkxVUGt4ZU1IREExR\u001b[0m \u001b[2m                \u001b[0m\n",
       "\u001b[2;36m           \u001b[0m\u001b[32mndHd3V3biIsImlzcyI6ImRpZDplYnNpOnpjZmN3R2pMQm9qY3p3OXlobVVGRTNaIiwibmJmIjoxNjYxODQ4NTI4\u001b[0m \u001b[2m                \u001b[0m\n",
       "\u001b[2;36m           \u001b[0m\u001b[32mLCJpYXQiOjE2NjE4NDg1MjgsInZjIjp7IkBjb250ZXh0IjpbImh0dHBzOi8vd3d3LnczLm9yZy8yMDE4L2NyZWR\u001b[0m \u001b[2m                \u001b[0m\n",
       "\u001b[2;36m           \u001b[0m\u001b[32mlbnRpYWxzL3YxIl0sImlkIjoidXJuOmRpZDozMTdlNjE0ZC1kNTE3LTQ4MzMtYWYwNS1kMTBhN2E2ODFlNGEiLC\u001b[0m \u001b[2m                \u001b[0m\n",
       "\u001b[2;36m           \u001b[0m\u001b[32mJ0eXBlIjpbIlZlcmlmaWFibGVDcmVkZW50aWFsIiwiVmVyaWZpYWJsZUF0dGVzdGF0aW9uIiwiVmVyaWZpYWJsZ\u001b[0m \u001b[2m                \u001b[0m\n",
       "\u001b[2;36m           \u001b[0m\u001b[32mUlkIl0sImlzc3VlciI6ImRpZDplYnNpOnpjZmN3R2pMQm9qY3p3OXlobVVGRTNaIiwiaXNzdWFuY2VEYXRlIjoi\u001b[0m \u001b[2m                \u001b[0m\n",
       "\u001b[2;36m           \u001b[0m\u001b[32mMjAyMi0wOC0zMFQwODozNToyOFoiLCJ2YWxpZEZyb20iOiIyMDIyLTA4LTMwVDA4OjM1OjI4WiIsImlzc3VlZCI\u001b[0m \u001b[2m                \u001b[0m\n",
       "\u001b[2;36m           \u001b[0m\u001b[32m6IjIwMjItMDgtMzBUMDg6MzU6MjhaIiwiY3JlZGVudGlhbFN1YmplY3QiOnsiaWQiOiJkaWQ6ZWJzaTp6Z1BiTD\u001b[0m \u001b[2m                \u001b[0m\n",
       "\u001b[2;36m           \u001b[0m\u001b[32mY3a1c5dDQzWDQ2U2pNR2R0TlZTTFJMVVBreGVNSERBMUZ3R3d1d24iLCJwZXJzb25hbElkZW50aWZpZXIiOiJJV\u001b[0m \u001b[2m                \u001b[0m\n",
       "\u001b[2;36m           \u001b[0m\u001b[32mC9ERS8xMjM0IiwiZmFtaWx5TmFtZSI6IkNhc3RhZmlvcmkiLCJmaXJzdE5hbWUiOiJCaWFuY2EiLCJkYXRlT2ZC\u001b[0m \u001b[2m                \u001b[0m\n",
       "\u001b[2;36m           \u001b[0m\u001b[32maXJ0aCI6IjE5MzAtMTAtMDEifSwiY3JlZGVudGlhbFNjaGVtYSI6eyJpZCI6Imh0dHBzOi8vYXBpLmNvbmZvcm1\u001b[0m \u001b[2m                \u001b[0m\n",
       "\u001b[2;36m           \u001b[0m\u001b[32mhbmNlLmludGVic2kueHl6L3RydXN0ZWQtc2NoZW1hcy1yZWdpc3RyeS92Mi9zY2hlbWFzL3pDZk54eDVkTUJkZj\u001b[0m \u001b[2m                \u001b[0m\n",
       "\u001b[2;36m           \u001b[0m\u001b[32mR5VmNzV3pqMWFuV1J1WGN4clhqMWFvZ3lmTjF4U3U4dCIsInR5cGUiOiJGdWxsSnNvblNjaGVtYVZhbGlkYXRvc\u001b[0m \u001b[2m                \u001b[0m\n",
       "\u001b[2;36m           \u001b[0m\u001b[32mjIwMjEifX19.DPJV_LwaNo1PQ21bbipBGKqogFaoQmYtY9dJrlSThRAVF8HobESrsPRAmxj78tryuyZ5_pcaGqP\u001b[0m \u001b[2m                \u001b[0m\n",
       "\u001b[2;36m           \u001b[0m\u001b[32mCS_IFTJYuVA'\u001b[0m                                                                            \u001b[2m                \u001b[0m\n",
       "\u001b[2;36m           \u001b[0m        \u001b[1m]\u001b[0m                                                                               \u001b[2m                \u001b[0m\n",
       "\u001b[2;36m           \u001b[0m    \u001b[1m}\u001b[0m                                                                                   \u001b[2m                \u001b[0m\n",
       "\u001b[2;36m           \u001b[0m\u001b[1m}\u001b[0m                                                                                       \u001b[2m                \u001b[0m\n"
      ]
     },
     "metadata": {},
     "output_type": "display_data"
    }
   ],
   "source": [
    "from ebsi_wallet.main import compute\n",
    "\n",
    "encoded_credential = issue_031_credential\n",
    "credential_issuer = credential['payload']['iss']\n",
    "\n",
    "options = {\n",
    "    \"credential\": encoded_credential,\n",
    "    \"client\": client,\n",
    "    \"issuer\": credential_issuer,\n",
    "    \"audience\": credential_issuer\n",
    "}\n",
    "\n",
    "jwt_vp = await compute(\"createPresentationJwt\", options=options)\n",
    "console.log(\"createPresentationJwt\", jwt_vp)"
   ]
  },
  {
   "cell_type": "markdown",
   "metadata": {},
   "source": [
    "## VERIFY_031"
   ]
  },
  {
   "cell_type": "code",
   "execution_count": 8,
   "metadata": {},
   "outputs": [
    {
     "data": {
      "text/html": [
       "<pre style=\"white-space:pre;overflow-x:auto;line-height:normal;font-family:Menlo,'DejaVu Sans Mono',consolas,'Courier New',monospace\"><span style=\"color: #7fbfbf; text-decoration-color: #7fbfbf\">[14:05:32] </span>Verifiable presentation status                                                           <a href=\"file:///var/folders/z6/z5bp3zsx3g37nkmnvk3mp8880000gn/T/ipykernel_55082/3868489859.py\" target=\"_blank\"><span style=\"color: #7f7f7f; text-decoration-color: #7f7f7f\">3868489859.py</span></a><span style=\"color: #7f7f7f; text-decoration-color: #7f7f7f\">:</span><a href=\"file:///var/folders/z6/z5bp3zsx3g37nkmnvk3mp8880000gn/T/ipykernel_55082/3868489859.py#8\" target=\"_blank\"><span style=\"color: #7f7f7f; text-decoration-color: #7f7f7f\">8</span></a>\n",
       "<span style=\"color: #7fbfbf; text-decoration-color: #7fbfbf\">           </span><span style=\"font-weight: bold\">{</span>                                                                                        <span style=\"color: #7f7f7f; text-decoration-color: #7f7f7f\">               </span>\n",
       "<span style=\"color: #7fbfbf; text-decoration-color: #7fbfbf\">           </span>    <span style=\"color: #008000; text-decoration-color: #008000\">'result'</span>: <span style=\"color: #00ff00; text-decoration-color: #00ff00; font-style: italic\">True</span>,                                                                      <span style=\"color: #7f7f7f; text-decoration-color: #7f7f7f\">               </span>\n",
       "<span style=\"color: #7fbfbf; text-decoration-color: #7fbfbf\">           </span>    <span style=\"color: #008000; text-decoration-color: #008000\">'validations'</span>: <span style=\"font-weight: bold\">{</span>                                                                     <span style=\"color: #7f7f7f; text-decoration-color: #7f7f7f\">               </span>\n",
       "<span style=\"color: #7fbfbf; text-decoration-color: #7fbfbf\">           </span>        <span style=\"color: #008000; text-decoration-color: #008000\">'vpFormat'</span>: <span style=\"font-weight: bold\">{</span><span style=\"color: #008000; text-decoration-color: #008000\">'status'</span>: <span style=\"color: #00ff00; text-decoration-color: #00ff00; font-style: italic\">True</span><span style=\"font-weight: bold\">}</span>,                                                    <span style=\"color: #7f7f7f; text-decoration-color: #7f7f7f\">               </span>\n",
       "<span style=\"color: #7fbfbf; text-decoration-color: #7fbfbf\">           </span>        <span style=\"color: #008000; text-decoration-color: #008000\">'presentation'</span>: <span style=\"font-weight: bold\">{</span><span style=\"color: #008000; text-decoration-color: #008000\">'status'</span>: <span style=\"color: #00ff00; text-decoration-color: #00ff00; font-style: italic\">True</span><span style=\"font-weight: bold\">}</span>,                                                <span style=\"color: #7f7f7f; text-decoration-color: #7f7f7f\">               </span>\n",
       "<span style=\"color: #7fbfbf; text-decoration-color: #7fbfbf\">           </span>        <span style=\"color: #008000; text-decoration-color: #008000\">'credential'</span>: <span style=\"font-weight: bold\">{</span><span style=\"color: #008000; text-decoration-color: #008000\">'status'</span>: <span style=\"color: #00ff00; text-decoration-color: #00ff00; font-style: italic\">True</span><span style=\"font-weight: bold\">}</span>                                                   <span style=\"color: #7f7f7f; text-decoration-color: #7f7f7f\">               </span>\n",
       "<span style=\"color: #7fbfbf; text-decoration-color: #7fbfbf\">           </span>    <span style=\"font-weight: bold\">}</span>                                                                                    <span style=\"color: #7f7f7f; text-decoration-color: #7f7f7f\">               </span>\n",
       "<span style=\"color: #7fbfbf; text-decoration-color: #7fbfbf\">           </span><span style=\"font-weight: bold\">}</span>                                                                                        <span style=\"color: #7f7f7f; text-decoration-color: #7f7f7f\">               </span>\n",
       "</pre>\n"
      ],
      "text/plain": [
       "\u001b[2;36m[14:05:32]\u001b[0m\u001b[2;36m \u001b[0mVerifiable presentation status                                                           \u001b]8;id=207345;file:///var/folders/z6/z5bp3zsx3g37nkmnvk3mp8880000gn/T/ipykernel_55082/3868489859.py\u001b\\\u001b[2m3868489859.py\u001b[0m\u001b]8;;\u001b\\\u001b[2m:\u001b[0m\u001b]8;id=18658;file:///var/folders/z6/z5bp3zsx3g37nkmnvk3mp8880000gn/T/ipykernel_55082/3868489859.py#8\u001b\\\u001b[2m8\u001b[0m\u001b]8;;\u001b\\\n",
       "\u001b[2;36m           \u001b[0m\u001b[1m{\u001b[0m                                                                                        \u001b[2m               \u001b[0m\n",
       "\u001b[2;36m           \u001b[0m    \u001b[32m'result'\u001b[0m: \u001b[3;92mTrue\u001b[0m,                                                                      \u001b[2m               \u001b[0m\n",
       "\u001b[2;36m           \u001b[0m    \u001b[32m'validations'\u001b[0m: \u001b[1m{\u001b[0m                                                                     \u001b[2m               \u001b[0m\n",
       "\u001b[2;36m           \u001b[0m        \u001b[32m'vpFormat'\u001b[0m: \u001b[1m{\u001b[0m\u001b[32m'status'\u001b[0m: \u001b[3;92mTrue\u001b[0m\u001b[1m}\u001b[0m,                                                    \u001b[2m               \u001b[0m\n",
       "\u001b[2;36m           \u001b[0m        \u001b[32m'presentation'\u001b[0m: \u001b[1m{\u001b[0m\u001b[32m'status'\u001b[0m: \u001b[3;92mTrue\u001b[0m\u001b[1m}\u001b[0m,                                                \u001b[2m               \u001b[0m\n",
       "\u001b[2;36m           \u001b[0m        \u001b[32m'credential'\u001b[0m: \u001b[1m{\u001b[0m\u001b[32m'status'\u001b[0m: \u001b[3;92mTrue\u001b[0m\u001b[1m}\u001b[0m                                                   \u001b[2m               \u001b[0m\n",
       "\u001b[2;36m           \u001b[0m    \u001b[1m}\u001b[0m                                                                                    \u001b[2m               \u001b[0m\n",
       "\u001b[2;36m           \u001b[0m\u001b[1m}\u001b[0m                                                                                        \u001b[2m               \u001b[0m\n"
      ]
     },
     "metadata": {},
     "output_type": "display_data"
    }
   ],
   "source": [
    "options = {\n",
    "    \"credential\": encoded_credential,\n",
    "    \"jwtVp\": jwt_vp[\"jwtVp\"],\n",
    "    \"client\": client\n",
    "}\n",
    "\n",
    "vp_status = await conformance(\"verifierAuthResponse\", options=options, headers={})\n",
    "console.log(\"Verifiable presentation status\", vp_status)"
   ]
  }
 ],
 "metadata": {
  "kernelspec": {
   "display_name": "Python 3 (ipykernel)",
   "language": "python",
   "name": "python3"
  },
  "language_info": {
   "codemirror_mode": {
    "name": "ipython",
    "version": 3
   },
   "file_extension": ".py",
   "mimetype": "text/x-python",
   "name": "python",
   "nbconvert_exporter": "python",
   "pygments_lexer": "ipython3",
   "version": "3.8.9"
  },
  "vscode": {
   "interpreter": {
    "hash": "3b4c306616ac518cda10396dc5e33ec841be65507032dce171859f2c0f4d5a7f"
   }
  }
 },
 "nbformat": 4,
 "nbformat_minor": 2
}
