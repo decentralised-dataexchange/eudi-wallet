{
 "cells": [
  {
   "attachments": {},
   "cell_type": "markdown",
   "metadata": {},
   "source": [
    "# Holder Wallet Conformance Flows (v3)"
   ]
  },
  {
   "attachments": {},
   "cell_type": "markdown",
   "metadata": {},
   "source": [
    "## Setup conformance"
   ]
  },
  {
   "cell_type": "code",
   "execution_count": 1,
   "metadata": {},
   "outputs": [],
   "source": [
    "import uuid\n",
    "import asyncio\n",
    "from rich.console import Console\n",
    "\n",
    "console = Console()\n",
    "\n",
    "loop = asyncio.get_event_loop()"
   ]
  },
  {
   "attachments": {},
   "cell_type": "markdown",
   "metadata": {},
   "source": [
    "## Create did:key:jwk_jcs-pub identifier using ES256 algorithm"
   ]
  },
  {
   "cell_type": "code",
   "execution_count": 2,
   "metadata": {},
   "outputs": [
    {
     "name": "stdout",
     "output_type": "stream",
     "text": [
      "Decentralised identifier:  did:key:z2dmzD81cgPx8Vki7JbuuMmFYrWPgYoytykUZ3eyqht1j9Kbq83ZxBg2jPXhutvjpai7zBzx2CmepgRG25fw4LvS9VLi6Un4RK8jb8Wan7a9B1v5gNcBmAPqSe5NmBJ2Ssi5wdtFarD26DhwaQgyEViDWgAnFrUoZfwseZ6n7aKuYrM89a\n"
     ]
    }
   ],
   "source": [
    "from ebsi_wallet.did_key import KeyDid, PublicKeyJWK\n",
    "\n",
    "key_did = KeyDid()\n",
    "\n",
    "# generate keypair\n",
    "key_did.create_keypair()\n",
    "\n",
    "# create public key jwk\n",
    "public_key_jwk = PublicKeyJWK(\n",
    "    kty=key_did.public_key_jwk['kty'],\n",
    "    crv=key_did.public_key_jwk['crv'],\n",
    "    x=key_did.public_key_jwk['x'],\n",
    "    y=key_did.public_key_jwk['y']\n",
    ")\n",
    "\n",
    "# generate did\n",
    "key_did.generate_did(public_key_jwk)\n",
    "\n",
    "print(\"Decentralised identifier: \", key_did._did)"
   ]
  },
  {
   "attachments": {},
   "cell_type": "markdown",
   "metadata": {},
   "source": [
    "## Initiate Credential Issuance - Cross Device"
   ]
  },
  {
   "cell_type": "code",
   "execution_count": 3,
   "metadata": {},
   "outputs": [
    {
     "data": {
      "text/html": [
       "<pre style=\"white-space:pre;overflow-x:auto;line-height:normal;font-family:Menlo,'DejaVu Sans Mono',consolas,'Courier New',monospace\"><span style=\"color: #7fbfbf; text-decoration-color: #7fbfbf\">[12:37:11] </span>Credential offer URI:                                                                    <a href=\"file:///var/folders/61/8pv2r1d505lb_yy2410br0pw0000gn/T/ipykernel_45986/352674899.py\" target=\"_blank\"><span style=\"color: #7f7f7f; text-decoration-color: #7f7f7f\">352674899.py</span></a><span style=\"color: #7f7f7f; text-decoration-color: #7f7f7f\">:</span><a href=\"file:///var/folders/61/8pv2r1d505lb_yy2410br0pw0000gn/T/ipykernel_45986/352674899.py#13\" target=\"_blank\"><span style=\"color: #7f7f7f; text-decoration-color: #7f7f7f\">13</span></a>\n",
       "<span style=\"color: #7fbfbf; text-decoration-color: #7fbfbf\">           </span><span style=\"color: #0000ff; text-decoration-color: #0000ff; text-decoration: underline\">https://api-conformance.ebsi.eu/conformance/v3/issuer-mock/offers/4dfdc8a7-a61a-4d62-846</span> <span style=\"color: #7f7f7f; text-decoration-color: #7f7f7f\">               </span>\n",
       "<span style=\"color: #7fbfbf; text-decoration-color: #7fbfbf\">           </span><span style=\"color: #0000ff; text-decoration-color: #0000ff; text-decoration: underline\">3-6545fdfa8e81</span>                                                                           <span style=\"color: #7f7f7f; text-decoration-color: #7f7f7f\">               </span>\n",
       "</pre>\n"
      ],
      "text/plain": [
       "\u001b[2;36m[12:37:11]\u001b[0m\u001b[2;36m \u001b[0mCredential offer URI:                                                                    \u001b]8;id=887256;file:///var/folders/61/8pv2r1d505lb_yy2410br0pw0000gn/T/ipykernel_45986/352674899.py\u001b\\\u001b[2m352674899.py\u001b[0m\u001b]8;;\u001b\\\u001b[2m:\u001b[0m\u001b]8;id=607697;file:///var/folders/61/8pv2r1d505lb_yy2410br0pw0000gn/T/ipykernel_45986/352674899.py#13\u001b\\\u001b[2m13\u001b[0m\u001b]8;;\u001b\\\n",
       "\u001b[2;36m           \u001b[0m\u001b[4;94mhttps://api-conformance.ebsi.eu/conformance/v3/issuer-mock/offers/4dfdc8a7-a61a-4d62-846\u001b[0m \u001b[2m               \u001b[0m\n",
       "\u001b[2;36m           \u001b[0m\u001b[4;94m3-6545fdfa8e81\u001b[0m                                                                           \u001b[2m               \u001b[0m\n"
      ]
     },
     "metadata": {},
     "output_type": "display_data"
    },
    {
     "data": {
      "text/html": [
       "<pre style=\"white-space:pre;overflow-x:auto;line-height:normal;font-family:Menlo,'DejaVu Sans Mono',consolas,'Courier New',monospace\"><span style=\"color: #7fbfbf; text-decoration-color: #7fbfbf\">           </span>Credential offer:                                                                        <a href=\"file:///var/folders/61/8pv2r1d505lb_yy2410br0pw0000gn/T/ipykernel_45986/352674899.py\" target=\"_blank\"><span style=\"color: #7f7f7f; text-decoration-color: #7f7f7f\">352674899.py</span></a><span style=\"color: #7f7f7f; text-decoration-color: #7f7f7f\">:</span><a href=\"file:///var/folders/61/8pv2r1d505lb_yy2410br0pw0000gn/T/ipykernel_45986/352674899.py#16\" target=\"_blank\"><span style=\"color: #7f7f7f; text-decoration-color: #7f7f7f\">16</span></a>\n",
       "<span style=\"color: #7fbfbf; text-decoration-color: #7fbfbf\">           </span><span style=\"color: #800080; text-decoration-color: #800080; font-weight: bold\">CredentialOffer</span><span style=\"font-weight: bold\">(</span>                                                                         <span style=\"color: #7f7f7f; text-decoration-color: #7f7f7f\">               </span>\n",
       "<span style=\"color: #7fbfbf; text-decoration-color: #7fbfbf\">           </span>    <span style=\"color: #808000; text-decoration-color: #808000\">credential_issuer</span>=<span style=\"color: #008000; text-decoration-color: #008000\">'https://api-conformance.ebsi.eu/conformance/v3/issuer-mock'</span>,      <span style=\"color: #7f7f7f; text-decoration-color: #7f7f7f\">               </span>\n",
       "<span style=\"color: #7fbfbf; text-decoration-color: #7fbfbf\">           </span>    <span style=\"color: #808000; text-decoration-color: #808000\">credentials</span>=<span style=\"font-weight: bold\">[</span>                                                                        <span style=\"color: #7f7f7f; text-decoration-color: #7f7f7f\">               </span>\n",
       "<span style=\"color: #7fbfbf; text-decoration-color: #7fbfbf\">           </span>        <span style=\"font-weight: bold\">{</span>                                                                                <span style=\"color: #7f7f7f; text-decoration-color: #7f7f7f\">               </span>\n",
       "<span style=\"color: #7fbfbf; text-decoration-color: #7fbfbf\">           </span>            <span style=\"color: #008000; text-decoration-color: #008000\">'format'</span>: <span style=\"color: #008000; text-decoration-color: #008000\">'jwt_vc'</span>,                                                          <span style=\"color: #7f7f7f; text-decoration-color: #7f7f7f\">               </span>\n",
       "<span style=\"color: #7fbfbf; text-decoration-color: #7fbfbf\">           </span>            <span style=\"color: #008000; text-decoration-color: #008000\">'types'</span>: <span style=\"font-weight: bold\">[</span>                                                                   <span style=\"color: #7f7f7f; text-decoration-color: #7f7f7f\">               </span>\n",
       "<span style=\"color: #7fbfbf; text-decoration-color: #7fbfbf\">           </span>                <span style=\"color: #008000; text-decoration-color: #008000\">'VerifiableCredential'</span>,                                                  <span style=\"color: #7f7f7f; text-decoration-color: #7f7f7f\">               </span>\n",
       "<span style=\"color: #7fbfbf; text-decoration-color: #7fbfbf\">           </span>                <span style=\"color: #008000; text-decoration-color: #008000\">'VerifiableAttestation'</span>,                                                 <span style=\"color: #7f7f7f; text-decoration-color: #7f7f7f\">               </span>\n",
       "<span style=\"color: #7fbfbf; text-decoration-color: #7fbfbf\">           </span>                <span style=\"color: #008000; text-decoration-color: #008000\">'CTWalletCrossInTime'</span>                                                    <span style=\"color: #7f7f7f; text-decoration-color: #7f7f7f\">               </span>\n",
       "<span style=\"color: #7fbfbf; text-decoration-color: #7fbfbf\">           </span>            <span style=\"font-weight: bold\">]</span>,                                                                           <span style=\"color: #7f7f7f; text-decoration-color: #7f7f7f\">               </span>\n",
       "<span style=\"color: #7fbfbf; text-decoration-color: #7fbfbf\">           </span>            <span style=\"color: #008000; text-decoration-color: #008000\">'trust_framework'</span>: <span style=\"font-weight: bold\">{</span>                                                         <span style=\"color: #7f7f7f; text-decoration-color: #7f7f7f\">               </span>\n",
       "<span style=\"color: #7fbfbf; text-decoration-color: #7fbfbf\">           </span>                <span style=\"color: #008000; text-decoration-color: #008000\">'name'</span>: <span style=\"color: #008000; text-decoration-color: #008000\">'ebsi'</span>,                                                          <span style=\"color: #7f7f7f; text-decoration-color: #7f7f7f\">               </span>\n",
       "<span style=\"color: #7fbfbf; text-decoration-color: #7fbfbf\">           </span>                <span style=\"color: #008000; text-decoration-color: #008000\">'type'</span>: <span style=\"color: #008000; text-decoration-color: #008000\">'Accreditation'</span>,                                                 <span style=\"color: #7f7f7f; text-decoration-color: #7f7f7f\">               </span>\n",
       "<span style=\"color: #7fbfbf; text-decoration-color: #7fbfbf\">           </span>                <span style=\"color: #008000; text-decoration-color: #008000\">'uri'</span>: <span style=\"color: #008000; text-decoration-color: #008000\">'TIR link towards accreditation'</span>                                  <span style=\"color: #7f7f7f; text-decoration-color: #7f7f7f\">               </span>\n",
       "<span style=\"color: #7fbfbf; text-decoration-color: #7fbfbf\">           </span>            <span style=\"font-weight: bold\">}</span>                                                                            <span style=\"color: #7f7f7f; text-decoration-color: #7f7f7f\">               </span>\n",
       "<span style=\"color: #7fbfbf; text-decoration-color: #7fbfbf\">           </span>        <span style=\"font-weight: bold\">}</span>                                                                                <span style=\"color: #7f7f7f; text-decoration-color: #7f7f7f\">               </span>\n",
       "<span style=\"color: #7fbfbf; text-decoration-color: #7fbfbf\">           </span>    <span style=\"font-weight: bold\">]</span>,                                                                                   <span style=\"color: #7f7f7f; text-decoration-color: #7f7f7f\">               </span>\n",
       "<span style=\"color: #7fbfbf; text-decoration-color: #7fbfbf\">           </span>    <span style=\"color: #808000; text-decoration-color: #808000\">grants</span>=<span style=\"font-weight: bold\">{</span>                                                                             <span style=\"color: #7f7f7f; text-decoration-color: #7f7f7f\">               </span>\n",
       "<span style=\"color: #7fbfbf; text-decoration-color: #7fbfbf\">           </span>        <span style=\"color: #008000; text-decoration-color: #008000\">'authorization_code'</span>: <span style=\"font-weight: bold\">{</span>                                                          <span style=\"color: #7f7f7f; text-decoration-color: #7f7f7f\">               </span>\n",
       "<span style=\"color: #7fbfbf; text-decoration-color: #7fbfbf\">           </span>            <span style=\"color: #008000; text-decoration-color: #008000\">'issuer_state'</span>:                                                              <span style=\"color: #7f7f7f; text-decoration-color: #7f7f7f\">               </span>\n",
       "<span style=\"color: #7fbfbf; text-decoration-color: #7fbfbf\">           </span><span style=\"color: #008000; text-decoration-color: #008000\">'eyJ0eXAiOiJKV1QiLCJhbGciOiJFUzI1NiIsImtpZCI6InVPa3Y1TE9pbzlYQnE2a1JRaHNaMHpOTVZ1czBjNFZ</span> <span style=\"color: #7f7f7f; text-decoration-color: #7f7f7f\">               </span>\n",
       "<span style=\"color: #7fbfbf; text-decoration-color: #7fbfbf\">           </span><span style=\"color: #008000; text-decoration-color: #008000\">qcFB0cDY1dTVjWXcifQ.eyJjbGllbnRfaWQiOiJkaWQ6a2V5OnoyZG16RDgxY2dQeDhWa2k3SmJ1dU1tRllyV1Bn</span> <span style=\"color: #7f7f7f; text-decoration-color: #7f7f7f\">               </span>\n",
       "<span style=\"color: #7fbfbf; text-decoration-color: #7fbfbf\">           </span><span style=\"color: #008000; text-decoration-color: #008000\">WW95dHlrVVozZXlxaHQxajlLYnE4M1p4QmcyalBYaHV0dmpwYWk3ekJ6eDJDbWVwZ1JHMjVmdzRMdlM5VkxpNlVu</span> <span style=\"color: #7f7f7f; text-decoration-color: #7f7f7f\">               </span>\n",
       "<span style=\"color: #7fbfbf; text-decoration-color: #7fbfbf\">           </span><span style=\"color: #008000; text-decoration-color: #008000\">NFJLOGpiOFdhbjdhOUIxdjVnTmNCbUFQcVNlNU5tQkoyU3NpNXdkdEZhckQyNkRod2FRZ3lFVmlEV2dBbkZyVW9a</span> <span style=\"color: #7f7f7f; text-decoration-color: #7f7f7f\">               </span>\n",
       "<span style=\"color: #7fbfbf; text-decoration-color: #7fbfbf\">           </span><span style=\"color: #008000; text-decoration-color: #008000\">ZndzZVo2bjdhS3VZck04OWEiLCJjcmVkZW50aWFsX3R5cGVzIjpbIlZlcmlmaWFibGVDcmVkZW50aWFsIiwiVmVy</span> <span style=\"color: #7f7f7f; text-decoration-color: #7f7f7f\">               </span>\n",
       "<span style=\"color: #7fbfbf; text-decoration-color: #7fbfbf\">           </span><span style=\"color: #008000; text-decoration-color: #008000\">aWZpYWJsZUF0dGVzdGF0aW9uIiwiQ1RXYWxsZXRDcm9zc0luVGltZSJdLCJpYXQiOjE2ODYzMDcwMzEsImV4cCI6</span> <span style=\"color: #7f7f7f; text-decoration-color: #7f7f7f\">               </span>\n",
       "<span style=\"color: #7fbfbf; text-decoration-color: #7fbfbf\">           </span><span style=\"color: #008000; text-decoration-color: #008000\">MTY4NjMwNzMzMSwiaXNzIjoiaHR0cHM6Ly9hcGktY29uZm9ybWFuY2UuZWJzaS5ldS9jb25mb3JtYW5jZS92My9p</span> <span style=\"color: #7f7f7f; text-decoration-color: #7f7f7f\">               </span>\n",
       "<span style=\"color: #7fbfbf; text-decoration-color: #7fbfbf\">           </span><span style=\"color: #008000; text-decoration-color: #008000\">c3N1ZXItbW9jayIsImF1ZCI6Imh0dHBzOi8vYXBpLWNvbmZvcm1hbmNlLmVic2kuZXUvY29uZm9ybWFuY2UvdjMv</span> <span style=\"color: #7f7f7f; text-decoration-color: #7f7f7f\">               </span>\n",
       "<span style=\"color: #7fbfbf; text-decoration-color: #7fbfbf\">           </span><span style=\"color: #008000; text-decoration-color: #008000\">YXV0aC1tb2NrIiwic3ViIjoiZGlkOmtleTp6MmRtekQ4MWNnUHg4VmtpN0pidXVNbUZZcldQZ1lveXR5a1VaM2V5</span> <span style=\"color: #7f7f7f; text-decoration-color: #7f7f7f\">               </span>\n",
       "<span style=\"color: #7fbfbf; text-decoration-color: #7fbfbf\">           </span><span style=\"color: #008000; text-decoration-color: #008000\">cWh0MWo5S2JxODNaeEJnMmpQWGh1dHZqcGFpN3pCengyQ21lcGdSRzI1Znc0THZTOVZMaTZVbjRSSzhqYjhXYW43</span> <span style=\"color: #7f7f7f; text-decoration-color: #7f7f7f\">               </span>\n",
       "<span style=\"color: #7fbfbf; text-decoration-color: #7fbfbf\">           </span><span style=\"color: #008000; text-decoration-color: #008000\">YTlCMXY1Z05jQm1BUHFTZTVObUJKMlNzaTV3ZHRGYXJEMjZEaHdhUWd5RVZpRFdnQW5GclVvWmZ3c2VaNm43YUt1</span> <span style=\"color: #7f7f7f; text-decoration-color: #7f7f7f\">               </span>\n",
       "<span style=\"color: #7fbfbf; text-decoration-color: #7fbfbf\">           </span><span style=\"color: #008000; text-decoration-color: #008000\">WXJNODlhIn0.jq08s_DoZZd6cYTa2ajq5pNZJi40bGTNB8w6SYt4DMmAtxu0qsPyZHHQCYe3eFLLGp5eQ87xaZ2s</span> <span style=\"color: #7f7f7f; text-decoration-color: #7f7f7f\">               </span>\n",
       "<span style=\"color: #7fbfbf; text-decoration-color: #7fbfbf\">           </span><span style=\"color: #008000; text-decoration-color: #008000\">GLPFwcTVvw'</span>                                                                              <span style=\"color: #7f7f7f; text-decoration-color: #7f7f7f\">               </span>\n",
       "<span style=\"color: #7fbfbf; text-decoration-color: #7fbfbf\">           </span>        <span style=\"font-weight: bold\">}</span>                                                                                <span style=\"color: #7f7f7f; text-decoration-color: #7f7f7f\">               </span>\n",
       "<span style=\"color: #7fbfbf; text-decoration-color: #7fbfbf\">           </span>    <span style=\"font-weight: bold\">}</span>                                                                                    <span style=\"color: #7f7f7f; text-decoration-color: #7f7f7f\">               </span>\n",
       "<span style=\"color: #7fbfbf; text-decoration-color: #7fbfbf\">           </span><span style=\"font-weight: bold\">)</span>                                                                                        <span style=\"color: #7f7f7f; text-decoration-color: #7f7f7f\">               </span>\n",
       "</pre>\n"
      ],
      "text/plain": [
       "\u001b[2;36m          \u001b[0m\u001b[2;36m \u001b[0mCredential offer:                                                                        \u001b]8;id=903191;file:///var/folders/61/8pv2r1d505lb_yy2410br0pw0000gn/T/ipykernel_45986/352674899.py\u001b\\\u001b[2m352674899.py\u001b[0m\u001b]8;;\u001b\\\u001b[2m:\u001b[0m\u001b]8;id=838353;file:///var/folders/61/8pv2r1d505lb_yy2410br0pw0000gn/T/ipykernel_45986/352674899.py#16\u001b\\\u001b[2m16\u001b[0m\u001b]8;;\u001b\\\n",
       "\u001b[2;36m           \u001b[0m\u001b[1;35mCredentialOffer\u001b[0m\u001b[1m(\u001b[0m                                                                         \u001b[2m               \u001b[0m\n",
       "\u001b[2;36m           \u001b[0m    \u001b[33mcredential_issuer\u001b[0m=\u001b[32m'https://api-conformance.ebsi.eu/conformance/v3/issuer-mock'\u001b[0m,      \u001b[2m               \u001b[0m\n",
       "\u001b[2;36m           \u001b[0m    \u001b[33mcredentials\u001b[0m=\u001b[1m[\u001b[0m                                                                        \u001b[2m               \u001b[0m\n",
       "\u001b[2;36m           \u001b[0m        \u001b[1m{\u001b[0m                                                                                \u001b[2m               \u001b[0m\n",
       "\u001b[2;36m           \u001b[0m            \u001b[32m'format'\u001b[0m: \u001b[32m'jwt_vc'\u001b[0m,                                                          \u001b[2m               \u001b[0m\n",
       "\u001b[2;36m           \u001b[0m            \u001b[32m'types'\u001b[0m: \u001b[1m[\u001b[0m                                                                   \u001b[2m               \u001b[0m\n",
       "\u001b[2;36m           \u001b[0m                \u001b[32m'VerifiableCredential'\u001b[0m,                                                  \u001b[2m               \u001b[0m\n",
       "\u001b[2;36m           \u001b[0m                \u001b[32m'VerifiableAttestation'\u001b[0m,                                                 \u001b[2m               \u001b[0m\n",
       "\u001b[2;36m           \u001b[0m                \u001b[32m'CTWalletCrossInTime'\u001b[0m                                                    \u001b[2m               \u001b[0m\n",
       "\u001b[2;36m           \u001b[0m            \u001b[1m]\u001b[0m,                                                                           \u001b[2m               \u001b[0m\n",
       "\u001b[2;36m           \u001b[0m            \u001b[32m'trust_framework'\u001b[0m: \u001b[1m{\u001b[0m                                                         \u001b[2m               \u001b[0m\n",
       "\u001b[2;36m           \u001b[0m                \u001b[32m'name'\u001b[0m: \u001b[32m'ebsi'\u001b[0m,                                                          \u001b[2m               \u001b[0m\n",
       "\u001b[2;36m           \u001b[0m                \u001b[32m'type'\u001b[0m: \u001b[32m'Accreditation'\u001b[0m,                                                 \u001b[2m               \u001b[0m\n",
       "\u001b[2;36m           \u001b[0m                \u001b[32m'uri'\u001b[0m: \u001b[32m'TIR link towards accreditation'\u001b[0m                                  \u001b[2m               \u001b[0m\n",
       "\u001b[2;36m           \u001b[0m            \u001b[1m}\u001b[0m                                                                            \u001b[2m               \u001b[0m\n",
       "\u001b[2;36m           \u001b[0m        \u001b[1m}\u001b[0m                                                                                \u001b[2m               \u001b[0m\n",
       "\u001b[2;36m           \u001b[0m    \u001b[1m]\u001b[0m,                                                                                   \u001b[2m               \u001b[0m\n",
       "\u001b[2;36m           \u001b[0m    \u001b[33mgrants\u001b[0m=\u001b[1m{\u001b[0m                                                                             \u001b[2m               \u001b[0m\n",
       "\u001b[2;36m           \u001b[0m        \u001b[32m'authorization_code'\u001b[0m: \u001b[1m{\u001b[0m                                                          \u001b[2m               \u001b[0m\n",
       "\u001b[2;36m           \u001b[0m            \u001b[32m'issuer_state'\u001b[0m:                                                              \u001b[2m               \u001b[0m\n",
       "\u001b[2;36m           \u001b[0m\u001b[32m'eyJ0eXAiOiJKV1QiLCJhbGciOiJFUzI1NiIsImtpZCI6InVPa3Y1TE9pbzlYQnE2a1JRaHNaMHpOTVZ1czBjNFZ\u001b[0m \u001b[2m               \u001b[0m\n",
       "\u001b[2;36m           \u001b[0m\u001b[32mqcFB0cDY1dTVjWXcifQ.eyJjbGllbnRfaWQiOiJkaWQ6a2V5OnoyZG16RDgxY2dQeDhWa2k3SmJ1dU1tRllyV1Bn\u001b[0m \u001b[2m               \u001b[0m\n",
       "\u001b[2;36m           \u001b[0m\u001b[32mWW95dHlrVVozZXlxaHQxajlLYnE4M1p4QmcyalBYaHV0dmpwYWk3ekJ6eDJDbWVwZ1JHMjVmdzRMdlM5VkxpNlVu\u001b[0m \u001b[2m               \u001b[0m\n",
       "\u001b[2;36m           \u001b[0m\u001b[32mNFJLOGpiOFdhbjdhOUIxdjVnTmNCbUFQcVNlNU5tQkoyU3NpNXdkdEZhckQyNkRod2FRZ3lFVmlEV2dBbkZyVW9a\u001b[0m \u001b[2m               \u001b[0m\n",
       "\u001b[2;36m           \u001b[0m\u001b[32mZndzZVo2bjdhS3VZck04OWEiLCJjcmVkZW50aWFsX3R5cGVzIjpbIlZlcmlmaWFibGVDcmVkZW50aWFsIiwiVmVy\u001b[0m \u001b[2m               \u001b[0m\n",
       "\u001b[2;36m           \u001b[0m\u001b[32maWZpYWJsZUF0dGVzdGF0aW9uIiwiQ1RXYWxsZXRDcm9zc0luVGltZSJdLCJpYXQiOjE2ODYzMDcwMzEsImV4cCI6\u001b[0m \u001b[2m               \u001b[0m\n",
       "\u001b[2;36m           \u001b[0m\u001b[32mMTY4NjMwNzMzMSwiaXNzIjoiaHR0cHM6Ly9hcGktY29uZm9ybWFuY2UuZWJzaS5ldS9jb25mb3JtYW5jZS92My9p\u001b[0m \u001b[2m               \u001b[0m\n",
       "\u001b[2;36m           \u001b[0m\u001b[32mc3N1ZXItbW9jayIsImF1ZCI6Imh0dHBzOi8vYXBpLWNvbmZvcm1hbmNlLmVic2kuZXUvY29uZm9ybWFuY2UvdjMv\u001b[0m \u001b[2m               \u001b[0m\n",
       "\u001b[2;36m           \u001b[0m\u001b[32mYXV0aC1tb2NrIiwic3ViIjoiZGlkOmtleTp6MmRtekQ4MWNnUHg4VmtpN0pidXVNbUZZcldQZ1lveXR5a1VaM2V5\u001b[0m \u001b[2m               \u001b[0m\n",
       "\u001b[2;36m           \u001b[0m\u001b[32mcWh0MWo5S2JxODNaeEJnMmpQWGh1dHZqcGFpN3pCengyQ21lcGdSRzI1Znc0THZTOVZMaTZVbjRSSzhqYjhXYW43\u001b[0m \u001b[2m               \u001b[0m\n",
       "\u001b[2;36m           \u001b[0m\u001b[32mYTlCMXY1Z05jQm1BUHFTZTVObUJKMlNzaTV3ZHRGYXJEMjZEaHdhUWd5RVZpRFdnQW5GclVvWmZ3c2VaNm43YUt1\u001b[0m \u001b[2m               \u001b[0m\n",
       "\u001b[2;36m           \u001b[0m\u001b[32mWXJNODlhIn0.jq08s_DoZZd6cYTa2ajq5pNZJi40bGTNB8w6SYt4DMmAtxu0qsPyZHHQCYe3eFLLGp5eQ87xaZ2s\u001b[0m \u001b[2m               \u001b[0m\n",
       "\u001b[2;36m           \u001b[0m\u001b[32mGLPFwcTVvw'\u001b[0m                                                                              \u001b[2m               \u001b[0m\n",
       "\u001b[2;36m           \u001b[0m        \u001b[1m}\u001b[0m                                                                                \u001b[2m               \u001b[0m\n",
       "\u001b[2;36m           \u001b[0m    \u001b[1m}\u001b[0m                                                                                    \u001b[2m               \u001b[0m\n",
       "\u001b[2;36m           \u001b[0m\u001b[1m)\u001b[0m                                                                                        \u001b[2m               \u001b[0m\n"
      ]
     },
     "metadata": {},
     "output_type": "display_data"
    },
    {
     "data": {
      "text/html": [
       "<pre style=\"white-space:pre;overflow-x:auto;line-height:normal;font-family:Menlo,'DejaVu Sans Mono',consolas,'Courier New',monospace\"><span style=\"color: #7fbfbf; text-decoration-color: #7fbfbf\">           </span>Credential issuer configuration:                                                         <a href=\"file:///var/folders/61/8pv2r1d505lb_yy2410br0pw0000gn/T/ipykernel_45986/352674899.py\" target=\"_blank\"><span style=\"color: #7f7f7f; text-decoration-color: #7f7f7f\">352674899.py</span></a><span style=\"color: #7f7f7f; text-decoration-color: #7f7f7f\">:</span><a href=\"file:///var/folders/61/8pv2r1d505lb_yy2410br0pw0000gn/T/ipykernel_45986/352674899.py#19\" target=\"_blank\"><span style=\"color: #7f7f7f; text-decoration-color: #7f7f7f\">19</span></a>\n",
       "<span style=\"color: #7fbfbf; text-decoration-color: #7fbfbf\">           </span><span style=\"color: #800080; text-decoration-color: #800080; font-weight: bold\">OpenIDCredentialIssuerConfig</span><span style=\"font-weight: bold\">(</span>                                                            <span style=\"color: #7f7f7f; text-decoration-color: #7f7f7f\">               </span>\n",
       "<span style=\"color: #7fbfbf; text-decoration-color: #7fbfbf\">           </span>    <span style=\"color: #808000; text-decoration-color: #808000\">credential_issuer</span>=<span style=\"color: #008000; text-decoration-color: #008000\">'https://api-conformance.ebsi.eu/conformance/v3/issuer-mock'</span>,      <span style=\"color: #7f7f7f; text-decoration-color: #7f7f7f\">               </span>\n",
       "<span style=\"color: #7fbfbf; text-decoration-color: #7fbfbf\">           </span>    <span style=\"color: #808000; text-decoration-color: #808000\">authorization_server</span>=<span style=\"color: #008000; text-decoration-color: #008000\">'https://api-conformance.ebsi.eu/conformance/v3/auth-mock'</span>,     <span style=\"color: #7f7f7f; text-decoration-color: #7f7f7f\">               </span>\n",
       "<span style=\"color: #7fbfbf; text-decoration-color: #7fbfbf\">           </span>    <span style=\"color: #808000; text-decoration-color: #808000\">credential_endpoint</span>=<span style=\"color: #008000; text-decoration-color: #008000\">'https://api-conformance.ebsi.eu/conformance/v3/issuer-mock/cred</span> <span style=\"color: #7f7f7f; text-decoration-color: #7f7f7f\">               </span>\n",
       "<span style=\"color: #7fbfbf; text-decoration-color: #7fbfbf\">           </span><span style=\"color: #008000; text-decoration-color: #008000\">ential'</span>,                                                                                 <span style=\"color: #7f7f7f; text-decoration-color: #7f7f7f\">               </span>\n",
       "<span style=\"color: #7fbfbf; text-decoration-color: #7fbfbf\">           </span>    <span style=\"color: #808000; text-decoration-color: #808000\">deferred_credential_endpoint</span>=<span style=\"color: #008000; text-decoration-color: #008000\">'https://api-conformance.ebsi.eu/conformance/v3/issuer-</span> <span style=\"color: #7f7f7f; text-decoration-color: #7f7f7f\">               </span>\n",
       "<span style=\"color: #7fbfbf; text-decoration-color: #7fbfbf\">           </span><span style=\"color: #008000; text-decoration-color: #008000\">mock/credential_deferred'</span>,                                                               <span style=\"color: #7f7f7f; text-decoration-color: #7f7f7f\">               </span>\n",
       "<span style=\"color: #7fbfbf; text-decoration-color: #7fbfbf\">           </span>    <span style=\"color: #808000; text-decoration-color: #808000\">credentials_supported</span>=<span style=\"font-weight: bold\">[</span>                                                              <span style=\"color: #7f7f7f; text-decoration-color: #7f7f7f\">               </span>\n",
       "<span style=\"color: #7fbfbf; text-decoration-color: #7fbfbf\">           </span>        <span style=\"font-weight: bold\">{</span>                                                                                <span style=\"color: #7f7f7f; text-decoration-color: #7f7f7f\">               </span>\n",
       "<span style=\"color: #7fbfbf; text-decoration-color: #7fbfbf\">           </span>            <span style=\"color: #008000; text-decoration-color: #008000\">'format'</span>: <span style=\"color: #008000; text-decoration-color: #008000\">'jwt_vc'</span>,                                                          <span style=\"color: #7f7f7f; text-decoration-color: #7f7f7f\">               </span>\n",
       "<span style=\"color: #7fbfbf; text-decoration-color: #7fbfbf\">           </span>            <span style=\"color: #008000; text-decoration-color: #008000\">'types'</span>: <span style=\"font-weight: bold\">[</span>                                                                   <span style=\"color: #7f7f7f; text-decoration-color: #7f7f7f\">               </span>\n",
       "<span style=\"color: #7fbfbf; text-decoration-color: #7fbfbf\">           </span>                <span style=\"color: #008000; text-decoration-color: #008000\">'VerifiableCredential'</span>,                                                  <span style=\"color: #7f7f7f; text-decoration-color: #7f7f7f\">               </span>\n",
       "<span style=\"color: #7fbfbf; text-decoration-color: #7fbfbf\">           </span>                <span style=\"color: #008000; text-decoration-color: #008000\">'VerifiableAttestation'</span>,                                                 <span style=\"color: #7f7f7f; text-decoration-color: #7f7f7f\">               </span>\n",
       "<span style=\"color: #7fbfbf; text-decoration-color: #7fbfbf\">           </span>                <span style=\"color: #008000; text-decoration-color: #008000\">'VerifiableAuthorisationToOnboard'</span>                                       <span style=\"color: #7f7f7f; text-decoration-color: #7f7f7f\">               </span>\n",
       "<span style=\"color: #7fbfbf; text-decoration-color: #7fbfbf\">           </span>            <span style=\"font-weight: bold\">]</span>,                                                                           <span style=\"color: #7f7f7f; text-decoration-color: #7f7f7f\">               </span>\n",
       "<span style=\"color: #7fbfbf; text-decoration-color: #7fbfbf\">           </span>            <span style=\"color: #008000; text-decoration-color: #008000\">'trust_framework'</span>: <span style=\"font-weight: bold\">{</span>                                                         <span style=\"color: #7f7f7f; text-decoration-color: #7f7f7f\">               </span>\n",
       "<span style=\"color: #7fbfbf; text-decoration-color: #7fbfbf\">           </span>                <span style=\"color: #008000; text-decoration-color: #008000\">'name'</span>: <span style=\"color: #008000; text-decoration-color: #008000\">'ebsi'</span>,                                                          <span style=\"color: #7f7f7f; text-decoration-color: #7f7f7f\">               </span>\n",
       "<span style=\"color: #7fbfbf; text-decoration-color: #7fbfbf\">           </span>                <span style=\"color: #008000; text-decoration-color: #008000\">'type'</span>: <span style=\"color: #008000; text-decoration-color: #008000\">'Accreditation'</span>,                                                 <span style=\"color: #7f7f7f; text-decoration-color: #7f7f7f\">               </span>\n",
       "<span style=\"color: #7fbfbf; text-decoration-color: #7fbfbf\">           </span>                <span style=\"color: #008000; text-decoration-color: #008000\">'uri'</span>: <span style=\"color: #008000; text-decoration-color: #008000\">'TIR link towards accreditation'</span>                                  <span style=\"color: #7f7f7f; text-decoration-color: #7f7f7f\">               </span>\n",
       "<span style=\"color: #7fbfbf; text-decoration-color: #7fbfbf\">           </span>            <span style=\"font-weight: bold\">}</span>,                                                                           <span style=\"color: #7f7f7f; text-decoration-color: #7f7f7f\">               </span>\n",
       "<span style=\"color: #7fbfbf; text-decoration-color: #7fbfbf\">           </span>            <span style=\"color: #008000; text-decoration-color: #008000\">'display'</span>: <span style=\"font-weight: bold\">[</span>                                                                 <span style=\"color: #7f7f7f; text-decoration-color: #7f7f7f\">               </span>\n",
       "<span style=\"color: #7fbfbf; text-decoration-color: #7fbfbf\">           </span>                <span style=\"font-weight: bold\">{</span><span style=\"color: #008000; text-decoration-color: #008000\">'name'</span>: <span style=\"color: #008000; text-decoration-color: #008000\">'Verifiable Authorisation to onboard'</span>, <span style=\"color: #008000; text-decoration-color: #008000\">'locale'</span>: <span style=\"color: #008000; text-decoration-color: #008000\">'en-GB'</span><span style=\"font-weight: bold\">}</span>       <span style=\"color: #7f7f7f; text-decoration-color: #7f7f7f\">               </span>\n",
       "<span style=\"color: #7fbfbf; text-decoration-color: #7fbfbf\">           </span>            <span style=\"font-weight: bold\">]</span>                                                                            <span style=\"color: #7f7f7f; text-decoration-color: #7f7f7f\">               </span>\n",
       "<span style=\"color: #7fbfbf; text-decoration-color: #7fbfbf\">           </span>        <span style=\"font-weight: bold\">}</span>,                                                                               <span style=\"color: #7f7f7f; text-decoration-color: #7f7f7f\">               </span>\n",
       "<span style=\"color: #7fbfbf; text-decoration-color: #7fbfbf\">           </span>        <span style=\"font-weight: bold\">{</span>                                                                                <span style=\"color: #7f7f7f; text-decoration-color: #7f7f7f\">               </span>\n",
       "<span style=\"color: #7fbfbf; text-decoration-color: #7fbfbf\">           </span>            <span style=\"color: #008000; text-decoration-color: #008000\">'format'</span>: <span style=\"color: #008000; text-decoration-color: #008000\">'jwt_vc'</span>,                                                          <span style=\"color: #7f7f7f; text-decoration-color: #7f7f7f\">               </span>\n",
       "<span style=\"color: #7fbfbf; text-decoration-color: #7fbfbf\">           </span>            <span style=\"color: #008000; text-decoration-color: #008000\">'types'</span>: <span style=\"font-weight: bold\">[</span>                                                                   <span style=\"color: #7f7f7f; text-decoration-color: #7f7f7f\">               </span>\n",
       "<span style=\"color: #7fbfbf; text-decoration-color: #7fbfbf\">           </span>                <span style=\"color: #008000; text-decoration-color: #008000\">'VerifiableCredential'</span>,                                                  <span style=\"color: #7f7f7f; text-decoration-color: #7f7f7f\">               </span>\n",
       "<span style=\"color: #7fbfbf; text-decoration-color: #7fbfbf\">           </span>                <span style=\"color: #008000; text-decoration-color: #008000\">'VerifiableAttestation'</span>,                                                 <span style=\"color: #7f7f7f; text-decoration-color: #7f7f7f\">               </span>\n",
       "<span style=\"color: #7fbfbf; text-decoration-color: #7fbfbf\">           </span>                <span style=\"color: #008000; text-decoration-color: #008000\">'VerifiableAccreditation'</span>,                                               <span style=\"color: #7f7f7f; text-decoration-color: #7f7f7f\">               </span>\n",
       "<span style=\"color: #7fbfbf; text-decoration-color: #7fbfbf\">           </span>                <span style=\"color: #008000; text-decoration-color: #008000\">'VerifiableAccreditationToAttest'</span>                                        <span style=\"color: #7f7f7f; text-decoration-color: #7f7f7f\">               </span>\n",
       "<span style=\"color: #7fbfbf; text-decoration-color: #7fbfbf\">           </span>            <span style=\"font-weight: bold\">]</span>,                                                                           <span style=\"color: #7f7f7f; text-decoration-color: #7f7f7f\">               </span>\n",
       "<span style=\"color: #7fbfbf; text-decoration-color: #7fbfbf\">           </span>            <span style=\"color: #008000; text-decoration-color: #008000\">'trust_framework'</span>: <span style=\"font-weight: bold\">{</span>                                                         <span style=\"color: #7f7f7f; text-decoration-color: #7f7f7f\">               </span>\n",
       "<span style=\"color: #7fbfbf; text-decoration-color: #7fbfbf\">           </span>                <span style=\"color: #008000; text-decoration-color: #008000\">'name'</span>: <span style=\"color: #008000; text-decoration-color: #008000\">'ebsi'</span>,                                                          <span style=\"color: #7f7f7f; text-decoration-color: #7f7f7f\">               </span>\n",
       "<span style=\"color: #7fbfbf; text-decoration-color: #7fbfbf\">           </span>                <span style=\"color: #008000; text-decoration-color: #008000\">'type'</span>: <span style=\"color: #008000; text-decoration-color: #008000\">'Accreditation'</span>,                                                 <span style=\"color: #7f7f7f; text-decoration-color: #7f7f7f\">               </span>\n",
       "<span style=\"color: #7fbfbf; text-decoration-color: #7fbfbf\">           </span>                <span style=\"color: #008000; text-decoration-color: #008000\">'uri'</span>: <span style=\"color: #008000; text-decoration-color: #008000\">'TIR link towards accreditation'</span>                                  <span style=\"color: #7f7f7f; text-decoration-color: #7f7f7f\">               </span>\n",
       "<span style=\"color: #7fbfbf; text-decoration-color: #7fbfbf\">           </span>            <span style=\"font-weight: bold\">}</span>,                                                                           <span style=\"color: #7f7f7f; text-decoration-color: #7f7f7f\">               </span>\n",
       "<span style=\"color: #7fbfbf; text-decoration-color: #7fbfbf\">           </span>            <span style=\"color: #008000; text-decoration-color: #008000\">'display'</span>: <span style=\"font-weight: bold\">[</span>                                                                 <span style=\"color: #7f7f7f; text-decoration-color: #7f7f7f\">               </span>\n",
       "<span style=\"color: #7fbfbf; text-decoration-color: #7fbfbf\">           </span>                <span style=\"font-weight: bold\">{</span><span style=\"color: #008000; text-decoration-color: #008000\">'name'</span>: <span style=\"color: #008000; text-decoration-color: #008000\">'Verifiable Accreditation to attest'</span>, <span style=\"color: #008000; text-decoration-color: #008000\">'locale'</span>: <span style=\"color: #008000; text-decoration-color: #008000\">'en-GB'</span><span style=\"font-weight: bold\">}</span>        <span style=\"color: #7f7f7f; text-decoration-color: #7f7f7f\">               </span>\n",
       "<span style=\"color: #7fbfbf; text-decoration-color: #7fbfbf\">           </span>            <span style=\"font-weight: bold\">]</span>                                                                            <span style=\"color: #7f7f7f; text-decoration-color: #7f7f7f\">               </span>\n",
       "<span style=\"color: #7fbfbf; text-decoration-color: #7fbfbf\">           </span>        <span style=\"font-weight: bold\">}</span>,                                                                               <span style=\"color: #7f7f7f; text-decoration-color: #7f7f7f\">               </span>\n",
       "<span style=\"color: #7fbfbf; text-decoration-color: #7fbfbf\">           </span>        <span style=\"font-weight: bold\">{</span>                                                                                <span style=\"color: #7f7f7f; text-decoration-color: #7f7f7f\">               </span>\n",
       "<span style=\"color: #7fbfbf; text-decoration-color: #7fbfbf\">           </span>            <span style=\"color: #008000; text-decoration-color: #008000\">'format'</span>: <span style=\"color: #008000; text-decoration-color: #008000\">'jwt_vc'</span>,                                                          <span style=\"color: #7f7f7f; text-decoration-color: #7f7f7f\">               </span>\n",
       "<span style=\"color: #7fbfbf; text-decoration-color: #7fbfbf\">           </span>            <span style=\"color: #008000; text-decoration-color: #008000\">'types'</span>: <span style=\"font-weight: bold\">[</span>                                                                   <span style=\"color: #7f7f7f; text-decoration-color: #7f7f7f\">               </span>\n",
       "<span style=\"color: #7fbfbf; text-decoration-color: #7fbfbf\">           </span>                <span style=\"color: #008000; text-decoration-color: #008000\">'VerifiableCredential'</span>,                                                  <span style=\"color: #7f7f7f; text-decoration-color: #7f7f7f\">               </span>\n",
       "<span style=\"color: #7fbfbf; text-decoration-color: #7fbfbf\">           </span>                <span style=\"color: #008000; text-decoration-color: #008000\">'VerifiableAttestation'</span>,                                                 <span style=\"color: #7f7f7f; text-decoration-color: #7f7f7f\">               </span>\n",
       "<span style=\"color: #7fbfbf; text-decoration-color: #7fbfbf\">           </span>                <span style=\"color: #008000; text-decoration-color: #008000\">'VerifiableAccreditation'</span>,                                               <span style=\"color: #7f7f7f; text-decoration-color: #7f7f7f\">               </span>\n",
       "<span style=\"color: #7fbfbf; text-decoration-color: #7fbfbf\">           </span>                <span style=\"color: #008000; text-decoration-color: #008000\">'VerifiableAccreditationToAccredit'</span>                                      <span style=\"color: #7f7f7f; text-decoration-color: #7f7f7f\">               </span>\n",
       "<span style=\"color: #7fbfbf; text-decoration-color: #7fbfbf\">           </span>            <span style=\"font-weight: bold\">]</span>,                                                                           <span style=\"color: #7f7f7f; text-decoration-color: #7f7f7f\">               </span>\n",
       "<span style=\"color: #7fbfbf; text-decoration-color: #7fbfbf\">           </span>            <span style=\"color: #008000; text-decoration-color: #008000\">'trust_framework'</span>: <span style=\"font-weight: bold\">{</span>                                                         <span style=\"color: #7f7f7f; text-decoration-color: #7f7f7f\">               </span>\n",
       "<span style=\"color: #7fbfbf; text-decoration-color: #7fbfbf\">           </span>                <span style=\"color: #008000; text-decoration-color: #008000\">'name'</span>: <span style=\"color: #008000; text-decoration-color: #008000\">'ebsi'</span>,                                                          <span style=\"color: #7f7f7f; text-decoration-color: #7f7f7f\">               </span>\n",
       "<span style=\"color: #7fbfbf; text-decoration-color: #7fbfbf\">           </span>                <span style=\"color: #008000; text-decoration-color: #008000\">'type'</span>: <span style=\"color: #008000; text-decoration-color: #008000\">'Accreditation'</span>,                                                 <span style=\"color: #7f7f7f; text-decoration-color: #7f7f7f\">               </span>\n",
       "<span style=\"color: #7fbfbf; text-decoration-color: #7fbfbf\">           </span>                <span style=\"color: #008000; text-decoration-color: #008000\">'uri'</span>: <span style=\"color: #008000; text-decoration-color: #008000\">'TIR link towards accreditation'</span>                                  <span style=\"color: #7f7f7f; text-decoration-color: #7f7f7f\">               </span>\n",
       "<span style=\"color: #7fbfbf; text-decoration-color: #7fbfbf\">           </span>            <span style=\"font-weight: bold\">}</span>,                                                                           <span style=\"color: #7f7f7f; text-decoration-color: #7f7f7f\">               </span>\n",
       "<span style=\"color: #7fbfbf; text-decoration-color: #7fbfbf\">           </span>            <span style=\"color: #008000; text-decoration-color: #008000\">'display'</span>: <span style=\"font-weight: bold\">[</span>                                                                 <span style=\"color: #7f7f7f; text-decoration-color: #7f7f7f\">               </span>\n",
       "<span style=\"color: #7fbfbf; text-decoration-color: #7fbfbf\">           </span>                <span style=\"font-weight: bold\">{</span><span style=\"color: #008000; text-decoration-color: #008000\">'name'</span>: <span style=\"color: #008000; text-decoration-color: #008000\">'Verifiable Accreditation to accredit'</span>, <span style=\"color: #008000; text-decoration-color: #008000\">'locale'</span>: <span style=\"color: #008000; text-decoration-color: #008000\">'en-GB'</span><span style=\"font-weight: bold\">}</span>      <span style=\"color: #7f7f7f; text-decoration-color: #7f7f7f\">               </span>\n",
       "<span style=\"color: #7fbfbf; text-decoration-color: #7fbfbf\">           </span>            <span style=\"font-weight: bold\">]</span>                                                                            <span style=\"color: #7f7f7f; text-decoration-color: #7f7f7f\">               </span>\n",
       "<span style=\"color: #7fbfbf; text-decoration-color: #7fbfbf\">           </span>        <span style=\"font-weight: bold\">}</span>,                                                                               <span style=\"color: #7f7f7f; text-decoration-color: #7f7f7f\">               </span>\n",
       "<span style=\"color: #7fbfbf; text-decoration-color: #7fbfbf\">           </span>        <span style=\"font-weight: bold\">{</span>                                                                                <span style=\"color: #7f7f7f; text-decoration-color: #7f7f7f\">               </span>\n",
       "<span style=\"color: #7fbfbf; text-decoration-color: #7fbfbf\">           </span>            <span style=\"color: #008000; text-decoration-color: #008000\">'format'</span>: <span style=\"color: #008000; text-decoration-color: #008000\">'jwt_vc'</span>,                                                          <span style=\"color: #7f7f7f; text-decoration-color: #7f7f7f\">               </span>\n",
       "<span style=\"color: #7fbfbf; text-decoration-color: #7fbfbf\">           </span>            <span style=\"color: #008000; text-decoration-color: #008000\">'types'</span>: <span style=\"font-weight: bold\">[</span>                                                                   <span style=\"color: #7f7f7f; text-decoration-color: #7f7f7f\">               </span>\n",
       "<span style=\"color: #7fbfbf; text-decoration-color: #7fbfbf\">           </span>                <span style=\"color: #008000; text-decoration-color: #008000\">'VerifiableCredential'</span>,                                                  <span style=\"color: #7f7f7f; text-decoration-color: #7f7f7f\">               </span>\n",
       "<span style=\"color: #7fbfbf; text-decoration-color: #7fbfbf\">           </span>                <span style=\"color: #008000; text-decoration-color: #008000\">'VerifiableAttestation'</span>,                                                 <span style=\"color: #7f7f7f; text-decoration-color: #7f7f7f\">               </span>\n",
       "<span style=\"color: #7fbfbf; text-decoration-color: #7fbfbf\">           </span>                <span style=\"color: #008000; text-decoration-color: #008000\">'VerifiableAuthorisationForTrustChain'</span>                                   <span style=\"color: #7f7f7f; text-decoration-color: #7f7f7f\">               </span>\n",
       "<span style=\"color: #7fbfbf; text-decoration-color: #7fbfbf\">           </span>            <span style=\"font-weight: bold\">]</span>,                                                                           <span style=\"color: #7f7f7f; text-decoration-color: #7f7f7f\">               </span>\n",
       "<span style=\"color: #7fbfbf; text-decoration-color: #7fbfbf\">           </span>            <span style=\"color: #008000; text-decoration-color: #008000\">'trust_framework'</span>: <span style=\"font-weight: bold\">{</span>                                                         <span style=\"color: #7f7f7f; text-decoration-color: #7f7f7f\">               </span>\n",
       "<span style=\"color: #7fbfbf; text-decoration-color: #7fbfbf\">           </span>                <span style=\"color: #008000; text-decoration-color: #008000\">'name'</span>: <span style=\"color: #008000; text-decoration-color: #008000\">'ebsi'</span>,                                                          <span style=\"color: #7f7f7f; text-decoration-color: #7f7f7f\">               </span>\n",
       "<span style=\"color: #7fbfbf; text-decoration-color: #7fbfbf\">           </span>                <span style=\"color: #008000; text-decoration-color: #008000\">'type'</span>: <span style=\"color: #008000; text-decoration-color: #008000\">'Accreditation'</span>,                                                 <span style=\"color: #7f7f7f; text-decoration-color: #7f7f7f\">               </span>\n",
       "<span style=\"color: #7fbfbf; text-decoration-color: #7fbfbf\">           </span>                <span style=\"color: #008000; text-decoration-color: #008000\">'uri'</span>: <span style=\"color: #008000; text-decoration-color: #008000\">'TIR link towards accreditation'</span>                                  <span style=\"color: #7f7f7f; text-decoration-color: #7f7f7f\">               </span>\n",
       "<span style=\"color: #7fbfbf; text-decoration-color: #7fbfbf\">           </span>            <span style=\"font-weight: bold\">}</span>,                                                                           <span style=\"color: #7f7f7f; text-decoration-color: #7f7f7f\">               </span>\n",
       "<span style=\"color: #7fbfbf; text-decoration-color: #7fbfbf\">           </span>            <span style=\"color: #008000; text-decoration-color: #008000\">'display'</span>: <span style=\"font-weight: bold\">[</span>                                                                 <span style=\"color: #7f7f7f; text-decoration-color: #7f7f7f\">               </span>\n",
       "<span style=\"color: #7fbfbf; text-decoration-color: #7fbfbf\">           </span>                <span style=\"font-weight: bold\">{</span>                                                                        <span style=\"color: #7f7f7f; text-decoration-color: #7f7f7f\">               </span>\n",
       "<span style=\"color: #7fbfbf; text-decoration-color: #7fbfbf\">           </span>                    <span style=\"color: #008000; text-decoration-color: #008000\">'name'</span>: <span style=\"color: #008000; text-decoration-color: #008000\">'Verifiable Authorisation to issue verifiable tokens'</span>,       <span style=\"color: #7f7f7f; text-decoration-color: #7f7f7f\">               </span>\n",
       "<span style=\"color: #7fbfbf; text-decoration-color: #7fbfbf\">           </span>                    <span style=\"color: #008000; text-decoration-color: #008000\">'locale'</span>: <span style=\"color: #008000; text-decoration-color: #008000\">'en-GB'</span>                                                    <span style=\"color: #7f7f7f; text-decoration-color: #7f7f7f\">               </span>\n",
       "<span style=\"color: #7fbfbf; text-decoration-color: #7fbfbf\">           </span>                <span style=\"font-weight: bold\">}</span>                                                                        <span style=\"color: #7f7f7f; text-decoration-color: #7f7f7f\">               </span>\n",
       "<span style=\"color: #7fbfbf; text-decoration-color: #7fbfbf\">           </span>            <span style=\"font-weight: bold\">]</span>                                                                            <span style=\"color: #7f7f7f; text-decoration-color: #7f7f7f\">               </span>\n",
       "<span style=\"color: #7fbfbf; text-decoration-color: #7fbfbf\">           </span>        <span style=\"font-weight: bold\">}</span>,                                                                               <span style=\"color: #7f7f7f; text-decoration-color: #7f7f7f\">               </span>\n",
       "<span style=\"color: #7fbfbf; text-decoration-color: #7fbfbf\">           </span>        <span style=\"font-weight: bold\">{</span>                                                                                <span style=\"color: #7f7f7f; text-decoration-color: #7f7f7f\">               </span>\n",
       "<span style=\"color: #7fbfbf; text-decoration-color: #7fbfbf\">           </span>            <span style=\"color: #008000; text-decoration-color: #008000\">'format'</span>: <span style=\"color: #008000; text-decoration-color: #008000\">'jwt_vc'</span>,                                                          <span style=\"color: #7f7f7f; text-decoration-color: #7f7f7f\">               </span>\n",
       "<span style=\"color: #7fbfbf; text-decoration-color: #7fbfbf\">           </span>            <span style=\"color: #008000; text-decoration-color: #008000\">'types'</span>: <span style=\"font-weight: bold\">[</span>                                                                   <span style=\"color: #7f7f7f; text-decoration-color: #7f7f7f\">               </span>\n",
       "<span style=\"color: #7fbfbf; text-decoration-color: #7fbfbf\">           </span>                <span style=\"color: #008000; text-decoration-color: #008000\">'VerifiableCredential'</span>,                                                  <span style=\"color: #7f7f7f; text-decoration-color: #7f7f7f\">               </span>\n",
       "<span style=\"color: #7fbfbf; text-decoration-color: #7fbfbf\">           </span>                <span style=\"color: #008000; text-decoration-color: #008000\">'VerifiableAttestation'</span>,                                                 <span style=\"color: #7f7f7f; text-decoration-color: #7f7f7f\">               </span>\n",
       "<span style=\"color: #7fbfbf; text-decoration-color: #7fbfbf\">           </span>                <span style=\"color: #008000; text-decoration-color: #008000\">'CTAAQualificationCredential'</span>                                            <span style=\"color: #7f7f7f; text-decoration-color: #7f7f7f\">               </span>\n",
       "<span style=\"color: #7fbfbf; text-decoration-color: #7fbfbf\">           </span>            <span style=\"font-weight: bold\">]</span>,                                                                           <span style=\"color: #7f7f7f; text-decoration-color: #7f7f7f\">               </span>\n",
       "<span style=\"color: #7fbfbf; text-decoration-color: #7fbfbf\">           </span>            <span style=\"color: #008000; text-decoration-color: #008000\">'trust_framework'</span>: <span style=\"font-weight: bold\">{</span>                                                         <span style=\"color: #7f7f7f; text-decoration-color: #7f7f7f\">               </span>\n",
       "<span style=\"color: #7fbfbf; text-decoration-color: #7fbfbf\">           </span>                <span style=\"color: #008000; text-decoration-color: #008000\">'name'</span>: <span style=\"color: #008000; text-decoration-color: #008000\">'ebsi'</span>,                                                          <span style=\"color: #7f7f7f; text-decoration-color: #7f7f7f\">               </span>\n",
       "<span style=\"color: #7fbfbf; text-decoration-color: #7fbfbf\">           </span>                <span style=\"color: #008000; text-decoration-color: #008000\">'type'</span>: <span style=\"color: #008000; text-decoration-color: #008000\">'Accreditation'</span>,                                                 <span style=\"color: #7f7f7f; text-decoration-color: #7f7f7f\">               </span>\n",
       "<span style=\"color: #7fbfbf; text-decoration-color: #7fbfbf\">           </span>                <span style=\"color: #008000; text-decoration-color: #008000\">'uri'</span>: <span style=\"color: #008000; text-decoration-color: #008000\">'TIR link towards accreditation'</span>                                  <span style=\"color: #7f7f7f; text-decoration-color: #7f7f7f\">               </span>\n",
       "<span style=\"color: #7fbfbf; text-decoration-color: #7fbfbf\">           </span>            <span style=\"font-weight: bold\">}</span>,                                                                           <span style=\"color: #7f7f7f; text-decoration-color: #7f7f7f\">               </span>\n",
       "<span style=\"color: #7fbfbf; text-decoration-color: #7fbfbf\">           </span>            <span style=\"color: #008000; text-decoration-color: #008000\">'display'</span>: <span style=\"font-weight: bold\">[</span>                                                                 <span style=\"color: #7f7f7f; text-decoration-color: #7f7f7f\">               </span>\n",
       "<span style=\"color: #7fbfbf; text-decoration-color: #7fbfbf\">           </span>                <span style=\"font-weight: bold\">{</span>                                                                        <span style=\"color: #7f7f7f; text-decoration-color: #7f7f7f\">               </span>\n",
       "<span style=\"color: #7fbfbf; text-decoration-color: #7fbfbf\">           </span>                    <span style=\"color: #008000; text-decoration-color: #008000\">'name'</span>: <span style=\"color: #008000; text-decoration-color: #008000\">'Verifiable Attestation Conformance Qualification To </span>        <span style=\"color: #7f7f7f; text-decoration-color: #7f7f7f\">               </span>\n",
       "<span style=\"color: #7fbfbf; text-decoration-color: #7fbfbf\">           </span><span style=\"color: #008000; text-decoration-color: #008000\">Accredit &amp; Authorise'</span>,                                                                   <span style=\"color: #7f7f7f; text-decoration-color: #7f7f7f\">               </span>\n",
       "<span style=\"color: #7fbfbf; text-decoration-color: #7fbfbf\">           </span>                    <span style=\"color: #008000; text-decoration-color: #008000\">'locale'</span>: <span style=\"color: #008000; text-decoration-color: #008000\">'en-GB'</span>                                                    <span style=\"color: #7f7f7f; text-decoration-color: #7f7f7f\">               </span>\n",
       "<span style=\"color: #7fbfbf; text-decoration-color: #7fbfbf\">           </span>                <span style=\"font-weight: bold\">}</span>                                                                        <span style=\"color: #7f7f7f; text-decoration-color: #7f7f7f\">               </span>\n",
       "<span style=\"color: #7fbfbf; text-decoration-color: #7fbfbf\">           </span>            <span style=\"font-weight: bold\">]</span>                                                                            <span style=\"color: #7f7f7f; text-decoration-color: #7f7f7f\">               </span>\n",
       "<span style=\"color: #7fbfbf; text-decoration-color: #7fbfbf\">           </span>        <span style=\"font-weight: bold\">}</span>,                                                                               <span style=\"color: #7f7f7f; text-decoration-color: #7f7f7f\">               </span>\n",
       "<span style=\"color: #7fbfbf; text-decoration-color: #7fbfbf\">           </span>        <span style=\"font-weight: bold\">{</span>                                                                                <span style=\"color: #7f7f7f; text-decoration-color: #7f7f7f\">               </span>\n",
       "<span style=\"color: #7fbfbf; text-decoration-color: #7fbfbf\">           </span>            <span style=\"color: #008000; text-decoration-color: #008000\">'format'</span>: <span style=\"color: #008000; text-decoration-color: #008000\">'jwt_vc'</span>,                                                          <span style=\"color: #7f7f7f; text-decoration-color: #7f7f7f\">               </span>\n",
       "<span style=\"color: #7fbfbf; text-decoration-color: #7fbfbf\">           </span>            <span style=\"color: #008000; text-decoration-color: #008000\">'types'</span>: <span style=\"font-weight: bold\">[</span>                                                                   <span style=\"color: #7f7f7f; text-decoration-color: #7f7f7f\">               </span>\n",
       "<span style=\"color: #7fbfbf; text-decoration-color: #7fbfbf\">           </span>                <span style=\"color: #008000; text-decoration-color: #008000\">'VerifiableCredential'</span>,                                                  <span style=\"color: #7f7f7f; text-decoration-color: #7f7f7f\">               </span>\n",
       "<span style=\"color: #7fbfbf; text-decoration-color: #7fbfbf\">           </span>                <span style=\"color: #008000; text-decoration-color: #008000\">'VerifiableAttestation'</span>,                                                 <span style=\"color: #7f7f7f; text-decoration-color: #7f7f7f\">               </span>\n",
       "<span style=\"color: #7fbfbf; text-decoration-color: #7fbfbf\">           </span>                <span style=\"color: #008000; text-decoration-color: #008000\">'CTWalletQualificationCredential'</span>                                        <span style=\"color: #7f7f7f; text-decoration-color: #7f7f7f\">               </span>\n",
       "<span style=\"color: #7fbfbf; text-decoration-color: #7fbfbf\">           </span>            <span style=\"font-weight: bold\">]</span>,                                                                           <span style=\"color: #7f7f7f; text-decoration-color: #7f7f7f\">               </span>\n",
       "<span style=\"color: #7fbfbf; text-decoration-color: #7fbfbf\">           </span>            <span style=\"color: #008000; text-decoration-color: #008000\">'trust_framework'</span>: <span style=\"font-weight: bold\">{</span>                                                         <span style=\"color: #7f7f7f; text-decoration-color: #7f7f7f\">               </span>\n",
       "<span style=\"color: #7fbfbf; text-decoration-color: #7fbfbf\">           </span>                <span style=\"color: #008000; text-decoration-color: #008000\">'name'</span>: <span style=\"color: #008000; text-decoration-color: #008000\">'ebsi'</span>,                                                          <span style=\"color: #7f7f7f; text-decoration-color: #7f7f7f\">               </span>\n",
       "<span style=\"color: #7fbfbf; text-decoration-color: #7fbfbf\">           </span>                <span style=\"color: #008000; text-decoration-color: #008000\">'type'</span>: <span style=\"color: #008000; text-decoration-color: #008000\">'Accreditation'</span>,                                                 <span style=\"color: #7f7f7f; text-decoration-color: #7f7f7f\">               </span>\n",
       "<span style=\"color: #7fbfbf; text-decoration-color: #7fbfbf\">           </span>                <span style=\"color: #008000; text-decoration-color: #008000\">'uri'</span>: <span style=\"color: #008000; text-decoration-color: #008000\">'TIR link towards accreditation'</span>                                  <span style=\"color: #7f7f7f; text-decoration-color: #7f7f7f\">               </span>\n",
       "<span style=\"color: #7fbfbf; text-decoration-color: #7fbfbf\">           </span>            <span style=\"font-weight: bold\">}</span>,                                                                           <span style=\"color: #7f7f7f; text-decoration-color: #7f7f7f\">               </span>\n",
       "<span style=\"color: #7fbfbf; text-decoration-color: #7fbfbf\">           </span>            <span style=\"color: #008000; text-decoration-color: #008000\">'display'</span>: <span style=\"font-weight: bold\">[</span>                                                                 <span style=\"color: #7f7f7f; text-decoration-color: #7f7f7f\">               </span>\n",
       "<span style=\"color: #7fbfbf; text-decoration-color: #7fbfbf\">           </span>                <span style=\"font-weight: bold\">{</span>                                                                        <span style=\"color: #7f7f7f; text-decoration-color: #7f7f7f\">               </span>\n",
       "<span style=\"color: #7fbfbf; text-decoration-color: #7fbfbf\">           </span>                    <span style=\"color: #008000; text-decoration-color: #008000\">'name'</span>: <span style=\"color: #008000; text-decoration-color: #008000\">'Verifiable Attestation Conformance Qualification Holder </span>    <span style=\"color: #7f7f7f; text-decoration-color: #7f7f7f\">               </span>\n",
       "<span style=\"color: #7fbfbf; text-decoration-color: #7fbfbf\">           </span><span style=\"color: #008000; text-decoration-color: #008000\">Wallet'</span>,                                                                                 <span style=\"color: #7f7f7f; text-decoration-color: #7f7f7f\">               </span>\n",
       "<span style=\"color: #7fbfbf; text-decoration-color: #7fbfbf\">           </span>                    <span style=\"color: #008000; text-decoration-color: #008000\">'locale'</span>: <span style=\"color: #008000; text-decoration-color: #008000\">'en-GB'</span>                                                    <span style=\"color: #7f7f7f; text-decoration-color: #7f7f7f\">               </span>\n",
       "<span style=\"color: #7fbfbf; text-decoration-color: #7fbfbf\">           </span>                <span style=\"font-weight: bold\">}</span>                                                                        <span style=\"color: #7f7f7f; text-decoration-color: #7f7f7f\">               </span>\n",
       "<span style=\"color: #7fbfbf; text-decoration-color: #7fbfbf\">           </span>            <span style=\"font-weight: bold\">]</span>                                                                            <span style=\"color: #7f7f7f; text-decoration-color: #7f7f7f\">               </span>\n",
       "<span style=\"color: #7fbfbf; text-decoration-color: #7fbfbf\">           </span>        <span style=\"font-weight: bold\">}</span>                                                                                <span style=\"color: #7f7f7f; text-decoration-color: #7f7f7f\">               </span>\n",
       "<span style=\"color: #7fbfbf; text-decoration-color: #7fbfbf\">           </span>    <span style=\"font-weight: bold\">]</span>                                                                                    <span style=\"color: #7f7f7f; text-decoration-color: #7f7f7f\">               </span>\n",
       "<span style=\"color: #7fbfbf; text-decoration-color: #7fbfbf\">           </span><span style=\"font-weight: bold\">)</span>                                                                                        <span style=\"color: #7f7f7f; text-decoration-color: #7f7f7f\">               </span>\n",
       "</pre>\n"
      ],
      "text/plain": [
       "\u001b[2;36m          \u001b[0m\u001b[2;36m \u001b[0mCredential issuer configuration:                                                         \u001b]8;id=248061;file:///var/folders/61/8pv2r1d505lb_yy2410br0pw0000gn/T/ipykernel_45986/352674899.py\u001b\\\u001b[2m352674899.py\u001b[0m\u001b]8;;\u001b\\\u001b[2m:\u001b[0m\u001b]8;id=225607;file:///var/folders/61/8pv2r1d505lb_yy2410br0pw0000gn/T/ipykernel_45986/352674899.py#19\u001b\\\u001b[2m19\u001b[0m\u001b]8;;\u001b\\\n",
       "\u001b[2;36m           \u001b[0m\u001b[1;35mOpenIDCredentialIssuerConfig\u001b[0m\u001b[1m(\u001b[0m                                                            \u001b[2m               \u001b[0m\n",
       "\u001b[2;36m           \u001b[0m    \u001b[33mcredential_issuer\u001b[0m=\u001b[32m'https://api-conformance.ebsi.eu/conformance/v3/issuer-mock'\u001b[0m,      \u001b[2m               \u001b[0m\n",
       "\u001b[2;36m           \u001b[0m    \u001b[33mauthorization_server\u001b[0m=\u001b[32m'https://api-conformance.ebsi.eu/conformance/v3/auth-mock'\u001b[0m,     \u001b[2m               \u001b[0m\n",
       "\u001b[2;36m           \u001b[0m    \u001b[33mcredential_endpoint\u001b[0m=\u001b[32m'https://api-conformance.ebsi.eu/conformance/v3/issuer-mock/cred\u001b[0m \u001b[2m               \u001b[0m\n",
       "\u001b[2;36m           \u001b[0m\u001b[32mential'\u001b[0m,                                                                                 \u001b[2m               \u001b[0m\n",
       "\u001b[2;36m           \u001b[0m    \u001b[33mdeferred_credential_endpoint\u001b[0m=\u001b[32m'https://api-conformance.ebsi.eu/conformance/v3/issuer-\u001b[0m \u001b[2m               \u001b[0m\n",
       "\u001b[2;36m           \u001b[0m\u001b[32mmock/credential_deferred'\u001b[0m,                                                               \u001b[2m               \u001b[0m\n",
       "\u001b[2;36m           \u001b[0m    \u001b[33mcredentials_supported\u001b[0m=\u001b[1m[\u001b[0m                                                              \u001b[2m               \u001b[0m\n",
       "\u001b[2;36m           \u001b[0m        \u001b[1m{\u001b[0m                                                                                \u001b[2m               \u001b[0m\n",
       "\u001b[2;36m           \u001b[0m            \u001b[32m'format'\u001b[0m: \u001b[32m'jwt_vc'\u001b[0m,                                                          \u001b[2m               \u001b[0m\n",
       "\u001b[2;36m           \u001b[0m            \u001b[32m'types'\u001b[0m: \u001b[1m[\u001b[0m                                                                   \u001b[2m               \u001b[0m\n",
       "\u001b[2;36m           \u001b[0m                \u001b[32m'VerifiableCredential'\u001b[0m,                                                  \u001b[2m               \u001b[0m\n",
       "\u001b[2;36m           \u001b[0m                \u001b[32m'VerifiableAttestation'\u001b[0m,                                                 \u001b[2m               \u001b[0m\n",
       "\u001b[2;36m           \u001b[0m                \u001b[32m'VerifiableAuthorisationToOnboard'\u001b[0m                                       \u001b[2m               \u001b[0m\n",
       "\u001b[2;36m           \u001b[0m            \u001b[1m]\u001b[0m,                                                                           \u001b[2m               \u001b[0m\n",
       "\u001b[2;36m           \u001b[0m            \u001b[32m'trust_framework'\u001b[0m: \u001b[1m{\u001b[0m                                                         \u001b[2m               \u001b[0m\n",
       "\u001b[2;36m           \u001b[0m                \u001b[32m'name'\u001b[0m: \u001b[32m'ebsi'\u001b[0m,                                                          \u001b[2m               \u001b[0m\n",
       "\u001b[2;36m           \u001b[0m                \u001b[32m'type'\u001b[0m: \u001b[32m'Accreditation'\u001b[0m,                                                 \u001b[2m               \u001b[0m\n",
       "\u001b[2;36m           \u001b[0m                \u001b[32m'uri'\u001b[0m: \u001b[32m'TIR link towards accreditation'\u001b[0m                                  \u001b[2m               \u001b[0m\n",
       "\u001b[2;36m           \u001b[0m            \u001b[1m}\u001b[0m,                                                                           \u001b[2m               \u001b[0m\n",
       "\u001b[2;36m           \u001b[0m            \u001b[32m'display'\u001b[0m: \u001b[1m[\u001b[0m                                                                 \u001b[2m               \u001b[0m\n",
       "\u001b[2;36m           \u001b[0m                \u001b[1m{\u001b[0m\u001b[32m'name'\u001b[0m: \u001b[32m'Verifiable Authorisation to onboard'\u001b[0m, \u001b[32m'locale'\u001b[0m: \u001b[32m'en-GB'\u001b[0m\u001b[1m}\u001b[0m       \u001b[2m               \u001b[0m\n",
       "\u001b[2;36m           \u001b[0m            \u001b[1m]\u001b[0m                                                                            \u001b[2m               \u001b[0m\n",
       "\u001b[2;36m           \u001b[0m        \u001b[1m}\u001b[0m,                                                                               \u001b[2m               \u001b[0m\n",
       "\u001b[2;36m           \u001b[0m        \u001b[1m{\u001b[0m                                                                                \u001b[2m               \u001b[0m\n",
       "\u001b[2;36m           \u001b[0m            \u001b[32m'format'\u001b[0m: \u001b[32m'jwt_vc'\u001b[0m,                                                          \u001b[2m               \u001b[0m\n",
       "\u001b[2;36m           \u001b[0m            \u001b[32m'types'\u001b[0m: \u001b[1m[\u001b[0m                                                                   \u001b[2m               \u001b[0m\n",
       "\u001b[2;36m           \u001b[0m                \u001b[32m'VerifiableCredential'\u001b[0m,                                                  \u001b[2m               \u001b[0m\n",
       "\u001b[2;36m           \u001b[0m                \u001b[32m'VerifiableAttestation'\u001b[0m,                                                 \u001b[2m               \u001b[0m\n",
       "\u001b[2;36m           \u001b[0m                \u001b[32m'VerifiableAccreditation'\u001b[0m,                                               \u001b[2m               \u001b[0m\n",
       "\u001b[2;36m           \u001b[0m                \u001b[32m'VerifiableAccreditationToAttest'\u001b[0m                                        \u001b[2m               \u001b[0m\n",
       "\u001b[2;36m           \u001b[0m            \u001b[1m]\u001b[0m,                                                                           \u001b[2m               \u001b[0m\n",
       "\u001b[2;36m           \u001b[0m            \u001b[32m'trust_framework'\u001b[0m: \u001b[1m{\u001b[0m                                                         \u001b[2m               \u001b[0m\n",
       "\u001b[2;36m           \u001b[0m                \u001b[32m'name'\u001b[0m: \u001b[32m'ebsi'\u001b[0m,                                                          \u001b[2m               \u001b[0m\n",
       "\u001b[2;36m           \u001b[0m                \u001b[32m'type'\u001b[0m: \u001b[32m'Accreditation'\u001b[0m,                                                 \u001b[2m               \u001b[0m\n",
       "\u001b[2;36m           \u001b[0m                \u001b[32m'uri'\u001b[0m: \u001b[32m'TIR link towards accreditation'\u001b[0m                                  \u001b[2m               \u001b[0m\n",
       "\u001b[2;36m           \u001b[0m            \u001b[1m}\u001b[0m,                                                                           \u001b[2m               \u001b[0m\n",
       "\u001b[2;36m           \u001b[0m            \u001b[32m'display'\u001b[0m: \u001b[1m[\u001b[0m                                                                 \u001b[2m               \u001b[0m\n",
       "\u001b[2;36m           \u001b[0m                \u001b[1m{\u001b[0m\u001b[32m'name'\u001b[0m: \u001b[32m'Verifiable Accreditation to attest'\u001b[0m, \u001b[32m'locale'\u001b[0m: \u001b[32m'en-GB'\u001b[0m\u001b[1m}\u001b[0m        \u001b[2m               \u001b[0m\n",
       "\u001b[2;36m           \u001b[0m            \u001b[1m]\u001b[0m                                                                            \u001b[2m               \u001b[0m\n",
       "\u001b[2;36m           \u001b[0m        \u001b[1m}\u001b[0m,                                                                               \u001b[2m               \u001b[0m\n",
       "\u001b[2;36m           \u001b[0m        \u001b[1m{\u001b[0m                                                                                \u001b[2m               \u001b[0m\n",
       "\u001b[2;36m           \u001b[0m            \u001b[32m'format'\u001b[0m: \u001b[32m'jwt_vc'\u001b[0m,                                                          \u001b[2m               \u001b[0m\n",
       "\u001b[2;36m           \u001b[0m            \u001b[32m'types'\u001b[0m: \u001b[1m[\u001b[0m                                                                   \u001b[2m               \u001b[0m\n",
       "\u001b[2;36m           \u001b[0m                \u001b[32m'VerifiableCredential'\u001b[0m,                                                  \u001b[2m               \u001b[0m\n",
       "\u001b[2;36m           \u001b[0m                \u001b[32m'VerifiableAttestation'\u001b[0m,                                                 \u001b[2m               \u001b[0m\n",
       "\u001b[2;36m           \u001b[0m                \u001b[32m'VerifiableAccreditation'\u001b[0m,                                               \u001b[2m               \u001b[0m\n",
       "\u001b[2;36m           \u001b[0m                \u001b[32m'VerifiableAccreditationToAccredit'\u001b[0m                                      \u001b[2m               \u001b[0m\n",
       "\u001b[2;36m           \u001b[0m            \u001b[1m]\u001b[0m,                                                                           \u001b[2m               \u001b[0m\n",
       "\u001b[2;36m           \u001b[0m            \u001b[32m'trust_framework'\u001b[0m: \u001b[1m{\u001b[0m                                                         \u001b[2m               \u001b[0m\n",
       "\u001b[2;36m           \u001b[0m                \u001b[32m'name'\u001b[0m: \u001b[32m'ebsi'\u001b[0m,                                                          \u001b[2m               \u001b[0m\n",
       "\u001b[2;36m           \u001b[0m                \u001b[32m'type'\u001b[0m: \u001b[32m'Accreditation'\u001b[0m,                                                 \u001b[2m               \u001b[0m\n",
       "\u001b[2;36m           \u001b[0m                \u001b[32m'uri'\u001b[0m: \u001b[32m'TIR link towards accreditation'\u001b[0m                                  \u001b[2m               \u001b[0m\n",
       "\u001b[2;36m           \u001b[0m            \u001b[1m}\u001b[0m,                                                                           \u001b[2m               \u001b[0m\n",
       "\u001b[2;36m           \u001b[0m            \u001b[32m'display'\u001b[0m: \u001b[1m[\u001b[0m                                                                 \u001b[2m               \u001b[0m\n",
       "\u001b[2;36m           \u001b[0m                \u001b[1m{\u001b[0m\u001b[32m'name'\u001b[0m: \u001b[32m'Verifiable Accreditation to accredit'\u001b[0m, \u001b[32m'locale'\u001b[0m: \u001b[32m'en-GB'\u001b[0m\u001b[1m}\u001b[0m      \u001b[2m               \u001b[0m\n",
       "\u001b[2;36m           \u001b[0m            \u001b[1m]\u001b[0m                                                                            \u001b[2m               \u001b[0m\n",
       "\u001b[2;36m           \u001b[0m        \u001b[1m}\u001b[0m,                                                                               \u001b[2m               \u001b[0m\n",
       "\u001b[2;36m           \u001b[0m        \u001b[1m{\u001b[0m                                                                                \u001b[2m               \u001b[0m\n",
       "\u001b[2;36m           \u001b[0m            \u001b[32m'format'\u001b[0m: \u001b[32m'jwt_vc'\u001b[0m,                                                          \u001b[2m               \u001b[0m\n",
       "\u001b[2;36m           \u001b[0m            \u001b[32m'types'\u001b[0m: \u001b[1m[\u001b[0m                                                                   \u001b[2m               \u001b[0m\n",
       "\u001b[2;36m           \u001b[0m                \u001b[32m'VerifiableCredential'\u001b[0m,                                                  \u001b[2m               \u001b[0m\n",
       "\u001b[2;36m           \u001b[0m                \u001b[32m'VerifiableAttestation'\u001b[0m,                                                 \u001b[2m               \u001b[0m\n",
       "\u001b[2;36m           \u001b[0m                \u001b[32m'VerifiableAuthorisationForTrustChain'\u001b[0m                                   \u001b[2m               \u001b[0m\n",
       "\u001b[2;36m           \u001b[0m            \u001b[1m]\u001b[0m,                                                                           \u001b[2m               \u001b[0m\n",
       "\u001b[2;36m           \u001b[0m            \u001b[32m'trust_framework'\u001b[0m: \u001b[1m{\u001b[0m                                                         \u001b[2m               \u001b[0m\n",
       "\u001b[2;36m           \u001b[0m                \u001b[32m'name'\u001b[0m: \u001b[32m'ebsi'\u001b[0m,                                                          \u001b[2m               \u001b[0m\n",
       "\u001b[2;36m           \u001b[0m                \u001b[32m'type'\u001b[0m: \u001b[32m'Accreditation'\u001b[0m,                                                 \u001b[2m               \u001b[0m\n",
       "\u001b[2;36m           \u001b[0m                \u001b[32m'uri'\u001b[0m: \u001b[32m'TIR link towards accreditation'\u001b[0m                                  \u001b[2m               \u001b[0m\n",
       "\u001b[2;36m           \u001b[0m            \u001b[1m}\u001b[0m,                                                                           \u001b[2m               \u001b[0m\n",
       "\u001b[2;36m           \u001b[0m            \u001b[32m'display'\u001b[0m: \u001b[1m[\u001b[0m                                                                 \u001b[2m               \u001b[0m\n",
       "\u001b[2;36m           \u001b[0m                \u001b[1m{\u001b[0m                                                                        \u001b[2m               \u001b[0m\n",
       "\u001b[2;36m           \u001b[0m                    \u001b[32m'name'\u001b[0m: \u001b[32m'Verifiable Authorisation to issue verifiable tokens'\u001b[0m,       \u001b[2m               \u001b[0m\n",
       "\u001b[2;36m           \u001b[0m                    \u001b[32m'locale'\u001b[0m: \u001b[32m'en-GB'\u001b[0m                                                    \u001b[2m               \u001b[0m\n",
       "\u001b[2;36m           \u001b[0m                \u001b[1m}\u001b[0m                                                                        \u001b[2m               \u001b[0m\n",
       "\u001b[2;36m           \u001b[0m            \u001b[1m]\u001b[0m                                                                            \u001b[2m               \u001b[0m\n",
       "\u001b[2;36m           \u001b[0m        \u001b[1m}\u001b[0m,                                                                               \u001b[2m               \u001b[0m\n",
       "\u001b[2;36m           \u001b[0m        \u001b[1m{\u001b[0m                                                                                \u001b[2m               \u001b[0m\n",
       "\u001b[2;36m           \u001b[0m            \u001b[32m'format'\u001b[0m: \u001b[32m'jwt_vc'\u001b[0m,                                                          \u001b[2m               \u001b[0m\n",
       "\u001b[2;36m           \u001b[0m            \u001b[32m'types'\u001b[0m: \u001b[1m[\u001b[0m                                                                   \u001b[2m               \u001b[0m\n",
       "\u001b[2;36m           \u001b[0m                \u001b[32m'VerifiableCredential'\u001b[0m,                                                  \u001b[2m               \u001b[0m\n",
       "\u001b[2;36m           \u001b[0m                \u001b[32m'VerifiableAttestation'\u001b[0m,                                                 \u001b[2m               \u001b[0m\n",
       "\u001b[2;36m           \u001b[0m                \u001b[32m'CTAAQualificationCredential'\u001b[0m                                            \u001b[2m               \u001b[0m\n",
       "\u001b[2;36m           \u001b[0m            \u001b[1m]\u001b[0m,                                                                           \u001b[2m               \u001b[0m\n",
       "\u001b[2;36m           \u001b[0m            \u001b[32m'trust_framework'\u001b[0m: \u001b[1m{\u001b[0m                                                         \u001b[2m               \u001b[0m\n",
       "\u001b[2;36m           \u001b[0m                \u001b[32m'name'\u001b[0m: \u001b[32m'ebsi'\u001b[0m,                                                          \u001b[2m               \u001b[0m\n",
       "\u001b[2;36m           \u001b[0m                \u001b[32m'type'\u001b[0m: \u001b[32m'Accreditation'\u001b[0m,                                                 \u001b[2m               \u001b[0m\n",
       "\u001b[2;36m           \u001b[0m                \u001b[32m'uri'\u001b[0m: \u001b[32m'TIR link towards accreditation'\u001b[0m                                  \u001b[2m               \u001b[0m\n",
       "\u001b[2;36m           \u001b[0m            \u001b[1m}\u001b[0m,                                                                           \u001b[2m               \u001b[0m\n",
       "\u001b[2;36m           \u001b[0m            \u001b[32m'display'\u001b[0m: \u001b[1m[\u001b[0m                                                                 \u001b[2m               \u001b[0m\n",
       "\u001b[2;36m           \u001b[0m                \u001b[1m{\u001b[0m                                                                        \u001b[2m               \u001b[0m\n",
       "\u001b[2;36m           \u001b[0m                    \u001b[32m'name'\u001b[0m: \u001b[32m'Verifiable Attestation Conformance Qualification To \u001b[0m        \u001b[2m               \u001b[0m\n",
       "\u001b[2;36m           \u001b[0m\u001b[32mAccredit & Authorise'\u001b[0m,                                                                   \u001b[2m               \u001b[0m\n",
       "\u001b[2;36m           \u001b[0m                    \u001b[32m'locale'\u001b[0m: \u001b[32m'en-GB'\u001b[0m                                                    \u001b[2m               \u001b[0m\n",
       "\u001b[2;36m           \u001b[0m                \u001b[1m}\u001b[0m                                                                        \u001b[2m               \u001b[0m\n",
       "\u001b[2;36m           \u001b[0m            \u001b[1m]\u001b[0m                                                                            \u001b[2m               \u001b[0m\n",
       "\u001b[2;36m           \u001b[0m        \u001b[1m}\u001b[0m,                                                                               \u001b[2m               \u001b[0m\n",
       "\u001b[2;36m           \u001b[0m        \u001b[1m{\u001b[0m                                                                                \u001b[2m               \u001b[0m\n",
       "\u001b[2;36m           \u001b[0m            \u001b[32m'format'\u001b[0m: \u001b[32m'jwt_vc'\u001b[0m,                                                          \u001b[2m               \u001b[0m\n",
       "\u001b[2;36m           \u001b[0m            \u001b[32m'types'\u001b[0m: \u001b[1m[\u001b[0m                                                                   \u001b[2m               \u001b[0m\n",
       "\u001b[2;36m           \u001b[0m                \u001b[32m'VerifiableCredential'\u001b[0m,                                                  \u001b[2m               \u001b[0m\n",
       "\u001b[2;36m           \u001b[0m                \u001b[32m'VerifiableAttestation'\u001b[0m,                                                 \u001b[2m               \u001b[0m\n",
       "\u001b[2;36m           \u001b[0m                \u001b[32m'CTWalletQualificationCredential'\u001b[0m                                        \u001b[2m               \u001b[0m\n",
       "\u001b[2;36m           \u001b[0m            \u001b[1m]\u001b[0m,                                                                           \u001b[2m               \u001b[0m\n",
       "\u001b[2;36m           \u001b[0m            \u001b[32m'trust_framework'\u001b[0m: \u001b[1m{\u001b[0m                                                         \u001b[2m               \u001b[0m\n",
       "\u001b[2;36m           \u001b[0m                \u001b[32m'name'\u001b[0m: \u001b[32m'ebsi'\u001b[0m,                                                          \u001b[2m               \u001b[0m\n",
       "\u001b[2;36m           \u001b[0m                \u001b[32m'type'\u001b[0m: \u001b[32m'Accreditation'\u001b[0m,                                                 \u001b[2m               \u001b[0m\n",
       "\u001b[2;36m           \u001b[0m                \u001b[32m'uri'\u001b[0m: \u001b[32m'TIR link towards accreditation'\u001b[0m                                  \u001b[2m               \u001b[0m\n",
       "\u001b[2;36m           \u001b[0m            \u001b[1m}\u001b[0m,                                                                           \u001b[2m               \u001b[0m\n",
       "\u001b[2;36m           \u001b[0m            \u001b[32m'display'\u001b[0m: \u001b[1m[\u001b[0m                                                                 \u001b[2m               \u001b[0m\n",
       "\u001b[2;36m           \u001b[0m                \u001b[1m{\u001b[0m                                                                        \u001b[2m               \u001b[0m\n",
       "\u001b[2;36m           \u001b[0m                    \u001b[32m'name'\u001b[0m: \u001b[32m'Verifiable Attestation Conformance Qualification Holder \u001b[0m    \u001b[2m               \u001b[0m\n",
       "\u001b[2;36m           \u001b[0m\u001b[32mWallet'\u001b[0m,                                                                                 \u001b[2m               \u001b[0m\n",
       "\u001b[2;36m           \u001b[0m                    \u001b[32m'locale'\u001b[0m: \u001b[32m'en-GB'\u001b[0m                                                    \u001b[2m               \u001b[0m\n",
       "\u001b[2;36m           \u001b[0m                \u001b[1m}\u001b[0m                                                                        \u001b[2m               \u001b[0m\n",
       "\u001b[2;36m           \u001b[0m            \u001b[1m]\u001b[0m                                                                            \u001b[2m               \u001b[0m\n",
       "\u001b[2;36m           \u001b[0m        \u001b[1m}\u001b[0m                                                                                \u001b[2m               \u001b[0m\n",
       "\u001b[2;36m           \u001b[0m    \u001b[1m]\u001b[0m                                                                                    \u001b[2m               \u001b[0m\n",
       "\u001b[2;36m           \u001b[0m\u001b[1m)\u001b[0m                                                                                        \u001b[2m               \u001b[0m\n"
      ]
     },
     "metadata": {},
     "output_type": "display_data"
    },
    {
     "data": {
      "text/html": [
       "<pre style=\"white-space:pre;overflow-x:auto;line-height:normal;font-family:Menlo,'DejaVu Sans Mono',consolas,'Courier New',monospace\"><span style=\"color: #7fbfbf; text-decoration-color: #7fbfbf\">           </span>Authorization server configuration:                                                      <a href=\"file:///var/folders/61/8pv2r1d505lb_yy2410br0pw0000gn/T/ipykernel_45986/352674899.py\" target=\"_blank\"><span style=\"color: #7f7f7f; text-decoration-color: #7f7f7f\">352674899.py</span></a><span style=\"color: #7f7f7f; text-decoration-color: #7f7f7f\">:</span><a href=\"file:///var/folders/61/8pv2r1d505lb_yy2410br0pw0000gn/T/ipykernel_45986/352674899.py#22\" target=\"_blank\"><span style=\"color: #7f7f7f; text-decoration-color: #7f7f7f\">22</span></a>\n",
       "<span style=\"color: #7fbfbf; text-decoration-color: #7fbfbf\">           </span><span style=\"color: #800080; text-decoration-color: #800080; font-weight: bold\">OpenIDAuthServerConfig</span><span style=\"font-weight: bold\">(</span>                                                                  <span style=\"color: #7f7f7f; text-decoration-color: #7f7f7f\">               </span>\n",
       "<span style=\"color: #7fbfbf; text-decoration-color: #7fbfbf\">           </span>    <span style=\"color: #808000; text-decoration-color: #808000\">redirect_uris</span>=<span style=\"font-weight: bold\">[</span>                                                                      <span style=\"color: #7f7f7f; text-decoration-color: #7f7f7f\">               </span>\n",
       "<span style=\"color: #7fbfbf; text-decoration-color: #7fbfbf\">           </span>        <span style=\"color: #008000; text-decoration-color: #008000\">'https://api-conformance.ebsi.eu/conformance/v3/auth-mock/direct_post'</span>           <span style=\"color: #7f7f7f; text-decoration-color: #7f7f7f\">               </span>\n",
       "<span style=\"color: #7fbfbf; text-decoration-color: #7fbfbf\">           </span>    <span style=\"font-weight: bold\">]</span>,                                                                                   <span style=\"color: #7f7f7f; text-decoration-color: #7f7f7f\">               </span>\n",
       "<span style=\"color: #7fbfbf; text-decoration-color: #7fbfbf\">           </span>    <span style=\"color: #808000; text-decoration-color: #808000\">issuer</span>=<span style=\"color: #008000; text-decoration-color: #008000\">'https://api-conformance.ebsi.eu/conformance/v3/auth-mock'</span>,                   <span style=\"color: #7f7f7f; text-decoration-color: #7f7f7f\">               </span>\n",
       "<span style=\"color: #7fbfbf; text-decoration-color: #7fbfbf\">           </span>    <span style=\"color: #808000; text-decoration-color: #808000\">authorization_endpoint</span>=<span style=\"color: #008000; text-decoration-color: #008000\">'https://api-conformance.ebsi.eu/conformance/v3/auth-mock/aut</span> <span style=\"color: #7f7f7f; text-decoration-color: #7f7f7f\">               </span>\n",
       "<span style=\"color: #7fbfbf; text-decoration-color: #7fbfbf\">           </span><span style=\"color: #008000; text-decoration-color: #008000\">horize'</span>,                                                                                 <span style=\"color: #7f7f7f; text-decoration-color: #7f7f7f\">               </span>\n",
       "<span style=\"color: #7fbfbf; text-decoration-color: #7fbfbf\">           </span>    <span style=\"color: #808000; text-decoration-color: #808000\">token_endpoint</span>=<span style=\"color: #008000; text-decoration-color: #008000\">'https://api-conformance.ebsi.eu/conformance/v3/auth-mock/token'</span>,     <span style=\"color: #7f7f7f; text-decoration-color: #7f7f7f\">               </span>\n",
       "<span style=\"color: #7fbfbf; text-decoration-color: #7fbfbf\">           </span>    <span style=\"color: #808000; text-decoration-color: #808000\">jwks_uri</span>=<span style=\"color: #008000; text-decoration-color: #008000\">'https://api-conformance.ebsi.eu/conformance/v3/auth-mock/jwks'</span>,            <span style=\"color: #7f7f7f; text-decoration-color: #7f7f7f\">               </span>\n",
       "<span style=\"color: #7fbfbf; text-decoration-color: #7fbfbf\">           </span>    <span style=\"color: #808000; text-decoration-color: #808000\">scopes_supported</span>=<span style=\"font-weight: bold\">[</span><span style=\"color: #008000; text-decoration-color: #008000\">'openid'</span><span style=\"font-weight: bold\">]</span>,                                                         <span style=\"color: #7f7f7f; text-decoration-color: #7f7f7f\">               </span>\n",
       "<span style=\"color: #7fbfbf; text-decoration-color: #7fbfbf\">           </span>    <span style=\"color: #808000; text-decoration-color: #808000\">response_types_supported</span>=<span style=\"font-weight: bold\">[</span><span style=\"color: #008000; text-decoration-color: #008000\">'vp_token'</span>, <span style=\"color: #008000; text-decoration-color: #008000\">'id_token'</span><span style=\"font-weight: bold\">]</span>,                                   <span style=\"color: #7f7f7f; text-decoration-color: #7f7f7f\">               </span>\n",
       "<span style=\"color: #7fbfbf; text-decoration-color: #7fbfbf\">           </span>    <span style=\"color: #808000; text-decoration-color: #808000\">response_modes_supported</span>=<span style=\"font-weight: bold\">[</span><span style=\"color: #008000; text-decoration-color: #008000\">'query'</span><span style=\"font-weight: bold\">]</span>,                                                  <span style=\"color: #7f7f7f; text-decoration-color: #7f7f7f\">               </span>\n",
       "<span style=\"color: #7fbfbf; text-decoration-color: #7fbfbf\">           </span>    <span style=\"color: #808000; text-decoration-color: #808000\">grant_types_supported</span>=<span style=\"font-weight: bold\">[</span><span style=\"color: #008000; text-decoration-color: #008000\">'authorization_code'</span><span style=\"font-weight: bold\">]</span>,                                        <span style=\"color: #7f7f7f; text-decoration-color: #7f7f7f\">               </span>\n",
       "<span style=\"color: #7fbfbf; text-decoration-color: #7fbfbf\">           </span>    <span style=\"color: #808000; text-decoration-color: #808000\">subject_types_supported</span>=<span style=\"font-weight: bold\">[</span><span style=\"color: #008000; text-decoration-color: #008000\">'public'</span><span style=\"font-weight: bold\">]</span>,                                                  <span style=\"color: #7f7f7f; text-decoration-color: #7f7f7f\">               </span>\n",
       "<span style=\"color: #7fbfbf; text-decoration-color: #7fbfbf\">           </span>    <span style=\"color: #808000; text-decoration-color: #808000\">id_token_signing_alg_values_supported</span>=<span style=\"font-weight: bold\">[</span><span style=\"color: #008000; text-decoration-color: #008000\">'ES256'</span><span style=\"font-weight: bold\">]</span>,                                     <span style=\"color: #7f7f7f; text-decoration-color: #7f7f7f\">               </span>\n",
       "<span style=\"color: #7fbfbf; text-decoration-color: #7fbfbf\">           </span>    <span style=\"color: #808000; text-decoration-color: #808000\">request_object_signing_alg_values_supported</span>=<span style=\"font-weight: bold\">[</span><span style=\"color: #008000; text-decoration-color: #008000\">'ES256'</span><span style=\"font-weight: bold\">]</span>,                               <span style=\"color: #7f7f7f; text-decoration-color: #7f7f7f\">               </span>\n",
       "<span style=\"color: #7fbfbf; text-decoration-color: #7fbfbf\">           </span>    <span style=\"color: #808000; text-decoration-color: #808000\">request_parameter_supported</span>=<span style=\"color: #00ff00; text-decoration-color: #00ff00; font-style: italic\">True</span>,                                                    <span style=\"color: #7f7f7f; text-decoration-color: #7f7f7f\">               </span>\n",
       "<span style=\"color: #7fbfbf; text-decoration-color: #7fbfbf\">           </span>    <span style=\"color: #808000; text-decoration-color: #808000\">request_uri_parameter_supported</span>=<span style=\"color: #00ff00; text-decoration-color: #00ff00; font-style: italic\">True</span>,                                                <span style=\"color: #7f7f7f; text-decoration-color: #7f7f7f\">               </span>\n",
       "<span style=\"color: #7fbfbf; text-decoration-color: #7fbfbf\">           </span>    <span style=\"color: #808000; text-decoration-color: #808000\">token_endpoint_auth_methods_supported</span>=<span style=\"font-weight: bold\">[</span><span style=\"color: #008000; text-decoration-color: #008000\">'private_key_jwt'</span><span style=\"font-weight: bold\">]</span>,                           <span style=\"color: #7f7f7f; text-decoration-color: #7f7f7f\">               </span>\n",
       "<span style=\"color: #7fbfbf; text-decoration-color: #7fbfbf\">           </span>    <span style=\"color: #808000; text-decoration-color: #808000\">request_authentication_methods_supported</span>=<span style=\"font-weight: bold\">{</span>                                           <span style=\"color: #7f7f7f; text-decoration-color: #7f7f7f\">               </span>\n",
       "<span style=\"color: #7fbfbf; text-decoration-color: #7fbfbf\">           </span>        <span style=\"color: #008000; text-decoration-color: #008000\">'authorization_endpoint'</span>: <span style=\"font-weight: bold\">[</span><span style=\"color: #008000; text-decoration-color: #008000\">'request_object'</span><span style=\"font-weight: bold\">]</span>                                     <span style=\"color: #7f7f7f; text-decoration-color: #7f7f7f\">               </span>\n",
       "<span style=\"color: #7fbfbf; text-decoration-color: #7fbfbf\">           </span>    <span style=\"font-weight: bold\">}</span>,                                                                                   <span style=\"color: #7f7f7f; text-decoration-color: #7f7f7f\">               </span>\n",
       "<span style=\"color: #7fbfbf; text-decoration-color: #7fbfbf\">           </span>    <span style=\"color: #808000; text-decoration-color: #808000\">vp_formats_supported</span>=<span style=\"font-weight: bold\">{</span>                                                               <span style=\"color: #7f7f7f; text-decoration-color: #7f7f7f\">               </span>\n",
       "<span style=\"color: #7fbfbf; text-decoration-color: #7fbfbf\">           </span>        <span style=\"color: #008000; text-decoration-color: #008000\">'jwt_vp'</span>: <span style=\"font-weight: bold\">{</span><span style=\"color: #008000; text-decoration-color: #008000\">'alg_values_supported'</span>: <span style=\"font-weight: bold\">[</span><span style=\"color: #008000; text-decoration-color: #008000\">'ES256'</span><span style=\"font-weight: bold\">]}</span>,                                   <span style=\"color: #7f7f7f; text-decoration-color: #7f7f7f\">               </span>\n",
       "<span style=\"color: #7fbfbf; text-decoration-color: #7fbfbf\">           </span>        <span style=\"color: #008000; text-decoration-color: #008000\">'jwt_vc'</span>: <span style=\"font-weight: bold\">{</span><span style=\"color: #008000; text-decoration-color: #008000\">'alg_values_supported'</span>: <span style=\"font-weight: bold\">[</span><span style=\"color: #008000; text-decoration-color: #008000\">'ES256'</span><span style=\"font-weight: bold\">]}</span>                                    <span style=\"color: #7f7f7f; text-decoration-color: #7f7f7f\">               </span>\n",
       "<span style=\"color: #7fbfbf; text-decoration-color: #7fbfbf\">           </span>    <span style=\"font-weight: bold\">}</span>,                                                                                   <span style=\"color: #7f7f7f; text-decoration-color: #7f7f7f\">               </span>\n",
       "<span style=\"color: #7fbfbf; text-decoration-color: #7fbfbf\">           </span>    <span style=\"color: #808000; text-decoration-color: #808000\">subject_syntax_types_supported</span>=<span style=\"font-weight: bold\">[</span><span style=\"color: #008000; text-decoration-color: #008000\">'did:key'</span>, <span style=\"color: #008000; text-decoration-color: #008000\">'did:ebsi'</span><span style=\"font-weight: bold\">]</span>,                              <span style=\"color: #7f7f7f; text-decoration-color: #7f7f7f\">               </span>\n",
       "<span style=\"color: #7fbfbf; text-decoration-color: #7fbfbf\">           </span>    <span style=\"color: #808000; text-decoration-color: #808000\">subject_syntax_types_discriminations</span>=<span style=\"font-weight: bold\">[</span><span style=\"color: #008000; text-decoration-color: #008000\">'did:key:jwk_jcs-pub'</span>, <span style=\"color: #008000; text-decoration-color: #008000\">'did:ebsi:v1'</span><span style=\"font-weight: bold\">]</span>,         <span style=\"color: #7f7f7f; text-decoration-color: #7f7f7f\">               </span>\n",
       "<span style=\"color: #7fbfbf; text-decoration-color: #7fbfbf\">           </span>    <span style=\"color: #808000; text-decoration-color: #808000\">subject_trust_frameworks_supported</span>=<span style=\"font-weight: bold\">[</span><span style=\"color: #008000; text-decoration-color: #008000\">'ebsi'</span><span style=\"font-weight: bold\">]</span>,                                         <span style=\"color: #7f7f7f; text-decoration-color: #7f7f7f\">               </span>\n",
       "<span style=\"color: #7fbfbf; text-decoration-color: #7fbfbf\">           </span>    <span style=\"color: #808000; text-decoration-color: #808000\">id_token_types_supported</span>=<span style=\"font-weight: bold\">[</span><span style=\"color: #008000; text-decoration-color: #008000\">'subject_signed_id_token'</span>, <span style=\"color: #008000; text-decoration-color: #008000\">'attester_signed_id_token'</span><span style=\"font-weight: bold\">]</span>     <span style=\"color: #7f7f7f; text-decoration-color: #7f7f7f\">               </span>\n",
       "<span style=\"color: #7fbfbf; text-decoration-color: #7fbfbf\">           </span><span style=\"font-weight: bold\">)</span>                                                                                        <span style=\"color: #7f7f7f; text-decoration-color: #7f7f7f\">               </span>\n",
       "</pre>\n"
      ],
      "text/plain": [
       "\u001b[2;36m          \u001b[0m\u001b[2;36m \u001b[0mAuthorization server configuration:                                                      \u001b]8;id=584360;file:///var/folders/61/8pv2r1d505lb_yy2410br0pw0000gn/T/ipykernel_45986/352674899.py\u001b\\\u001b[2m352674899.py\u001b[0m\u001b]8;;\u001b\\\u001b[2m:\u001b[0m\u001b]8;id=76273;file:///var/folders/61/8pv2r1d505lb_yy2410br0pw0000gn/T/ipykernel_45986/352674899.py#22\u001b\\\u001b[2m22\u001b[0m\u001b]8;;\u001b\\\n",
       "\u001b[2;36m           \u001b[0m\u001b[1;35mOpenIDAuthServerConfig\u001b[0m\u001b[1m(\u001b[0m                                                                  \u001b[2m               \u001b[0m\n",
       "\u001b[2;36m           \u001b[0m    \u001b[33mredirect_uris\u001b[0m=\u001b[1m[\u001b[0m                                                                      \u001b[2m               \u001b[0m\n",
       "\u001b[2;36m           \u001b[0m        \u001b[32m'https://api-conformance.ebsi.eu/conformance/v3/auth-mock/direct_post'\u001b[0m           \u001b[2m               \u001b[0m\n",
       "\u001b[2;36m           \u001b[0m    \u001b[1m]\u001b[0m,                                                                                   \u001b[2m               \u001b[0m\n",
       "\u001b[2;36m           \u001b[0m    \u001b[33missuer\u001b[0m=\u001b[32m'https://api-conformance.ebsi.eu/conformance/v3/auth-mock'\u001b[0m,                   \u001b[2m               \u001b[0m\n",
       "\u001b[2;36m           \u001b[0m    \u001b[33mauthorization_endpoint\u001b[0m=\u001b[32m'https://api-conformance.ebsi.eu/conformance/v3/auth-mock/aut\u001b[0m \u001b[2m               \u001b[0m\n",
       "\u001b[2;36m           \u001b[0m\u001b[32mhorize'\u001b[0m,                                                                                 \u001b[2m               \u001b[0m\n",
       "\u001b[2;36m           \u001b[0m    \u001b[33mtoken_endpoint\u001b[0m=\u001b[32m'https://api-conformance.ebsi.eu/conformance/v3/auth-mock/token'\u001b[0m,     \u001b[2m               \u001b[0m\n",
       "\u001b[2;36m           \u001b[0m    \u001b[33mjwks_uri\u001b[0m=\u001b[32m'https://api-conformance.ebsi.eu/conformance/v3/auth-mock/jwks'\u001b[0m,            \u001b[2m               \u001b[0m\n",
       "\u001b[2;36m           \u001b[0m    \u001b[33mscopes_supported\u001b[0m=\u001b[1m[\u001b[0m\u001b[32m'openid'\u001b[0m\u001b[1m]\u001b[0m,                                                         \u001b[2m               \u001b[0m\n",
       "\u001b[2;36m           \u001b[0m    \u001b[33mresponse_types_supported\u001b[0m=\u001b[1m[\u001b[0m\u001b[32m'vp_token'\u001b[0m, \u001b[32m'id_token'\u001b[0m\u001b[1m]\u001b[0m,                                   \u001b[2m               \u001b[0m\n",
       "\u001b[2;36m           \u001b[0m    \u001b[33mresponse_modes_supported\u001b[0m=\u001b[1m[\u001b[0m\u001b[32m'query'\u001b[0m\u001b[1m]\u001b[0m,                                                  \u001b[2m               \u001b[0m\n",
       "\u001b[2;36m           \u001b[0m    \u001b[33mgrant_types_supported\u001b[0m=\u001b[1m[\u001b[0m\u001b[32m'authorization_code'\u001b[0m\u001b[1m]\u001b[0m,                                        \u001b[2m               \u001b[0m\n",
       "\u001b[2;36m           \u001b[0m    \u001b[33msubject_types_supported\u001b[0m=\u001b[1m[\u001b[0m\u001b[32m'public'\u001b[0m\u001b[1m]\u001b[0m,                                                  \u001b[2m               \u001b[0m\n",
       "\u001b[2;36m           \u001b[0m    \u001b[33mid_token_signing_alg_values_supported\u001b[0m=\u001b[1m[\u001b[0m\u001b[32m'ES256'\u001b[0m\u001b[1m]\u001b[0m,                                     \u001b[2m               \u001b[0m\n",
       "\u001b[2;36m           \u001b[0m    \u001b[33mrequest_object_signing_alg_values_supported\u001b[0m=\u001b[1m[\u001b[0m\u001b[32m'ES256'\u001b[0m\u001b[1m]\u001b[0m,                               \u001b[2m               \u001b[0m\n",
       "\u001b[2;36m           \u001b[0m    \u001b[33mrequest_parameter_supported\u001b[0m=\u001b[3;92mTrue\u001b[0m,                                                    \u001b[2m               \u001b[0m\n",
       "\u001b[2;36m           \u001b[0m    \u001b[33mrequest_uri_parameter_supported\u001b[0m=\u001b[3;92mTrue\u001b[0m,                                                \u001b[2m               \u001b[0m\n",
       "\u001b[2;36m           \u001b[0m    \u001b[33mtoken_endpoint_auth_methods_supported\u001b[0m=\u001b[1m[\u001b[0m\u001b[32m'private_key_jwt'\u001b[0m\u001b[1m]\u001b[0m,                           \u001b[2m               \u001b[0m\n",
       "\u001b[2;36m           \u001b[0m    \u001b[33mrequest_authentication_methods_supported\u001b[0m=\u001b[1m{\u001b[0m                                           \u001b[2m               \u001b[0m\n",
       "\u001b[2;36m           \u001b[0m        \u001b[32m'authorization_endpoint'\u001b[0m: \u001b[1m[\u001b[0m\u001b[32m'request_object'\u001b[0m\u001b[1m]\u001b[0m                                     \u001b[2m               \u001b[0m\n",
       "\u001b[2;36m           \u001b[0m    \u001b[1m}\u001b[0m,                                                                                   \u001b[2m               \u001b[0m\n",
       "\u001b[2;36m           \u001b[0m    \u001b[33mvp_formats_supported\u001b[0m=\u001b[1m{\u001b[0m                                                               \u001b[2m               \u001b[0m\n",
       "\u001b[2;36m           \u001b[0m        \u001b[32m'jwt_vp'\u001b[0m: \u001b[1m{\u001b[0m\u001b[32m'alg_values_supported'\u001b[0m: \u001b[1m[\u001b[0m\u001b[32m'ES256'\u001b[0m\u001b[1m]\u001b[0m\u001b[1m}\u001b[0m,                                   \u001b[2m               \u001b[0m\n",
       "\u001b[2;36m           \u001b[0m        \u001b[32m'jwt_vc'\u001b[0m: \u001b[1m{\u001b[0m\u001b[32m'alg_values_supported'\u001b[0m: \u001b[1m[\u001b[0m\u001b[32m'ES256'\u001b[0m\u001b[1m]\u001b[0m\u001b[1m}\u001b[0m                                    \u001b[2m               \u001b[0m\n",
       "\u001b[2;36m           \u001b[0m    \u001b[1m}\u001b[0m,                                                                                   \u001b[2m               \u001b[0m\n",
       "\u001b[2;36m           \u001b[0m    \u001b[33msubject_syntax_types_supported\u001b[0m=\u001b[1m[\u001b[0m\u001b[32m'did:key'\u001b[0m, \u001b[32m'did:ebsi'\u001b[0m\u001b[1m]\u001b[0m,                              \u001b[2m               \u001b[0m\n",
       "\u001b[2;36m           \u001b[0m    \u001b[33msubject_syntax_types_discriminations\u001b[0m=\u001b[1m[\u001b[0m\u001b[32m'did:key:jwk_jcs-pub'\u001b[0m, \u001b[32m'did:ebsi:v1'\u001b[0m\u001b[1m]\u001b[0m,         \u001b[2m               \u001b[0m\n",
       "\u001b[2;36m           \u001b[0m    \u001b[33msubject_trust_frameworks_supported\u001b[0m=\u001b[1m[\u001b[0m\u001b[32m'ebsi'\u001b[0m\u001b[1m]\u001b[0m,                                         \u001b[2m               \u001b[0m\n",
       "\u001b[2;36m           \u001b[0m    \u001b[33mid_token_types_supported\u001b[0m=\u001b[1m[\u001b[0m\u001b[32m'subject_signed_id_token'\u001b[0m, \u001b[32m'attester_signed_id_token'\u001b[0m\u001b[1m]\u001b[0m     \u001b[2m               \u001b[0m\n",
       "\u001b[2;36m           \u001b[0m\u001b[1m)\u001b[0m                                                                                        \u001b[2m               \u001b[0m\n"
      ]
     },
     "metadata": {},
     "output_type": "display_data"
    }
   ],
   "source": [
    "from ebsi_wallet.util import parse_query_string_parameters_from_url\n",
    "from ebsi_wallet.siop_auth.util import (\n",
    "    accept_and_fetch_credential_offer, \n",
    "    fetch_openid_credential_issuer_configuration,\n",
    "    fetch_openid_auth_server_configuration,\n",
    "    fetch_credential_offer\n",
    ")\n",
    "\n",
    "qr_code_data = await fetch_credential_offer(key_did._did)\n",
    "qr_code_data = qr_code_data.replace(\"openid://\", \"\")\n",
    "credential_offer_uri = parse_query_string_parameters_from_url(\n",
    "    qr_code_data).get(\"credential_offer_uri\")[0]\n",
    "console.log(\"Credential offer URI: \", credential_offer_uri)\n",
    "\n",
    "credential_offer = await accept_and_fetch_credential_offer(credential_offer_uri)\n",
    "console.log(\"Credential offer: \", credential_offer)\n",
    "\n",
    "credential_issuer_configuration = await fetch_openid_credential_issuer_configuration(credential_offer.credential_issuer)\n",
    "console.log(\"Credential issuer configuration: \", credential_issuer_configuration)\n",
    "\n",
    "auth_server_configuration = await fetch_openid_auth_server_configuration(credential_issuer_configuration.authorization_server)\n",
    "console.log(\"Authorization server configuration: \", auth_server_configuration)\n"
   ]
  },
  {
   "attachments": {},
   "cell_type": "markdown",
   "metadata": {},
   "source": [
    "## Perform authorization request and obtain ID token request"
   ]
  },
  {
   "cell_type": "code",
   "execution_count": 4,
   "metadata": {},
   "outputs": [
    {
     "data": {
      "text/html": [
       "<pre style=\"white-space:pre;overflow-x:auto;line-height:normal;font-family:Menlo,'DejaVu Sans Mono',consolas,'Courier New',monospace\"><span style=\"color: #7fbfbf; text-decoration-color: #7fbfbf\">           </span>Code verifier:  <span style=\"color: #ffff00; text-decoration-color: #ffff00\">30fbeeb3-f582-45c5-8fbd-a0b3736cb950</span>                                    <a href=\"file:///var/folders/61/8pv2r1d505lb_yy2410br0pw0000gn/T/ipykernel_45986/1270604336.py\" target=\"_blank\"><span style=\"color: #7f7f7f; text-decoration-color: #7f7f7f\">1270604336.py</span></a><span style=\"color: #7f7f7f; text-decoration-color: #7f7f7f\">:</span><a href=\"file:///var/folders/61/8pv2r1d505lb_yy2410br0pw0000gn/T/ipykernel_45986/1270604336.py#14\" target=\"_blank\"><span style=\"color: #7f7f7f; text-decoration-color: #7f7f7f\">14</span></a>\n",
       "</pre>\n"
      ],
      "text/plain": [
       "\u001b[2;36m          \u001b[0m\u001b[2;36m \u001b[0mCode verifier:  \u001b[93m30fbeeb3-f582-45c5-8fbd-a0b3736cb950\u001b[0m                                    \u001b]8;id=622127;file:///var/folders/61/8pv2r1d505lb_yy2410br0pw0000gn/T/ipykernel_45986/1270604336.py\u001b\\\u001b[2m1270604336.py\u001b[0m\u001b]8;;\u001b\\\u001b[2m:\u001b[0m\u001b]8;id=507757;file:///var/folders/61/8pv2r1d505lb_yy2410br0pw0000gn/T/ipykernel_45986/1270604336.py#14\u001b\\\u001b[2m14\u001b[0m\u001b]8;;\u001b\\\n"
      ]
     },
     "metadata": {},
     "output_type": "display_data"
    },
    {
     "name": "stdout",
     "output_type": "stream",
     "text": [
      "\n"
     ]
    },
    {
     "data": {
      "text/html": [
       "<pre style=\"white-space:pre;overflow-x:auto;line-height:normal;font-family:Menlo,'DejaVu Sans Mono',consolas,'Courier New',monospace\"><span style=\"color: #7fbfbf; text-decoration-color: #7fbfbf\">           </span>Authorization response query params:                                                    <a href=\"file:///var/folders/61/8pv2r1d505lb_yy2410br0pw0000gn/T/ipykernel_45986/1270604336.py\" target=\"_blank\"><span style=\"color: #7f7f7f; text-decoration-color: #7f7f7f\">1270604336.py</span></a><span style=\"color: #7f7f7f; text-decoration-color: #7f7f7f\">:</span><a href=\"file:///var/folders/61/8pv2r1d505lb_yy2410br0pw0000gn/T/ipykernel_45986/1270604336.py#37\" target=\"_blank\"><span style=\"color: #7f7f7f; text-decoration-color: #7f7f7f\">37</span></a>\n",
       "<span style=\"color: #7fbfbf; text-decoration-color: #7fbfbf\">           </span><span style=\"color: #800080; text-decoration-color: #800080; font-weight: bold\">AuthorizationResponseQueryParams</span><span style=\"font-weight: bold\">(</span>                                                       <span style=\"color: #7f7f7f; text-decoration-color: #7f7f7f\">                </span>\n",
       "<span style=\"color: #7fbfbf; text-decoration-color: #7fbfbf\">           </span>    <span style=\"color: #808000; text-decoration-color: #808000\">state</span>=<span style=\"color: #008000; text-decoration-color: #008000\">'5d26879c-8fd1-4429-a688-813b099ebc7b'</span>,                                       <span style=\"color: #7f7f7f; text-decoration-color: #7f7f7f\">                </span>\n",
       "<span style=\"color: #7fbfbf; text-decoration-color: #7fbfbf\">           </span>    <span style=\"color: #808000; text-decoration-color: #808000\">client_id</span>=<span style=\"color: #008000; text-decoration-color: #008000\">'https://api-conformance.ebsi.eu/conformance/v3/auth-mock'</span>,               <span style=\"color: #7f7f7f; text-decoration-color: #7f7f7f\">                </span>\n",
       "<span style=\"color: #7fbfbf; text-decoration-color: #7fbfbf\">           </span>    <span style=\"color: #808000; text-decoration-color: #808000\">redirect_uri</span>=<span style=\"color: #008000; text-decoration-color: #008000\">'https://api-conformance.ebsi.eu/conformance/v3/auth-mock/direct_post'</span> <span style=\"color: #7f7f7f; text-decoration-color: #7f7f7f\">                </span>\n",
       "<span style=\"color: #7fbfbf; text-decoration-color: #7fbfbf\">           </span>,                                                                                       <span style=\"color: #7f7f7f; text-decoration-color: #7f7f7f\">                </span>\n",
       "<span style=\"color: #7fbfbf; text-decoration-color: #7fbfbf\">           </span>    <span style=\"color: #808000; text-decoration-color: #808000\">response_type</span>=<span style=\"color: #008000; text-decoration-color: #008000\">'id_token'</span>,                                                           <span style=\"color: #7f7f7f; text-decoration-color: #7f7f7f\">                </span>\n",
       "<span style=\"color: #7fbfbf; text-decoration-color: #7fbfbf\">           </span>    <span style=\"color: #808000; text-decoration-color: #808000\">response_mode</span>=<span style=\"color: #008000; text-decoration-color: #008000\">'direct_post'</span>,                                                        <span style=\"color: #7f7f7f; text-decoration-color: #7f7f7f\">                </span>\n",
       "<span style=\"color: #7fbfbf; text-decoration-color: #7fbfbf\">           </span>    <span style=\"color: #808000; text-decoration-color: #808000\">scope</span>=<span style=\"color: #008000; text-decoration-color: #008000\">'openid'</span>,                                                                     <span style=\"color: #7f7f7f; text-decoration-color: #7f7f7f\">                </span>\n",
       "<span style=\"color: #7fbfbf; text-decoration-color: #7fbfbf\">           </span>    <span style=\"color: #808000; text-decoration-color: #808000\">nonce</span>=<span style=\"color: #008000; text-decoration-color: #008000\">'daedd9bf-c365-45d1-8730-970dce4921e5'</span>,                                       <span style=\"color: #7f7f7f; text-decoration-color: #7f7f7f\">                </span>\n",
       "<span style=\"color: #7fbfbf; text-decoration-color: #7fbfbf\">           </span>    <span style=\"color: #808000; text-decoration-color: #808000\">request_uri</span>=<span style=\"color: #008000; text-decoration-color: #008000\">'https://api-conformance.ebsi.eu/conformance/v3/auth-mock/request_uri/0</span> <span style=\"color: #7f7f7f; text-decoration-color: #7f7f7f\">                </span>\n",
       "<span style=\"color: #7fbfbf; text-decoration-color: #7fbfbf\">           </span><span style=\"color: #008000; text-decoration-color: #008000\">9d7f327-712c-4462-8a74-3e70e7c72a97'</span>                                                    <span style=\"color: #7f7f7f; text-decoration-color: #7f7f7f\">                </span>\n",
       "<span style=\"color: #7fbfbf; text-decoration-color: #7fbfbf\">           </span><span style=\"font-weight: bold\">)</span>                                                                                       <span style=\"color: #7f7f7f; text-decoration-color: #7f7f7f\">                </span>\n",
       "</pre>\n"
      ],
      "text/plain": [
       "\u001b[2;36m          \u001b[0m\u001b[2;36m \u001b[0mAuthorization response query params:                                                    \u001b]8;id=484835;file:///var/folders/61/8pv2r1d505lb_yy2410br0pw0000gn/T/ipykernel_45986/1270604336.py\u001b\\\u001b[2m1270604336.py\u001b[0m\u001b]8;;\u001b\\\u001b[2m:\u001b[0m\u001b]8;id=830228;file:///var/folders/61/8pv2r1d505lb_yy2410br0pw0000gn/T/ipykernel_45986/1270604336.py#37\u001b\\\u001b[2m37\u001b[0m\u001b]8;;\u001b\\\n",
       "\u001b[2;36m           \u001b[0m\u001b[1;35mAuthorizationResponseQueryParams\u001b[0m\u001b[1m(\u001b[0m                                                       \u001b[2m                \u001b[0m\n",
       "\u001b[2;36m           \u001b[0m    \u001b[33mstate\u001b[0m=\u001b[32m'5d26879c-8fd1-4429-a688-813b099ebc7b'\u001b[0m,                                       \u001b[2m                \u001b[0m\n",
       "\u001b[2;36m           \u001b[0m    \u001b[33mclient_id\u001b[0m=\u001b[32m'https://api-conformance.ebsi.eu/conformance/v3/auth-mock'\u001b[0m,               \u001b[2m                \u001b[0m\n",
       "\u001b[2;36m           \u001b[0m    \u001b[33mredirect_uri\u001b[0m=\u001b[32m'https://api-conformance.ebsi.eu/conformance/v3/auth-mock/direct_post'\u001b[0m \u001b[2m                \u001b[0m\n",
       "\u001b[2;36m           \u001b[0m,                                                                                       \u001b[2m                \u001b[0m\n",
       "\u001b[2;36m           \u001b[0m    \u001b[33mresponse_type\u001b[0m=\u001b[32m'id_token'\u001b[0m,                                                           \u001b[2m                \u001b[0m\n",
       "\u001b[2;36m           \u001b[0m    \u001b[33mresponse_mode\u001b[0m=\u001b[32m'direct_post'\u001b[0m,                                                        \u001b[2m                \u001b[0m\n",
       "\u001b[2;36m           \u001b[0m    \u001b[33mscope\u001b[0m=\u001b[32m'openid'\u001b[0m,                                                                     \u001b[2m                \u001b[0m\n",
       "\u001b[2;36m           \u001b[0m    \u001b[33mnonce\u001b[0m=\u001b[32m'daedd9bf-c365-45d1-8730-970dce4921e5'\u001b[0m,                                       \u001b[2m                \u001b[0m\n",
       "\u001b[2;36m           \u001b[0m    \u001b[33mrequest_uri\u001b[0m=\u001b[32m'https://api-conformance.ebsi.eu/conformance/v3/auth-mock/request_uri/0\u001b[0m \u001b[2m                \u001b[0m\n",
       "\u001b[2;36m           \u001b[0m\u001b[32m9d7f327-712c-4462-8a74-3e70e7c72a97'\u001b[0m                                                    \u001b[2m                \u001b[0m\n",
       "\u001b[2;36m           \u001b[0m\u001b[1m)\u001b[0m                                                                                       \u001b[2m                \u001b[0m\n"
      ]
     },
     "metadata": {},
     "output_type": "display_data"
    }
   ],
   "source": [
    "from ebsi_wallet.siop_auth.util import (\n",
    "    perform_authorization, \n",
    "    AuthorizationRequestQueryParams,\n",
    "    get_authorization_response_query_params,\n",
    "    generate_code_challenge\n",
    ")\n",
    "import uuid\n",
    "import json\n",
    "\n",
    "state = str(uuid.uuid4())\n",
    "nonce = str(uuid.uuid4())\n",
    "code_verifier = str(uuid.uuid4())\n",
    "\n",
    "console.log(\"Code verifier: \", code_verifier)\n",
    "\n",
    "authorization_details = [{\"type\":\"openid_credential\",\"format\":\"jwt_vc\",\"types\":[\"VerifiableCredential\",\"VerifiableAttestation\",\"CTWalletCrossInTime\"]}]\n",
    "redirect_uri = \"http://localhost:8080\"\n",
    "client_metadata = {\"vp_formats_supported\":{\"jwt_vp\":{\"alg\":[\"ES256\"]},\"jwt_vc\":{\"alg\":[\"ES256\"]}},\"response_types_supported\":[\"vp_token\",\"id_token\"],\"authorization_endpoint\":redirect_uri}\n",
    "authorization_request_query_params = AuthorizationRequestQueryParams(\n",
    "    response_type=\"code\",\n",
    "    scope=\"openid\",\n",
    "    state=state,\n",
    "    client_id=key_did._did,\n",
    "    authorization_details=json.dumps(authorization_details, separators=(',', ':')),\n",
    "    redirect_uri=redirect_uri,\n",
    "    nonce=nonce,\n",
    "    code_challenge=generate_code_challenge(code_verifier),\n",
    "    code_challenge_method=\"S256\",\n",
    "    client_metadata=json.dumps(client_metadata, separators=(',', ':')),\n",
    "    issuer_state=credential_offer.grants.get(\"authorization_code\").get(\"issuer_state\")\n",
    ")\n",
    "\n",
    "auth_resp = await perform_authorization(auth_server_configuration.authorization_endpoint, authorization_request_query_params)\n",
    "auth_resp_uri = str(auth_resp).split(\"Location': '\")[1].split(\"'\")[0]\n",
    "\n",
    "auth_resp_query_params = get_authorization_response_query_params(auth_resp_uri)\n",
    "console.log(\"Authorization response query params: \", auth_resp_query_params)"
   ]
  },
  {
   "attachments": {},
   "cell_type": "markdown",
   "metadata": {},
   "source": [
    "## Send ID token"
   ]
  },
  {
   "cell_type": "code",
   "execution_count": 5,
   "metadata": {},
   "outputs": [
    {
     "name": "stdout",
     "output_type": "stream",
     "text": [
      "\n"
     ]
    },
    {
     "data": {
      "text/html": [
       "<pre style=\"white-space:pre;overflow-x:auto;line-height:normal;font-family:Menlo,'DejaVu Sans Mono',consolas,'Courier New',monospace\"><span style=\"color: #7fbfbf; text-decoration-color: #7fbfbf\">           </span>Authorization code:  <span style=\"color: #ffff00; text-decoration-color: #ffff00\">5b4d7967-e4a1-49ac-849a-9c0b1f534e1a</span>                                <a href=\"file:///var/folders/61/8pv2r1d505lb_yy2410br0pw0000gn/T/ipykernel_45986/1546471797.py\" target=\"_blank\"><span style=\"color: #7f7f7f; text-decoration-color: #7f7f7f\">1546471797.py</span></a><span style=\"color: #7f7f7f; text-decoration-color: #7f7f7f\">:</span><a href=\"file:///var/folders/61/8pv2r1d505lb_yy2410br0pw0000gn/T/ipykernel_45986/1546471797.py#8\" target=\"_blank\"><span style=\"color: #7f7f7f; text-decoration-color: #7f7f7f\">8</span></a>\n",
       "</pre>\n"
      ],
      "text/plain": [
       "\u001b[2;36m          \u001b[0m\u001b[2;36m \u001b[0mAuthorization code:  \u001b[93m5b4d7967-e4a1-49ac-849a-9c0b1f534e1a\u001b[0m                                \u001b]8;id=868821;file:///var/folders/61/8pv2r1d505lb_yy2410br0pw0000gn/T/ipykernel_45986/1546471797.py\u001b\\\u001b[2m1546471797.py\u001b[0m\u001b]8;;\u001b\\\u001b[2m:\u001b[0m\u001b]8;id=812564;file:///var/folders/61/8pv2r1d505lb_yy2410br0pw0000gn/T/ipykernel_45986/1546471797.py#8\u001b\\\u001b[2m8\u001b[0m\u001b]8;;\u001b\\\n"
      ]
     },
     "metadata": {},
     "output_type": "display_data"
    }
   ],
   "source": [
    "from ebsi_wallet.siop_auth.util import send_id_token_response\n",
    "\n",
    "id_token = key_did.generate_id_token(auth_server_uri=auth_resp_query_params.client_id, nonce=auth_resp_query_params.nonce)\n",
    "auth_code_response = await send_id_token_response(auth_resp_query_params.redirect_uri, id_token, auth_resp_query_params.state)\n",
    "auth_code_response = str(auth_code_response).split(\"Location': '\")[1].split(\"'\")[0]\n",
    "state = parse_query_string_parameters_from_url(auth_code_response).get(\"state\")[0]\n",
    "auth_code = parse_query_string_parameters_from_url(auth_code_response).get(\"code\")[0]\n",
    "console.log(\"Authorization code: \", auth_code)"
   ]
  },
  {
   "attachments": {},
   "cell_type": "markdown",
   "metadata": {},
   "source": [
    "## Exchange code for access token"
   ]
  },
  {
   "cell_type": "code",
   "execution_count": 6,
   "metadata": {},
   "outputs": [
    {
     "name": "stdout",
     "output_type": "stream",
     "text": [
      "grant_type=authorization_code&code=5b4d7967-e4a1-49ac-849a-9c0b1f534e1a&client_id=did%3Akey%3Az2dmzD81cgPx8Vki7JbuuMmFYrWPgYoytykUZ3eyqht1j9Kbq83ZxBg2jPXhutvjpai7zBzx2CmepgRG25fw4LvS9VLi6Un4RK8jb8Wan7a9B1v5gNcBmAPqSe5NmBJ2Ssi5wdtFarD26DhwaQgyEViDWgAnFrUoZfwseZ6n7aKuYrM89a&code_verifier=30fbeeb3-f582-45c5-8fbd-a0b3736cb950\n"
     ]
    },
    {
     "data": {
      "text/html": [
       "<pre style=\"white-space:pre;overflow-x:auto;line-height:normal;font-family:Menlo,'DejaVu Sans Mono',consolas,'Courier New',monospace\"><span style=\"color: #7fbfbf; text-decoration-color: #7fbfbf\">[12:37:12] </span>Access token response:                                                                    <a href=\"file:///var/folders/61/8pv2r1d505lb_yy2410br0pw0000gn/T/ipykernel_45986/474231906.py\" target=\"_blank\"><span style=\"color: #7f7f7f; text-decoration-color: #7f7f7f\">474231906.py</span></a><span style=\"color: #7f7f7f; text-decoration-color: #7f7f7f\">:</span><a href=\"file:///var/folders/61/8pv2r1d505lb_yy2410br0pw0000gn/T/ipykernel_45986/474231906.py#5\" target=\"_blank\"><span style=\"color: #7f7f7f; text-decoration-color: #7f7f7f\">5</span></a>\n",
       "<span style=\"color: #7fbfbf; text-decoration-color: #7fbfbf\">           </span><span style=\"font-weight: bold\">{</span><span style=\"color: #008000; text-decoration-color: #008000\">'error'</span>: <span style=\"color: #008000; text-decoration-color: #008000\">'invalid_request'</span>, <span style=\"color: #008000; text-decoration-color: #008000\">'error_description'</span>: <span style=\"color: #008000; text-decoration-color: #008000\">'Invalid code_verifier'</span><span style=\"font-weight: bold\">}</span>                <span style=\"color: #7f7f7f; text-decoration-color: #7f7f7f\">              </span>\n",
       "</pre>\n"
      ],
      "text/plain": [
       "\u001b[2;36m[12:37:12]\u001b[0m\u001b[2;36m \u001b[0mAccess token response:                                                                    \u001b]8;id=608522;file:///var/folders/61/8pv2r1d505lb_yy2410br0pw0000gn/T/ipykernel_45986/474231906.py\u001b\\\u001b[2m474231906.py\u001b[0m\u001b]8;;\u001b\\\u001b[2m:\u001b[0m\u001b]8;id=773870;file:///var/folders/61/8pv2r1d505lb_yy2410br0pw0000gn/T/ipykernel_45986/474231906.py#5\u001b\\\u001b[2m5\u001b[0m\u001b]8;;\u001b\\\n",
       "\u001b[2;36m           \u001b[0m\u001b[1m{\u001b[0m\u001b[32m'error'\u001b[0m: \u001b[32m'invalid_request'\u001b[0m, \u001b[32m'error_description'\u001b[0m: \u001b[32m'Invalid code_verifier'\u001b[0m\u001b[1m}\u001b[0m                \u001b[2m              \u001b[0m\n"
      ]
     },
     "metadata": {},
     "output_type": "display_data"
    }
   ],
   "source": [
    "from ebsi_wallet.siop_auth.util import exchange_auth_code_for_access_token\n",
    "\n",
    "token_uri = auth_resp_query_params.client_id + \"/token\"\n",
    "access_token_response = await exchange_auth_code_for_access_token(token_uri, key_did._did, auth_code, code_verifier)\n",
    "console.log(\"Access token response: \", access_token_response)"
   ]
  }
 ],
 "metadata": {
  "kernelspec": {
   "display_name": "ebsi-wallet-kFsAikUU-py3.8",
   "language": "python",
   "name": "python3"
  },
  "language_info": {
   "codemirror_mode": {
    "name": "ipython",
    "version": 3
   },
   "file_extension": ".py",
   "mimetype": "text/x-python",
   "name": "python",
   "nbconvert_exporter": "python",
   "pygments_lexer": "ipython3",
   "version": "3.8.9"
  },
  "orig_nbformat": 4
 },
 "nbformat": 4,
 "nbformat_minor": 2
}
