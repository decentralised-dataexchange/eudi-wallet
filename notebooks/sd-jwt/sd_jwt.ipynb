{
 "cells": [
  {
   "attachments": {},
   "cell_type": "markdown",
   "metadata": {},
   "source": [
    "# SD-JWT for Certification of Registration credential in Proof of Business demo"
   ]
  },
  {
   "attachments": {},
   "cell_type": "markdown",
   "metadata": {},
   "source": [
    "## Setup cryptographic keys"
   ]
  },
  {
   "cell_type": "code",
   "execution_count": 1,
   "metadata": {},
   "outputs": [
    {
     "data": {
      "text/html": [
       "<pre style=\"white-space:pre;overflow-x:auto;line-height:normal;font-family:Menlo,'DejaVu Sans Mono',consolas,'Courier New',monospace\"><span style=\"color: #7fbfbf; text-decoration-color: #7fbfbf\">[20:24:45] </span>Issuer public key JWK:                                                                  <a href=\"file:///tmp/ipykernel_29926/3472563506.py\" target=\"_blank\"><span style=\"color: #7f7f7f; text-decoration-color: #7f7f7f\">3472563506.py</span></a><span style=\"color: #7f7f7f; text-decoration-color: #7f7f7f\">:</span><a href=\"file:///tmp/ipykernel_29926/3472563506.py#15\" target=\"_blank\"><span style=\"color: #7f7f7f; text-decoration-color: #7f7f7f\">15</span></a>\n",
       "<span style=\"color: #7fbfbf; text-decoration-color: #7fbfbf\">           </span><span style=\"font-weight: bold\">{</span>                                                                                       <span style=\"color: #7f7f7f; text-decoration-color: #7f7f7f\">                </span>\n",
       "<span style=\"color: #7fbfbf; text-decoration-color: #7fbfbf\">           </span>    <span style=\"color: #008000; text-decoration-color: #008000\">'kty'</span>: <span style=\"color: #008000; text-decoration-color: #008000\">'EC'</span>,                                                                        <span style=\"color: #7f7f7f; text-decoration-color: #7f7f7f\">                </span>\n",
       "<span style=\"color: #7fbfbf; text-decoration-color: #7fbfbf\">           </span>    <span style=\"color: #008000; text-decoration-color: #008000\">'kid'</span>: <span style=\"color: #008000; text-decoration-color: #008000\">'tJ7_O_Xu862O_9L4oxdBSkRotGJ2Id9smSovHtnUUo8'</span>,                               <span style=\"color: #7f7f7f; text-decoration-color: #7f7f7f\">                </span>\n",
       "<span style=\"color: #7fbfbf; text-decoration-color: #7fbfbf\">           </span>    <span style=\"color: #008000; text-decoration-color: #008000\">'crv'</span>: <span style=\"color: #008000; text-decoration-color: #008000\">'P-256'</span>,                                                                     <span style=\"color: #7f7f7f; text-decoration-color: #7f7f7f\">                </span>\n",
       "<span style=\"color: #7fbfbf; text-decoration-color: #7fbfbf\">           </span>    <span style=\"color: #008000; text-decoration-color: #008000\">'x'</span>: <span style=\"color: #008000; text-decoration-color: #008000\">'PTKECXSeSzIRRjYBKPECaRBRp1VH_g2EztKLJf8jpVc'</span>,                                 <span style=\"color: #7f7f7f; text-decoration-color: #7f7f7f\">                </span>\n",
       "<span style=\"color: #7fbfbf; text-decoration-color: #7fbfbf\">           </span>    <span style=\"color: #008000; text-decoration-color: #008000\">'y'</span>: <span style=\"color: #008000; text-decoration-color: #008000\">'HHpPqdZ8P0ZVz9CSryp7FvmtTTnNImmlQuiatJncoNM'</span>                                  <span style=\"color: #7f7f7f; text-decoration-color: #7f7f7f\">                </span>\n",
       "<span style=\"color: #7fbfbf; text-decoration-color: #7fbfbf\">           </span><span style=\"font-weight: bold\">}</span>                                                                                       <span style=\"color: #7f7f7f; text-decoration-color: #7f7f7f\">                </span>\n",
       "</pre>\n"
      ],
      "text/plain": [
       "\u001b[2;36m[20:24:45]\u001b[0m\u001b[2;36m \u001b[0mIssuer public key JWK:                                                                  \u001b]8;id=201548;file:///tmp/ipykernel_29926/3472563506.py\u001b\\\u001b[2m3472563506.py\u001b[0m\u001b]8;;\u001b\\\u001b[2m:\u001b[0m\u001b]8;id=208192;file:///tmp/ipykernel_29926/3472563506.py#15\u001b\\\u001b[2m15\u001b[0m\u001b]8;;\u001b\\\n",
       "\u001b[2;36m           \u001b[0m\u001b[1m{\u001b[0m                                                                                       \u001b[2m                \u001b[0m\n",
       "\u001b[2;36m           \u001b[0m    \u001b[32m'kty'\u001b[0m: \u001b[32m'EC'\u001b[0m,                                                                        \u001b[2m                \u001b[0m\n",
       "\u001b[2;36m           \u001b[0m    \u001b[32m'kid'\u001b[0m: \u001b[32m'tJ7_O_Xu862O_9L4oxdBSkRotGJ2Id9smSovHtnUUo8'\u001b[0m,                               \u001b[2m                \u001b[0m\n",
       "\u001b[2;36m           \u001b[0m    \u001b[32m'crv'\u001b[0m: \u001b[32m'P-256'\u001b[0m,                                                                     \u001b[2m                \u001b[0m\n",
       "\u001b[2;36m           \u001b[0m    \u001b[32m'x'\u001b[0m: \u001b[32m'PTKECXSeSzIRRjYBKPECaRBRp1VH_g2EztKLJf8jpVc'\u001b[0m,                                 \u001b[2m                \u001b[0m\n",
       "\u001b[2;36m           \u001b[0m    \u001b[32m'y'\u001b[0m: \u001b[32m'HHpPqdZ8P0ZVz9CSryp7FvmtTTnNImmlQuiatJncoNM'\u001b[0m                                  \u001b[2m                \u001b[0m\n",
       "\u001b[2;36m           \u001b[0m\u001b[1m}\u001b[0m                                                                                       \u001b[2m                \u001b[0m\n"
      ]
     },
     "metadata": {},
     "output_type": "display_data"
    }
   ],
   "source": [
    "import dataclasses\n",
    "import asyncio\n",
    "import json\n",
    "from rich.console import Console\n",
    "from ebsi_wallet.did_key import KeyDid, PublicKeyJWK\n",
    "\n",
    "console = Console()\n",
    "loop = asyncio.get_event_loop()\n",
    "\n",
    "# Generate did:key identifier and associated public and privatekey pairs from the cryptographic seed.\n",
    "cryptographic_seed = b'helloworld'\n",
    "issuer_did = KeyDid(seed=cryptographic_seed)\n",
    "issuer_did.create_keypair()\n",
    "\n",
    "console.log('Issuer public key JWK:', issuer_did.public_key_jwk)"
   ]
  },
  {
   "attachments": {},
   "cell_type": "markdown",
   "metadata": {},
   "source": [
    "## Claims to be issued"
   ]
  },
  {
   "cell_type": "code",
   "execution_count": 2,
   "metadata": {},
   "outputs": [
    {
     "data": {
      "text/html": [
       "<pre style=\"white-space:pre;overflow-x:auto;line-height:normal;font-family:Menlo,'DejaVu Sans Mono',consolas,'Courier New',monospace\"><span style=\"color: #7fbfbf; text-decoration-color: #7fbfbf\">           </span>Certificate of Registration claims to be issued:                                        <a href=\"file:///tmp/ipykernel_29926/1992885474.py\" target=\"_blank\"><span style=\"color: #7f7f7f; text-decoration-color: #7f7f7f\">1992885474.py</span></a><span style=\"color: #7f7f7f; text-decoration-color: #7f7f7f\">:</span><a href=\"file:///tmp/ipykernel_29926/1992885474.py#18\" target=\"_blank\"><span style=\"color: #7f7f7f; text-decoration-color: #7f7f7f\">18</span></a>\n",
       "<span style=\"color: #7fbfbf; text-decoration-color: #7fbfbf\">           </span><span style=\"font-weight: bold\">{</span>                                                                                       <span style=\"color: #7f7f7f; text-decoration-color: #7f7f7f\">                </span>\n",
       "<span style=\"color: #7fbfbf; text-decoration-color: #7fbfbf\">           </span>    <span style=\"color: #008000; text-decoration-color: #008000\">'legalStatus'</span>: <span style=\"color: #008000; text-decoration-color: #008000\">'ACTIVE'</span>,                                                            <span style=\"color: #7f7f7f; text-decoration-color: #7f7f7f\">                </span>\n",
       "<span style=\"color: #7fbfbf; text-decoration-color: #7fbfbf\">           </span>    <span style=\"color: #008000; text-decoration-color: #008000\">'legalForm'</span>: <span style=\"color: #008000; text-decoration-color: #008000\">'Aktiebolag'</span>,                                                          <span style=\"color: #7f7f7f; text-decoration-color: #7f7f7f\">                </span>\n",
       "<span style=\"color: #7fbfbf; text-decoration-color: #7fbfbf\">           </span>    <span style=\"color: #008000; text-decoration-color: #008000\">'activity'</span>: <span style=\"color: #008000; text-decoration-color: #008000\">'Real Estate'</span>,                                                          <span style=\"color: #7f7f7f; text-decoration-color: #7f7f7f\">                </span>\n",
       "<span style=\"color: #7fbfbf; text-decoration-color: #7fbfbf\">           </span>    <span style=\"color: #008000; text-decoration-color: #008000\">'orgNumber'</span>: <span style=\"color: #008000; text-decoration-color: #008000\">'559133-2720'</span>,                                                         <span style=\"color: #7f7f7f; text-decoration-color: #7f7f7f\">                </span>\n",
       "<span style=\"color: #7fbfbf; text-decoration-color: #7fbfbf\">           </span>    <span style=\"color: #008000; text-decoration-color: #008000\">'registrationDate'</span>: <span style=\"color: #008000; text-decoration-color: #008000\">'2005-10-08'</span>,                                                   <span style=\"color: #7f7f7f; text-decoration-color: #7f7f7f\">                </span>\n",
       "<span style=\"color: #7fbfbf; text-decoration-color: #7fbfbf\">           </span>    <span style=\"color: #008000; text-decoration-color: #008000\">'registeredAddress'</span>: <span style=\"font-weight: bold\">{</span>                                                              <span style=\"color: #7f7f7f; text-decoration-color: #7f7f7f\">                </span>\n",
       "<span style=\"color: #7fbfbf; text-decoration-color: #7fbfbf\">           </span>        <span style=\"color: #008000; text-decoration-color: #008000\">'fullAddress'</span>: <span style=\"color: #008000; text-decoration-color: #008000\">'123 Main St'</span>,                                                   <span style=\"color: #7f7f7f; text-decoration-color: #7f7f7f\">                </span>\n",
       "<span style=\"color: #7fbfbf; text-decoration-color: #7fbfbf\">           </span>        <span style=\"color: #008000; text-decoration-color: #008000\">'thoroughFare'</span>: <span style=\"color: #008000; text-decoration-color: #008000\">'Sveavägen'</span>,                                                    <span style=\"color: #7f7f7f; text-decoration-color: #7f7f7f\">                </span>\n",
       "<span style=\"color: #7fbfbf; text-decoration-color: #7fbfbf\">           </span>        <span style=\"color: #008000; text-decoration-color: #008000\">'postName'</span>: <span style=\"color: #008000; text-decoration-color: #008000\">'Stockholm'</span>,                                                        <span style=\"color: #7f7f7f; text-decoration-color: #7f7f7f\">                </span>\n",
       "<span style=\"color: #7fbfbf; text-decoration-color: #7fbfbf\">           </span>        <span style=\"color: #008000; text-decoration-color: #008000\">'locatorDesignator'</span>: <span style=\"color: #008000; text-decoration-color: #008000\">'111 34'</span>,                                                  <span style=\"color: #7f7f7f; text-decoration-color: #7f7f7f\">                </span>\n",
       "<span style=\"color: #7fbfbf; text-decoration-color: #7fbfbf\">           </span>        <span style=\"color: #008000; text-decoration-color: #008000\">'code'</span>: <span style=\"color: #008000; text-decoration-color: #008000\">'48'</span>,                                                                   <span style=\"color: #7f7f7f; text-decoration-color: #7f7f7f\">                </span>\n",
       "<span style=\"color: #7fbfbf; text-decoration-color: #7fbfbf\">           </span>        <span style=\"color: #008000; text-decoration-color: #008000\">'adminUnitLevel1'</span>: <span style=\"color: #008000; text-decoration-color: #008000\">'SE'</span>                                                         <span style=\"color: #7f7f7f; text-decoration-color: #7f7f7f\">                </span>\n",
       "<span style=\"color: #7fbfbf; text-decoration-color: #7fbfbf\">           </span>    <span style=\"font-weight: bold\">}</span>,                                                                                  <span style=\"color: #7f7f7f; text-decoration-color: #7f7f7f\">                </span>\n",
       "<span style=\"color: #7fbfbf; text-decoration-color: #7fbfbf\">           </span>    <span style=\"color: #008000; text-decoration-color: #008000\">'attestationValidity'</span>: <span style=\"color: #008000; text-decoration-color: #008000\">'31-Dec-2022'</span>                                                <span style=\"color: #7f7f7f; text-decoration-color: #7f7f7f\">                </span>\n",
       "<span style=\"color: #7fbfbf; text-decoration-color: #7fbfbf\">           </span><span style=\"font-weight: bold\">}</span>                                                                                       <span style=\"color: #7f7f7f; text-decoration-color: #7f7f7f\">                </span>\n",
       "</pre>\n"
      ],
      "text/plain": [
       "\u001b[2;36m          \u001b[0m\u001b[2;36m \u001b[0mCertificate of Registration claims to be issued:                                        \u001b]8;id=462632;file:///tmp/ipykernel_29926/1992885474.py\u001b\\\u001b[2m1992885474.py\u001b[0m\u001b]8;;\u001b\\\u001b[2m:\u001b[0m\u001b]8;id=495120;file:///tmp/ipykernel_29926/1992885474.py#18\u001b\\\u001b[2m18\u001b[0m\u001b]8;;\u001b\\\n",
       "\u001b[2;36m           \u001b[0m\u001b[1m{\u001b[0m                                                                                       \u001b[2m                \u001b[0m\n",
       "\u001b[2;36m           \u001b[0m    \u001b[32m'legalStatus'\u001b[0m: \u001b[32m'ACTIVE'\u001b[0m,                                                            \u001b[2m                \u001b[0m\n",
       "\u001b[2;36m           \u001b[0m    \u001b[32m'legalForm'\u001b[0m: \u001b[32m'Aktiebolag'\u001b[0m,                                                          \u001b[2m                \u001b[0m\n",
       "\u001b[2;36m           \u001b[0m    \u001b[32m'activity'\u001b[0m: \u001b[32m'Real Estate'\u001b[0m,                                                          \u001b[2m                \u001b[0m\n",
       "\u001b[2;36m           \u001b[0m    \u001b[32m'orgNumber'\u001b[0m: \u001b[32m'559133-2720'\u001b[0m,                                                         \u001b[2m                \u001b[0m\n",
       "\u001b[2;36m           \u001b[0m    \u001b[32m'registrationDate'\u001b[0m: \u001b[32m'2005-10-08'\u001b[0m,                                                   \u001b[2m                \u001b[0m\n",
       "\u001b[2;36m           \u001b[0m    \u001b[32m'registeredAddress'\u001b[0m: \u001b[1m{\u001b[0m                                                              \u001b[2m                \u001b[0m\n",
       "\u001b[2;36m           \u001b[0m        \u001b[32m'fullAddress'\u001b[0m: \u001b[32m'123 Main St'\u001b[0m,                                                   \u001b[2m                \u001b[0m\n",
       "\u001b[2;36m           \u001b[0m        \u001b[32m'thoroughFare'\u001b[0m: \u001b[32m'Sveavägen'\u001b[0m,                                                    \u001b[2m                \u001b[0m\n",
       "\u001b[2;36m           \u001b[0m        \u001b[32m'postName'\u001b[0m: \u001b[32m'Stockholm'\u001b[0m,                                                        \u001b[2m                \u001b[0m\n",
       "\u001b[2;36m           \u001b[0m        \u001b[32m'locatorDesignator'\u001b[0m: \u001b[32m'111 34'\u001b[0m,                                                  \u001b[2m                \u001b[0m\n",
       "\u001b[2;36m           \u001b[0m        \u001b[32m'code'\u001b[0m: \u001b[32m'48'\u001b[0m,                                                                   \u001b[2m                \u001b[0m\n",
       "\u001b[2;36m           \u001b[0m        \u001b[32m'adminUnitLevel1'\u001b[0m: \u001b[32m'SE'\u001b[0m                                                         \u001b[2m                \u001b[0m\n",
       "\u001b[2;36m           \u001b[0m    \u001b[1m}\u001b[0m,                                                                                  \u001b[2m                \u001b[0m\n",
       "\u001b[2;36m           \u001b[0m    \u001b[32m'attestationValidity'\u001b[0m: \u001b[32m'31-Dec-2022'\u001b[0m                                                \u001b[2m                \u001b[0m\n",
       "\u001b[2;36m           \u001b[0m\u001b[1m}\u001b[0m                                                                                       \u001b[2m                \u001b[0m\n"
      ]
     },
     "metadata": {},
     "output_type": "display_data"
    }
   ],
   "source": [
    "certificate_of_registration_claims = {\n",
    "  \"legalStatus\": \"ACTIVE\",\n",
    "  \"legalForm\": \"Aktiebolag\",\n",
    "  \"activity\": \"Real Estate\",\n",
    "  \"orgNumber\": \"559133-2720\",\n",
    "  \"registrationDate\": \"2005-10-08\",\n",
    "  \"registeredAddress\": {\n",
    "    \"fullAddress\": \"123 Main St\",\n",
    "    \"thoroughFare\": \"Sveavägen\",\n",
    "    \"postName\": \"Stockholm\",\n",
    "    \"locatorDesignator\": \"111 34\",\n",
    "    \"code\": \"48\",\n",
    "    \"adminUnitLevel1\": \"SE\"\n",
    "  },\n",
    "  \"attestationValidity\": \"31-Dec-2022\"\n",
    "}\n",
    "\n",
    "console.log(\"Certificate of Registration claims to be issued: \", certificate_of_registration_claims)"
   ]
  },
  {
   "attachments": {},
   "cell_type": "markdown",
   "metadata": {},
   "source": [
    "## Calculate full disclosure for claims to be issued"
   ]
  },
  {
   "cell_type": "code",
   "execution_count": 3,
   "metadata": {},
   "outputs": [
    {
     "data": {
      "text/html": [
       "<pre style=\"white-space:pre;overflow-x:auto;line-height:normal;font-family:Menlo,'DejaVu Sans Mono',consolas,'Courier New',monospace\"><span style=\"color: #7fbfbf; text-decoration-color: #7fbfbf\">           </span>Disclosure:                                                                              <a href=\"file:///tmp/ipykernel_29926/2974318599.py\" target=\"_blank\"><span style=\"color: #7f7f7f; text-decoration-color: #7f7f7f\">2974318599.py</span></a><span style=\"color: #7f7f7f; text-decoration-color: #7f7f7f\">:</span><a href=\"file:///tmp/ipykernel_29926/2974318599.py#5\" target=\"_blank\"><span style=\"color: #7f7f7f; text-decoration-color: #7f7f7f\">5</span></a>\n",
       "<span style=\"color: #7fbfbf; text-decoration-color: #7fbfbf\">           </span>eyJsZWdhbFN0YXR1cyI6ICJBQ1RJVkUiLCAibGVnYWxGb3JtIjogIkFrdGllYm9sYWciLCAiYWN0aXZpdHkiOiAi <span style=\"color: #7f7f7f; text-decoration-color: #7f7f7f\">               </span>\n",
       "<span style=\"color: #7fbfbf; text-decoration-color: #7fbfbf\">           </span>UmVhbCBFc3RhdGUiLCAib3JnTnVtYmVyIjogIjU1OTEzMy0yNzIwIiwgInJlZ2lzdHJhdGlvbkRhdGUiOiAiMjAw <span style=\"color: #7f7f7f; text-decoration-color: #7f7f7f\">               </span>\n",
       "<span style=\"color: #7fbfbf; text-decoration-color: #7fbfbf\">           </span>NS<span style=\"color: #008080; text-decoration-color: #008080; font-weight: bold\">0x</span>MC0wOCIsICJyZWdpc3RlcmVkQWRkcmVzcyI6IHsiZnVsbEFkZHJlc3MiOiAiMTIzIE1haW4gU3QiLCAidGhv <span style=\"color: #7f7f7f; text-decoration-color: #7f7f7f\">               </span>\n",
       "<span style=\"color: #7fbfbf; text-decoration-color: #7fbfbf\">           </span>cm91Z2hGYXJlIjogIlN2ZWF2XHUwMGU0Z2VuIiwgInBvc3ROYW1lIjogIlN0b2NraG9sbSIsICJsb2NhdG9yRGVz <span style=\"color: #7f7f7f; text-decoration-color: #7f7f7f\">               </span>\n",
       "<span style=\"color: #7fbfbf; text-decoration-color: #7fbfbf\">           </span>aWduYXRvciI6ICIxMTEgMzQiLCAiY29kZSI6ICI0OCIsICJhZG1pblVuaXRMZXZlbDEiOiAiU0UifSwgImF0dGVz <span style=\"color: #7f7f7f; text-decoration-color: #7f7f7f\">               </span>\n",
       "<span style=\"color: #7fbfbf; text-decoration-color: #7fbfbf\">           </span>dGF0aW9uVmFsaWRpdHkiOiAiMzEtRGVjLTIwMjIifQ                                               <span style=\"color: #7f7f7f; text-decoration-color: #7f7f7f\">               </span>\n",
       "</pre>\n"
      ],
      "text/plain": [
       "\u001b[2;36m          \u001b[0m\u001b[2;36m \u001b[0mDisclosure:                                                                              \u001b]8;id=360829;file:///tmp/ipykernel_29926/2974318599.py\u001b\\\u001b[2m2974318599.py\u001b[0m\u001b]8;;\u001b\\\u001b[2m:\u001b[0m\u001b]8;id=631420;file:///tmp/ipykernel_29926/2974318599.py#5\u001b\\\u001b[2m5\u001b[0m\u001b]8;;\u001b\\\n",
       "\u001b[2;36m           \u001b[0meyJsZWdhbFN0YXR1cyI6ICJBQ1RJVkUiLCAibGVnYWxGb3JtIjogIkFrdGllYm9sYWciLCAiYWN0aXZpdHkiOiAi \u001b[2m               \u001b[0m\n",
       "\u001b[2;36m           \u001b[0mUmVhbCBFc3RhdGUiLCAib3JnTnVtYmVyIjogIjU1OTEzMy0yNzIwIiwgInJlZ2lzdHJhdGlvbkRhdGUiOiAiMjAw \u001b[2m               \u001b[0m\n",
       "\u001b[2;36m           \u001b[0mNS\u001b[1;36m0x\u001b[0mMC0wOCIsICJyZWdpc3RlcmVkQWRkcmVzcyI6IHsiZnVsbEFkZHJlc3MiOiAiMTIzIE1haW4gU3QiLCAidGhv \u001b[2m               \u001b[0m\n",
       "\u001b[2;36m           \u001b[0mcm91Z2hGYXJlIjogIlN2ZWF2XHUwMGU0Z2VuIiwgInBvc3ROYW1lIjogIlN0b2NraG9sbSIsICJsb2NhdG9yRGVz \u001b[2m               \u001b[0m\n",
       "\u001b[2;36m           \u001b[0maWduYXRvciI6ICIxMTEgMzQiLCAiY29kZSI6ICI0OCIsICJhZG1pblVuaXRMZXZlbDEiOiAiU0UifSwgImF0dGVz \u001b[2m               \u001b[0m\n",
       "\u001b[2;36m           \u001b[0mdGF0aW9uVmFsaWRpdHkiOiAiMzEtRGVjLTIwMjIifQ                                               \u001b[2m               \u001b[0m\n"
      ]
     },
     "metadata": {},
     "output_type": "display_data"
    }
   ],
   "source": [
    "import json\n",
    "import base64\n",
    "\n",
    "disclosure = base64.urlsafe_b64encode(json.dumps(certificate_of_registration_claims).encode('utf-8')).decode('utf-8').rstrip(\"=\")\n",
    "console.log(\"Disclosure: \", disclosure)"
   ]
  },
  {
   "attachments": {},
   "cell_type": "markdown",
   "metadata": {},
   "source": [
    "## Calculate disclosure SHA-256 digest"
   ]
  },
  {
   "cell_type": "code",
   "execution_count": 4,
   "metadata": {},
   "outputs": [
    {
     "data": {
      "text/html": [
       "<pre style=\"white-space:pre;overflow-x:auto;line-height:normal;font-family:Menlo,'DejaVu Sans Mono',consolas,'Courier New',monospace\"><span style=\"color: #7fbfbf; text-decoration-color: #7fbfbf\">           </span>Disclosure SHA-<span style=\"color: #008080; text-decoration-color: #008080; font-weight: bold\">256</span>:  JhDIF1oJsAhyPf4p9p97h6iSEH5Nfbj7eq_L8tXHfsY                         <a href=\"file:///tmp/ipykernel_29926/2709858298.py\" target=\"_blank\"><span style=\"color: #7f7f7f; text-decoration-color: #7f7f7f\">2709858298.py</span></a><span style=\"color: #7f7f7f; text-decoration-color: #7f7f7f\">:</span><a href=\"file:///tmp/ipykernel_29926/2709858298.py#9\" target=\"_blank\"><span style=\"color: #7f7f7f; text-decoration-color: #7f7f7f\">9</span></a>\n",
       "</pre>\n"
      ],
      "text/plain": [
       "\u001b[2;36m          \u001b[0m\u001b[2;36m \u001b[0mDisclosure SHA-\u001b[1;36m256\u001b[0m:  JhDIF1oJsAhyPf4p9p97h6iSEH5Nfbj7eq_L8tXHfsY                         \u001b]8;id=669524;file:///tmp/ipykernel_29926/2709858298.py\u001b\\\u001b[2m2709858298.py\u001b[0m\u001b]8;;\u001b\\\u001b[2m:\u001b[0m\u001b]8;id=188720;file:///tmp/ipykernel_29926/2709858298.py#9\u001b\\\u001b[2m9\u001b[0m\u001b]8;;\u001b\\\n"
      ]
     },
     "metadata": {},
     "output_type": "display_data"
    }
   ],
   "source": [
    "import hashlib\n",
    "import base64\n",
    "\n",
    "sha256_hash = hashlib.sha256()\n",
    "sha256_hash.update(disclosure.encode('utf-8'))\n",
    "sha256_digest = sha256_hash.digest()\n",
    "\n",
    "disclosure_sha_256 = base64.urlsafe_b64encode(sha256_digest).decode('utf-8').rstrip(\"=\")\n",
    "console.log(\"Disclosure SHA-256: \", disclosure_sha_256)"
   ]
  },
  {
   "attachments": {},
   "cell_type": "markdown",
   "metadata": {},
   "source": [
    "## Create SD-JWT"
   ]
  },
  {
   "cell_type": "code",
   "execution_count": 10,
   "metadata": {},
   "outputs": [
    {
     "data": {
      "text/html": [
       "<pre style=\"white-space:pre;overflow-x:auto;line-height:normal;font-family:Menlo,'DejaVu Sans Mono',consolas,'Courier New',monospace\"><span style=\"color: #7fbfbf; text-decoration-color: #7fbfbf\">[20:30:20] </span>SD-JWT:                                                                                  <a href=\"file:///tmp/ipykernel_29926/1335579605.py\" target=\"_blank\"><span style=\"color: #7f7f7f; text-decoration-color: #7f7f7f\">1335579605.py</span></a><span style=\"color: #7f7f7f; text-decoration-color: #7f7f7f\">:</span><a href=\"file:///tmp/ipykernel_29926/1335579605.py#7\" target=\"_blank\"><span style=\"color: #7f7f7f; text-decoration-color: #7f7f7f\">7</span></a>\n",
       "<span style=\"color: #7fbfbf; text-decoration-color: #7fbfbf\">           </span>eyJhbGciOiJFUzI1NiJ9.eyJfc2QiOlsiSmhESUYxb0pzQWh5UGY0cDlwOTdoNmlTRUg1TmZiajdlcV9MOHRYSGZ <span style=\"color: #7f7f7f; text-decoration-color: #7f7f7f\">               </span>\n",
       "<span style=\"color: #7fbfbf; text-decoration-color: #7fbfbf\">           </span>zWSJdLCJfc2RfYWxnIjoic2hhLTI1NiIsImNuZiI6eyJqd2siOnsiY3J2IjoiUC0yNTYiLCJraWQiOiJ0SjdfT19 <span style=\"color: #7f7f7f; text-decoration-color: #7f7f7f\">               </span>\n",
       "<span style=\"color: #7fbfbf; text-decoration-color: #7fbfbf\">           </span>YdTg2Mk9fOUw0b3hkQlNrUm90R0oySWQ5c21Tb3ZIdG5VVW84Iiwia3R5IjoiRUMiLCJ4IjoiUFRLRUNYU2VTekl <span style=\"color: #7f7f7f; text-decoration-color: #7f7f7f\">               </span>\n",
       "<span style=\"color: #7fbfbf; text-decoration-color: #7fbfbf\">           </span>SUmpZQktQRUNhUkJScDFWSF9nMkV6dEtMSmY4anBWYyIsInkiOiJISHBQcWRaOFAwWlZ6OUNTcnlwN0Z2bXRUVG5 <span style=\"color: #7f7f7f; text-decoration-color: #7f7f7f\">               </span>\n",
       "<span style=\"color: #7fbfbf; text-decoration-color: #7fbfbf\">           </span>OSW1tbFF1aWF0Sm5jb05NIn19LCJleHAiOjE2ODcyNzY4MjAsImlhdCI6MTY4NzI3MzIyMCwiaXNzIjoiaHR0cHM <span style=\"color: #7f7f7f; text-decoration-color: #7f7f7f\">               </span>\n",
       "<span style=\"color: #7fbfbf; text-decoration-color: #7fbfbf\">           </span>6Ly9pc3N1ZXIuaWdyYW50LmlvIn0.Qny6zBvDu5GKgDz52-06oEl4y2UUDhzLhoPSt7DDuD76Yxdwe7crOfoCw4D <span style=\"color: #7f7f7f; text-decoration-color: #7f7f7f\">               </span>\n",
       "<span style=\"color: #7fbfbf; text-decoration-color: #7fbfbf\">           </span>A73qgy8uNFAnN98hsZ4m8rzgXJw                                                              <span style=\"color: #7f7f7f; text-decoration-color: #7f7f7f\">               </span>\n",
       "</pre>\n"
      ],
      "text/plain": [
       "\u001b[2;36m[20:30:20]\u001b[0m\u001b[2;36m \u001b[0mSD-JWT:                                                                                  \u001b]8;id=404611;file:///tmp/ipykernel_29926/1335579605.py\u001b\\\u001b[2m1335579605.py\u001b[0m\u001b]8;;\u001b\\\u001b[2m:\u001b[0m\u001b]8;id=691273;file:///tmp/ipykernel_29926/1335579605.py#7\u001b\\\u001b[2m7\u001b[0m\u001b]8;;\u001b\\\n",
       "\u001b[2;36m           \u001b[0meyJhbGciOiJFUzI1NiJ9.eyJfc2QiOlsiSmhESUYxb0pzQWh5UGY0cDlwOTdoNmlTRUg1TmZiajdlcV9MOHRYSGZ \u001b[2m               \u001b[0m\n",
       "\u001b[2;36m           \u001b[0mzWSJdLCJfc2RfYWxnIjoic2hhLTI1NiIsImNuZiI6eyJqd2siOnsiY3J2IjoiUC0yNTYiLCJraWQiOiJ0SjdfT19 \u001b[2m               \u001b[0m\n",
       "\u001b[2;36m           \u001b[0mYdTg2Mk9fOUw0b3hkQlNrUm90R0oySWQ5c21Tb3ZIdG5VVW84Iiwia3R5IjoiRUMiLCJ4IjoiUFRLRUNYU2VTekl \u001b[2m               \u001b[0m\n",
       "\u001b[2;36m           \u001b[0mSUmpZQktQRUNhUkJScDFWSF9nMkV6dEtMSmY4anBWYyIsInkiOiJISHBQcWRaOFAwWlZ6OUNTcnlwN0Z2bXRUVG5 \u001b[2m               \u001b[0m\n",
       "\u001b[2;36m           \u001b[0mOSW1tbFF1aWF0Sm5jb05NIn19LCJleHAiOjE2ODcyNzY4MjAsImlhdCI6MTY4NzI3MzIyMCwiaXNzIjoiaHR0cHM \u001b[2m               \u001b[0m\n",
       "\u001b[2;36m           \u001b[0m6Ly9pc3N1ZXIuaWdyYW50LmlvIn0.Qny6zBvDu5GKgDz52-06oEl4y2UUDhzLhoPSt7DDuD76Yxdwe7crOfoCw4D \u001b[2m               \u001b[0m\n",
       "\u001b[2;36m           \u001b[0mA73qgy8uNFAnN98hsZ4m8rzgXJw                                                              \u001b[2m               \u001b[0m\n"
      ]
     },
     "metadata": {},
     "output_type": "display_data"
    },
    {
     "data": {
      "text/html": [
       "<pre style=\"white-space:pre;overflow-x:auto;line-height:normal;font-family:Menlo,'DejaVu Sans Mono',consolas,'Courier New',monospace\"><span style=\"color: #7fbfbf; text-decoration-color: #7fbfbf\">           </span>SD-JWT payload:                                                                         <a href=\"file:///tmp/ipykernel_29926/1335579605.py\" target=\"_blank\"><span style=\"color: #7f7f7f; text-decoration-color: #7f7f7f\">1335579605.py</span></a><span style=\"color: #7f7f7f; text-decoration-color: #7f7f7f\">:</span><a href=\"file:///tmp/ipykernel_29926/1335579605.py#10\" target=\"_blank\"><span style=\"color: #7f7f7f; text-decoration-color: #7f7f7f\">10</span></a>\n",
       "<span style=\"color: #7fbfbf; text-decoration-color: #7fbfbf\">           </span><span style=\"font-weight: bold\">{</span>                                                                                       <span style=\"color: #7f7f7f; text-decoration-color: #7f7f7f\">                </span>\n",
       "<span style=\"color: #7fbfbf; text-decoration-color: #7fbfbf\">           </span>    <span style=\"color: #008000; text-decoration-color: #008000\">'_sd'</span>: <span style=\"font-weight: bold\">[</span><span style=\"color: #008000; text-decoration-color: #008000\">'JhDIF1oJsAhyPf4p9p97h6iSEH5Nfbj7eq_L8tXHfsY'</span><span style=\"font-weight: bold\">]</span>,                             <span style=\"color: #7f7f7f; text-decoration-color: #7f7f7f\">                </span>\n",
       "<span style=\"color: #7fbfbf; text-decoration-color: #7fbfbf\">           </span>    <span style=\"color: #008000; text-decoration-color: #008000\">'_sd_alg'</span>: <span style=\"color: #008000; text-decoration-color: #008000\">'sha-256'</span>,                                                               <span style=\"color: #7f7f7f; text-decoration-color: #7f7f7f\">                </span>\n",
       "<span style=\"color: #7fbfbf; text-decoration-color: #7fbfbf\">           </span>    <span style=\"color: #008000; text-decoration-color: #008000\">'cnf'</span>: <span style=\"font-weight: bold\">{</span>                                                                            <span style=\"color: #7f7f7f; text-decoration-color: #7f7f7f\">                </span>\n",
       "<span style=\"color: #7fbfbf; text-decoration-color: #7fbfbf\">           </span>        <span style=\"color: #008000; text-decoration-color: #008000\">'jwk'</span>: <span style=\"font-weight: bold\">{</span>                                                                        <span style=\"color: #7f7f7f; text-decoration-color: #7f7f7f\">                </span>\n",
       "<span style=\"color: #7fbfbf; text-decoration-color: #7fbfbf\">           </span>            <span style=\"color: #008000; text-decoration-color: #008000\">'crv'</span>: <span style=\"color: #008000; text-decoration-color: #008000\">'P-256'</span>,                                                             <span style=\"color: #7f7f7f; text-decoration-color: #7f7f7f\">                </span>\n",
       "<span style=\"color: #7fbfbf; text-decoration-color: #7fbfbf\">           </span>            <span style=\"color: #008000; text-decoration-color: #008000\">'kid'</span>: <span style=\"color: #008000; text-decoration-color: #008000\">'tJ7_O_Xu862O_9L4oxdBSkRotGJ2Id9smSovHtnUUo8'</span>,                       <span style=\"color: #7f7f7f; text-decoration-color: #7f7f7f\">                </span>\n",
       "<span style=\"color: #7fbfbf; text-decoration-color: #7fbfbf\">           </span>            <span style=\"color: #008000; text-decoration-color: #008000\">'kty'</span>: <span style=\"color: #008000; text-decoration-color: #008000\">'EC'</span>,                                                                <span style=\"color: #7f7f7f; text-decoration-color: #7f7f7f\">                </span>\n",
       "<span style=\"color: #7fbfbf; text-decoration-color: #7fbfbf\">           </span>            <span style=\"color: #008000; text-decoration-color: #008000\">'x'</span>: <span style=\"color: #008000; text-decoration-color: #008000\">'PTKECXSeSzIRRjYBKPECaRBRp1VH_g2EztKLJf8jpVc'</span>,                         <span style=\"color: #7f7f7f; text-decoration-color: #7f7f7f\">                </span>\n",
       "<span style=\"color: #7fbfbf; text-decoration-color: #7fbfbf\">           </span>            <span style=\"color: #008000; text-decoration-color: #008000\">'y'</span>: <span style=\"color: #008000; text-decoration-color: #008000\">'HHpPqdZ8P0ZVz9CSryp7FvmtTTnNImmlQuiatJncoNM'</span>                          <span style=\"color: #7f7f7f; text-decoration-color: #7f7f7f\">                </span>\n",
       "<span style=\"color: #7fbfbf; text-decoration-color: #7fbfbf\">           </span>        <span style=\"font-weight: bold\">}</span>                                                                               <span style=\"color: #7f7f7f; text-decoration-color: #7f7f7f\">                </span>\n",
       "<span style=\"color: #7fbfbf; text-decoration-color: #7fbfbf\">           </span>    <span style=\"font-weight: bold\">}</span>,                                                                                  <span style=\"color: #7f7f7f; text-decoration-color: #7f7f7f\">                </span>\n",
       "<span style=\"color: #7fbfbf; text-decoration-color: #7fbfbf\">           </span>    <span style=\"color: #008000; text-decoration-color: #008000\">'exp'</span>: <span style=\"color: #008080; text-decoration-color: #008080; font-weight: bold\">1687276820</span>,                                                                  <span style=\"color: #7f7f7f; text-decoration-color: #7f7f7f\">                </span>\n",
       "<span style=\"color: #7fbfbf; text-decoration-color: #7fbfbf\">           </span>    <span style=\"color: #008000; text-decoration-color: #008000\">'iat'</span>: <span style=\"color: #008080; text-decoration-color: #008080; font-weight: bold\">1687273220</span>,                                                                  <span style=\"color: #7f7f7f; text-decoration-color: #7f7f7f\">                </span>\n",
       "<span style=\"color: #7fbfbf; text-decoration-color: #7fbfbf\">           </span>    <span style=\"color: #008000; text-decoration-color: #008000\">'iss'</span>: <span style=\"color: #008000; text-decoration-color: #008000\">'https://issuer.igrant.io'</span>                                                   <span style=\"color: #7f7f7f; text-decoration-color: #7f7f7f\">                </span>\n",
       "<span style=\"color: #7fbfbf; text-decoration-color: #7fbfbf\">           </span><span style=\"font-weight: bold\">}</span>                                                                                       <span style=\"color: #7f7f7f; text-decoration-color: #7f7f7f\">                </span>\n",
       "</pre>\n"
      ],
      "text/plain": [
       "\u001b[2;36m          \u001b[0m\u001b[2;36m \u001b[0mSD-JWT payload:                                                                         \u001b]8;id=572119;file:///tmp/ipykernel_29926/1335579605.py\u001b\\\u001b[2m1335579605.py\u001b[0m\u001b]8;;\u001b\\\u001b[2m:\u001b[0m\u001b]8;id=780867;file:///tmp/ipykernel_29926/1335579605.py#10\u001b\\\u001b[2m10\u001b[0m\u001b]8;;\u001b\\\n",
       "\u001b[2;36m           \u001b[0m\u001b[1m{\u001b[0m                                                                                       \u001b[2m                \u001b[0m\n",
       "\u001b[2;36m           \u001b[0m    \u001b[32m'_sd'\u001b[0m: \u001b[1m[\u001b[0m\u001b[32m'JhDIF1oJsAhyPf4p9p97h6iSEH5Nfbj7eq_L8tXHfsY'\u001b[0m\u001b[1m]\u001b[0m,                             \u001b[2m                \u001b[0m\n",
       "\u001b[2;36m           \u001b[0m    \u001b[32m'_sd_alg'\u001b[0m: \u001b[32m'sha-256'\u001b[0m,                                                               \u001b[2m                \u001b[0m\n",
       "\u001b[2;36m           \u001b[0m    \u001b[32m'cnf'\u001b[0m: \u001b[1m{\u001b[0m                                                                            \u001b[2m                \u001b[0m\n",
       "\u001b[2;36m           \u001b[0m        \u001b[32m'jwk'\u001b[0m: \u001b[1m{\u001b[0m                                                                        \u001b[2m                \u001b[0m\n",
       "\u001b[2;36m           \u001b[0m            \u001b[32m'crv'\u001b[0m: \u001b[32m'P-256'\u001b[0m,                                                             \u001b[2m                \u001b[0m\n",
       "\u001b[2;36m           \u001b[0m            \u001b[32m'kid'\u001b[0m: \u001b[32m'tJ7_O_Xu862O_9L4oxdBSkRotGJ2Id9smSovHtnUUo8'\u001b[0m,                       \u001b[2m                \u001b[0m\n",
       "\u001b[2;36m           \u001b[0m            \u001b[32m'kty'\u001b[0m: \u001b[32m'EC'\u001b[0m,                                                                \u001b[2m                \u001b[0m\n",
       "\u001b[2;36m           \u001b[0m            \u001b[32m'x'\u001b[0m: \u001b[32m'PTKECXSeSzIRRjYBKPECaRBRp1VH_g2EztKLJf8jpVc'\u001b[0m,                         \u001b[2m                \u001b[0m\n",
       "\u001b[2;36m           \u001b[0m            \u001b[32m'y'\u001b[0m: \u001b[32m'HHpPqdZ8P0ZVz9CSryp7FvmtTTnNImmlQuiatJncoNM'\u001b[0m                          \u001b[2m                \u001b[0m\n",
       "\u001b[2;36m           \u001b[0m        \u001b[1m}\u001b[0m                                                                               \u001b[2m                \u001b[0m\n",
       "\u001b[2;36m           \u001b[0m    \u001b[1m}\u001b[0m,                                                                                  \u001b[2m                \u001b[0m\n",
       "\u001b[2;36m           \u001b[0m    \u001b[32m'exp'\u001b[0m: \u001b[1;36m1687276820\u001b[0m,                                                                  \u001b[2m                \u001b[0m\n",
       "\u001b[2;36m           \u001b[0m    \u001b[32m'iat'\u001b[0m: \u001b[1;36m1687273220\u001b[0m,                                                                  \u001b[2m                \u001b[0m\n",
       "\u001b[2;36m           \u001b[0m    \u001b[32m'iss'\u001b[0m: \u001b[32m'https://issuer.igrant.io'\u001b[0m                                                   \u001b[2m                \u001b[0m\n",
       "\u001b[2;36m           \u001b[0m\u001b[1m}\u001b[0m                                                                                       \u001b[2m                \u001b[0m\n"
      ]
     },
     "metadata": {},
     "output_type": "display_data"
    },
    {
     "data": {
      "text/html": [
       "<pre style=\"white-space:pre;overflow-x:auto;line-height:normal;font-family:Menlo,'DejaVu Sans Mono',consolas,'Courier New',monospace\"><span style=\"color: #7fbfbf; text-decoration-color: #7fbfbf\">           </span>SD-JWT header:                                                                          <a href=\"file:///tmp/ipykernel_29926/1335579605.py\" target=\"_blank\"><span style=\"color: #7f7f7f; text-decoration-color: #7f7f7f\">1335579605.py</span></a><span style=\"color: #7f7f7f; text-decoration-color: #7f7f7f\">:</span><a href=\"file:///tmp/ipykernel_29926/1335579605.py#11\" target=\"_blank\"><span style=\"color: #7f7f7f; text-decoration-color: #7f7f7f\">11</span></a>\n",
       "<span style=\"color: #7fbfbf; text-decoration-color: #7fbfbf\">           </span><span style=\"font-weight: bold\">{</span><span style=\"color: #008000; text-decoration-color: #008000\">'alg'</span>: <span style=\"color: #008000; text-decoration-color: #008000\">'ES256'</span><span style=\"font-weight: bold\">}</span>                                                                        <span style=\"color: #7f7f7f; text-decoration-color: #7f7f7f\">                </span>\n",
       "</pre>\n"
      ],
      "text/plain": [
       "\u001b[2;36m          \u001b[0m\u001b[2;36m \u001b[0mSD-JWT header:                                                                          \u001b]8;id=525943;file:///tmp/ipykernel_29926/1335579605.py\u001b\\\u001b[2m1335579605.py\u001b[0m\u001b]8;;\u001b\\\u001b[2m:\u001b[0m\u001b]8;id=895992;file:///tmp/ipykernel_29926/1335579605.py#11\u001b\\\u001b[2m11\u001b[0m\u001b]8;;\u001b\\\n",
       "\u001b[2;36m           \u001b[0m\u001b[1m{\u001b[0m\u001b[32m'alg'\u001b[0m: \u001b[32m'ES256'\u001b[0m\u001b[1m}\u001b[0m                                                                        \u001b[2m                \u001b[0m\n"
      ]
     },
     "metadata": {},
     "output_type": "display_data"
    }
   ],
   "source": [
    "import json\n",
    "from jwcrypto import jwt\n",
    "\n",
    "_sd = [disclosure_sha_256]\n",
    "sd_jwt = issuer_did.generate_sd_jwt(_sd)\n",
    "\n",
    "console.log(\"SD-JWT: \", sd_jwt)\n",
    "\n",
    "sd_jwt_deserialised = jwt.JWT(key=issuer_did._key, jwt=sd_jwt)\n",
    "console.log(\"SD-JWT payload: \", json.loads(sd_jwt_deserialised.claims))\n",
    "console.log(\"SD-JWT header: \",  json.loads(sd_jwt_deserialised.header))"
   ]
  },
  {
   "attachments": {},
   "cell_type": "markdown",
   "metadata": {},
   "source": [
    "## Create combined format for issuance (a.k.a issue credential to holder)\n",
    "\n",
    "*Note: Format is `<SD-JWT>~<Disclosure 1>~<Disclosure 2>~...~<Disclosure N>`*"
   ]
  },
  {
   "cell_type": "code",
   "execution_count": 11,
   "metadata": {},
   "outputs": [
    {
     "data": {
      "text/html": [
       "<pre style=\"white-space:pre;overflow-x:auto;line-height:normal;font-family:Menlo,'DejaVu Sans Mono',consolas,'Courier New',monospace\"><span style=\"color: #7fbfbf; text-decoration-color: #7fbfbf\">[20:31:52] </span>Combined format for issuance <span style=\"font-weight: bold\">(&lt;</span><span style=\"color: #ff00ff; text-decoration-color: #ff00ff; font-weight: bold\">SD-JWT</span><span style=\"font-weight: bold\">&gt;</span>~<span style=\"font-weight: bold\">&lt;</span><span style=\"color: #ff00ff; text-decoration-color: #ff00ff; font-weight: bold\">Disclosure</span><span style=\"color: #000000; text-decoration-color: #000000\"> </span><span style=\"color: #008080; text-decoration-color: #008080; font-weight: bold\">1</span><span style=\"font-weight: bold\">&gt;</span>~<span style=\"font-weight: bold\">&lt;</span><span style=\"color: #ff00ff; text-decoration-color: #ff00ff; font-weight: bold\">Disclosure</span><span style=\"color: #000000; text-decoration-color: #000000\"> </span><span style=\"color: #008080; text-decoration-color: #008080; font-weight: bold\">2</span><span style=\"font-weight: bold\">&gt;</span>~<span style=\"color: #808000; text-decoration-color: #808000\">...</span>~<span style=\"font-weight: bold\">&lt;</span><span style=\"color: #ff00ff; text-decoration-color: #ff00ff; font-weight: bold\">Disclosure</span><span style=\"color: #000000; text-decoration-color: #000000\"> N</span><span style=\"font-weight: bold\">&gt;)</span> <a href=\"file:///tmp/ipykernel_29926/3174722539.py\" target=\"_blank\"><span style=\"color: #7f7f7f; text-decoration-color: #7f7f7f\">3174722539.py</span></a><span style=\"color: #7f7f7f; text-decoration-color: #7f7f7f\">:</span><a href=\"file:///tmp/ipykernel_29926/3174722539.py#2\" target=\"_blank\"><span style=\"color: #7f7f7f; text-decoration-color: #7f7f7f\">2</span></a>\n",
       "<span style=\"color: #7fbfbf; text-decoration-color: #7fbfbf\">           </span>:                                                                                        <span style=\"color: #7f7f7f; text-decoration-color: #7f7f7f\">               </span>\n",
       "<span style=\"color: #7fbfbf; text-decoration-color: #7fbfbf\">           </span>eyJhbGciOiJFUzI1NiJ9.eyJfc2QiOlsiSmhESUYxb0pzQWh5UGY0cDlwOTdoNmlTRUg1TmZiajdlcV9MOHRYSGZ <span style=\"color: #7f7f7f; text-decoration-color: #7f7f7f\">               </span>\n",
       "<span style=\"color: #7fbfbf; text-decoration-color: #7fbfbf\">           </span>zWSJdLCJfc2RfYWxnIjoic2hhLTI1NiIsImNuZiI6eyJqd2siOnsiY3J2IjoiUC0yNTYiLCJraWQiOiJ0SjdfT19 <span style=\"color: #7f7f7f; text-decoration-color: #7f7f7f\">               </span>\n",
       "<span style=\"color: #7fbfbf; text-decoration-color: #7fbfbf\">           </span>YdTg2Mk9fOUw0b3hkQlNrUm90R0oySWQ5c21Tb3ZIdG5VVW84Iiwia3R5IjoiRUMiLCJ4IjoiUFRLRUNYU2VTekl <span style=\"color: #7f7f7f; text-decoration-color: #7f7f7f\">               </span>\n",
       "<span style=\"color: #7fbfbf; text-decoration-color: #7fbfbf\">           </span>SUmpZQktQRUNhUkJScDFWSF9nMkV6dEtMSmY4anBWYyIsInkiOiJISHBQcWRaOFAwWlZ6OUNTcnlwN0Z2bXRUVG5 <span style=\"color: #7f7f7f; text-decoration-color: #7f7f7f\">               </span>\n",
       "<span style=\"color: #7fbfbf; text-decoration-color: #7fbfbf\">           </span>OSW1tbFF1aWF0Sm5jb05NIn19LCJleHAiOjE2ODcyNzY4MjAsImlhdCI6MTY4NzI3MzIyMCwiaXNzIjoiaHR0cHM <span style=\"color: #7f7f7f; text-decoration-color: #7f7f7f\">               </span>\n",
       "<span style=\"color: #7fbfbf; text-decoration-color: #7fbfbf\">           </span>6Ly9pc3N1ZXIuaWdyYW50LmlvIn0.Qny6zBvDu5GKgDz52-06oEl4y2UUDhzLhoPSt7DDuD76Yxdwe7crOfoCw4D <span style=\"color: #7f7f7f; text-decoration-color: #7f7f7f\">               </span>\n",
       "<span style=\"color: #7fbfbf; text-decoration-color: #7fbfbf\">           </span>A73qgy8uNFAnN98hsZ4m8rzgXJw~JhDIF1oJsAhyPf4p9p97h6iSEH5Nfbj7eq_L8tXHfsY                  <span style=\"color: #7f7f7f; text-decoration-color: #7f7f7f\">               </span>\n",
       "</pre>\n"
      ],
      "text/plain": [
       "\u001b[2;36m[20:31:52]\u001b[0m\u001b[2;36m \u001b[0mCombined format for issuance \u001b[1m(\u001b[0m\u001b[1m<\u001b[0m\u001b[1;95mSD-JWT\u001b[0m\u001b[1m>\u001b[0m~\u001b[1m<\u001b[0m\u001b[1;95mDisclosure\u001b[0m\u001b[39m \u001b[0m\u001b[1;36m1\u001b[0m\u001b[1m>\u001b[0m~\u001b[1m<\u001b[0m\u001b[1;95mDisclosure\u001b[0m\u001b[39m \u001b[0m\u001b[1;36m2\u001b[0m\u001b[1m>\u001b[0m~\u001b[33m...\u001b[0m~\u001b[1m<\u001b[0m\u001b[1;95mDisclosure\u001b[0m\u001b[39m N\u001b[0m\u001b[1m>\u001b[0m\u001b[1m)\u001b[0m \u001b]8;id=977527;file:///tmp/ipykernel_29926/3174722539.py\u001b\\\u001b[2m3174722539.py\u001b[0m\u001b]8;;\u001b\\\u001b[2m:\u001b[0m\u001b]8;id=734158;file:///tmp/ipykernel_29926/3174722539.py#2\u001b\\\u001b[2m2\u001b[0m\u001b]8;;\u001b\\\n",
       "\u001b[2;36m           \u001b[0m:                                                                                        \u001b[2m               \u001b[0m\n",
       "\u001b[2;36m           \u001b[0meyJhbGciOiJFUzI1NiJ9.eyJfc2QiOlsiSmhESUYxb0pzQWh5UGY0cDlwOTdoNmlTRUg1TmZiajdlcV9MOHRYSGZ \u001b[2m               \u001b[0m\n",
       "\u001b[2;36m           \u001b[0mzWSJdLCJfc2RfYWxnIjoic2hhLTI1NiIsImNuZiI6eyJqd2siOnsiY3J2IjoiUC0yNTYiLCJraWQiOiJ0SjdfT19 \u001b[2m               \u001b[0m\n",
       "\u001b[2;36m           \u001b[0mYdTg2Mk9fOUw0b3hkQlNrUm90R0oySWQ5c21Tb3ZIdG5VVW84Iiwia3R5IjoiRUMiLCJ4IjoiUFRLRUNYU2VTekl \u001b[2m               \u001b[0m\n",
       "\u001b[2;36m           \u001b[0mSUmpZQktQRUNhUkJScDFWSF9nMkV6dEtMSmY4anBWYyIsInkiOiJISHBQcWRaOFAwWlZ6OUNTcnlwN0Z2bXRUVG5 \u001b[2m               \u001b[0m\n",
       "\u001b[2;36m           \u001b[0mOSW1tbFF1aWF0Sm5jb05NIn19LCJleHAiOjE2ODcyNzY4MjAsImlhdCI6MTY4NzI3MzIyMCwiaXNzIjoiaHR0cHM \u001b[2m               \u001b[0m\n",
       "\u001b[2;36m           \u001b[0m6Ly9pc3N1ZXIuaWdyYW50LmlvIn0.Qny6zBvDu5GKgDz52-06oEl4y2UUDhzLhoPSt7DDuD76Yxdwe7crOfoCw4D \u001b[2m               \u001b[0m\n",
       "\u001b[2;36m           \u001b[0mA73qgy8uNFAnN98hsZ4m8rzgXJw~JhDIF1oJsAhyPf4p9p97h6iSEH5Nfbj7eq_L8tXHfsY                  \u001b[2m               \u001b[0m\n"
      ]
     },
     "metadata": {},
     "output_type": "display_data"
    }
   ],
   "source": [
    "combined_format_for_issuance = sd_jwt + \"~\" + disclosure_sha_256\n",
    "console.log(\"Combined format for issuance : \", combined_format_for_issuance)"
   ]
  }
 ],
 "metadata": {
  "kernelspec": {
   "display_name": "ebsi-wallet-NqTUFGRW-py3.10",
   "language": "python",
   "name": "python3"
  },
  "language_info": {
   "codemirror_mode": {
    "name": "ipython",
    "version": 3
   },
   "file_extension": ".py",
   "mimetype": "text/x-python",
   "name": "python",
   "nbconvert_exporter": "python",
   "pygments_lexer": "ipython3",
   "version": "3.10.6"
  },
  "orig_nbformat": 4
 },
 "nbformat": 4,
 "nbformat_minor": 2
}
