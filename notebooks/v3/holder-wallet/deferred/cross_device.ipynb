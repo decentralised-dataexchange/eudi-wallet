{
 "cells": [
  {
   "attachments": {},
   "cell_type": "markdown",
   "metadata": {},
   "source": [
    "# Holder Wallet Conformance Flows (v3) - CTWalletCrossDeferred"
   ]
  },
  {
   "attachments": {},
   "cell_type": "markdown",
   "metadata": {},
   "source": [
    "# 0.0 Initial setup"
   ]
  },
  {
   "attachments": {},
   "cell_type": "markdown",
   "metadata": {},
   "source": [
    "## 0.1 Setup conformance"
   ]
  },
  {
   "cell_type": "code",
   "execution_count": 1,
   "metadata": {},
   "outputs": [],
   "source": [
    "import uuid\n",
    "import asyncio\n",
    "from rich.console import Console\n",
    "\n",
    "console = Console()\n",
    "\n",
    "loop = asyncio.get_event_loop()"
   ]
  },
  {
   "attachments": {},
   "cell_type": "markdown",
   "metadata": {},
   "source": [
    "## 0.2 Create did:key:jwk_jcs-pub identifier using ES256 algorithm"
   ]
  },
  {
   "cell_type": "code",
   "execution_count": 2,
   "metadata": {},
   "outputs": [
    {
     "name": "stdout",
     "output_type": "stream",
     "text": [
      "Decentralised identifier:  did:key:z2dmzD81cgPx8Vki7JbuuMmFYrWPgYoytykUZ3eyqht1j9KbqWZDHTMcqPRofEnj7mZksq5gnFqR3QCDYY6EBdV9bwY8DwXXaGHh86Bse8WiUiGUt13yyt5d9c5qQMzFy8MgufY1oqSvwDve43jaPMCRkqnzWtyRSCbcrBA1c3DcART22p\n"
     ]
    }
   ],
   "source": [
    "from ebsi_wallet.did_key import KeyDid, PublicKeyJWK\n",
    "\n",
    "key_did = KeyDid()\n",
    "\n",
    "# generate keypair\n",
    "key_did.create_keypair()\n",
    "\n",
    "# create public key jwk\n",
    "public_key_jwk = PublicKeyJWK(\n",
    "    kty=key_did.public_key_jwk['kty'],\n",
    "    crv=key_did.public_key_jwk['crv'],\n",
    "    x=key_did.public_key_jwk['x'],\n",
    "    y=key_did.public_key_jwk['y']\n",
    ")\n",
    "\n",
    "# generate did\n",
    "key_did.generate_did(public_key_jwk)\n",
    "\n",
    "print(\"Decentralised identifier: \", key_did._did)"
   ]
  },
  {
   "attachments": {},
   "cell_type": "markdown",
   "metadata": {},
   "source": [
    "## 1.1 Initiate Credential Issuance"
   ]
  },
  {
   "cell_type": "code",
   "execution_count": 3,
   "metadata": {},
   "outputs": [
    {
     "data": {
      "text/html": [
       "<pre style=\"white-space:pre;overflow-x:auto;line-height:normal;font-family:Menlo,'DejaVu Sans Mono',consolas,'Courier New',monospace\"><span style=\"color: #7fbfbf; text-decoration-color: #7fbfbf\">[21:12:05] </span>Credential offer URI:                                                                   <a href=\"file:///tmp/ipykernel_54302/3425914532.py\" target=\"_blank\"><span style=\"color: #7f7f7f; text-decoration-color: #7f7f7f\">3425914532.py</span></a><span style=\"color: #7f7f7f; text-decoration-color: #7f7f7f\">:</span><a href=\"file:///tmp/ipykernel_54302/3425914532.py#15\" target=\"_blank\"><span style=\"color: #7f7f7f; text-decoration-color: #7f7f7f\">15</span></a>\n",
       "<span style=\"color: #7fbfbf; text-decoration-color: #7fbfbf\">           </span><span style=\"color: #0000ff; text-decoration-color: #0000ff; text-decoration: underline\">https://api-conformance.ebsi.eu/conformance/v3/issuer-mock/offers/0ddd6dcd-f47d-4ac2-a5</span> <span style=\"color: #7f7f7f; text-decoration-color: #7f7f7f\">                </span>\n",
       "<span style=\"color: #7fbfbf; text-decoration-color: #7fbfbf\">           </span><span style=\"color: #0000ff; text-decoration-color: #0000ff; text-decoration: underline\">59-1ab25eda04c2</span>                                                                         <span style=\"color: #7f7f7f; text-decoration-color: #7f7f7f\">                </span>\n",
       "</pre>\n"
      ],
      "text/plain": [
       "\u001b[2;36m[21:12:05]\u001b[0m\u001b[2;36m \u001b[0mCredential offer URI:                                                                   \u001b]8;id=722404;file:///tmp/ipykernel_54302/3425914532.py\u001b\\\u001b[2m3425914532.py\u001b[0m\u001b]8;;\u001b\\\u001b[2m:\u001b[0m\u001b]8;id=879158;file:///tmp/ipykernel_54302/3425914532.py#15\u001b\\\u001b[2m15\u001b[0m\u001b]8;;\u001b\\\n",
       "\u001b[2;36m           \u001b[0m\u001b[4;94mhttps://api-conformance.ebsi.eu/conformance/v3/issuer-mock/offers/0ddd6dcd-f47d-4ac2-a5\u001b[0m \u001b[2m                \u001b[0m\n",
       "\u001b[2;36m           \u001b[0m\u001b[4;94m59-1ab25eda04c2\u001b[0m                                                                         \u001b[2m                \u001b[0m\n"
      ]
     },
     "metadata": {},
     "output_type": "display_data"
    },
    {
     "data": {
      "text/html": [
       "<pre style=\"white-space:pre;overflow-x:auto;line-height:normal;font-family:Menlo,'DejaVu Sans Mono',consolas,'Courier New',monospace\"><span style=\"color: #7fbfbf; text-decoration-color: #7fbfbf\">[21:12:06] </span>Credential offer:                                                                       <a href=\"file:///tmp/ipykernel_54302/3425914532.py\" target=\"_blank\"><span style=\"color: #7f7f7f; text-decoration-color: #7f7f7f\">3425914532.py</span></a><span style=\"color: #7f7f7f; text-decoration-color: #7f7f7f\">:</span><a href=\"file:///tmp/ipykernel_54302/3425914532.py#18\" target=\"_blank\"><span style=\"color: #7f7f7f; text-decoration-color: #7f7f7f\">18</span></a>\n",
       "<span style=\"color: #7fbfbf; text-decoration-color: #7fbfbf\">           </span><span style=\"color: #800080; text-decoration-color: #800080; font-weight: bold\">CredentialOffer</span><span style=\"font-weight: bold\">(</span>                                                                        <span style=\"color: #7f7f7f; text-decoration-color: #7f7f7f\">                </span>\n",
       "<span style=\"color: #7fbfbf; text-decoration-color: #7fbfbf\">           </span>    <span style=\"color: #808000; text-decoration-color: #808000\">credential_issuer</span>=<span style=\"color: #008000; text-decoration-color: #008000\">'https://api-conformance.ebsi.eu/conformance/v3/issuer-mock'</span>,     <span style=\"color: #7f7f7f; text-decoration-color: #7f7f7f\">                </span>\n",
       "<span style=\"color: #7fbfbf; text-decoration-color: #7fbfbf\">           </span>    <span style=\"color: #808000; text-decoration-color: #808000\">credentials</span>=<span style=\"font-weight: bold\">[</span>                                                                       <span style=\"color: #7f7f7f; text-decoration-color: #7f7f7f\">                </span>\n",
       "<span style=\"color: #7fbfbf; text-decoration-color: #7fbfbf\">           </span>        <span style=\"font-weight: bold\">{</span>                                                                               <span style=\"color: #7f7f7f; text-decoration-color: #7f7f7f\">                </span>\n",
       "<span style=\"color: #7fbfbf; text-decoration-color: #7fbfbf\">           </span>            <span style=\"color: #008000; text-decoration-color: #008000\">'format'</span>: <span style=\"color: #008000; text-decoration-color: #008000\">'jwt_vc'</span>,                                                         <span style=\"color: #7f7f7f; text-decoration-color: #7f7f7f\">                </span>\n",
       "<span style=\"color: #7fbfbf; text-decoration-color: #7fbfbf\">           </span>            <span style=\"color: #008000; text-decoration-color: #008000\">'types'</span>: <span style=\"font-weight: bold\">[</span>                                                                  <span style=\"color: #7f7f7f; text-decoration-color: #7f7f7f\">                </span>\n",
       "<span style=\"color: #7fbfbf; text-decoration-color: #7fbfbf\">           </span>                <span style=\"color: #008000; text-decoration-color: #008000\">'VerifiableCredential'</span>,                                                 <span style=\"color: #7f7f7f; text-decoration-color: #7f7f7f\">                </span>\n",
       "<span style=\"color: #7fbfbf; text-decoration-color: #7fbfbf\">           </span>                <span style=\"color: #008000; text-decoration-color: #008000\">'VerifiableAttestation'</span>,                                                <span style=\"color: #7f7f7f; text-decoration-color: #7f7f7f\">                </span>\n",
       "<span style=\"color: #7fbfbf; text-decoration-color: #7fbfbf\">           </span>                <span style=\"color: #008000; text-decoration-color: #008000\">'CTWalletCrossDeferred'</span>                                                 <span style=\"color: #7f7f7f; text-decoration-color: #7f7f7f\">                </span>\n",
       "<span style=\"color: #7fbfbf; text-decoration-color: #7fbfbf\">           </span>            <span style=\"font-weight: bold\">]</span>,                                                                          <span style=\"color: #7f7f7f; text-decoration-color: #7f7f7f\">                </span>\n",
       "<span style=\"color: #7fbfbf; text-decoration-color: #7fbfbf\">           </span>            <span style=\"color: #008000; text-decoration-color: #008000\">'trust_framework'</span>: <span style=\"font-weight: bold\">{</span>                                                        <span style=\"color: #7f7f7f; text-decoration-color: #7f7f7f\">                </span>\n",
       "<span style=\"color: #7fbfbf; text-decoration-color: #7fbfbf\">           </span>                <span style=\"color: #008000; text-decoration-color: #008000\">'name'</span>: <span style=\"color: #008000; text-decoration-color: #008000\">'ebsi'</span>,                                                         <span style=\"color: #7f7f7f; text-decoration-color: #7f7f7f\">                </span>\n",
       "<span style=\"color: #7fbfbf; text-decoration-color: #7fbfbf\">           </span>                <span style=\"color: #008000; text-decoration-color: #008000\">'type'</span>: <span style=\"color: #008000; text-decoration-color: #008000\">'Accreditation'</span>,                                                <span style=\"color: #7f7f7f; text-decoration-color: #7f7f7f\">                </span>\n",
       "<span style=\"color: #7fbfbf; text-decoration-color: #7fbfbf\">           </span>                <span style=\"color: #008000; text-decoration-color: #008000\">'uri'</span>: <span style=\"color: #008000; text-decoration-color: #008000\">'TIR link towards accreditation'</span>                                 <span style=\"color: #7f7f7f; text-decoration-color: #7f7f7f\">                </span>\n",
       "<span style=\"color: #7fbfbf; text-decoration-color: #7fbfbf\">           </span>            <span style=\"font-weight: bold\">}</span>                                                                           <span style=\"color: #7f7f7f; text-decoration-color: #7f7f7f\">                </span>\n",
       "<span style=\"color: #7fbfbf; text-decoration-color: #7fbfbf\">           </span>        <span style=\"font-weight: bold\">}</span>                                                                               <span style=\"color: #7f7f7f; text-decoration-color: #7f7f7f\">                </span>\n",
       "<span style=\"color: #7fbfbf; text-decoration-color: #7fbfbf\">           </span>    <span style=\"font-weight: bold\">]</span>,                                                                                  <span style=\"color: #7f7f7f; text-decoration-color: #7f7f7f\">                </span>\n",
       "<span style=\"color: #7fbfbf; text-decoration-color: #7fbfbf\">           </span>    <span style=\"color: #808000; text-decoration-color: #808000\">grants</span>=<span style=\"font-weight: bold\">{</span>                                                                            <span style=\"color: #7f7f7f; text-decoration-color: #7f7f7f\">                </span>\n",
       "<span style=\"color: #7fbfbf; text-decoration-color: #7fbfbf\">           </span>        <span style=\"color: #008000; text-decoration-color: #008000\">'authorization_code'</span>: <span style=\"font-weight: bold\">{</span>                                                         <span style=\"color: #7f7f7f; text-decoration-color: #7f7f7f\">                </span>\n",
       "<span style=\"color: #7fbfbf; text-decoration-color: #7fbfbf\">           </span>            <span style=\"color: #008000; text-decoration-color: #008000\">'issuer_state'</span>:                                                             <span style=\"color: #7f7f7f; text-decoration-color: #7f7f7f\">                </span>\n",
       "<span style=\"color: #7fbfbf; text-decoration-color: #7fbfbf\">           </span><span style=\"color: #008000; text-decoration-color: #008000\">'eyJ0eXAiOiJKV1QiLCJhbGciOiJFUzI1NiIsImtpZCI6InVPa3Y1TE9pbzlYQnE2a1JRaHNaMHpOTVZ1czBjNF</span> <span style=\"color: #7f7f7f; text-decoration-color: #7f7f7f\">                </span>\n",
       "<span style=\"color: #7fbfbf; text-decoration-color: #7fbfbf\">           </span><span style=\"color: #008000; text-decoration-color: #008000\">ZqcFB0cDY1dTVjWXcifQ.eyJjbGllbnRfaWQiOiJkaWQ6a2V5OnoyZG16RDgxY2dQeDhWa2k3SmJ1dU1tRllyV1</span> <span style=\"color: #7f7f7f; text-decoration-color: #7f7f7f\">                </span>\n",
       "<span style=\"color: #7fbfbf; text-decoration-color: #7fbfbf\">           </span><span style=\"color: #008000; text-decoration-color: #008000\">BnWW95dHlrVVozZXlxaHQxajlLYnFXWkRIVE1jcVBSb2ZFbmo3bVprc3E1Z25GcVIzUUNEWVk2RUJkVjlid1k4R</span> <span style=\"color: #7f7f7f; text-decoration-color: #7f7f7f\">                </span>\n",
       "<span style=\"color: #7fbfbf; text-decoration-color: #7fbfbf\">           </span><span style=\"color: #008000; text-decoration-color: #008000\">HdYWGFHSGg4NkJzZThXaVVpR1V0MTN5eXQ1ZDljNXFRTXpGeThNZ3VmWTFvcVN2d0R2ZTQzamFQTUNSa3Fueld0</span> <span style=\"color: #7f7f7f; text-decoration-color: #7f7f7f\">                </span>\n",
       "<span style=\"color: #7fbfbf; text-decoration-color: #7fbfbf\">           </span><span style=\"color: #008000; text-decoration-color: #008000\">eVJTQ2JjckJBMWMzRGNBUlQyMnAiLCJjcmVkZW50aWFsX3R5cGVzIjpbIlZlcmlmaWFibGVDcmVkZW50aWFsIiw</span> <span style=\"color: #7f7f7f; text-decoration-color: #7f7f7f\">                </span>\n",
       "<span style=\"color: #7fbfbf; text-decoration-color: #7fbfbf\">           </span><span style=\"color: #008000; text-decoration-color: #008000\">iVmVyaWZpYWJsZUF0dGVzdGF0aW9uIiwiQ1RXYWxsZXRDcm9zc0RlZmVycmVkIl0sImlhdCI6MTY4NzE4OTMyNS</span> <span style=\"color: #7f7f7f; text-decoration-color: #7f7f7f\">                </span>\n",
       "<span style=\"color: #7fbfbf; text-decoration-color: #7fbfbf\">           </span><span style=\"color: #008000; text-decoration-color: #008000\">wiZXhwIjoxNjg3MTg5NjI1LCJpc3MiOiJodHRwczovL2FwaS1jb25mb3JtYW5jZS5lYnNpLmV1L2NvbmZvcm1hb</span> <span style=\"color: #7f7f7f; text-decoration-color: #7f7f7f\">                </span>\n",
       "<span style=\"color: #7fbfbf; text-decoration-color: #7fbfbf\">           </span><span style=\"color: #008000; text-decoration-color: #008000\">mNlL3YzL2lzc3Vlci1tb2NrIiwiYXVkIjoiaHR0cHM6Ly9hcGktY29uZm9ybWFuY2UuZWJzaS5ldS9jb25mb3Jt</span> <span style=\"color: #7f7f7f; text-decoration-color: #7f7f7f\">                </span>\n",
       "<span style=\"color: #7fbfbf; text-decoration-color: #7fbfbf\">           </span><span style=\"color: #008000; text-decoration-color: #008000\">YW5jZS92My9hdXRoLW1vY2siLCJzdWIiOiJkaWQ6a2V5OnoyZG16RDgxY2dQeDhWa2k3SmJ1dU1tRllyV1BnWW9</span> <span style=\"color: #7f7f7f; text-decoration-color: #7f7f7f\">                </span>\n",
       "<span style=\"color: #7fbfbf; text-decoration-color: #7fbfbf\">           </span><span style=\"color: #008000; text-decoration-color: #008000\">5dHlrVVozZXlxaHQxajlLYnFXWkRIVE1jcVBSb2ZFbmo3bVprc3E1Z25GcVIzUUNEWVk2RUJkVjlid1k4RHdYWG</span> <span style=\"color: #7f7f7f; text-decoration-color: #7f7f7f\">                </span>\n",
       "<span style=\"color: #7fbfbf; text-decoration-color: #7fbfbf\">           </span><span style=\"color: #008000; text-decoration-color: #008000\">FHSGg4NkJzZThXaVVpR1V0MTN5eXQ1ZDljNXFRTXpGeThNZ3VmWTFvcVN2d0R2ZTQzamFQTUNSa3Fueld0eVJTQ</span> <span style=\"color: #7f7f7f; text-decoration-color: #7f7f7f\">                </span>\n",
       "<span style=\"color: #7fbfbf; text-decoration-color: #7fbfbf\">           </span><span style=\"color: #008000; text-decoration-color: #008000\">2JjckJBMWMzRGNBUlQyMnAifQ.yhHSNZqb8gcuOIOcjlujyVHFNzNyzdulKPzC8FXddQW90ir1MCZizA4YltUtr</span> <span style=\"color: #7f7f7f; text-decoration-color: #7f7f7f\">                </span>\n",
       "<span style=\"color: #7fbfbf; text-decoration-color: #7fbfbf\">           </span><span style=\"color: #008000; text-decoration-color: #008000\">MY2XKE-K7t4MY1sIylswQpVLg'</span>                                                              <span style=\"color: #7f7f7f; text-decoration-color: #7f7f7f\">                </span>\n",
       "<span style=\"color: #7fbfbf; text-decoration-color: #7fbfbf\">           </span>        <span style=\"font-weight: bold\">}</span>                                                                               <span style=\"color: #7f7f7f; text-decoration-color: #7f7f7f\">                </span>\n",
       "<span style=\"color: #7fbfbf; text-decoration-color: #7fbfbf\">           </span>    <span style=\"font-weight: bold\">}</span>                                                                                   <span style=\"color: #7f7f7f; text-decoration-color: #7f7f7f\">                </span>\n",
       "<span style=\"color: #7fbfbf; text-decoration-color: #7fbfbf\">           </span><span style=\"font-weight: bold\">)</span>                                                                                       <span style=\"color: #7f7f7f; text-decoration-color: #7f7f7f\">                </span>\n",
       "</pre>\n"
      ],
      "text/plain": [
       "\u001b[2;36m[21:12:06]\u001b[0m\u001b[2;36m \u001b[0mCredential offer:                                                                       \u001b]8;id=535512;file:///tmp/ipykernel_54302/3425914532.py\u001b\\\u001b[2m3425914532.py\u001b[0m\u001b]8;;\u001b\\\u001b[2m:\u001b[0m\u001b]8;id=447733;file:///tmp/ipykernel_54302/3425914532.py#18\u001b\\\u001b[2m18\u001b[0m\u001b]8;;\u001b\\\n",
       "\u001b[2;36m           \u001b[0m\u001b[1;35mCredentialOffer\u001b[0m\u001b[1m(\u001b[0m                                                                        \u001b[2m                \u001b[0m\n",
       "\u001b[2;36m           \u001b[0m    \u001b[33mcredential_issuer\u001b[0m=\u001b[32m'https://api-conformance.ebsi.eu/conformance/v3/issuer-mock'\u001b[0m,     \u001b[2m                \u001b[0m\n",
       "\u001b[2;36m           \u001b[0m    \u001b[33mcredentials\u001b[0m=\u001b[1m[\u001b[0m                                                                       \u001b[2m                \u001b[0m\n",
       "\u001b[2;36m           \u001b[0m        \u001b[1m{\u001b[0m                                                                               \u001b[2m                \u001b[0m\n",
       "\u001b[2;36m           \u001b[0m            \u001b[32m'format'\u001b[0m: \u001b[32m'jwt_vc'\u001b[0m,                                                         \u001b[2m                \u001b[0m\n",
       "\u001b[2;36m           \u001b[0m            \u001b[32m'types'\u001b[0m: \u001b[1m[\u001b[0m                                                                  \u001b[2m                \u001b[0m\n",
       "\u001b[2;36m           \u001b[0m                \u001b[32m'VerifiableCredential'\u001b[0m,                                                 \u001b[2m                \u001b[0m\n",
       "\u001b[2;36m           \u001b[0m                \u001b[32m'VerifiableAttestation'\u001b[0m,                                                \u001b[2m                \u001b[0m\n",
       "\u001b[2;36m           \u001b[0m                \u001b[32m'CTWalletCrossDeferred'\u001b[0m                                                 \u001b[2m                \u001b[0m\n",
       "\u001b[2;36m           \u001b[0m            \u001b[1m]\u001b[0m,                                                                          \u001b[2m                \u001b[0m\n",
       "\u001b[2;36m           \u001b[0m            \u001b[32m'trust_framework'\u001b[0m: \u001b[1m{\u001b[0m                                                        \u001b[2m                \u001b[0m\n",
       "\u001b[2;36m           \u001b[0m                \u001b[32m'name'\u001b[0m: \u001b[32m'ebsi'\u001b[0m,                                                         \u001b[2m                \u001b[0m\n",
       "\u001b[2;36m           \u001b[0m                \u001b[32m'type'\u001b[0m: \u001b[32m'Accreditation'\u001b[0m,                                                \u001b[2m                \u001b[0m\n",
       "\u001b[2;36m           \u001b[0m                \u001b[32m'uri'\u001b[0m: \u001b[32m'TIR link towards accreditation'\u001b[0m                                 \u001b[2m                \u001b[0m\n",
       "\u001b[2;36m           \u001b[0m            \u001b[1m}\u001b[0m                                                                           \u001b[2m                \u001b[0m\n",
       "\u001b[2;36m           \u001b[0m        \u001b[1m}\u001b[0m                                                                               \u001b[2m                \u001b[0m\n",
       "\u001b[2;36m           \u001b[0m    \u001b[1m]\u001b[0m,                                                                                  \u001b[2m                \u001b[0m\n",
       "\u001b[2;36m           \u001b[0m    \u001b[33mgrants\u001b[0m=\u001b[1m{\u001b[0m                                                                            \u001b[2m                \u001b[0m\n",
       "\u001b[2;36m           \u001b[0m        \u001b[32m'authorization_code'\u001b[0m: \u001b[1m{\u001b[0m                                                         \u001b[2m                \u001b[0m\n",
       "\u001b[2;36m           \u001b[0m            \u001b[32m'issuer_state'\u001b[0m:                                                             \u001b[2m                \u001b[0m\n",
       "\u001b[2;36m           \u001b[0m\u001b[32m'eyJ0eXAiOiJKV1QiLCJhbGciOiJFUzI1NiIsImtpZCI6InVPa3Y1TE9pbzlYQnE2a1JRaHNaMHpOTVZ1czBjNF\u001b[0m \u001b[2m                \u001b[0m\n",
       "\u001b[2;36m           \u001b[0m\u001b[32mZqcFB0cDY1dTVjWXcifQ.eyJjbGllbnRfaWQiOiJkaWQ6a2V5OnoyZG16RDgxY2dQeDhWa2k3SmJ1dU1tRllyV1\u001b[0m \u001b[2m                \u001b[0m\n",
       "\u001b[2;36m           \u001b[0m\u001b[32mBnWW95dHlrVVozZXlxaHQxajlLYnFXWkRIVE1jcVBSb2ZFbmo3bVprc3E1Z25GcVIzUUNEWVk2RUJkVjlid1k4R\u001b[0m \u001b[2m                \u001b[0m\n",
       "\u001b[2;36m           \u001b[0m\u001b[32mHdYWGFHSGg4NkJzZThXaVVpR1V0MTN5eXQ1ZDljNXFRTXpGeThNZ3VmWTFvcVN2d0R2ZTQzamFQTUNSa3Fueld0\u001b[0m \u001b[2m                \u001b[0m\n",
       "\u001b[2;36m           \u001b[0m\u001b[32meVJTQ2JjckJBMWMzRGNBUlQyMnAiLCJjcmVkZW50aWFsX3R5cGVzIjpbIlZlcmlmaWFibGVDcmVkZW50aWFsIiw\u001b[0m \u001b[2m                \u001b[0m\n",
       "\u001b[2;36m           \u001b[0m\u001b[32miVmVyaWZpYWJsZUF0dGVzdGF0aW9uIiwiQ1RXYWxsZXRDcm9zc0RlZmVycmVkIl0sImlhdCI6MTY4NzE4OTMyNS\u001b[0m \u001b[2m                \u001b[0m\n",
       "\u001b[2;36m           \u001b[0m\u001b[32mwiZXhwIjoxNjg3MTg5NjI1LCJpc3MiOiJodHRwczovL2FwaS1jb25mb3JtYW5jZS5lYnNpLmV1L2NvbmZvcm1hb\u001b[0m \u001b[2m                \u001b[0m\n",
       "\u001b[2;36m           \u001b[0m\u001b[32mmNlL3YzL2lzc3Vlci1tb2NrIiwiYXVkIjoiaHR0cHM6Ly9hcGktY29uZm9ybWFuY2UuZWJzaS5ldS9jb25mb3Jt\u001b[0m \u001b[2m                \u001b[0m\n",
       "\u001b[2;36m           \u001b[0m\u001b[32mYW5jZS92My9hdXRoLW1vY2siLCJzdWIiOiJkaWQ6a2V5OnoyZG16RDgxY2dQeDhWa2k3SmJ1dU1tRllyV1BnWW9\u001b[0m \u001b[2m                \u001b[0m\n",
       "\u001b[2;36m           \u001b[0m\u001b[32m5dHlrVVozZXlxaHQxajlLYnFXWkRIVE1jcVBSb2ZFbmo3bVprc3E1Z25GcVIzUUNEWVk2RUJkVjlid1k4RHdYWG\u001b[0m \u001b[2m                \u001b[0m\n",
       "\u001b[2;36m           \u001b[0m\u001b[32mFHSGg4NkJzZThXaVVpR1V0MTN5eXQ1ZDljNXFRTXpGeThNZ3VmWTFvcVN2d0R2ZTQzamFQTUNSa3Fueld0eVJTQ\u001b[0m \u001b[2m                \u001b[0m\n",
       "\u001b[2;36m           \u001b[0m\u001b[32m2JjckJBMWMzRGNBUlQyMnAifQ.yhHSNZqb8gcuOIOcjlujyVHFNzNyzdulKPzC8FXddQW90ir1MCZizA4YltUtr\u001b[0m \u001b[2m                \u001b[0m\n",
       "\u001b[2;36m           \u001b[0m\u001b[32mMY2XKE-K7t4MY1sIylswQpVLg'\u001b[0m                                                              \u001b[2m                \u001b[0m\n",
       "\u001b[2;36m           \u001b[0m        \u001b[1m}\u001b[0m                                                                               \u001b[2m                \u001b[0m\n",
       "\u001b[2;36m           \u001b[0m    \u001b[1m}\u001b[0m                                                                                   \u001b[2m                \u001b[0m\n",
       "\u001b[2;36m           \u001b[0m\u001b[1m)\u001b[0m                                                                                       \u001b[2m                \u001b[0m\n"
      ]
     },
     "metadata": {},
     "output_type": "display_data"
    },
    {
     "data": {
      "text/html": [
       "<pre style=\"white-space:pre;overflow-x:auto;line-height:normal;font-family:Menlo,'DejaVu Sans Mono',consolas,'Courier New',monospace\"><span style=\"color: #7fbfbf; text-decoration-color: #7fbfbf\">           </span>Credential issuer configuration:                                                        <a href=\"file:///tmp/ipykernel_54302/3425914532.py\" target=\"_blank\"><span style=\"color: #7f7f7f; text-decoration-color: #7f7f7f\">3425914532.py</span></a><span style=\"color: #7f7f7f; text-decoration-color: #7f7f7f\">:</span><a href=\"file:///tmp/ipykernel_54302/3425914532.py#21\" target=\"_blank\"><span style=\"color: #7f7f7f; text-decoration-color: #7f7f7f\">21</span></a>\n",
       "<span style=\"color: #7fbfbf; text-decoration-color: #7fbfbf\">           </span><span style=\"color: #800080; text-decoration-color: #800080; font-weight: bold\">OpenIDCredentialIssuerConfig</span><span style=\"font-weight: bold\">(</span>                                                           <span style=\"color: #7f7f7f; text-decoration-color: #7f7f7f\">                </span>\n",
       "<span style=\"color: #7fbfbf; text-decoration-color: #7fbfbf\">           </span>    <span style=\"color: #808000; text-decoration-color: #808000\">credential_issuer</span>=<span style=\"color: #008000; text-decoration-color: #008000\">'https://api-conformance.ebsi.eu/conformance/v3/issuer-mock'</span>,     <span style=\"color: #7f7f7f; text-decoration-color: #7f7f7f\">                </span>\n",
       "<span style=\"color: #7fbfbf; text-decoration-color: #7fbfbf\">           </span>    <span style=\"color: #808000; text-decoration-color: #808000\">authorization_server</span>=<span style=\"color: #008000; text-decoration-color: #008000\">'https://api-conformance.ebsi.eu/conformance/v3/auth-mock'</span>,    <span style=\"color: #7f7f7f; text-decoration-color: #7f7f7f\">                </span>\n",
       "<span style=\"color: #7fbfbf; text-decoration-color: #7fbfbf\">           </span>    <span style=\"color: #808000; text-decoration-color: #808000\">credential_endpoint</span>=<span style=\"color: #008000; text-decoration-color: #008000\">'https://api-conformance.ebsi.eu/conformance/v3/issuer-mock/cre</span> <span style=\"color: #7f7f7f; text-decoration-color: #7f7f7f\">                </span>\n",
       "<span style=\"color: #7fbfbf; text-decoration-color: #7fbfbf\">           </span><span style=\"color: #008000; text-decoration-color: #008000\">dential'</span>,                                                                               <span style=\"color: #7f7f7f; text-decoration-color: #7f7f7f\">                </span>\n",
       "<span style=\"color: #7fbfbf; text-decoration-color: #7fbfbf\">           </span>    <span style=\"color: #808000; text-decoration-color: #808000\">deferred_credential_endpoint</span>=<span style=\"color: #008000; text-decoration-color: #008000\">'https://api-conformance.ebsi.eu/conformance/v3/issuer</span> <span style=\"color: #7f7f7f; text-decoration-color: #7f7f7f\">                </span>\n",
       "<span style=\"color: #7fbfbf; text-decoration-color: #7fbfbf\">           </span><span style=\"color: #008000; text-decoration-color: #008000\">-mock/credential_deferred'</span>,                                                             <span style=\"color: #7f7f7f; text-decoration-color: #7f7f7f\">                </span>\n",
       "<span style=\"color: #7fbfbf; text-decoration-color: #7fbfbf\">           </span>    <span style=\"color: #808000; text-decoration-color: #808000\">credentials_supported</span>=<span style=\"font-weight: bold\">[</span>                                                             <span style=\"color: #7f7f7f; text-decoration-color: #7f7f7f\">                </span>\n",
       "<span style=\"color: #7fbfbf; text-decoration-color: #7fbfbf\">           </span>        <span style=\"font-weight: bold\">{</span>                                                                               <span style=\"color: #7f7f7f; text-decoration-color: #7f7f7f\">                </span>\n",
       "<span style=\"color: #7fbfbf; text-decoration-color: #7fbfbf\">           </span>            <span style=\"color: #008000; text-decoration-color: #008000\">'format'</span>: <span style=\"color: #008000; text-decoration-color: #008000\">'jwt_vc'</span>,                                                         <span style=\"color: #7f7f7f; text-decoration-color: #7f7f7f\">                </span>\n",
       "<span style=\"color: #7fbfbf; text-decoration-color: #7fbfbf\">           </span>            <span style=\"color: #008000; text-decoration-color: #008000\">'types'</span>: <span style=\"font-weight: bold\">[</span>                                                                  <span style=\"color: #7f7f7f; text-decoration-color: #7f7f7f\">                </span>\n",
       "<span style=\"color: #7fbfbf; text-decoration-color: #7fbfbf\">           </span>                <span style=\"color: #008000; text-decoration-color: #008000\">'VerifiableCredential'</span>,                                                 <span style=\"color: #7f7f7f; text-decoration-color: #7f7f7f\">                </span>\n",
       "<span style=\"color: #7fbfbf; text-decoration-color: #7fbfbf\">           </span>                <span style=\"color: #008000; text-decoration-color: #008000\">'VerifiableAttestation'</span>,                                                <span style=\"color: #7f7f7f; text-decoration-color: #7f7f7f\">                </span>\n",
       "<span style=\"color: #7fbfbf; text-decoration-color: #7fbfbf\">           </span>                <span style=\"color: #008000; text-decoration-color: #008000\">'VerifiableAuthorisationToOnboard'</span>                                      <span style=\"color: #7f7f7f; text-decoration-color: #7f7f7f\">                </span>\n",
       "<span style=\"color: #7fbfbf; text-decoration-color: #7fbfbf\">           </span>            <span style=\"font-weight: bold\">]</span>,                                                                          <span style=\"color: #7f7f7f; text-decoration-color: #7f7f7f\">                </span>\n",
       "<span style=\"color: #7fbfbf; text-decoration-color: #7fbfbf\">           </span>            <span style=\"color: #008000; text-decoration-color: #008000\">'trust_framework'</span>: <span style=\"font-weight: bold\">{</span>                                                        <span style=\"color: #7f7f7f; text-decoration-color: #7f7f7f\">                </span>\n",
       "<span style=\"color: #7fbfbf; text-decoration-color: #7fbfbf\">           </span>                <span style=\"color: #008000; text-decoration-color: #008000\">'name'</span>: <span style=\"color: #008000; text-decoration-color: #008000\">'ebsi'</span>,                                                         <span style=\"color: #7f7f7f; text-decoration-color: #7f7f7f\">                </span>\n",
       "<span style=\"color: #7fbfbf; text-decoration-color: #7fbfbf\">           </span>                <span style=\"color: #008000; text-decoration-color: #008000\">'type'</span>: <span style=\"color: #008000; text-decoration-color: #008000\">'Accreditation'</span>,                                                <span style=\"color: #7f7f7f; text-decoration-color: #7f7f7f\">                </span>\n",
       "<span style=\"color: #7fbfbf; text-decoration-color: #7fbfbf\">           </span>                <span style=\"color: #008000; text-decoration-color: #008000\">'uri'</span>: <span style=\"color: #008000; text-decoration-color: #008000\">'TIR link towards accreditation'</span>                                 <span style=\"color: #7f7f7f; text-decoration-color: #7f7f7f\">                </span>\n",
       "<span style=\"color: #7fbfbf; text-decoration-color: #7fbfbf\">           </span>            <span style=\"font-weight: bold\">}</span>,                                                                          <span style=\"color: #7f7f7f; text-decoration-color: #7f7f7f\">                </span>\n",
       "<span style=\"color: #7fbfbf; text-decoration-color: #7fbfbf\">           </span>            <span style=\"color: #008000; text-decoration-color: #008000\">'display'</span>: <span style=\"font-weight: bold\">[</span>                                                                <span style=\"color: #7f7f7f; text-decoration-color: #7f7f7f\">                </span>\n",
       "<span style=\"color: #7fbfbf; text-decoration-color: #7fbfbf\">           </span>                <span style=\"font-weight: bold\">{</span><span style=\"color: #008000; text-decoration-color: #008000\">'name'</span>: <span style=\"color: #008000; text-decoration-color: #008000\">'Verifiable Authorisation to onboard'</span>, <span style=\"color: #008000; text-decoration-color: #008000\">'locale'</span>: <span style=\"color: #008000; text-decoration-color: #008000\">'en-GB'</span><span style=\"font-weight: bold\">}</span>      <span style=\"color: #7f7f7f; text-decoration-color: #7f7f7f\">                </span>\n",
       "<span style=\"color: #7fbfbf; text-decoration-color: #7fbfbf\">           </span>            <span style=\"font-weight: bold\">]</span>                                                                           <span style=\"color: #7f7f7f; text-decoration-color: #7f7f7f\">                </span>\n",
       "<span style=\"color: #7fbfbf; text-decoration-color: #7fbfbf\">           </span>        <span style=\"font-weight: bold\">}</span>,                                                                              <span style=\"color: #7f7f7f; text-decoration-color: #7f7f7f\">                </span>\n",
       "<span style=\"color: #7fbfbf; text-decoration-color: #7fbfbf\">           </span>        <span style=\"font-weight: bold\">{</span>                                                                               <span style=\"color: #7f7f7f; text-decoration-color: #7f7f7f\">                </span>\n",
       "<span style=\"color: #7fbfbf; text-decoration-color: #7fbfbf\">           </span>            <span style=\"color: #008000; text-decoration-color: #008000\">'format'</span>: <span style=\"color: #008000; text-decoration-color: #008000\">'jwt_vc'</span>,                                                         <span style=\"color: #7f7f7f; text-decoration-color: #7f7f7f\">                </span>\n",
       "<span style=\"color: #7fbfbf; text-decoration-color: #7fbfbf\">           </span>            <span style=\"color: #008000; text-decoration-color: #008000\">'types'</span>: <span style=\"font-weight: bold\">[</span>                                                                  <span style=\"color: #7f7f7f; text-decoration-color: #7f7f7f\">                </span>\n",
       "<span style=\"color: #7fbfbf; text-decoration-color: #7fbfbf\">           </span>                <span style=\"color: #008000; text-decoration-color: #008000\">'VerifiableCredential'</span>,                                                 <span style=\"color: #7f7f7f; text-decoration-color: #7f7f7f\">                </span>\n",
       "<span style=\"color: #7fbfbf; text-decoration-color: #7fbfbf\">           </span>                <span style=\"color: #008000; text-decoration-color: #008000\">'VerifiableAttestation'</span>,                                                <span style=\"color: #7f7f7f; text-decoration-color: #7f7f7f\">                </span>\n",
       "<span style=\"color: #7fbfbf; text-decoration-color: #7fbfbf\">           </span>                <span style=\"color: #008000; text-decoration-color: #008000\">'VerifiableAccreditation'</span>,                                              <span style=\"color: #7f7f7f; text-decoration-color: #7f7f7f\">                </span>\n",
       "<span style=\"color: #7fbfbf; text-decoration-color: #7fbfbf\">           </span>                <span style=\"color: #008000; text-decoration-color: #008000\">'VerifiableAccreditationToAttest'</span>                                       <span style=\"color: #7f7f7f; text-decoration-color: #7f7f7f\">                </span>\n",
       "<span style=\"color: #7fbfbf; text-decoration-color: #7fbfbf\">           </span>            <span style=\"font-weight: bold\">]</span>,                                                                          <span style=\"color: #7f7f7f; text-decoration-color: #7f7f7f\">                </span>\n",
       "<span style=\"color: #7fbfbf; text-decoration-color: #7fbfbf\">           </span>            <span style=\"color: #008000; text-decoration-color: #008000\">'trust_framework'</span>: <span style=\"font-weight: bold\">{</span>                                                        <span style=\"color: #7f7f7f; text-decoration-color: #7f7f7f\">                </span>\n",
       "<span style=\"color: #7fbfbf; text-decoration-color: #7fbfbf\">           </span>                <span style=\"color: #008000; text-decoration-color: #008000\">'name'</span>: <span style=\"color: #008000; text-decoration-color: #008000\">'ebsi'</span>,                                                         <span style=\"color: #7f7f7f; text-decoration-color: #7f7f7f\">                </span>\n",
       "<span style=\"color: #7fbfbf; text-decoration-color: #7fbfbf\">           </span>                <span style=\"color: #008000; text-decoration-color: #008000\">'type'</span>: <span style=\"color: #008000; text-decoration-color: #008000\">'Accreditation'</span>,                                                <span style=\"color: #7f7f7f; text-decoration-color: #7f7f7f\">                </span>\n",
       "<span style=\"color: #7fbfbf; text-decoration-color: #7fbfbf\">           </span>                <span style=\"color: #008000; text-decoration-color: #008000\">'uri'</span>: <span style=\"color: #008000; text-decoration-color: #008000\">'TIR link towards accreditation'</span>                                 <span style=\"color: #7f7f7f; text-decoration-color: #7f7f7f\">                </span>\n",
       "<span style=\"color: #7fbfbf; text-decoration-color: #7fbfbf\">           </span>            <span style=\"font-weight: bold\">}</span>,                                                                          <span style=\"color: #7f7f7f; text-decoration-color: #7f7f7f\">                </span>\n",
       "<span style=\"color: #7fbfbf; text-decoration-color: #7fbfbf\">           </span>            <span style=\"color: #008000; text-decoration-color: #008000\">'display'</span>: <span style=\"font-weight: bold\">[</span>                                                                <span style=\"color: #7f7f7f; text-decoration-color: #7f7f7f\">                </span>\n",
       "<span style=\"color: #7fbfbf; text-decoration-color: #7fbfbf\">           </span>                <span style=\"font-weight: bold\">{</span><span style=\"color: #008000; text-decoration-color: #008000\">'name'</span>: <span style=\"color: #008000; text-decoration-color: #008000\">'Verifiable Accreditation to attest'</span>, <span style=\"color: #008000; text-decoration-color: #008000\">'locale'</span>: <span style=\"color: #008000; text-decoration-color: #008000\">'en-GB'</span><span style=\"font-weight: bold\">}</span>       <span style=\"color: #7f7f7f; text-decoration-color: #7f7f7f\">                </span>\n",
       "<span style=\"color: #7fbfbf; text-decoration-color: #7fbfbf\">           </span>            <span style=\"font-weight: bold\">]</span>                                                                           <span style=\"color: #7f7f7f; text-decoration-color: #7f7f7f\">                </span>\n",
       "<span style=\"color: #7fbfbf; text-decoration-color: #7fbfbf\">           </span>        <span style=\"font-weight: bold\">}</span>,                                                                              <span style=\"color: #7f7f7f; text-decoration-color: #7f7f7f\">                </span>\n",
       "<span style=\"color: #7fbfbf; text-decoration-color: #7fbfbf\">           </span>        <span style=\"font-weight: bold\">{</span>                                                                               <span style=\"color: #7f7f7f; text-decoration-color: #7f7f7f\">                </span>\n",
       "<span style=\"color: #7fbfbf; text-decoration-color: #7fbfbf\">           </span>            <span style=\"color: #008000; text-decoration-color: #008000\">'format'</span>: <span style=\"color: #008000; text-decoration-color: #008000\">'jwt_vc'</span>,                                                         <span style=\"color: #7f7f7f; text-decoration-color: #7f7f7f\">                </span>\n",
       "<span style=\"color: #7fbfbf; text-decoration-color: #7fbfbf\">           </span>            <span style=\"color: #008000; text-decoration-color: #008000\">'types'</span>: <span style=\"font-weight: bold\">[</span>                                                                  <span style=\"color: #7f7f7f; text-decoration-color: #7f7f7f\">                </span>\n",
       "<span style=\"color: #7fbfbf; text-decoration-color: #7fbfbf\">           </span>                <span style=\"color: #008000; text-decoration-color: #008000\">'VerifiableCredential'</span>,                                                 <span style=\"color: #7f7f7f; text-decoration-color: #7f7f7f\">                </span>\n",
       "<span style=\"color: #7fbfbf; text-decoration-color: #7fbfbf\">           </span>                <span style=\"color: #008000; text-decoration-color: #008000\">'VerifiableAttestation'</span>,                                                <span style=\"color: #7f7f7f; text-decoration-color: #7f7f7f\">                </span>\n",
       "<span style=\"color: #7fbfbf; text-decoration-color: #7fbfbf\">           </span>                <span style=\"color: #008000; text-decoration-color: #008000\">'VerifiableAccreditation'</span>,                                              <span style=\"color: #7f7f7f; text-decoration-color: #7f7f7f\">                </span>\n",
       "<span style=\"color: #7fbfbf; text-decoration-color: #7fbfbf\">           </span>                <span style=\"color: #008000; text-decoration-color: #008000\">'VerifiableAccreditationToAccredit'</span>                                     <span style=\"color: #7f7f7f; text-decoration-color: #7f7f7f\">                </span>\n",
       "<span style=\"color: #7fbfbf; text-decoration-color: #7fbfbf\">           </span>            <span style=\"font-weight: bold\">]</span>,                                                                          <span style=\"color: #7f7f7f; text-decoration-color: #7f7f7f\">                </span>\n",
       "<span style=\"color: #7fbfbf; text-decoration-color: #7fbfbf\">           </span>            <span style=\"color: #008000; text-decoration-color: #008000\">'trust_framework'</span>: <span style=\"font-weight: bold\">{</span>                                                        <span style=\"color: #7f7f7f; text-decoration-color: #7f7f7f\">                </span>\n",
       "<span style=\"color: #7fbfbf; text-decoration-color: #7fbfbf\">           </span>                <span style=\"color: #008000; text-decoration-color: #008000\">'name'</span>: <span style=\"color: #008000; text-decoration-color: #008000\">'ebsi'</span>,                                                         <span style=\"color: #7f7f7f; text-decoration-color: #7f7f7f\">                </span>\n",
       "<span style=\"color: #7fbfbf; text-decoration-color: #7fbfbf\">           </span>                <span style=\"color: #008000; text-decoration-color: #008000\">'type'</span>: <span style=\"color: #008000; text-decoration-color: #008000\">'Accreditation'</span>,                                                <span style=\"color: #7f7f7f; text-decoration-color: #7f7f7f\">                </span>\n",
       "<span style=\"color: #7fbfbf; text-decoration-color: #7fbfbf\">           </span>                <span style=\"color: #008000; text-decoration-color: #008000\">'uri'</span>: <span style=\"color: #008000; text-decoration-color: #008000\">'TIR link towards accreditation'</span>                                 <span style=\"color: #7f7f7f; text-decoration-color: #7f7f7f\">                </span>\n",
       "<span style=\"color: #7fbfbf; text-decoration-color: #7fbfbf\">           </span>            <span style=\"font-weight: bold\">}</span>,                                                                          <span style=\"color: #7f7f7f; text-decoration-color: #7f7f7f\">                </span>\n",
       "<span style=\"color: #7fbfbf; text-decoration-color: #7fbfbf\">           </span>            <span style=\"color: #008000; text-decoration-color: #008000\">'display'</span>: <span style=\"font-weight: bold\">[</span>                                                                <span style=\"color: #7f7f7f; text-decoration-color: #7f7f7f\">                </span>\n",
       "<span style=\"color: #7fbfbf; text-decoration-color: #7fbfbf\">           </span>                <span style=\"font-weight: bold\">{</span><span style=\"color: #008000; text-decoration-color: #008000\">'name'</span>: <span style=\"color: #008000; text-decoration-color: #008000\">'Verifiable Accreditation to accredit'</span>, <span style=\"color: #008000; text-decoration-color: #008000\">'locale'</span>: <span style=\"color: #008000; text-decoration-color: #008000\">'en-GB'</span><span style=\"font-weight: bold\">}</span>     <span style=\"color: #7f7f7f; text-decoration-color: #7f7f7f\">                </span>\n",
       "<span style=\"color: #7fbfbf; text-decoration-color: #7fbfbf\">           </span>            <span style=\"font-weight: bold\">]</span>                                                                           <span style=\"color: #7f7f7f; text-decoration-color: #7f7f7f\">                </span>\n",
       "<span style=\"color: #7fbfbf; text-decoration-color: #7fbfbf\">           </span>        <span style=\"font-weight: bold\">}</span>,                                                                              <span style=\"color: #7f7f7f; text-decoration-color: #7f7f7f\">                </span>\n",
       "<span style=\"color: #7fbfbf; text-decoration-color: #7fbfbf\">           </span>        <span style=\"font-weight: bold\">{</span>                                                                               <span style=\"color: #7f7f7f; text-decoration-color: #7f7f7f\">                </span>\n",
       "<span style=\"color: #7fbfbf; text-decoration-color: #7fbfbf\">           </span>            <span style=\"color: #008000; text-decoration-color: #008000\">'format'</span>: <span style=\"color: #008000; text-decoration-color: #008000\">'jwt_vc'</span>,                                                         <span style=\"color: #7f7f7f; text-decoration-color: #7f7f7f\">                </span>\n",
       "<span style=\"color: #7fbfbf; text-decoration-color: #7fbfbf\">           </span>            <span style=\"color: #008000; text-decoration-color: #008000\">'types'</span>: <span style=\"font-weight: bold\">[</span>                                                                  <span style=\"color: #7f7f7f; text-decoration-color: #7f7f7f\">                </span>\n",
       "<span style=\"color: #7fbfbf; text-decoration-color: #7fbfbf\">           </span>                <span style=\"color: #008000; text-decoration-color: #008000\">'VerifiableCredential'</span>,                                                 <span style=\"color: #7f7f7f; text-decoration-color: #7f7f7f\">                </span>\n",
       "<span style=\"color: #7fbfbf; text-decoration-color: #7fbfbf\">           </span>                <span style=\"color: #008000; text-decoration-color: #008000\">'VerifiableAttestation'</span>,                                                <span style=\"color: #7f7f7f; text-decoration-color: #7f7f7f\">                </span>\n",
       "<span style=\"color: #7fbfbf; text-decoration-color: #7fbfbf\">           </span>                <span style=\"color: #008000; text-decoration-color: #008000\">'VerifiableAuthorisationForTrustChain'</span>                                  <span style=\"color: #7f7f7f; text-decoration-color: #7f7f7f\">                </span>\n",
       "<span style=\"color: #7fbfbf; text-decoration-color: #7fbfbf\">           </span>            <span style=\"font-weight: bold\">]</span>,                                                                          <span style=\"color: #7f7f7f; text-decoration-color: #7f7f7f\">                </span>\n",
       "<span style=\"color: #7fbfbf; text-decoration-color: #7fbfbf\">           </span>            <span style=\"color: #008000; text-decoration-color: #008000\">'trust_framework'</span>: <span style=\"font-weight: bold\">{</span>                                                        <span style=\"color: #7f7f7f; text-decoration-color: #7f7f7f\">                </span>\n",
       "<span style=\"color: #7fbfbf; text-decoration-color: #7fbfbf\">           </span>                <span style=\"color: #008000; text-decoration-color: #008000\">'name'</span>: <span style=\"color: #008000; text-decoration-color: #008000\">'ebsi'</span>,                                                         <span style=\"color: #7f7f7f; text-decoration-color: #7f7f7f\">                </span>\n",
       "<span style=\"color: #7fbfbf; text-decoration-color: #7fbfbf\">           </span>                <span style=\"color: #008000; text-decoration-color: #008000\">'type'</span>: <span style=\"color: #008000; text-decoration-color: #008000\">'Accreditation'</span>,                                                <span style=\"color: #7f7f7f; text-decoration-color: #7f7f7f\">                </span>\n",
       "<span style=\"color: #7fbfbf; text-decoration-color: #7fbfbf\">           </span>                <span style=\"color: #008000; text-decoration-color: #008000\">'uri'</span>: <span style=\"color: #008000; text-decoration-color: #008000\">'TIR link towards accreditation'</span>                                 <span style=\"color: #7f7f7f; text-decoration-color: #7f7f7f\">                </span>\n",
       "<span style=\"color: #7fbfbf; text-decoration-color: #7fbfbf\">           </span>            <span style=\"font-weight: bold\">}</span>,                                                                          <span style=\"color: #7f7f7f; text-decoration-color: #7f7f7f\">                </span>\n",
       "<span style=\"color: #7fbfbf; text-decoration-color: #7fbfbf\">           </span>            <span style=\"color: #008000; text-decoration-color: #008000\">'display'</span>: <span style=\"font-weight: bold\">[</span>                                                                <span style=\"color: #7f7f7f; text-decoration-color: #7f7f7f\">                </span>\n",
       "<span style=\"color: #7fbfbf; text-decoration-color: #7fbfbf\">           </span>                <span style=\"font-weight: bold\">{</span>                                                                       <span style=\"color: #7f7f7f; text-decoration-color: #7f7f7f\">                </span>\n",
       "<span style=\"color: #7fbfbf; text-decoration-color: #7fbfbf\">           </span>                    <span style=\"color: #008000; text-decoration-color: #008000\">'name'</span>: <span style=\"color: #008000; text-decoration-color: #008000\">'Verifiable Authorisation to issue verifiable tokens'</span>,      <span style=\"color: #7f7f7f; text-decoration-color: #7f7f7f\">                </span>\n",
       "<span style=\"color: #7fbfbf; text-decoration-color: #7fbfbf\">           </span>                    <span style=\"color: #008000; text-decoration-color: #008000\">'locale'</span>: <span style=\"color: #008000; text-decoration-color: #008000\">'en-GB'</span>                                                   <span style=\"color: #7f7f7f; text-decoration-color: #7f7f7f\">                </span>\n",
       "<span style=\"color: #7fbfbf; text-decoration-color: #7fbfbf\">           </span>                <span style=\"font-weight: bold\">}</span>                                                                       <span style=\"color: #7f7f7f; text-decoration-color: #7f7f7f\">                </span>\n",
       "<span style=\"color: #7fbfbf; text-decoration-color: #7fbfbf\">           </span>            <span style=\"font-weight: bold\">]</span>                                                                           <span style=\"color: #7f7f7f; text-decoration-color: #7f7f7f\">                </span>\n",
       "<span style=\"color: #7fbfbf; text-decoration-color: #7fbfbf\">           </span>        <span style=\"font-weight: bold\">}</span>,                                                                              <span style=\"color: #7f7f7f; text-decoration-color: #7f7f7f\">                </span>\n",
       "<span style=\"color: #7fbfbf; text-decoration-color: #7fbfbf\">           </span>        <span style=\"font-weight: bold\">{</span>                                                                               <span style=\"color: #7f7f7f; text-decoration-color: #7f7f7f\">                </span>\n",
       "<span style=\"color: #7fbfbf; text-decoration-color: #7fbfbf\">           </span>            <span style=\"color: #008000; text-decoration-color: #008000\">'format'</span>: <span style=\"color: #008000; text-decoration-color: #008000\">'jwt_vc'</span>,                                                         <span style=\"color: #7f7f7f; text-decoration-color: #7f7f7f\">                </span>\n",
       "<span style=\"color: #7fbfbf; text-decoration-color: #7fbfbf\">           </span>            <span style=\"color: #008000; text-decoration-color: #008000\">'types'</span>: <span style=\"font-weight: bold\">[</span>                                                                  <span style=\"color: #7f7f7f; text-decoration-color: #7f7f7f\">                </span>\n",
       "<span style=\"color: #7fbfbf; text-decoration-color: #7fbfbf\">           </span>                <span style=\"color: #008000; text-decoration-color: #008000\">'VerifiableCredential'</span>,                                                 <span style=\"color: #7f7f7f; text-decoration-color: #7f7f7f\">                </span>\n",
       "<span style=\"color: #7fbfbf; text-decoration-color: #7fbfbf\">           </span>                <span style=\"color: #008000; text-decoration-color: #008000\">'VerifiableAttestation'</span>,                                                <span style=\"color: #7f7f7f; text-decoration-color: #7f7f7f\">                </span>\n",
       "<span style=\"color: #7fbfbf; text-decoration-color: #7fbfbf\">           </span>                <span style=\"color: #008000; text-decoration-color: #008000\">'CTAAQualificationCredential'</span>                                           <span style=\"color: #7f7f7f; text-decoration-color: #7f7f7f\">                </span>\n",
       "<span style=\"color: #7fbfbf; text-decoration-color: #7fbfbf\">           </span>            <span style=\"font-weight: bold\">]</span>,                                                                          <span style=\"color: #7f7f7f; text-decoration-color: #7f7f7f\">                </span>\n",
       "<span style=\"color: #7fbfbf; text-decoration-color: #7fbfbf\">           </span>            <span style=\"color: #008000; text-decoration-color: #008000\">'trust_framework'</span>: <span style=\"font-weight: bold\">{</span>                                                        <span style=\"color: #7f7f7f; text-decoration-color: #7f7f7f\">                </span>\n",
       "<span style=\"color: #7fbfbf; text-decoration-color: #7fbfbf\">           </span>                <span style=\"color: #008000; text-decoration-color: #008000\">'name'</span>: <span style=\"color: #008000; text-decoration-color: #008000\">'ebsi'</span>,                                                         <span style=\"color: #7f7f7f; text-decoration-color: #7f7f7f\">                </span>\n",
       "<span style=\"color: #7fbfbf; text-decoration-color: #7fbfbf\">           </span>                <span style=\"color: #008000; text-decoration-color: #008000\">'type'</span>: <span style=\"color: #008000; text-decoration-color: #008000\">'Accreditation'</span>,                                                <span style=\"color: #7f7f7f; text-decoration-color: #7f7f7f\">                </span>\n",
       "<span style=\"color: #7fbfbf; text-decoration-color: #7fbfbf\">           </span>                <span style=\"color: #008000; text-decoration-color: #008000\">'uri'</span>: <span style=\"color: #008000; text-decoration-color: #008000\">'TIR link towards accreditation'</span>                                 <span style=\"color: #7f7f7f; text-decoration-color: #7f7f7f\">                </span>\n",
       "<span style=\"color: #7fbfbf; text-decoration-color: #7fbfbf\">           </span>            <span style=\"font-weight: bold\">}</span>,                                                                          <span style=\"color: #7f7f7f; text-decoration-color: #7f7f7f\">                </span>\n",
       "<span style=\"color: #7fbfbf; text-decoration-color: #7fbfbf\">           </span>            <span style=\"color: #008000; text-decoration-color: #008000\">'display'</span>: <span style=\"font-weight: bold\">[</span>                                                                <span style=\"color: #7f7f7f; text-decoration-color: #7f7f7f\">                </span>\n",
       "<span style=\"color: #7fbfbf; text-decoration-color: #7fbfbf\">           </span>                <span style=\"font-weight: bold\">{</span>                                                                       <span style=\"color: #7f7f7f; text-decoration-color: #7f7f7f\">                </span>\n",
       "<span style=\"color: #7fbfbf; text-decoration-color: #7fbfbf\">           </span>                    <span style=\"color: #008000; text-decoration-color: #008000\">'name'</span>: <span style=\"color: #008000; text-decoration-color: #008000\">'Verifiable Attestation Conformance Qualification To </span>       <span style=\"color: #7f7f7f; text-decoration-color: #7f7f7f\">                </span>\n",
       "<span style=\"color: #7fbfbf; text-decoration-color: #7fbfbf\">           </span><span style=\"color: #008000; text-decoration-color: #008000\">Accredit &amp; Authorise'</span>,                                                                  <span style=\"color: #7f7f7f; text-decoration-color: #7f7f7f\">                </span>\n",
       "<span style=\"color: #7fbfbf; text-decoration-color: #7fbfbf\">           </span>                    <span style=\"color: #008000; text-decoration-color: #008000\">'locale'</span>: <span style=\"color: #008000; text-decoration-color: #008000\">'en-GB'</span>                                                   <span style=\"color: #7f7f7f; text-decoration-color: #7f7f7f\">                </span>\n",
       "<span style=\"color: #7fbfbf; text-decoration-color: #7fbfbf\">           </span>                <span style=\"font-weight: bold\">}</span>                                                                       <span style=\"color: #7f7f7f; text-decoration-color: #7f7f7f\">                </span>\n",
       "<span style=\"color: #7fbfbf; text-decoration-color: #7fbfbf\">           </span>            <span style=\"font-weight: bold\">]</span>                                                                           <span style=\"color: #7f7f7f; text-decoration-color: #7f7f7f\">                </span>\n",
       "<span style=\"color: #7fbfbf; text-decoration-color: #7fbfbf\">           </span>        <span style=\"font-weight: bold\">}</span>,                                                                              <span style=\"color: #7f7f7f; text-decoration-color: #7f7f7f\">                </span>\n",
       "<span style=\"color: #7fbfbf; text-decoration-color: #7fbfbf\">           </span>        <span style=\"font-weight: bold\">{</span>                                                                               <span style=\"color: #7f7f7f; text-decoration-color: #7f7f7f\">                </span>\n",
       "<span style=\"color: #7fbfbf; text-decoration-color: #7fbfbf\">           </span>            <span style=\"color: #008000; text-decoration-color: #008000\">'format'</span>: <span style=\"color: #008000; text-decoration-color: #008000\">'jwt_vc'</span>,                                                         <span style=\"color: #7f7f7f; text-decoration-color: #7f7f7f\">                </span>\n",
       "<span style=\"color: #7fbfbf; text-decoration-color: #7fbfbf\">           </span>            <span style=\"color: #008000; text-decoration-color: #008000\">'types'</span>: <span style=\"font-weight: bold\">[</span>                                                                  <span style=\"color: #7f7f7f; text-decoration-color: #7f7f7f\">                </span>\n",
       "<span style=\"color: #7fbfbf; text-decoration-color: #7fbfbf\">           </span>                <span style=\"color: #008000; text-decoration-color: #008000\">'VerifiableCredential'</span>,                                                 <span style=\"color: #7f7f7f; text-decoration-color: #7f7f7f\">                </span>\n",
       "<span style=\"color: #7fbfbf; text-decoration-color: #7fbfbf\">           </span>                <span style=\"color: #008000; text-decoration-color: #008000\">'VerifiableAttestation'</span>,                                                <span style=\"color: #7f7f7f; text-decoration-color: #7f7f7f\">                </span>\n",
       "<span style=\"color: #7fbfbf; text-decoration-color: #7fbfbf\">           </span>                <span style=\"color: #008000; text-decoration-color: #008000\">'CTWalletQualificationCredential'</span>                                       <span style=\"color: #7f7f7f; text-decoration-color: #7f7f7f\">                </span>\n",
       "<span style=\"color: #7fbfbf; text-decoration-color: #7fbfbf\">           </span>            <span style=\"font-weight: bold\">]</span>,                                                                          <span style=\"color: #7f7f7f; text-decoration-color: #7f7f7f\">                </span>\n",
       "<span style=\"color: #7fbfbf; text-decoration-color: #7fbfbf\">           </span>            <span style=\"color: #008000; text-decoration-color: #008000\">'trust_framework'</span>: <span style=\"font-weight: bold\">{</span>                                                        <span style=\"color: #7f7f7f; text-decoration-color: #7f7f7f\">                </span>\n",
       "<span style=\"color: #7fbfbf; text-decoration-color: #7fbfbf\">           </span>                <span style=\"color: #008000; text-decoration-color: #008000\">'name'</span>: <span style=\"color: #008000; text-decoration-color: #008000\">'ebsi'</span>,                                                         <span style=\"color: #7f7f7f; text-decoration-color: #7f7f7f\">                </span>\n",
       "<span style=\"color: #7fbfbf; text-decoration-color: #7fbfbf\">           </span>                <span style=\"color: #008000; text-decoration-color: #008000\">'type'</span>: <span style=\"color: #008000; text-decoration-color: #008000\">'Accreditation'</span>,                                                <span style=\"color: #7f7f7f; text-decoration-color: #7f7f7f\">                </span>\n",
       "<span style=\"color: #7fbfbf; text-decoration-color: #7fbfbf\">           </span>                <span style=\"color: #008000; text-decoration-color: #008000\">'uri'</span>: <span style=\"color: #008000; text-decoration-color: #008000\">'TIR link towards accreditation'</span>                                 <span style=\"color: #7f7f7f; text-decoration-color: #7f7f7f\">                </span>\n",
       "<span style=\"color: #7fbfbf; text-decoration-color: #7fbfbf\">           </span>            <span style=\"font-weight: bold\">}</span>,                                                                          <span style=\"color: #7f7f7f; text-decoration-color: #7f7f7f\">                </span>\n",
       "<span style=\"color: #7fbfbf; text-decoration-color: #7fbfbf\">           </span>            <span style=\"color: #008000; text-decoration-color: #008000\">'display'</span>: <span style=\"font-weight: bold\">[</span>                                                                <span style=\"color: #7f7f7f; text-decoration-color: #7f7f7f\">                </span>\n",
       "<span style=\"color: #7fbfbf; text-decoration-color: #7fbfbf\">           </span>                <span style=\"font-weight: bold\">{</span>                                                                       <span style=\"color: #7f7f7f; text-decoration-color: #7f7f7f\">                </span>\n",
       "<span style=\"color: #7fbfbf; text-decoration-color: #7fbfbf\">           </span>                    <span style=\"color: #008000; text-decoration-color: #008000\">'name'</span>: <span style=\"color: #008000; text-decoration-color: #008000\">'Verifiable Attestation Conformance Qualification Holder </span>   <span style=\"color: #7f7f7f; text-decoration-color: #7f7f7f\">                </span>\n",
       "<span style=\"color: #7fbfbf; text-decoration-color: #7fbfbf\">           </span><span style=\"color: #008000; text-decoration-color: #008000\">Wallet'</span>,                                                                                <span style=\"color: #7f7f7f; text-decoration-color: #7f7f7f\">                </span>\n",
       "<span style=\"color: #7fbfbf; text-decoration-color: #7fbfbf\">           </span>                    <span style=\"color: #008000; text-decoration-color: #008000\">'locale'</span>: <span style=\"color: #008000; text-decoration-color: #008000\">'en-GB'</span>                                                   <span style=\"color: #7f7f7f; text-decoration-color: #7f7f7f\">                </span>\n",
       "<span style=\"color: #7fbfbf; text-decoration-color: #7fbfbf\">           </span>                <span style=\"font-weight: bold\">}</span>                                                                       <span style=\"color: #7f7f7f; text-decoration-color: #7f7f7f\">                </span>\n",
       "<span style=\"color: #7fbfbf; text-decoration-color: #7fbfbf\">           </span>            <span style=\"font-weight: bold\">]</span>                                                                           <span style=\"color: #7f7f7f; text-decoration-color: #7f7f7f\">                </span>\n",
       "<span style=\"color: #7fbfbf; text-decoration-color: #7fbfbf\">           </span>        <span style=\"font-weight: bold\">}</span>                                                                               <span style=\"color: #7f7f7f; text-decoration-color: #7f7f7f\">                </span>\n",
       "<span style=\"color: #7fbfbf; text-decoration-color: #7fbfbf\">           </span>    <span style=\"font-weight: bold\">]</span>                                                                                   <span style=\"color: #7f7f7f; text-decoration-color: #7f7f7f\">                </span>\n",
       "<span style=\"color: #7fbfbf; text-decoration-color: #7fbfbf\">           </span><span style=\"font-weight: bold\">)</span>                                                                                       <span style=\"color: #7f7f7f; text-decoration-color: #7f7f7f\">                </span>\n",
       "</pre>\n"
      ],
      "text/plain": [
       "\u001b[2;36m          \u001b[0m\u001b[2;36m \u001b[0mCredential issuer configuration:                                                        \u001b]8;id=586826;file:///tmp/ipykernel_54302/3425914532.py\u001b\\\u001b[2m3425914532.py\u001b[0m\u001b]8;;\u001b\\\u001b[2m:\u001b[0m\u001b]8;id=59423;file:///tmp/ipykernel_54302/3425914532.py#21\u001b\\\u001b[2m21\u001b[0m\u001b]8;;\u001b\\\n",
       "\u001b[2;36m           \u001b[0m\u001b[1;35mOpenIDCredentialIssuerConfig\u001b[0m\u001b[1m(\u001b[0m                                                           \u001b[2m                \u001b[0m\n",
       "\u001b[2;36m           \u001b[0m    \u001b[33mcredential_issuer\u001b[0m=\u001b[32m'https://api-conformance.ebsi.eu/conformance/v3/issuer-mock'\u001b[0m,     \u001b[2m                \u001b[0m\n",
       "\u001b[2;36m           \u001b[0m    \u001b[33mauthorization_server\u001b[0m=\u001b[32m'https://api-conformance.ebsi.eu/conformance/v3/auth-mock'\u001b[0m,    \u001b[2m                \u001b[0m\n",
       "\u001b[2;36m           \u001b[0m    \u001b[33mcredential_endpoint\u001b[0m=\u001b[32m'https://api-conformance.ebsi.eu/conformance/v3/issuer-mock/cre\u001b[0m \u001b[2m                \u001b[0m\n",
       "\u001b[2;36m           \u001b[0m\u001b[32mdential'\u001b[0m,                                                                               \u001b[2m                \u001b[0m\n",
       "\u001b[2;36m           \u001b[0m    \u001b[33mdeferred_credential_endpoint\u001b[0m=\u001b[32m'https://api-conformance.ebsi.eu/conformance/v3/issuer\u001b[0m \u001b[2m                \u001b[0m\n",
       "\u001b[2;36m           \u001b[0m\u001b[32m-mock/credential_deferred'\u001b[0m,                                                             \u001b[2m                \u001b[0m\n",
       "\u001b[2;36m           \u001b[0m    \u001b[33mcredentials_supported\u001b[0m=\u001b[1m[\u001b[0m                                                             \u001b[2m                \u001b[0m\n",
       "\u001b[2;36m           \u001b[0m        \u001b[1m{\u001b[0m                                                                               \u001b[2m                \u001b[0m\n",
       "\u001b[2;36m           \u001b[0m            \u001b[32m'format'\u001b[0m: \u001b[32m'jwt_vc'\u001b[0m,                                                         \u001b[2m                \u001b[0m\n",
       "\u001b[2;36m           \u001b[0m            \u001b[32m'types'\u001b[0m: \u001b[1m[\u001b[0m                                                                  \u001b[2m                \u001b[0m\n",
       "\u001b[2;36m           \u001b[0m                \u001b[32m'VerifiableCredential'\u001b[0m,                                                 \u001b[2m                \u001b[0m\n",
       "\u001b[2;36m           \u001b[0m                \u001b[32m'VerifiableAttestation'\u001b[0m,                                                \u001b[2m                \u001b[0m\n",
       "\u001b[2;36m           \u001b[0m                \u001b[32m'VerifiableAuthorisationToOnboard'\u001b[0m                                      \u001b[2m                \u001b[0m\n",
       "\u001b[2;36m           \u001b[0m            \u001b[1m]\u001b[0m,                                                                          \u001b[2m                \u001b[0m\n",
       "\u001b[2;36m           \u001b[0m            \u001b[32m'trust_framework'\u001b[0m: \u001b[1m{\u001b[0m                                                        \u001b[2m                \u001b[0m\n",
       "\u001b[2;36m           \u001b[0m                \u001b[32m'name'\u001b[0m: \u001b[32m'ebsi'\u001b[0m,                                                         \u001b[2m                \u001b[0m\n",
       "\u001b[2;36m           \u001b[0m                \u001b[32m'type'\u001b[0m: \u001b[32m'Accreditation'\u001b[0m,                                                \u001b[2m                \u001b[0m\n",
       "\u001b[2;36m           \u001b[0m                \u001b[32m'uri'\u001b[0m: \u001b[32m'TIR link towards accreditation'\u001b[0m                                 \u001b[2m                \u001b[0m\n",
       "\u001b[2;36m           \u001b[0m            \u001b[1m}\u001b[0m,                                                                          \u001b[2m                \u001b[0m\n",
       "\u001b[2;36m           \u001b[0m            \u001b[32m'display'\u001b[0m: \u001b[1m[\u001b[0m                                                                \u001b[2m                \u001b[0m\n",
       "\u001b[2;36m           \u001b[0m                \u001b[1m{\u001b[0m\u001b[32m'name'\u001b[0m: \u001b[32m'Verifiable Authorisation to onboard'\u001b[0m, \u001b[32m'locale'\u001b[0m: \u001b[32m'en-GB'\u001b[0m\u001b[1m}\u001b[0m      \u001b[2m                \u001b[0m\n",
       "\u001b[2;36m           \u001b[0m            \u001b[1m]\u001b[0m                                                                           \u001b[2m                \u001b[0m\n",
       "\u001b[2;36m           \u001b[0m        \u001b[1m}\u001b[0m,                                                                              \u001b[2m                \u001b[0m\n",
       "\u001b[2;36m           \u001b[0m        \u001b[1m{\u001b[0m                                                                               \u001b[2m                \u001b[0m\n",
       "\u001b[2;36m           \u001b[0m            \u001b[32m'format'\u001b[0m: \u001b[32m'jwt_vc'\u001b[0m,                                                         \u001b[2m                \u001b[0m\n",
       "\u001b[2;36m           \u001b[0m            \u001b[32m'types'\u001b[0m: \u001b[1m[\u001b[0m                                                                  \u001b[2m                \u001b[0m\n",
       "\u001b[2;36m           \u001b[0m                \u001b[32m'VerifiableCredential'\u001b[0m,                                                 \u001b[2m                \u001b[0m\n",
       "\u001b[2;36m           \u001b[0m                \u001b[32m'VerifiableAttestation'\u001b[0m,                                                \u001b[2m                \u001b[0m\n",
       "\u001b[2;36m           \u001b[0m                \u001b[32m'VerifiableAccreditation'\u001b[0m,                                              \u001b[2m                \u001b[0m\n",
       "\u001b[2;36m           \u001b[0m                \u001b[32m'VerifiableAccreditationToAttest'\u001b[0m                                       \u001b[2m                \u001b[0m\n",
       "\u001b[2;36m           \u001b[0m            \u001b[1m]\u001b[0m,                                                                          \u001b[2m                \u001b[0m\n",
       "\u001b[2;36m           \u001b[0m            \u001b[32m'trust_framework'\u001b[0m: \u001b[1m{\u001b[0m                                                        \u001b[2m                \u001b[0m\n",
       "\u001b[2;36m           \u001b[0m                \u001b[32m'name'\u001b[0m: \u001b[32m'ebsi'\u001b[0m,                                                         \u001b[2m                \u001b[0m\n",
       "\u001b[2;36m           \u001b[0m                \u001b[32m'type'\u001b[0m: \u001b[32m'Accreditation'\u001b[0m,                                                \u001b[2m                \u001b[0m\n",
       "\u001b[2;36m           \u001b[0m                \u001b[32m'uri'\u001b[0m: \u001b[32m'TIR link towards accreditation'\u001b[0m                                 \u001b[2m                \u001b[0m\n",
       "\u001b[2;36m           \u001b[0m            \u001b[1m}\u001b[0m,                                                                          \u001b[2m                \u001b[0m\n",
       "\u001b[2;36m           \u001b[0m            \u001b[32m'display'\u001b[0m: \u001b[1m[\u001b[0m                                                                \u001b[2m                \u001b[0m\n",
       "\u001b[2;36m           \u001b[0m                \u001b[1m{\u001b[0m\u001b[32m'name'\u001b[0m: \u001b[32m'Verifiable Accreditation to attest'\u001b[0m, \u001b[32m'locale'\u001b[0m: \u001b[32m'en-GB'\u001b[0m\u001b[1m}\u001b[0m       \u001b[2m                \u001b[0m\n",
       "\u001b[2;36m           \u001b[0m            \u001b[1m]\u001b[0m                                                                           \u001b[2m                \u001b[0m\n",
       "\u001b[2;36m           \u001b[0m        \u001b[1m}\u001b[0m,                                                                              \u001b[2m                \u001b[0m\n",
       "\u001b[2;36m           \u001b[0m        \u001b[1m{\u001b[0m                                                                               \u001b[2m                \u001b[0m\n",
       "\u001b[2;36m           \u001b[0m            \u001b[32m'format'\u001b[0m: \u001b[32m'jwt_vc'\u001b[0m,                                                         \u001b[2m                \u001b[0m\n",
       "\u001b[2;36m           \u001b[0m            \u001b[32m'types'\u001b[0m: \u001b[1m[\u001b[0m                                                                  \u001b[2m                \u001b[0m\n",
       "\u001b[2;36m           \u001b[0m                \u001b[32m'VerifiableCredential'\u001b[0m,                                                 \u001b[2m                \u001b[0m\n",
       "\u001b[2;36m           \u001b[0m                \u001b[32m'VerifiableAttestation'\u001b[0m,                                                \u001b[2m                \u001b[0m\n",
       "\u001b[2;36m           \u001b[0m                \u001b[32m'VerifiableAccreditation'\u001b[0m,                                              \u001b[2m                \u001b[0m\n",
       "\u001b[2;36m           \u001b[0m                \u001b[32m'VerifiableAccreditationToAccredit'\u001b[0m                                     \u001b[2m                \u001b[0m\n",
       "\u001b[2;36m           \u001b[0m            \u001b[1m]\u001b[0m,                                                                          \u001b[2m                \u001b[0m\n",
       "\u001b[2;36m           \u001b[0m            \u001b[32m'trust_framework'\u001b[0m: \u001b[1m{\u001b[0m                                                        \u001b[2m                \u001b[0m\n",
       "\u001b[2;36m           \u001b[0m                \u001b[32m'name'\u001b[0m: \u001b[32m'ebsi'\u001b[0m,                                                         \u001b[2m                \u001b[0m\n",
       "\u001b[2;36m           \u001b[0m                \u001b[32m'type'\u001b[0m: \u001b[32m'Accreditation'\u001b[0m,                                                \u001b[2m                \u001b[0m\n",
       "\u001b[2;36m           \u001b[0m                \u001b[32m'uri'\u001b[0m: \u001b[32m'TIR link towards accreditation'\u001b[0m                                 \u001b[2m                \u001b[0m\n",
       "\u001b[2;36m           \u001b[0m            \u001b[1m}\u001b[0m,                                                                          \u001b[2m                \u001b[0m\n",
       "\u001b[2;36m           \u001b[0m            \u001b[32m'display'\u001b[0m: \u001b[1m[\u001b[0m                                                                \u001b[2m                \u001b[0m\n",
       "\u001b[2;36m           \u001b[0m                \u001b[1m{\u001b[0m\u001b[32m'name'\u001b[0m: \u001b[32m'Verifiable Accreditation to accredit'\u001b[0m, \u001b[32m'locale'\u001b[0m: \u001b[32m'en-GB'\u001b[0m\u001b[1m}\u001b[0m     \u001b[2m                \u001b[0m\n",
       "\u001b[2;36m           \u001b[0m            \u001b[1m]\u001b[0m                                                                           \u001b[2m                \u001b[0m\n",
       "\u001b[2;36m           \u001b[0m        \u001b[1m}\u001b[0m,                                                                              \u001b[2m                \u001b[0m\n",
       "\u001b[2;36m           \u001b[0m        \u001b[1m{\u001b[0m                                                                               \u001b[2m                \u001b[0m\n",
       "\u001b[2;36m           \u001b[0m            \u001b[32m'format'\u001b[0m: \u001b[32m'jwt_vc'\u001b[0m,                                                         \u001b[2m                \u001b[0m\n",
       "\u001b[2;36m           \u001b[0m            \u001b[32m'types'\u001b[0m: \u001b[1m[\u001b[0m                                                                  \u001b[2m                \u001b[0m\n",
       "\u001b[2;36m           \u001b[0m                \u001b[32m'VerifiableCredential'\u001b[0m,                                                 \u001b[2m                \u001b[0m\n",
       "\u001b[2;36m           \u001b[0m                \u001b[32m'VerifiableAttestation'\u001b[0m,                                                \u001b[2m                \u001b[0m\n",
       "\u001b[2;36m           \u001b[0m                \u001b[32m'VerifiableAuthorisationForTrustChain'\u001b[0m                                  \u001b[2m                \u001b[0m\n",
       "\u001b[2;36m           \u001b[0m            \u001b[1m]\u001b[0m,                                                                          \u001b[2m                \u001b[0m\n",
       "\u001b[2;36m           \u001b[0m            \u001b[32m'trust_framework'\u001b[0m: \u001b[1m{\u001b[0m                                                        \u001b[2m                \u001b[0m\n",
       "\u001b[2;36m           \u001b[0m                \u001b[32m'name'\u001b[0m: \u001b[32m'ebsi'\u001b[0m,                                                         \u001b[2m                \u001b[0m\n",
       "\u001b[2;36m           \u001b[0m                \u001b[32m'type'\u001b[0m: \u001b[32m'Accreditation'\u001b[0m,                                                \u001b[2m                \u001b[0m\n",
       "\u001b[2;36m           \u001b[0m                \u001b[32m'uri'\u001b[0m: \u001b[32m'TIR link towards accreditation'\u001b[0m                                 \u001b[2m                \u001b[0m\n",
       "\u001b[2;36m           \u001b[0m            \u001b[1m}\u001b[0m,                                                                          \u001b[2m                \u001b[0m\n",
       "\u001b[2;36m           \u001b[0m            \u001b[32m'display'\u001b[0m: \u001b[1m[\u001b[0m                                                                \u001b[2m                \u001b[0m\n",
       "\u001b[2;36m           \u001b[0m                \u001b[1m{\u001b[0m                                                                       \u001b[2m                \u001b[0m\n",
       "\u001b[2;36m           \u001b[0m                    \u001b[32m'name'\u001b[0m: \u001b[32m'Verifiable Authorisation to issue verifiable tokens'\u001b[0m,      \u001b[2m                \u001b[0m\n",
       "\u001b[2;36m           \u001b[0m                    \u001b[32m'locale'\u001b[0m: \u001b[32m'en-GB'\u001b[0m                                                   \u001b[2m                \u001b[0m\n",
       "\u001b[2;36m           \u001b[0m                \u001b[1m}\u001b[0m                                                                       \u001b[2m                \u001b[0m\n",
       "\u001b[2;36m           \u001b[0m            \u001b[1m]\u001b[0m                                                                           \u001b[2m                \u001b[0m\n",
       "\u001b[2;36m           \u001b[0m        \u001b[1m}\u001b[0m,                                                                              \u001b[2m                \u001b[0m\n",
       "\u001b[2;36m           \u001b[0m        \u001b[1m{\u001b[0m                                                                               \u001b[2m                \u001b[0m\n",
       "\u001b[2;36m           \u001b[0m            \u001b[32m'format'\u001b[0m: \u001b[32m'jwt_vc'\u001b[0m,                                                         \u001b[2m                \u001b[0m\n",
       "\u001b[2;36m           \u001b[0m            \u001b[32m'types'\u001b[0m: \u001b[1m[\u001b[0m                                                                  \u001b[2m                \u001b[0m\n",
       "\u001b[2;36m           \u001b[0m                \u001b[32m'VerifiableCredential'\u001b[0m,                                                 \u001b[2m                \u001b[0m\n",
       "\u001b[2;36m           \u001b[0m                \u001b[32m'VerifiableAttestation'\u001b[0m,                                                \u001b[2m                \u001b[0m\n",
       "\u001b[2;36m           \u001b[0m                \u001b[32m'CTAAQualificationCredential'\u001b[0m                                           \u001b[2m                \u001b[0m\n",
       "\u001b[2;36m           \u001b[0m            \u001b[1m]\u001b[0m,                                                                          \u001b[2m                \u001b[0m\n",
       "\u001b[2;36m           \u001b[0m            \u001b[32m'trust_framework'\u001b[0m: \u001b[1m{\u001b[0m                                                        \u001b[2m                \u001b[0m\n",
       "\u001b[2;36m           \u001b[0m                \u001b[32m'name'\u001b[0m: \u001b[32m'ebsi'\u001b[0m,                                                         \u001b[2m                \u001b[0m\n",
       "\u001b[2;36m           \u001b[0m                \u001b[32m'type'\u001b[0m: \u001b[32m'Accreditation'\u001b[0m,                                                \u001b[2m                \u001b[0m\n",
       "\u001b[2;36m           \u001b[0m                \u001b[32m'uri'\u001b[0m: \u001b[32m'TIR link towards accreditation'\u001b[0m                                 \u001b[2m                \u001b[0m\n",
       "\u001b[2;36m           \u001b[0m            \u001b[1m}\u001b[0m,                                                                          \u001b[2m                \u001b[0m\n",
       "\u001b[2;36m           \u001b[0m            \u001b[32m'display'\u001b[0m: \u001b[1m[\u001b[0m                                                                \u001b[2m                \u001b[0m\n",
       "\u001b[2;36m           \u001b[0m                \u001b[1m{\u001b[0m                                                                       \u001b[2m                \u001b[0m\n",
       "\u001b[2;36m           \u001b[0m                    \u001b[32m'name'\u001b[0m: \u001b[32m'Verifiable Attestation Conformance Qualification To \u001b[0m       \u001b[2m                \u001b[0m\n",
       "\u001b[2;36m           \u001b[0m\u001b[32mAccredit & Authorise'\u001b[0m,                                                                  \u001b[2m                \u001b[0m\n",
       "\u001b[2;36m           \u001b[0m                    \u001b[32m'locale'\u001b[0m: \u001b[32m'en-GB'\u001b[0m                                                   \u001b[2m                \u001b[0m\n",
       "\u001b[2;36m           \u001b[0m                \u001b[1m}\u001b[0m                                                                       \u001b[2m                \u001b[0m\n",
       "\u001b[2;36m           \u001b[0m            \u001b[1m]\u001b[0m                                                                           \u001b[2m                \u001b[0m\n",
       "\u001b[2;36m           \u001b[0m        \u001b[1m}\u001b[0m,                                                                              \u001b[2m                \u001b[0m\n",
       "\u001b[2;36m           \u001b[0m        \u001b[1m{\u001b[0m                                                                               \u001b[2m                \u001b[0m\n",
       "\u001b[2;36m           \u001b[0m            \u001b[32m'format'\u001b[0m: \u001b[32m'jwt_vc'\u001b[0m,                                                         \u001b[2m                \u001b[0m\n",
       "\u001b[2;36m           \u001b[0m            \u001b[32m'types'\u001b[0m: \u001b[1m[\u001b[0m                                                                  \u001b[2m                \u001b[0m\n",
       "\u001b[2;36m           \u001b[0m                \u001b[32m'VerifiableCredential'\u001b[0m,                                                 \u001b[2m                \u001b[0m\n",
       "\u001b[2;36m           \u001b[0m                \u001b[32m'VerifiableAttestation'\u001b[0m,                                                \u001b[2m                \u001b[0m\n",
       "\u001b[2;36m           \u001b[0m                \u001b[32m'CTWalletQualificationCredential'\u001b[0m                                       \u001b[2m                \u001b[0m\n",
       "\u001b[2;36m           \u001b[0m            \u001b[1m]\u001b[0m,                                                                          \u001b[2m                \u001b[0m\n",
       "\u001b[2;36m           \u001b[0m            \u001b[32m'trust_framework'\u001b[0m: \u001b[1m{\u001b[0m                                                        \u001b[2m                \u001b[0m\n",
       "\u001b[2;36m           \u001b[0m                \u001b[32m'name'\u001b[0m: \u001b[32m'ebsi'\u001b[0m,                                                         \u001b[2m                \u001b[0m\n",
       "\u001b[2;36m           \u001b[0m                \u001b[32m'type'\u001b[0m: \u001b[32m'Accreditation'\u001b[0m,                                                \u001b[2m                \u001b[0m\n",
       "\u001b[2;36m           \u001b[0m                \u001b[32m'uri'\u001b[0m: \u001b[32m'TIR link towards accreditation'\u001b[0m                                 \u001b[2m                \u001b[0m\n",
       "\u001b[2;36m           \u001b[0m            \u001b[1m}\u001b[0m,                                                                          \u001b[2m                \u001b[0m\n",
       "\u001b[2;36m           \u001b[0m            \u001b[32m'display'\u001b[0m: \u001b[1m[\u001b[0m                                                                \u001b[2m                \u001b[0m\n",
       "\u001b[2;36m           \u001b[0m                \u001b[1m{\u001b[0m                                                                       \u001b[2m                \u001b[0m\n",
       "\u001b[2;36m           \u001b[0m                    \u001b[32m'name'\u001b[0m: \u001b[32m'Verifiable Attestation Conformance Qualification Holder \u001b[0m   \u001b[2m                \u001b[0m\n",
       "\u001b[2;36m           \u001b[0m\u001b[32mWallet'\u001b[0m,                                                                                \u001b[2m                \u001b[0m\n",
       "\u001b[2;36m           \u001b[0m                    \u001b[32m'locale'\u001b[0m: \u001b[32m'en-GB'\u001b[0m                                                   \u001b[2m                \u001b[0m\n",
       "\u001b[2;36m           \u001b[0m                \u001b[1m}\u001b[0m                                                                       \u001b[2m                \u001b[0m\n",
       "\u001b[2;36m           \u001b[0m            \u001b[1m]\u001b[0m                                                                           \u001b[2m                \u001b[0m\n",
       "\u001b[2;36m           \u001b[0m        \u001b[1m}\u001b[0m                                                                               \u001b[2m                \u001b[0m\n",
       "\u001b[2;36m           \u001b[0m    \u001b[1m]\u001b[0m                                                                                   \u001b[2m                \u001b[0m\n",
       "\u001b[2;36m           \u001b[0m\u001b[1m)\u001b[0m                                                                                       \u001b[2m                \u001b[0m\n"
      ]
     },
     "metadata": {},
     "output_type": "display_data"
    },
    {
     "data": {
      "text/html": [
       "<pre style=\"white-space:pre;overflow-x:auto;line-height:normal;font-family:Menlo,'DejaVu Sans Mono',consolas,'Courier New',monospace\"><span style=\"color: #7fbfbf; text-decoration-color: #7fbfbf\">[21:12:07] </span>Authorization server configuration:                                                     <a href=\"file:///tmp/ipykernel_54302/3425914532.py\" target=\"_blank\"><span style=\"color: #7f7f7f; text-decoration-color: #7f7f7f\">3425914532.py</span></a><span style=\"color: #7f7f7f; text-decoration-color: #7f7f7f\">:</span><a href=\"file:///tmp/ipykernel_54302/3425914532.py#24\" target=\"_blank\"><span style=\"color: #7f7f7f; text-decoration-color: #7f7f7f\">24</span></a>\n",
       "<span style=\"color: #7fbfbf; text-decoration-color: #7fbfbf\">           </span><span style=\"color: #800080; text-decoration-color: #800080; font-weight: bold\">OpenIDAuthServerConfig</span><span style=\"font-weight: bold\">(</span>                                                                 <span style=\"color: #7f7f7f; text-decoration-color: #7f7f7f\">                </span>\n",
       "<span style=\"color: #7fbfbf; text-decoration-color: #7fbfbf\">           </span>    <span style=\"color: #808000; text-decoration-color: #808000\">redirect_uris</span>=<span style=\"font-weight: bold\">[</span>                                                                     <span style=\"color: #7f7f7f; text-decoration-color: #7f7f7f\">                </span>\n",
       "<span style=\"color: #7fbfbf; text-decoration-color: #7fbfbf\">           </span>        <span style=\"color: #008000; text-decoration-color: #008000\">'https://api-conformance.ebsi.eu/conformance/v3/auth-mock/direct_post'</span>          <span style=\"color: #7f7f7f; text-decoration-color: #7f7f7f\">                </span>\n",
       "<span style=\"color: #7fbfbf; text-decoration-color: #7fbfbf\">           </span>    <span style=\"font-weight: bold\">]</span>,                                                                                  <span style=\"color: #7f7f7f; text-decoration-color: #7f7f7f\">                </span>\n",
       "<span style=\"color: #7fbfbf; text-decoration-color: #7fbfbf\">           </span>    <span style=\"color: #808000; text-decoration-color: #808000\">issuer</span>=<span style=\"color: #008000; text-decoration-color: #008000\">'https://api-conformance.ebsi.eu/conformance/v3/auth-mock'</span>,                  <span style=\"color: #7f7f7f; text-decoration-color: #7f7f7f\">                </span>\n",
       "<span style=\"color: #7fbfbf; text-decoration-color: #7fbfbf\">           </span>    <span style=\"color: #808000; text-decoration-color: #808000\">authorization_endpoint</span>=<span style=\"color: #008000; text-decoration-color: #008000\">'https://api-conformance.ebsi.eu/conformance/v3/auth-mock/au</span> <span style=\"color: #7f7f7f; text-decoration-color: #7f7f7f\">                </span>\n",
       "<span style=\"color: #7fbfbf; text-decoration-color: #7fbfbf\">           </span><span style=\"color: #008000; text-decoration-color: #008000\">thorize'</span>,                                                                               <span style=\"color: #7f7f7f; text-decoration-color: #7f7f7f\">                </span>\n",
       "<span style=\"color: #7fbfbf; text-decoration-color: #7fbfbf\">           </span>    <span style=\"color: #808000; text-decoration-color: #808000\">token_endpoint</span>=<span style=\"color: #008000; text-decoration-color: #008000\">'https://api-conformance.ebsi.eu/conformance/v3/auth-mock/token'</span>,    <span style=\"color: #7f7f7f; text-decoration-color: #7f7f7f\">                </span>\n",
       "<span style=\"color: #7fbfbf; text-decoration-color: #7fbfbf\">           </span>    <span style=\"color: #808000; text-decoration-color: #808000\">jwks_uri</span>=<span style=\"color: #008000; text-decoration-color: #008000\">'https://api-conformance.ebsi.eu/conformance/v3/auth-mock/jwks'</span>,           <span style=\"color: #7f7f7f; text-decoration-color: #7f7f7f\">                </span>\n",
       "<span style=\"color: #7fbfbf; text-decoration-color: #7fbfbf\">           </span>    <span style=\"color: #808000; text-decoration-color: #808000\">scopes_supported</span>=<span style=\"font-weight: bold\">[</span><span style=\"color: #008000; text-decoration-color: #008000\">'openid'</span><span style=\"font-weight: bold\">]</span>,                                                        <span style=\"color: #7f7f7f; text-decoration-color: #7f7f7f\">                </span>\n",
       "<span style=\"color: #7fbfbf; text-decoration-color: #7fbfbf\">           </span>    <span style=\"color: #808000; text-decoration-color: #808000\">response_types_supported</span>=<span style=\"font-weight: bold\">[</span><span style=\"color: #008000; text-decoration-color: #008000\">'vp_token'</span>, <span style=\"color: #008000; text-decoration-color: #008000\">'id_token'</span><span style=\"font-weight: bold\">]</span>,                                  <span style=\"color: #7f7f7f; text-decoration-color: #7f7f7f\">                </span>\n",
       "<span style=\"color: #7fbfbf; text-decoration-color: #7fbfbf\">           </span>    <span style=\"color: #808000; text-decoration-color: #808000\">response_modes_supported</span>=<span style=\"font-weight: bold\">[</span><span style=\"color: #008000; text-decoration-color: #008000\">'query'</span><span style=\"font-weight: bold\">]</span>,                                                 <span style=\"color: #7f7f7f; text-decoration-color: #7f7f7f\">                </span>\n",
       "<span style=\"color: #7fbfbf; text-decoration-color: #7fbfbf\">           </span>    <span style=\"color: #808000; text-decoration-color: #808000\">grant_types_supported</span>=<span style=\"font-weight: bold\">[</span><span style=\"color: #008000; text-decoration-color: #008000\">'authorization_code'</span><span style=\"font-weight: bold\">]</span>,                                       <span style=\"color: #7f7f7f; text-decoration-color: #7f7f7f\">                </span>\n",
       "<span style=\"color: #7fbfbf; text-decoration-color: #7fbfbf\">           </span>    <span style=\"color: #808000; text-decoration-color: #808000\">subject_types_supported</span>=<span style=\"font-weight: bold\">[</span><span style=\"color: #008000; text-decoration-color: #008000\">'public'</span><span style=\"font-weight: bold\">]</span>,                                                 <span style=\"color: #7f7f7f; text-decoration-color: #7f7f7f\">                </span>\n",
       "<span style=\"color: #7fbfbf; text-decoration-color: #7fbfbf\">           </span>    <span style=\"color: #808000; text-decoration-color: #808000\">id_token_signing_alg_values_supported</span>=<span style=\"font-weight: bold\">[</span><span style=\"color: #008000; text-decoration-color: #008000\">'ES256'</span><span style=\"font-weight: bold\">]</span>,                                    <span style=\"color: #7f7f7f; text-decoration-color: #7f7f7f\">                </span>\n",
       "<span style=\"color: #7fbfbf; text-decoration-color: #7fbfbf\">           </span>    <span style=\"color: #808000; text-decoration-color: #808000\">request_object_signing_alg_values_supported</span>=<span style=\"font-weight: bold\">[</span><span style=\"color: #008000; text-decoration-color: #008000\">'ES256'</span><span style=\"font-weight: bold\">]</span>,                              <span style=\"color: #7f7f7f; text-decoration-color: #7f7f7f\">                </span>\n",
       "<span style=\"color: #7fbfbf; text-decoration-color: #7fbfbf\">           </span>    <span style=\"color: #808000; text-decoration-color: #808000\">request_parameter_supported</span>=<span style=\"color: #00ff00; text-decoration-color: #00ff00; font-style: italic\">True</span>,                                                   <span style=\"color: #7f7f7f; text-decoration-color: #7f7f7f\">                </span>\n",
       "<span style=\"color: #7fbfbf; text-decoration-color: #7fbfbf\">           </span>    <span style=\"color: #808000; text-decoration-color: #808000\">request_uri_parameter_supported</span>=<span style=\"color: #00ff00; text-decoration-color: #00ff00; font-style: italic\">True</span>,                                               <span style=\"color: #7f7f7f; text-decoration-color: #7f7f7f\">                </span>\n",
       "<span style=\"color: #7fbfbf; text-decoration-color: #7fbfbf\">           </span>    <span style=\"color: #808000; text-decoration-color: #808000\">token_endpoint_auth_methods_supported</span>=<span style=\"font-weight: bold\">[</span><span style=\"color: #008000; text-decoration-color: #008000\">'private_key_jwt'</span><span style=\"font-weight: bold\">]</span>,                          <span style=\"color: #7f7f7f; text-decoration-color: #7f7f7f\">                </span>\n",
       "<span style=\"color: #7fbfbf; text-decoration-color: #7fbfbf\">           </span>    <span style=\"color: #808000; text-decoration-color: #808000\">request_authentication_methods_supported</span>=<span style=\"font-weight: bold\">{</span>                                          <span style=\"color: #7f7f7f; text-decoration-color: #7f7f7f\">                </span>\n",
       "<span style=\"color: #7fbfbf; text-decoration-color: #7fbfbf\">           </span>        <span style=\"color: #008000; text-decoration-color: #008000\">'authorization_endpoint'</span>: <span style=\"font-weight: bold\">[</span><span style=\"color: #008000; text-decoration-color: #008000\">'request_object'</span><span style=\"font-weight: bold\">]</span>                                    <span style=\"color: #7f7f7f; text-decoration-color: #7f7f7f\">                </span>\n",
       "<span style=\"color: #7fbfbf; text-decoration-color: #7fbfbf\">           </span>    <span style=\"font-weight: bold\">}</span>,                                                                                  <span style=\"color: #7f7f7f; text-decoration-color: #7f7f7f\">                </span>\n",
       "<span style=\"color: #7fbfbf; text-decoration-color: #7fbfbf\">           </span>    <span style=\"color: #808000; text-decoration-color: #808000\">vp_formats_supported</span>=<span style=\"font-weight: bold\">{</span>                                                              <span style=\"color: #7f7f7f; text-decoration-color: #7f7f7f\">                </span>\n",
       "<span style=\"color: #7fbfbf; text-decoration-color: #7fbfbf\">           </span>        <span style=\"color: #008000; text-decoration-color: #008000\">'jwt_vp'</span>: <span style=\"font-weight: bold\">{</span><span style=\"color: #008000; text-decoration-color: #008000\">'alg_values_supported'</span>: <span style=\"font-weight: bold\">[</span><span style=\"color: #008000; text-decoration-color: #008000\">'ES256'</span><span style=\"font-weight: bold\">]}</span>,                                  <span style=\"color: #7f7f7f; text-decoration-color: #7f7f7f\">                </span>\n",
       "<span style=\"color: #7fbfbf; text-decoration-color: #7fbfbf\">           </span>        <span style=\"color: #008000; text-decoration-color: #008000\">'jwt_vc'</span>: <span style=\"font-weight: bold\">{</span><span style=\"color: #008000; text-decoration-color: #008000\">'alg_values_supported'</span>: <span style=\"font-weight: bold\">[</span><span style=\"color: #008000; text-decoration-color: #008000\">'ES256'</span><span style=\"font-weight: bold\">]}</span>                                   <span style=\"color: #7f7f7f; text-decoration-color: #7f7f7f\">                </span>\n",
       "<span style=\"color: #7fbfbf; text-decoration-color: #7fbfbf\">           </span>    <span style=\"font-weight: bold\">}</span>,                                                                                  <span style=\"color: #7f7f7f; text-decoration-color: #7f7f7f\">                </span>\n",
       "<span style=\"color: #7fbfbf; text-decoration-color: #7fbfbf\">           </span>    <span style=\"color: #808000; text-decoration-color: #808000\">subject_syntax_types_supported</span>=<span style=\"font-weight: bold\">[</span><span style=\"color: #008000; text-decoration-color: #008000\">'did:key'</span>, <span style=\"color: #008000; text-decoration-color: #008000\">'did:ebsi'</span><span style=\"font-weight: bold\">]</span>,                             <span style=\"color: #7f7f7f; text-decoration-color: #7f7f7f\">                </span>\n",
       "<span style=\"color: #7fbfbf; text-decoration-color: #7fbfbf\">           </span>    <span style=\"color: #808000; text-decoration-color: #808000\">subject_syntax_types_discriminations</span>=<span style=\"font-weight: bold\">[</span><span style=\"color: #008000; text-decoration-color: #008000\">'did:key:jwk_jcs-pub'</span>, <span style=\"color: #008000; text-decoration-color: #008000\">'did:ebsi:v1'</span><span style=\"font-weight: bold\">]</span>,        <span style=\"color: #7f7f7f; text-decoration-color: #7f7f7f\">                </span>\n",
       "<span style=\"color: #7fbfbf; text-decoration-color: #7fbfbf\">           </span>    <span style=\"color: #808000; text-decoration-color: #808000\">subject_trust_frameworks_supported</span>=<span style=\"font-weight: bold\">[</span><span style=\"color: #008000; text-decoration-color: #008000\">'ebsi'</span><span style=\"font-weight: bold\">]</span>,                                        <span style=\"color: #7f7f7f; text-decoration-color: #7f7f7f\">                </span>\n",
       "<span style=\"color: #7fbfbf; text-decoration-color: #7fbfbf\">           </span>    <span style=\"color: #808000; text-decoration-color: #808000\">id_token_types_supported</span>=<span style=\"font-weight: bold\">[</span><span style=\"color: #008000; text-decoration-color: #008000\">'subject_signed_id_token'</span>, <span style=\"color: #008000; text-decoration-color: #008000\">'attester_signed_id_token'</span><span style=\"font-weight: bold\">]</span>    <span style=\"color: #7f7f7f; text-decoration-color: #7f7f7f\">                </span>\n",
       "<span style=\"color: #7fbfbf; text-decoration-color: #7fbfbf\">           </span><span style=\"font-weight: bold\">)</span>                                                                                       <span style=\"color: #7f7f7f; text-decoration-color: #7f7f7f\">                </span>\n",
       "</pre>\n"
      ],
      "text/plain": [
       "\u001b[2;36m[21:12:07]\u001b[0m\u001b[2;36m \u001b[0mAuthorization server configuration:                                                     \u001b]8;id=37200;file:///tmp/ipykernel_54302/3425914532.py\u001b\\\u001b[2m3425914532.py\u001b[0m\u001b]8;;\u001b\\\u001b[2m:\u001b[0m\u001b]8;id=239958;file:///tmp/ipykernel_54302/3425914532.py#24\u001b\\\u001b[2m24\u001b[0m\u001b]8;;\u001b\\\n",
       "\u001b[2;36m           \u001b[0m\u001b[1;35mOpenIDAuthServerConfig\u001b[0m\u001b[1m(\u001b[0m                                                                 \u001b[2m                \u001b[0m\n",
       "\u001b[2;36m           \u001b[0m    \u001b[33mredirect_uris\u001b[0m=\u001b[1m[\u001b[0m                                                                     \u001b[2m                \u001b[0m\n",
       "\u001b[2;36m           \u001b[0m        \u001b[32m'https://api-conformance.ebsi.eu/conformance/v3/auth-mock/direct_post'\u001b[0m          \u001b[2m                \u001b[0m\n",
       "\u001b[2;36m           \u001b[0m    \u001b[1m]\u001b[0m,                                                                                  \u001b[2m                \u001b[0m\n",
       "\u001b[2;36m           \u001b[0m    \u001b[33missuer\u001b[0m=\u001b[32m'https://api-conformance.ebsi.eu/conformance/v3/auth-mock'\u001b[0m,                  \u001b[2m                \u001b[0m\n",
       "\u001b[2;36m           \u001b[0m    \u001b[33mauthorization_endpoint\u001b[0m=\u001b[32m'https://api-conformance.ebsi.eu/conformance/v3/auth-mock/au\u001b[0m \u001b[2m                \u001b[0m\n",
       "\u001b[2;36m           \u001b[0m\u001b[32mthorize'\u001b[0m,                                                                               \u001b[2m                \u001b[0m\n",
       "\u001b[2;36m           \u001b[0m    \u001b[33mtoken_endpoint\u001b[0m=\u001b[32m'https://api-conformance.ebsi.eu/conformance/v3/auth-mock/token'\u001b[0m,    \u001b[2m                \u001b[0m\n",
       "\u001b[2;36m           \u001b[0m    \u001b[33mjwks_uri\u001b[0m=\u001b[32m'https://api-conformance.ebsi.eu/conformance/v3/auth-mock/jwks'\u001b[0m,           \u001b[2m                \u001b[0m\n",
       "\u001b[2;36m           \u001b[0m    \u001b[33mscopes_supported\u001b[0m=\u001b[1m[\u001b[0m\u001b[32m'openid'\u001b[0m\u001b[1m]\u001b[0m,                                                        \u001b[2m                \u001b[0m\n",
       "\u001b[2;36m           \u001b[0m    \u001b[33mresponse_types_supported\u001b[0m=\u001b[1m[\u001b[0m\u001b[32m'vp_token'\u001b[0m, \u001b[32m'id_token'\u001b[0m\u001b[1m]\u001b[0m,                                  \u001b[2m                \u001b[0m\n",
       "\u001b[2;36m           \u001b[0m    \u001b[33mresponse_modes_supported\u001b[0m=\u001b[1m[\u001b[0m\u001b[32m'query'\u001b[0m\u001b[1m]\u001b[0m,                                                 \u001b[2m                \u001b[0m\n",
       "\u001b[2;36m           \u001b[0m    \u001b[33mgrant_types_supported\u001b[0m=\u001b[1m[\u001b[0m\u001b[32m'authorization_code'\u001b[0m\u001b[1m]\u001b[0m,                                       \u001b[2m                \u001b[0m\n",
       "\u001b[2;36m           \u001b[0m    \u001b[33msubject_types_supported\u001b[0m=\u001b[1m[\u001b[0m\u001b[32m'public'\u001b[0m\u001b[1m]\u001b[0m,                                                 \u001b[2m                \u001b[0m\n",
       "\u001b[2;36m           \u001b[0m    \u001b[33mid_token_signing_alg_values_supported\u001b[0m=\u001b[1m[\u001b[0m\u001b[32m'ES256'\u001b[0m\u001b[1m]\u001b[0m,                                    \u001b[2m                \u001b[0m\n",
       "\u001b[2;36m           \u001b[0m    \u001b[33mrequest_object_signing_alg_values_supported\u001b[0m=\u001b[1m[\u001b[0m\u001b[32m'ES256'\u001b[0m\u001b[1m]\u001b[0m,                              \u001b[2m                \u001b[0m\n",
       "\u001b[2;36m           \u001b[0m    \u001b[33mrequest_parameter_supported\u001b[0m=\u001b[3;92mTrue\u001b[0m,                                                   \u001b[2m                \u001b[0m\n",
       "\u001b[2;36m           \u001b[0m    \u001b[33mrequest_uri_parameter_supported\u001b[0m=\u001b[3;92mTrue\u001b[0m,                                               \u001b[2m                \u001b[0m\n",
       "\u001b[2;36m           \u001b[0m    \u001b[33mtoken_endpoint_auth_methods_supported\u001b[0m=\u001b[1m[\u001b[0m\u001b[32m'private_key_jwt'\u001b[0m\u001b[1m]\u001b[0m,                          \u001b[2m                \u001b[0m\n",
       "\u001b[2;36m           \u001b[0m    \u001b[33mrequest_authentication_methods_supported\u001b[0m=\u001b[1m{\u001b[0m                                          \u001b[2m                \u001b[0m\n",
       "\u001b[2;36m           \u001b[0m        \u001b[32m'authorization_endpoint'\u001b[0m: \u001b[1m[\u001b[0m\u001b[32m'request_object'\u001b[0m\u001b[1m]\u001b[0m                                    \u001b[2m                \u001b[0m\n",
       "\u001b[2;36m           \u001b[0m    \u001b[1m}\u001b[0m,                                                                                  \u001b[2m                \u001b[0m\n",
       "\u001b[2;36m           \u001b[0m    \u001b[33mvp_formats_supported\u001b[0m=\u001b[1m{\u001b[0m                                                              \u001b[2m                \u001b[0m\n",
       "\u001b[2;36m           \u001b[0m        \u001b[32m'jwt_vp'\u001b[0m: \u001b[1m{\u001b[0m\u001b[32m'alg_values_supported'\u001b[0m: \u001b[1m[\u001b[0m\u001b[32m'ES256'\u001b[0m\u001b[1m]\u001b[0m\u001b[1m}\u001b[0m,                                  \u001b[2m                \u001b[0m\n",
       "\u001b[2;36m           \u001b[0m        \u001b[32m'jwt_vc'\u001b[0m: \u001b[1m{\u001b[0m\u001b[32m'alg_values_supported'\u001b[0m: \u001b[1m[\u001b[0m\u001b[32m'ES256'\u001b[0m\u001b[1m]\u001b[0m\u001b[1m}\u001b[0m                                   \u001b[2m                \u001b[0m\n",
       "\u001b[2;36m           \u001b[0m    \u001b[1m}\u001b[0m,                                                                                  \u001b[2m                \u001b[0m\n",
       "\u001b[2;36m           \u001b[0m    \u001b[33msubject_syntax_types_supported\u001b[0m=\u001b[1m[\u001b[0m\u001b[32m'did:key'\u001b[0m, \u001b[32m'did:ebsi'\u001b[0m\u001b[1m]\u001b[0m,                             \u001b[2m                \u001b[0m\n",
       "\u001b[2;36m           \u001b[0m    \u001b[33msubject_syntax_types_discriminations\u001b[0m=\u001b[1m[\u001b[0m\u001b[32m'did:key:jwk_jcs-pub'\u001b[0m, \u001b[32m'did:ebsi:v1'\u001b[0m\u001b[1m]\u001b[0m,        \u001b[2m                \u001b[0m\n",
       "\u001b[2;36m           \u001b[0m    \u001b[33msubject_trust_frameworks_supported\u001b[0m=\u001b[1m[\u001b[0m\u001b[32m'ebsi'\u001b[0m\u001b[1m]\u001b[0m,                                        \u001b[2m                \u001b[0m\n",
       "\u001b[2;36m           \u001b[0m    \u001b[33mid_token_types_supported\u001b[0m=\u001b[1m[\u001b[0m\u001b[32m'subject_signed_id_token'\u001b[0m, \u001b[32m'attester_signed_id_token'\u001b[0m\u001b[1m]\u001b[0m    \u001b[2m                \u001b[0m\n",
       "\u001b[2;36m           \u001b[0m\u001b[1m)\u001b[0m                                                                                       \u001b[2m                \u001b[0m\n"
      ]
     },
     "metadata": {},
     "output_type": "display_data"
    }
   ],
   "source": [
    "from ebsi_wallet.util import parse_query_string_parameters_from_url\n",
    "from ebsi_wallet.siop_auth.util import (\n",
    "    accept_and_fetch_credential_offer, \n",
    "    fetch_openid_credential_issuer_configuration,\n",
    "    fetch_openid_auth_server_configuration,\n",
    "    fetch_credential_offer,\n",
    "    CredentialTypes\n",
    ")\n",
    "\n",
    "credential_type =  CredentialTypes.CTWalletCrossDeferred\n",
    "qr_code_data = await fetch_credential_offer(key_did._did, credential_type)\n",
    "qr_code_data = qr_code_data.replace(\"openid-credential-offer://\", \"\")\n",
    "credential_offer_uri = parse_query_string_parameters_from_url(\n",
    "    qr_code_data).get(\"credential_offer_uri\")[0]\n",
    "console.log(\"Credential offer URI: \", credential_offer_uri)\n",
    "\n",
    "credential_offer = await accept_and_fetch_credential_offer(credential_offer_uri)\n",
    "console.log(\"Credential offer: \", credential_offer)\n",
    "\n",
    "credential_issuer_configuration = await fetch_openid_credential_issuer_configuration(credential_offer.credential_issuer)\n",
    "console.log(\"Credential issuer configuration: \", credential_issuer_configuration)\n",
    "\n",
    "auth_server_configuration = await fetch_openid_auth_server_configuration(credential_issuer_configuration.authorization_server)\n",
    "console.log(\"Authorization server configuration: \", auth_server_configuration)\n"
   ]
  },
  {
   "attachments": {},
   "cell_type": "markdown",
   "metadata": {},
   "source": [
    "## 1.2 Perform authorization request and obtain ID token request"
   ]
  },
  {
   "cell_type": "code",
   "execution_count": 4,
   "metadata": {},
   "outputs": [
    {
     "data": {
      "text/html": [
       "<pre style=\"white-space:pre;overflow-x:auto;line-height:normal;font-family:Menlo,'DejaVu Sans Mono',consolas,'Courier New',monospace\"><span style=\"color: #7fbfbf; text-decoration-color: #7fbfbf\">[21:12:08] </span>Authorization response URI:                                                             <a href=\"file:///tmp/ipykernel_54302/1836098038.py\" target=\"_blank\"><span style=\"color: #7f7f7f; text-decoration-color: #7f7f7f\">1836098038.py</span></a><span style=\"color: #7f7f7f; text-decoration-color: #7f7f7f\">:</span><a href=\"file:///tmp/ipykernel_54302/1836098038.py#34\" target=\"_blank\"><span style=\"color: #7f7f7f; text-decoration-color: #7f7f7f\">34</span></a>\n",
       "<span style=\"color: #7fbfbf; text-decoration-color: #7fbfbf\">           </span><span style=\"color: #0000ff; text-decoration-color: #0000ff; text-decoration: underline\">http://localhost:8080?state=0f771943-0fe0-46ff-a93c-fbe562753dfa&amp;client_id=https%3A%2F%</span> <span style=\"color: #7f7f7f; text-decoration-color: #7f7f7f\">                </span>\n",
       "<span style=\"color: #7fbfbf; text-decoration-color: #7fbfbf\">           </span><span style=\"color: #0000ff; text-decoration-color: #0000ff; text-decoration: underline\">2Fapi-conformance.ebsi.eu%2Fconformance%2Fv3%2Fauth-mock&amp;redirect_uri=https%3A%2F%2Fapi</span> <span style=\"color: #7f7f7f; text-decoration-color: #7f7f7f\">                </span>\n",
       "<span style=\"color: #7fbfbf; text-decoration-color: #7fbfbf\">           </span><span style=\"color: #0000ff; text-decoration-color: #0000ff; text-decoration: underline\">-conformance.ebsi.eu%2Fconformance%2Fv3%2Fauth-mock%2Fdirect_post&amp;response_type=id_toke</span> <span style=\"color: #7f7f7f; text-decoration-color: #7f7f7f\">                </span>\n",
       "<span style=\"color: #7fbfbf; text-decoration-color: #7fbfbf\">           </span><span style=\"color: #0000ff; text-decoration-color: #0000ff; text-decoration: underline\">n&amp;response_mode=direct_post&amp;scope=openid&amp;nonce=9d263cdd-392a-40d9-9f12-5e6d501c65f2&amp;req</span> <span style=\"color: #7f7f7f; text-decoration-color: #7f7f7f\">                </span>\n",
       "<span style=\"color: #7fbfbf; text-decoration-color: #7fbfbf\">           </span><span style=\"color: #0000ff; text-decoration-color: #0000ff; text-decoration: underline\">uest_uri=https%3A%2F%2Fapi-conformance.ebsi.eu%2Fconformance%2Fv3%2Fauth-mock%2Frequest</span> <span style=\"color: #7f7f7f; text-decoration-color: #7f7f7f\">                </span>\n",
       "<span style=\"color: #7fbfbf; text-decoration-color: #7fbfbf\">           </span><span style=\"color: #0000ff; text-decoration-color: #0000ff; text-decoration: underline\">_uri%2Fc3e4d89c-baa7-4d72-aede-4ed80d653681</span>                                             <span style=\"color: #7f7f7f; text-decoration-color: #7f7f7f\">                </span>\n",
       "</pre>\n"
      ],
      "text/plain": [
       "\u001b[2;36m[21:12:08]\u001b[0m\u001b[2;36m \u001b[0mAuthorization response URI:                                                             \u001b]8;id=892013;file:///tmp/ipykernel_54302/1836098038.py\u001b\\\u001b[2m1836098038.py\u001b[0m\u001b]8;;\u001b\\\u001b[2m:\u001b[0m\u001b]8;id=863076;file:///tmp/ipykernel_54302/1836098038.py#34\u001b\\\u001b[2m34\u001b[0m\u001b]8;;\u001b\\\n",
       "\u001b[2;36m           \u001b[0m\u001b[4;94mhttp://localhost:8080?\u001b[0m\u001b[4;94mstate\u001b[0m\u001b[4;94m=\u001b[0m\u001b[4;94m0f771943\u001b[0m\u001b[4;94m-0fe0-46ff-a93c-fbe562753dfa&\u001b[0m\u001b[4;94mclient_id\u001b[0m\u001b[4;94m=\u001b[0m\u001b[4;94mhttps\u001b[0m\u001b[4;94m%3A%2F%\u001b[0m \u001b[2m                \u001b[0m\n",
       "\u001b[2;36m           \u001b[0m\u001b[4;94m2Fapi-conformance.ebsi.eu%2Fconformance%2Fv3%2Fauth-mock&\u001b[0m\u001b[4;94mredirect_uri\u001b[0m\u001b[4;94m=\u001b[0m\u001b[4;94mhttps\u001b[0m\u001b[4;94m%3A%2F%2Fapi\u001b[0m \u001b[2m                \u001b[0m\n",
       "\u001b[2;36m           \u001b[0m\u001b[4;94m-conformance.ebsi.eu%2Fconformance%2Fv3%2Fauth-mock%2Fdirect_post&\u001b[0m\u001b[4;94mresponse_type\u001b[0m\u001b[4;94m=\u001b[0m\u001b[4;94mid_toke\u001b[0m \u001b[2m                \u001b[0m\n",
       "\u001b[2;36m           \u001b[0m\u001b[4;94mn\u001b[0m\u001b[4;94m&\u001b[0m\u001b[4;94mresponse_mode\u001b[0m\u001b[4;94m=\u001b[0m\u001b[4;94mdirect_post\u001b[0m\u001b[4;94m&\u001b[0m\u001b[4;94mscope\u001b[0m\u001b[4;94m=\u001b[0m\u001b[4;94mopenid\u001b[0m\u001b[4;94m&\u001b[0m\u001b[4;94mnonce\u001b[0m\u001b[4;94m=\u001b[0m\u001b[4;94m9d263cdd\u001b[0m\u001b[4;94m-392a-40d9-9f12-5e6d501c65f2&\u001b[0m\u001b[4;94mreq\u001b[0m \u001b[2m                \u001b[0m\n",
       "\u001b[2;36m           \u001b[0m\u001b[4;94muest_uri\u001b[0m\u001b[4;94m=\u001b[0m\u001b[4;94mhttps\u001b[0m\u001b[4;94m%3A%2F%2Fapi-conformance.ebsi.eu%2Fconformance%2Fv3%2Fauth-mock%2Frequest\u001b[0m \u001b[2m                \u001b[0m\n",
       "\u001b[2;36m           \u001b[0m\u001b[4;94m_uri%2Fc3e4d89c-baa7-4d72-aede-4ed80d653681\u001b[0m                                             \u001b[2m                \u001b[0m\n"
      ]
     },
     "metadata": {},
     "output_type": "display_data"
    },
    {
     "data": {
      "text/html": [
       "<pre style=\"white-space:pre;overflow-x:auto;line-height:normal;font-family:Menlo,'DejaVu Sans Mono',consolas,'Courier New',monospace\"><span style=\"color: #7fbfbf; text-decoration-color: #7fbfbf\">           </span>Authorization response query params:                                                    <a href=\"file:///tmp/ipykernel_54302/1836098038.py\" target=\"_blank\"><span style=\"color: #7f7f7f; text-decoration-color: #7f7f7f\">1836098038.py</span></a><span style=\"color: #7f7f7f; text-decoration-color: #7f7f7f\">:</span><a href=\"file:///tmp/ipykernel_54302/1836098038.py#36\" target=\"_blank\"><span style=\"color: #7f7f7f; text-decoration-color: #7f7f7f\">36</span></a>\n",
       "<span style=\"color: #7fbfbf; text-decoration-color: #7fbfbf\">           </span><span style=\"color: #800080; text-decoration-color: #800080; font-weight: bold\">AuthorizationResponseQueryParams</span><span style=\"font-weight: bold\">(</span>                                                       <span style=\"color: #7f7f7f; text-decoration-color: #7f7f7f\">                </span>\n",
       "<span style=\"color: #7fbfbf; text-decoration-color: #7fbfbf\">           </span>    <span style=\"color: #808000; text-decoration-color: #808000\">state</span>=<span style=\"color: #008000; text-decoration-color: #008000\">'0f771943-0fe0-46ff-a93c-fbe562753dfa'</span>,                                       <span style=\"color: #7f7f7f; text-decoration-color: #7f7f7f\">                </span>\n",
       "<span style=\"color: #7fbfbf; text-decoration-color: #7fbfbf\">           </span>    <span style=\"color: #808000; text-decoration-color: #808000\">client_id</span>=<span style=\"color: #008000; text-decoration-color: #008000\">'https://api-conformance.ebsi.eu/conformance/v3/auth-mock'</span>,               <span style=\"color: #7f7f7f; text-decoration-color: #7f7f7f\">                </span>\n",
       "<span style=\"color: #7fbfbf; text-decoration-color: #7fbfbf\">           </span>    <span style=\"color: #808000; text-decoration-color: #808000\">redirect_uri</span>=<span style=\"color: #008000; text-decoration-color: #008000\">'https://api-conformance.ebsi.eu/conformance/v3/auth-mock/direct_post'</span> <span style=\"color: #7f7f7f; text-decoration-color: #7f7f7f\">                </span>\n",
       "<span style=\"color: #7fbfbf; text-decoration-color: #7fbfbf\">           </span>,                                                                                       <span style=\"color: #7f7f7f; text-decoration-color: #7f7f7f\">                </span>\n",
       "<span style=\"color: #7fbfbf; text-decoration-color: #7fbfbf\">           </span>    <span style=\"color: #808000; text-decoration-color: #808000\">response_type</span>=<span style=\"color: #008000; text-decoration-color: #008000\">'id_token'</span>,                                                           <span style=\"color: #7f7f7f; text-decoration-color: #7f7f7f\">                </span>\n",
       "<span style=\"color: #7fbfbf; text-decoration-color: #7fbfbf\">           </span>    <span style=\"color: #808000; text-decoration-color: #808000\">response_mode</span>=<span style=\"color: #008000; text-decoration-color: #008000\">'direct_post'</span>,                                                        <span style=\"color: #7f7f7f; text-decoration-color: #7f7f7f\">                </span>\n",
       "<span style=\"color: #7fbfbf; text-decoration-color: #7fbfbf\">           </span>    <span style=\"color: #808000; text-decoration-color: #808000\">scope</span>=<span style=\"color: #008000; text-decoration-color: #008000\">'openid'</span>,                                                                     <span style=\"color: #7f7f7f; text-decoration-color: #7f7f7f\">                </span>\n",
       "<span style=\"color: #7fbfbf; text-decoration-color: #7fbfbf\">           </span>    <span style=\"color: #808000; text-decoration-color: #808000\">nonce</span>=<span style=\"color: #008000; text-decoration-color: #008000\">'9d263cdd-392a-40d9-9f12-5e6d501c65f2'</span>,                                       <span style=\"color: #7f7f7f; text-decoration-color: #7f7f7f\">                </span>\n",
       "<span style=\"color: #7fbfbf; text-decoration-color: #7fbfbf\">           </span>    <span style=\"color: #808000; text-decoration-color: #808000\">request_uri</span>=<span style=\"color: #008000; text-decoration-color: #008000\">'https://api-conformance.ebsi.eu/conformance/v3/auth-mock/request_uri/c</span> <span style=\"color: #7f7f7f; text-decoration-color: #7f7f7f\">                </span>\n",
       "<span style=\"color: #7fbfbf; text-decoration-color: #7fbfbf\">           </span><span style=\"color: #008000; text-decoration-color: #008000\">3e4d89c-baa7-4d72-aede-4ed80d653681'</span>                                                    <span style=\"color: #7f7f7f; text-decoration-color: #7f7f7f\">                </span>\n",
       "<span style=\"color: #7fbfbf; text-decoration-color: #7fbfbf\">           </span><span style=\"font-weight: bold\">)</span>                                                                                       <span style=\"color: #7f7f7f; text-decoration-color: #7f7f7f\">                </span>\n",
       "</pre>\n"
      ],
      "text/plain": [
       "\u001b[2;36m          \u001b[0m\u001b[2;36m \u001b[0mAuthorization response query params:                                                    \u001b]8;id=707474;file:///tmp/ipykernel_54302/1836098038.py\u001b\\\u001b[2m1836098038.py\u001b[0m\u001b]8;;\u001b\\\u001b[2m:\u001b[0m\u001b]8;id=514515;file:///tmp/ipykernel_54302/1836098038.py#36\u001b\\\u001b[2m36\u001b[0m\u001b]8;;\u001b\\\n",
       "\u001b[2;36m           \u001b[0m\u001b[1;35mAuthorizationResponseQueryParams\u001b[0m\u001b[1m(\u001b[0m                                                       \u001b[2m                \u001b[0m\n",
       "\u001b[2;36m           \u001b[0m    \u001b[33mstate\u001b[0m=\u001b[32m'0f771943-0fe0-46ff-a93c-fbe562753dfa'\u001b[0m,                                       \u001b[2m                \u001b[0m\n",
       "\u001b[2;36m           \u001b[0m    \u001b[33mclient_id\u001b[0m=\u001b[32m'https://api-conformance.ebsi.eu/conformance/v3/auth-mock'\u001b[0m,               \u001b[2m                \u001b[0m\n",
       "\u001b[2;36m           \u001b[0m    \u001b[33mredirect_uri\u001b[0m=\u001b[32m'https://api-conformance.ebsi.eu/conformance/v3/auth-mock/direct_post'\u001b[0m \u001b[2m                \u001b[0m\n",
       "\u001b[2;36m           \u001b[0m,                                                                                       \u001b[2m                \u001b[0m\n",
       "\u001b[2;36m           \u001b[0m    \u001b[33mresponse_type\u001b[0m=\u001b[32m'id_token'\u001b[0m,                                                           \u001b[2m                \u001b[0m\n",
       "\u001b[2;36m           \u001b[0m    \u001b[33mresponse_mode\u001b[0m=\u001b[32m'direct_post'\u001b[0m,                                                        \u001b[2m                \u001b[0m\n",
       "\u001b[2;36m           \u001b[0m    \u001b[33mscope\u001b[0m=\u001b[32m'openid'\u001b[0m,                                                                     \u001b[2m                \u001b[0m\n",
       "\u001b[2;36m           \u001b[0m    \u001b[33mnonce\u001b[0m=\u001b[32m'9d263cdd-392a-40d9-9f12-5e6d501c65f2'\u001b[0m,                                       \u001b[2m                \u001b[0m\n",
       "\u001b[2;36m           \u001b[0m    \u001b[33mrequest_uri\u001b[0m=\u001b[32m'https://api-conformance.ebsi.eu/conformance/v3/auth-mock/request_uri/c\u001b[0m \u001b[2m                \u001b[0m\n",
       "\u001b[2;36m           \u001b[0m\u001b[32m3e4d89c-baa7-4d72-aede-4ed80d653681'\u001b[0m                                                    \u001b[2m                \u001b[0m\n",
       "\u001b[2;36m           \u001b[0m\u001b[1m)\u001b[0m                                                                                       \u001b[2m                \u001b[0m\n"
      ]
     },
     "metadata": {},
     "output_type": "display_data"
    }
   ],
   "source": [
    "from ebsi_wallet.siop_auth.util import (\n",
    "    perform_authorization, \n",
    "    AuthorizationRequestQueryParams,\n",
    "    get_authorization_response_query_params,\n",
    "    generate_code_challenge,\n",
    "    generate_code_verifier\n",
    ")\n",
    "import uuid\n",
    "import json\n",
    "\n",
    "state = str(uuid.uuid4())\n",
    "nonce = str(uuid.uuid4())\n",
    "code_verifier = generate_code_verifier()\n",
    "\n",
    "authorization_details = [{\"type\":\"openid_credential\",\"format\":\"jwt_vc\",\"types\":credential_offer.credentials[0].get(\"types\"),\"locations\": [\"https://api-conformance.ebsi.eu/conformance/v3/issuer-mock\"]}]\n",
    "redirect_uri = \"http://localhost:8080\"\n",
    "client_metadata = {\"vp_formats_supported\":{\"jwt_vp\":{\"alg\":[\"ES256\"]},\"jwt_vc\":{\"alg\":[\"ES256\"]}},\"response_types_supported\":[\"vp_token\",\"id_token\"],\"authorization_endpoint\":redirect_uri}\n",
    "authorization_request_query_params = AuthorizationRequestQueryParams(\n",
    "    response_type=\"code\",\n",
    "    scope=\"openid\",\n",
    "    state=state,\n",
    "    client_id=key_did._did,\n",
    "    authorization_details=json.dumps(authorization_details, separators=(',', ':')),\n",
    "    redirect_uri=redirect_uri,\n",
    "    nonce=nonce,\n",
    "    code_challenge=generate_code_challenge(code_verifier),\n",
    "    code_challenge_method=\"S256\",\n",
    "    client_metadata=json.dumps(client_metadata, separators=(',', ':')),\n",
    "    issuer_state=credential_offer.grants.get(\"authorization_code\").get(\"issuer_state\")\n",
    ")\n",
    "\n",
    "auth_resp = await perform_authorization(auth_server_configuration.authorization_endpoint, authorization_request_query_params)\n",
    "auth_resp_uri = str(auth_resp).split(\"Location': '\")[1].split(\"'\")[0]\n",
    "console.log(\"Authorization response URI: \", auth_resp_uri)\n",
    "auth_resp_query_params = get_authorization_response_query_params(auth_resp_uri)\n",
    "console.log(\"Authorization response query params: \", auth_resp_query_params)"
   ]
  },
  {
   "attachments": {},
   "cell_type": "markdown",
   "metadata": {},
   "source": [
    "## 1.3 Send ID token"
   ]
  },
  {
   "cell_type": "code",
   "execution_count": 5,
   "metadata": {},
   "outputs": [
    {
     "data": {
      "text/html": [
       "<pre style=\"white-space:pre;overflow-x:auto;line-height:normal;font-family:Menlo,'DejaVu Sans Mono',consolas,'Courier New',monospace\"><span style=\"color: #7fbfbf; text-decoration-color: #7fbfbf\">[21:12:09] </span>Authorization code:  <span style=\"color: #ffff00; text-decoration-color: #ffff00\">e1bf6958-6d8f-4f0a-8809-0d024ef2e28c</span>                                <a href=\"file:///tmp/ipykernel_54302/1546471797.py\" target=\"_blank\"><span style=\"color: #7f7f7f; text-decoration-color: #7f7f7f\">1546471797.py</span></a><span style=\"color: #7f7f7f; text-decoration-color: #7f7f7f\">:</span><a href=\"file:///tmp/ipykernel_54302/1546471797.py#8\" target=\"_blank\"><span style=\"color: #7f7f7f; text-decoration-color: #7f7f7f\">8</span></a>\n",
       "</pre>\n"
      ],
      "text/plain": [
       "\u001b[2;36m[21:12:09]\u001b[0m\u001b[2;36m \u001b[0mAuthorization code:  \u001b[93me1bf6958-6d8f-4f0a-8809-0d024ef2e28c\u001b[0m                                \u001b]8;id=685567;file:///tmp/ipykernel_54302/1546471797.py\u001b\\\u001b[2m1546471797.py\u001b[0m\u001b]8;;\u001b\\\u001b[2m:\u001b[0m\u001b]8;id=397484;file:///tmp/ipykernel_54302/1546471797.py#8\u001b\\\u001b[2m8\u001b[0m\u001b]8;;\u001b\\\n"
      ]
     },
     "metadata": {},
     "output_type": "display_data"
    }
   ],
   "source": [
    "from ebsi_wallet.siop_auth.util import send_id_token_response\n",
    "\n",
    "id_token = key_did.generate_id_token(auth_server_uri=auth_resp_query_params.client_id, nonce=auth_resp_query_params.nonce)\n",
    "auth_code_response = await send_id_token_response(auth_resp_query_params.redirect_uri, id_token, auth_resp_query_params.state)\n",
    "auth_code_response = str(auth_code_response).split(\"Location': '\")[1].split(\"'\")[0]\n",
    "state = parse_query_string_parameters_from_url(auth_code_response).get(\"state\")[0]\n",
    "auth_code = parse_query_string_parameters_from_url(auth_code_response).get(\"code\")[0]\n",
    "console.log(\"Authorization code: \", auth_code)"
   ]
  },
  {
   "attachments": {},
   "cell_type": "markdown",
   "metadata": {},
   "source": [
    "## 1.4 Exchange code for access token"
   ]
  },
  {
   "cell_type": "code",
   "execution_count": 6,
   "metadata": {},
   "outputs": [
    {
     "data": {
      "text/html": [
       "<pre style=\"white-space:pre;overflow-x:auto;line-height:normal;font-family:Menlo,'DejaVu Sans Mono',consolas,'Courier New',monospace\"><span style=\"color: #7fbfbf; text-decoration-color: #7fbfbf\">           </span>Access token response:                                                                    <a href=\"file:///tmp/ipykernel_54302/474231906.py\" target=\"_blank\"><span style=\"color: #7f7f7f; text-decoration-color: #7f7f7f\">474231906.py</span></a><span style=\"color: #7f7f7f; text-decoration-color: #7f7f7f\">:</span><a href=\"file:///tmp/ipykernel_54302/474231906.py#5\" target=\"_blank\"><span style=\"color: #7f7f7f; text-decoration-color: #7f7f7f\">5</span></a>\n",
       "<span style=\"color: #7fbfbf; text-decoration-color: #7fbfbf\">           </span><span style=\"color: #800080; text-decoration-color: #800080; font-weight: bold\">AccessTokenResponse</span><span style=\"font-weight: bold\">(</span>                                                                      <span style=\"color: #7f7f7f; text-decoration-color: #7f7f7f\">              </span>\n",
       "<span style=\"color: #7fbfbf; text-decoration-color: #7fbfbf\">           </span>    <span style=\"color: #808000; text-decoration-color: #808000\">access_token</span>=<span style=\"color: #008000; text-decoration-color: #008000\">'eyJ0eXAiOiJKV1QiLCJhbGciOiJFUzI1NiIsImtpZCI6IkJKeTViQ1Mta1dGRUhmekczYWV</span> <span style=\"color: #7f7f7f; text-decoration-color: #7f7f7f\">              </span>\n",
       "<span style=\"color: #7fbfbf; text-decoration-color: #7fbfbf\">           </span><span style=\"color: #008000; text-decoration-color: #008000\">ZUWlGbmVOYnFDWHRkLVlaVmk3cmxpRGsifQ.eyJub25jZSI6ImExYmExOWM3LWZiODItNDAzMy1hMTdhLTJhNzIwN</span> <span style=\"color: #7f7f7f; text-decoration-color: #7f7f7f\">              </span>\n",
       "<span style=\"color: #7fbfbf; text-decoration-color: #7fbfbf\">           </span><span style=\"color: #008000; text-decoration-color: #008000\">WNhZTA3MCIsImNsYWltcyI6eyJhdXRob3JpemF0aW9uX2RldGFpbHMiOlt7InR5cGUiOiJvcGVuaWRfY3JlZGVudG</span> <span style=\"color: #7f7f7f; text-decoration-color: #7f7f7f\">              </span>\n",
       "<span style=\"color: #7fbfbf; text-decoration-color: #7fbfbf\">           </span><span style=\"color: #008000; text-decoration-color: #008000\">lhbCIsImZvcm1hdCI6Imp3dF92YyIsImxvY2F0aW9ucyI6WyJodHRwczovL2FwaS1jb25mb3JtYW5jZS5lYnNpLmV</span> <span style=\"color: #7f7f7f; text-decoration-color: #7f7f7f\">              </span>\n",
       "<span style=\"color: #7fbfbf; text-decoration-color: #7fbfbf\">           </span><span style=\"color: #008000; text-decoration-color: #008000\">1L2NvbmZvcm1hbmNlL3YzL2lzc3Vlci1tb2NrIl0sInR5cGVzIjpbIlZlcmlmaWFibGVDcmVkZW50aWFsIiwiVmVy</span> <span style=\"color: #7f7f7f; text-decoration-color: #7f7f7f\">              </span>\n",
       "<span style=\"color: #7fbfbf; text-decoration-color: #7fbfbf\">           </span><span style=\"color: #008000; text-decoration-color: #008000\">aWZpYWJsZUF0dGVzdGF0aW9uIiwiQ1RXYWxsZXRDcm9zc0RlZmVycmVkIl19XSwiY19ub25jZSI6ImUxMWRmMGM2L</span> <span style=\"color: #7f7f7f; text-decoration-color: #7f7f7f\">              </span>\n",
       "<span style=\"color: #7fbfbf; text-decoration-color: #7fbfbf\">           </span><span style=\"color: #008000; text-decoration-color: #008000\">TZhYzAtNDkzZS1hMTFkLTI5ODRhMGY3NDJkZCIsImNfbm9uY2VfZXhwaXJlc19pbiI6ODY0MDAsImNsaWVudF9pZC</span> <span style=\"color: #7f7f7f; text-decoration-color: #7f7f7f\">              </span>\n",
       "<span style=\"color: #7fbfbf; text-decoration-color: #7fbfbf\">           </span><span style=\"color: #008000; text-decoration-color: #008000\">I6ImRpZDprZXk6ejJkbXpEODFjZ1B4OFZraTdKYnV1TW1GWXJXUGdZb3l0eWtVWjNleXFodDFqOUticVdaREhUTWN</span> <span style=\"color: #7f7f7f; text-decoration-color: #7f7f7f\">              </span>\n",
       "<span style=\"color: #7fbfbf; text-decoration-color: #7fbfbf\">           </span><span style=\"color: #008000; text-decoration-color: #008000\">xUFJvZkVuajdtWmtzcTVnbkZxUjNRQ0RZWTZFQmRWOWJ3WThEd1hYYUdIaDg2QnNlOFdpVWlHVXQxM3l5dDVkOWM1</span> <span style=\"color: #7f7f7f; text-decoration-color: #7f7f7f\">              </span>\n",
       "<span style=\"color: #7fbfbf; text-decoration-color: #7fbfbf\">           </span><span style=\"color: #008000; text-decoration-color: #008000\">cVFNekZ5OE1ndWZZMW9xU3Z3RHZlNDNqYVBNQ1JrcW56V3R5UlNDYmNyQkExYzNEY0FSVDIycCJ9LCJpc3MiOiJod</span> <span style=\"color: #7f7f7f; text-decoration-color: #7f7f7f\">              </span>\n",
       "<span style=\"color: #7fbfbf; text-decoration-color: #7fbfbf\">           </span><span style=\"color: #008000; text-decoration-color: #008000\">HRwczovL2FwaS1jb25mb3JtYW5jZS5lYnNpLmV1L2NvbmZvcm1hbmNlL3YzL2F1dGgtbW9jayIsImF1ZCI6WyJodH</span> <span style=\"color: #7f7f7f; text-decoration-color: #7f7f7f\">              </span>\n",
       "<span style=\"color: #7fbfbf; text-decoration-color: #7fbfbf\">           </span><span style=\"color: #008000; text-decoration-color: #008000\">RwczovL2FwaS1jb25mb3JtYW5jZS5lYnNpLmV1L2NvbmZvcm1hbmNlL3YzL2lzc3Vlci1tb2NrIl0sInN1YiI6ImR</span> <span style=\"color: #7f7f7f; text-decoration-color: #7f7f7f\">              </span>\n",
       "<span style=\"color: #7fbfbf; text-decoration-color: #7fbfbf\">           </span><span style=\"color: #008000; text-decoration-color: #008000\">pZDprZXk6ejJkbXpEODFjZ1B4OFZraTdKYnV1TW1GWXJXUGdZb3l0eWtVWjNleXFodDFqOUticVdaREhUTWNxUFJv</span> <span style=\"color: #7f7f7f; text-decoration-color: #7f7f7f\">              </span>\n",
       "<span style=\"color: #7fbfbf; text-decoration-color: #7fbfbf\">           </span><span style=\"color: #008000; text-decoration-color: #008000\">ZkVuajdtWmtzcTVnbkZxUjNRQ0RZWTZFQmRWOWJ3WThEd1hYYUdIaDg2QnNlOFdpVWlHVXQxM3l5dDVkOWM1cVFNe</span> <span style=\"color: #7f7f7f; text-decoration-color: #7f7f7f\">              </span>\n",
       "<span style=\"color: #7fbfbf; text-decoration-color: #7fbfbf\">           </span><span style=\"color: #008000; text-decoration-color: #008000\">kZ5OE1ndWZZMW9xU3Z3RHZlNDNqYVBNQ1JrcW56V3R5UlNDYmNyQkExYzNEY0FSVDIycCIsImlhdCI6MTY4NzE4OT</span> <span style=\"color: #7f7f7f; text-decoration-color: #7f7f7f\">              </span>\n",
       "<span style=\"color: #7fbfbf; text-decoration-color: #7fbfbf\">           </span><span style=\"color: #008000; text-decoration-color: #008000\">MyOSwiZXhwIjoxNjg3Mjc1NzI5fQ.ylvuOv4-Qm8ewmpzinXGgh1BX1YKAc63RxLNK_2c7bXSZqRg9r7-Sxqen01H</span> <span style=\"color: #7f7f7f; text-decoration-color: #7f7f7f\">              </span>\n",
       "<span style=\"color: #7fbfbf; text-decoration-color: #7fbfbf\">           </span><span style=\"color: #008000; text-decoration-color: #008000\">l3prF_UZLl0Ws8pSMRincWa6TA'</span>,                                                              <span style=\"color: #7f7f7f; text-decoration-color: #7f7f7f\">              </span>\n",
       "<span style=\"color: #7fbfbf; text-decoration-color: #7fbfbf\">           </span>    <span style=\"color: #808000; text-decoration-color: #808000\">token_type</span>=<span style=\"color: #008000; text-decoration-color: #008000\">'Bearer'</span>,                                                                  <span style=\"color: #7f7f7f; text-decoration-color: #7f7f7f\">              </span>\n",
       "<span style=\"color: #7fbfbf; text-decoration-color: #7fbfbf\">           </span>    <span style=\"color: #808000; text-decoration-color: #808000\">expires_in</span>=<span style=\"color: #008080; text-decoration-color: #008080; font-weight: bold\">86400</span>,                                                                     <span style=\"color: #7f7f7f; text-decoration-color: #7f7f7f\">              </span>\n",
       "<span style=\"color: #7fbfbf; text-decoration-color: #7fbfbf\">           </span>    <span style=\"color: #808000; text-decoration-color: #808000\">id_token</span>=<span style=\"color: #008000; text-decoration-color: #008000\">'eyJ0eXAiOiJKV1QiLCJhbGciOiJFUzI1NiIsImtpZCI6IkJKeTViQ1Mta1dGRUhmekczYWVZUWl</span> <span style=\"color: #7f7f7f; text-decoration-color: #7f7f7f\">              </span>\n",
       "<span style=\"color: #7fbfbf; text-decoration-color: #7fbfbf\">           </span><span style=\"color: #008000; text-decoration-color: #008000\">GbmVOYnFDWHRkLVlaVmk3cmxpRGsifQ.eyJub25jZSI6IjJlYWQzYmFiLTZlMTItNDRiMC04MDQ4LTE2N2FkZmRkN</span> <span style=\"color: #7f7f7f; text-decoration-color: #7f7f7f\">              </span>\n",
       "<span style=\"color: #7fbfbf; text-decoration-color: #7fbfbf\">           </span><span style=\"color: #008000; text-decoration-color: #008000\">zViNCIsImlzcyI6Imh0dHBzOi8vYXBpLWNvbmZvcm1hbmNlLmVic2kuZXUvY29uZm9ybWFuY2UvdjMvYXV0aC1tb2</span> <span style=\"color: #7f7f7f; text-decoration-color: #7f7f7f\">              </span>\n",
       "<span style=\"color: #7fbfbf; text-decoration-color: #7fbfbf\">           </span><span style=\"color: #008000; text-decoration-color: #008000\">NrIiwic3ViIjoiZGlkOmtleTp6MmRtekQ4MWNnUHg4VmtpN0pidXVNbUZZcldQZ1lveXR5a1VaM2V5cWh0MWo5S2J</span> <span style=\"color: #7f7f7f; text-decoration-color: #7f7f7f\">              </span>\n",
       "<span style=\"color: #7fbfbf; text-decoration-color: #7fbfbf\">           </span><span style=\"color: #008000; text-decoration-color: #008000\">xV1pESFRNY3FQUm9mRW5qN21aa3NxNWduRnFSM1FDRFlZNkVCZFY5YndZOER3WFhhR0hoODZCc2U4V2lVaUdVdDEz</span> <span style=\"color: #7f7f7f; text-decoration-color: #7f7f7f\">              </span>\n",
       "<span style=\"color: #7fbfbf; text-decoration-color: #7fbfbf\">           </span><span style=\"color: #008000; text-decoration-color: #008000\">eXl0NWQ5YzVxUU16Rnk4TWd1Zlkxb3FTdndEdmU0M2phUE1DUmtxbnpXdHlSU0NiY3JCQTFjM0RjQVJUMjJwIiwiY</span> <span style=\"color: #7f7f7f; text-decoration-color: #7f7f7f\">              </span>\n",
       "<span style=\"color: #7fbfbf; text-decoration-color: #7fbfbf\">           </span><span style=\"color: #008000; text-decoration-color: #008000\">XVkIjoiZGlkOmtleTp6MmRtekQ4MWNnUHg4VmtpN0pidXVNbUZZcldQZ1lveXR5a1VaM2V5cWh0MWo5S2JxV1pESF</span> <span style=\"color: #7f7f7f; text-decoration-color: #7f7f7f\">              </span>\n",
       "<span style=\"color: #7fbfbf; text-decoration-color: #7fbfbf\">           </span><span style=\"color: #008000; text-decoration-color: #008000\">RNY3FQUm9mRW5qN21aa3NxNWduRnFSM1FDRFlZNkVCZFY5YndZOER3WFhhR0hoODZCc2U4V2lVaUdVdDEzeXl0NWQ</span> <span style=\"color: #7f7f7f; text-decoration-color: #7f7f7f\">              </span>\n",
       "<span style=\"color: #7fbfbf; text-decoration-color: #7fbfbf\">           </span><span style=\"color: #008000; text-decoration-color: #008000\">5YzVxUU16Rnk4TWd1Zlkxb3FTdndEdmU0M2phUE1DUmtxbnpXdHlSU0NiY3JCQTFjM0RjQVJUMjJwIiwiaWF0Ijox</span> <span style=\"color: #7f7f7f; text-decoration-color: #7f7f7f\">              </span>\n",
       "<span style=\"color: #7fbfbf; text-decoration-color: #7fbfbf\">           </span><span style=\"color: #008000; text-decoration-color: #008000\">Njg3MTg5MzI5LCJleHAiOjE2ODcxODk0NDl9.C0Mctf_5YF9AcKeOmmWu1fgjYHJcJd4YravR3jfNkECODY-F3ZAn</span> <span style=\"color: #7f7f7f; text-decoration-color: #7f7f7f\">              </span>\n",
       "<span style=\"color: #7fbfbf; text-decoration-color: #7fbfbf\">           </span><span style=\"color: #008000; text-decoration-color: #008000\">WCMqlVzEjrCWNn89xgSHCBYeJNqIOeiX8Q'</span>,                                                      <span style=\"color: #7f7f7f; text-decoration-color: #7f7f7f\">              </span>\n",
       "<span style=\"color: #7fbfbf; text-decoration-color: #7fbfbf\">           </span>    <span style=\"color: #808000; text-decoration-color: #808000\">c_nonce</span>=<span style=\"color: #008000; text-decoration-color: #008000\">'e11df0c6-6ac0-493e-a11d-2984a0f742dd'</span>,                                       <span style=\"color: #7f7f7f; text-decoration-color: #7f7f7f\">              </span>\n",
       "<span style=\"color: #7fbfbf; text-decoration-color: #7fbfbf\">           </span>    <span style=\"color: #808000; text-decoration-color: #808000\">c_nonce_expires_in</span>=<span style=\"color: #008080; text-decoration-color: #008080; font-weight: bold\">86400</span>                                                              <span style=\"color: #7f7f7f; text-decoration-color: #7f7f7f\">              </span>\n",
       "<span style=\"color: #7fbfbf; text-decoration-color: #7fbfbf\">           </span><span style=\"font-weight: bold\">)</span>                                                                                         <span style=\"color: #7f7f7f; text-decoration-color: #7f7f7f\">              </span>\n",
       "</pre>\n"
      ],
      "text/plain": [
       "\u001b[2;36m          \u001b[0m\u001b[2;36m \u001b[0mAccess token response:                                                                    \u001b]8;id=243659;file:///tmp/ipykernel_54302/474231906.py\u001b\\\u001b[2m474231906.py\u001b[0m\u001b]8;;\u001b\\\u001b[2m:\u001b[0m\u001b]8;id=968232;file:///tmp/ipykernel_54302/474231906.py#5\u001b\\\u001b[2m5\u001b[0m\u001b]8;;\u001b\\\n",
       "\u001b[2;36m           \u001b[0m\u001b[1;35mAccessTokenResponse\u001b[0m\u001b[1m(\u001b[0m                                                                      \u001b[2m              \u001b[0m\n",
       "\u001b[2;36m           \u001b[0m    \u001b[33maccess_token\u001b[0m=\u001b[32m'eyJ0eXAiOiJKV1QiLCJhbGciOiJFUzI1NiIsImtpZCI6IkJKeTViQ1Mta1dGRUhmekczYWV\u001b[0m \u001b[2m              \u001b[0m\n",
       "\u001b[2;36m           \u001b[0m\u001b[32mZUWlGbmVOYnFDWHRkLVlaVmk3cmxpRGsifQ.eyJub25jZSI6ImExYmExOWM3LWZiODItNDAzMy1hMTdhLTJhNzIwN\u001b[0m \u001b[2m              \u001b[0m\n",
       "\u001b[2;36m           \u001b[0m\u001b[32mWNhZTA3MCIsImNsYWltcyI6eyJhdXRob3JpemF0aW9uX2RldGFpbHMiOlt7InR5cGUiOiJvcGVuaWRfY3JlZGVudG\u001b[0m \u001b[2m              \u001b[0m\n",
       "\u001b[2;36m           \u001b[0m\u001b[32mlhbCIsImZvcm1hdCI6Imp3dF92YyIsImxvY2F0aW9ucyI6WyJodHRwczovL2FwaS1jb25mb3JtYW5jZS5lYnNpLmV\u001b[0m \u001b[2m              \u001b[0m\n",
       "\u001b[2;36m           \u001b[0m\u001b[32m1L2NvbmZvcm1hbmNlL3YzL2lzc3Vlci1tb2NrIl0sInR5cGVzIjpbIlZlcmlmaWFibGVDcmVkZW50aWFsIiwiVmVy\u001b[0m \u001b[2m              \u001b[0m\n",
       "\u001b[2;36m           \u001b[0m\u001b[32maWZpYWJsZUF0dGVzdGF0aW9uIiwiQ1RXYWxsZXRDcm9zc0RlZmVycmVkIl19XSwiY19ub25jZSI6ImUxMWRmMGM2L\u001b[0m \u001b[2m              \u001b[0m\n",
       "\u001b[2;36m           \u001b[0m\u001b[32mTZhYzAtNDkzZS1hMTFkLTI5ODRhMGY3NDJkZCIsImNfbm9uY2VfZXhwaXJlc19pbiI6ODY0MDAsImNsaWVudF9pZC\u001b[0m \u001b[2m              \u001b[0m\n",
       "\u001b[2;36m           \u001b[0m\u001b[32mI6ImRpZDprZXk6ejJkbXpEODFjZ1B4OFZraTdKYnV1TW1GWXJXUGdZb3l0eWtVWjNleXFodDFqOUticVdaREhUTWN\u001b[0m \u001b[2m              \u001b[0m\n",
       "\u001b[2;36m           \u001b[0m\u001b[32mxUFJvZkVuajdtWmtzcTVnbkZxUjNRQ0RZWTZFQmRWOWJ3WThEd1hYYUdIaDg2QnNlOFdpVWlHVXQxM3l5dDVkOWM1\u001b[0m \u001b[2m              \u001b[0m\n",
       "\u001b[2;36m           \u001b[0m\u001b[32mcVFNekZ5OE1ndWZZMW9xU3Z3RHZlNDNqYVBNQ1JrcW56V3R5UlNDYmNyQkExYzNEY0FSVDIycCJ9LCJpc3MiOiJod\u001b[0m \u001b[2m              \u001b[0m\n",
       "\u001b[2;36m           \u001b[0m\u001b[32mHRwczovL2FwaS1jb25mb3JtYW5jZS5lYnNpLmV1L2NvbmZvcm1hbmNlL3YzL2F1dGgtbW9jayIsImF1ZCI6WyJodH\u001b[0m \u001b[2m              \u001b[0m\n",
       "\u001b[2;36m           \u001b[0m\u001b[32mRwczovL2FwaS1jb25mb3JtYW5jZS5lYnNpLmV1L2NvbmZvcm1hbmNlL3YzL2lzc3Vlci1tb2NrIl0sInN1YiI6ImR\u001b[0m \u001b[2m              \u001b[0m\n",
       "\u001b[2;36m           \u001b[0m\u001b[32mpZDprZXk6ejJkbXpEODFjZ1B4OFZraTdKYnV1TW1GWXJXUGdZb3l0eWtVWjNleXFodDFqOUticVdaREhUTWNxUFJv\u001b[0m \u001b[2m              \u001b[0m\n",
       "\u001b[2;36m           \u001b[0m\u001b[32mZkVuajdtWmtzcTVnbkZxUjNRQ0RZWTZFQmRWOWJ3WThEd1hYYUdIaDg2QnNlOFdpVWlHVXQxM3l5dDVkOWM1cVFNe\u001b[0m \u001b[2m              \u001b[0m\n",
       "\u001b[2;36m           \u001b[0m\u001b[32mkZ5OE1ndWZZMW9xU3Z3RHZlNDNqYVBNQ1JrcW56V3R5UlNDYmNyQkExYzNEY0FSVDIycCIsImlhdCI6MTY4NzE4OT\u001b[0m \u001b[2m              \u001b[0m\n",
       "\u001b[2;36m           \u001b[0m\u001b[32mMyOSwiZXhwIjoxNjg3Mjc1NzI5fQ.ylvuOv4-Qm8ewmpzinXGgh1BX1YKAc63RxLNK_2c7bXSZqRg9r7-Sxqen01H\u001b[0m \u001b[2m              \u001b[0m\n",
       "\u001b[2;36m           \u001b[0m\u001b[32ml3prF_UZLl0Ws8pSMRincWa6TA'\u001b[0m,                                                              \u001b[2m              \u001b[0m\n",
       "\u001b[2;36m           \u001b[0m    \u001b[33mtoken_type\u001b[0m=\u001b[32m'Bearer'\u001b[0m,                                                                  \u001b[2m              \u001b[0m\n",
       "\u001b[2;36m           \u001b[0m    \u001b[33mexpires_in\u001b[0m=\u001b[1;36m86400\u001b[0m,                                                                     \u001b[2m              \u001b[0m\n",
       "\u001b[2;36m           \u001b[0m    \u001b[33mid_token\u001b[0m=\u001b[32m'eyJ0eXAiOiJKV1QiLCJhbGciOiJFUzI1NiIsImtpZCI6IkJKeTViQ1Mta1dGRUhmekczYWVZUWl\u001b[0m \u001b[2m              \u001b[0m\n",
       "\u001b[2;36m           \u001b[0m\u001b[32mGbmVOYnFDWHRkLVlaVmk3cmxpRGsifQ.eyJub25jZSI6IjJlYWQzYmFiLTZlMTItNDRiMC04MDQ4LTE2N2FkZmRkN\u001b[0m \u001b[2m              \u001b[0m\n",
       "\u001b[2;36m           \u001b[0m\u001b[32mzViNCIsImlzcyI6Imh0dHBzOi8vYXBpLWNvbmZvcm1hbmNlLmVic2kuZXUvY29uZm9ybWFuY2UvdjMvYXV0aC1tb2\u001b[0m \u001b[2m              \u001b[0m\n",
       "\u001b[2;36m           \u001b[0m\u001b[32mNrIiwic3ViIjoiZGlkOmtleTp6MmRtekQ4MWNnUHg4VmtpN0pidXVNbUZZcldQZ1lveXR5a1VaM2V5cWh0MWo5S2J\u001b[0m \u001b[2m              \u001b[0m\n",
       "\u001b[2;36m           \u001b[0m\u001b[32mxV1pESFRNY3FQUm9mRW5qN21aa3NxNWduRnFSM1FDRFlZNkVCZFY5YndZOER3WFhhR0hoODZCc2U4V2lVaUdVdDEz\u001b[0m \u001b[2m              \u001b[0m\n",
       "\u001b[2;36m           \u001b[0m\u001b[32meXl0NWQ5YzVxUU16Rnk4TWd1Zlkxb3FTdndEdmU0M2phUE1DUmtxbnpXdHlSU0NiY3JCQTFjM0RjQVJUMjJwIiwiY\u001b[0m \u001b[2m              \u001b[0m\n",
       "\u001b[2;36m           \u001b[0m\u001b[32mXVkIjoiZGlkOmtleTp6MmRtekQ4MWNnUHg4VmtpN0pidXVNbUZZcldQZ1lveXR5a1VaM2V5cWh0MWo5S2JxV1pESF\u001b[0m \u001b[2m              \u001b[0m\n",
       "\u001b[2;36m           \u001b[0m\u001b[32mRNY3FQUm9mRW5qN21aa3NxNWduRnFSM1FDRFlZNkVCZFY5YndZOER3WFhhR0hoODZCc2U4V2lVaUdVdDEzeXl0NWQ\u001b[0m \u001b[2m              \u001b[0m\n",
       "\u001b[2;36m           \u001b[0m\u001b[32m5YzVxUU16Rnk4TWd1Zlkxb3FTdndEdmU0M2phUE1DUmtxbnpXdHlSU0NiY3JCQTFjM0RjQVJUMjJwIiwiaWF0Ijox\u001b[0m \u001b[2m              \u001b[0m\n",
       "\u001b[2;36m           \u001b[0m\u001b[32mNjg3MTg5MzI5LCJleHAiOjE2ODcxODk0NDl9.C0Mctf_5YF9AcKeOmmWu1fgjYHJcJd4YravR3jfNkECODY-F3ZAn\u001b[0m \u001b[2m              \u001b[0m\n",
       "\u001b[2;36m           \u001b[0m\u001b[32mWCMqlVzEjrCWNn89xgSHCBYeJNqIOeiX8Q'\u001b[0m,                                                      \u001b[2m              \u001b[0m\n",
       "\u001b[2;36m           \u001b[0m    \u001b[33mc_nonce\u001b[0m=\u001b[32m'e11df0c6-6ac0-493e-a11d-2984a0f742dd'\u001b[0m,                                       \u001b[2m              \u001b[0m\n",
       "\u001b[2;36m           \u001b[0m    \u001b[33mc_nonce_expires_in\u001b[0m=\u001b[1;36m86400\u001b[0m                                                              \u001b[2m              \u001b[0m\n",
       "\u001b[2;36m           \u001b[0m\u001b[1m)\u001b[0m                                                                                         \u001b[2m              \u001b[0m\n"
      ]
     },
     "metadata": {},
     "output_type": "display_data"
    }
   ],
   "source": [
    "from ebsi_wallet.siop_auth.util import exchange_auth_code_for_access_token\n",
    "\n",
    "token_uri = auth_resp_query_params.client_id + \"/token\"\n",
    "access_token_response = await exchange_auth_code_for_access_token(token_uri, key_did._did, auth_code, code_verifier)\n",
    "console.log(\"Access token response: \", access_token_response)"
   ]
  },
  {
   "attachments": {},
   "cell_type": "markdown",
   "metadata": {},
   "source": [
    "## 1.5 Request credential to get acceptance token to initiate deferred flow "
   ]
  },
  {
   "cell_type": "code",
   "execution_count": 7,
   "metadata": {},
   "outputs": [
    {
     "data": {
      "text/html": [
       "<pre style=\"white-space:pre;overflow-x:auto;line-height:normal;font-family:Menlo,'DejaVu Sans Mono',consolas,'Courier New',monospace\"><span style=\"color: #7fbfbf; text-decoration-color: #7fbfbf\">           </span>Credential request JWT:                                                                   <a href=\"file:///tmp/ipykernel_54302/380321948.py\" target=\"_blank\"><span style=\"color: #7f7f7f; text-decoration-color: #7f7f7f\">380321948.py</span></a><span style=\"color: #7f7f7f; text-decoration-color: #7f7f7f\">:</span><a href=\"file:///tmp/ipykernel_54302/380321948.py#4\" target=\"_blank\"><span style=\"color: #7f7f7f; text-decoration-color: #7f7f7f\">4</span></a>\n",
       "<span style=\"color: #7fbfbf; text-decoration-color: #7fbfbf\">           </span>eyJhbGciOiJFUzI1NiIsImtpZCI6ImRpZDprZXk6ejJkbXpEODFjZ1B4OFZraTdKYnV1TW1GWXJXUGdZb3l0eWtVW <span style=\"color: #7f7f7f; text-decoration-color: #7f7f7f\">              </span>\n",
       "<span style=\"color: #7fbfbf; text-decoration-color: #7fbfbf\">           </span>jNleXFodDFqOUticVdaREhUTWNxUFJvZkVuajdtWmtzcTVnbkZxUjNRQ0RZWTZFQmRWOWJ3WThEd1hYYUdIaDg2Qn <span style=\"color: #7f7f7f; text-decoration-color: #7f7f7f\">              </span>\n",
       "<span style=\"color: #7fbfbf; text-decoration-color: #7fbfbf\">           </span>NlOFdpVWlHVXQxM3l5dDVkOWM1cVFNekZ5OE1ndWZZMW9xU3Z3RHZlNDNqYVBNQ1JrcW56V3R5UlNDYmNyQkExYzN <span style=\"color: #7f7f7f; text-decoration-color: #7f7f7f\">              </span>\n",
       "<span style=\"color: #7fbfbf; text-decoration-color: #7fbfbf\">           </span>EY0FSVDIycCN6MmRtekQ4MWNnUHg4VmtpN0pidXVNbUZZcldQZ1lveXR5a1VaM2V5cWh0MWo5S2JxV1pESFRNY3FQ <span style=\"color: #7f7f7f; text-decoration-color: #7f7f7f\">              </span>\n",
       "<span style=\"color: #7fbfbf; text-decoration-color: #7fbfbf\">           </span>Um9mRW5qN21aa3NxNWduRnFSM1FDRFlZNkVCZFY5YndZOER3WFhhR0hoODZCc2U4V2lVaUdVdDEzeXl0NWQ5YzVxU <span style=\"color: #7f7f7f; text-decoration-color: #7f7f7f\">              </span>\n",
       "<span style=\"color: #7fbfbf; text-decoration-color: #7fbfbf\">           </span>U16Rnk4TWd1Zlkxb3FTdndEdmU0M2phUE1DUmtxbnpXdHlSU0NiY3JCQTFjM0RjQVJUMjJwIiwidHlwIjoib3Blbm <span style=\"color: #7f7f7f; text-decoration-color: #7f7f7f\">              </span>\n",
       "<span style=\"color: #7fbfbf; text-decoration-color: #7fbfbf\">           </span>lkNHZjaS1wcm9vZitqd3QifQ.eyJhdWQiOiJodHRwczovL2FwaS1jb25mb3JtYW5jZS5lYnNpLmV1L2NvbmZvcm1h <span style=\"color: #7f7f7f; text-decoration-color: #7f7f7f\">              </span>\n",
       "<span style=\"color: #7fbfbf; text-decoration-color: #7fbfbf\">           </span>bmNlL3YzL2lzc3Vlci1tb2NrIiwiZXhwIjoxNjg3Mjc1NzI5LCJpYXQiOjE2ODcxODkzMjksImlzcyI6ImRpZDprZ <span style=\"color: #7f7f7f; text-decoration-color: #7f7f7f\">              </span>\n",
       "<span style=\"color: #7fbfbf; text-decoration-color: #7fbfbf\">           </span>Xk6ejJkbXpEODFjZ1B4OFZraTdKYnV1TW1GWXJXUGdZb3l0eWtVWjNleXFodDFqOUticVdaREhUTWNxUFJvZkVuaj <span style=\"color: #7f7f7f; text-decoration-color: #7f7f7f\">              </span>\n",
       "<span style=\"color: #7fbfbf; text-decoration-color: #7fbfbf\">           </span>dtWmtzcTVnbkZxUjNRQ0RZWTZFQmRWOWJ3WThEd1hYYUdIaDg2QnNlOFdpVWlHVXQxM3l5dDVkOWM1cVFNekZ5OE1 <span style=\"color: #7f7f7f; text-decoration-color: #7f7f7f\">              </span>\n",
       "<span style=\"color: #7fbfbf; text-decoration-color: #7fbfbf\">           </span>ndWZZMW9xU3Z3RHZlNDNqYVBNQ1JrcW56V3R5UlNDYmNyQkExYzNEY0FSVDIycCIsIm5vbmNlIjoiZTExZGYwYzYt <span style=\"color: #7f7f7f; text-decoration-color: #7f7f7f\">              </span>\n",
       "<span style=\"color: #7fbfbf; text-decoration-color: #7fbfbf\">           </span>NmFjMC00OTNlLWExMWQtMjk4NGEwZjc0MmRkIn0.nlBZI_pVvPv1R--wwLqA5LpiuX1J5JTLdzHXhuV4XHJsZGaqW <span style=\"color: #7f7f7f; text-decoration-color: #7f7f7f\">              </span>\n",
       "<span style=\"color: #7fbfbf; text-decoration-color: #7fbfbf\">           </span>Nhdn-LR1IOF2JUFbkdyDg3wDnZ0zbC_tql2aw                                                     <span style=\"color: #7f7f7f; text-decoration-color: #7f7f7f\">              </span>\n",
       "</pre>\n"
      ],
      "text/plain": [
       "\u001b[2;36m          \u001b[0m\u001b[2;36m \u001b[0mCredential request JWT:                                                                   \u001b]8;id=338418;file:///tmp/ipykernel_54302/380321948.py\u001b\\\u001b[2m380321948.py\u001b[0m\u001b]8;;\u001b\\\u001b[2m:\u001b[0m\u001b]8;id=441834;file:///tmp/ipykernel_54302/380321948.py#4\u001b\\\u001b[2m4\u001b[0m\u001b]8;;\u001b\\\n",
       "\u001b[2;36m           \u001b[0meyJhbGciOiJFUzI1NiIsImtpZCI6ImRpZDprZXk6ejJkbXpEODFjZ1B4OFZraTdKYnV1TW1GWXJXUGdZb3l0eWtVW \u001b[2m              \u001b[0m\n",
       "\u001b[2;36m           \u001b[0mjNleXFodDFqOUticVdaREhUTWNxUFJvZkVuajdtWmtzcTVnbkZxUjNRQ0RZWTZFQmRWOWJ3WThEd1hYYUdIaDg2Qn \u001b[2m              \u001b[0m\n",
       "\u001b[2;36m           \u001b[0mNlOFdpVWlHVXQxM3l5dDVkOWM1cVFNekZ5OE1ndWZZMW9xU3Z3RHZlNDNqYVBNQ1JrcW56V3R5UlNDYmNyQkExYzN \u001b[2m              \u001b[0m\n",
       "\u001b[2;36m           \u001b[0mEY0FSVDIycCN6MmRtekQ4MWNnUHg4VmtpN0pidXVNbUZZcldQZ1lveXR5a1VaM2V5cWh0MWo5S2JxV1pESFRNY3FQ \u001b[2m              \u001b[0m\n",
       "\u001b[2;36m           \u001b[0mUm9mRW5qN21aa3NxNWduRnFSM1FDRFlZNkVCZFY5YndZOER3WFhhR0hoODZCc2U4V2lVaUdVdDEzeXl0NWQ5YzVxU \u001b[2m              \u001b[0m\n",
       "\u001b[2;36m           \u001b[0mU16Rnk4TWd1Zlkxb3FTdndEdmU0M2phUE1DUmtxbnpXdHlSU0NiY3JCQTFjM0RjQVJUMjJwIiwidHlwIjoib3Blbm \u001b[2m              \u001b[0m\n",
       "\u001b[2;36m           \u001b[0mlkNHZjaS1wcm9vZitqd3QifQ.eyJhdWQiOiJodHRwczovL2FwaS1jb25mb3JtYW5jZS5lYnNpLmV1L2NvbmZvcm1h \u001b[2m              \u001b[0m\n",
       "\u001b[2;36m           \u001b[0mbmNlL3YzL2lzc3Vlci1tb2NrIiwiZXhwIjoxNjg3Mjc1NzI5LCJpYXQiOjE2ODcxODkzMjksImlzcyI6ImRpZDprZ \u001b[2m              \u001b[0m\n",
       "\u001b[2;36m           \u001b[0mXk6ejJkbXpEODFjZ1B4OFZraTdKYnV1TW1GWXJXUGdZb3l0eWtVWjNleXFodDFqOUticVdaREhUTWNxUFJvZkVuaj \u001b[2m              \u001b[0m\n",
       "\u001b[2;36m           \u001b[0mdtWmtzcTVnbkZxUjNRQ0RZWTZFQmRWOWJ3WThEd1hYYUdIaDg2QnNlOFdpVWlHVXQxM3l5dDVkOWM1cVFNekZ5OE1 \u001b[2m              \u001b[0m\n",
       "\u001b[2;36m           \u001b[0mndWZZMW9xU3Z3RHZlNDNqYVBNQ1JrcW56V3R5UlNDYmNyQkExYzNEY0FSVDIycCIsIm5vbmNlIjoiZTExZGYwYzYt \u001b[2m              \u001b[0m\n",
       "\u001b[2;36m           \u001b[0mNmFjMC00OTNlLWExMWQtMjk4NGEwZjc0MmRkIn0.nlBZI_pVvPv1R--wwLqA5LpiuX1J5JTLdzHXhuV4XHJsZGaqW \u001b[2m              \u001b[0m\n",
       "\u001b[2;36m           \u001b[0mNhdn-LR1IOF2JUFbkdyDg3wDnZ0zbC_tql2aw                                                     \u001b[2m              \u001b[0m\n"
      ]
     },
     "metadata": {},
     "output_type": "display_data"
    },
    {
     "data": {
      "text/html": [
       "<pre style=\"white-space:pre;overflow-x:auto;line-height:normal;font-family:Menlo,'DejaVu Sans Mono',consolas,'Courier New',monospace\"><span style=\"color: #7fbfbf; text-decoration-color: #7fbfbf\">[21:12:10] </span>Acceptance token response:                                                                <a href=\"file:///tmp/ipykernel_54302/380321948.py\" target=\"_blank\"><span style=\"color: #7f7f7f; text-decoration-color: #7f7f7f\">380321948.py</span></a><span style=\"color: #7f7f7f; text-decoration-color: #7f7f7f\">:</span><a href=\"file:///tmp/ipykernel_54302/380321948.py#6\" target=\"_blank\"><span style=\"color: #7f7f7f; text-decoration-color: #7f7f7f\">6</span></a>\n",
       "<span style=\"color: #7fbfbf; text-decoration-color: #7fbfbf\">           </span><span style=\"font-weight: bold\">{</span><span style=\"color: #008000; text-decoration-color: #008000\">'acceptance_token'</span>: <span style=\"color: #008000; text-decoration-color: #008000\">'OIFRg7ByryL1UiFbt-LbIKd6izujyurEfMqIGF9Vk9U'</span><span style=\"font-weight: bold\">}</span>                       <span style=\"color: #7f7f7f; text-decoration-color: #7f7f7f\">              </span>\n",
       "</pre>\n"
      ],
      "text/plain": [
       "\u001b[2;36m[21:12:10]\u001b[0m\u001b[2;36m \u001b[0mAcceptance token response:                                                                \u001b]8;id=338766;file:///tmp/ipykernel_54302/380321948.py\u001b\\\u001b[2m380321948.py\u001b[0m\u001b]8;;\u001b\\\u001b[2m:\u001b[0m\u001b]8;id=435814;file:///tmp/ipykernel_54302/380321948.py#6\u001b\\\u001b[2m6\u001b[0m\u001b]8;;\u001b\\\n",
       "\u001b[2;36m           \u001b[0m\u001b[1m{\u001b[0m\u001b[32m'acceptance_token'\u001b[0m: \u001b[32m'OIFRg7ByryL1UiFbt-LbIKd6izujyurEfMqIGF9Vk9U'\u001b[0m\u001b[1m}\u001b[0m                       \u001b[2m              \u001b[0m\n"
      ]
     },
     "metadata": {},
     "output_type": "display_data"
    }
   ],
   "source": [
    "from ebsi_wallet.siop_auth.util import send_credential_request\n",
    "\n",
    "credential_request_jwt = key_did.generate_credential_request(credential_issuer_configuration.credential_issuer, access_token_response.c_nonce)\n",
    "console.log(\"Credential request JWT: \", credential_request_jwt)\n",
    "acceptance_token_response = await send_credential_request(credential_issuer_configuration.credential_endpoint, access_token_response.access_token, credential_request_jwt, credential_offer.credentials[0].get(\"types\"))\n",
    "console.log(\"Acceptance token response: \", acceptance_token_response)## 1.6 Request credential using deferred endpoint"
   ]
  },
  {
   "attachments": {},
   "cell_type": "markdown",
   "metadata": {},
   "source": [
    "## 1.6 Request credential using deferred endpoint"
   ]
  },
  {
   "cell_type": "code",
   "execution_count": 8,
   "metadata": {},
   "outputs": [
    {
     "data": {
      "text/html": [
       "<pre style=\"white-space:pre;overflow-x:auto;line-height:normal;font-family:Menlo,'DejaVu Sans Mono',consolas,'Courier New',monospace\"><span style=\"color: #7fbfbf; text-decoration-color: #7fbfbf\">           </span>Waiting for <span style=\"color: #008080; text-decoration-color: #008080; font-weight: bold\">5</span> seconds<span style=\"color: #808000; text-decoration-color: #808000\">...</span>                                                                 <a href=\"file:///tmp/ipykernel_54302/3408621820.py\" target=\"_blank\"><span style=\"color: #7f7f7f; text-decoration-color: #7f7f7f\">3408621820.py</span></a><span style=\"color: #7f7f7f; text-decoration-color: #7f7f7f\">:</span><a href=\"file:///tmp/ipykernel_54302/3408621820.py#4\" target=\"_blank\"><span style=\"color: #7f7f7f; text-decoration-color: #7f7f7f\">4</span></a>\n",
       "</pre>\n"
      ],
      "text/plain": [
       "\u001b[2;36m          \u001b[0m\u001b[2;36m \u001b[0mWaiting for \u001b[1;36m5\u001b[0m seconds\u001b[33m...\u001b[0m                                                                 \u001b]8;id=127173;file:///tmp/ipykernel_54302/3408621820.py\u001b\\\u001b[2m3408621820.py\u001b[0m\u001b]8;;\u001b\\\u001b[2m:\u001b[0m\u001b]8;id=141461;file:///tmp/ipykernel_54302/3408621820.py#4\u001b\\\u001b[2m4\u001b[0m\u001b]8;;\u001b\\\n"
      ]
     },
     "metadata": {},
     "output_type": "display_data"
    },
    {
     "data": {
      "text/html": [
       "<pre style=\"white-space:pre;overflow-x:auto;line-height:normal;font-family:Menlo,'DejaVu Sans Mono',consolas,'Courier New',monospace\"><span style=\"color: #7fbfbf; text-decoration-color: #7fbfbf\">[21:12:15] </span>Sending deferred credential request<span style=\"color: #808000; text-decoration-color: #808000\">...</span>                                                   <a href=\"file:///tmp/ipykernel_54302/3408621820.py\" target=\"_blank\"><span style=\"color: #7f7f7f; text-decoration-color: #7f7f7f\">3408621820.py</span></a><span style=\"color: #7f7f7f; text-decoration-color: #7f7f7f\">:</span><a href=\"file:///tmp/ipykernel_54302/3408621820.py#6\" target=\"_blank\"><span style=\"color: #7f7f7f; text-decoration-color: #7f7f7f\">6</span></a>\n",
       "</pre>\n"
      ],
      "text/plain": [
       "\u001b[2;36m[21:12:15]\u001b[0m\u001b[2;36m \u001b[0mSending deferred credential request\u001b[33m...\u001b[0m                                                   \u001b]8;id=734145;file:///tmp/ipykernel_54302/3408621820.py\u001b\\\u001b[2m3408621820.py\u001b[0m\u001b]8;;\u001b\\\u001b[2m:\u001b[0m\u001b]8;id=109547;file:///tmp/ipykernel_54302/3408621820.py#6\u001b\\\u001b[2m6\u001b[0m\u001b]8;;\u001b\\\n"
      ]
     },
     "metadata": {},
     "output_type": "display_data"
    },
    {
     "data": {
      "text/html": [
       "<pre style=\"white-space:pre;overflow-x:auto;line-height:normal;font-family:Menlo,'DejaVu Sans Mono',consolas,'Courier New',monospace\"><span style=\"color: #7fbfbf; text-decoration-color: #7fbfbf\">[21:12:16] </span>Credential response:                                                                     <a href=\"file:///tmp/ipykernel_54302/3408621820.py\" target=\"_blank\"><span style=\"color: #7f7f7f; text-decoration-color: #7f7f7f\">3408621820.py</span></a><span style=\"color: #7f7f7f; text-decoration-color: #7f7f7f\">:</span><a href=\"file:///tmp/ipykernel_54302/3408621820.py#8\" target=\"_blank\"><span style=\"color: #7f7f7f; text-decoration-color: #7f7f7f\">8</span></a>\n",
       "<span style=\"color: #7fbfbf; text-decoration-color: #7fbfbf\">           </span><span style=\"font-weight: bold\">{</span>                                                                                        <span style=\"color: #7f7f7f; text-decoration-color: #7f7f7f\">               </span>\n",
       "<span style=\"color: #7fbfbf; text-decoration-color: #7fbfbf\">           </span>    <span style=\"color: #008000; text-decoration-color: #008000\">'format'</span>: <span style=\"color: #008000; text-decoration-color: #008000\">'jwt_vc'</span>,                                                                  <span style=\"color: #7f7f7f; text-decoration-color: #7f7f7f\">               </span>\n",
       "<span style=\"color: #7fbfbf; text-decoration-color: #7fbfbf\">           </span>    <span style=\"color: #008000; text-decoration-color: #008000\">'credential'</span>:                                                                        <span style=\"color: #7f7f7f; text-decoration-color: #7f7f7f\">               </span>\n",
       "<span style=\"color: #7fbfbf; text-decoration-color: #7fbfbf\">           </span><span style=\"color: #008000; text-decoration-color: #008000\">'eyJhbGciOiJFUzI1NiIsInR5cCI6IkpXVCIsImtpZCI6ImRpZDplYnNpOnpoSkFSalBONjljRXRnUHhIZW4xTWl</span> <span style=\"color: #7f7f7f; text-decoration-color: #7f7f7f\">               </span>\n",
       "<span style=\"color: #7fbfbf; text-decoration-color: #7fbfbf\">           </span><span style=\"color: #008000; text-decoration-color: #008000\">kI3VPa3Y1TE9pbzlYQnE2a1JRaHNaMHpOTVZ1czBjNFZqcFB0cDY1dTVjWXcifQ.eyJqdGkiOiJ2YzplYnNpOmNv</span> <span style=\"color: #7f7f7f; text-decoration-color: #7f7f7f\">               </span>\n",
       "<span style=\"color: #7fbfbf; text-decoration-color: #7fbfbf\">           </span><span style=\"color: #008000; text-decoration-color: #008000\">bmZvcm1hbmNlI2YzZjEwNGRkLTFjN2YtNDMwNC04YzBiLWU0MmRlMTExY2YyOCIsInN1YiI6ImRpZDprZXk6ejJk</span> <span style=\"color: #7f7f7f; text-decoration-color: #7f7f7f\">               </span>\n",
       "<span style=\"color: #7fbfbf; text-decoration-color: #7fbfbf\">           </span><span style=\"color: #008000; text-decoration-color: #008000\">bXpEODFjZ1B4OFZraTdKYnV1TW1GWXJXUGdZb3l0eWtVWjNleXFodDFqOUticVdaREhUTWNxUFJvZkVuajdtWmtz</span> <span style=\"color: #7f7f7f; text-decoration-color: #7f7f7f\">               </span>\n",
       "<span style=\"color: #7fbfbf; text-decoration-color: #7fbfbf\">           </span><span style=\"color: #008000; text-decoration-color: #008000\">cTVnbkZxUjNRQ0RZWTZFQmRWOWJ3WThEd1hYYUdIaDg2QnNlOFdpVWlHVXQxM3l5dDVkOWM1cVFNekZ5OE1ndWZZ</span> <span style=\"color: #7f7f7f; text-decoration-color: #7f7f7f\">               </span>\n",
       "<span style=\"color: #7fbfbf; text-decoration-color: #7fbfbf\">           </span><span style=\"color: #008000; text-decoration-color: #008000\">MW9xU3Z3RHZlNDNqYVBNQ1JrcW56V3R5UlNDYmNyQkExYzNEY0FSVDIycCIsImlzcyI6ImRpZDplYnNpOnpoSkFS</span> <span style=\"color: #7f7f7f; text-decoration-color: #7f7f7f\">               </span>\n",
       "<span style=\"color: #7fbfbf; text-decoration-color: #7fbfbf\">           </span><span style=\"color: #008000; text-decoration-color: #008000\">alBONjljRXRnUHhIZW4xTWlkIiwibmJmIjoxNjg3MTg5MzMwLCJleHAiOjE2ODcyNzU3MzAsImlhdCI6MTY4NzE4</span> <span style=\"color: #7f7f7f; text-decoration-color: #7f7f7f\">               </span>\n",
       "<span style=\"color: #7fbfbf; text-decoration-color: #7fbfbf\">           </span><span style=\"color: #008000; text-decoration-color: #008000\">OTMzMCwidmMiOnsiQGNvbnRleHQiOlsiaHR0cHM6Ly93d3cudzMub3JnLzIwMTgvY3JlZGVudGlhbHMvdjEiXSwi</span> <span style=\"color: #7f7f7f; text-decoration-color: #7f7f7f\">               </span>\n",
       "<span style=\"color: #7fbfbf; text-decoration-color: #7fbfbf\">           </span><span style=\"color: #008000; text-decoration-color: #008000\">aWQiOiJ2YzplYnNpOmNvbmZvcm1hbmNlI2YzZjEwNGRkLTFjN2YtNDMwNC04YzBiLWU0MmRlMTExY2YyOCIsInR5</span> <span style=\"color: #7f7f7f; text-decoration-color: #7f7f7f\">               </span>\n",
       "<span style=\"color: #7fbfbf; text-decoration-color: #7fbfbf\">           </span><span style=\"color: #008000; text-decoration-color: #008000\">cGUiOlsiVmVyaWZpYWJsZUNyZWRlbnRpYWwiLCJWZXJpZmlhYmxlQXR0ZXN0YXRpb24iLCJDVFdhbGxldENyb3Nz</span> <span style=\"color: #7f7f7f; text-decoration-color: #7f7f7f\">               </span>\n",
       "<span style=\"color: #7fbfbf; text-decoration-color: #7fbfbf\">           </span><span style=\"color: #008000; text-decoration-color: #008000\">RGVmZXJyZWQiXSwiaXNzdWVyIjoiZGlkOmVic2k6emhKQVJqUE42OWNFdGdQeEhlbjFNaWQiLCJpc3N1YW5jZURh</span> <span style=\"color: #7f7f7f; text-decoration-color: #7f7f7f\">               </span>\n",
       "<span style=\"color: #7fbfbf; text-decoration-color: #7fbfbf\">           </span><span style=\"color: #008000; text-decoration-color: #008000\">dGUiOiIyMDIzLTA2LTE5VDE1OjQyOjEwWiIsImlzc3VlZCI6IjIwMjMtMDYtMTlUMTU6NDI6MTBaIiwidmFsaWRG</span> <span style=\"color: #7f7f7f; text-decoration-color: #7f7f7f\">               </span>\n",
       "<span style=\"color: #7fbfbf; text-decoration-color: #7fbfbf\">           </span><span style=\"color: #008000; text-decoration-color: #008000\">cm9tIjoiMjAyMy0wNi0xOVQxNTo0MjoxMFoiLCJleHBpcmF0aW9uRGF0ZSI6IjIwMjMtMDYtMjBUMTU6NDI6MTBa</span> <span style=\"color: #7f7f7f; text-decoration-color: #7f7f7f\">               </span>\n",
       "<span style=\"color: #7fbfbf; text-decoration-color: #7fbfbf\">           </span><span style=\"color: #008000; text-decoration-color: #008000\">IiwiY3JlZGVudGlhbFN1YmplY3QiOnsiaWQiOiJkaWQ6a2V5OnoyZG16RDgxY2dQeDhWa2k3SmJ1dU1tRllyV1Bn</span> <span style=\"color: #7f7f7f; text-decoration-color: #7f7f7f\">               </span>\n",
       "<span style=\"color: #7fbfbf; text-decoration-color: #7fbfbf\">           </span><span style=\"color: #008000; text-decoration-color: #008000\">WW95dHlrVVozZXlxaHQxajlLYnFXWkRIVE1jcVBSb2ZFbmo3bVprc3E1Z25GcVIzUUNEWVk2RUJkVjlid1k4RHdY</span> <span style=\"color: #7f7f7f; text-decoration-color: #7f7f7f\">               </span>\n",
       "<span style=\"color: #7fbfbf; text-decoration-color: #7fbfbf\">           </span><span style=\"color: #008000; text-decoration-color: #008000\">WGFHSGg4NkJzZThXaVVpR1V0MTN5eXQ1ZDljNXFRTXpGeThNZ3VmWTFvcVN2d0R2ZTQzamFQTUNSa3Fueld0eVJT</span> <span style=\"color: #7f7f7f; text-decoration-color: #7f7f7f\">               </span>\n",
       "<span style=\"color: #7fbfbf; text-decoration-color: #7fbfbf\">           </span><span style=\"color: #008000; text-decoration-color: #008000\">Q2JjckJBMWMzRGNBUlQyMnAifSwiY3JlZGVudGlhbFNjaGVtYSI6eyJpZCI6Imh0dHBzOi8vYXBpLWNvbmZvcm1h</span> <span style=\"color: #7f7f7f; text-decoration-color: #7f7f7f\">               </span>\n",
       "<span style=\"color: #7fbfbf; text-decoration-color: #7fbfbf\">           </span><span style=\"color: #008000; text-decoration-color: #008000\">bmNlLmVic2kuZXUvdHJ1c3RlZC1zY2hlbWFzLXJlZ2lzdHJ5L3YyL3NjaGVtYXMvejNNZ1VGVWtiNzIydXE0eDNk</span> <span style=\"color: #7f7f7f; text-decoration-color: #7f7f7f\">               </span>\n",
       "<span style=\"color: #7fbfbf; text-decoration-color: #7fbfbf\">           </span><span style=\"color: #008000; text-decoration-color: #008000\">djV5QUptbk5tekRGZUs1VUM4eDgzUW9lTEpNIiwidHlwZSI6IkZ1bGxKc29uU2NoZW1hVmFsaWRhdG9yMjAyMSJ9</span> <span style=\"color: #7f7f7f; text-decoration-color: #7f7f7f\">               </span>\n",
       "<span style=\"color: #7fbfbf; text-decoration-color: #7fbfbf\">           </span><span style=\"color: #008000; text-decoration-color: #008000\">LCJ0ZXJtc09mVXNlIjp7ImlkIjoiaHR0cHM6Ly9hcGktY29uZm9ybWFuY2UuZWJzaS5ldS90cnVzdGVkLWlzc3Vl</span> <span style=\"color: #7f7f7f; text-decoration-color: #7f7f7f\">               </span>\n",
       "<span style=\"color: #7fbfbf; text-decoration-color: #7fbfbf\">           </span><span style=\"color: #008000; text-decoration-color: #008000\">cnMtcmVnaXN0cnkvdjQvaXNzdWVycy9kaWQ6ZWJzaTp6aEpBUmpQTjY5Y0V0Z1B4SGVuMU1pZC9hdHRyaWJ1dGVz</span> <span style=\"color: #7f7f7f; text-decoration-color: #7f7f7f\">               </span>\n",
       "<span style=\"color: #7fbfbf; text-decoration-color: #7fbfbf\">           </span><span style=\"color: #008000; text-decoration-color: #008000\">L2YxYWNiMzc1ZmNmYmUxMWE2MDAzZDViNzEwYmYzN2VjYjI3ODJjMTFhNGU0Mjg1NzAxMzM3NzMyYzI2NjRkMDAi</span> <span style=\"color: #7f7f7f; text-decoration-color: #7f7f7f\">               </span>\n",
       "<span style=\"color: #7fbfbf; text-decoration-color: #7fbfbf\">           </span><span style=\"color: #008000; text-decoration-color: #008000\">LCJ0eXBlIjoiSXNzdWFuY2VDZXJ0aWZpY2F0ZSJ9fX0.Q4aj5my0Y838hR4qycX5qu9BIyoWweRR4xIiWiOWFaLD</span> <span style=\"color: #7f7f7f; text-decoration-color: #7f7f7f\">               </span>\n",
       "<span style=\"color: #7fbfbf; text-decoration-color: #7fbfbf\">           </span><span style=\"color: #008000; text-decoration-color: #008000\">uQnWzIOQPfLM-pHLrrOLcFE_EYfFaA908szrXNItaQ'</span>                                              <span style=\"color: #7f7f7f; text-decoration-color: #7f7f7f\">               </span>\n",
       "<span style=\"color: #7fbfbf; text-decoration-color: #7fbfbf\">           </span><span style=\"font-weight: bold\">}</span>                                                                                        <span style=\"color: #7f7f7f; text-decoration-color: #7f7f7f\">               </span>\n",
       "</pre>\n"
      ],
      "text/plain": [
       "\u001b[2;36m[21:12:16]\u001b[0m\u001b[2;36m \u001b[0mCredential response:                                                                     \u001b]8;id=285066;file:///tmp/ipykernel_54302/3408621820.py\u001b\\\u001b[2m3408621820.py\u001b[0m\u001b]8;;\u001b\\\u001b[2m:\u001b[0m\u001b]8;id=729683;file:///tmp/ipykernel_54302/3408621820.py#8\u001b\\\u001b[2m8\u001b[0m\u001b]8;;\u001b\\\n",
       "\u001b[2;36m           \u001b[0m\u001b[1m{\u001b[0m                                                                                        \u001b[2m               \u001b[0m\n",
       "\u001b[2;36m           \u001b[0m    \u001b[32m'format'\u001b[0m: \u001b[32m'jwt_vc'\u001b[0m,                                                                  \u001b[2m               \u001b[0m\n",
       "\u001b[2;36m           \u001b[0m    \u001b[32m'credential'\u001b[0m:                                                                        \u001b[2m               \u001b[0m\n",
       "\u001b[2;36m           \u001b[0m\u001b[32m'eyJhbGciOiJFUzI1NiIsInR5cCI6IkpXVCIsImtpZCI6ImRpZDplYnNpOnpoSkFSalBONjljRXRnUHhIZW4xTWl\u001b[0m \u001b[2m               \u001b[0m\n",
       "\u001b[2;36m           \u001b[0m\u001b[32mkI3VPa3Y1TE9pbzlYQnE2a1JRaHNaMHpOTVZ1czBjNFZqcFB0cDY1dTVjWXcifQ.eyJqdGkiOiJ2YzplYnNpOmNv\u001b[0m \u001b[2m               \u001b[0m\n",
       "\u001b[2;36m           \u001b[0m\u001b[32mbmZvcm1hbmNlI2YzZjEwNGRkLTFjN2YtNDMwNC04YzBiLWU0MmRlMTExY2YyOCIsInN1YiI6ImRpZDprZXk6ejJk\u001b[0m \u001b[2m               \u001b[0m\n",
       "\u001b[2;36m           \u001b[0m\u001b[32mbXpEODFjZ1B4OFZraTdKYnV1TW1GWXJXUGdZb3l0eWtVWjNleXFodDFqOUticVdaREhUTWNxUFJvZkVuajdtWmtz\u001b[0m \u001b[2m               \u001b[0m\n",
       "\u001b[2;36m           \u001b[0m\u001b[32mcTVnbkZxUjNRQ0RZWTZFQmRWOWJ3WThEd1hYYUdIaDg2QnNlOFdpVWlHVXQxM3l5dDVkOWM1cVFNekZ5OE1ndWZZ\u001b[0m \u001b[2m               \u001b[0m\n",
       "\u001b[2;36m           \u001b[0m\u001b[32mMW9xU3Z3RHZlNDNqYVBNQ1JrcW56V3R5UlNDYmNyQkExYzNEY0FSVDIycCIsImlzcyI6ImRpZDplYnNpOnpoSkFS\u001b[0m \u001b[2m               \u001b[0m\n",
       "\u001b[2;36m           \u001b[0m\u001b[32malBONjljRXRnUHhIZW4xTWlkIiwibmJmIjoxNjg3MTg5MzMwLCJleHAiOjE2ODcyNzU3MzAsImlhdCI6MTY4NzE4\u001b[0m \u001b[2m               \u001b[0m\n",
       "\u001b[2;36m           \u001b[0m\u001b[32mOTMzMCwidmMiOnsiQGNvbnRleHQiOlsiaHR0cHM6Ly93d3cudzMub3JnLzIwMTgvY3JlZGVudGlhbHMvdjEiXSwi\u001b[0m \u001b[2m               \u001b[0m\n",
       "\u001b[2;36m           \u001b[0m\u001b[32maWQiOiJ2YzplYnNpOmNvbmZvcm1hbmNlI2YzZjEwNGRkLTFjN2YtNDMwNC04YzBiLWU0MmRlMTExY2YyOCIsInR5\u001b[0m \u001b[2m               \u001b[0m\n",
       "\u001b[2;36m           \u001b[0m\u001b[32mcGUiOlsiVmVyaWZpYWJsZUNyZWRlbnRpYWwiLCJWZXJpZmlhYmxlQXR0ZXN0YXRpb24iLCJDVFdhbGxldENyb3Nz\u001b[0m \u001b[2m               \u001b[0m\n",
       "\u001b[2;36m           \u001b[0m\u001b[32mRGVmZXJyZWQiXSwiaXNzdWVyIjoiZGlkOmVic2k6emhKQVJqUE42OWNFdGdQeEhlbjFNaWQiLCJpc3N1YW5jZURh\u001b[0m \u001b[2m               \u001b[0m\n",
       "\u001b[2;36m           \u001b[0m\u001b[32mdGUiOiIyMDIzLTA2LTE5VDE1OjQyOjEwWiIsImlzc3VlZCI6IjIwMjMtMDYtMTlUMTU6NDI6MTBaIiwidmFsaWRG\u001b[0m \u001b[2m               \u001b[0m\n",
       "\u001b[2;36m           \u001b[0m\u001b[32mcm9tIjoiMjAyMy0wNi0xOVQxNTo0MjoxMFoiLCJleHBpcmF0aW9uRGF0ZSI6IjIwMjMtMDYtMjBUMTU6NDI6MTBa\u001b[0m \u001b[2m               \u001b[0m\n",
       "\u001b[2;36m           \u001b[0m\u001b[32mIiwiY3JlZGVudGlhbFN1YmplY3QiOnsiaWQiOiJkaWQ6a2V5OnoyZG16RDgxY2dQeDhWa2k3SmJ1dU1tRllyV1Bn\u001b[0m \u001b[2m               \u001b[0m\n",
       "\u001b[2;36m           \u001b[0m\u001b[32mWW95dHlrVVozZXlxaHQxajlLYnFXWkRIVE1jcVBSb2ZFbmo3bVprc3E1Z25GcVIzUUNEWVk2RUJkVjlid1k4RHdY\u001b[0m \u001b[2m               \u001b[0m\n",
       "\u001b[2;36m           \u001b[0m\u001b[32mWGFHSGg4NkJzZThXaVVpR1V0MTN5eXQ1ZDljNXFRTXpGeThNZ3VmWTFvcVN2d0R2ZTQzamFQTUNSa3Fueld0eVJT\u001b[0m \u001b[2m               \u001b[0m\n",
       "\u001b[2;36m           \u001b[0m\u001b[32mQ2JjckJBMWMzRGNBUlQyMnAifSwiY3JlZGVudGlhbFNjaGVtYSI6eyJpZCI6Imh0dHBzOi8vYXBpLWNvbmZvcm1h\u001b[0m \u001b[2m               \u001b[0m\n",
       "\u001b[2;36m           \u001b[0m\u001b[32mbmNlLmVic2kuZXUvdHJ1c3RlZC1zY2hlbWFzLXJlZ2lzdHJ5L3YyL3NjaGVtYXMvejNNZ1VGVWtiNzIydXE0eDNk\u001b[0m \u001b[2m               \u001b[0m\n",
       "\u001b[2;36m           \u001b[0m\u001b[32mdjV5QUptbk5tekRGZUs1VUM4eDgzUW9lTEpNIiwidHlwZSI6IkZ1bGxKc29uU2NoZW1hVmFsaWRhdG9yMjAyMSJ9\u001b[0m \u001b[2m               \u001b[0m\n",
       "\u001b[2;36m           \u001b[0m\u001b[32mLCJ0ZXJtc09mVXNlIjp7ImlkIjoiaHR0cHM6Ly9hcGktY29uZm9ybWFuY2UuZWJzaS5ldS90cnVzdGVkLWlzc3Vl\u001b[0m \u001b[2m               \u001b[0m\n",
       "\u001b[2;36m           \u001b[0m\u001b[32mcnMtcmVnaXN0cnkvdjQvaXNzdWVycy9kaWQ6ZWJzaTp6aEpBUmpQTjY5Y0V0Z1B4SGVuMU1pZC9hdHRyaWJ1dGVz\u001b[0m \u001b[2m               \u001b[0m\n",
       "\u001b[2;36m           \u001b[0m\u001b[32mL2YxYWNiMzc1ZmNmYmUxMWE2MDAzZDViNzEwYmYzN2VjYjI3ODJjMTFhNGU0Mjg1NzAxMzM3NzMyYzI2NjRkMDAi\u001b[0m \u001b[2m               \u001b[0m\n",
       "\u001b[2;36m           \u001b[0m\u001b[32mLCJ0eXBlIjoiSXNzdWFuY2VDZXJ0aWZpY2F0ZSJ9fX0.Q4aj5my0Y838hR4qycX5qu9BIyoWweRR4xIiWiOWFaLD\u001b[0m \u001b[2m               \u001b[0m\n",
       "\u001b[2;36m           \u001b[0m\u001b[32muQnWzIOQPfLM-pHLrrOLcFE_EYfFaA908szrXNItaQ'\u001b[0m                                              \u001b[2m               \u001b[0m\n",
       "\u001b[2;36m           \u001b[0m\u001b[1m}\u001b[0m                                                                                        \u001b[2m               \u001b[0m\n"
      ]
     },
     "metadata": {},
     "output_type": "display_data"
    }
   ],
   "source": [
    "from ebsi_wallet.siop_auth.util import send_deferred_credential_request\n",
    "from time import sleep\n",
    "\n",
    "console.log(\"Waiting for 5 seconds...\")\n",
    "sleep(5)\n",
    "console.log(\"Sending deferred credential request...\")\n",
    "credential_response = await send_deferred_credential_request(credential_issuer_configuration.deferred_credential_endpoint, acceptance_token_response.get(\"acceptance_token\"))\n",
    "console.log(\"Credential response: \", credential_response)"
   ]
  }
 ],
 "metadata": {
  "kernelspec": {
   "display_name": "ebsi-wallet-NqTUFGRW-py3.10",
   "language": "python",
   "name": "python3"
  },
  "language_info": {
   "codemirror_mode": {
    "name": "ipython",
    "version": 3
   },
   "file_extension": ".py",
   "mimetype": "text/x-python",
   "name": "python",
   "nbconvert_exporter": "python",
   "pygments_lexer": "ipython3",
   "version": "3.10.6"
  },
  "orig_nbformat": 4
 },
 "nbformat": 4,
 "nbformat_minor": 2
}
