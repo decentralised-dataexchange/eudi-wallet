{
 "cells": [
  {
   "attachments": {},
   "cell_type": "markdown",
   "metadata": {},
   "source": [
    "# Holder Wallet Conformance Flows (v3) - CTWalletCrossDeferred"
   ]
  },
  {
   "attachments": {},
   "cell_type": "markdown",
   "metadata": {},
   "source": [
    "# 0.0 Initial setup"
   ]
  },
  {
   "attachments": {},
   "cell_type": "markdown",
   "metadata": {},
   "source": [
    "## 0.1 Setup conformance"
   ]
  },
  {
   "cell_type": "code",
   "execution_count": 1,
   "metadata": {},
   "outputs": [],
   "source": [
    "import uuid\n",
    "import asyncio\n",
    "from rich.console import Console\n",
    "\n",
    "console = Console()\n",
    "\n",
    "loop = asyncio.get_event_loop()"
   ]
  },
  {
   "attachments": {},
   "cell_type": "markdown",
   "metadata": {},
   "source": [
    "## 0.2 Create did:key:jwk_jcs-pub identifier using ES256 algorithm"
   ]
  },
  {
   "cell_type": "code",
   "execution_count": 2,
   "metadata": {},
   "outputs": [
    {
     "name": "stdout",
     "output_type": "stream",
     "text": [
      "Decentralised identifier:  did:key:z2dmzD81cgPx8Vki7JbuuMmFYrWPgYoytykUZ3eyqht1j9KbptQwoaj2VP1S6Ahzo7REFCT4NBTPYdQinCZbCcyoqWKi9Q2uEW36DNSXhCwiYnGz6BAZkzytQAEBE5cPidCGnadH4SsLDbSZeG2SEChrqvQpdK4Mk8H32vs3B5g8Wr7kcc\n"
     ]
    }
   ],
   "source": [
    "from ebsi_wallet.did_key import KeyDid, PublicKeyJWK\n",
    "import uuid\n",
    "\n",
    "# generate crypto seed\n",
    "crypto_seed = b'helloworld'\n",
    "\n",
    "key_did = KeyDid(seed=crypto_seed)\n",
    "\n",
    "# generate keypair\n",
    "key_did.create_keypair()\n",
    "\n",
    "# create public key jwk\n",
    "public_key_jwk = PublicKeyJWK(\n",
    "    kty=key_did.public_key_jwk['kty'],\n",
    "    crv=key_did.public_key_jwk['crv'],\n",
    "    x=key_did.public_key_jwk['x'],\n",
    "    y=key_did.public_key_jwk['y']\n",
    ")\n",
    "\n",
    "# generate did\n",
    "key_did.generate_did(public_key_jwk)\n",
    "\n",
    "print(\"Decentralised identifier: \", key_did._did)"
   ]
  },
  {
   "attachments": {},
   "cell_type": "markdown",
   "metadata": {},
   "source": [
    "## 1.1 Initiate Credential Issuance"
   ]
  },
  {
   "cell_type": "code",
   "execution_count": 3,
   "metadata": {},
   "outputs": [
    {
     "data": {
      "text/html": [
       "<pre style=\"white-space:pre;overflow-x:auto;line-height:normal;font-family:Menlo,'DejaVu Sans Mono',consolas,'Courier New',monospace\"><span style=\"color: #7fbfbf; text-decoration-color: #7fbfbf\">[16:09:20] </span>Credential offer URI:                                                                   <a href=\"file:///tmp/ipykernel_27003/3787712226.py\" target=\"_blank\"><span style=\"color: #7f7f7f; text-decoration-color: #7f7f7f\">3787712226.py</span></a><span style=\"color: #7f7f7f; text-decoration-color: #7f7f7f\">:</span><a href=\"file:///tmp/ipykernel_27003/3787712226.py#16\" target=\"_blank\"><span style=\"color: #7f7f7f; text-decoration-color: #7f7f7f\">16</span></a>\n",
       "<span style=\"color: #7fbfbf; text-decoration-color: #7fbfbf\">           </span><span style=\"color: #0000ff; text-decoration-color: #0000ff; text-decoration: underline\">https://api-conformance.ebsi.eu/conformance/v3/issuer-mock/offers/f008d867-c9ad-4e3d-b9</span> <span style=\"color: #7f7f7f; text-decoration-color: #7f7f7f\">                </span>\n",
       "<span style=\"color: #7fbfbf; text-decoration-color: #7fbfbf\">           </span><span style=\"color: #0000ff; text-decoration-color: #0000ff; text-decoration: underline\">6b-8b6f28e0f048</span>                                                                         <span style=\"color: #7f7f7f; text-decoration-color: #7f7f7f\">                </span>\n",
       "</pre>\n"
      ],
      "text/plain": [
       "\u001b[2;36m[16:09:20]\u001b[0m\u001b[2;36m \u001b[0mCredential offer URI:                                                                   \u001b]8;id=758605;file:///tmp/ipykernel_27003/3787712226.py\u001b\\\u001b[2m3787712226.py\u001b[0m\u001b]8;;\u001b\\\u001b[2m:\u001b[0m\u001b]8;id=631363;file:///tmp/ipykernel_27003/3787712226.py#16\u001b\\\u001b[2m16\u001b[0m\u001b]8;;\u001b\\\n",
       "\u001b[2;36m           \u001b[0m\u001b[4;94mhttps://api-conformance.ebsi.eu/conformance/v3/issuer-mock/offers/f008d867-c9ad-4e3d-b9\u001b[0m \u001b[2m                \u001b[0m\n",
       "\u001b[2;36m           \u001b[0m\u001b[4;94m6b-8b6f28e0f048\u001b[0m                                                                         \u001b[2m                \u001b[0m\n"
      ]
     },
     "metadata": {},
     "output_type": "display_data"
    },
    {
     "name": "stdout",
     "output_type": "stream",
     "text": [
      "{'credential_issuer': 'https://api-conformance.ebsi.eu/conformance/v3/issuer-mock', 'credentials': [{'format': 'jwt_vc', 'types': ['VerifiableCredential', 'VerifiableAttestation', 'CTWalletCrossDeferred'], 'trust_framework': {'name': 'ebsi', 'type': 'Accreditation', 'uri': 'TIR link towards accreditation'}}], 'grants': {'authorization_code': {'issuer_state': 'eyJ0eXAiOiJKV1QiLCJhbGciOiJFUzI1NiIsImtpZCI6InVPa3Y1TE9pbzlYQnE2a1JRaHNaMHpOTVZ1czBjNFZqcFB0cDY1dTVjWXcifQ.eyJjbGllbnRfaWQiOiJkaWQ6a2V5OnoyZG16RDgxY2dQeDhWa2k3SmJ1dU1tRllyV1BnWW95dHlrVVozZXlxaHQxajlLYnB0UXdvYWoyVlAxUzZBaHpvN1JFRkNUNE5CVFBZZFFpbkNaYkNjeW9xV0tpOVEydUVXMzZETlNYaEN3aVluR3o2QkFaa3p5dFFBRUJFNWNQaWRDR25hZEg0U3NMRGJTWmVHMlNFQ2hycXZRcGRLNE1rOEgzMnZzM0I1ZzhXcjdrY2MiLCJjcmVkZW50aWFsX3R5cGVzIjpbIlZlcmlmaWFibGVDcmVkZW50aWFsIiwiVmVyaWZpYWJsZUF0dGVzdGF0aW9uIiwiQ1RXYWxsZXRDcm9zc0RlZmVycmVkIl0sImlhdCI6MTY4NzI1NzUxMCwiZXhwIjoxNjg3MjU3ODEwLCJpc3MiOiJodHRwczovL2FwaS1jb25mb3JtYW5jZS5lYnNpLmV1L2NvbmZvcm1hbmNlL3YzL2lzc3Vlci1tb2NrIiwiYXVkIjoiaHR0cHM6Ly9hcGktY29uZm9ybWFuY2UuZWJzaS5ldS9jb25mb3JtYW5jZS92My9hdXRoLW1vY2siLCJzdWIiOiJkaWQ6a2V5OnoyZG16RDgxY2dQeDhWa2k3SmJ1dU1tRllyV1BnWW95dHlrVVozZXlxaHQxajlLYnB0UXdvYWoyVlAxUzZBaHpvN1JFRkNUNE5CVFBZZFFpbkNaYkNjeW9xV0tpOVEydUVXMzZETlNYaEN3aVluR3o2QkFaa3p5dFFBRUJFNWNQaWRDR25hZEg0U3NMRGJTWmVHMlNFQ2hycXZRcGRLNE1rOEgzMnZzM0I1ZzhXcjdrY2MifQ.FAuRkpx30DiTAnVaGpt3sEuVLxHbQFdWUCYULrMkXjqGFLajGEVPLgoJF62AyuDxkJIUp_SEgZfqLs-941WfKg'}}}\n"
     ]
    },
    {
     "data": {
      "text/html": [
       "<pre style=\"white-space:pre;overflow-x:auto;line-height:normal;font-family:Menlo,'DejaVu Sans Mono',consolas,'Courier New',monospace\"><span style=\"color: #7fbfbf; text-decoration-color: #7fbfbf\">[16:09:21] </span>Credential offer:                                                                       <a href=\"file:///tmp/ipykernel_27003/3787712226.py\" target=\"_blank\"><span style=\"color: #7f7f7f; text-decoration-color: #7f7f7f\">3787712226.py</span></a><span style=\"color: #7f7f7f; text-decoration-color: #7f7f7f\">:</span><a href=\"file:///tmp/ipykernel_27003/3787712226.py#19\" target=\"_blank\"><span style=\"color: #7f7f7f; text-decoration-color: #7f7f7f\">19</span></a>\n",
       "<span style=\"color: #7fbfbf; text-decoration-color: #7fbfbf\">           </span><span style=\"color: #800080; text-decoration-color: #800080; font-weight: bold\">CredentialOffer</span><span style=\"font-weight: bold\">(</span>                                                                        <span style=\"color: #7f7f7f; text-decoration-color: #7f7f7f\">                </span>\n",
       "<span style=\"color: #7fbfbf; text-decoration-color: #7fbfbf\">           </span>    <span style=\"color: #808000; text-decoration-color: #808000\">credential_issuer</span>=<span style=\"color: #008000; text-decoration-color: #008000\">'https://api-conformance.ebsi.eu/conformance/v3/issuer-mock'</span>,     <span style=\"color: #7f7f7f; text-decoration-color: #7f7f7f\">                </span>\n",
       "<span style=\"color: #7fbfbf; text-decoration-color: #7fbfbf\">           </span>    <span style=\"color: #808000; text-decoration-color: #808000\">credentials</span>=<span style=\"font-weight: bold\">[</span>                                                                       <span style=\"color: #7f7f7f; text-decoration-color: #7f7f7f\">                </span>\n",
       "<span style=\"color: #7fbfbf; text-decoration-color: #7fbfbf\">           </span>        <span style=\"font-weight: bold\">{</span>                                                                               <span style=\"color: #7f7f7f; text-decoration-color: #7f7f7f\">                </span>\n",
       "<span style=\"color: #7fbfbf; text-decoration-color: #7fbfbf\">           </span>            <span style=\"color: #008000; text-decoration-color: #008000\">'format'</span>: <span style=\"color: #008000; text-decoration-color: #008000\">'jwt_vc'</span>,                                                         <span style=\"color: #7f7f7f; text-decoration-color: #7f7f7f\">                </span>\n",
       "<span style=\"color: #7fbfbf; text-decoration-color: #7fbfbf\">           </span>            <span style=\"color: #008000; text-decoration-color: #008000\">'types'</span>: <span style=\"font-weight: bold\">[</span>                                                                  <span style=\"color: #7f7f7f; text-decoration-color: #7f7f7f\">                </span>\n",
       "<span style=\"color: #7fbfbf; text-decoration-color: #7fbfbf\">           </span>                <span style=\"color: #008000; text-decoration-color: #008000\">'VerifiableCredential'</span>,                                                 <span style=\"color: #7f7f7f; text-decoration-color: #7f7f7f\">                </span>\n",
       "<span style=\"color: #7fbfbf; text-decoration-color: #7fbfbf\">           </span>                <span style=\"color: #008000; text-decoration-color: #008000\">'VerifiableAttestation'</span>,                                                <span style=\"color: #7f7f7f; text-decoration-color: #7f7f7f\">                </span>\n",
       "<span style=\"color: #7fbfbf; text-decoration-color: #7fbfbf\">           </span>                <span style=\"color: #008000; text-decoration-color: #008000\">'CTWalletCrossDeferred'</span>                                                 <span style=\"color: #7f7f7f; text-decoration-color: #7f7f7f\">                </span>\n",
       "<span style=\"color: #7fbfbf; text-decoration-color: #7fbfbf\">           </span>            <span style=\"font-weight: bold\">]</span>,                                                                          <span style=\"color: #7f7f7f; text-decoration-color: #7f7f7f\">                </span>\n",
       "<span style=\"color: #7fbfbf; text-decoration-color: #7fbfbf\">           </span>            <span style=\"color: #008000; text-decoration-color: #008000\">'trust_framework'</span>: <span style=\"font-weight: bold\">{</span>                                                        <span style=\"color: #7f7f7f; text-decoration-color: #7f7f7f\">                </span>\n",
       "<span style=\"color: #7fbfbf; text-decoration-color: #7fbfbf\">           </span>                <span style=\"color: #008000; text-decoration-color: #008000\">'name'</span>: <span style=\"color: #008000; text-decoration-color: #008000\">'ebsi'</span>,                                                         <span style=\"color: #7f7f7f; text-decoration-color: #7f7f7f\">                </span>\n",
       "<span style=\"color: #7fbfbf; text-decoration-color: #7fbfbf\">           </span>                <span style=\"color: #008000; text-decoration-color: #008000\">'type'</span>: <span style=\"color: #008000; text-decoration-color: #008000\">'Accreditation'</span>,                                                <span style=\"color: #7f7f7f; text-decoration-color: #7f7f7f\">                </span>\n",
       "<span style=\"color: #7fbfbf; text-decoration-color: #7fbfbf\">           </span>                <span style=\"color: #008000; text-decoration-color: #008000\">'uri'</span>: <span style=\"color: #008000; text-decoration-color: #008000\">'TIR link towards accreditation'</span>                                 <span style=\"color: #7f7f7f; text-decoration-color: #7f7f7f\">                </span>\n",
       "<span style=\"color: #7fbfbf; text-decoration-color: #7fbfbf\">           </span>            <span style=\"font-weight: bold\">}</span>                                                                           <span style=\"color: #7f7f7f; text-decoration-color: #7f7f7f\">                </span>\n",
       "<span style=\"color: #7fbfbf; text-decoration-color: #7fbfbf\">           </span>        <span style=\"font-weight: bold\">}</span>                                                                               <span style=\"color: #7f7f7f; text-decoration-color: #7f7f7f\">                </span>\n",
       "<span style=\"color: #7fbfbf; text-decoration-color: #7fbfbf\">           </span>    <span style=\"font-weight: bold\">]</span>,                                                                                  <span style=\"color: #7f7f7f; text-decoration-color: #7f7f7f\">                </span>\n",
       "<span style=\"color: #7fbfbf; text-decoration-color: #7fbfbf\">           </span>    <span style=\"color: #808000; text-decoration-color: #808000\">grants</span>=<span style=\"font-weight: bold\">{</span>                                                                            <span style=\"color: #7f7f7f; text-decoration-color: #7f7f7f\">                </span>\n",
       "<span style=\"color: #7fbfbf; text-decoration-color: #7fbfbf\">           </span>        <span style=\"color: #008000; text-decoration-color: #008000\">'authorization_code'</span>: <span style=\"font-weight: bold\">{</span>                                                         <span style=\"color: #7f7f7f; text-decoration-color: #7f7f7f\">                </span>\n",
       "<span style=\"color: #7fbfbf; text-decoration-color: #7fbfbf\">           </span>            <span style=\"color: #008000; text-decoration-color: #008000\">'issuer_state'</span>:                                                             <span style=\"color: #7f7f7f; text-decoration-color: #7f7f7f\">                </span>\n",
       "<span style=\"color: #7fbfbf; text-decoration-color: #7fbfbf\">           </span><span style=\"color: #008000; text-decoration-color: #008000\">'eyJ0eXAiOiJKV1QiLCJhbGciOiJFUzI1NiIsImtpZCI6InVPa3Y1TE9pbzlYQnE2a1JRaHNaMHpOTVZ1czBjNF</span> <span style=\"color: #7f7f7f; text-decoration-color: #7f7f7f\">                </span>\n",
       "<span style=\"color: #7fbfbf; text-decoration-color: #7fbfbf\">           </span><span style=\"color: #008000; text-decoration-color: #008000\">ZqcFB0cDY1dTVjWXcifQ.eyJjbGllbnRfaWQiOiJkaWQ6a2V5OnoyZG16RDgxY2dQeDhWa2k3SmJ1dU1tRllyV1</span> <span style=\"color: #7f7f7f; text-decoration-color: #7f7f7f\">                </span>\n",
       "<span style=\"color: #7fbfbf; text-decoration-color: #7fbfbf\">           </span><span style=\"color: #008000; text-decoration-color: #008000\">BnWW95dHlrVVozZXlxaHQxajlLYnB0UXdvYWoyVlAxUzZBaHpvN1JFRkNUNE5CVFBZZFFpbkNaYkNjeW9xV0tpO</span> <span style=\"color: #7f7f7f; text-decoration-color: #7f7f7f\">                </span>\n",
       "<span style=\"color: #7fbfbf; text-decoration-color: #7fbfbf\">           </span><span style=\"color: #008000; text-decoration-color: #008000\">VEydUVXMzZETlNYaEN3aVluR3o2QkFaa3p5dFFBRUJFNWNQaWRDR25hZEg0U3NMRGJTWmVHMlNFQ2hycXZRcGRL</span> <span style=\"color: #7f7f7f; text-decoration-color: #7f7f7f\">                </span>\n",
       "<span style=\"color: #7fbfbf; text-decoration-color: #7fbfbf\">           </span><span style=\"color: #008000; text-decoration-color: #008000\">NE1rOEgzMnZzM0I1ZzhXcjdrY2MiLCJjcmVkZW50aWFsX3R5cGVzIjpbIlZlcmlmaWFibGVDcmVkZW50aWFsIiw</span> <span style=\"color: #7f7f7f; text-decoration-color: #7f7f7f\">                </span>\n",
       "<span style=\"color: #7fbfbf; text-decoration-color: #7fbfbf\">           </span><span style=\"color: #008000; text-decoration-color: #008000\">iVmVyaWZpYWJsZUF0dGVzdGF0aW9uIiwiQ1RXYWxsZXRDcm9zc0RlZmVycmVkIl0sImlhdCI6MTY4NzI1NzUxMC</span> <span style=\"color: #7f7f7f; text-decoration-color: #7f7f7f\">                </span>\n",
       "<span style=\"color: #7fbfbf; text-decoration-color: #7fbfbf\">           </span><span style=\"color: #008000; text-decoration-color: #008000\">wiZXhwIjoxNjg3MjU3ODEwLCJpc3MiOiJodHRwczovL2FwaS1jb25mb3JtYW5jZS5lYnNpLmV1L2NvbmZvcm1hb</span> <span style=\"color: #7f7f7f; text-decoration-color: #7f7f7f\">                </span>\n",
       "<span style=\"color: #7fbfbf; text-decoration-color: #7fbfbf\">           </span><span style=\"color: #008000; text-decoration-color: #008000\">mNlL3YzL2lzc3Vlci1tb2NrIiwiYXVkIjoiaHR0cHM6Ly9hcGktY29uZm9ybWFuY2UuZWJzaS5ldS9jb25mb3Jt</span> <span style=\"color: #7f7f7f; text-decoration-color: #7f7f7f\">                </span>\n",
       "<span style=\"color: #7fbfbf; text-decoration-color: #7fbfbf\">           </span><span style=\"color: #008000; text-decoration-color: #008000\">YW5jZS92My9hdXRoLW1vY2siLCJzdWIiOiJkaWQ6a2V5OnoyZG16RDgxY2dQeDhWa2k3SmJ1dU1tRllyV1BnWW9</span> <span style=\"color: #7f7f7f; text-decoration-color: #7f7f7f\">                </span>\n",
       "<span style=\"color: #7fbfbf; text-decoration-color: #7fbfbf\">           </span><span style=\"color: #008000; text-decoration-color: #008000\">5dHlrVVozZXlxaHQxajlLYnB0UXdvYWoyVlAxUzZBaHpvN1JFRkNUNE5CVFBZZFFpbkNaYkNjeW9xV0tpOVEydU</span> <span style=\"color: #7f7f7f; text-decoration-color: #7f7f7f\">                </span>\n",
       "<span style=\"color: #7fbfbf; text-decoration-color: #7fbfbf\">           </span><span style=\"color: #008000; text-decoration-color: #008000\">VXMzZETlNYaEN3aVluR3o2QkFaa3p5dFFBRUJFNWNQaWRDR25hZEg0U3NMRGJTWmVHMlNFQ2hycXZRcGRLNE1rO</span> <span style=\"color: #7f7f7f; text-decoration-color: #7f7f7f\">                </span>\n",
       "<span style=\"color: #7fbfbf; text-decoration-color: #7fbfbf\">           </span><span style=\"color: #008000; text-decoration-color: #008000\">EgzMnZzM0I1ZzhXcjdrY2MifQ.FAuRkpx30DiTAnVaGpt3sEuVLxHbQFdWUCYULrMkXjqGFLajGEVPLgoJF62Ay</span> <span style=\"color: #7f7f7f; text-decoration-color: #7f7f7f\">                </span>\n",
       "<span style=\"color: #7fbfbf; text-decoration-color: #7fbfbf\">           </span><span style=\"color: #008000; text-decoration-color: #008000\">uDxkJIUp_SEgZfqLs-941WfKg'</span>                                                              <span style=\"color: #7f7f7f; text-decoration-color: #7f7f7f\">                </span>\n",
       "<span style=\"color: #7fbfbf; text-decoration-color: #7fbfbf\">           </span>        <span style=\"font-weight: bold\">}</span>                                                                               <span style=\"color: #7f7f7f; text-decoration-color: #7f7f7f\">                </span>\n",
       "<span style=\"color: #7fbfbf; text-decoration-color: #7fbfbf\">           </span>    <span style=\"font-weight: bold\">}</span>                                                                                   <span style=\"color: #7f7f7f; text-decoration-color: #7f7f7f\">                </span>\n",
       "<span style=\"color: #7fbfbf; text-decoration-color: #7fbfbf\">           </span><span style=\"font-weight: bold\">)</span>                                                                                       <span style=\"color: #7f7f7f; text-decoration-color: #7f7f7f\">                </span>\n",
       "</pre>\n"
      ],
      "text/plain": [
       "\u001b[2;36m[16:09:21]\u001b[0m\u001b[2;36m \u001b[0mCredential offer:                                                                       \u001b]8;id=396353;file:///tmp/ipykernel_27003/3787712226.py\u001b\\\u001b[2m3787712226.py\u001b[0m\u001b]8;;\u001b\\\u001b[2m:\u001b[0m\u001b]8;id=359992;file:///tmp/ipykernel_27003/3787712226.py#19\u001b\\\u001b[2m19\u001b[0m\u001b]8;;\u001b\\\n",
       "\u001b[2;36m           \u001b[0m\u001b[1;35mCredentialOffer\u001b[0m\u001b[1m(\u001b[0m                                                                        \u001b[2m                \u001b[0m\n",
       "\u001b[2;36m           \u001b[0m    \u001b[33mcredential_issuer\u001b[0m=\u001b[32m'https://api-conformance.ebsi.eu/conformance/v3/issuer-mock'\u001b[0m,     \u001b[2m                \u001b[0m\n",
       "\u001b[2;36m           \u001b[0m    \u001b[33mcredentials\u001b[0m=\u001b[1m[\u001b[0m                                                                       \u001b[2m                \u001b[0m\n",
       "\u001b[2;36m           \u001b[0m        \u001b[1m{\u001b[0m                                                                               \u001b[2m                \u001b[0m\n",
       "\u001b[2;36m           \u001b[0m            \u001b[32m'format'\u001b[0m: \u001b[32m'jwt_vc'\u001b[0m,                                                         \u001b[2m                \u001b[0m\n",
       "\u001b[2;36m           \u001b[0m            \u001b[32m'types'\u001b[0m: \u001b[1m[\u001b[0m                                                                  \u001b[2m                \u001b[0m\n",
       "\u001b[2;36m           \u001b[0m                \u001b[32m'VerifiableCredential'\u001b[0m,                                                 \u001b[2m                \u001b[0m\n",
       "\u001b[2;36m           \u001b[0m                \u001b[32m'VerifiableAttestation'\u001b[0m,                                                \u001b[2m                \u001b[0m\n",
       "\u001b[2;36m           \u001b[0m                \u001b[32m'CTWalletCrossDeferred'\u001b[0m                                                 \u001b[2m                \u001b[0m\n",
       "\u001b[2;36m           \u001b[0m            \u001b[1m]\u001b[0m,                                                                          \u001b[2m                \u001b[0m\n",
       "\u001b[2;36m           \u001b[0m            \u001b[32m'trust_framework'\u001b[0m: \u001b[1m{\u001b[0m                                                        \u001b[2m                \u001b[0m\n",
       "\u001b[2;36m           \u001b[0m                \u001b[32m'name'\u001b[0m: \u001b[32m'ebsi'\u001b[0m,                                                         \u001b[2m                \u001b[0m\n",
       "\u001b[2;36m           \u001b[0m                \u001b[32m'type'\u001b[0m: \u001b[32m'Accreditation'\u001b[0m,                                                \u001b[2m                \u001b[0m\n",
       "\u001b[2;36m           \u001b[0m                \u001b[32m'uri'\u001b[0m: \u001b[32m'TIR link towards accreditation'\u001b[0m                                 \u001b[2m                \u001b[0m\n",
       "\u001b[2;36m           \u001b[0m            \u001b[1m}\u001b[0m                                                                           \u001b[2m                \u001b[0m\n",
       "\u001b[2;36m           \u001b[0m        \u001b[1m}\u001b[0m                                                                               \u001b[2m                \u001b[0m\n",
       "\u001b[2;36m           \u001b[0m    \u001b[1m]\u001b[0m,                                                                                  \u001b[2m                \u001b[0m\n",
       "\u001b[2;36m           \u001b[0m    \u001b[33mgrants\u001b[0m=\u001b[1m{\u001b[0m                                                                            \u001b[2m                \u001b[0m\n",
       "\u001b[2;36m           \u001b[0m        \u001b[32m'authorization_code'\u001b[0m: \u001b[1m{\u001b[0m                                                         \u001b[2m                \u001b[0m\n",
       "\u001b[2;36m           \u001b[0m            \u001b[32m'issuer_state'\u001b[0m:                                                             \u001b[2m                \u001b[0m\n",
       "\u001b[2;36m           \u001b[0m\u001b[32m'eyJ0eXAiOiJKV1QiLCJhbGciOiJFUzI1NiIsImtpZCI6InVPa3Y1TE9pbzlYQnE2a1JRaHNaMHpOTVZ1czBjNF\u001b[0m \u001b[2m                \u001b[0m\n",
       "\u001b[2;36m           \u001b[0m\u001b[32mZqcFB0cDY1dTVjWXcifQ.eyJjbGllbnRfaWQiOiJkaWQ6a2V5OnoyZG16RDgxY2dQeDhWa2k3SmJ1dU1tRllyV1\u001b[0m \u001b[2m                \u001b[0m\n",
       "\u001b[2;36m           \u001b[0m\u001b[32mBnWW95dHlrVVozZXlxaHQxajlLYnB0UXdvYWoyVlAxUzZBaHpvN1JFRkNUNE5CVFBZZFFpbkNaYkNjeW9xV0tpO\u001b[0m \u001b[2m                \u001b[0m\n",
       "\u001b[2;36m           \u001b[0m\u001b[32mVEydUVXMzZETlNYaEN3aVluR3o2QkFaa3p5dFFBRUJFNWNQaWRDR25hZEg0U3NMRGJTWmVHMlNFQ2hycXZRcGRL\u001b[0m \u001b[2m                \u001b[0m\n",
       "\u001b[2;36m           \u001b[0m\u001b[32mNE1rOEgzMnZzM0I1ZzhXcjdrY2MiLCJjcmVkZW50aWFsX3R5cGVzIjpbIlZlcmlmaWFibGVDcmVkZW50aWFsIiw\u001b[0m \u001b[2m                \u001b[0m\n",
       "\u001b[2;36m           \u001b[0m\u001b[32miVmVyaWZpYWJsZUF0dGVzdGF0aW9uIiwiQ1RXYWxsZXRDcm9zc0RlZmVycmVkIl0sImlhdCI6MTY4NzI1NzUxMC\u001b[0m \u001b[2m                \u001b[0m\n",
       "\u001b[2;36m           \u001b[0m\u001b[32mwiZXhwIjoxNjg3MjU3ODEwLCJpc3MiOiJodHRwczovL2FwaS1jb25mb3JtYW5jZS5lYnNpLmV1L2NvbmZvcm1hb\u001b[0m \u001b[2m                \u001b[0m\n",
       "\u001b[2;36m           \u001b[0m\u001b[32mmNlL3YzL2lzc3Vlci1tb2NrIiwiYXVkIjoiaHR0cHM6Ly9hcGktY29uZm9ybWFuY2UuZWJzaS5ldS9jb25mb3Jt\u001b[0m \u001b[2m                \u001b[0m\n",
       "\u001b[2;36m           \u001b[0m\u001b[32mYW5jZS92My9hdXRoLW1vY2siLCJzdWIiOiJkaWQ6a2V5OnoyZG16RDgxY2dQeDhWa2k3SmJ1dU1tRllyV1BnWW9\u001b[0m \u001b[2m                \u001b[0m\n",
       "\u001b[2;36m           \u001b[0m\u001b[32m5dHlrVVozZXlxaHQxajlLYnB0UXdvYWoyVlAxUzZBaHpvN1JFRkNUNE5CVFBZZFFpbkNaYkNjeW9xV0tpOVEydU\u001b[0m \u001b[2m                \u001b[0m\n",
       "\u001b[2;36m           \u001b[0m\u001b[32mVXMzZETlNYaEN3aVluR3o2QkFaa3p5dFFBRUJFNWNQaWRDR25hZEg0U3NMRGJTWmVHMlNFQ2hycXZRcGRLNE1rO\u001b[0m \u001b[2m                \u001b[0m\n",
       "\u001b[2;36m           \u001b[0m\u001b[32mEgzMnZzM0I1ZzhXcjdrY2MifQ.FAuRkpx30DiTAnVaGpt3sEuVLxHbQFdWUCYULrMkXjqGFLajGEVPLgoJF62Ay\u001b[0m \u001b[2m                \u001b[0m\n",
       "\u001b[2;36m           \u001b[0m\u001b[32muDxkJIUp_SEgZfqLs-941WfKg'\u001b[0m                                                              \u001b[2m                \u001b[0m\n",
       "\u001b[2;36m           \u001b[0m        \u001b[1m}\u001b[0m                                                                               \u001b[2m                \u001b[0m\n",
       "\u001b[2;36m           \u001b[0m    \u001b[1m}\u001b[0m                                                                                   \u001b[2m                \u001b[0m\n",
       "\u001b[2;36m           \u001b[0m\u001b[1m)\u001b[0m                                                                                       \u001b[2m                \u001b[0m\n"
      ]
     },
     "metadata": {},
     "output_type": "display_data"
    },
    {
     "data": {
      "text/html": [
       "<pre style=\"white-space:pre;overflow-x:auto;line-height:normal;font-family:Menlo,'DejaVu Sans Mono',consolas,'Courier New',monospace\"><span style=\"color: #7fbfbf; text-decoration-color: #7fbfbf\">[16:09:22] </span>Credential issuer configuration:                                                        <a href=\"file:///tmp/ipykernel_27003/3787712226.py\" target=\"_blank\"><span style=\"color: #7f7f7f; text-decoration-color: #7f7f7f\">3787712226.py</span></a><span style=\"color: #7f7f7f; text-decoration-color: #7f7f7f\">:</span><a href=\"file:///tmp/ipykernel_27003/3787712226.py#22\" target=\"_blank\"><span style=\"color: #7f7f7f; text-decoration-color: #7f7f7f\">22</span></a>\n",
       "<span style=\"color: #7fbfbf; text-decoration-color: #7fbfbf\">           </span><span style=\"color: #800080; text-decoration-color: #800080; font-weight: bold\">OpenIDCredentialIssuerConfig</span><span style=\"font-weight: bold\">(</span>                                                           <span style=\"color: #7f7f7f; text-decoration-color: #7f7f7f\">                </span>\n",
       "<span style=\"color: #7fbfbf; text-decoration-color: #7fbfbf\">           </span>    <span style=\"color: #808000; text-decoration-color: #808000\">credential_issuer</span>=<span style=\"color: #008000; text-decoration-color: #008000\">'https://api-conformance.ebsi.eu/conformance/v3/issuer-mock'</span>,     <span style=\"color: #7f7f7f; text-decoration-color: #7f7f7f\">                </span>\n",
       "<span style=\"color: #7fbfbf; text-decoration-color: #7fbfbf\">           </span>    <span style=\"color: #808000; text-decoration-color: #808000\">authorization_server</span>=<span style=\"color: #008000; text-decoration-color: #008000\">'https://api-conformance.ebsi.eu/conformance/v3/auth-mock'</span>,    <span style=\"color: #7f7f7f; text-decoration-color: #7f7f7f\">                </span>\n",
       "<span style=\"color: #7fbfbf; text-decoration-color: #7fbfbf\">           </span>    <span style=\"color: #808000; text-decoration-color: #808000\">credential_endpoint</span>=<span style=\"color: #008000; text-decoration-color: #008000\">'https://api-conformance.ebsi.eu/conformance/v3/issuer-mock/cre</span> <span style=\"color: #7f7f7f; text-decoration-color: #7f7f7f\">                </span>\n",
       "<span style=\"color: #7fbfbf; text-decoration-color: #7fbfbf\">           </span><span style=\"color: #008000; text-decoration-color: #008000\">dential'</span>,                                                                               <span style=\"color: #7f7f7f; text-decoration-color: #7f7f7f\">                </span>\n",
       "<span style=\"color: #7fbfbf; text-decoration-color: #7fbfbf\">           </span>    <span style=\"color: #808000; text-decoration-color: #808000\">deferred_credential_endpoint</span>=<span style=\"color: #008000; text-decoration-color: #008000\">'https://api-conformance.ebsi.eu/conformance/v3/issuer</span> <span style=\"color: #7f7f7f; text-decoration-color: #7f7f7f\">                </span>\n",
       "<span style=\"color: #7fbfbf; text-decoration-color: #7fbfbf\">           </span><span style=\"color: #008000; text-decoration-color: #008000\">-mock/credential_deferred'</span>,                                                             <span style=\"color: #7f7f7f; text-decoration-color: #7f7f7f\">                </span>\n",
       "<span style=\"color: #7fbfbf; text-decoration-color: #7fbfbf\">           </span>    <span style=\"color: #808000; text-decoration-color: #808000\">credentials_supported</span>=<span style=\"font-weight: bold\">[</span>                                                             <span style=\"color: #7f7f7f; text-decoration-color: #7f7f7f\">                </span>\n",
       "<span style=\"color: #7fbfbf; text-decoration-color: #7fbfbf\">           </span>        <span style=\"font-weight: bold\">{</span>                                                                               <span style=\"color: #7f7f7f; text-decoration-color: #7f7f7f\">                </span>\n",
       "<span style=\"color: #7fbfbf; text-decoration-color: #7fbfbf\">           </span>            <span style=\"color: #008000; text-decoration-color: #008000\">'format'</span>: <span style=\"color: #008000; text-decoration-color: #008000\">'jwt_vc'</span>,                                                         <span style=\"color: #7f7f7f; text-decoration-color: #7f7f7f\">                </span>\n",
       "<span style=\"color: #7fbfbf; text-decoration-color: #7fbfbf\">           </span>            <span style=\"color: #008000; text-decoration-color: #008000\">'types'</span>: <span style=\"font-weight: bold\">[</span>                                                                  <span style=\"color: #7f7f7f; text-decoration-color: #7f7f7f\">                </span>\n",
       "<span style=\"color: #7fbfbf; text-decoration-color: #7fbfbf\">           </span>                <span style=\"color: #008000; text-decoration-color: #008000\">'VerifiableCredential'</span>,                                                 <span style=\"color: #7f7f7f; text-decoration-color: #7f7f7f\">                </span>\n",
       "<span style=\"color: #7fbfbf; text-decoration-color: #7fbfbf\">           </span>                <span style=\"color: #008000; text-decoration-color: #008000\">'VerifiableAttestation'</span>,                                                <span style=\"color: #7f7f7f; text-decoration-color: #7f7f7f\">                </span>\n",
       "<span style=\"color: #7fbfbf; text-decoration-color: #7fbfbf\">           </span>                <span style=\"color: #008000; text-decoration-color: #008000\">'VerifiableAuthorisationToOnboard'</span>                                      <span style=\"color: #7f7f7f; text-decoration-color: #7f7f7f\">                </span>\n",
       "<span style=\"color: #7fbfbf; text-decoration-color: #7fbfbf\">           </span>            <span style=\"font-weight: bold\">]</span>,                                                                          <span style=\"color: #7f7f7f; text-decoration-color: #7f7f7f\">                </span>\n",
       "<span style=\"color: #7fbfbf; text-decoration-color: #7fbfbf\">           </span>            <span style=\"color: #008000; text-decoration-color: #008000\">'trust_framework'</span>: <span style=\"font-weight: bold\">{</span>                                                        <span style=\"color: #7f7f7f; text-decoration-color: #7f7f7f\">                </span>\n",
       "<span style=\"color: #7fbfbf; text-decoration-color: #7fbfbf\">           </span>                <span style=\"color: #008000; text-decoration-color: #008000\">'name'</span>: <span style=\"color: #008000; text-decoration-color: #008000\">'ebsi'</span>,                                                         <span style=\"color: #7f7f7f; text-decoration-color: #7f7f7f\">                </span>\n",
       "<span style=\"color: #7fbfbf; text-decoration-color: #7fbfbf\">           </span>                <span style=\"color: #008000; text-decoration-color: #008000\">'type'</span>: <span style=\"color: #008000; text-decoration-color: #008000\">'Accreditation'</span>,                                                <span style=\"color: #7f7f7f; text-decoration-color: #7f7f7f\">                </span>\n",
       "<span style=\"color: #7fbfbf; text-decoration-color: #7fbfbf\">           </span>                <span style=\"color: #008000; text-decoration-color: #008000\">'uri'</span>: <span style=\"color: #008000; text-decoration-color: #008000\">'TIR link towards accreditation'</span>                                 <span style=\"color: #7f7f7f; text-decoration-color: #7f7f7f\">                </span>\n",
       "<span style=\"color: #7fbfbf; text-decoration-color: #7fbfbf\">           </span>            <span style=\"font-weight: bold\">}</span>,                                                                          <span style=\"color: #7f7f7f; text-decoration-color: #7f7f7f\">                </span>\n",
       "<span style=\"color: #7fbfbf; text-decoration-color: #7fbfbf\">           </span>            <span style=\"color: #008000; text-decoration-color: #008000\">'display'</span>: <span style=\"font-weight: bold\">[</span>                                                                <span style=\"color: #7f7f7f; text-decoration-color: #7f7f7f\">                </span>\n",
       "<span style=\"color: #7fbfbf; text-decoration-color: #7fbfbf\">           </span>                <span style=\"font-weight: bold\">{</span><span style=\"color: #008000; text-decoration-color: #008000\">'name'</span>: <span style=\"color: #008000; text-decoration-color: #008000\">'Verifiable Authorisation to onboard'</span>, <span style=\"color: #008000; text-decoration-color: #008000\">'locale'</span>: <span style=\"color: #008000; text-decoration-color: #008000\">'en-GB'</span><span style=\"font-weight: bold\">}</span>      <span style=\"color: #7f7f7f; text-decoration-color: #7f7f7f\">                </span>\n",
       "<span style=\"color: #7fbfbf; text-decoration-color: #7fbfbf\">           </span>            <span style=\"font-weight: bold\">]</span>                                                                           <span style=\"color: #7f7f7f; text-decoration-color: #7f7f7f\">                </span>\n",
       "<span style=\"color: #7fbfbf; text-decoration-color: #7fbfbf\">           </span>        <span style=\"font-weight: bold\">}</span>,                                                                              <span style=\"color: #7f7f7f; text-decoration-color: #7f7f7f\">                </span>\n",
       "<span style=\"color: #7fbfbf; text-decoration-color: #7fbfbf\">           </span>        <span style=\"font-weight: bold\">{</span>                                                                               <span style=\"color: #7f7f7f; text-decoration-color: #7f7f7f\">                </span>\n",
       "<span style=\"color: #7fbfbf; text-decoration-color: #7fbfbf\">           </span>            <span style=\"color: #008000; text-decoration-color: #008000\">'format'</span>: <span style=\"color: #008000; text-decoration-color: #008000\">'jwt_vc'</span>,                                                         <span style=\"color: #7f7f7f; text-decoration-color: #7f7f7f\">                </span>\n",
       "<span style=\"color: #7fbfbf; text-decoration-color: #7fbfbf\">           </span>            <span style=\"color: #008000; text-decoration-color: #008000\">'types'</span>: <span style=\"font-weight: bold\">[</span>                                                                  <span style=\"color: #7f7f7f; text-decoration-color: #7f7f7f\">                </span>\n",
       "<span style=\"color: #7fbfbf; text-decoration-color: #7fbfbf\">           </span>                <span style=\"color: #008000; text-decoration-color: #008000\">'VerifiableCredential'</span>,                                                 <span style=\"color: #7f7f7f; text-decoration-color: #7f7f7f\">                </span>\n",
       "<span style=\"color: #7fbfbf; text-decoration-color: #7fbfbf\">           </span>                <span style=\"color: #008000; text-decoration-color: #008000\">'VerifiableAttestation'</span>,                                                <span style=\"color: #7f7f7f; text-decoration-color: #7f7f7f\">                </span>\n",
       "<span style=\"color: #7fbfbf; text-decoration-color: #7fbfbf\">           </span>                <span style=\"color: #008000; text-decoration-color: #008000\">'VerifiableAccreditation'</span>,                                              <span style=\"color: #7f7f7f; text-decoration-color: #7f7f7f\">                </span>\n",
       "<span style=\"color: #7fbfbf; text-decoration-color: #7fbfbf\">           </span>                <span style=\"color: #008000; text-decoration-color: #008000\">'VerifiableAccreditationToAttest'</span>                                       <span style=\"color: #7f7f7f; text-decoration-color: #7f7f7f\">                </span>\n",
       "<span style=\"color: #7fbfbf; text-decoration-color: #7fbfbf\">           </span>            <span style=\"font-weight: bold\">]</span>,                                                                          <span style=\"color: #7f7f7f; text-decoration-color: #7f7f7f\">                </span>\n",
       "<span style=\"color: #7fbfbf; text-decoration-color: #7fbfbf\">           </span>            <span style=\"color: #008000; text-decoration-color: #008000\">'trust_framework'</span>: <span style=\"font-weight: bold\">{</span>                                                        <span style=\"color: #7f7f7f; text-decoration-color: #7f7f7f\">                </span>\n",
       "<span style=\"color: #7fbfbf; text-decoration-color: #7fbfbf\">           </span>                <span style=\"color: #008000; text-decoration-color: #008000\">'name'</span>: <span style=\"color: #008000; text-decoration-color: #008000\">'ebsi'</span>,                                                         <span style=\"color: #7f7f7f; text-decoration-color: #7f7f7f\">                </span>\n",
       "<span style=\"color: #7fbfbf; text-decoration-color: #7fbfbf\">           </span>                <span style=\"color: #008000; text-decoration-color: #008000\">'type'</span>: <span style=\"color: #008000; text-decoration-color: #008000\">'Accreditation'</span>,                                                <span style=\"color: #7f7f7f; text-decoration-color: #7f7f7f\">                </span>\n",
       "<span style=\"color: #7fbfbf; text-decoration-color: #7fbfbf\">           </span>                <span style=\"color: #008000; text-decoration-color: #008000\">'uri'</span>: <span style=\"color: #008000; text-decoration-color: #008000\">'TIR link towards accreditation'</span>                                 <span style=\"color: #7f7f7f; text-decoration-color: #7f7f7f\">                </span>\n",
       "<span style=\"color: #7fbfbf; text-decoration-color: #7fbfbf\">           </span>            <span style=\"font-weight: bold\">}</span>,                                                                          <span style=\"color: #7f7f7f; text-decoration-color: #7f7f7f\">                </span>\n",
       "<span style=\"color: #7fbfbf; text-decoration-color: #7fbfbf\">           </span>            <span style=\"color: #008000; text-decoration-color: #008000\">'display'</span>: <span style=\"font-weight: bold\">[</span>                                                                <span style=\"color: #7f7f7f; text-decoration-color: #7f7f7f\">                </span>\n",
       "<span style=\"color: #7fbfbf; text-decoration-color: #7fbfbf\">           </span>                <span style=\"font-weight: bold\">{</span><span style=\"color: #008000; text-decoration-color: #008000\">'name'</span>: <span style=\"color: #008000; text-decoration-color: #008000\">'Verifiable Accreditation to attest'</span>, <span style=\"color: #008000; text-decoration-color: #008000\">'locale'</span>: <span style=\"color: #008000; text-decoration-color: #008000\">'en-GB'</span><span style=\"font-weight: bold\">}</span>       <span style=\"color: #7f7f7f; text-decoration-color: #7f7f7f\">                </span>\n",
       "<span style=\"color: #7fbfbf; text-decoration-color: #7fbfbf\">           </span>            <span style=\"font-weight: bold\">]</span>                                                                           <span style=\"color: #7f7f7f; text-decoration-color: #7f7f7f\">                </span>\n",
       "<span style=\"color: #7fbfbf; text-decoration-color: #7fbfbf\">           </span>        <span style=\"font-weight: bold\">}</span>,                                                                              <span style=\"color: #7f7f7f; text-decoration-color: #7f7f7f\">                </span>\n",
       "<span style=\"color: #7fbfbf; text-decoration-color: #7fbfbf\">           </span>        <span style=\"font-weight: bold\">{</span>                                                                               <span style=\"color: #7f7f7f; text-decoration-color: #7f7f7f\">                </span>\n",
       "<span style=\"color: #7fbfbf; text-decoration-color: #7fbfbf\">           </span>            <span style=\"color: #008000; text-decoration-color: #008000\">'format'</span>: <span style=\"color: #008000; text-decoration-color: #008000\">'jwt_vc'</span>,                                                         <span style=\"color: #7f7f7f; text-decoration-color: #7f7f7f\">                </span>\n",
       "<span style=\"color: #7fbfbf; text-decoration-color: #7fbfbf\">           </span>            <span style=\"color: #008000; text-decoration-color: #008000\">'types'</span>: <span style=\"font-weight: bold\">[</span>                                                                  <span style=\"color: #7f7f7f; text-decoration-color: #7f7f7f\">                </span>\n",
       "<span style=\"color: #7fbfbf; text-decoration-color: #7fbfbf\">           </span>                <span style=\"color: #008000; text-decoration-color: #008000\">'VerifiableCredential'</span>,                                                 <span style=\"color: #7f7f7f; text-decoration-color: #7f7f7f\">                </span>\n",
       "<span style=\"color: #7fbfbf; text-decoration-color: #7fbfbf\">           </span>                <span style=\"color: #008000; text-decoration-color: #008000\">'VerifiableAttestation'</span>,                                                <span style=\"color: #7f7f7f; text-decoration-color: #7f7f7f\">                </span>\n",
       "<span style=\"color: #7fbfbf; text-decoration-color: #7fbfbf\">           </span>                <span style=\"color: #008000; text-decoration-color: #008000\">'VerifiableAccreditation'</span>,                                              <span style=\"color: #7f7f7f; text-decoration-color: #7f7f7f\">                </span>\n",
       "<span style=\"color: #7fbfbf; text-decoration-color: #7fbfbf\">           </span>                <span style=\"color: #008000; text-decoration-color: #008000\">'VerifiableAccreditationToAccredit'</span>                                     <span style=\"color: #7f7f7f; text-decoration-color: #7f7f7f\">                </span>\n",
       "<span style=\"color: #7fbfbf; text-decoration-color: #7fbfbf\">           </span>            <span style=\"font-weight: bold\">]</span>,                                                                          <span style=\"color: #7f7f7f; text-decoration-color: #7f7f7f\">                </span>\n",
       "<span style=\"color: #7fbfbf; text-decoration-color: #7fbfbf\">           </span>            <span style=\"color: #008000; text-decoration-color: #008000\">'trust_framework'</span>: <span style=\"font-weight: bold\">{</span>                                                        <span style=\"color: #7f7f7f; text-decoration-color: #7f7f7f\">                </span>\n",
       "<span style=\"color: #7fbfbf; text-decoration-color: #7fbfbf\">           </span>                <span style=\"color: #008000; text-decoration-color: #008000\">'name'</span>: <span style=\"color: #008000; text-decoration-color: #008000\">'ebsi'</span>,                                                         <span style=\"color: #7f7f7f; text-decoration-color: #7f7f7f\">                </span>\n",
       "<span style=\"color: #7fbfbf; text-decoration-color: #7fbfbf\">           </span>                <span style=\"color: #008000; text-decoration-color: #008000\">'type'</span>: <span style=\"color: #008000; text-decoration-color: #008000\">'Accreditation'</span>,                                                <span style=\"color: #7f7f7f; text-decoration-color: #7f7f7f\">                </span>\n",
       "<span style=\"color: #7fbfbf; text-decoration-color: #7fbfbf\">           </span>                <span style=\"color: #008000; text-decoration-color: #008000\">'uri'</span>: <span style=\"color: #008000; text-decoration-color: #008000\">'TIR link towards accreditation'</span>                                 <span style=\"color: #7f7f7f; text-decoration-color: #7f7f7f\">                </span>\n",
       "<span style=\"color: #7fbfbf; text-decoration-color: #7fbfbf\">           </span>            <span style=\"font-weight: bold\">}</span>,                                                                          <span style=\"color: #7f7f7f; text-decoration-color: #7f7f7f\">                </span>\n",
       "<span style=\"color: #7fbfbf; text-decoration-color: #7fbfbf\">           </span>            <span style=\"color: #008000; text-decoration-color: #008000\">'display'</span>: <span style=\"font-weight: bold\">[</span>                                                                <span style=\"color: #7f7f7f; text-decoration-color: #7f7f7f\">                </span>\n",
       "<span style=\"color: #7fbfbf; text-decoration-color: #7fbfbf\">           </span>                <span style=\"font-weight: bold\">{</span><span style=\"color: #008000; text-decoration-color: #008000\">'name'</span>: <span style=\"color: #008000; text-decoration-color: #008000\">'Verifiable Accreditation to accredit'</span>, <span style=\"color: #008000; text-decoration-color: #008000\">'locale'</span>: <span style=\"color: #008000; text-decoration-color: #008000\">'en-GB'</span><span style=\"font-weight: bold\">}</span>     <span style=\"color: #7f7f7f; text-decoration-color: #7f7f7f\">                </span>\n",
       "<span style=\"color: #7fbfbf; text-decoration-color: #7fbfbf\">           </span>            <span style=\"font-weight: bold\">]</span>                                                                           <span style=\"color: #7f7f7f; text-decoration-color: #7f7f7f\">                </span>\n",
       "<span style=\"color: #7fbfbf; text-decoration-color: #7fbfbf\">           </span>        <span style=\"font-weight: bold\">}</span>,                                                                              <span style=\"color: #7f7f7f; text-decoration-color: #7f7f7f\">                </span>\n",
       "<span style=\"color: #7fbfbf; text-decoration-color: #7fbfbf\">           </span>        <span style=\"font-weight: bold\">{</span>                                                                               <span style=\"color: #7f7f7f; text-decoration-color: #7f7f7f\">                </span>\n",
       "<span style=\"color: #7fbfbf; text-decoration-color: #7fbfbf\">           </span>            <span style=\"color: #008000; text-decoration-color: #008000\">'format'</span>: <span style=\"color: #008000; text-decoration-color: #008000\">'jwt_vc'</span>,                                                         <span style=\"color: #7f7f7f; text-decoration-color: #7f7f7f\">                </span>\n",
       "<span style=\"color: #7fbfbf; text-decoration-color: #7fbfbf\">           </span>            <span style=\"color: #008000; text-decoration-color: #008000\">'types'</span>: <span style=\"font-weight: bold\">[</span>                                                                  <span style=\"color: #7f7f7f; text-decoration-color: #7f7f7f\">                </span>\n",
       "<span style=\"color: #7fbfbf; text-decoration-color: #7fbfbf\">           </span>                <span style=\"color: #008000; text-decoration-color: #008000\">'VerifiableCredential'</span>,                                                 <span style=\"color: #7f7f7f; text-decoration-color: #7f7f7f\">                </span>\n",
       "<span style=\"color: #7fbfbf; text-decoration-color: #7fbfbf\">           </span>                <span style=\"color: #008000; text-decoration-color: #008000\">'VerifiableAttestation'</span>,                                                <span style=\"color: #7f7f7f; text-decoration-color: #7f7f7f\">                </span>\n",
       "<span style=\"color: #7fbfbf; text-decoration-color: #7fbfbf\">           </span>                <span style=\"color: #008000; text-decoration-color: #008000\">'VerifiableAuthorisationForTrustChain'</span>                                  <span style=\"color: #7f7f7f; text-decoration-color: #7f7f7f\">                </span>\n",
       "<span style=\"color: #7fbfbf; text-decoration-color: #7fbfbf\">           </span>            <span style=\"font-weight: bold\">]</span>,                                                                          <span style=\"color: #7f7f7f; text-decoration-color: #7f7f7f\">                </span>\n",
       "<span style=\"color: #7fbfbf; text-decoration-color: #7fbfbf\">           </span>            <span style=\"color: #008000; text-decoration-color: #008000\">'trust_framework'</span>: <span style=\"font-weight: bold\">{</span>                                                        <span style=\"color: #7f7f7f; text-decoration-color: #7f7f7f\">                </span>\n",
       "<span style=\"color: #7fbfbf; text-decoration-color: #7fbfbf\">           </span>                <span style=\"color: #008000; text-decoration-color: #008000\">'name'</span>: <span style=\"color: #008000; text-decoration-color: #008000\">'ebsi'</span>,                                                         <span style=\"color: #7f7f7f; text-decoration-color: #7f7f7f\">                </span>\n",
       "<span style=\"color: #7fbfbf; text-decoration-color: #7fbfbf\">           </span>                <span style=\"color: #008000; text-decoration-color: #008000\">'type'</span>: <span style=\"color: #008000; text-decoration-color: #008000\">'Accreditation'</span>,                                                <span style=\"color: #7f7f7f; text-decoration-color: #7f7f7f\">                </span>\n",
       "<span style=\"color: #7fbfbf; text-decoration-color: #7fbfbf\">           </span>                <span style=\"color: #008000; text-decoration-color: #008000\">'uri'</span>: <span style=\"color: #008000; text-decoration-color: #008000\">'TIR link towards accreditation'</span>                                 <span style=\"color: #7f7f7f; text-decoration-color: #7f7f7f\">                </span>\n",
       "<span style=\"color: #7fbfbf; text-decoration-color: #7fbfbf\">           </span>            <span style=\"font-weight: bold\">}</span>,                                                                          <span style=\"color: #7f7f7f; text-decoration-color: #7f7f7f\">                </span>\n",
       "<span style=\"color: #7fbfbf; text-decoration-color: #7fbfbf\">           </span>            <span style=\"color: #008000; text-decoration-color: #008000\">'display'</span>: <span style=\"font-weight: bold\">[</span>                                                                <span style=\"color: #7f7f7f; text-decoration-color: #7f7f7f\">                </span>\n",
       "<span style=\"color: #7fbfbf; text-decoration-color: #7fbfbf\">           </span>                <span style=\"font-weight: bold\">{</span>                                                                       <span style=\"color: #7f7f7f; text-decoration-color: #7f7f7f\">                </span>\n",
       "<span style=\"color: #7fbfbf; text-decoration-color: #7fbfbf\">           </span>                    <span style=\"color: #008000; text-decoration-color: #008000\">'name'</span>: <span style=\"color: #008000; text-decoration-color: #008000\">'Verifiable Authorisation to issue verifiable tokens'</span>,      <span style=\"color: #7f7f7f; text-decoration-color: #7f7f7f\">                </span>\n",
       "<span style=\"color: #7fbfbf; text-decoration-color: #7fbfbf\">           </span>                    <span style=\"color: #008000; text-decoration-color: #008000\">'locale'</span>: <span style=\"color: #008000; text-decoration-color: #008000\">'en-GB'</span>                                                   <span style=\"color: #7f7f7f; text-decoration-color: #7f7f7f\">                </span>\n",
       "<span style=\"color: #7fbfbf; text-decoration-color: #7fbfbf\">           </span>                <span style=\"font-weight: bold\">}</span>                                                                       <span style=\"color: #7f7f7f; text-decoration-color: #7f7f7f\">                </span>\n",
       "<span style=\"color: #7fbfbf; text-decoration-color: #7fbfbf\">           </span>            <span style=\"font-weight: bold\">]</span>                                                                           <span style=\"color: #7f7f7f; text-decoration-color: #7f7f7f\">                </span>\n",
       "<span style=\"color: #7fbfbf; text-decoration-color: #7fbfbf\">           </span>        <span style=\"font-weight: bold\">}</span>,                                                                              <span style=\"color: #7f7f7f; text-decoration-color: #7f7f7f\">                </span>\n",
       "<span style=\"color: #7fbfbf; text-decoration-color: #7fbfbf\">           </span>        <span style=\"font-weight: bold\">{</span>                                                                               <span style=\"color: #7f7f7f; text-decoration-color: #7f7f7f\">                </span>\n",
       "<span style=\"color: #7fbfbf; text-decoration-color: #7fbfbf\">           </span>            <span style=\"color: #008000; text-decoration-color: #008000\">'format'</span>: <span style=\"color: #008000; text-decoration-color: #008000\">'jwt_vc'</span>,                                                         <span style=\"color: #7f7f7f; text-decoration-color: #7f7f7f\">                </span>\n",
       "<span style=\"color: #7fbfbf; text-decoration-color: #7fbfbf\">           </span>            <span style=\"color: #008000; text-decoration-color: #008000\">'types'</span>: <span style=\"font-weight: bold\">[</span>                                                                  <span style=\"color: #7f7f7f; text-decoration-color: #7f7f7f\">                </span>\n",
       "<span style=\"color: #7fbfbf; text-decoration-color: #7fbfbf\">           </span>                <span style=\"color: #008000; text-decoration-color: #008000\">'VerifiableCredential'</span>,                                                 <span style=\"color: #7f7f7f; text-decoration-color: #7f7f7f\">                </span>\n",
       "<span style=\"color: #7fbfbf; text-decoration-color: #7fbfbf\">           </span>                <span style=\"color: #008000; text-decoration-color: #008000\">'VerifiableAttestation'</span>,                                                <span style=\"color: #7f7f7f; text-decoration-color: #7f7f7f\">                </span>\n",
       "<span style=\"color: #7fbfbf; text-decoration-color: #7fbfbf\">           </span>                <span style=\"color: #008000; text-decoration-color: #008000\">'CTAAQualificationCredential'</span>                                           <span style=\"color: #7f7f7f; text-decoration-color: #7f7f7f\">                </span>\n",
       "<span style=\"color: #7fbfbf; text-decoration-color: #7fbfbf\">           </span>            <span style=\"font-weight: bold\">]</span>,                                                                          <span style=\"color: #7f7f7f; text-decoration-color: #7f7f7f\">                </span>\n",
       "<span style=\"color: #7fbfbf; text-decoration-color: #7fbfbf\">           </span>            <span style=\"color: #008000; text-decoration-color: #008000\">'trust_framework'</span>: <span style=\"font-weight: bold\">{</span>                                                        <span style=\"color: #7f7f7f; text-decoration-color: #7f7f7f\">                </span>\n",
       "<span style=\"color: #7fbfbf; text-decoration-color: #7fbfbf\">           </span>                <span style=\"color: #008000; text-decoration-color: #008000\">'name'</span>: <span style=\"color: #008000; text-decoration-color: #008000\">'ebsi'</span>,                                                         <span style=\"color: #7f7f7f; text-decoration-color: #7f7f7f\">                </span>\n",
       "<span style=\"color: #7fbfbf; text-decoration-color: #7fbfbf\">           </span>                <span style=\"color: #008000; text-decoration-color: #008000\">'type'</span>: <span style=\"color: #008000; text-decoration-color: #008000\">'Accreditation'</span>,                                                <span style=\"color: #7f7f7f; text-decoration-color: #7f7f7f\">                </span>\n",
       "<span style=\"color: #7fbfbf; text-decoration-color: #7fbfbf\">           </span>                <span style=\"color: #008000; text-decoration-color: #008000\">'uri'</span>: <span style=\"color: #008000; text-decoration-color: #008000\">'TIR link towards accreditation'</span>                                 <span style=\"color: #7f7f7f; text-decoration-color: #7f7f7f\">                </span>\n",
       "<span style=\"color: #7fbfbf; text-decoration-color: #7fbfbf\">           </span>            <span style=\"font-weight: bold\">}</span>,                                                                          <span style=\"color: #7f7f7f; text-decoration-color: #7f7f7f\">                </span>\n",
       "<span style=\"color: #7fbfbf; text-decoration-color: #7fbfbf\">           </span>            <span style=\"color: #008000; text-decoration-color: #008000\">'display'</span>: <span style=\"font-weight: bold\">[</span>                                                                <span style=\"color: #7f7f7f; text-decoration-color: #7f7f7f\">                </span>\n",
       "<span style=\"color: #7fbfbf; text-decoration-color: #7fbfbf\">           </span>                <span style=\"font-weight: bold\">{</span>                                                                       <span style=\"color: #7f7f7f; text-decoration-color: #7f7f7f\">                </span>\n",
       "<span style=\"color: #7fbfbf; text-decoration-color: #7fbfbf\">           </span>                    <span style=\"color: #008000; text-decoration-color: #008000\">'name'</span>: <span style=\"color: #008000; text-decoration-color: #008000\">'Verifiable Attestation Conformance Qualification To </span>       <span style=\"color: #7f7f7f; text-decoration-color: #7f7f7f\">                </span>\n",
       "<span style=\"color: #7fbfbf; text-decoration-color: #7fbfbf\">           </span><span style=\"color: #008000; text-decoration-color: #008000\">Accredit &amp; Authorise'</span>,                                                                  <span style=\"color: #7f7f7f; text-decoration-color: #7f7f7f\">                </span>\n",
       "<span style=\"color: #7fbfbf; text-decoration-color: #7fbfbf\">           </span>                    <span style=\"color: #008000; text-decoration-color: #008000\">'locale'</span>: <span style=\"color: #008000; text-decoration-color: #008000\">'en-GB'</span>                                                   <span style=\"color: #7f7f7f; text-decoration-color: #7f7f7f\">                </span>\n",
       "<span style=\"color: #7fbfbf; text-decoration-color: #7fbfbf\">           </span>                <span style=\"font-weight: bold\">}</span>                                                                       <span style=\"color: #7f7f7f; text-decoration-color: #7f7f7f\">                </span>\n",
       "<span style=\"color: #7fbfbf; text-decoration-color: #7fbfbf\">           </span>            <span style=\"font-weight: bold\">]</span>                                                                           <span style=\"color: #7f7f7f; text-decoration-color: #7f7f7f\">                </span>\n",
       "<span style=\"color: #7fbfbf; text-decoration-color: #7fbfbf\">           </span>        <span style=\"font-weight: bold\">}</span>,                                                                              <span style=\"color: #7f7f7f; text-decoration-color: #7f7f7f\">                </span>\n",
       "<span style=\"color: #7fbfbf; text-decoration-color: #7fbfbf\">           </span>        <span style=\"font-weight: bold\">{</span>                                                                               <span style=\"color: #7f7f7f; text-decoration-color: #7f7f7f\">                </span>\n",
       "<span style=\"color: #7fbfbf; text-decoration-color: #7fbfbf\">           </span>            <span style=\"color: #008000; text-decoration-color: #008000\">'format'</span>: <span style=\"color: #008000; text-decoration-color: #008000\">'jwt_vc'</span>,                                                         <span style=\"color: #7f7f7f; text-decoration-color: #7f7f7f\">                </span>\n",
       "<span style=\"color: #7fbfbf; text-decoration-color: #7fbfbf\">           </span>            <span style=\"color: #008000; text-decoration-color: #008000\">'types'</span>: <span style=\"font-weight: bold\">[</span>                                                                  <span style=\"color: #7f7f7f; text-decoration-color: #7f7f7f\">                </span>\n",
       "<span style=\"color: #7fbfbf; text-decoration-color: #7fbfbf\">           </span>                <span style=\"color: #008000; text-decoration-color: #008000\">'VerifiableCredential'</span>,                                                 <span style=\"color: #7f7f7f; text-decoration-color: #7f7f7f\">                </span>\n",
       "<span style=\"color: #7fbfbf; text-decoration-color: #7fbfbf\">           </span>                <span style=\"color: #008000; text-decoration-color: #008000\">'VerifiableAttestation'</span>,                                                <span style=\"color: #7f7f7f; text-decoration-color: #7f7f7f\">                </span>\n",
       "<span style=\"color: #7fbfbf; text-decoration-color: #7fbfbf\">           </span>                <span style=\"color: #008000; text-decoration-color: #008000\">'CTWalletQualificationCredential'</span>                                       <span style=\"color: #7f7f7f; text-decoration-color: #7f7f7f\">                </span>\n",
       "<span style=\"color: #7fbfbf; text-decoration-color: #7fbfbf\">           </span>            <span style=\"font-weight: bold\">]</span>,                                                                          <span style=\"color: #7f7f7f; text-decoration-color: #7f7f7f\">                </span>\n",
       "<span style=\"color: #7fbfbf; text-decoration-color: #7fbfbf\">           </span>            <span style=\"color: #008000; text-decoration-color: #008000\">'trust_framework'</span>: <span style=\"font-weight: bold\">{</span>                                                        <span style=\"color: #7f7f7f; text-decoration-color: #7f7f7f\">                </span>\n",
       "<span style=\"color: #7fbfbf; text-decoration-color: #7fbfbf\">           </span>                <span style=\"color: #008000; text-decoration-color: #008000\">'name'</span>: <span style=\"color: #008000; text-decoration-color: #008000\">'ebsi'</span>,                                                         <span style=\"color: #7f7f7f; text-decoration-color: #7f7f7f\">                </span>\n",
       "<span style=\"color: #7fbfbf; text-decoration-color: #7fbfbf\">           </span>                <span style=\"color: #008000; text-decoration-color: #008000\">'type'</span>: <span style=\"color: #008000; text-decoration-color: #008000\">'Accreditation'</span>,                                                <span style=\"color: #7f7f7f; text-decoration-color: #7f7f7f\">                </span>\n",
       "<span style=\"color: #7fbfbf; text-decoration-color: #7fbfbf\">           </span>                <span style=\"color: #008000; text-decoration-color: #008000\">'uri'</span>: <span style=\"color: #008000; text-decoration-color: #008000\">'TIR link towards accreditation'</span>                                 <span style=\"color: #7f7f7f; text-decoration-color: #7f7f7f\">                </span>\n",
       "<span style=\"color: #7fbfbf; text-decoration-color: #7fbfbf\">           </span>            <span style=\"font-weight: bold\">}</span>,                                                                          <span style=\"color: #7f7f7f; text-decoration-color: #7f7f7f\">                </span>\n",
       "<span style=\"color: #7fbfbf; text-decoration-color: #7fbfbf\">           </span>            <span style=\"color: #008000; text-decoration-color: #008000\">'display'</span>: <span style=\"font-weight: bold\">[</span>                                                                <span style=\"color: #7f7f7f; text-decoration-color: #7f7f7f\">                </span>\n",
       "<span style=\"color: #7fbfbf; text-decoration-color: #7fbfbf\">           </span>                <span style=\"font-weight: bold\">{</span>                                                                       <span style=\"color: #7f7f7f; text-decoration-color: #7f7f7f\">                </span>\n",
       "<span style=\"color: #7fbfbf; text-decoration-color: #7fbfbf\">           </span>                    <span style=\"color: #008000; text-decoration-color: #008000\">'name'</span>: <span style=\"color: #008000; text-decoration-color: #008000\">'Verifiable Attestation Conformance Qualification Holder </span>   <span style=\"color: #7f7f7f; text-decoration-color: #7f7f7f\">                </span>\n",
       "<span style=\"color: #7fbfbf; text-decoration-color: #7fbfbf\">           </span><span style=\"color: #008000; text-decoration-color: #008000\">Wallet'</span>,                                                                                <span style=\"color: #7f7f7f; text-decoration-color: #7f7f7f\">                </span>\n",
       "<span style=\"color: #7fbfbf; text-decoration-color: #7fbfbf\">           </span>                    <span style=\"color: #008000; text-decoration-color: #008000\">'locale'</span>: <span style=\"color: #008000; text-decoration-color: #008000\">'en-GB'</span>                                                   <span style=\"color: #7f7f7f; text-decoration-color: #7f7f7f\">                </span>\n",
       "<span style=\"color: #7fbfbf; text-decoration-color: #7fbfbf\">           </span>                <span style=\"font-weight: bold\">}</span>                                                                       <span style=\"color: #7f7f7f; text-decoration-color: #7f7f7f\">                </span>\n",
       "<span style=\"color: #7fbfbf; text-decoration-color: #7fbfbf\">           </span>            <span style=\"font-weight: bold\">]</span>                                                                           <span style=\"color: #7f7f7f; text-decoration-color: #7f7f7f\">                </span>\n",
       "<span style=\"color: #7fbfbf; text-decoration-color: #7fbfbf\">           </span>        <span style=\"font-weight: bold\">}</span>                                                                               <span style=\"color: #7f7f7f; text-decoration-color: #7f7f7f\">                </span>\n",
       "<span style=\"color: #7fbfbf; text-decoration-color: #7fbfbf\">           </span>    <span style=\"font-weight: bold\">]</span>                                                                                   <span style=\"color: #7f7f7f; text-decoration-color: #7f7f7f\">                </span>\n",
       "<span style=\"color: #7fbfbf; text-decoration-color: #7fbfbf\">           </span><span style=\"font-weight: bold\">)</span>                                                                                       <span style=\"color: #7f7f7f; text-decoration-color: #7f7f7f\">                </span>\n",
       "</pre>\n"
      ],
      "text/plain": [
       "\u001b[2;36m[16:09:22]\u001b[0m\u001b[2;36m \u001b[0mCredential issuer configuration:                                                        \u001b]8;id=651683;file:///tmp/ipykernel_27003/3787712226.py\u001b\\\u001b[2m3787712226.py\u001b[0m\u001b]8;;\u001b\\\u001b[2m:\u001b[0m\u001b]8;id=982673;file:///tmp/ipykernel_27003/3787712226.py#22\u001b\\\u001b[2m22\u001b[0m\u001b]8;;\u001b\\\n",
       "\u001b[2;36m           \u001b[0m\u001b[1;35mOpenIDCredentialIssuerConfig\u001b[0m\u001b[1m(\u001b[0m                                                           \u001b[2m                \u001b[0m\n",
       "\u001b[2;36m           \u001b[0m    \u001b[33mcredential_issuer\u001b[0m=\u001b[32m'https://api-conformance.ebsi.eu/conformance/v3/issuer-mock'\u001b[0m,     \u001b[2m                \u001b[0m\n",
       "\u001b[2;36m           \u001b[0m    \u001b[33mauthorization_server\u001b[0m=\u001b[32m'https://api-conformance.ebsi.eu/conformance/v3/auth-mock'\u001b[0m,    \u001b[2m                \u001b[0m\n",
       "\u001b[2;36m           \u001b[0m    \u001b[33mcredential_endpoint\u001b[0m=\u001b[32m'https://api-conformance.ebsi.eu/conformance/v3/issuer-mock/cre\u001b[0m \u001b[2m                \u001b[0m\n",
       "\u001b[2;36m           \u001b[0m\u001b[32mdential'\u001b[0m,                                                                               \u001b[2m                \u001b[0m\n",
       "\u001b[2;36m           \u001b[0m    \u001b[33mdeferred_credential_endpoint\u001b[0m=\u001b[32m'https://api-conformance.ebsi.eu/conformance/v3/issuer\u001b[0m \u001b[2m                \u001b[0m\n",
       "\u001b[2;36m           \u001b[0m\u001b[32m-mock/credential_deferred'\u001b[0m,                                                             \u001b[2m                \u001b[0m\n",
       "\u001b[2;36m           \u001b[0m    \u001b[33mcredentials_supported\u001b[0m=\u001b[1m[\u001b[0m                                                             \u001b[2m                \u001b[0m\n",
       "\u001b[2;36m           \u001b[0m        \u001b[1m{\u001b[0m                                                                               \u001b[2m                \u001b[0m\n",
       "\u001b[2;36m           \u001b[0m            \u001b[32m'format'\u001b[0m: \u001b[32m'jwt_vc'\u001b[0m,                                                         \u001b[2m                \u001b[0m\n",
       "\u001b[2;36m           \u001b[0m            \u001b[32m'types'\u001b[0m: \u001b[1m[\u001b[0m                                                                  \u001b[2m                \u001b[0m\n",
       "\u001b[2;36m           \u001b[0m                \u001b[32m'VerifiableCredential'\u001b[0m,                                                 \u001b[2m                \u001b[0m\n",
       "\u001b[2;36m           \u001b[0m                \u001b[32m'VerifiableAttestation'\u001b[0m,                                                \u001b[2m                \u001b[0m\n",
       "\u001b[2;36m           \u001b[0m                \u001b[32m'VerifiableAuthorisationToOnboard'\u001b[0m                                      \u001b[2m                \u001b[0m\n",
       "\u001b[2;36m           \u001b[0m            \u001b[1m]\u001b[0m,                                                                          \u001b[2m                \u001b[0m\n",
       "\u001b[2;36m           \u001b[0m            \u001b[32m'trust_framework'\u001b[0m: \u001b[1m{\u001b[0m                                                        \u001b[2m                \u001b[0m\n",
       "\u001b[2;36m           \u001b[0m                \u001b[32m'name'\u001b[0m: \u001b[32m'ebsi'\u001b[0m,                                                         \u001b[2m                \u001b[0m\n",
       "\u001b[2;36m           \u001b[0m                \u001b[32m'type'\u001b[0m: \u001b[32m'Accreditation'\u001b[0m,                                                \u001b[2m                \u001b[0m\n",
       "\u001b[2;36m           \u001b[0m                \u001b[32m'uri'\u001b[0m: \u001b[32m'TIR link towards accreditation'\u001b[0m                                 \u001b[2m                \u001b[0m\n",
       "\u001b[2;36m           \u001b[0m            \u001b[1m}\u001b[0m,                                                                          \u001b[2m                \u001b[0m\n",
       "\u001b[2;36m           \u001b[0m            \u001b[32m'display'\u001b[0m: \u001b[1m[\u001b[0m                                                                \u001b[2m                \u001b[0m\n",
       "\u001b[2;36m           \u001b[0m                \u001b[1m{\u001b[0m\u001b[32m'name'\u001b[0m: \u001b[32m'Verifiable Authorisation to onboard'\u001b[0m, \u001b[32m'locale'\u001b[0m: \u001b[32m'en-GB'\u001b[0m\u001b[1m}\u001b[0m      \u001b[2m                \u001b[0m\n",
       "\u001b[2;36m           \u001b[0m            \u001b[1m]\u001b[0m                                                                           \u001b[2m                \u001b[0m\n",
       "\u001b[2;36m           \u001b[0m        \u001b[1m}\u001b[0m,                                                                              \u001b[2m                \u001b[0m\n",
       "\u001b[2;36m           \u001b[0m        \u001b[1m{\u001b[0m                                                                               \u001b[2m                \u001b[0m\n",
       "\u001b[2;36m           \u001b[0m            \u001b[32m'format'\u001b[0m: \u001b[32m'jwt_vc'\u001b[0m,                                                         \u001b[2m                \u001b[0m\n",
       "\u001b[2;36m           \u001b[0m            \u001b[32m'types'\u001b[0m: \u001b[1m[\u001b[0m                                                                  \u001b[2m                \u001b[0m\n",
       "\u001b[2;36m           \u001b[0m                \u001b[32m'VerifiableCredential'\u001b[0m,                                                 \u001b[2m                \u001b[0m\n",
       "\u001b[2;36m           \u001b[0m                \u001b[32m'VerifiableAttestation'\u001b[0m,                                                \u001b[2m                \u001b[0m\n",
       "\u001b[2;36m           \u001b[0m                \u001b[32m'VerifiableAccreditation'\u001b[0m,                                              \u001b[2m                \u001b[0m\n",
       "\u001b[2;36m           \u001b[0m                \u001b[32m'VerifiableAccreditationToAttest'\u001b[0m                                       \u001b[2m                \u001b[0m\n",
       "\u001b[2;36m           \u001b[0m            \u001b[1m]\u001b[0m,                                                                          \u001b[2m                \u001b[0m\n",
       "\u001b[2;36m           \u001b[0m            \u001b[32m'trust_framework'\u001b[0m: \u001b[1m{\u001b[0m                                                        \u001b[2m                \u001b[0m\n",
       "\u001b[2;36m           \u001b[0m                \u001b[32m'name'\u001b[0m: \u001b[32m'ebsi'\u001b[0m,                                                         \u001b[2m                \u001b[0m\n",
       "\u001b[2;36m           \u001b[0m                \u001b[32m'type'\u001b[0m: \u001b[32m'Accreditation'\u001b[0m,                                                \u001b[2m                \u001b[0m\n",
       "\u001b[2;36m           \u001b[0m                \u001b[32m'uri'\u001b[0m: \u001b[32m'TIR link towards accreditation'\u001b[0m                                 \u001b[2m                \u001b[0m\n",
       "\u001b[2;36m           \u001b[0m            \u001b[1m}\u001b[0m,                                                                          \u001b[2m                \u001b[0m\n",
       "\u001b[2;36m           \u001b[0m            \u001b[32m'display'\u001b[0m: \u001b[1m[\u001b[0m                                                                \u001b[2m                \u001b[0m\n",
       "\u001b[2;36m           \u001b[0m                \u001b[1m{\u001b[0m\u001b[32m'name'\u001b[0m: \u001b[32m'Verifiable Accreditation to attest'\u001b[0m, \u001b[32m'locale'\u001b[0m: \u001b[32m'en-GB'\u001b[0m\u001b[1m}\u001b[0m       \u001b[2m                \u001b[0m\n",
       "\u001b[2;36m           \u001b[0m            \u001b[1m]\u001b[0m                                                                           \u001b[2m                \u001b[0m\n",
       "\u001b[2;36m           \u001b[0m        \u001b[1m}\u001b[0m,                                                                              \u001b[2m                \u001b[0m\n",
       "\u001b[2;36m           \u001b[0m        \u001b[1m{\u001b[0m                                                                               \u001b[2m                \u001b[0m\n",
       "\u001b[2;36m           \u001b[0m            \u001b[32m'format'\u001b[0m: \u001b[32m'jwt_vc'\u001b[0m,                                                         \u001b[2m                \u001b[0m\n",
       "\u001b[2;36m           \u001b[0m            \u001b[32m'types'\u001b[0m: \u001b[1m[\u001b[0m                                                                  \u001b[2m                \u001b[0m\n",
       "\u001b[2;36m           \u001b[0m                \u001b[32m'VerifiableCredential'\u001b[0m,                                                 \u001b[2m                \u001b[0m\n",
       "\u001b[2;36m           \u001b[0m                \u001b[32m'VerifiableAttestation'\u001b[0m,                                                \u001b[2m                \u001b[0m\n",
       "\u001b[2;36m           \u001b[0m                \u001b[32m'VerifiableAccreditation'\u001b[0m,                                              \u001b[2m                \u001b[0m\n",
       "\u001b[2;36m           \u001b[0m                \u001b[32m'VerifiableAccreditationToAccredit'\u001b[0m                                     \u001b[2m                \u001b[0m\n",
       "\u001b[2;36m           \u001b[0m            \u001b[1m]\u001b[0m,                                                                          \u001b[2m                \u001b[0m\n",
       "\u001b[2;36m           \u001b[0m            \u001b[32m'trust_framework'\u001b[0m: \u001b[1m{\u001b[0m                                                        \u001b[2m                \u001b[0m\n",
       "\u001b[2;36m           \u001b[0m                \u001b[32m'name'\u001b[0m: \u001b[32m'ebsi'\u001b[0m,                                                         \u001b[2m                \u001b[0m\n",
       "\u001b[2;36m           \u001b[0m                \u001b[32m'type'\u001b[0m: \u001b[32m'Accreditation'\u001b[0m,                                                \u001b[2m                \u001b[0m\n",
       "\u001b[2;36m           \u001b[0m                \u001b[32m'uri'\u001b[0m: \u001b[32m'TIR link towards accreditation'\u001b[0m                                 \u001b[2m                \u001b[0m\n",
       "\u001b[2;36m           \u001b[0m            \u001b[1m}\u001b[0m,                                                                          \u001b[2m                \u001b[0m\n",
       "\u001b[2;36m           \u001b[0m            \u001b[32m'display'\u001b[0m: \u001b[1m[\u001b[0m                                                                \u001b[2m                \u001b[0m\n",
       "\u001b[2;36m           \u001b[0m                \u001b[1m{\u001b[0m\u001b[32m'name'\u001b[0m: \u001b[32m'Verifiable Accreditation to accredit'\u001b[0m, \u001b[32m'locale'\u001b[0m: \u001b[32m'en-GB'\u001b[0m\u001b[1m}\u001b[0m     \u001b[2m                \u001b[0m\n",
       "\u001b[2;36m           \u001b[0m            \u001b[1m]\u001b[0m                                                                           \u001b[2m                \u001b[0m\n",
       "\u001b[2;36m           \u001b[0m        \u001b[1m}\u001b[0m,                                                                              \u001b[2m                \u001b[0m\n",
       "\u001b[2;36m           \u001b[0m        \u001b[1m{\u001b[0m                                                                               \u001b[2m                \u001b[0m\n",
       "\u001b[2;36m           \u001b[0m            \u001b[32m'format'\u001b[0m: \u001b[32m'jwt_vc'\u001b[0m,                                                         \u001b[2m                \u001b[0m\n",
       "\u001b[2;36m           \u001b[0m            \u001b[32m'types'\u001b[0m: \u001b[1m[\u001b[0m                                                                  \u001b[2m                \u001b[0m\n",
       "\u001b[2;36m           \u001b[0m                \u001b[32m'VerifiableCredential'\u001b[0m,                                                 \u001b[2m                \u001b[0m\n",
       "\u001b[2;36m           \u001b[0m                \u001b[32m'VerifiableAttestation'\u001b[0m,                                                \u001b[2m                \u001b[0m\n",
       "\u001b[2;36m           \u001b[0m                \u001b[32m'VerifiableAuthorisationForTrustChain'\u001b[0m                                  \u001b[2m                \u001b[0m\n",
       "\u001b[2;36m           \u001b[0m            \u001b[1m]\u001b[0m,                                                                          \u001b[2m                \u001b[0m\n",
       "\u001b[2;36m           \u001b[0m            \u001b[32m'trust_framework'\u001b[0m: \u001b[1m{\u001b[0m                                                        \u001b[2m                \u001b[0m\n",
       "\u001b[2;36m           \u001b[0m                \u001b[32m'name'\u001b[0m: \u001b[32m'ebsi'\u001b[0m,                                                         \u001b[2m                \u001b[0m\n",
       "\u001b[2;36m           \u001b[0m                \u001b[32m'type'\u001b[0m: \u001b[32m'Accreditation'\u001b[0m,                                                \u001b[2m                \u001b[0m\n",
       "\u001b[2;36m           \u001b[0m                \u001b[32m'uri'\u001b[0m: \u001b[32m'TIR link towards accreditation'\u001b[0m                                 \u001b[2m                \u001b[0m\n",
       "\u001b[2;36m           \u001b[0m            \u001b[1m}\u001b[0m,                                                                          \u001b[2m                \u001b[0m\n",
       "\u001b[2;36m           \u001b[0m            \u001b[32m'display'\u001b[0m: \u001b[1m[\u001b[0m                                                                \u001b[2m                \u001b[0m\n",
       "\u001b[2;36m           \u001b[0m                \u001b[1m{\u001b[0m                                                                       \u001b[2m                \u001b[0m\n",
       "\u001b[2;36m           \u001b[0m                    \u001b[32m'name'\u001b[0m: \u001b[32m'Verifiable Authorisation to issue verifiable tokens'\u001b[0m,      \u001b[2m                \u001b[0m\n",
       "\u001b[2;36m           \u001b[0m                    \u001b[32m'locale'\u001b[0m: \u001b[32m'en-GB'\u001b[0m                                                   \u001b[2m                \u001b[0m\n",
       "\u001b[2;36m           \u001b[0m                \u001b[1m}\u001b[0m                                                                       \u001b[2m                \u001b[0m\n",
       "\u001b[2;36m           \u001b[0m            \u001b[1m]\u001b[0m                                                                           \u001b[2m                \u001b[0m\n",
       "\u001b[2;36m           \u001b[0m        \u001b[1m}\u001b[0m,                                                                              \u001b[2m                \u001b[0m\n",
       "\u001b[2;36m           \u001b[0m        \u001b[1m{\u001b[0m                                                                               \u001b[2m                \u001b[0m\n",
       "\u001b[2;36m           \u001b[0m            \u001b[32m'format'\u001b[0m: \u001b[32m'jwt_vc'\u001b[0m,                                                         \u001b[2m                \u001b[0m\n",
       "\u001b[2;36m           \u001b[0m            \u001b[32m'types'\u001b[0m: \u001b[1m[\u001b[0m                                                                  \u001b[2m                \u001b[0m\n",
       "\u001b[2;36m           \u001b[0m                \u001b[32m'VerifiableCredential'\u001b[0m,                                                 \u001b[2m                \u001b[0m\n",
       "\u001b[2;36m           \u001b[0m                \u001b[32m'VerifiableAttestation'\u001b[0m,                                                \u001b[2m                \u001b[0m\n",
       "\u001b[2;36m           \u001b[0m                \u001b[32m'CTAAQualificationCredential'\u001b[0m                                           \u001b[2m                \u001b[0m\n",
       "\u001b[2;36m           \u001b[0m            \u001b[1m]\u001b[0m,                                                                          \u001b[2m                \u001b[0m\n",
       "\u001b[2;36m           \u001b[0m            \u001b[32m'trust_framework'\u001b[0m: \u001b[1m{\u001b[0m                                                        \u001b[2m                \u001b[0m\n",
       "\u001b[2;36m           \u001b[0m                \u001b[32m'name'\u001b[0m: \u001b[32m'ebsi'\u001b[0m,                                                         \u001b[2m                \u001b[0m\n",
       "\u001b[2;36m           \u001b[0m                \u001b[32m'type'\u001b[0m: \u001b[32m'Accreditation'\u001b[0m,                                                \u001b[2m                \u001b[0m\n",
       "\u001b[2;36m           \u001b[0m                \u001b[32m'uri'\u001b[0m: \u001b[32m'TIR link towards accreditation'\u001b[0m                                 \u001b[2m                \u001b[0m\n",
       "\u001b[2;36m           \u001b[0m            \u001b[1m}\u001b[0m,                                                                          \u001b[2m                \u001b[0m\n",
       "\u001b[2;36m           \u001b[0m            \u001b[32m'display'\u001b[0m: \u001b[1m[\u001b[0m                                                                \u001b[2m                \u001b[0m\n",
       "\u001b[2;36m           \u001b[0m                \u001b[1m{\u001b[0m                                                                       \u001b[2m                \u001b[0m\n",
       "\u001b[2;36m           \u001b[0m                    \u001b[32m'name'\u001b[0m: \u001b[32m'Verifiable Attestation Conformance Qualification To \u001b[0m       \u001b[2m                \u001b[0m\n",
       "\u001b[2;36m           \u001b[0m\u001b[32mAccredit & Authorise'\u001b[0m,                                                                  \u001b[2m                \u001b[0m\n",
       "\u001b[2;36m           \u001b[0m                    \u001b[32m'locale'\u001b[0m: \u001b[32m'en-GB'\u001b[0m                                                   \u001b[2m                \u001b[0m\n",
       "\u001b[2;36m           \u001b[0m                \u001b[1m}\u001b[0m                                                                       \u001b[2m                \u001b[0m\n",
       "\u001b[2;36m           \u001b[0m            \u001b[1m]\u001b[0m                                                                           \u001b[2m                \u001b[0m\n",
       "\u001b[2;36m           \u001b[0m        \u001b[1m}\u001b[0m,                                                                              \u001b[2m                \u001b[0m\n",
       "\u001b[2;36m           \u001b[0m        \u001b[1m{\u001b[0m                                                                               \u001b[2m                \u001b[0m\n",
       "\u001b[2;36m           \u001b[0m            \u001b[32m'format'\u001b[0m: \u001b[32m'jwt_vc'\u001b[0m,                                                         \u001b[2m                \u001b[0m\n",
       "\u001b[2;36m           \u001b[0m            \u001b[32m'types'\u001b[0m: \u001b[1m[\u001b[0m                                                                  \u001b[2m                \u001b[0m\n",
       "\u001b[2;36m           \u001b[0m                \u001b[32m'VerifiableCredential'\u001b[0m,                                                 \u001b[2m                \u001b[0m\n",
       "\u001b[2;36m           \u001b[0m                \u001b[32m'VerifiableAttestation'\u001b[0m,                                                \u001b[2m                \u001b[0m\n",
       "\u001b[2;36m           \u001b[0m                \u001b[32m'CTWalletQualificationCredential'\u001b[0m                                       \u001b[2m                \u001b[0m\n",
       "\u001b[2;36m           \u001b[0m            \u001b[1m]\u001b[0m,                                                                          \u001b[2m                \u001b[0m\n",
       "\u001b[2;36m           \u001b[0m            \u001b[32m'trust_framework'\u001b[0m: \u001b[1m{\u001b[0m                                                        \u001b[2m                \u001b[0m\n",
       "\u001b[2;36m           \u001b[0m                \u001b[32m'name'\u001b[0m: \u001b[32m'ebsi'\u001b[0m,                                                         \u001b[2m                \u001b[0m\n",
       "\u001b[2;36m           \u001b[0m                \u001b[32m'type'\u001b[0m: \u001b[32m'Accreditation'\u001b[0m,                                                \u001b[2m                \u001b[0m\n",
       "\u001b[2;36m           \u001b[0m                \u001b[32m'uri'\u001b[0m: \u001b[32m'TIR link towards accreditation'\u001b[0m                                 \u001b[2m                \u001b[0m\n",
       "\u001b[2;36m           \u001b[0m            \u001b[1m}\u001b[0m,                                                                          \u001b[2m                \u001b[0m\n",
       "\u001b[2;36m           \u001b[0m            \u001b[32m'display'\u001b[0m: \u001b[1m[\u001b[0m                                                                \u001b[2m                \u001b[0m\n",
       "\u001b[2;36m           \u001b[0m                \u001b[1m{\u001b[0m                                                                       \u001b[2m                \u001b[0m\n",
       "\u001b[2;36m           \u001b[0m                    \u001b[32m'name'\u001b[0m: \u001b[32m'Verifiable Attestation Conformance Qualification Holder \u001b[0m   \u001b[2m                \u001b[0m\n",
       "\u001b[2;36m           \u001b[0m\u001b[32mWallet'\u001b[0m,                                                                                \u001b[2m                \u001b[0m\n",
       "\u001b[2;36m           \u001b[0m                    \u001b[32m'locale'\u001b[0m: \u001b[32m'en-GB'\u001b[0m                                                   \u001b[2m                \u001b[0m\n",
       "\u001b[2;36m           \u001b[0m                \u001b[1m}\u001b[0m                                                                       \u001b[2m                \u001b[0m\n",
       "\u001b[2;36m           \u001b[0m            \u001b[1m]\u001b[0m                                                                           \u001b[2m                \u001b[0m\n",
       "\u001b[2;36m           \u001b[0m        \u001b[1m}\u001b[0m                                                                               \u001b[2m                \u001b[0m\n",
       "\u001b[2;36m           \u001b[0m    \u001b[1m]\u001b[0m                                                                                   \u001b[2m                \u001b[0m\n",
       "\u001b[2;36m           \u001b[0m\u001b[1m)\u001b[0m                                                                                       \u001b[2m                \u001b[0m\n"
      ]
     },
     "metadata": {},
     "output_type": "display_data"
    },
    {
     "data": {
      "text/html": [
       "<pre style=\"white-space:pre;overflow-x:auto;line-height:normal;font-family:Menlo,'DejaVu Sans Mono',consolas,'Courier New',monospace\"><span style=\"color: #7fbfbf; text-decoration-color: #7fbfbf\">           </span>Authorization server configuration:                                                     <a href=\"file:///tmp/ipykernel_27003/3787712226.py\" target=\"_blank\"><span style=\"color: #7f7f7f; text-decoration-color: #7f7f7f\">3787712226.py</span></a><span style=\"color: #7f7f7f; text-decoration-color: #7f7f7f\">:</span><a href=\"file:///tmp/ipykernel_27003/3787712226.py#25\" target=\"_blank\"><span style=\"color: #7f7f7f; text-decoration-color: #7f7f7f\">25</span></a>\n",
       "<span style=\"color: #7fbfbf; text-decoration-color: #7fbfbf\">           </span><span style=\"color: #800080; text-decoration-color: #800080; font-weight: bold\">OpenIDAuthServerConfig</span><span style=\"font-weight: bold\">(</span>                                                                 <span style=\"color: #7f7f7f; text-decoration-color: #7f7f7f\">                </span>\n",
       "<span style=\"color: #7fbfbf; text-decoration-color: #7fbfbf\">           </span>    <span style=\"color: #808000; text-decoration-color: #808000\">redirect_uris</span>=<span style=\"font-weight: bold\">[</span>                                                                     <span style=\"color: #7f7f7f; text-decoration-color: #7f7f7f\">                </span>\n",
       "<span style=\"color: #7fbfbf; text-decoration-color: #7fbfbf\">           </span>        <span style=\"color: #008000; text-decoration-color: #008000\">'https://api-conformance.ebsi.eu/conformance/v3/auth-mock/direct_post'</span>          <span style=\"color: #7f7f7f; text-decoration-color: #7f7f7f\">                </span>\n",
       "<span style=\"color: #7fbfbf; text-decoration-color: #7fbfbf\">           </span>    <span style=\"font-weight: bold\">]</span>,                                                                                  <span style=\"color: #7f7f7f; text-decoration-color: #7f7f7f\">                </span>\n",
       "<span style=\"color: #7fbfbf; text-decoration-color: #7fbfbf\">           </span>    <span style=\"color: #808000; text-decoration-color: #808000\">issuer</span>=<span style=\"color: #008000; text-decoration-color: #008000\">'https://api-conformance.ebsi.eu/conformance/v3/auth-mock'</span>,                  <span style=\"color: #7f7f7f; text-decoration-color: #7f7f7f\">                </span>\n",
       "<span style=\"color: #7fbfbf; text-decoration-color: #7fbfbf\">           </span>    <span style=\"color: #808000; text-decoration-color: #808000\">authorization_endpoint</span>=<span style=\"color: #008000; text-decoration-color: #008000\">'https://api-conformance.ebsi.eu/conformance/v3/auth-mock/au</span> <span style=\"color: #7f7f7f; text-decoration-color: #7f7f7f\">                </span>\n",
       "<span style=\"color: #7fbfbf; text-decoration-color: #7fbfbf\">           </span><span style=\"color: #008000; text-decoration-color: #008000\">thorize'</span>,                                                                               <span style=\"color: #7f7f7f; text-decoration-color: #7f7f7f\">                </span>\n",
       "<span style=\"color: #7fbfbf; text-decoration-color: #7fbfbf\">           </span>    <span style=\"color: #808000; text-decoration-color: #808000\">token_endpoint</span>=<span style=\"color: #008000; text-decoration-color: #008000\">'https://api-conformance.ebsi.eu/conformance/v3/auth-mock/token'</span>,    <span style=\"color: #7f7f7f; text-decoration-color: #7f7f7f\">                </span>\n",
       "<span style=\"color: #7fbfbf; text-decoration-color: #7fbfbf\">           </span>    <span style=\"color: #808000; text-decoration-color: #808000\">jwks_uri</span>=<span style=\"color: #008000; text-decoration-color: #008000\">'https://api-conformance.ebsi.eu/conformance/v3/auth-mock/jwks'</span>,           <span style=\"color: #7f7f7f; text-decoration-color: #7f7f7f\">                </span>\n",
       "<span style=\"color: #7fbfbf; text-decoration-color: #7fbfbf\">           </span>    <span style=\"color: #808000; text-decoration-color: #808000\">scopes_supported</span>=<span style=\"font-weight: bold\">[</span><span style=\"color: #008000; text-decoration-color: #008000\">'openid'</span><span style=\"font-weight: bold\">]</span>,                                                        <span style=\"color: #7f7f7f; text-decoration-color: #7f7f7f\">                </span>\n",
       "<span style=\"color: #7fbfbf; text-decoration-color: #7fbfbf\">           </span>    <span style=\"color: #808000; text-decoration-color: #808000\">response_types_supported</span>=<span style=\"font-weight: bold\">[</span><span style=\"color: #008000; text-decoration-color: #008000\">'vp_token'</span>, <span style=\"color: #008000; text-decoration-color: #008000\">'id_token'</span><span style=\"font-weight: bold\">]</span>,                                  <span style=\"color: #7f7f7f; text-decoration-color: #7f7f7f\">                </span>\n",
       "<span style=\"color: #7fbfbf; text-decoration-color: #7fbfbf\">           </span>    <span style=\"color: #808000; text-decoration-color: #808000\">response_modes_supported</span>=<span style=\"font-weight: bold\">[</span><span style=\"color: #008000; text-decoration-color: #008000\">'query'</span><span style=\"font-weight: bold\">]</span>,                                                 <span style=\"color: #7f7f7f; text-decoration-color: #7f7f7f\">                </span>\n",
       "<span style=\"color: #7fbfbf; text-decoration-color: #7fbfbf\">           </span>    <span style=\"color: #808000; text-decoration-color: #808000\">grant_types_supported</span>=<span style=\"font-weight: bold\">[</span><span style=\"color: #008000; text-decoration-color: #008000\">'authorization_code'</span><span style=\"font-weight: bold\">]</span>,                                       <span style=\"color: #7f7f7f; text-decoration-color: #7f7f7f\">                </span>\n",
       "<span style=\"color: #7fbfbf; text-decoration-color: #7fbfbf\">           </span>    <span style=\"color: #808000; text-decoration-color: #808000\">subject_types_supported</span>=<span style=\"font-weight: bold\">[</span><span style=\"color: #008000; text-decoration-color: #008000\">'public'</span><span style=\"font-weight: bold\">]</span>,                                                 <span style=\"color: #7f7f7f; text-decoration-color: #7f7f7f\">                </span>\n",
       "<span style=\"color: #7fbfbf; text-decoration-color: #7fbfbf\">           </span>    <span style=\"color: #808000; text-decoration-color: #808000\">id_token_signing_alg_values_supported</span>=<span style=\"font-weight: bold\">[</span><span style=\"color: #008000; text-decoration-color: #008000\">'ES256'</span><span style=\"font-weight: bold\">]</span>,                                    <span style=\"color: #7f7f7f; text-decoration-color: #7f7f7f\">                </span>\n",
       "<span style=\"color: #7fbfbf; text-decoration-color: #7fbfbf\">           </span>    <span style=\"color: #808000; text-decoration-color: #808000\">request_object_signing_alg_values_supported</span>=<span style=\"font-weight: bold\">[</span><span style=\"color: #008000; text-decoration-color: #008000\">'ES256'</span><span style=\"font-weight: bold\">]</span>,                              <span style=\"color: #7f7f7f; text-decoration-color: #7f7f7f\">                </span>\n",
       "<span style=\"color: #7fbfbf; text-decoration-color: #7fbfbf\">           </span>    <span style=\"color: #808000; text-decoration-color: #808000\">request_parameter_supported</span>=<span style=\"color: #00ff00; text-decoration-color: #00ff00; font-style: italic\">True</span>,                                                   <span style=\"color: #7f7f7f; text-decoration-color: #7f7f7f\">                </span>\n",
       "<span style=\"color: #7fbfbf; text-decoration-color: #7fbfbf\">           </span>    <span style=\"color: #808000; text-decoration-color: #808000\">request_uri_parameter_supported</span>=<span style=\"color: #00ff00; text-decoration-color: #00ff00; font-style: italic\">True</span>,                                               <span style=\"color: #7f7f7f; text-decoration-color: #7f7f7f\">                </span>\n",
       "<span style=\"color: #7fbfbf; text-decoration-color: #7fbfbf\">           </span>    <span style=\"color: #808000; text-decoration-color: #808000\">token_endpoint_auth_methods_supported</span>=<span style=\"font-weight: bold\">[</span><span style=\"color: #008000; text-decoration-color: #008000\">'private_key_jwt'</span><span style=\"font-weight: bold\">]</span>,                          <span style=\"color: #7f7f7f; text-decoration-color: #7f7f7f\">                </span>\n",
       "<span style=\"color: #7fbfbf; text-decoration-color: #7fbfbf\">           </span>    <span style=\"color: #808000; text-decoration-color: #808000\">request_authentication_methods_supported</span>=<span style=\"font-weight: bold\">{</span>                                          <span style=\"color: #7f7f7f; text-decoration-color: #7f7f7f\">                </span>\n",
       "<span style=\"color: #7fbfbf; text-decoration-color: #7fbfbf\">           </span>        <span style=\"color: #008000; text-decoration-color: #008000\">'authorization_endpoint'</span>: <span style=\"font-weight: bold\">[</span><span style=\"color: #008000; text-decoration-color: #008000\">'request_object'</span><span style=\"font-weight: bold\">]</span>                                    <span style=\"color: #7f7f7f; text-decoration-color: #7f7f7f\">                </span>\n",
       "<span style=\"color: #7fbfbf; text-decoration-color: #7fbfbf\">           </span>    <span style=\"font-weight: bold\">}</span>,                                                                                  <span style=\"color: #7f7f7f; text-decoration-color: #7f7f7f\">                </span>\n",
       "<span style=\"color: #7fbfbf; text-decoration-color: #7fbfbf\">           </span>    <span style=\"color: #808000; text-decoration-color: #808000\">vp_formats_supported</span>=<span style=\"font-weight: bold\">{</span>                                                              <span style=\"color: #7f7f7f; text-decoration-color: #7f7f7f\">                </span>\n",
       "<span style=\"color: #7fbfbf; text-decoration-color: #7fbfbf\">           </span>        <span style=\"color: #008000; text-decoration-color: #008000\">'jwt_vp'</span>: <span style=\"font-weight: bold\">{</span><span style=\"color: #008000; text-decoration-color: #008000\">'alg_values_supported'</span>: <span style=\"font-weight: bold\">[</span><span style=\"color: #008000; text-decoration-color: #008000\">'ES256'</span><span style=\"font-weight: bold\">]}</span>,                                  <span style=\"color: #7f7f7f; text-decoration-color: #7f7f7f\">                </span>\n",
       "<span style=\"color: #7fbfbf; text-decoration-color: #7fbfbf\">           </span>        <span style=\"color: #008000; text-decoration-color: #008000\">'jwt_vc'</span>: <span style=\"font-weight: bold\">{</span><span style=\"color: #008000; text-decoration-color: #008000\">'alg_values_supported'</span>: <span style=\"font-weight: bold\">[</span><span style=\"color: #008000; text-decoration-color: #008000\">'ES256'</span><span style=\"font-weight: bold\">]}</span>                                   <span style=\"color: #7f7f7f; text-decoration-color: #7f7f7f\">                </span>\n",
       "<span style=\"color: #7fbfbf; text-decoration-color: #7fbfbf\">           </span>    <span style=\"font-weight: bold\">}</span>,                                                                                  <span style=\"color: #7f7f7f; text-decoration-color: #7f7f7f\">                </span>\n",
       "<span style=\"color: #7fbfbf; text-decoration-color: #7fbfbf\">           </span>    <span style=\"color: #808000; text-decoration-color: #808000\">subject_syntax_types_supported</span>=<span style=\"font-weight: bold\">[</span><span style=\"color: #008000; text-decoration-color: #008000\">'did:key'</span>, <span style=\"color: #008000; text-decoration-color: #008000\">'did:ebsi'</span><span style=\"font-weight: bold\">]</span>,                             <span style=\"color: #7f7f7f; text-decoration-color: #7f7f7f\">                </span>\n",
       "<span style=\"color: #7fbfbf; text-decoration-color: #7fbfbf\">           </span>    <span style=\"color: #808000; text-decoration-color: #808000\">subject_syntax_types_discriminations</span>=<span style=\"font-weight: bold\">[</span><span style=\"color: #008000; text-decoration-color: #008000\">'did:key:jwk_jcs-pub'</span>, <span style=\"color: #008000; text-decoration-color: #008000\">'did:ebsi:v1'</span><span style=\"font-weight: bold\">]</span>,        <span style=\"color: #7f7f7f; text-decoration-color: #7f7f7f\">                </span>\n",
       "<span style=\"color: #7fbfbf; text-decoration-color: #7fbfbf\">           </span>    <span style=\"color: #808000; text-decoration-color: #808000\">subject_trust_frameworks_supported</span>=<span style=\"font-weight: bold\">[</span><span style=\"color: #008000; text-decoration-color: #008000\">'ebsi'</span><span style=\"font-weight: bold\">]</span>,                                        <span style=\"color: #7f7f7f; text-decoration-color: #7f7f7f\">                </span>\n",
       "<span style=\"color: #7fbfbf; text-decoration-color: #7fbfbf\">           </span>    <span style=\"color: #808000; text-decoration-color: #808000\">id_token_types_supported</span>=<span style=\"font-weight: bold\">[</span><span style=\"color: #008000; text-decoration-color: #008000\">'subject_signed_id_token'</span>, <span style=\"color: #008000; text-decoration-color: #008000\">'attester_signed_id_token'</span><span style=\"font-weight: bold\">]</span>    <span style=\"color: #7f7f7f; text-decoration-color: #7f7f7f\">                </span>\n",
       "<span style=\"color: #7fbfbf; text-decoration-color: #7fbfbf\">           </span><span style=\"font-weight: bold\">)</span>                                                                                       <span style=\"color: #7f7f7f; text-decoration-color: #7f7f7f\">                </span>\n",
       "</pre>\n"
      ],
      "text/plain": [
       "\u001b[2;36m          \u001b[0m\u001b[2;36m \u001b[0mAuthorization server configuration:                                                     \u001b]8;id=593896;file:///tmp/ipykernel_27003/3787712226.py\u001b\\\u001b[2m3787712226.py\u001b[0m\u001b]8;;\u001b\\\u001b[2m:\u001b[0m\u001b]8;id=354755;file:///tmp/ipykernel_27003/3787712226.py#25\u001b\\\u001b[2m25\u001b[0m\u001b]8;;\u001b\\\n",
       "\u001b[2;36m           \u001b[0m\u001b[1;35mOpenIDAuthServerConfig\u001b[0m\u001b[1m(\u001b[0m                                                                 \u001b[2m                \u001b[0m\n",
       "\u001b[2;36m           \u001b[0m    \u001b[33mredirect_uris\u001b[0m=\u001b[1m[\u001b[0m                                                                     \u001b[2m                \u001b[0m\n",
       "\u001b[2;36m           \u001b[0m        \u001b[32m'https://api-conformance.ebsi.eu/conformance/v3/auth-mock/direct_post'\u001b[0m          \u001b[2m                \u001b[0m\n",
       "\u001b[2;36m           \u001b[0m    \u001b[1m]\u001b[0m,                                                                                  \u001b[2m                \u001b[0m\n",
       "\u001b[2;36m           \u001b[0m    \u001b[33missuer\u001b[0m=\u001b[32m'https://api-conformance.ebsi.eu/conformance/v3/auth-mock'\u001b[0m,                  \u001b[2m                \u001b[0m\n",
       "\u001b[2;36m           \u001b[0m    \u001b[33mauthorization_endpoint\u001b[0m=\u001b[32m'https://api-conformance.ebsi.eu/conformance/v3/auth-mock/au\u001b[0m \u001b[2m                \u001b[0m\n",
       "\u001b[2;36m           \u001b[0m\u001b[32mthorize'\u001b[0m,                                                                               \u001b[2m                \u001b[0m\n",
       "\u001b[2;36m           \u001b[0m    \u001b[33mtoken_endpoint\u001b[0m=\u001b[32m'https://api-conformance.ebsi.eu/conformance/v3/auth-mock/token'\u001b[0m,    \u001b[2m                \u001b[0m\n",
       "\u001b[2;36m           \u001b[0m    \u001b[33mjwks_uri\u001b[0m=\u001b[32m'https://api-conformance.ebsi.eu/conformance/v3/auth-mock/jwks'\u001b[0m,           \u001b[2m                \u001b[0m\n",
       "\u001b[2;36m           \u001b[0m    \u001b[33mscopes_supported\u001b[0m=\u001b[1m[\u001b[0m\u001b[32m'openid'\u001b[0m\u001b[1m]\u001b[0m,                                                        \u001b[2m                \u001b[0m\n",
       "\u001b[2;36m           \u001b[0m    \u001b[33mresponse_types_supported\u001b[0m=\u001b[1m[\u001b[0m\u001b[32m'vp_token'\u001b[0m, \u001b[32m'id_token'\u001b[0m\u001b[1m]\u001b[0m,                                  \u001b[2m                \u001b[0m\n",
       "\u001b[2;36m           \u001b[0m    \u001b[33mresponse_modes_supported\u001b[0m=\u001b[1m[\u001b[0m\u001b[32m'query'\u001b[0m\u001b[1m]\u001b[0m,                                                 \u001b[2m                \u001b[0m\n",
       "\u001b[2;36m           \u001b[0m    \u001b[33mgrant_types_supported\u001b[0m=\u001b[1m[\u001b[0m\u001b[32m'authorization_code'\u001b[0m\u001b[1m]\u001b[0m,                                       \u001b[2m                \u001b[0m\n",
       "\u001b[2;36m           \u001b[0m    \u001b[33msubject_types_supported\u001b[0m=\u001b[1m[\u001b[0m\u001b[32m'public'\u001b[0m\u001b[1m]\u001b[0m,                                                 \u001b[2m                \u001b[0m\n",
       "\u001b[2;36m           \u001b[0m    \u001b[33mid_token_signing_alg_values_supported\u001b[0m=\u001b[1m[\u001b[0m\u001b[32m'ES256'\u001b[0m\u001b[1m]\u001b[0m,                                    \u001b[2m                \u001b[0m\n",
       "\u001b[2;36m           \u001b[0m    \u001b[33mrequest_object_signing_alg_values_supported\u001b[0m=\u001b[1m[\u001b[0m\u001b[32m'ES256'\u001b[0m\u001b[1m]\u001b[0m,                              \u001b[2m                \u001b[0m\n",
       "\u001b[2;36m           \u001b[0m    \u001b[33mrequest_parameter_supported\u001b[0m=\u001b[3;92mTrue\u001b[0m,                                                   \u001b[2m                \u001b[0m\n",
       "\u001b[2;36m           \u001b[0m    \u001b[33mrequest_uri_parameter_supported\u001b[0m=\u001b[3;92mTrue\u001b[0m,                                               \u001b[2m                \u001b[0m\n",
       "\u001b[2;36m           \u001b[0m    \u001b[33mtoken_endpoint_auth_methods_supported\u001b[0m=\u001b[1m[\u001b[0m\u001b[32m'private_key_jwt'\u001b[0m\u001b[1m]\u001b[0m,                          \u001b[2m                \u001b[0m\n",
       "\u001b[2;36m           \u001b[0m    \u001b[33mrequest_authentication_methods_supported\u001b[0m=\u001b[1m{\u001b[0m                                          \u001b[2m                \u001b[0m\n",
       "\u001b[2;36m           \u001b[0m        \u001b[32m'authorization_endpoint'\u001b[0m: \u001b[1m[\u001b[0m\u001b[32m'request_object'\u001b[0m\u001b[1m]\u001b[0m                                    \u001b[2m                \u001b[0m\n",
       "\u001b[2;36m           \u001b[0m    \u001b[1m}\u001b[0m,                                                                                  \u001b[2m                \u001b[0m\n",
       "\u001b[2;36m           \u001b[0m    \u001b[33mvp_formats_supported\u001b[0m=\u001b[1m{\u001b[0m                                                              \u001b[2m                \u001b[0m\n",
       "\u001b[2;36m           \u001b[0m        \u001b[32m'jwt_vp'\u001b[0m: \u001b[1m{\u001b[0m\u001b[32m'alg_values_supported'\u001b[0m: \u001b[1m[\u001b[0m\u001b[32m'ES256'\u001b[0m\u001b[1m]\u001b[0m\u001b[1m}\u001b[0m,                                  \u001b[2m                \u001b[0m\n",
       "\u001b[2;36m           \u001b[0m        \u001b[32m'jwt_vc'\u001b[0m: \u001b[1m{\u001b[0m\u001b[32m'alg_values_supported'\u001b[0m: \u001b[1m[\u001b[0m\u001b[32m'ES256'\u001b[0m\u001b[1m]\u001b[0m\u001b[1m}\u001b[0m                                   \u001b[2m                \u001b[0m\n",
       "\u001b[2;36m           \u001b[0m    \u001b[1m}\u001b[0m,                                                                                  \u001b[2m                \u001b[0m\n",
       "\u001b[2;36m           \u001b[0m    \u001b[33msubject_syntax_types_supported\u001b[0m=\u001b[1m[\u001b[0m\u001b[32m'did:key'\u001b[0m, \u001b[32m'did:ebsi'\u001b[0m\u001b[1m]\u001b[0m,                             \u001b[2m                \u001b[0m\n",
       "\u001b[2;36m           \u001b[0m    \u001b[33msubject_syntax_types_discriminations\u001b[0m=\u001b[1m[\u001b[0m\u001b[32m'did:key:jwk_jcs-pub'\u001b[0m, \u001b[32m'did:ebsi:v1'\u001b[0m\u001b[1m]\u001b[0m,        \u001b[2m                \u001b[0m\n",
       "\u001b[2;36m           \u001b[0m    \u001b[33msubject_trust_frameworks_supported\u001b[0m=\u001b[1m[\u001b[0m\u001b[32m'ebsi'\u001b[0m\u001b[1m]\u001b[0m,                                        \u001b[2m                \u001b[0m\n",
       "\u001b[2;36m           \u001b[0m    \u001b[33mid_token_types_supported\u001b[0m=\u001b[1m[\u001b[0m\u001b[32m'subject_signed_id_token'\u001b[0m, \u001b[32m'attester_signed_id_token'\u001b[0m\u001b[1m]\u001b[0m    \u001b[2m                \u001b[0m\n",
       "\u001b[2;36m           \u001b[0m\u001b[1m)\u001b[0m                                                                                       \u001b[2m                \u001b[0m\n"
      ]
     },
     "metadata": {},
     "output_type": "display_data"
    }
   ],
   "source": [
    "from ebsi_wallet.util import parse_query_string_parameters_from_url\n",
    "from ebsi_wallet.siop_auth.util import (\n",
    "    accept_and_fetch_credential_offer, \n",
    "    fetch_openid_credential_issuer_configuration,\n",
    "    fetch_openid_auth_server_configuration,\n",
    "    fetch_credential_offer,\n",
    "    CredentialTypes\n",
    ")\n",
    "\n",
    "credential_type =  CredentialTypes.CTWalletCrossDeferred\n",
    "# qr_code_data = await fetch_credential_offer(key_did._did, credential_type)\n",
    "qr_code_data = \"openid-credential-offer://?credential_offer_uri=https%3A%2F%2Fapi-conformance.ebsi.eu%2Fconformance%2Fv3%2Fissuer-mock%2Foffers%2Ff008d867-c9ad-4e3d-b96b-8b6f28e0f048\"\n",
    "qr_code_data = qr_code_data.replace(\"openid-credential-offer://\", \"\")\n",
    "credential_offer_uri = parse_query_string_parameters_from_url(\n",
    "    qr_code_data).get(\"credential_offer_uri\")[0]\n",
    "console.log(\"Credential offer URI: \", credential_offer_uri)\n",
    "\n",
    "credential_offer = await accept_and_fetch_credential_offer(credential_offer_uri)\n",
    "console.log(\"Credential offer: \", credential_offer)\n",
    "\n",
    "credential_issuer_configuration = await fetch_openid_credential_issuer_configuration(credential_offer.credential_issuer)\n",
    "console.log(\"Credential issuer configuration: \", credential_issuer_configuration)\n",
    "\n",
    "auth_server_configuration = await fetch_openid_auth_server_configuration(credential_issuer_configuration.authorization_server)\n",
    "console.log(\"Authorization server configuration: \", auth_server_configuration)\n"
   ]
  },
  {
   "attachments": {},
   "cell_type": "markdown",
   "metadata": {},
   "source": [
    "## 1.2 Perform authorization request and obtain ID token request"
   ]
  },
  {
   "cell_type": "code",
   "execution_count": 4,
   "metadata": {},
   "outputs": [
    {
     "data": {
      "text/html": [
       "<pre style=\"white-space:pre;overflow-x:auto;line-height:normal;font-family:Menlo,'DejaVu Sans Mono',consolas,'Courier New',monospace\"><span style=\"color: #7fbfbf; text-decoration-color: #7fbfbf\">[16:09:27] </span>Authorization response URI:                                                             <a href=\"file:///tmp/ipykernel_27003/1836098038.py\" target=\"_blank\"><span style=\"color: #7f7f7f; text-decoration-color: #7f7f7f\">1836098038.py</span></a><span style=\"color: #7f7f7f; text-decoration-color: #7f7f7f\">:</span><a href=\"file:///tmp/ipykernel_27003/1836098038.py#34\" target=\"_blank\"><span style=\"color: #7f7f7f; text-decoration-color: #7f7f7f\">34</span></a>\n",
       "<span style=\"color: #7fbfbf; text-decoration-color: #7fbfbf\">           </span><span style=\"color: #0000ff; text-decoration-color: #0000ff; text-decoration: underline\">http://localhost:8080?state=c1c2a065-7323-4d92-8183-a80e1159fb4c&amp;client_id=https%3A%2F%</span> <span style=\"color: #7f7f7f; text-decoration-color: #7f7f7f\">                </span>\n",
       "<span style=\"color: #7fbfbf; text-decoration-color: #7fbfbf\">           </span><span style=\"color: #0000ff; text-decoration-color: #0000ff; text-decoration: underline\">2Fapi-conformance.ebsi.eu%2Fconformance%2Fv3%2Fauth-mock&amp;redirect_uri=https%3A%2F%2Fapi</span> <span style=\"color: #7f7f7f; text-decoration-color: #7f7f7f\">                </span>\n",
       "<span style=\"color: #7fbfbf; text-decoration-color: #7fbfbf\">           </span><span style=\"color: #0000ff; text-decoration-color: #0000ff; text-decoration: underline\">-conformance.ebsi.eu%2Fconformance%2Fv3%2Fauth-mock%2Fdirect_post&amp;response_type=id_toke</span> <span style=\"color: #7f7f7f; text-decoration-color: #7f7f7f\">                </span>\n",
       "<span style=\"color: #7fbfbf; text-decoration-color: #7fbfbf\">           </span><span style=\"color: #0000ff; text-decoration-color: #0000ff; text-decoration: underline\">n&amp;response_mode=direct_post&amp;scope=openid&amp;nonce=0338f0d1-91fb-466e-811f-78d428c52ee1&amp;req</span> <span style=\"color: #7f7f7f; text-decoration-color: #7f7f7f\">                </span>\n",
       "<span style=\"color: #7fbfbf; text-decoration-color: #7fbfbf\">           </span><span style=\"color: #0000ff; text-decoration-color: #0000ff; text-decoration: underline\">uest_uri=https%3A%2F%2Fapi-conformance.ebsi.eu%2Fconformance%2Fv3%2Fauth-mock%2Frequest</span> <span style=\"color: #7f7f7f; text-decoration-color: #7f7f7f\">                </span>\n",
       "<span style=\"color: #7fbfbf; text-decoration-color: #7fbfbf\">           </span><span style=\"color: #0000ff; text-decoration-color: #0000ff; text-decoration: underline\">_uri%2F67c98ca3-245d-4647-9d5e-7ebf0ce6f22f</span>                                             <span style=\"color: #7f7f7f; text-decoration-color: #7f7f7f\">                </span>\n",
       "</pre>\n"
      ],
      "text/plain": [
       "\u001b[2;36m[16:09:27]\u001b[0m\u001b[2;36m \u001b[0mAuthorization response URI:                                                             \u001b]8;id=896094;file:///tmp/ipykernel_27003/1836098038.py\u001b\\\u001b[2m1836098038.py\u001b[0m\u001b]8;;\u001b\\\u001b[2m:\u001b[0m\u001b]8;id=919492;file:///tmp/ipykernel_27003/1836098038.py#34\u001b\\\u001b[2m34\u001b[0m\u001b]8;;\u001b\\\n",
       "\u001b[2;36m           \u001b[0m\u001b[4;94mhttp://localhost:8080?\u001b[0m\u001b[4;94mstate\u001b[0m\u001b[4;94m=\u001b[0m\u001b[4;94mc1c2a065\u001b[0m\u001b[4;94m-7323-4d92-8183-a80e1159fb4c&\u001b[0m\u001b[4;94mclient_id\u001b[0m\u001b[4;94m=\u001b[0m\u001b[4;94mhttps\u001b[0m\u001b[4;94m%3A%2F%\u001b[0m \u001b[2m                \u001b[0m\n",
       "\u001b[2;36m           \u001b[0m\u001b[4;94m2Fapi-conformance.ebsi.eu%2Fconformance%2Fv3%2Fauth-mock&\u001b[0m\u001b[4;94mredirect_uri\u001b[0m\u001b[4;94m=\u001b[0m\u001b[4;94mhttps\u001b[0m\u001b[4;94m%3A%2F%2Fapi\u001b[0m \u001b[2m                \u001b[0m\n",
       "\u001b[2;36m           \u001b[0m\u001b[4;94m-conformance.ebsi.eu%2Fconformance%2Fv3%2Fauth-mock%2Fdirect_post&\u001b[0m\u001b[4;94mresponse_type\u001b[0m\u001b[4;94m=\u001b[0m\u001b[4;94mid_toke\u001b[0m \u001b[2m                \u001b[0m\n",
       "\u001b[2;36m           \u001b[0m\u001b[4;94mn\u001b[0m\u001b[4;94m&\u001b[0m\u001b[4;94mresponse_mode\u001b[0m\u001b[4;94m=\u001b[0m\u001b[4;94mdirect_post\u001b[0m\u001b[4;94m&\u001b[0m\u001b[4;94mscope\u001b[0m\u001b[4;94m=\u001b[0m\u001b[4;94mopenid\u001b[0m\u001b[4;94m&\u001b[0m\u001b[4;94mnonce\u001b[0m\u001b[4;94m=\u001b[0m\u001b[4;94m0338f0d1\u001b[0m\u001b[4;94m-91fb-466e-811f-78d428c52ee1&\u001b[0m\u001b[4;94mreq\u001b[0m \u001b[2m                \u001b[0m\n",
       "\u001b[2;36m           \u001b[0m\u001b[4;94muest_uri\u001b[0m\u001b[4;94m=\u001b[0m\u001b[4;94mhttps\u001b[0m\u001b[4;94m%3A%2F%2Fapi-conformance.ebsi.eu%2Fconformance%2Fv3%2Fauth-mock%2Frequest\u001b[0m \u001b[2m                \u001b[0m\n",
       "\u001b[2;36m           \u001b[0m\u001b[4;94m_uri%2F67c98ca3-245d-4647-9d5e-7ebf0ce6f22f\u001b[0m                                             \u001b[2m                \u001b[0m\n"
      ]
     },
     "metadata": {},
     "output_type": "display_data"
    },
    {
     "data": {
      "text/html": [
       "<pre style=\"white-space:pre;overflow-x:auto;line-height:normal;font-family:Menlo,'DejaVu Sans Mono',consolas,'Courier New',monospace\"><span style=\"color: #7fbfbf; text-decoration-color: #7fbfbf\">           </span>Authorization response query params:                                                    <a href=\"file:///tmp/ipykernel_27003/1836098038.py\" target=\"_blank\"><span style=\"color: #7f7f7f; text-decoration-color: #7f7f7f\">1836098038.py</span></a><span style=\"color: #7f7f7f; text-decoration-color: #7f7f7f\">:</span><a href=\"file:///tmp/ipykernel_27003/1836098038.py#36\" target=\"_blank\"><span style=\"color: #7f7f7f; text-decoration-color: #7f7f7f\">36</span></a>\n",
       "<span style=\"color: #7fbfbf; text-decoration-color: #7fbfbf\">           </span><span style=\"color: #800080; text-decoration-color: #800080; font-weight: bold\">AuthorizationResponseQueryParams</span><span style=\"font-weight: bold\">(</span>                                                       <span style=\"color: #7f7f7f; text-decoration-color: #7f7f7f\">                </span>\n",
       "<span style=\"color: #7fbfbf; text-decoration-color: #7fbfbf\">           </span>    <span style=\"color: #808000; text-decoration-color: #808000\">state</span>=<span style=\"color: #008000; text-decoration-color: #008000\">'c1c2a065-7323-4d92-8183-a80e1159fb4c'</span>,                                       <span style=\"color: #7f7f7f; text-decoration-color: #7f7f7f\">                </span>\n",
       "<span style=\"color: #7fbfbf; text-decoration-color: #7fbfbf\">           </span>    <span style=\"color: #808000; text-decoration-color: #808000\">client_id</span>=<span style=\"color: #008000; text-decoration-color: #008000\">'https://api-conformance.ebsi.eu/conformance/v3/auth-mock'</span>,               <span style=\"color: #7f7f7f; text-decoration-color: #7f7f7f\">                </span>\n",
       "<span style=\"color: #7fbfbf; text-decoration-color: #7fbfbf\">           </span>    <span style=\"color: #808000; text-decoration-color: #808000\">redirect_uri</span>=<span style=\"color: #008000; text-decoration-color: #008000\">'https://api-conformance.ebsi.eu/conformance/v3/auth-mock/direct_post'</span> <span style=\"color: #7f7f7f; text-decoration-color: #7f7f7f\">                </span>\n",
       "<span style=\"color: #7fbfbf; text-decoration-color: #7fbfbf\">           </span>,                                                                                       <span style=\"color: #7f7f7f; text-decoration-color: #7f7f7f\">                </span>\n",
       "<span style=\"color: #7fbfbf; text-decoration-color: #7fbfbf\">           </span>    <span style=\"color: #808000; text-decoration-color: #808000\">response_type</span>=<span style=\"color: #008000; text-decoration-color: #008000\">'id_token'</span>,                                                           <span style=\"color: #7f7f7f; text-decoration-color: #7f7f7f\">                </span>\n",
       "<span style=\"color: #7fbfbf; text-decoration-color: #7fbfbf\">           </span>    <span style=\"color: #808000; text-decoration-color: #808000\">response_mode</span>=<span style=\"color: #008000; text-decoration-color: #008000\">'direct_post'</span>,                                                        <span style=\"color: #7f7f7f; text-decoration-color: #7f7f7f\">                </span>\n",
       "<span style=\"color: #7fbfbf; text-decoration-color: #7fbfbf\">           </span>    <span style=\"color: #808000; text-decoration-color: #808000\">scope</span>=<span style=\"color: #008000; text-decoration-color: #008000\">'openid'</span>,                                                                     <span style=\"color: #7f7f7f; text-decoration-color: #7f7f7f\">                </span>\n",
       "<span style=\"color: #7fbfbf; text-decoration-color: #7fbfbf\">           </span>    <span style=\"color: #808000; text-decoration-color: #808000\">nonce</span>=<span style=\"color: #008000; text-decoration-color: #008000\">'0338f0d1-91fb-466e-811f-78d428c52ee1'</span>,                                       <span style=\"color: #7f7f7f; text-decoration-color: #7f7f7f\">                </span>\n",
       "<span style=\"color: #7fbfbf; text-decoration-color: #7fbfbf\">           </span>    <span style=\"color: #808000; text-decoration-color: #808000\">request_uri</span>=<span style=\"color: #008000; text-decoration-color: #008000\">'https://api-conformance.ebsi.eu/conformance/v3/auth-mock/request_uri/6</span> <span style=\"color: #7f7f7f; text-decoration-color: #7f7f7f\">                </span>\n",
       "<span style=\"color: #7fbfbf; text-decoration-color: #7fbfbf\">           </span><span style=\"color: #008000; text-decoration-color: #008000\">7c98ca3-245d-4647-9d5e-7ebf0ce6f22f'</span>,                                                   <span style=\"color: #7f7f7f; text-decoration-color: #7f7f7f\">                </span>\n",
       "<span style=\"color: #7fbfbf; text-decoration-color: #7fbfbf\">           </span>    <span style=\"color: #808000; text-decoration-color: #808000\">presentation_definition</span>=<span style=\"color: #008000; text-decoration-color: #008000\">''</span>,                                                         <span style=\"color: #7f7f7f; text-decoration-color: #7f7f7f\">                </span>\n",
       "<span style=\"color: #7fbfbf; text-decoration-color: #7fbfbf\">           </span>    <span style=\"color: #808000; text-decoration-color: #808000\">request</span>=<span style=\"color: #008000; text-decoration-color: #008000\">''</span>                                                                          <span style=\"color: #7f7f7f; text-decoration-color: #7f7f7f\">                </span>\n",
       "<span style=\"color: #7fbfbf; text-decoration-color: #7fbfbf\">           </span><span style=\"font-weight: bold\">)</span>                                                                                       <span style=\"color: #7f7f7f; text-decoration-color: #7f7f7f\">                </span>\n",
       "</pre>\n"
      ],
      "text/plain": [
       "\u001b[2;36m          \u001b[0m\u001b[2;36m \u001b[0mAuthorization response query params:                                                    \u001b]8;id=820179;file:///tmp/ipykernel_27003/1836098038.py\u001b\\\u001b[2m1836098038.py\u001b[0m\u001b]8;;\u001b\\\u001b[2m:\u001b[0m\u001b]8;id=610891;file:///tmp/ipykernel_27003/1836098038.py#36\u001b\\\u001b[2m36\u001b[0m\u001b]8;;\u001b\\\n",
       "\u001b[2;36m           \u001b[0m\u001b[1;35mAuthorizationResponseQueryParams\u001b[0m\u001b[1m(\u001b[0m                                                       \u001b[2m                \u001b[0m\n",
       "\u001b[2;36m           \u001b[0m    \u001b[33mstate\u001b[0m=\u001b[32m'c1c2a065-7323-4d92-8183-a80e1159fb4c'\u001b[0m,                                       \u001b[2m                \u001b[0m\n",
       "\u001b[2;36m           \u001b[0m    \u001b[33mclient_id\u001b[0m=\u001b[32m'https://api-conformance.ebsi.eu/conformance/v3/auth-mock'\u001b[0m,               \u001b[2m                \u001b[0m\n",
       "\u001b[2;36m           \u001b[0m    \u001b[33mredirect_uri\u001b[0m=\u001b[32m'https://api-conformance.ebsi.eu/conformance/v3/auth-mock/direct_post'\u001b[0m \u001b[2m                \u001b[0m\n",
       "\u001b[2;36m           \u001b[0m,                                                                                       \u001b[2m                \u001b[0m\n",
       "\u001b[2;36m           \u001b[0m    \u001b[33mresponse_type\u001b[0m=\u001b[32m'id_token'\u001b[0m,                                                           \u001b[2m                \u001b[0m\n",
       "\u001b[2;36m           \u001b[0m    \u001b[33mresponse_mode\u001b[0m=\u001b[32m'direct_post'\u001b[0m,                                                        \u001b[2m                \u001b[0m\n",
       "\u001b[2;36m           \u001b[0m    \u001b[33mscope\u001b[0m=\u001b[32m'openid'\u001b[0m,                                                                     \u001b[2m                \u001b[0m\n",
       "\u001b[2;36m           \u001b[0m    \u001b[33mnonce\u001b[0m=\u001b[32m'0338f0d1-91fb-466e-811f-78d428c52ee1'\u001b[0m,                                       \u001b[2m                \u001b[0m\n",
       "\u001b[2;36m           \u001b[0m    \u001b[33mrequest_uri\u001b[0m=\u001b[32m'https://api-conformance.ebsi.eu/conformance/v3/auth-mock/request_uri/6\u001b[0m \u001b[2m                \u001b[0m\n",
       "\u001b[2;36m           \u001b[0m\u001b[32m7c98ca3-245d-4647-9d5e-7ebf0ce6f22f'\u001b[0m,                                                   \u001b[2m                \u001b[0m\n",
       "\u001b[2;36m           \u001b[0m    \u001b[33mpresentation_definition\u001b[0m=\u001b[32m''\u001b[0m,                                                         \u001b[2m                \u001b[0m\n",
       "\u001b[2;36m           \u001b[0m    \u001b[33mrequest\u001b[0m=\u001b[32m''\u001b[0m                                                                          \u001b[2m                \u001b[0m\n",
       "\u001b[2;36m           \u001b[0m\u001b[1m)\u001b[0m                                                                                       \u001b[2m                \u001b[0m\n"
      ]
     },
     "metadata": {},
     "output_type": "display_data"
    }
   ],
   "source": [
    "from ebsi_wallet.siop_auth.util import (\n",
    "    perform_authorization, \n",
    "    AuthorizationRequestQueryParams,\n",
    "    get_authorization_response_query_params,\n",
    "    generate_code_challenge,\n",
    "    generate_code_verifier\n",
    ")\n",
    "import uuid\n",
    "import json\n",
    "\n",
    "state = str(uuid.uuid4())\n",
    "nonce = str(uuid.uuid4())\n",
    "code_verifier = generate_code_verifier()\n",
    "\n",
    "authorization_details = [{\"type\":\"openid_credential\",\"format\":\"jwt_vc\",\"types\":credential_offer.credentials[0].get(\"types\"),\"locations\": [\"https://api-conformance.ebsi.eu/conformance/v3/issuer-mock\"]}]\n",
    "redirect_uri = \"http://localhost:8080\"\n",
    "client_metadata = {\"vp_formats_supported\":{\"jwt_vp\":{\"alg\":[\"ES256\"]},\"jwt_vc\":{\"alg\":[\"ES256\"]}},\"response_types_supported\":[\"vp_token\",\"id_token\"],\"authorization_endpoint\":redirect_uri}\n",
    "authorization_request_query_params = AuthorizationRequestQueryParams(\n",
    "    response_type=\"code\",\n",
    "    scope=\"openid\",\n",
    "    state=state,\n",
    "    client_id=key_did._did,\n",
    "    authorization_details=json.dumps(authorization_details, separators=(',', ':')),\n",
    "    redirect_uri=redirect_uri,\n",
    "    nonce=nonce,\n",
    "    code_challenge=generate_code_challenge(code_verifier),\n",
    "    code_challenge_method=\"S256\",\n",
    "    client_metadata=json.dumps(client_metadata, separators=(',', ':')),\n",
    "    issuer_state=credential_offer.grants.get(\"authorization_code\").get(\"issuer_state\")\n",
    ")\n",
    "\n",
    "auth_resp = await perform_authorization(auth_server_configuration.authorization_endpoint, authorization_request_query_params)\n",
    "auth_resp_uri = str(auth_resp).split(\"Location': '\")[1].split(\"'\")[0]\n",
    "console.log(\"Authorization response URI: \", auth_resp_uri)\n",
    "auth_resp_query_params = get_authorization_response_query_params(auth_resp_uri)\n",
    "console.log(\"Authorization response query params: \", auth_resp_query_params)"
   ]
  },
  {
   "attachments": {},
   "cell_type": "markdown",
   "metadata": {},
   "source": [
    "## 1.3 Send ID token"
   ]
  },
  {
   "cell_type": "code",
   "execution_count": 5,
   "metadata": {},
   "outputs": [
    {
     "data": {
      "text/html": [
       "<pre style=\"white-space:pre;overflow-x:auto;line-height:normal;font-family:Menlo,'DejaVu Sans Mono',consolas,'Courier New',monospace\"><span style=\"color: #7fbfbf; text-decoration-color: #7fbfbf\">[16:09:36] </span>Authorization code:  <span style=\"color: #ffff00; text-decoration-color: #ffff00\">6981e4dc-fc04-4590-b97c-914eb3945dd8</span>                                <a href=\"file:///tmp/ipykernel_27003/1546471797.py\" target=\"_blank\"><span style=\"color: #7f7f7f; text-decoration-color: #7f7f7f\">1546471797.py</span></a><span style=\"color: #7f7f7f; text-decoration-color: #7f7f7f\">:</span><a href=\"file:///tmp/ipykernel_27003/1546471797.py#8\" target=\"_blank\"><span style=\"color: #7f7f7f; text-decoration-color: #7f7f7f\">8</span></a>\n",
       "</pre>\n"
      ],
      "text/plain": [
       "\u001b[2;36m[16:09:36]\u001b[0m\u001b[2;36m \u001b[0mAuthorization code:  \u001b[93m6981e4dc-fc04-4590-b97c-914eb3945dd8\u001b[0m                                \u001b]8;id=555895;file:///tmp/ipykernel_27003/1546471797.py\u001b\\\u001b[2m1546471797.py\u001b[0m\u001b]8;;\u001b\\\u001b[2m:\u001b[0m\u001b]8;id=118058;file:///tmp/ipykernel_27003/1546471797.py#8\u001b\\\u001b[2m8\u001b[0m\u001b]8;;\u001b\\\n"
      ]
     },
     "metadata": {},
     "output_type": "display_data"
    }
   ],
   "source": [
    "from ebsi_wallet.siop_auth.util import send_id_token_response\n",
    "\n",
    "id_token = key_did.generate_id_token(auth_server_uri=auth_resp_query_params.client_id, nonce=auth_resp_query_params.nonce)\n",
    "auth_code_response = await send_id_token_response(auth_resp_query_params.redirect_uri, id_token, auth_resp_query_params.state)\n",
    "auth_code_response = str(auth_code_response).split(\"Location': '\")[1].split(\"'\")[0]\n",
    "state = parse_query_string_parameters_from_url(auth_code_response).get(\"state\")[0]\n",
    "auth_code = parse_query_string_parameters_from_url(auth_code_response).get(\"code\")[0]\n",
    "console.log(\"Authorization code: \", auth_code)"
   ]
  },
  {
   "attachments": {},
   "cell_type": "markdown",
   "metadata": {},
   "source": [
    "## 1.4 Exchange code for access token"
   ]
  },
  {
   "cell_type": "code",
   "execution_count": 6,
   "metadata": {},
   "outputs": [
    {
     "data": {
      "text/html": [
       "<pre style=\"white-space:pre;overflow-x:auto;line-height:normal;font-family:Menlo,'DejaVu Sans Mono',consolas,'Courier New',monospace\"><span style=\"color: #7fbfbf; text-decoration-color: #7fbfbf\">[16:09:54] </span>Access token response:                                                                    <a href=\"file:///tmp/ipykernel_27003/474231906.py\" target=\"_blank\"><span style=\"color: #7f7f7f; text-decoration-color: #7f7f7f\">474231906.py</span></a><span style=\"color: #7f7f7f; text-decoration-color: #7f7f7f\">:</span><a href=\"file:///tmp/ipykernel_27003/474231906.py#5\" target=\"_blank\"><span style=\"color: #7f7f7f; text-decoration-color: #7f7f7f\">5</span></a>\n",
       "<span style=\"color: #7fbfbf; text-decoration-color: #7fbfbf\">           </span><span style=\"color: #800080; text-decoration-color: #800080; font-weight: bold\">AccessTokenResponse</span><span style=\"font-weight: bold\">(</span>                                                                      <span style=\"color: #7f7f7f; text-decoration-color: #7f7f7f\">              </span>\n",
       "<span style=\"color: #7fbfbf; text-decoration-color: #7fbfbf\">           </span>    <span style=\"color: #808000; text-decoration-color: #808000\">access_token</span>=<span style=\"color: #008000; text-decoration-color: #008000\">'eyJ0eXAiOiJKV1QiLCJhbGciOiJFUzI1NiIsImtpZCI6IkJKeTViQ1Mta1dGRUhmekczYWV</span> <span style=\"color: #7f7f7f; text-decoration-color: #7f7f7f\">              </span>\n",
       "<span style=\"color: #7fbfbf; text-decoration-color: #7fbfbf\">           </span><span style=\"color: #008000; text-decoration-color: #008000\">ZUWlGbmVOYnFDWHRkLVlaVmk3cmxpRGsifQ.eyJub25jZSI6ImJiYWRhNmM1LWY1NGMtNDg2MC1hYWUyLThhMWY0N</span> <span style=\"color: #7f7f7f; text-decoration-color: #7f7f7f\">              </span>\n",
       "<span style=\"color: #7fbfbf; text-decoration-color: #7fbfbf\">           </span><span style=\"color: #008000; text-decoration-color: #008000\">GU4NjEyYSIsImNsYWltcyI6eyJhdXRob3JpemF0aW9uX2RldGFpbHMiOlt7InR5cGUiOiJvcGVuaWRfY3JlZGVudG</span> <span style=\"color: #7f7f7f; text-decoration-color: #7f7f7f\">              </span>\n",
       "<span style=\"color: #7fbfbf; text-decoration-color: #7fbfbf\">           </span><span style=\"color: #008000; text-decoration-color: #008000\">lhbCIsImZvcm1hdCI6Imp3dF92YyIsImxvY2F0aW9ucyI6WyJodHRwczovL2FwaS1jb25mb3JtYW5jZS5lYnNpLmV</span> <span style=\"color: #7f7f7f; text-decoration-color: #7f7f7f\">              </span>\n",
       "<span style=\"color: #7fbfbf; text-decoration-color: #7fbfbf\">           </span><span style=\"color: #008000; text-decoration-color: #008000\">1L2NvbmZvcm1hbmNlL3YzL2lzc3Vlci1tb2NrIl0sInR5cGVzIjpbIlZlcmlmaWFibGVDcmVkZW50aWFsIiwiVmVy</span> <span style=\"color: #7f7f7f; text-decoration-color: #7f7f7f\">              </span>\n",
       "<span style=\"color: #7fbfbf; text-decoration-color: #7fbfbf\">           </span><span style=\"color: #008000; text-decoration-color: #008000\">aWZpYWJsZUF0dGVzdGF0aW9uIiwiQ1RXYWxsZXRDcm9zc0RlZmVycmVkIl19XSwiY19ub25jZSI6ImEyZWI1MDAxL</span> <span style=\"color: #7f7f7f; text-decoration-color: #7f7f7f\">              </span>\n",
       "<span style=\"color: #7fbfbf; text-decoration-color: #7fbfbf\">           </span><span style=\"color: #008000; text-decoration-color: #008000\">WM5MzItNDAxOS04YTJmLTA0MDRhYjNjMzcxNSIsImNfbm9uY2VfZXhwaXJlc19pbiI6ODY0MDAsImNsaWVudF9pZC</span> <span style=\"color: #7f7f7f; text-decoration-color: #7f7f7f\">              </span>\n",
       "<span style=\"color: #7fbfbf; text-decoration-color: #7fbfbf\">           </span><span style=\"color: #008000; text-decoration-color: #008000\">I6ImRpZDprZXk6ejJkbXpEODFjZ1B4OFZraTdKYnV1TW1GWXJXUGdZb3l0eWtVWjNleXFodDFqOUticHRRd29hajJ</span> <span style=\"color: #7f7f7f; text-decoration-color: #7f7f7f\">              </span>\n",
       "<span style=\"color: #7fbfbf; text-decoration-color: #7fbfbf\">           </span><span style=\"color: #008000; text-decoration-color: #008000\">WUDFTNkFoem83UkVGQ1Q0TkJUUFlkUWluQ1piQ2N5b3FXS2k5UTJ1RVczNkROU1hoQ3dpWW5HejZCQVprenl0UUFF</span> <span style=\"color: #7f7f7f; text-decoration-color: #7f7f7f\">              </span>\n",
       "<span style=\"color: #7fbfbf; text-decoration-color: #7fbfbf\">           </span><span style=\"color: #008000; text-decoration-color: #008000\">QkU1Y1BpZENHbmFkSDRTc0xEYlNaZUcyU0VDaHJxdlFwZEs0TWs4SDMydnMzQjVnOFdyN2tjYyJ9LCJpc3MiOiJod</span> <span style=\"color: #7f7f7f; text-decoration-color: #7f7f7f\">              </span>\n",
       "<span style=\"color: #7fbfbf; text-decoration-color: #7fbfbf\">           </span><span style=\"color: #008000; text-decoration-color: #008000\">HRwczovL2FwaS1jb25mb3JtYW5jZS5lYnNpLmV1L2NvbmZvcm1hbmNlL3YzL2F1dGgtbW9jayIsImF1ZCI6WyJodH</span> <span style=\"color: #7f7f7f; text-decoration-color: #7f7f7f\">              </span>\n",
       "<span style=\"color: #7fbfbf; text-decoration-color: #7fbfbf\">           </span><span style=\"color: #008000; text-decoration-color: #008000\">RwczovL2FwaS1jb25mb3JtYW5jZS5lYnNpLmV1L2NvbmZvcm1hbmNlL3YzL2lzc3Vlci1tb2NrIl0sInN1YiI6ImR</span> <span style=\"color: #7f7f7f; text-decoration-color: #7f7f7f\">              </span>\n",
       "<span style=\"color: #7fbfbf; text-decoration-color: #7fbfbf\">           </span><span style=\"color: #008000; text-decoration-color: #008000\">pZDprZXk6ejJkbXpEODFjZ1B4OFZraTdKYnV1TW1GWXJXUGdZb3l0eWtVWjNleXFodDFqOUticHRRd29hajJWUDFT</span> <span style=\"color: #7f7f7f; text-decoration-color: #7f7f7f\">              </span>\n",
       "<span style=\"color: #7fbfbf; text-decoration-color: #7fbfbf\">           </span><span style=\"color: #008000; text-decoration-color: #008000\">NkFoem83UkVGQ1Q0TkJUUFlkUWluQ1piQ2N5b3FXS2k5UTJ1RVczNkROU1hoQ3dpWW5HejZCQVprenl0UUFFQkU1Y</span> <span style=\"color: #7f7f7f; text-decoration-color: #7f7f7f\">              </span>\n",
       "<span style=\"color: #7fbfbf; text-decoration-color: #7fbfbf\">           </span><span style=\"color: #008000; text-decoration-color: #008000\">1BpZENHbmFkSDRTc0xEYlNaZUcyU0VDaHJxdlFwZEs0TWs4SDMydnMzQjVnOFdyN2tjYyIsImlhdCI6MTY4NzI1Nz</span> <span style=\"color: #7f7f7f; text-decoration-color: #7f7f7f\">              </span>\n",
       "<span style=\"color: #7fbfbf; text-decoration-color: #7fbfbf\">           </span><span style=\"color: #008000; text-decoration-color: #008000\">U5NCwiZXhwIjoxNjg3MzQzOTk0fQ.PhtdmIbnUzr0uP_w8oSZ-NhyQQmEQGsFfpfY3h0_aP6u3gHhf9hBws4S4F6_</span> <span style=\"color: #7f7f7f; text-decoration-color: #7f7f7f\">              </span>\n",
       "<span style=\"color: #7fbfbf; text-decoration-color: #7fbfbf\">           </span><span style=\"color: #008000; text-decoration-color: #008000\">cILUbLWX9-xvUYhSJ_qYdZG7hw'</span>,                                                              <span style=\"color: #7f7f7f; text-decoration-color: #7f7f7f\">              </span>\n",
       "<span style=\"color: #7fbfbf; text-decoration-color: #7fbfbf\">           </span>    <span style=\"color: #808000; text-decoration-color: #808000\">token_type</span>=<span style=\"color: #008000; text-decoration-color: #008000\">'Bearer'</span>,                                                                  <span style=\"color: #7f7f7f; text-decoration-color: #7f7f7f\">              </span>\n",
       "<span style=\"color: #7fbfbf; text-decoration-color: #7fbfbf\">           </span>    <span style=\"color: #808000; text-decoration-color: #808000\">expires_in</span>=<span style=\"color: #008080; text-decoration-color: #008080; font-weight: bold\">86400</span>,                                                                     <span style=\"color: #7f7f7f; text-decoration-color: #7f7f7f\">              </span>\n",
       "<span style=\"color: #7fbfbf; text-decoration-color: #7fbfbf\">           </span>    <span style=\"color: #808000; text-decoration-color: #808000\">id_token</span>=<span style=\"color: #008000; text-decoration-color: #008000\">'eyJ0eXAiOiJKV1QiLCJhbGciOiJFUzI1NiIsImtpZCI6IkJKeTViQ1Mta1dGRUhmekczYWVZUWl</span> <span style=\"color: #7f7f7f; text-decoration-color: #7f7f7f\">              </span>\n",
       "<span style=\"color: #7fbfbf; text-decoration-color: #7fbfbf\">           </span><span style=\"color: #008000; text-decoration-color: #008000\">GbmVOYnFDWHRkLVlaVmk3cmxpRGsifQ.eyJub25jZSI6ImEyYTA5NTEyLWYzNzEtNDRmNi1hZGRlLTQ0OWUxN2Q2N</span> <span style=\"color: #7f7f7f; text-decoration-color: #7f7f7f\">              </span>\n",
       "<span style=\"color: #7fbfbf; text-decoration-color: #7fbfbf\">           </span><span style=\"color: #008000; text-decoration-color: #008000\">jU0YSIsImlzcyI6Imh0dHBzOi8vYXBpLWNvbmZvcm1hbmNlLmVic2kuZXUvY29uZm9ybWFuY2UvdjMvYXV0aC1tb2</span> <span style=\"color: #7f7f7f; text-decoration-color: #7f7f7f\">              </span>\n",
       "<span style=\"color: #7fbfbf; text-decoration-color: #7fbfbf\">           </span><span style=\"color: #008000; text-decoration-color: #008000\">NrIiwic3ViIjoiZGlkOmtleTp6MmRtekQ4MWNnUHg4VmtpN0pidXVNbUZZcldQZ1lveXR5a1VaM2V5cWh0MWo5S2J</span> <span style=\"color: #7f7f7f; text-decoration-color: #7f7f7f\">              </span>\n",
       "<span style=\"color: #7fbfbf; text-decoration-color: #7fbfbf\">           </span><span style=\"color: #008000; text-decoration-color: #008000\">wdFF3b2FqMlZQMVM2QWh6bzdSRUZDVDROQlRQWWRRaW5DWmJDY3lvcVdLaTlRMnVFVzM2RE5TWGhDd2lZbkd6NkJB</span> <span style=\"color: #7f7f7f; text-decoration-color: #7f7f7f\">              </span>\n",
       "<span style=\"color: #7fbfbf; text-decoration-color: #7fbfbf\">           </span><span style=\"color: #008000; text-decoration-color: #008000\">Wmt6eXRRQUVCRTVjUGlkQ0duYWRINFNzTERiU1plRzJTRUNocnF2UXBkSzRNazhIMzJ2czNCNWc4V3I3a2NjIiwiY</span> <span style=\"color: #7f7f7f; text-decoration-color: #7f7f7f\">              </span>\n",
       "<span style=\"color: #7fbfbf; text-decoration-color: #7fbfbf\">           </span><span style=\"color: #008000; text-decoration-color: #008000\">XVkIjoiZGlkOmtleTp6MmRtekQ4MWNnUHg4VmtpN0pidXVNbUZZcldQZ1lveXR5a1VaM2V5cWh0MWo5S2JwdFF3b2</span> <span style=\"color: #7f7f7f; text-decoration-color: #7f7f7f\">              </span>\n",
       "<span style=\"color: #7fbfbf; text-decoration-color: #7fbfbf\">           </span><span style=\"color: #008000; text-decoration-color: #008000\">FqMlZQMVM2QWh6bzdSRUZDVDROQlRQWWRRaW5DWmJDY3lvcVdLaTlRMnVFVzM2RE5TWGhDd2lZbkd6NkJBWmt6eXR</span> <span style=\"color: #7f7f7f; text-decoration-color: #7f7f7f\">              </span>\n",
       "<span style=\"color: #7fbfbf; text-decoration-color: #7fbfbf\">           </span><span style=\"color: #008000; text-decoration-color: #008000\">RQUVCRTVjUGlkQ0duYWRINFNzTERiU1plRzJTRUNocnF2UXBkSzRNazhIMzJ2czNCNWc4V3I3a2NjIiwiaWF0Ijox</span> <span style=\"color: #7f7f7f; text-decoration-color: #7f7f7f\">              </span>\n",
       "<span style=\"color: #7fbfbf; text-decoration-color: #7fbfbf\">           </span><span style=\"color: #008000; text-decoration-color: #008000\">Njg3MjU3NTk0LCJleHAiOjE2ODcyNTc3MTR9.Tvekc62ho2TWuAkz9Cvgp_qPmvp26RwlYLxFCsdeQxq3cVG_ZawL</span> <span style=\"color: #7f7f7f; text-decoration-color: #7f7f7f\">              </span>\n",
       "<span style=\"color: #7fbfbf; text-decoration-color: #7fbfbf\">           </span><span style=\"color: #008000; text-decoration-color: #008000\">tKM17fSStfSQeZIHhdRziaUlhMQZhCgiSg'</span>,                                                      <span style=\"color: #7f7f7f; text-decoration-color: #7f7f7f\">              </span>\n",
       "<span style=\"color: #7fbfbf; text-decoration-color: #7fbfbf\">           </span>    <span style=\"color: #808000; text-decoration-color: #808000\">c_nonce</span>=<span style=\"color: #008000; text-decoration-color: #008000\">'a2eb5001-c932-4019-8a2f-0404ab3c3715'</span>,                                       <span style=\"color: #7f7f7f; text-decoration-color: #7f7f7f\">              </span>\n",
       "<span style=\"color: #7fbfbf; text-decoration-color: #7fbfbf\">           </span>    <span style=\"color: #808000; text-decoration-color: #808000\">c_nonce_expires_in</span>=<span style=\"color: #008080; text-decoration-color: #008080; font-weight: bold\">86400</span>                                                              <span style=\"color: #7f7f7f; text-decoration-color: #7f7f7f\">              </span>\n",
       "<span style=\"color: #7fbfbf; text-decoration-color: #7fbfbf\">           </span><span style=\"font-weight: bold\">)</span>                                                                                         <span style=\"color: #7f7f7f; text-decoration-color: #7f7f7f\">              </span>\n",
       "</pre>\n"
      ],
      "text/plain": [
       "\u001b[2;36m[16:09:54]\u001b[0m\u001b[2;36m \u001b[0mAccess token response:                                                                    \u001b]8;id=141477;file:///tmp/ipykernel_27003/474231906.py\u001b\\\u001b[2m474231906.py\u001b[0m\u001b]8;;\u001b\\\u001b[2m:\u001b[0m\u001b]8;id=661049;file:///tmp/ipykernel_27003/474231906.py#5\u001b\\\u001b[2m5\u001b[0m\u001b]8;;\u001b\\\n",
       "\u001b[2;36m           \u001b[0m\u001b[1;35mAccessTokenResponse\u001b[0m\u001b[1m(\u001b[0m                                                                      \u001b[2m              \u001b[0m\n",
       "\u001b[2;36m           \u001b[0m    \u001b[33maccess_token\u001b[0m=\u001b[32m'eyJ0eXAiOiJKV1QiLCJhbGciOiJFUzI1NiIsImtpZCI6IkJKeTViQ1Mta1dGRUhmekczYWV\u001b[0m \u001b[2m              \u001b[0m\n",
       "\u001b[2;36m           \u001b[0m\u001b[32mZUWlGbmVOYnFDWHRkLVlaVmk3cmxpRGsifQ.eyJub25jZSI6ImJiYWRhNmM1LWY1NGMtNDg2MC1hYWUyLThhMWY0N\u001b[0m \u001b[2m              \u001b[0m\n",
       "\u001b[2;36m           \u001b[0m\u001b[32mGU4NjEyYSIsImNsYWltcyI6eyJhdXRob3JpemF0aW9uX2RldGFpbHMiOlt7InR5cGUiOiJvcGVuaWRfY3JlZGVudG\u001b[0m \u001b[2m              \u001b[0m\n",
       "\u001b[2;36m           \u001b[0m\u001b[32mlhbCIsImZvcm1hdCI6Imp3dF92YyIsImxvY2F0aW9ucyI6WyJodHRwczovL2FwaS1jb25mb3JtYW5jZS5lYnNpLmV\u001b[0m \u001b[2m              \u001b[0m\n",
       "\u001b[2;36m           \u001b[0m\u001b[32m1L2NvbmZvcm1hbmNlL3YzL2lzc3Vlci1tb2NrIl0sInR5cGVzIjpbIlZlcmlmaWFibGVDcmVkZW50aWFsIiwiVmVy\u001b[0m \u001b[2m              \u001b[0m\n",
       "\u001b[2;36m           \u001b[0m\u001b[32maWZpYWJsZUF0dGVzdGF0aW9uIiwiQ1RXYWxsZXRDcm9zc0RlZmVycmVkIl19XSwiY19ub25jZSI6ImEyZWI1MDAxL\u001b[0m \u001b[2m              \u001b[0m\n",
       "\u001b[2;36m           \u001b[0m\u001b[32mWM5MzItNDAxOS04YTJmLTA0MDRhYjNjMzcxNSIsImNfbm9uY2VfZXhwaXJlc19pbiI6ODY0MDAsImNsaWVudF9pZC\u001b[0m \u001b[2m              \u001b[0m\n",
       "\u001b[2;36m           \u001b[0m\u001b[32mI6ImRpZDprZXk6ejJkbXpEODFjZ1B4OFZraTdKYnV1TW1GWXJXUGdZb3l0eWtVWjNleXFodDFqOUticHRRd29hajJ\u001b[0m \u001b[2m              \u001b[0m\n",
       "\u001b[2;36m           \u001b[0m\u001b[32mWUDFTNkFoem83UkVGQ1Q0TkJUUFlkUWluQ1piQ2N5b3FXS2k5UTJ1RVczNkROU1hoQ3dpWW5HejZCQVprenl0UUFF\u001b[0m \u001b[2m              \u001b[0m\n",
       "\u001b[2;36m           \u001b[0m\u001b[32mQkU1Y1BpZENHbmFkSDRTc0xEYlNaZUcyU0VDaHJxdlFwZEs0TWs4SDMydnMzQjVnOFdyN2tjYyJ9LCJpc3MiOiJod\u001b[0m \u001b[2m              \u001b[0m\n",
       "\u001b[2;36m           \u001b[0m\u001b[32mHRwczovL2FwaS1jb25mb3JtYW5jZS5lYnNpLmV1L2NvbmZvcm1hbmNlL3YzL2F1dGgtbW9jayIsImF1ZCI6WyJodH\u001b[0m \u001b[2m              \u001b[0m\n",
       "\u001b[2;36m           \u001b[0m\u001b[32mRwczovL2FwaS1jb25mb3JtYW5jZS5lYnNpLmV1L2NvbmZvcm1hbmNlL3YzL2lzc3Vlci1tb2NrIl0sInN1YiI6ImR\u001b[0m \u001b[2m              \u001b[0m\n",
       "\u001b[2;36m           \u001b[0m\u001b[32mpZDprZXk6ejJkbXpEODFjZ1B4OFZraTdKYnV1TW1GWXJXUGdZb3l0eWtVWjNleXFodDFqOUticHRRd29hajJWUDFT\u001b[0m \u001b[2m              \u001b[0m\n",
       "\u001b[2;36m           \u001b[0m\u001b[32mNkFoem83UkVGQ1Q0TkJUUFlkUWluQ1piQ2N5b3FXS2k5UTJ1RVczNkROU1hoQ3dpWW5HejZCQVprenl0UUFFQkU1Y\u001b[0m \u001b[2m              \u001b[0m\n",
       "\u001b[2;36m           \u001b[0m\u001b[32m1BpZENHbmFkSDRTc0xEYlNaZUcyU0VDaHJxdlFwZEs0TWs4SDMydnMzQjVnOFdyN2tjYyIsImlhdCI6MTY4NzI1Nz\u001b[0m \u001b[2m              \u001b[0m\n",
       "\u001b[2;36m           \u001b[0m\u001b[32mU5NCwiZXhwIjoxNjg3MzQzOTk0fQ.PhtdmIbnUzr0uP_w8oSZ-NhyQQmEQGsFfpfY3h0_aP6u3gHhf9hBws4S4F6_\u001b[0m \u001b[2m              \u001b[0m\n",
       "\u001b[2;36m           \u001b[0m\u001b[32mcILUbLWX9-xvUYhSJ_qYdZG7hw'\u001b[0m,                                                              \u001b[2m              \u001b[0m\n",
       "\u001b[2;36m           \u001b[0m    \u001b[33mtoken_type\u001b[0m=\u001b[32m'Bearer'\u001b[0m,                                                                  \u001b[2m              \u001b[0m\n",
       "\u001b[2;36m           \u001b[0m    \u001b[33mexpires_in\u001b[0m=\u001b[1;36m86400\u001b[0m,                                                                     \u001b[2m              \u001b[0m\n",
       "\u001b[2;36m           \u001b[0m    \u001b[33mid_token\u001b[0m=\u001b[32m'eyJ0eXAiOiJKV1QiLCJhbGciOiJFUzI1NiIsImtpZCI6IkJKeTViQ1Mta1dGRUhmekczYWVZUWl\u001b[0m \u001b[2m              \u001b[0m\n",
       "\u001b[2;36m           \u001b[0m\u001b[32mGbmVOYnFDWHRkLVlaVmk3cmxpRGsifQ.eyJub25jZSI6ImEyYTA5NTEyLWYzNzEtNDRmNi1hZGRlLTQ0OWUxN2Q2N\u001b[0m \u001b[2m              \u001b[0m\n",
       "\u001b[2;36m           \u001b[0m\u001b[32mjU0YSIsImlzcyI6Imh0dHBzOi8vYXBpLWNvbmZvcm1hbmNlLmVic2kuZXUvY29uZm9ybWFuY2UvdjMvYXV0aC1tb2\u001b[0m \u001b[2m              \u001b[0m\n",
       "\u001b[2;36m           \u001b[0m\u001b[32mNrIiwic3ViIjoiZGlkOmtleTp6MmRtekQ4MWNnUHg4VmtpN0pidXVNbUZZcldQZ1lveXR5a1VaM2V5cWh0MWo5S2J\u001b[0m \u001b[2m              \u001b[0m\n",
       "\u001b[2;36m           \u001b[0m\u001b[32mwdFF3b2FqMlZQMVM2QWh6bzdSRUZDVDROQlRQWWRRaW5DWmJDY3lvcVdLaTlRMnVFVzM2RE5TWGhDd2lZbkd6NkJB\u001b[0m \u001b[2m              \u001b[0m\n",
       "\u001b[2;36m           \u001b[0m\u001b[32mWmt6eXRRQUVCRTVjUGlkQ0duYWRINFNzTERiU1plRzJTRUNocnF2UXBkSzRNazhIMzJ2czNCNWc4V3I3a2NjIiwiY\u001b[0m \u001b[2m              \u001b[0m\n",
       "\u001b[2;36m           \u001b[0m\u001b[32mXVkIjoiZGlkOmtleTp6MmRtekQ4MWNnUHg4VmtpN0pidXVNbUZZcldQZ1lveXR5a1VaM2V5cWh0MWo5S2JwdFF3b2\u001b[0m \u001b[2m              \u001b[0m\n",
       "\u001b[2;36m           \u001b[0m\u001b[32mFqMlZQMVM2QWh6bzdSRUZDVDROQlRQWWRRaW5DWmJDY3lvcVdLaTlRMnVFVzM2RE5TWGhDd2lZbkd6NkJBWmt6eXR\u001b[0m \u001b[2m              \u001b[0m\n",
       "\u001b[2;36m           \u001b[0m\u001b[32mRQUVCRTVjUGlkQ0duYWRINFNzTERiU1plRzJTRUNocnF2UXBkSzRNazhIMzJ2czNCNWc4V3I3a2NjIiwiaWF0Ijox\u001b[0m \u001b[2m              \u001b[0m\n",
       "\u001b[2;36m           \u001b[0m\u001b[32mNjg3MjU3NTk0LCJleHAiOjE2ODcyNTc3MTR9.Tvekc62ho2TWuAkz9Cvgp_qPmvp26RwlYLxFCsdeQxq3cVG_ZawL\u001b[0m \u001b[2m              \u001b[0m\n",
       "\u001b[2;36m           \u001b[0m\u001b[32mtKM17fSStfSQeZIHhdRziaUlhMQZhCgiSg'\u001b[0m,                                                      \u001b[2m              \u001b[0m\n",
       "\u001b[2;36m           \u001b[0m    \u001b[33mc_nonce\u001b[0m=\u001b[32m'a2eb5001-c932-4019-8a2f-0404ab3c3715'\u001b[0m,                                       \u001b[2m              \u001b[0m\n",
       "\u001b[2;36m           \u001b[0m    \u001b[33mc_nonce_expires_in\u001b[0m=\u001b[1;36m86400\u001b[0m                                                              \u001b[2m              \u001b[0m\n",
       "\u001b[2;36m           \u001b[0m\u001b[1m)\u001b[0m                                                                                         \u001b[2m              \u001b[0m\n"
      ]
     },
     "metadata": {},
     "output_type": "display_data"
    }
   ],
   "source": [
    "from ebsi_wallet.siop_auth.util import exchange_auth_code_for_access_token\n",
    "\n",
    "token_uri = auth_resp_query_params.client_id + \"/token\"\n",
    "access_token_response = await exchange_auth_code_for_access_token(token_uri, key_did._did, auth_code, code_verifier)\n",
    "console.log(\"Access token response: \", access_token_response)"
   ]
  },
  {
   "attachments": {},
   "cell_type": "markdown",
   "metadata": {},
   "source": [
    "## 1.5 Request credential to get acceptance token to initiate deferred flow "
   ]
  },
  {
   "cell_type": "code",
   "execution_count": 7,
   "metadata": {},
   "outputs": [
    {
     "data": {
      "text/html": [
       "<pre style=\"white-space:pre;overflow-x:auto;line-height:normal;font-family:Menlo,'DejaVu Sans Mono',consolas,'Courier New',monospace\"><span style=\"color: #7fbfbf; text-decoration-color: #7fbfbf\">[16:10:10] </span>Credential request JWT:                                                                   <a href=\"file:///tmp/ipykernel_27003/380321948.py\" target=\"_blank\"><span style=\"color: #7f7f7f; text-decoration-color: #7f7f7f\">380321948.py</span></a><span style=\"color: #7f7f7f; text-decoration-color: #7f7f7f\">:</span><a href=\"file:///tmp/ipykernel_27003/380321948.py#4\" target=\"_blank\"><span style=\"color: #7f7f7f; text-decoration-color: #7f7f7f\">4</span></a>\n",
       "<span style=\"color: #7fbfbf; text-decoration-color: #7fbfbf\">           </span>eyJhbGciOiJFUzI1NiIsImtpZCI6ImRpZDprZXk6ejJkbXpEODFjZ1B4OFZraTdKYnV1TW1GWXJXUGdZb3l0eWtVW <span style=\"color: #7f7f7f; text-decoration-color: #7f7f7f\">              </span>\n",
       "<span style=\"color: #7fbfbf; text-decoration-color: #7fbfbf\">           </span>jNleXFodDFqOUticHRRd29hajJWUDFTNkFoem83UkVGQ1Q0TkJUUFlkUWluQ1piQ2N5b3FXS2k5UTJ1RVczNkROU1 <span style=\"color: #7f7f7f; text-decoration-color: #7f7f7f\">              </span>\n",
       "<span style=\"color: #7fbfbf; text-decoration-color: #7fbfbf\">           </span>hoQ3dpWW5HejZCQVprenl0UUFFQkU1Y1BpZENHbmFkSDRTc<span style=\"color: #008080; text-decoration-color: #008080; font-weight: bold\">0xE</span>YlNaZUcyU0VDaHJxdlFwZEs0TWs4SDMydnMzQjV <span style=\"color: #7f7f7f; text-decoration-color: #7f7f7f\">              </span>\n",
       "<span style=\"color: #7fbfbf; text-decoration-color: #7fbfbf\">           </span>nOFdyN2tjYyN6MmRtekQ4MWNnUHg4VmtpN0pidXVNbUZZcldQZ1lveXR5a1VaM2V5cWh0MWo5S2JwdFF3b2FqMlZQ <span style=\"color: #7f7f7f; text-decoration-color: #7f7f7f\">              </span>\n",
       "<span style=\"color: #7fbfbf; text-decoration-color: #7fbfbf\">           </span>MVM2QWh6bzdSRUZDVDROQlRQWWRRaW5DWmJDY3lvcVdLaTlRMnVFVzM2RE5TWGhDd2lZbkd6NkJBWmt6eXRRQUVCR <span style=\"color: #7f7f7f; text-decoration-color: #7f7f7f\">              </span>\n",
       "<span style=\"color: #7fbfbf; text-decoration-color: #7fbfbf\">           </span>TVjUGlkQ0duYWRINFNzTERiU1plRzJTRUNocnF2UXBkSzRNazhIMzJ2czNCNWc4V3I3a2NjIiwidHlwIjoib3Blbm <span style=\"color: #7f7f7f; text-decoration-color: #7f7f7f\">              </span>\n",
       "<span style=\"color: #7fbfbf; text-decoration-color: #7fbfbf\">           </span>lkNHZjaS1wcm9vZitqd3QifQ.eyJhdWQiOiJodHRwczovL2FwaS1jb25mb3JtYW5jZS5lYnNpLmV1L2NvbmZvcm1h <span style=\"color: #7f7f7f; text-decoration-color: #7f7f7f\">              </span>\n",
       "<span style=\"color: #7fbfbf; text-decoration-color: #7fbfbf\">           </span>bmNlL3YzL2lzc3Vlci1tb2NrIiwiZXhwIjoxNjg3MzQ0MDEwLCJpYXQiOjE2ODcyNTc2MTAsImlzcyI6ImRpZDprZ <span style=\"color: #7f7f7f; text-decoration-color: #7f7f7f\">              </span>\n",
       "<span style=\"color: #7fbfbf; text-decoration-color: #7fbfbf\">           </span>Xk6ejJkbXpEODFjZ1B4OFZraTdKYnV1TW1GWXJXUGdZb3l0eWtVWjNleXFodDFqOUticHRRd29hajJWUDFTNkFoem <span style=\"color: #7f7f7f; text-decoration-color: #7f7f7f\">              </span>\n",
       "<span style=\"color: #7fbfbf; text-decoration-color: #7fbfbf\">           </span>83UkVGQ1Q0TkJUUFlkUWluQ1piQ2N5b3FXS2k5UTJ1RVczNkROU1hoQ3dpWW5HejZCQVprenl0UUFFQkU1Y1BpZEN <span style=\"color: #7f7f7f; text-decoration-color: #7f7f7f\">              </span>\n",
       "<span style=\"color: #7fbfbf; text-decoration-color: #7fbfbf\">           </span>HbmFkSDRTc<span style=\"color: #008080; text-decoration-color: #008080; font-weight: bold\">0xE</span>YlNaZUcyU0VDaHJxdlFwZEs0TWs4SDMydnMzQjVnOFdyN2tjYyIsIm5vbmNlIjoiYTJlYjUwMDEt <span style=\"color: #7f7f7f; text-decoration-color: #7f7f7f\">              </span>\n",
       "<span style=\"color: #7fbfbf; text-decoration-color: #7fbfbf\">           </span>YzkzMi00MDE5LThhMmYtMDQwNGFiM2MzNzE1In0.TMZ0_WkUUx42sQXnkWejbUM5CfLkw8KaqHiePiSFrYiRzP3R0 <span style=\"color: #7f7f7f; text-decoration-color: #7f7f7f\">              </span>\n",
       "<span style=\"color: #7fbfbf; text-decoration-color: #7fbfbf\">           </span>cayxumTNMM_lx4D1aKN6xLCscpNoXew5LwhHw                                                     <span style=\"color: #7f7f7f; text-decoration-color: #7f7f7f\">              </span>\n",
       "</pre>\n"
      ],
      "text/plain": [
       "\u001b[2;36m[16:10:10]\u001b[0m\u001b[2;36m \u001b[0mCredential request JWT:                                                                   \u001b]8;id=358038;file:///tmp/ipykernel_27003/380321948.py\u001b\\\u001b[2m380321948.py\u001b[0m\u001b]8;;\u001b\\\u001b[2m:\u001b[0m\u001b]8;id=215627;file:///tmp/ipykernel_27003/380321948.py#4\u001b\\\u001b[2m4\u001b[0m\u001b]8;;\u001b\\\n",
       "\u001b[2;36m           \u001b[0meyJhbGciOiJFUzI1NiIsImtpZCI6ImRpZDprZXk6ejJkbXpEODFjZ1B4OFZraTdKYnV1TW1GWXJXUGdZb3l0eWtVW \u001b[2m              \u001b[0m\n",
       "\u001b[2;36m           \u001b[0mjNleXFodDFqOUticHRRd29hajJWUDFTNkFoem83UkVGQ1Q0TkJUUFlkUWluQ1piQ2N5b3FXS2k5UTJ1RVczNkROU1 \u001b[2m              \u001b[0m\n",
       "\u001b[2;36m           \u001b[0mhoQ3dpWW5HejZCQVprenl0UUFFQkU1Y1BpZENHbmFkSDRTc\u001b[1;36m0xE\u001b[0mYlNaZUcyU0VDaHJxdlFwZEs0TWs4SDMydnMzQjV \u001b[2m              \u001b[0m\n",
       "\u001b[2;36m           \u001b[0mnOFdyN2tjYyN6MmRtekQ4MWNnUHg4VmtpN0pidXVNbUZZcldQZ1lveXR5a1VaM2V5cWh0MWo5S2JwdFF3b2FqMlZQ \u001b[2m              \u001b[0m\n",
       "\u001b[2;36m           \u001b[0mMVM2QWh6bzdSRUZDVDROQlRQWWRRaW5DWmJDY3lvcVdLaTlRMnVFVzM2RE5TWGhDd2lZbkd6NkJBWmt6eXRRQUVCR \u001b[2m              \u001b[0m\n",
       "\u001b[2;36m           \u001b[0mTVjUGlkQ0duYWRINFNzTERiU1plRzJTRUNocnF2UXBkSzRNazhIMzJ2czNCNWc4V3I3a2NjIiwidHlwIjoib3Blbm \u001b[2m              \u001b[0m\n",
       "\u001b[2;36m           \u001b[0mlkNHZjaS1wcm9vZitqd3QifQ.eyJhdWQiOiJodHRwczovL2FwaS1jb25mb3JtYW5jZS5lYnNpLmV1L2NvbmZvcm1h \u001b[2m              \u001b[0m\n",
       "\u001b[2;36m           \u001b[0mbmNlL3YzL2lzc3Vlci1tb2NrIiwiZXhwIjoxNjg3MzQ0MDEwLCJpYXQiOjE2ODcyNTc2MTAsImlzcyI6ImRpZDprZ \u001b[2m              \u001b[0m\n",
       "\u001b[2;36m           \u001b[0mXk6ejJkbXpEODFjZ1B4OFZraTdKYnV1TW1GWXJXUGdZb3l0eWtVWjNleXFodDFqOUticHRRd29hajJWUDFTNkFoem \u001b[2m              \u001b[0m\n",
       "\u001b[2;36m           \u001b[0m83UkVGQ1Q0TkJUUFlkUWluQ1piQ2N5b3FXS2k5UTJ1RVczNkROU1hoQ3dpWW5HejZCQVprenl0UUFFQkU1Y1BpZEN \u001b[2m              \u001b[0m\n",
       "\u001b[2;36m           \u001b[0mHbmFkSDRTc\u001b[1;36m0xE\u001b[0mYlNaZUcyU0VDaHJxdlFwZEs0TWs4SDMydnMzQjVnOFdyN2tjYyIsIm5vbmNlIjoiYTJlYjUwMDEt \u001b[2m              \u001b[0m\n",
       "\u001b[2;36m           \u001b[0mYzkzMi00MDE5LThhMmYtMDQwNGFiM2MzNzE1In0.TMZ0_WkUUx42sQXnkWejbUM5CfLkw8KaqHiePiSFrYiRzP3R0 \u001b[2m              \u001b[0m\n",
       "\u001b[2;36m           \u001b[0mcayxumTNMM_lx4D1aKN6xLCscpNoXew5LwhHw                                                     \u001b[2m              \u001b[0m\n"
      ]
     },
     "metadata": {},
     "output_type": "display_data"
    },
    {
     "data": {
      "text/html": [
       "<pre style=\"white-space:pre;overflow-x:auto;line-height:normal;font-family:Menlo,'DejaVu Sans Mono',consolas,'Courier New',monospace\"><span style=\"color: #7fbfbf; text-decoration-color: #7fbfbf\">[16:10:11] </span>Acceptance token response:                                                                <a href=\"file:///tmp/ipykernel_27003/380321948.py\" target=\"_blank\"><span style=\"color: #7f7f7f; text-decoration-color: #7f7f7f\">380321948.py</span></a><span style=\"color: #7f7f7f; text-decoration-color: #7f7f7f\">:</span><a href=\"file:///tmp/ipykernel_27003/380321948.py#6\" target=\"_blank\"><span style=\"color: #7f7f7f; text-decoration-color: #7f7f7f\">6</span></a>\n",
       "<span style=\"color: #7fbfbf; text-decoration-color: #7fbfbf\">           </span><span style=\"font-weight: bold\">{</span><span style=\"color: #008000; text-decoration-color: #008000\">'acceptance_token'</span>: <span style=\"color: #008000; text-decoration-color: #008000\">'gQm4WYEdjZtQx-zxwlLSSIGN-Oq-tZ8rex24gToN6i4'</span><span style=\"font-weight: bold\">}</span>                       <span style=\"color: #7f7f7f; text-decoration-color: #7f7f7f\">              </span>\n",
       "</pre>\n"
      ],
      "text/plain": [
       "\u001b[2;36m[16:10:11]\u001b[0m\u001b[2;36m \u001b[0mAcceptance token response:                                                                \u001b]8;id=847348;file:///tmp/ipykernel_27003/380321948.py\u001b\\\u001b[2m380321948.py\u001b[0m\u001b]8;;\u001b\\\u001b[2m:\u001b[0m\u001b]8;id=853606;file:///tmp/ipykernel_27003/380321948.py#6\u001b\\\u001b[2m6\u001b[0m\u001b]8;;\u001b\\\n",
       "\u001b[2;36m           \u001b[0m\u001b[1m{\u001b[0m\u001b[32m'acceptance_token'\u001b[0m: \u001b[32m'gQm4WYEdjZtQx-zxwlLSSIGN-Oq-tZ8rex24gToN6i4'\u001b[0m\u001b[1m}\u001b[0m                       \u001b[2m              \u001b[0m\n"
      ]
     },
     "metadata": {},
     "output_type": "display_data"
    }
   ],
   "source": [
    "from ebsi_wallet.siop_auth.util import send_credential_request\n",
    "\n",
    "credential_request_jwt = key_did.generate_credential_request(credential_issuer_configuration.credential_issuer, access_token_response.c_nonce)\n",
    "console.log(\"Credential request JWT: \", credential_request_jwt)\n",
    "acceptance_token_response = await send_credential_request(credential_issuer_configuration.credential_endpoint, access_token_response.access_token, credential_request_jwt, credential_offer.credentials[0].get(\"types\"))\n",
    "console.log(\"Acceptance token response: \", acceptance_token_response)## 1.6 Request credential using deferred endpoint"
   ]
  },
  {
   "attachments": {},
   "cell_type": "markdown",
   "metadata": {},
   "source": [
    "## 1.6 Request credential using deferred endpoint"
   ]
  },
  {
   "cell_type": "code",
   "execution_count": 8,
   "metadata": {},
   "outputs": [
    {
     "data": {
      "text/html": [
       "<pre style=\"white-space:pre;overflow-x:auto;line-height:normal;font-family:Menlo,'DejaVu Sans Mono',consolas,'Courier New',monospace\"><span style=\"color: #7fbfbf; text-decoration-color: #7fbfbf\">[16:10:16] </span>Waiting for <span style=\"color: #008080; text-decoration-color: #008080; font-weight: bold\">5</span> seconds<span style=\"color: #808000; text-decoration-color: #808000\">...</span>                                                                 <a href=\"file:///tmp/ipykernel_27003/1677177840.py\" target=\"_blank\"><span style=\"color: #7f7f7f; text-decoration-color: #7f7f7f\">1677177840.py</span></a><span style=\"color: #7f7f7f; text-decoration-color: #7f7f7f\">:</span><a href=\"file:///tmp/ipykernel_27003/1677177840.py#4\" target=\"_blank\"><span style=\"color: #7f7f7f; text-decoration-color: #7f7f7f\">4</span></a>\n",
       "</pre>\n"
      ],
      "text/plain": [
       "\u001b[2;36m[16:10:16]\u001b[0m\u001b[2;36m \u001b[0mWaiting for \u001b[1;36m5\u001b[0m seconds\u001b[33m...\u001b[0m                                                                 \u001b]8;id=330252;file:///tmp/ipykernel_27003/1677177840.py\u001b\\\u001b[2m1677177840.py\u001b[0m\u001b]8;;\u001b\\\u001b[2m:\u001b[0m\u001b]8;id=615725;file:///tmp/ipykernel_27003/1677177840.py#4\u001b\\\u001b[2m4\u001b[0m\u001b]8;;\u001b\\\n"
      ]
     },
     "metadata": {},
     "output_type": "display_data"
    },
    {
     "data": {
      "text/html": [
       "<pre style=\"white-space:pre;overflow-x:auto;line-height:normal;font-family:Menlo,'DejaVu Sans Mono',consolas,'Courier New',monospace\"><span style=\"color: #7fbfbf; text-decoration-color: #7fbfbf\">[16:10:21] </span>Sending deferred credential request<span style=\"color: #808000; text-decoration-color: #808000\">...</span>                                                   <a href=\"file:///tmp/ipykernel_27003/1677177840.py\" target=\"_blank\"><span style=\"color: #7f7f7f; text-decoration-color: #7f7f7f\">1677177840.py</span></a><span style=\"color: #7f7f7f; text-decoration-color: #7f7f7f\">:</span><a href=\"file:///tmp/ipykernel_27003/1677177840.py#6\" target=\"_blank\"><span style=\"color: #7f7f7f; text-decoration-color: #7f7f7f\">6</span></a>\n",
       "</pre>\n"
      ],
      "text/plain": [
       "\u001b[2;36m[16:10:21]\u001b[0m\u001b[2;36m \u001b[0mSending deferred credential request\u001b[33m...\u001b[0m                                                   \u001b]8;id=151371;file:///tmp/ipykernel_27003/1677177840.py\u001b\\\u001b[2m1677177840.py\u001b[0m\u001b]8;;\u001b\\\u001b[2m:\u001b[0m\u001b]8;id=280052;file:///tmp/ipykernel_27003/1677177840.py#6\u001b\\\u001b[2m6\u001b[0m\u001b]8;;\u001b\\\n"
      ]
     },
     "metadata": {},
     "output_type": "display_data"
    },
    {
     "name": "stdout",
     "output_type": "stream",
     "text": [
      "Credential response:  {'format': 'jwt_vc', 'credential': 'eyJhbGciOiJFUzI1NiIsInR5cCI6IkpXVCIsImtpZCI6ImRpZDplYnNpOnpoSkFSalBONjljRXRnUHhIZW4xTWlkI3VPa3Y1TE9pbzlYQnE2a1JRaHNaMHpOTVZ1czBjNFZqcFB0cDY1dTVjWXcifQ.eyJqdGkiOiJ2YzplYnNpOmNvbmZvcm1hbmNlI2Q3ZmQ0ODM0LWZiYWQtNGFhNy05YWRkLWQyNTVhYThhNWQ0YyIsInN1YiI6ImRpZDprZXk6ejJkbXpEODFjZ1B4OFZraTdKYnV1TW1GWXJXUGdZb3l0eWtVWjNleXFodDFqOUticHRRd29hajJWUDFTNkFoem83UkVGQ1Q0TkJUUFlkUWluQ1piQ2N5b3FXS2k5UTJ1RVczNkROU1hoQ3dpWW5HejZCQVprenl0UUFFQkU1Y1BpZENHbmFkSDRTc0xEYlNaZUcyU0VDaHJxdlFwZEs0TWs4SDMydnMzQjVnOFdyN2tjYyIsImlzcyI6ImRpZDplYnNpOnpoSkFSalBONjljRXRnUHhIZW4xTWlkIiwibmJmIjoxNjg3MjU3NjExLCJleHAiOjE2ODczNDQwMTEsImlhdCI6MTY4NzI1NzYxMSwidmMiOnsiQGNvbnRleHQiOlsiaHR0cHM6Ly93d3cudzMub3JnLzIwMTgvY3JlZGVudGlhbHMvdjEiXSwiaWQiOiJ2YzplYnNpOmNvbmZvcm1hbmNlI2Q3ZmQ0ODM0LWZiYWQtNGFhNy05YWRkLWQyNTVhYThhNWQ0YyIsInR5cGUiOlsiVmVyaWZpYWJsZUNyZWRlbnRpYWwiLCJWZXJpZmlhYmxlQXR0ZXN0YXRpb24iLCJDVFdhbGxldENyb3NzRGVmZXJyZWQiXSwiaXNzdWVyIjoiZGlkOmVic2k6emhKQVJqUE42OWNFdGdQeEhlbjFNaWQiLCJpc3N1YW5jZURhdGUiOiIyMDIzLTA2LTIwVDEwOjQwOjExWiIsImlzc3VlZCI6IjIwMjMtMDYtMjBUMTA6NDA6MTFaIiwidmFsaWRGcm9tIjoiMjAyMy0wNi0yMFQxMDo0MDoxMVoiLCJleHBpcmF0aW9uRGF0ZSI6IjIwMjMtMDYtMjFUMTA6NDA6MTFaIiwiY3JlZGVudGlhbFN1YmplY3QiOnsiaWQiOiJkaWQ6a2V5OnoyZG16RDgxY2dQeDhWa2k3SmJ1dU1tRllyV1BnWW95dHlrVVozZXlxaHQxajlLYnB0UXdvYWoyVlAxUzZBaHpvN1JFRkNUNE5CVFBZZFFpbkNaYkNjeW9xV0tpOVEydUVXMzZETlNYaEN3aVluR3o2QkFaa3p5dFFBRUJFNWNQaWRDR25hZEg0U3NMRGJTWmVHMlNFQ2hycXZRcGRLNE1rOEgzMnZzM0I1ZzhXcjdrY2MifSwiY3JlZGVudGlhbFNjaGVtYSI6eyJpZCI6Imh0dHBzOi8vYXBpLWNvbmZvcm1hbmNlLmVic2kuZXUvdHJ1c3RlZC1zY2hlbWFzLXJlZ2lzdHJ5L3YyL3NjaGVtYXMvejNNZ1VGVWtiNzIydXE0eDNkdjV5QUptbk5tekRGZUs1VUM4eDgzUW9lTEpNIiwidHlwZSI6IkZ1bGxKc29uU2NoZW1hVmFsaWRhdG9yMjAyMSJ9LCJ0ZXJtc09mVXNlIjp7ImlkIjoiaHR0cHM6Ly9hcGktY29uZm9ybWFuY2UuZWJzaS5ldS90cnVzdGVkLWlzc3VlcnMtcmVnaXN0cnkvdjQvaXNzdWVycy9kaWQ6ZWJzaTp6aEpBUmpQTjY5Y0V0Z1B4SGVuMU1pZC9hdHRyaWJ1dGVzL2YxYWNiMzc1ZmNmYmUxMWE2MDAzZDViNzEwYmYzN2VjYjI3ODJjMTFhNGU0Mjg1NzAxMzM3NzMyYzI2NjRkMDAiLCJ0eXBlIjoiSXNzdWFuY2VDZXJ0aWZpY2F0ZSJ9fX0.la_G8YtJv--_YCjTswjhyk5wg9UHtL2PtqS68Weq-pv7PLaRyX_6kgseKrOtOWyh3OuNE47FLbOWY0LRdPWoTA'}\n"
     ]
    }
   ],
   "source": [
    "from ebsi_wallet.siop_auth.util import send_deferred_credential_request\n",
    "from time import sleep\n",
    "\n",
    "console.log(\"Waiting for 5 seconds...\")\n",
    "sleep(5)\n",
    "console.log(\"Sending deferred credential request...\")\n",
    "credential_response = await send_deferred_credential_request(credential_issuer_configuration.deferred_credential_endpoint, acceptance_token_response.get(\"acceptance_token\"))\n",
    "print(\"Credential response: \", credential_response)"
   ]
  }
 ],
 "metadata": {
  "kernelspec": {
   "display_name": "ebsi-wallet-NqTUFGRW-py3.10",
   "language": "python",
   "name": "python3"
  },
  "language_info": {
   "codemirror_mode": {
    "name": "ipython",
    "version": 3
   },
   "file_extension": ".py",
   "mimetype": "text/x-python",
   "name": "python",
   "nbconvert_exporter": "python",
   "pygments_lexer": "ipython3",
   "version": "3.10.6"
  },
  "orig_nbformat": 4
 },
 "nbformat": 4,
 "nbformat_minor": 2
}
