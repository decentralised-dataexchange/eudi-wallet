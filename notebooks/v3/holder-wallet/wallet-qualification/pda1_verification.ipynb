{
 "cells": [
  {
   "attachments": {},
   "cell_type": "markdown",
   "metadata": {},
   "source": [
    "# PDA1 verification"
   ]
  },
  {
   "attachments": {},
   "cell_type": "markdown",
   "metadata": {},
   "source": [
    "# 0.0 Initial setup"
   ]
  },
  {
   "attachments": {},
   "cell_type": "markdown",
   "metadata": {},
   "source": [
    "## 0.1 Setup conformance"
   ]
  },
  {
   "cell_type": "code",
   "execution_count": 6,
   "metadata": {},
   "outputs": [],
   "source": [
    "import uuid\n",
    "import asyncio\n",
    "from rich.console import Console\n",
    "\n",
    "console = Console()\n",
    "\n",
    "loop = asyncio.get_event_loop()"
   ]
  },
  {
   "attachments": {},
   "cell_type": "markdown",
   "metadata": {},
   "source": [
    "## 0.2 Create did:key:jwk_jcs-pub identifier using ES256 algorithm"
   ]
  },
  {
   "cell_type": "code",
   "execution_count": 7,
   "metadata": {},
   "outputs": [
    {
     "name": "stdout",
     "output_type": "stream",
     "text": [
      "Decentralised identifier:  did:key:z2dmzD81cgPx8Vki7JbuuMmFYrWPgYoytykUZ3eyqht1j9Kbowo1MYpCJwNfzfFggXuWxdPAdAWhkp9XskU2cir7r21AxqN2TMvMTUS1FmaNWLm2esa8FLwZ35i5mRzUygDQdZRS1gC42Am9Doyh68Hp1Ksap9e9xzebDYFhhLgXTksgnG\n"
     ]
    }
   ],
   "source": [
    "from eudi_wallet.did_key import KeyDid, PublicKeyJWK\n",
    "import uuid\n",
    "\n",
    "# generate crypto seed\n",
    "crypto_seed = b'ebsitests'\n",
    "\n",
    "key_did = KeyDid(seed=crypto_seed)\n",
    "\n",
    "# generate keypair\n",
    "key_did.create_keypair()\n",
    "\n",
    "# create public key jwk\n",
    "public_key_jwk = PublicKeyJWK(\n",
    "    kty=key_did.public_key_jwk['kty'],\n",
    "    crv=key_did.public_key_jwk['crv'],\n",
    "    x=key_did.public_key_jwk['x'],\n",
    "    y=key_did.public_key_jwk['y']\n",
    ")\n",
    "\n",
    "# generate did\n",
    "key_did.generate_did(public_key_jwk)\n",
    "\n",
    "print(\"Decentralised identifier: \", key_did._did)"
   ]
  },
  {
   "attachments": {},
   "cell_type": "markdown",
   "metadata": {},
   "source": [
    "## 1.1 Initiate Credential Issuance"
   ]
  },
  {
   "cell_type": "code",
   "execution_count": 41,
   "metadata": {},
   "outputs": [
    {
     "data": {
      "text/html": [
       "<pre style=\"white-space:pre;overflow-x:auto;line-height:normal;font-family:Menlo,'DejaVu Sans Mono',consolas,'Courier New',monospace\"><span style=\"color: #7fbfbf; text-decoration-color: #7fbfbf\">[14:08:53] </span>VP token request:                                                                        <a href=\"file:///tmp/ipykernel_33540/3730142111.py\" target=\"_blank\"><span style=\"color: #7f7f7f; text-decoration-color: #7f7f7f\">3730142111.py</span></a><span style=\"color: #7f7f7f; text-decoration-color: #7f7f7f\">:</span><a href=\"file:///tmp/ipykernel_33540/3730142111.py#7\" target=\"_blank\"><span style=\"color: #7f7f7f; text-decoration-color: #7f7f7f\">7</span></a>\n",
       "<span style=\"color: #7fbfbf; text-decoration-color: #7fbfbf\">           </span><span style=\"font-weight: bold\">{</span>                                                                                        <span style=\"color: #7f7f7f; text-decoration-color: #7f7f7f\">               </span>\n",
       "<span style=\"color: #7fbfbf; text-decoration-color: #7fbfbf\">           </span>    <span style=\"color: #008000; text-decoration-color: #008000\">'client_id'</span>: <span style=\"font-weight: bold\">[</span><span style=\"color: #008000; text-decoration-color: #008000\">'https://staging-eudi-wallet.igrant.io'</span><span style=\"font-weight: bold\">]</span>,                              <span style=\"color: #7f7f7f; text-decoration-color: #7f7f7f\">               </span>\n",
       "<span style=\"color: #7fbfbf; text-decoration-color: #7fbfbf\">           </span>    <span style=\"color: #008000; text-decoration-color: #008000\">'response_type'</span>: <span style=\"font-weight: bold\">[</span><span style=\"color: #008000; text-decoration-color: #008000\">'vp_token'</span><span style=\"font-weight: bold\">]</span>,                                                       <span style=\"color: #7f7f7f; text-decoration-color: #7f7f7f\">               </span>\n",
       "<span style=\"color: #7fbfbf; text-decoration-color: #7fbfbf\">           </span>    <span style=\"color: #008000; text-decoration-color: #008000\">'scope'</span>: <span style=\"font-weight: bold\">[</span><span style=\"color: #008000; text-decoration-color: #008000\">'openid'</span><span style=\"font-weight: bold\">]</span>,                                                                 <span style=\"color: #7f7f7f; text-decoration-color: #7f7f7f\">               </span>\n",
       "<span style=\"color: #7fbfbf; text-decoration-color: #7fbfbf\">           </span>    <span style=\"color: #008000; text-decoration-color: #008000\">'redirect_uri'</span>: <span style=\"font-weight: bold\">[</span><span style=\"color: #008000; text-decoration-color: #008000\">'https://staging-eudi-wallet.igrant.io/direct_post'</span><span style=\"font-weight: bold\">]</span>,               <span style=\"color: #7f7f7f; text-decoration-color: #7f7f7f\">               </span>\n",
       "<span style=\"color: #7fbfbf; text-decoration-color: #7fbfbf\">           </span>    <span style=\"color: #008000; text-decoration-color: #008000\">'request_uri'</span>: <span style=\"font-weight: bold\">[</span>                                                                     <span style=\"color: #7f7f7f; text-decoration-color: #7f7f7f\">               </span>\n",
       "<span style=\"color: #7fbfbf; text-decoration-color: #7fbfbf\">           </span>        <span style=\"color: #008000; text-decoration-color: #008000\">'https://staging-eudi-wallet.igrant.io/verifiable-presentation/bae9a2e2-e3d4-478</span> <span style=\"color: #7f7f7f; text-decoration-color: #7f7f7f\">               </span>\n",
       "<span style=\"color: #7fbfbf; text-decoration-color: #7fbfbf\">           </span><span style=\"color: #008000; text-decoration-color: #008000\">9-b912-f4e53034da3d'</span>                                                                     <span style=\"color: #7f7f7f; text-decoration-color: #7f7f7f\">               </span>\n",
       "<span style=\"color: #7fbfbf; text-decoration-color: #7fbfbf\">           </span>    <span style=\"font-weight: bold\">]</span>,                                                                                   <span style=\"color: #7f7f7f; text-decoration-color: #7f7f7f\">               </span>\n",
       "<span style=\"color: #7fbfbf; text-decoration-color: #7fbfbf\">           </span>    <span style=\"color: #008000; text-decoration-color: #008000\">'response_mode'</span>: <span style=\"font-weight: bold\">[</span><span style=\"color: #008000; text-decoration-color: #008000\">'direct_post'</span><span style=\"font-weight: bold\">]</span>,                                                    <span style=\"color: #7f7f7f; text-decoration-color: #7f7f7f\">               </span>\n",
       "<span style=\"color: #7fbfbf; text-decoration-color: #7fbfbf\">           </span>    <span style=\"color: #008000; text-decoration-color: #008000\">'state'</span>: <span style=\"font-weight: bold\">[</span><span style=\"color: #008000; text-decoration-color: #008000\">'b4340e6b-4f48-4660-8025-61ee420958d3'</span><span style=\"font-weight: bold\">]</span>,                                   <span style=\"color: #7f7f7f; text-decoration-color: #7f7f7f\">               </span>\n",
       "<span style=\"color: #7fbfbf; text-decoration-color: #7fbfbf\">           </span>    <span style=\"color: #008000; text-decoration-color: #008000\">'nonce'</span>: <span style=\"font-weight: bold\">[</span><span style=\"color: #008000; text-decoration-color: #008000\">'2045c3ce-bbe7-4429-8294-aae7bb44b13c'</span><span style=\"font-weight: bold\">]</span>,                                   <span style=\"color: #7f7f7f; text-decoration-color: #7f7f7f\">               </span>\n",
       "<span style=\"color: #7fbfbf; text-decoration-color: #7fbfbf\">           </span>    <span style=\"color: #008000; text-decoration-color: #008000\">'presentation_definition'</span>: <span style=\"font-weight: bold\">[</span>                                                         <span style=\"color: #7f7f7f; text-decoration-color: #7f7f7f\">               </span>\n",
       "<span style=\"color: #7fbfbf; text-decoration-color: #7fbfbf\">           </span>        <span style=\"color: #008000; text-decoration-color: #008000\">'{\"id\": \"ea516a3b-0502-4ef8-a217-a0453284c39b\", \"format\": {\"jwt_vc\": {\"alg\": </span>    <span style=\"color: #7f7f7f; text-decoration-color: #7f7f7f\">               </span>\n",
       "<span style=\"color: #7fbfbf; text-decoration-color: #7fbfbf\">           </span><span style=\"color: #008000; text-decoration-color: #008000\">[\"ES256\"]}, \"jwt_vp\": {\"alg\": [\"ES256\"]}}, \"input_descriptors\": [{\"id\": </span>                 <span style=\"color: #7f7f7f; text-decoration-color: #7f7f7f\">               </span>\n",
       "<span style=\"color: #7fbfbf; text-decoration-color: #7fbfbf\">           </span><span style=\"color: #008000; text-decoration-color: #008000\">\"cbdb4122-209c-49b2-be89-9c6ffd26fe4e\", \"constraints\": {\"fields\": [{\"path\": [\"$.type\"], </span> <span style=\"color: #7f7f7f; text-decoration-color: #7f7f7f\">               </span>\n",
       "<span style=\"color: #7fbfbf; text-decoration-color: #7fbfbf\">           </span><span style=\"color: #008000; text-decoration-color: #008000\">\"filter\": {\"type\": \"array\", \"contains\": {\"const\": </span>                                       <span style=\"color: #7f7f7f; text-decoration-color: #7f7f7f\">               </span>\n",
       "<span style=\"color: #7fbfbf; text-decoration-color: #7fbfbf\">           </span><span style=\"color: #008000; text-decoration-color: #008000\">\"VerifiablePortableDocumentA1\"}}}]}}]}'</span>                                                  <span style=\"color: #7f7f7f; text-decoration-color: #7f7f7f\">               </span>\n",
       "<span style=\"color: #7fbfbf; text-decoration-color: #7fbfbf\">           </span>    <span style=\"font-weight: bold\">]</span>                                                                                    <span style=\"color: #7f7f7f; text-decoration-color: #7f7f7f\">               </span>\n",
       "<span style=\"color: #7fbfbf; text-decoration-color: #7fbfbf\">           </span><span style=\"font-weight: bold\">}</span>                                                                                        <span style=\"color: #7f7f7f; text-decoration-color: #7f7f7f\">               </span>\n",
       "</pre>\n"
      ],
      "text/plain": [
       "\u001b[2;36m[14:08:53]\u001b[0m\u001b[2;36m \u001b[0mVP token request:                                                                        \u001b]8;id=335780;file:///tmp/ipykernel_33540/3730142111.py\u001b\\\u001b[2m3730142111.py\u001b[0m\u001b]8;;\u001b\\\u001b[2m:\u001b[0m\u001b]8;id=471186;file:///tmp/ipykernel_33540/3730142111.py#7\u001b\\\u001b[2m7\u001b[0m\u001b]8;;\u001b\\\n",
       "\u001b[2;36m           \u001b[0m\u001b[1m{\u001b[0m                                                                                        \u001b[2m               \u001b[0m\n",
       "\u001b[2;36m           \u001b[0m    \u001b[32m'client_id'\u001b[0m: \u001b[1m[\u001b[0m\u001b[32m'https://staging-eudi-wallet.igrant.io'\u001b[0m\u001b[1m]\u001b[0m,                              \u001b[2m               \u001b[0m\n",
       "\u001b[2;36m           \u001b[0m    \u001b[32m'response_type'\u001b[0m: \u001b[1m[\u001b[0m\u001b[32m'vp_token'\u001b[0m\u001b[1m]\u001b[0m,                                                       \u001b[2m               \u001b[0m\n",
       "\u001b[2;36m           \u001b[0m    \u001b[32m'scope'\u001b[0m: \u001b[1m[\u001b[0m\u001b[32m'openid'\u001b[0m\u001b[1m]\u001b[0m,                                                                 \u001b[2m               \u001b[0m\n",
       "\u001b[2;36m           \u001b[0m    \u001b[32m'redirect_uri'\u001b[0m: \u001b[1m[\u001b[0m\u001b[32m'https://staging-eudi-wallet.igrant.io/direct_post'\u001b[0m\u001b[1m]\u001b[0m,               \u001b[2m               \u001b[0m\n",
       "\u001b[2;36m           \u001b[0m    \u001b[32m'request_uri'\u001b[0m: \u001b[1m[\u001b[0m                                                                     \u001b[2m               \u001b[0m\n",
       "\u001b[2;36m           \u001b[0m        \u001b[32m'https://staging-eudi-wallet.igrant.io/verifiable-presentation/bae9a2e2-e3d4-478\u001b[0m \u001b[2m               \u001b[0m\n",
       "\u001b[2;36m           \u001b[0m\u001b[32m9-b912-f4e53034da3d'\u001b[0m                                                                     \u001b[2m               \u001b[0m\n",
       "\u001b[2;36m           \u001b[0m    \u001b[1m]\u001b[0m,                                                                                   \u001b[2m               \u001b[0m\n",
       "\u001b[2;36m           \u001b[0m    \u001b[32m'response_mode'\u001b[0m: \u001b[1m[\u001b[0m\u001b[32m'direct_post'\u001b[0m\u001b[1m]\u001b[0m,                                                    \u001b[2m               \u001b[0m\n",
       "\u001b[2;36m           \u001b[0m    \u001b[32m'state'\u001b[0m: \u001b[1m[\u001b[0m\u001b[32m'b4340e6b-4f48-4660-8025-61ee420958d3'\u001b[0m\u001b[1m]\u001b[0m,                                   \u001b[2m               \u001b[0m\n",
       "\u001b[2;36m           \u001b[0m    \u001b[32m'nonce'\u001b[0m: \u001b[1m[\u001b[0m\u001b[32m'2045c3ce-bbe7-4429-8294-aae7bb44b13c'\u001b[0m\u001b[1m]\u001b[0m,                                   \u001b[2m               \u001b[0m\n",
       "\u001b[2;36m           \u001b[0m    \u001b[32m'presentation_definition'\u001b[0m: \u001b[1m[\u001b[0m                                                         \u001b[2m               \u001b[0m\n",
       "\u001b[2;36m           \u001b[0m        \u001b[32m'\u001b[0m\u001b[32m{\u001b[0m\u001b[32m\"id\": \"ea516a3b-0502-4ef8-a217-a0453284c39b\", \"format\": \u001b[0m\u001b[32m{\u001b[0m\u001b[32m\"jwt_vc\": \u001b[0m\u001b[32m{\u001b[0m\u001b[32m\"alg\": \u001b[0m    \u001b[2m               \u001b[0m\n",
       "\u001b[2;36m           \u001b[0m\u001b[32m[\u001b[0m\u001b[32m\"ES256\"\u001b[0m\u001b[32m]\u001b[0m\u001b[32m}\u001b[0m\u001b[32m, \"jwt_vp\": \u001b[0m\u001b[32m{\u001b[0m\u001b[32m\"alg\": \u001b[0m\u001b[32m[\u001b[0m\u001b[32m\"ES256\"\u001b[0m\u001b[32m]\u001b[0m\u001b[32m}\u001b[0m\u001b[32m}\u001b[0m\u001b[32m, \"input_descriptors\": \u001b[0m\u001b[32m[\u001b[0m\u001b[32m{\u001b[0m\u001b[32m\"id\": \u001b[0m                 \u001b[2m               \u001b[0m\n",
       "\u001b[2;36m           \u001b[0m\u001b[32m\"cbdb4122-209c-49b2-be89-9c6ffd26fe4e\", \"constraints\": \u001b[0m\u001b[32m{\u001b[0m\u001b[32m\"fields\": \u001b[0m\u001b[32m[\u001b[0m\u001b[32m{\u001b[0m\u001b[32m\"path\": \u001b[0m\u001b[32m[\u001b[0m\u001b[32m\"$.type\"\u001b[0m\u001b[32m]\u001b[0m\u001b[32m, \u001b[0m \u001b[2m               \u001b[0m\n",
       "\u001b[2;36m           \u001b[0m\u001b[32m\"filter\": \u001b[0m\u001b[32m{\u001b[0m\u001b[32m\"type\": \"array\", \"contains\": \u001b[0m\u001b[32m{\u001b[0m\u001b[32m\"const\": \u001b[0m                                       \u001b[2m               \u001b[0m\n",
       "\u001b[2;36m           \u001b[0m\u001b[32m\"VerifiablePortableDocumentA1\"\u001b[0m\u001b[32m}\u001b[0m\u001b[32m}\u001b[0m\u001b[32m}\u001b[0m\u001b[32m]\u001b[0m\u001b[32m}\u001b[0m\u001b[32m}\u001b[0m\u001b[32m]\u001b[0m\u001b[32m}\u001b[0m\u001b[32m'\u001b[0m                                                  \u001b[2m               \u001b[0m\n",
       "\u001b[2;36m           \u001b[0m    \u001b[1m]\u001b[0m                                                                                    \u001b[2m               \u001b[0m\n",
       "\u001b[2;36m           \u001b[0m\u001b[1m}\u001b[0m                                                                                        \u001b[2m               \u001b[0m\n"
      ]
     },
     "metadata": {},
     "output_type": "display_data"
    }
   ],
   "source": [
    "from eudi_wallet.util import parse_query_string_parameters_from_url\n",
    "\n",
    "qr_code_data = \"openid://?client_id=https%3A%2F%2Fstaging-eudi-wallet.igrant.io&response_type=vp_token&scope=openid&redirect_uri=https%3A%2F%2Fstaging-eudi-wallet.igrant.io%2Fdirect_post&request_uri=https%3A%2F%2Fstaging-eudi-wallet.igrant.io%2Fverifiable-presentation%2Fbae9a2e2-e3d4-4789-b912-f4e53034da3d&response_mode=direct_post&state=b4340e6b-4f48-4660-8025-61ee420958d3&nonce=2045c3ce-bbe7-4429-8294-aae7bb44b13c&presentation_definition=%7B%22id%22%3A+%22ea516a3b-0502-4ef8-a217-a0453284c39b%22%2C+%22format%22%3A+%7B%22jwt_vc%22%3A+%7B%22alg%22%3A+%5B%22ES256%22%5D%7D%2C+%22jwt_vp%22%3A+%7B%22alg%22%3A+%5B%22ES256%22%5D%7D%7D%2C+%22input_descriptors%22%3A+%5B%7B%22id%22%3A+%22cbdb4122-209c-49b2-be89-9c6ffd26fe4e%22%2C+%22constraints%22%3A+%7B%22fields%22%3A+%5B%7B%22path%22%3A+%5B%22%24.type%22%5D%2C+%22filter%22%3A+%7B%22type%22%3A+%22array%22%2C+%22contains%22%3A+%7B%22const%22%3A+%22VerifiablePortableDocumentA1%22%7D%7D%7D%5D%7D%7D%5D%7D\"\n",
    "qr_code_data = qr_code_data.replace(\"openid-credential-offer://\", \"\")\n",
    "vp_token_request = parse_query_string_parameters_from_url(\n",
    "    qr_code_data)\n",
    "console.log(\"VP token request: \", vp_token_request)\n",
    "\n",
    "# credential_offer = await accept_and_fetch_credential_offer(credential_offer_uri)\n",
    "# console.log(\"Credential offer: \", credential_offer)\n",
    "\n",
    "# credential_issuer_configuration = await fetch_openid_credential_issuer_configuration(credential_offer.credential_issuer)\n",
    "# console.log(\"Credential issuer configuration: \", credential_issuer_configuration)\n",
    "\n",
    "# auth_server_configuration = await fetch_openid_auth_server_configuration(\"https://api.pda1.test.esspass-poc.eu/verifier\")\n",
    "# console.log(\"Authorization server configuration: \", auth_server_configuration)"
   ]
  },
  {
   "attachments": {},
   "cell_type": "markdown",
   "metadata": {},
   "source": [
    "## 1.2 Perform authorization request and obtain VP token request"
   ]
  },
  {
   "cell_type": "code",
   "execution_count": 42,
   "metadata": {},
   "outputs": [
    {
     "data": {
      "text/html": [
       "<pre style=\"white-space:pre;overflow-x:auto;line-height:normal;font-family:Menlo,'DejaVu Sans Mono',consolas,'Courier New',monospace\"><span style=\"color: #7fbfbf; text-decoration-color: #7fbfbf\">           </span>Presentation definition:                                                                <a href=\"file:///tmp/ipykernel_33540/1745294857.py\" target=\"_blank\"><span style=\"color: #7f7f7f; text-decoration-color: #7f7f7f\">1745294857.py</span></a><span style=\"color: #7f7f7f; text-decoration-color: #7f7f7f\">:</span><a href=\"file:///tmp/ipykernel_33540/1745294857.py#13\" target=\"_blank\"><span style=\"color: #7f7f7f; text-decoration-color: #7f7f7f\">13</span></a>\n",
       "<span style=\"color: #7fbfbf; text-decoration-color: #7fbfbf\">           </span><span style=\"font-weight: bold\">{</span>                                                                                       <span style=\"color: #7f7f7f; text-decoration-color: #7f7f7f\">                </span>\n",
       "<span style=\"color: #7fbfbf; text-decoration-color: #7fbfbf\">           </span>    <span style=\"color: #008000; text-decoration-color: #008000\">'id'</span>: <span style=\"color: #008000; text-decoration-color: #008000\">'ea516a3b-0502-4ef8-a217-a0453284c39b'</span>,                                       <span style=\"color: #7f7f7f; text-decoration-color: #7f7f7f\">                </span>\n",
       "<span style=\"color: #7fbfbf; text-decoration-color: #7fbfbf\">           </span>    <span style=\"color: #008000; text-decoration-color: #008000\">'format'</span>: <span style=\"font-weight: bold\">{</span><span style=\"color: #008000; text-decoration-color: #008000\">'jwt_vc'</span>: <span style=\"font-weight: bold\">{</span><span style=\"color: #008000; text-decoration-color: #008000\">'alg'</span>: <span style=\"font-weight: bold\">[</span><span style=\"color: #008000; text-decoration-color: #008000\">'ES256'</span><span style=\"font-weight: bold\">]}</span>, <span style=\"color: #008000; text-decoration-color: #008000\">'jwt_vp'</span>: <span style=\"font-weight: bold\">{</span><span style=\"color: #008000; text-decoration-color: #008000\">'alg'</span>: <span style=\"font-weight: bold\">[</span><span style=\"color: #008000; text-decoration-color: #008000\">'ES256'</span><span style=\"font-weight: bold\">]}}</span>,             <span style=\"color: #7f7f7f; text-decoration-color: #7f7f7f\">                </span>\n",
       "<span style=\"color: #7fbfbf; text-decoration-color: #7fbfbf\">           </span>    <span style=\"color: #008000; text-decoration-color: #008000\">'input_descriptors'</span>: <span style=\"font-weight: bold\">[</span>                                                              <span style=\"color: #7f7f7f; text-decoration-color: #7f7f7f\">                </span>\n",
       "<span style=\"color: #7fbfbf; text-decoration-color: #7fbfbf\">           </span>        <span style=\"font-weight: bold\">{</span>                                                                               <span style=\"color: #7f7f7f; text-decoration-color: #7f7f7f\">                </span>\n",
       "<span style=\"color: #7fbfbf; text-decoration-color: #7fbfbf\">           </span>            <span style=\"color: #008000; text-decoration-color: #008000\">'id'</span>: <span style=\"color: #008000; text-decoration-color: #008000\">'cbdb4122-209c-49b2-be89-9c6ffd26fe4e'</span>,                               <span style=\"color: #7f7f7f; text-decoration-color: #7f7f7f\">                </span>\n",
       "<span style=\"color: #7fbfbf; text-decoration-color: #7fbfbf\">           </span>            <span style=\"color: #008000; text-decoration-color: #008000\">'constraints'</span>: <span style=\"font-weight: bold\">{</span>                                                            <span style=\"color: #7f7f7f; text-decoration-color: #7f7f7f\">                </span>\n",
       "<span style=\"color: #7fbfbf; text-decoration-color: #7fbfbf\">           </span>                <span style=\"color: #008000; text-decoration-color: #008000\">'fields'</span>: <span style=\"font-weight: bold\">[</span>                                                             <span style=\"color: #7f7f7f; text-decoration-color: #7f7f7f\">                </span>\n",
       "<span style=\"color: #7fbfbf; text-decoration-color: #7fbfbf\">           </span>                    <span style=\"font-weight: bold\">{</span>                                                                   <span style=\"color: #7f7f7f; text-decoration-color: #7f7f7f\">                </span>\n",
       "<span style=\"color: #7fbfbf; text-decoration-color: #7fbfbf\">           </span>                        <span style=\"color: #008000; text-decoration-color: #008000\">'path'</span>: <span style=\"font-weight: bold\">[</span><span style=\"color: #008000; text-decoration-color: #008000\">'$.type'</span><span style=\"font-weight: bold\">]</span>,                                             <span style=\"color: #7f7f7f; text-decoration-color: #7f7f7f\">                </span>\n",
       "<span style=\"color: #7fbfbf; text-decoration-color: #7fbfbf\">           </span>                        <span style=\"color: #008000; text-decoration-color: #008000\">'filter'</span>: <span style=\"font-weight: bold\">{</span>                                                     <span style=\"color: #7f7f7f; text-decoration-color: #7f7f7f\">                </span>\n",
       "<span style=\"color: #7fbfbf; text-decoration-color: #7fbfbf\">           </span>                            <span style=\"color: #008000; text-decoration-color: #008000\">'type'</span>: <span style=\"color: #008000; text-decoration-color: #008000\">'array'</span>,                                            <span style=\"color: #7f7f7f; text-decoration-color: #7f7f7f\">                </span>\n",
       "<span style=\"color: #7fbfbf; text-decoration-color: #7fbfbf\">           </span>                            <span style=\"color: #008000; text-decoration-color: #008000\">'contains'</span>: <span style=\"font-weight: bold\">{</span><span style=\"color: #008000; text-decoration-color: #008000\">'const'</span>: <span style=\"color: #008000; text-decoration-color: #008000\">'VerifiablePortableDocumentA1'</span><span style=\"font-weight: bold\">}</span>       <span style=\"color: #7f7f7f; text-decoration-color: #7f7f7f\">                </span>\n",
       "<span style=\"color: #7fbfbf; text-decoration-color: #7fbfbf\">           </span>                        <span style=\"font-weight: bold\">}</span>                                                               <span style=\"color: #7f7f7f; text-decoration-color: #7f7f7f\">                </span>\n",
       "<span style=\"color: #7fbfbf; text-decoration-color: #7fbfbf\">           </span>                    <span style=\"font-weight: bold\">}</span>                                                                   <span style=\"color: #7f7f7f; text-decoration-color: #7f7f7f\">                </span>\n",
       "<span style=\"color: #7fbfbf; text-decoration-color: #7fbfbf\">           </span>                <span style=\"font-weight: bold\">]</span>                                                                       <span style=\"color: #7f7f7f; text-decoration-color: #7f7f7f\">                </span>\n",
       "<span style=\"color: #7fbfbf; text-decoration-color: #7fbfbf\">           </span>            <span style=\"font-weight: bold\">}</span>                                                                           <span style=\"color: #7f7f7f; text-decoration-color: #7f7f7f\">                </span>\n",
       "<span style=\"color: #7fbfbf; text-decoration-color: #7fbfbf\">           </span>        <span style=\"font-weight: bold\">}</span>                                                                               <span style=\"color: #7f7f7f; text-decoration-color: #7f7f7f\">                </span>\n",
       "<span style=\"color: #7fbfbf; text-decoration-color: #7fbfbf\">           </span>    <span style=\"font-weight: bold\">]</span>                                                                                   <span style=\"color: #7f7f7f; text-decoration-color: #7f7f7f\">                </span>\n",
       "<span style=\"color: #7fbfbf; text-decoration-color: #7fbfbf\">           </span><span style=\"font-weight: bold\">}</span>                                                                                       <span style=\"color: #7f7f7f; text-decoration-color: #7f7f7f\">                </span>\n",
       "</pre>\n"
      ],
      "text/plain": [
       "\u001b[2;36m          \u001b[0m\u001b[2;36m \u001b[0mPresentation definition:                                                                \u001b]8;id=415857;file:///tmp/ipykernel_33540/1745294857.py\u001b\\\u001b[2m1745294857.py\u001b[0m\u001b]8;;\u001b\\\u001b[2m:\u001b[0m\u001b]8;id=788619;file:///tmp/ipykernel_33540/1745294857.py#13\u001b\\\u001b[2m13\u001b[0m\u001b]8;;\u001b\\\n",
       "\u001b[2;36m           \u001b[0m\u001b[1m{\u001b[0m                                                                                       \u001b[2m                \u001b[0m\n",
       "\u001b[2;36m           \u001b[0m    \u001b[32m'id'\u001b[0m: \u001b[32m'ea516a3b-0502-4ef8-a217-a0453284c39b'\u001b[0m,                                       \u001b[2m                \u001b[0m\n",
       "\u001b[2;36m           \u001b[0m    \u001b[32m'format'\u001b[0m: \u001b[1m{\u001b[0m\u001b[32m'jwt_vc'\u001b[0m: \u001b[1m{\u001b[0m\u001b[32m'alg'\u001b[0m: \u001b[1m[\u001b[0m\u001b[32m'ES256'\u001b[0m\u001b[1m]\u001b[0m\u001b[1m}\u001b[0m, \u001b[32m'jwt_vp'\u001b[0m: \u001b[1m{\u001b[0m\u001b[32m'alg'\u001b[0m: \u001b[1m[\u001b[0m\u001b[32m'ES256'\u001b[0m\u001b[1m]\u001b[0m\u001b[1m}\u001b[0m\u001b[1m}\u001b[0m,             \u001b[2m                \u001b[0m\n",
       "\u001b[2;36m           \u001b[0m    \u001b[32m'input_descriptors'\u001b[0m: \u001b[1m[\u001b[0m                                                              \u001b[2m                \u001b[0m\n",
       "\u001b[2;36m           \u001b[0m        \u001b[1m{\u001b[0m                                                                               \u001b[2m                \u001b[0m\n",
       "\u001b[2;36m           \u001b[0m            \u001b[32m'id'\u001b[0m: \u001b[32m'cbdb4122-209c-49b2-be89-9c6ffd26fe4e'\u001b[0m,                               \u001b[2m                \u001b[0m\n",
       "\u001b[2;36m           \u001b[0m            \u001b[32m'constraints'\u001b[0m: \u001b[1m{\u001b[0m                                                            \u001b[2m                \u001b[0m\n",
       "\u001b[2;36m           \u001b[0m                \u001b[32m'fields'\u001b[0m: \u001b[1m[\u001b[0m                                                             \u001b[2m                \u001b[0m\n",
       "\u001b[2;36m           \u001b[0m                    \u001b[1m{\u001b[0m                                                                   \u001b[2m                \u001b[0m\n",
       "\u001b[2;36m           \u001b[0m                        \u001b[32m'path'\u001b[0m: \u001b[1m[\u001b[0m\u001b[32m'$.type'\u001b[0m\u001b[1m]\u001b[0m,                                             \u001b[2m                \u001b[0m\n",
       "\u001b[2;36m           \u001b[0m                        \u001b[32m'filter'\u001b[0m: \u001b[1m{\u001b[0m                                                     \u001b[2m                \u001b[0m\n",
       "\u001b[2;36m           \u001b[0m                            \u001b[32m'type'\u001b[0m: \u001b[32m'array'\u001b[0m,                                            \u001b[2m                \u001b[0m\n",
       "\u001b[2;36m           \u001b[0m                            \u001b[32m'contains'\u001b[0m: \u001b[1m{\u001b[0m\u001b[32m'const'\u001b[0m: \u001b[32m'VerifiablePortableDocumentA1'\u001b[0m\u001b[1m}\u001b[0m       \u001b[2m                \u001b[0m\n",
       "\u001b[2;36m           \u001b[0m                        \u001b[1m}\u001b[0m                                                               \u001b[2m                \u001b[0m\n",
       "\u001b[2;36m           \u001b[0m                    \u001b[1m}\u001b[0m                                                                   \u001b[2m                \u001b[0m\n",
       "\u001b[2;36m           \u001b[0m                \u001b[1m]\u001b[0m                                                                       \u001b[2m                \u001b[0m\n",
       "\u001b[2;36m           \u001b[0m            \u001b[1m}\u001b[0m                                                                           \u001b[2m                \u001b[0m\n",
       "\u001b[2;36m           \u001b[0m        \u001b[1m}\u001b[0m                                                                               \u001b[2m                \u001b[0m\n",
       "\u001b[2;36m           \u001b[0m    \u001b[1m]\u001b[0m                                                                                   \u001b[2m                \u001b[0m\n",
       "\u001b[2;36m           \u001b[0m\u001b[1m}\u001b[0m                                                                                       \u001b[2m                \u001b[0m\n"
      ]
     },
     "metadata": {},
     "output_type": "display_data"
    }
   ],
   "source": [
    "from eudi_wallet.siop_auth.util import (\n",
    "    generate_code_verifier\n",
    ")\n",
    "import uuid\n",
    "import json\n",
    "\n",
    "state = str(uuid.uuid4())\n",
    "nonce = str(uuid.uuid4())\n",
    "code_verifier = generate_code_verifier()\n",
    "\n",
    "\n",
    "presentation_definition = json.loads(vp_token_request['presentation_definition'][0])\n",
    "console.log(\"Presentation definition: \", presentation_definition)\n",
    "\n",
    "client_id = vp_token_request['client_id'][0]\n",
    "nonce = vp_token_request['nonce'][0]\n",
    "redirect_uri = vp_token_request['redirect_uri'][0]\n",
    "state = vp_token_request['state'][0]"
   ]
  },
  {
   "attachments": {},
   "cell_type": "markdown",
   "metadata": {},
   "source": [
    "## 1.3 Send VP token"
   ]
  },
  {
   "cell_type": "code",
   "execution_count": 43,
   "metadata": {},
   "outputs": [
    {
     "name": "stdout",
     "output_type": "stream",
     "text": [
      "\n"
     ]
    },
    {
     "data": {
      "text/html": [
       "<pre style=\"white-space:pre;overflow-x:auto;line-height:normal;font-family:Menlo,'DejaVu Sans Mono',consolas,'Courier New',monospace\"><span style=\"color: #7fbfbf; text-decoration-color: #7fbfbf\">[14:08:54] </span>Auth code response:  openid:<span style=\"color: #800080; text-decoration-color: #800080\">//</span>?<span style=\"color: #808000; text-decoration-color: #808000\">code</span>=<span style=\"color: #ffff00; text-decoration-color: #ffff00\">e6332fb6</span><span style=\"color: #ffff00; text-decoration-color: #ffff00\">-ea89-4e4f-a5ba-6923cb595cd5</span>                 <a href=\"file:///tmp/ipykernel_33540/338011212.py\" target=\"_blank\"><span style=\"color: #7f7f7f; text-decoration-color: #7f7f7f\">338011212.py</span></a><span style=\"color: #7f7f7f; text-decoration-color: #7f7f7f\">:</span><a href=\"file:///tmp/ipykernel_33540/338011212.py#13\" target=\"_blank\"><span style=\"color: #7f7f7f; text-decoration-color: #7f7f7f\">13</span></a>\n",
       "</pre>\n"
      ],
      "text/plain": [
       "\u001b[2;36m[14:08:54]\u001b[0m\u001b[2;36m \u001b[0mAuth code response:  openid:\u001b[35m/\u001b[0m\u001b[35m/\u001b[0m?\u001b[33mcode\u001b[0m=\u001b[93me6332fb6\u001b[0m\u001b[93m-ea89-4e4f-a5ba-6923cb595cd5\u001b[0m                 \u001b]8;id=696549;file:///tmp/ipykernel_33540/338011212.py\u001b\\\u001b[2m338011212.py\u001b[0m\u001b]8;;\u001b\\\u001b[2m:\u001b[0m\u001b]8;id=718905;file:///tmp/ipykernel_33540/338011212.py#13\u001b\\\u001b[2m13\u001b[0m\u001b]8;;\u001b\\\n"
      ]
     },
     "metadata": {},
     "output_type": "display_data"
    },
    {
     "data": {
      "text/html": [
       "<pre style=\"white-space:pre;overflow-x:auto;line-height:normal;font-family:Menlo,'DejaVu Sans Mono',consolas,'Courier New',monospace\"><span style=\"color: #7fbfbf; text-decoration-color: #7fbfbf\">           </span>Authorization code:  <span style=\"color: #ffff00; text-decoration-color: #ffff00\">e6332fb6-ea89-4e4f-a5ba-6923cb595cd5</span>                                <a href=\"file:///tmp/ipykernel_33540/338011212.py\" target=\"_blank\"><span style=\"color: #7f7f7f; text-decoration-color: #7f7f7f\">338011212.py</span></a><span style=\"color: #7f7f7f; text-decoration-color: #7f7f7f\">:</span><a href=\"file:///tmp/ipykernel_33540/338011212.py#17\" target=\"_blank\"><span style=\"color: #7f7f7f; text-decoration-color: #7f7f7f\">17</span></a>\n",
       "</pre>\n"
      ],
      "text/plain": [
       "\u001b[2;36m          \u001b[0m\u001b[2;36m \u001b[0mAuthorization code:  \u001b[93me6332fb6-ea89-4e4f-a5ba-6923cb595cd5\u001b[0m                                \u001b]8;id=421596;file:///tmp/ipykernel_33540/338011212.py\u001b\\\u001b[2m338011212.py\u001b[0m\u001b]8;;\u001b\\\u001b[2m:\u001b[0m\u001b]8;id=226943;file:///tmp/ipykernel_33540/338011212.py#17\u001b\\\u001b[2m17\u001b[0m\u001b]8;;\u001b\\\n"
      ]
     },
     "metadata": {},
     "output_type": "display_data"
    }
   ],
   "source": [
    "from eudi_wallet.siop_auth.util import send_vp_token_response\n",
    "\n",
    "verifiable_credentials = [\n",
    "    'eyJhbGciOiJFUzI1NiIsImtpZCI6ImRpZDprZXk6ejJkbXpEODFjZ1B4OFZraTdKYnV1TW1GWXJXUGdZb3l0eWtVWjNleXFodDFqOUtic2NYYTF1R29lbnlmbVV5WUtkTVBWQ2dCUkpBd0VGaUgyQ1lqdHlmZmtMTDFzZFNTWm5Qckptb0dOZm16S1hGN202S0FxMVdjZXVLUlZTSkVxcXVvQkh6QWVpZm1zTW1GdmFIaVVacEhyRmZoa2hzeGZnUlZncWRSdjl3aWE3ZDVZOCN6MmRtekQ4MWNnUHg4VmtpN0pidXVNbUZZcldQZ1lveXR5a1VaM2V5cWh0MWo5S2JzY1hhMXVHb2VueWZtVXlZS2RNUFZDZ0JSSkF3RUZpSDJDWWp0eWZma0xMMXNkU1NablBySm1vR05mbXpLWEY3bTZLQXExV2NldUtSVlNKRXFxdW9CSHpBZWlmbXNNbUZ2YUhpVVpwSHJGZmhraHN4ZmdSVmdxZFJ2OXdpYTdkNVk4IiwidHlwIjoiSldUIn0.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.0TPz6lm8blgIRYelDd_AwzLH93vno0wjiTaMHgO7BUxXrN3cQupYAGPYmdaimyFGz2lHzd3SamVw2AVWCcrvXw',\n",
    "]\n",
    "vp_token = key_did.generate_vp_token_response(auth_server_uri=client_id, \n",
    "                                              nonce=nonce,\n",
    "                                              verifiable_credentials=verifiable_credentials)\n",
    "presentation_submission = '{\"id\":\"a30e3b91-fb77-4d22-95fa-871689c322e2\",\"definition_id\":\"essppda1\",\"descriptor_map\":[{\"id\":\"vp1\",\"path\":\"$\",\"format\":\"jwt_vp\",\"path_nested\":{\"id\":\"vp1\",\"format\":\"jwt_vc\",\"path\":\"$.verifiableCredential[0]\"}}]}'\n",
    "auth_code_response = await send_vp_token_response(redirect_uri, vp_token, presentation_submission, state)\n",
    "auth_code_response = str(auth_code_response).split(\"Location': '\")[1].split(\"'\")[0]\n",
    "\n",
    "console.log(\"Auth code response: \", auth_code_response)\n",
    "\n",
    "# state = parse_query_string_parameters_from_url(auth_code_response).get(\"state\")[0]\n",
    "auth_code = parse_query_string_parameters_from_url(auth_code_response).get(\"code\")[0]\n",
    "console.log(\"Authorization code: \", auth_code)"
   ]
  }
 ],
 "metadata": {
  "kernelspec": {
   "display_name": "ebsi-wallet-NqTUFGRW-py3.10",
   "language": "python",
   "name": "python3"
  },
  "language_info": {
   "codemirror_mode": {
    "name": "ipython",
    "version": 3
   },
   "file_extension": ".py",
   "mimetype": "text/x-python",
   "name": "python",
   "nbconvert_exporter": "python",
   "pygments_lexer": "ipython3",
   "version": "3.10.5"
  },
  "orig_nbformat": 4
 },
 "nbformat": 4,
 "nbformat_minor": 2
}
